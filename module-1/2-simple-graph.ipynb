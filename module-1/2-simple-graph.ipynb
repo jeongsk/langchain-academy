{
 "cells": [
  {
   "cell_type": "markdown",
   "id": "cb6e6364",
   "metadata": {},
   "source": [
    "[![Open in Colab](https://colab.research.google.com/assets/colab-badge.svg)](https://colab.research.google.com/github/langchain-ai/langchain-academy/blob/main/module-1/simple-graph.ipynb) [![Open in LangChain Academy](https://cdn.prod.website-files.com/65b8cd72835ceeacd4449a53/66e9eba12c7b7688aa3dbb5e_LCA-badge-green.svg)](https://academy.langchain.com/courses/take/intro-to-langgraph/lessons/58238187-lesson-2-simple-graph)"
   ]
  },
  {
   "cell_type": "markdown",
   "id": "fdbe6ef7",
   "metadata": {},
   "source": [
    "# 간단한 그래프\n",
    "\n",
    "3개의 정점과 하나의 조건부 변을 가진 간단한 그래프를 만들어 보자.\n",
    "\n",
    "![](https://i.imgur.com/mFFhK0D.png)"
   ]
  },
  {
   "cell_type": "code",
   "execution_count": 1,
   "id": "578d9543",
   "metadata": {},
   "outputs": [],
   "source": [
    "%%capture --no-stderr\n",
    "%pip install --quiet -U langgraph"
   ]
  },
  {
   "cell_type": "markdown",
   "id": "23352f22",
   "metadata": {},
   "source": [
    "## State(상태)\n",
    "\n",
    "먼저 그래프의 [State](https://langchain-ai.github.io/langgraph/concepts/low_level/#state)를 정의합니다.\n",
    "\n",
    "State 스키마는 그래프 내 모든 Nodes와 Edges의 입력 스키마 역할을 합니다.\n",
    "\n",
    "키에 대한 타입 힌트를 제공하는 Python의 `typing` 모듈의 `TypedDict` 클래스를 스키마로 사용합니다."
   ]
  },
  {
   "cell_type": "code",
   "execution_count": null,
   "id": "888a2c77",
   "metadata": {},
   "outputs": [],
   "source": [
    "from typing import TypedDict\n",
    "\n",
    "# State\n",
    "class State(TypedDict):\n",
    "  graph_state: str"
   ]
  },
  {
   "cell_type": "markdown",
   "id": "f3e53df6",
   "metadata": {},
   "source": [
    "## Nodes(노드)\n",
    "\n",
    "[Nodes](https://langchain-ai.github.io/langgraph/concepts/low_level/#nodes)는 단순히 파이썬 함수입니다.\n",
    "\n",
    "첫 번째 위치 인자는 위에서 정의한 State입니다.\n",
    "\n",
    "State는 위에서 정의한 스키마를 가진 `TypedDict`이므로, 각 노드는 `state[\"graph_state\"]`로 `graph_state` 키에 접근할 수 있습니다.\n",
    "\n",
    "각 Nodes는 State 키 `graph_state`의 새 값을 반환합니다.\n",
    "\n",
    "기본적으로 각 Nodes가 반환하는 새 값은 기존 State 값을 [덮어씁니다](https://langchain-ai.github.io/langgraph/concepts/low_level/#reducers)."
   ]
  },
  {
   "cell_type": "code",
   "execution_count": null,
   "id": "dc6fcfcd",
   "metadata": {},
   "outputs": [],
   "source": [
    "# Nodes\n",
    "def node_1(state: State) -> State:\n",
    "  print(\"--- Node 1 ---\")\n",
    "  return State(graph_state=state['graph_state'] + \" I am\")\n",
    "\n",
    "def node_2(state: State) -> State:\n",
    "  print(\"--- Node 2 ---\")\n",
    "  return State(graph_state=state['graph_state'] + \" happy!\")\n",
    "\n",
    "def node_3(state: State) -> State:\n",
    "  print(\"--- Node 3 ---\")\n",
    "  return State(graph_state=state['graph_state'] + \" sad!\")"
   ]
  },
  {
   "cell_type": "markdown",
   "id": "6ce9e683",
   "metadata": {},
   "source": [
    "## Edges(에지)\n",
    "\n",
    "[Edges](https://langchain-ai.github.io/langgraph/concepts/low_level/#edges)는 Nodes를 연결합니다.\n",
    "\n",
    "일반적인 Edges는 예를 들어 `node_1`에서 `node_2`로 항상 이동하고 싶을 때 사용합니다.\n",
    "\n",
    "[조건부 에지(Conditional Edges)](https://langchain-ai.github.io/langgraph/concepts/low_level/#conditional-edges)는 각 Nodes 간 경로를 _선택적으로_ 설정하고자 할 때 사용합니다.\n",
    "\n",
    "조건부 에지는 특정 조건에 따라 다음 방문 Nodes를 반환하는 함수로 구현됩니다."
   ]
  },
  {
   "cell_type": "code",
   "execution_count": null,
   "id": "329d0576",
   "metadata": {},
   "outputs": [],
   "source": [
    "from random import random \n",
    "from typing import Literal\n",
    "\n",
    "# Conditional edge\n",
    "def decide_mood(state: State) -> Literal[\"node_2\", \"node_3\"]:\n",
    "    if random() > 0.5:\n",
    "        return \"node_2\"\n",
    "    else:\n",
    "        return \"node_3\""
   ]
  },
  {
   "cell_type": "markdown",
   "id": "ff8b519a",
   "metadata": {},
   "source": [
    "## 그래프 생성\n",
    "\n",
    "이제 위에서 정의한 [컴포넌트(components)](https://langchain-ai.github.io/langgraph/concepts/low_level/)로 그래프를 생성합니다.\n",
    "\n",
    "[StateGraph 클래스](https://langchain-ai.github.io/langgraph/concepts/low_level/#stategraph)는 사용할 수 있는 그래프 클래스입니다.\n",
    "\n",
    "먼저, 위에서 정의한 State 클래스로 StateGraph 클래스를 초기화합니다.\n",
    "\n",
    "그런 다음 Nodes와 Edges를 추가합니다.\n",
    "\n",
    "그래스 시작 지점을 나타내기 위해 사용자 입력을 그래프로 보내는 특수 노드인 [`START` 노드](https://langchain-ai.github.io/langgraph/concepts/low_level/#start-node)를 사용합니다.\n",
    "\n",
    "[`END` 노드](https://langchain-ai.github.io/langgraph/concepts/low_level/#end-node)는 종단 노드를 나타내는 특수 노드입니다.\n",
    "\n",
    "마지막으로 그래프 구조에 대한 기본 검사를 수행하기 위해 [그래프를 컴파일](https://langchain-ai.github.io/langgraph/concepts/low_level/#compiling-your-graph)합니다."
   ]
  },
  {
   "cell_type": "code",
   "execution_count": null,
   "id": "8413c94b",
   "metadata": {},
   "outputs": [],
   "source": [
    "from langgraph.graph import StateGraph, START, END\n",
    "\n",
    "# Build Graph\n",
    "builder = StateGraph(State)\n",
    "builder.add_node(\"node_1\", node_1)\n",
    "builder.add_node(\"node_2\", node_2)\n",
    "builder.add_node(\"node_3\", node_3)\n",
    "\n",
    "# Logic\n",
    "builder.add_edge(START, \"node_1\")\n",
    "builder.add_conditional_edges(\"node_1\", decide_mood)\n",
    "builder.add_edge(\"node_2\", END)\n",
    "builder.add_edge(\"node_3\", END)\n",
    "\n",
    "# Compile\n",
    "graph = builder.compile()"
   ]
  },
  {
   "cell_type": "markdown",
   "id": "be6d9bb7",
   "metadata": {},
   "source": [
    "그래프를 [Mermaid 다이어그램](https://github.com/mermaid-js/mermaid)으로 시각화할 수 있습니다."
   ]
  },
  {
   "cell_type": "code",
   "execution_count": 6,
   "id": "e52f5998",
   "metadata": {},
   "outputs": [
    {
     "name": "stdout",
     "output_type": "stream",
     "text": [
      "---\n",
      "config:\n",
      "  flowchart:\n",
      "    curve: linear\n",
      "---\n",
      "graph TD;\n",
      "\t__start__([<p>__start__</p>]):::first\n",
      "\tnode_1(node_1)\n",
      "\tnode_2(node_2)\n",
      "\tnode_3(node_3)\n",
      "\t__end__([<p>__end__</p>]):::last\n",
      "\t__start__ --> node_1;\n",
      "\tnode_1 -.-> node_2;\n",
      "\tnode_1 -.-> node_3;\n",
      "\tnode_2 --> __end__;\n",
      "\tnode_3 --> __end__;\n",
      "\tclassDef default fill:#f2f0ff,line-height:1.2\n",
      "\tclassDef first fill-opacity:0\n",
      "\tclassDef last fill:#bfb6fc\n",
      "\n"
     ]
    },
    {
     "data": {
      "image/png": "[encoded data removed]",
      "text/plain": [
       "<IPython.core.display.Image object>"
      ]
     },
     "metadata": {},
     "output_type": "display_data"
    }
   ],
   "source": [
    "from IPython.display import display, Image\n",
    "\n",
    "print(graph.get_graph().draw_mermaid())\n",
    "display(Image(graph.get_graph().draw_mermaid_png()))"
   ]
  },
  {
   "cell_type": "markdown",
   "id": "c7468403",
   "metadata": {},
   "source": [
    "## 그래프 호출(Graph Invocation)\n",
    "\n",
    "컴파일된 그래프는 [runnable](https://python.langchain.com/docs/concepts/runnables/) 프로토콜을 구현합니다.\n",
    "\n",
    "이는 LangChain 컴포넌트를 실행하는 표준적인 방법을 제공합니다.\n",
    "\n",
    "`invoke`는 이 인터페이스의 표준 메서드 중 하나입니다.\n",
    "\n",
    "입력은 사전 `{\"graph_state\": \"Hi, this is lance.\"}`로, 그래프 상태 사전의 초기값을 설정합니다.\n",
    "\n",
    "`invoke`가 호출되면 그래프는 `START` 노드에서 실행을 시작합니다.\n",
    "\n",
    "정의된 노드(`node_1`, `node_2`, `node_3`)를 순서대로 진행합니다.\n",
    "\n",
    "조건부 에지는 50/50 결정 규칙을 사용하여 `node_1`에서 `node_2` 또는 `node_3`으로 이동합니다.\n",
    "\n",
    "각 노드 함수는 현재 상태를 받아 새로운 값을 반환하며, 이 값은 그래프 상태의 기존 값을 덮어씁니다.\n",
    "\n",
    "실행은 `END` 노드에 도달할 때까지 계속됩니다."
   ]
  },
  {
   "cell_type": "code",
   "execution_count": 7,
   "id": "baab7a10",
   "metadata": {},
   "outputs": [
    {
     "name": "stdout",
     "output_type": "stream",
     "text": [
      "--- Node 1 ---\n",
      "--- Node 3 ---\n"
     ]
    },
    {
     "data": {
      "text/plain": [
       "{'graph_state': 'Hi, this is Lance. I am sad!'}"
      ]
     },
     "execution_count": 7,
     "metadata": {},
     "output_type": "execute_result"
    }
   ],
   "source": [
    "graph.invoke(State(graph_state=\"Hi, this is Lance.\"))"
   ]
  },
  {
   "cell_type": "code",
   "execution_count": null,
   "id": "94812575",
   "metadata": {},
   "outputs": [],
   "source": []
  }
 ],
 "metadata": {
  "kernelspec": {
   "display_name": ".venv",
   "language": "python",
   "name": "python3"
  },
  "language_info": {
   "codemirror_mode": {
    "name": "ipython",
    "version": 3
   },
   "file_extension": ".py",
   "mimetype": "text/x-python",
   "name": "python",
   "nbconvert_exporter": "python",
   "pygments_lexer": "ipython3",
   "version": "3.12.11"
  }
 },
 "nbformat": 4,
 "nbformat_minor": 5
}
