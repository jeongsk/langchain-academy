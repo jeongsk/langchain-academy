{
 "cells": [
  {
   "cell_type": "markdown",
   "id": "7a5c2153",
   "metadata": {},
   "source": [
    "[![Open in Colab](https://colab.research.google.com/assets/colab-badge.svg)](https://colab.research.google.com/github/langchain-ai/langchain-academy/blob/main/module-4/research-assistant.ipynb) [![Open in LangChain Academy](https://cdn.prod.website-files.com/65b8cd72835ceeacd4449a53/66e9eba12c7b7688aa3dbb5e_LCA-badge-green.svg)](https://academy.langchain.com/courses/take/intro-to-langgraph/lessons/58239974-lesson-4-research-assistant)"
   ]
  },
  {
   "attachments": {},
   "cell_type": "markdown",
   "id": "e0a5763f-5f45-4b8f-b3e2-480f46c5721b",
   "metadata": {},
   "source": [
    "# 리서치 어시스턴트 (Research Assistant)\n",
    "\n",
    "## 복습\n",
    "\n",
    "지금까지 LangGraph의 몇 가지 주요 주제를 다루었습니다:\n",
    "\n",
    "  * 메모리 (Memory)\n",
    "  * 휴먼-인-더-루프 (Human-in-the-loop)\n",
    "  * 제어 가능성 (Controllability)\n",
    "\n",
    "이제 이 개념들을 모두 합쳐 AI의 가장 인기 있는 애플리케이션 중 하나인 **리서치 자동화**에 도전해 보겠습니다.\n",
    "\n",
    "리서치는 종종 분석가에게 맡겨지는 힘든 작업이며, AI는 이 과정을 돕는 데 상당한 잠재력을 가지고 있습니다.\n",
    "\n",
    "하지만 리서치에는 맞춤화(customization)가 필요합니다. 정제되지 않은 LLM의 결과물은 실제 의사 결정 워크플로우에 적합하지 않은 경우가 많기 때문입니다.\n",
    "\n",
    "AI 기반의 맞춤형 [리서치 및 보고서 생성](https://jxnl.co/writing/2024/06/05/predictions-for-the-future-of-rag/#reports-over-rag) 워크플로우는 이 문제를 해결할 유망한 방법입니다.\n",
    "\n",
    "## 목표\n",
    "\n",
    "우리의 목표는 챗 모델을 기반으로 리서치 과정을 맞춤화하는 경량의 다중 에이전트(multi-agent) 시스템을 구축하는 것입니다.\n",
    "\n",
    "`소스 선택`\n",
    "\n",
    "  * 사용자는 리서치에 사용할 입력 소스를 자유롭게 선택할 수 있습니다.\n",
    "\n",
    "`계획 수립`\n",
    "\n",
    "  * 사용자가 주제를 제공하면, 시스템은 각각 하나의 하위 주제에 집중하는 AI 분석가 팀을 생성합니다.\n",
    "  * 리서치가 시작되기 전, `휴먼-인-더-루프(Human-in-the-loop)`를 통해 이러한 하위 주제를 다듬게 됩니다.\n",
    "\n",
    "`LLM 활용`\n",
    "\n",
    "  * 각 분석가는 선택된 소스를 사용하여 전문가 AI와 심층 인터뷰를 진행합니다.\n",
    "  * 이 인터뷰는 [STORM](https://arxiv.org/abs/2402.14207) 논문에서 제시된 것처럼 상세한 인사이트를 추출하기 위한 다중 턴(multi-turn) 대화로 이루어집니다.\n",
    "  * `서브 그래프(sub-graphs)`와 그 내부 상태를 사용하여 이러한 인터뷰 내용이 기록됩니다.\n",
    "\n",
    "`리서치 과정`\n",
    "\n",
    "  * 전문가 AI는 분석가의 질문에 답하기 위해 정보를 `병렬`로 수집합니다.\n",
    "  * 그리고 모든 인터뷰는 `맵리듀스(map-reduce)`를 통해 동시에 진행됩니다.\n",
    "\n",
    "`출력 형식`\n",
    "\n",
    "  * 각 인터뷰에서 수집된 인사이트는 최종 보고서로 종합됩니다.\n",
    "  * 보고서에는 맞춤형 프롬프트를 사용하여 유연한 출력 형식을 지원할 것입니다.\n",
    "\n",
    "\n",
    "![Screenshot 2024-08-26 at 7.26.33 PM.png](https://cdn.prod.website-files.com/65b8cd72835ceeacd4449a53/66dbb164d61c93d48e604091_research-assistant1.png)"
   ]
  },
  {
   "cell_type": "code",
   "execution_count": 1,
   "id": "f23991e9-51b3-4e9f-86a0-dec16aa7d1e6",
   "metadata": {
    "scrolled": true
   },
   "outputs": [],
   "source": [
    "%%capture --no-stderr\n",
    "%pip install --quiet -U langgraph langchain_openai langchain_community langchain_core tavily-python wikipedia"
   ]
  },
  {
   "cell_type": "markdown",
   "id": "99a1c01d-87e1-4723-b83e-ebcf937fe914",
   "metadata": {},
   "source": [
    "## Setup"
   ]
  },
  {
   "cell_type": "code",
   "execution_count": 2,
   "id": "8dc64587",
   "metadata": {},
   "outputs": [
    {
     "data": {
      "text/plain": [
       "True"
      ]
     },
     "execution_count": 2,
     "metadata": {},
     "output_type": "execute_result"
    }
   ],
   "source": [
    "from dotenv import load_dotenv\n",
    "\n",
    "load_dotenv(\"../.env\", override=True)"
   ]
  },
  {
   "cell_type": "code",
   "execution_count": 3,
   "id": "ba917800-10e4-4e2a-8e9e-30893b731e97",
   "metadata": {},
   "outputs": [],
   "source": [
    "import os\n",
    "import getpass\n",
    "\n",
    "\n",
    "def _set_env(var: str):\n",
    "    if not os.environ.get(var):\n",
    "        os.environ[var] = getpass.getpass(f\"{var}: \")\n",
    "\n",
    "\n",
    "_set_env(\"OPENAI_API_KEY\")"
   ]
  },
  {
   "cell_type": "code",
   "execution_count": 4,
   "id": "afe9ff57-0826-4669-b88b-4d0501a509f5",
   "metadata": {},
   "outputs": [],
   "source": [
    "from langchain_openai import ChatOpenAI\n",
    "\n",
    "llm = ChatOpenAI(model=\"gpt-4o\", temperature=0)"
   ]
  },
  {
   "cell_type": "markdown",
   "id": "3419257b-2c6b-4d68-ae38-4a266cc02982",
   "metadata": {},
   "source": [
    "We'll use [LangSmith](https://docs.smith.langchain.com/) for [tracing](https://docs.smith.langchain.com/concepts/tracing)."
   ]
  },
  {
   "cell_type": "code",
   "execution_count": 5,
   "id": "5102cf2e-0ca9-465b-9499-67abb8132e5d",
   "metadata": {},
   "outputs": [],
   "source": [
    "_set_env(\"LANGSMITH_API_KEY\")\n",
    "os.environ[\"LANGSMITH_TRACING\"] = \"true\"\n",
    "os.environ[\"LANGSMITH_PROJECT\"] = \"langchain-academy\""
   ]
  },
  {
   "cell_type": "markdown",
   "id": "f8fe5d93-e353-44bb-be3e-434654bcb7ea",
   "metadata": {},
   "source": [
    "## 분석가 생성: 휴먼-인-더-루프 (Human-In-The-Loop)\n",
    "\n",
    "휴먼-인-더-루프(human-in-the-loop)를 사용하여 분석가를 생성하고 검토합니다."
   ]
  },
  {
   "cell_type": "code",
   "execution_count": 6,
   "id": "1eee8e60-e548-49b1-88ec-a4f3aef2174e",
   "metadata": {},
   "outputs": [],
   "source": [
    "from typing import List, TypedDict\n",
    "from pydantic import BaseModel, Field\n",
    "\n",
    "\n",
    "class Analyst(BaseModel):\n",
    "    \"\"\"분석가에 대한 정보를 담는 클래스\"\"\"\n",
    "\n",
    "    affiliation: str = Field(\n",
    "        description=\"분석가의 주요 소속.\",\n",
    "    )\n",
    "    name: str = Field(description=\"분석가의 이름.\")\n",
    "    role: str = Field(\n",
    "        description=\"주제와 관련된 분석가의 역할.\",\n",
    "    )\n",
    "    description: str = Field(\n",
    "        description=\"분석가의 주요 관심사, 우려 사항 및 동기에 대한 설명.\",\n",
    "    )\n",
    "\n",
    "    @property\n",
    "    def persona(self) -> str:\n",
    "        \"\"\"분석가의 페르소나를 문자열로 반환합니다.\"\"\"\n",
    "        return f\"Name: {self.name}\\nRole: {self.role}\\nAffiliation: {self.affiliation}\\nDescription: {self.description}\\n\"\n",
    "\n",
    "\n",
    "class Perspectives(BaseModel):\n",
    "    \"\"\"다양한 분석가들의 관점을 담는 클래스\"\"\"\n",
    "\n",
    "    analysts: List[Analyst] = Field(\n",
    "        description=\"각 분석가의 역할과 소속을 포함한 전체 목록.\",\n",
    "    )\n",
    "\n",
    "\n",
    "class GenerateAnalystsState(TypedDict):\n",
    "    \"\"\"분석가 생성 그래프의 상태를 정의합니다.\"\"\"\n",
    "\n",
    "    topic: str  # 리서치 주제\n",
    "    max_analysts: int  # 최대 분석가 수\n",
    "    human_analyst_feedback: str  # 사용자의 피드백\n",
    "    analysts: List[Analyst]  # 생성된 분석가 목록"
   ]
  },
  {
   "cell_type": "code",
   "execution_count": 7,
   "id": "fd088ff5-4c75-412c-85f0-04afd0900bfc",
   "metadata": {},
   "outputs": [
    {
     "data": {
      "image/png": "[encoded data removed]",
      "text/plain": [
       "<IPython.core.display.Image object>"
      ]
     },
     "metadata": {},
     "output_type": "display_data"
    }
   ],
   "source": [
    "from IPython.display import Image, display\n",
    "from langgraph.graph import START, END, StateGraph\n",
    "from langgraph.checkpoint.memory import MemorySaver\n",
    "from langchain_core.messages import AIMessage, HumanMessage, SystemMessage\n",
    "\n",
    "# 분석가 생성을 위한 지침 프롬프트\n",
    "analyst_instructions = \"\"\"당신은 AI 분석가 페르소나 그룹을 만드는 임무를 받았습니다. 다음 지침을 주의 깊게 따르세요:\n",
    "\n",
    "1. 먼저, 리서치 주제를 검토하세요:\n",
    "{topic}\n",
    "        \n",
    "2. 분석가 생성을 돕기 위해 선택적으로 제공된 편집 피드백이 있다면 검토하세요: \n",
    "        \n",
    "{human_analyst_feedback}\n",
    "    \n",
    "3. 위의 문서 및/또는 피드백을 바탕으로 가장 흥미로운 주제들을 결정하세요.\n",
    "                    \n",
    "4. 상위 {max_analysts}개의 주제를 선택하세요.\n",
    "\n",
    "5. 각 주제에 분석가 한 명씩을 배정하세요.\"\"\"\n",
    "\n",
    "\n",
    "def create_analysts(state: GenerateAnalystsState):\n",
    "    \"\"\"분석가를 생성합니다.\"\"\"\n",
    "\n",
    "    topic = state[\"topic\"]\n",
    "    max_analysts = state[\"max_analysts\"]\n",
    "    human_analyst_feedback = state.get(\"human_analyst_feedback\", \"\")\n",
    "\n",
    "    # 구조화된 출력을 사용하도록 LLM 설정\n",
    "    structured_llm = llm.with_structured_output(Perspectives)\n",
    "\n",
    "    # 시스템 메시지 생성\n",
    "    system_message = analyst_instructions.format(\n",
    "        topic=topic,\n",
    "        human_analyst_feedback=human_analyst_feedback,\n",
    "        max_analysts=max_analysts,\n",
    "    )\n",
    "\n",
    "    # 분석가 생성 요청\n",
    "    analysts = structured_llm.invoke(\n",
    "        [SystemMessage(content=system_message)]\n",
    "        + [HumanMessage(content=\"분석가 그룹을 생성해주세요.\")]\n",
    "    )\n",
    "\n",
    "    # 생성된 분석가 목록을 상태(state)에 기록\n",
    "    return {\"analysts\": analysts.analysts}\n",
    "\n",
    "\n",
    "def human_feedback(state: GenerateAnalystsState):\n",
    "    \"\"\"사용자 개입을 위해 중단(interrupt)이 필요한, 아무 작업도 하지 않는(no-op) 노드입니다.\"\"\"\n",
    "    pass\n",
    "\n",
    "\n",
    "def should_continue(state: GenerateAnalystsState):\n",
    "    \"\"\"다음에 실행할 노드를 반환합니다.\"\"\"\n",
    "\n",
    "    # 사용자 피드백이 있는지 확인\n",
    "    human_analyst_feedback = state.get(\"human_analyst_feedback\", None)\n",
    "    if human_analyst_feedback:\n",
    "        # 피드백이 있으면 다시 분석가 생성\n",
    "        return \"create_analysts\"\n",
    "\n",
    "    # 피드백이 없으면 종료\n",
    "    return END\n",
    "\n",
    "\n",
    "# 노드와 엣지 추가\n",
    "builder = StateGraph(GenerateAnalystsState)\n",
    "builder.add_node(\"create_analysts\", create_analysts)\n",
    "builder.add_node(\"human_feedback\", human_feedback)\n",
    "\n",
    "builder.add_edge(START, \"create_analysts\")\n",
    "builder.add_edge(\"create_analysts\", \"human_feedback\")\n",
    "builder.add_conditional_edges(\n",
    "    \"human_feedback\",\n",
    "    should_continue,\n",
    "    [\n",
    "        \"create_analysts\",\n",
    "        END,\n",
    "    ],\n",
    ")\n",
    "\n",
    "# 컴파일\n",
    "memory = MemorySaver()\n",
    "graph = builder.compile(\n",
    "    interrupt_before=[\"human_feedback\"],\n",
    "    checkpointer=memory,\n",
    ")\n",
    "\n",
    "# 그래프 시각화\n",
    "display(Image(graph.get_graph(xray=1).draw_mermaid_png()))"
   ]
  },
  {
   "cell_type": "code",
   "execution_count": 8,
   "id": "6c22cb05-c436-4358-8f7a-72d722f9b5cc",
   "metadata": {},
   "outputs": [
    {
     "name": "stdout",
     "output_type": "stream",
     "text": [
      "이름: Alice Kim\n",
      "소속: Tech Research Institute\n",
      "역할: Technology Adoption Specialist\n",
      "설명: Alice focuses on the strategic benefits of adopting new technologies like LangGraph. She is particularly interested in how LangGraph can streamline processes and improve efficiency in software development. Her research often highlights the competitive advantages that early adopters can gain.\n",
      "--------------------------------------------------\n",
      "이름: Bob Lee\n",
      "소속: Data Science Solutions\n",
      "역할: Data Integration Analyst\n",
      "설명: Bob is an expert in data integration and is keenly interested in how LangGraph facilitates seamless data flow between different systems. He explores the technical aspects of LangGraph's architecture that enable robust data handling and integration, making it a valuable tool for complex data environments.\n",
      "--------------------------------------------------\n",
      "이름: Clara Zhang\n",
      "소속: AI and Machine Learning Lab\n",
      "역할: AI Framework Evaluator\n",
      "설명: Clara evaluates various AI frameworks and their applicability in real-world scenarios. She is particularly focused on how LangGraph supports AI model development and deployment, emphasizing its flexibility and scalability. Her work often involves comparing LangGraph with other frameworks to assess its unique strengths.\n",
      "--------------------------------------------------\n"
     ]
    }
   ],
   "source": [
    "# 입력\n",
    "max_analysts = 3\n",
    "topic = \"에이전트 프레임워크로서 LangGraph를 채택할 때의 이점\"\n",
    "thread = {\"configurable\": {\"thread_id\": \"1\"}}\n",
    "\n",
    "# 첫 번째 중단(interruption) 지점까지 그래프를 실행합니다.\n",
    "for event in graph.stream(\n",
    "    {\n",
    "        \"topic\": topic,\n",
    "        \"max_analysts\": max_analysts,\n",
    "    },\n",
    "    thread,\n",
    "    stream_mode=\"values\",\n",
    "):\n",
    "    # 생성된 분석가 검토\n",
    "    analysts = event.get(\"analysts\", \"\")\n",
    "    if analysts:\n",
    "        for analyst in analysts:\n",
    "            print(f\"이름: {analyst.name}\")\n",
    "            print(f\"소속: {analyst.affiliation}\")\n",
    "            print(f\"역할: {analyst.role}\")\n",
    "            print(f\"설명: {analyst.description}\")\n",
    "            print(\"-\" * 50)"
   ]
  },
  {
   "cell_type": "code",
   "execution_count": 9,
   "id": "2f81ad23-5656-43e6-b50a-0d7a4f69a60a",
   "metadata": {},
   "outputs": [
    {
     "data": {
      "text/plain": [
       "('human_feedback',)"
      ]
     },
     "execution_count": 9,
     "metadata": {},
     "output_type": "execute_result"
    }
   ],
   "source": [
    "# 상태를 확인하고 다음 노드를 살펴보세요\n",
    "state = graph.get_state(thread)\n",
    "state.next"
   ]
  },
  {
   "cell_type": "code",
   "execution_count": 10,
   "id": "72b2a402-fd10-4f26-9a32-3e3c0d4aaf76",
   "metadata": {},
   "outputs": [
    {
     "data": {
      "text/plain": [
       "{'configurable': {'thread_id': '1',\n",
       "  'checkpoint_ns': '',\n",
       "  'checkpoint_id': '1f09f44a-1002-66a8-8002-1e65a793f746'}}"
      ]
     },
     "execution_count": 10,
     "metadata": {},
     "output_type": "execute_result"
    }
   ],
   "source": [
    "# 이제 `human_feedback` 노드에서 사용자가 피드백을 입력한 것처럼 상태를 업데이트합니다.\n",
    "graph.update_state(\n",
    "    thread,\n",
    "    {\n",
    "        \"human_analyst_feedback\": \"기업가적 관점을 더하기 위해 스타트업 인물을 추가해주세요.\"\n",
    "    },\n",
    "    as_node=\"human_feedback\",\n",
    ")"
   ]
  },
  {
   "cell_type": "code",
   "execution_count": 11,
   "id": "b8816eb9-9906-441b-b552-be71107db14f",
   "metadata": {},
   "outputs": [
    {
     "name": "stdout",
     "output_type": "stream",
     "text": [
      "이름: Alice Kim\n",
      "소속: Tech Research Institute\n",
      "역할: Technology Adoption Specialist\n",
      "설명: Alice focuses on the strategic benefits of adopting new technologies like LangGraph. She is particularly interested in how LangGraph can streamline processes and improve efficiency in software development. Her research often highlights the competitive advantages that early adopters can gain.\n",
      "--------------------------------------------------\n",
      "이름: Bob Lee\n",
      "소속: Data Science Solutions\n",
      "역할: Data Integration Analyst\n",
      "설명: Bob is an expert in data integration and is keenly interested in how LangGraph facilitates seamless data flow between different systems. He explores the technical aspects of LangGraph's architecture that enable robust data handling and integration, making it a valuable tool for complex data environments.\n",
      "--------------------------------------------------\n",
      "이름: Clara Zhang\n",
      "소속: AI and Machine Learning Lab\n",
      "역할: AI Framework Evaluator\n",
      "설명: Clara evaluates various AI frameworks and their applicability in real-world scenarios. She is particularly focused on how LangGraph supports AI model development and deployment, emphasizing its flexibility and scalability. Her work often involves comparing LangGraph with other frameworks to assess its unique strengths.\n",
      "--------------------------------------------------\n",
      "이름: Dr. Emily Carter\n",
      "소속: Tech Research Institute\n",
      "역할: AI Framework Specialist\n",
      "설명: Dr. Carter focuses on the technical advantages of adopting LangGraph as an agent framework. She is particularly interested in how LangGraph can enhance the efficiency and scalability of AI models. Her research delves into the framework's ability to streamline the integration of complex AI systems, making it a preferred choice for developers looking to optimize performance.\n",
      "--------------------------------------------------\n",
      "이름: Michael Thompson\n",
      "소속: Global Business Solutions\n",
      "역할: Business Strategist\n",
      "설명: Michael Thompson examines the strategic business benefits of using LangGraph. He is keen on understanding how this framework can provide competitive advantages to companies by reducing development time and costs. Michael's analysis includes case studies of businesses that have successfully implemented LangGraph to accelerate their AI initiatives and improve their market positioning.\n",
      "--------------------------------------------------\n",
      "이름: Sophia Lee\n",
      "소속: InnovateTech Startups\n",
      "역할: Entrepreneurial Analyst\n",
      "설명: Sophia Lee brings an entrepreneurial perspective to the adoption of LangGraph. She explores how startups can leverage this framework to innovate rapidly and efficiently. Sophia is interested in the potential for LangGraph to lower entry barriers for new companies in the AI space, enabling them to compete with larger, established firms by utilizing cutting-edge technology with limited resources.\n",
      "--------------------------------------------------\n"
     ]
    }
   ],
   "source": [
    "# 그래프 실행을 계속합니다.\n",
    "for event in graph.stream(None, thread, stream_mode=\"values\"):\n",
    "    # 결과 검토\n",
    "    analysts = event.get(\"analysts\", \"\")\n",
    "    if analysts:\n",
    "        for analyst in analysts:\n",
    "            print(f\"이름: {analyst.name}\")\n",
    "            print(f\"소속: {analyst.affiliation}\")\n",
    "            print(f\"역할: {analyst.role}\")\n",
    "            print(f\"설명: {analyst.description}\")\n",
    "            print(\"-\" * 50)"
   ]
  },
  {
   "cell_type": "code",
   "execution_count": 12,
   "id": "a43ac322-5926-4932-8653-68206fec0d2c",
   "metadata": {},
   "outputs": [
    {
     "data": {
      "text/plain": [
       "{'configurable': {'thread_id': '1',\n",
       "  'checkpoint_ns': '',\n",
       "  'checkpoint_id': '1f09f44a-6f68-6a98-8004-13aff1ec6c45'}}"
      ]
     },
     "execution_count": 12,
     "metadata": {},
     "output_type": "execute_result"
    }
   ],
   "source": [
    "# 만약 우리가 만족한다면, 우리는 단순히 피드백을 제공하지 않는다\n",
    "further_feedack = None\n",
    "graph.update_state(\n",
    "    thread,\n",
    "    {\"human_analyst_feedback\": further_feedack},\n",
    "    as_node=\"human_feedback\",\n",
    ")"
   ]
  },
  {
   "cell_type": "code",
   "execution_count": 13,
   "id": "ab034e65-aeee-4723-8d6d-74541b548425",
   "metadata": {},
   "outputs": [],
   "source": [
    "# 그래프 실행을 끝까지 계속하십시오\n",
    "for event in graph.stream(None, thread, stream_mode=\"updates\"):\n",
    "    print(\"--Node--\")\n",
    "    node_name = next(iter(event.keys()))\n",
    "    print(node_name)"
   ]
  },
  {
   "cell_type": "code",
   "execution_count": 14,
   "id": "2f204e8a-285c-4e46-8223-a695caec7764",
   "metadata": {},
   "outputs": [],
   "source": [
    "final_state = graph.get_state(thread)\n",
    "analysts = final_state.values.get(\"analysts\")"
   ]
  },
  {
   "cell_type": "code",
   "execution_count": 15,
   "id": "59704086-cb3b-42e9-8395-37be6f0d44e9",
   "metadata": {},
   "outputs": [
    {
     "data": {
      "text/plain": [
       "()"
      ]
     },
     "execution_count": 15,
     "metadata": {},
     "output_type": "execute_result"
    }
   ],
   "source": [
    "final_state.next"
   ]
  },
  {
   "cell_type": "code",
   "execution_count": 16,
   "id": "95717ba3-aa00-48d6-bbb7-5fe4db5919bf",
   "metadata": {},
   "outputs": [
    {
     "name": "stdout",
     "output_type": "stream",
     "text": [
      "Name: Dr. Emily Carter\n",
      "Affiliation: Tech Research Institute\n",
      "Role: AI Framework Specialist\n",
      "Description: Dr. Carter focuses on the technical advantages of adopting LangGraph as an agent framework. She is particularly interested in how LangGraph can enhance the efficiency and scalability of AI models. Her research delves into the framework's ability to streamline the integration of complex AI systems, making it a preferred choice for developers looking to optimize performance.\n",
      "--------------------------------------------------\n",
      "Name: Michael Thompson\n",
      "Affiliation: Global Business Solutions\n",
      "Role: Business Strategist\n",
      "Description: Michael Thompson examines the strategic business benefits of using LangGraph. He is keen on understanding how this framework can provide competitive advantages to companies by reducing development time and costs. Michael's analysis includes case studies of businesses that have successfully implemented LangGraph to accelerate their AI initiatives and improve their market positioning.\n",
      "--------------------------------------------------\n",
      "Name: Sophia Lee\n",
      "Affiliation: InnovateTech Startups\n",
      "Role: Entrepreneurial Analyst\n",
      "Description: Sophia Lee brings an entrepreneurial perspective to the adoption of LangGraph. She explores how startups can leverage this framework to innovate rapidly and efficiently. Sophia is interested in the potential for LangGraph to lower entry barriers for new companies in the AI space, enabling them to compete with larger, established firms by utilizing cutting-edge technology with limited resources.\n",
      "--------------------------------------------------\n"
     ]
    }
   ],
   "source": [
    "for analyst in analysts:\n",
    "    print(f\"Name: {analyst.name}\")\n",
    "    print(f\"Affiliation: {analyst.affiliation}\")\n",
    "    print(f\"Role: {analyst.role}\")\n",
    "    print(f\"Description: {analyst.description}\")\n",
    "    print(\"-\" * 50)"
   ]
  },
  {
   "cell_type": "markdown",
   "id": "7d2498e4-20ae-4503-9dd0-a4165132b7a7",
   "metadata": {},
   "source": [
    "## 인터뷰 진행\n",
    "\n",
    "### 질문 생성\n",
    "\n",
    "분석가가 전문가에게 질문을 합니다."
   ]
  },
  {
   "cell_type": "code",
   "execution_count": 17,
   "id": "e5d5f559-f42e-442b-87cd-dbf0a91abf9c",
   "metadata": {},
   "outputs": [],
   "source": [
    "import operator\n",
    "from typing import Annotated\n",
    "from langgraph.graph import MessagesState\n",
    "\n",
    "\n",
    "class InterviewState(MessagesState):\n",
    "    \"\"\"인터뷰 서브 그래프의 상태를 정의합니다.\"\"\"\n",
    "\n",
    "    max_num_turns: int  # 대화의 최대 턴(turn) 수\n",
    "    context: Annotated[list, operator.add]  # 참조 문서 (소스)\n",
    "    analyst: Analyst  # 질문하는 분석가\n",
    "    interview: str  # 인터뷰 기록 (스크립트)\n",
    "    sections: list  # Send() API를 위해 외부 상태(state)에 복제되는 최종 키\n",
    "\n",
    "\n",
    "class SearchQuery(BaseModel):\n",
    "    \"\"\"검색 쿼리를 정의하는 클래스\"\"\"\n",
    "\n",
    "    search_query: str = Field(\n",
    "        None, description=\"정보 검색(retrieval)을 위한 검색 쿼리.\"\n",
    "    )"
   ]
  },
  {
   "cell_type": "code",
   "execution_count": 18,
   "id": "1c2e71eb-07ad-4bea-aabc-dbaf551408c0",
   "metadata": {},
   "outputs": [],
   "source": [
    "# 질문 생성을 위한 지침 프롬프트\n",
    "question_instructions = \"\"\"당신은 특정 주제에 대해 배우기 위해 전문가를 인터뷰하는 임무를 맡은 분석가입니다.\n",
    "\n",
    "당신의 목표는 주제와 관련된 흥미롭고 구체적인 인사이트를 도출하는 것입니다.\n",
    "\n",
    "1. 흥미로운 점: 사람들이 놀라워하거나 미처 생각하지 못했던 인사이트.\n",
    "        \n",
    "2. 구체적인 점: 일반적인 내용을 피하고 전문가로부터 얻은 구체적인 예시를 포함하는 인사이트.\n",
    "\n",
    "당신이 집중할 주제와 목표는 다음과 같습니다: {goals}\n",
    "        \n",
    "먼저 당신의 페르소나에 맞는 이름으로 자신을 소개한 후, 질문을 시작하세요.\n",
    "\n",
    "주제에 대한 이해를 심화하고 다듬기 위해 계속해서 질문을 던지세요.\n",
    "        \n",
    "이해가 충분하다고 생각되면, \"도와주셔서 정말 감사합니다!\"라는 말로 인터뷰를 마무리하세요.\n",
    "\n",
    "답변하는 내내 주어진 페르소나와 목표를 반영하여 당신의 역할을 유지하는 것을 잊지 마세요.\"\"\"\n",
    "\n",
    "\n",
    "def generate_question(state: InterviewState):\n",
    "    \"\"\"질문을 생성하는 노드입니다.\"\"\"\n",
    "\n",
    "    # 상태(state)에서 정보 가져오기\n",
    "    analyst = state[\"analyst\"]\n",
    "    messages = state[\"messages\"]\n",
    "\n",
    "    # 질문 생성\n",
    "    system_message = question_instructions.format(goals=analyst.persona)\n",
    "    question = llm.invoke([SystemMessage(content=system_message)] + messages)\n",
    "\n",
    "    # 생성된 질문 메시지를 상태에 기록\n",
    "    return {\"messages\": [question]}"
   ]
  },
  {
   "cell_type": "markdown",
   "id": "be2ff33a-6232-4a79-8a82-882a645394f5",
   "metadata": {},
   "source": [
    "### 답변 생성: 병렬 처리\n",
    "\n",
    "전문가(AI)는 질문에 답변하기 위해 여러 소스에서 **병렬로** 정보를 수집합니다.\n",
    "\n",
    "예를 들어, 다음과 같은 방법을 사용할 수 있습니다:\n",
    "\n",
    "  * 특정 웹사이트 (예: [`WebBaseLoader`](https://www.google.com/search?q=%5Bhttps://python.langchain.com/v0.2/docs/integrations/document_loaders/web_base/%5D\\(https://python.langchain.com/v0.2/docs/integrations/document_loaders/web_base/\\)) 사용)\n",
    "  * 인덱싱된 문서 (예: [suspicious link removed] 사용)\n",
    "  * 웹 검색\n",
    "  * 위키피디아 검색\n",
    "\n",
    "[Tavily](https://tavily.com/)와 같은 다양한 웹 검색 도구를 사용해 볼 수 있습니다."
   ]
  },
  {
   "cell_type": "code",
   "execution_count": 19,
   "id": "606ea95b-e811-4299-8b66-835d4016c338",
   "metadata": {},
   "outputs": [],
   "source": [
    "def _set_env(var: str):\n",
    "    if not os.environ.get(var):\n",
    "        os.environ[var] = getpass.getpass(f\"{var}: \")\n",
    "\n",
    "\n",
    "_set_env(\"TAVILY_API_KEY\")"
   ]
  },
  {
   "cell_type": "code",
   "execution_count": 20,
   "id": "c61ae74a-f838-4e97-8bd5-48ccd15b7789",
   "metadata": {},
   "outputs": [
    {
     "name": "stderr",
     "output_type": "stream",
     "text": [
      "/var/folders/z8/xfx3ln6x16x1fy6q7kpf1tzh0000gn/T/ipykernel_31990/2611384022.py:4: LangChainDeprecationWarning: The class `TavilySearchResults` was deprecated in LangChain 0.3.25 and will be removed in 1.0. An updated version of the class exists in the :class:`~langchain-tavily package and should be used instead. To use it run `pip install -U :class:`~langchain-tavily` and import as `from :class:`~langchain_tavily import TavilySearch``.\n",
      "  tavily_search = TavilySearchResults(max_results=3)\n"
     ]
    }
   ],
   "source": [
    "# 웹 검색 도구\n",
    "from langchain_community.tools.tavily_search import TavilySearchResults\n",
    "\n",
    "tavily_search = TavilySearchResults(max_results=3)"
   ]
  },
  {
   "cell_type": "code",
   "execution_count": 21,
   "id": "2d8f760b-5a1a-4fa9-a014-d3fb02bec51c",
   "metadata": {},
   "outputs": [],
   "source": [
    "# 위키백과 검색 도구\n",
    "from langchain_community.document_loaders import WikipediaLoader"
   ]
  },
  {
   "cell_type": "markdown",
   "id": "06cb1603",
   "metadata": {},
   "source": [
    "이제 웹과 위키피디아를 검색하는 노드를 생성합니다.\n",
    "\n",
    "또한 분석가의 질문에 답변하는 노드도 만들 것입니다.\n",
    "\n",
    "마지막으로, 전체 인터뷰를 저장하고 인터뷰의 요약본(\"섹션\")을 작성하는 노드들을 생성합니다."
   ]
  },
  {
   "cell_type": "code",
   "execution_count": 22,
   "id": "9c863768-2278-415b-aef1-96fd18c1b1cb",
   "metadata": {},
   "outputs": [
    {
     "data": {
      "image/png": "[encoded data removed]",
      "text/plain": [
       "<IPython.core.display.Image object>"
      ]
     },
     "metadata": {},
     "output_type": "display_data"
    }
   ],
   "source": [
    "from langchain_core.messages import get_buffer_string\n",
    "\n",
    "# 검색 쿼리 작성을 위한 지침\n",
    "search_instructions = SystemMessage(\n",
    "    content=\"\"\"분석가와 전문가 사이의 대화가 주어집니다.\n",
    "\n",
    "당신의 목표는 대화와 관련된 정보 검색(retrieval) 및/또는 웹 검색에 사용될 잘 구조화된 쿼리를 생성하는 것입니다.\n",
    "        \n",
    "먼저, 전체 대화를 분석하세요.\n",
    "\n",
    "분석가가 제기한 마지막 질문에 특히 주의를 기울이세요.\n",
    "\n",
    "이 마지막 질문을 잘 구조화된 웹 검색 쿼리로 변환하세요.\"\"\"\n",
    ")\n",
    "\n",
    "\n",
    "def search_web(state: InterviewState):\n",
    "    \"\"\"웹 검색을 통해 문서를 검색합니다.\"\"\"\n",
    "    # 검색 쿼리 생성\n",
    "    structured_llm = llm.with_structured_output(SearchQuery)\n",
    "    search_query = structured_llm.invoke([search_instructions] + state[\"messages\"])\n",
    "\n",
    "    # 검색 실행\n",
    "    search_docs = tavily_search.invoke(search_query.search_query)\n",
    "\n",
    "    # 결과 형식 맞추기\n",
    "    formatted_search_docs = \"\\n\\n---\\n\\n\".join(\n",
    "        [\n",
    "            f'<Document href=\"{doc[\"url\"]}\"/>\\n{doc[\"content\"]}\\n</Document>'\n",
    "            for doc in search_docs\n",
    "        ]\n",
    "    )\n",
    "\n",
    "    return {\"context\": [formatted_search_docs]}\n",
    "\n",
    "\n",
    "def search_wikipedia(state: InterviewState):\n",
    "    \"\"\"위키피디아에서 문서를 검색합니다.\"\"\"\n",
    "    # 검색 쿼리 생성\n",
    "    structured_llm = llm.with_structured_output(SearchQuery)\n",
    "    search_query = structured_llm.invoke([search_instructions] + state[\"messages\"])\n",
    "\n",
    "    # 검색 실행\n",
    "    search_docs = WikipediaLoader(\n",
    "        query=search_query.search_query,\n",
    "        load_max_docs=2,\n",
    "    ).load()\n",
    "\n",
    "    # 결과 형식 맞추기\n",
    "    formatted_search_docs = \"\\n\\n---\\n\\n\".join(\n",
    "        [\n",
    "            f'<Document source=\"{doc.metadata[\"source\"]}\" page=\"{doc.metadata.get(\"page\", \"\")}\"/>\\n{doc.page_content}\\n</Document>'\n",
    "            for doc in search_docs\n",
    "        ]\n",
    "    )\n",
    "\n",
    "    return {\"context\": [formatted_search_docs]}\n",
    "\n",
    "\n",
    "# 답변 생성을 위한 지침\n",
    "answer_instructions = \"\"\"당신은 분석가에게 인터뷰를 받는 전문가입니다.\n",
    "\n",
    "분석가의 주요 관심 분야는 다음과 같습니다: {goals}. \n",
    "        \n",
    "당신의 목표는 인터뷰어가 제기한 질문에 답변하는 것입니다.\n",
    "\n",
    "질문에 답하기 위해 다음 컨텍스트를 사용하세요:\n",
    "        \n",
    "{context}\n",
    "\n",
    "질문에 답변할 때 다음 가이드라인을 따르세요:\n",
    "        \n",
    "1. 제공된 컨텍스트의 정보만 사용하세요.\n",
    "        \n",
    "2. 컨텍스트에 명시적으로 언급된 내용 이외의 외부 정보를 도입하거나 추측하지 마세요.\n",
    "\n",
    "3. 컨텍스트에는 각 개별 문서의 주제에 해당하는 소스가 포함되어 있습니다.\n",
    "\n",
    "4. 답변 내용 중 관련 진술 옆에 이 소스들을 포함시키세요. 예를 들어, 소스 #1의 경우 [1]을 사용합니다.\n",
    "\n",
    "5. 답변 하단에 사용한 소스를 순서대로 나열하세요. 예: [1] 소스 1, [2] 소스 2 등\n",
    "        \n",
    "6. 만약 소스가 '<Document source=\"assistant/docs/llama3_1.pdf\" page=\"7\"/>'이라면 다음과 같이 나열하세요: \n",
    "        \n",
    "[1] assistant/docs/llama3_1.pdf, page 7 \n",
    "        \n",
    "이때 인용문에서 대괄호와 'Document source' 머리글은 생략합니다.\"\"\"\n",
    "\n",
    "\n",
    "def generate_answer(state: InterviewState):\n",
    "    \"\"\"질문에 답변하는 노드입니다.\"\"\"\n",
    "    # 상태 가져오기\n",
    "    analyst = state[\"analyst\"]\n",
    "    messages = state[\"messages\"]\n",
    "    context = state[\"context\"]\n",
    "\n",
    "    # 질문에 답변\n",
    "    system_message = answer_instructions.format(goals=analyst.persona, context=context)\n",
    "    answer = llm.invoke([SystemMessage(content=system_message)] + messages)\n",
    "\n",
    "    # 메시지에 'expert'라는 이름 부여\n",
    "    answer.name = \"expert\"\n",
    "\n",
    "    # 상태에 추가\n",
    "    return {\"messages\": [answer]}\n",
    "\n",
    "\n",
    "def save_interview(state: InterviewState):\n",
    "    \"\"\"인터뷰 내용을 저장합니다.\"\"\"\n",
    "    # 메시지 가져오기\n",
    "    messages = state[\"messages\"]\n",
    "\n",
    "    # 인터뷰를 하나의 문자열로 변환\n",
    "    interview = get_buffer_string(messages)\n",
    "\n",
    "    # 'interview' 키에 저장\n",
    "    return {\"interview\": interview}\n",
    "\n",
    "\n",
    "def route_messages(state: InterviewState, name: str = \"expert\"):\n",
    "    \"\"\"질문과 답변 사이의 흐름을 제어(라우팅)합니다.\"\"\"\n",
    "    # 메시지 가져오기\n",
    "    messages = state[\"messages\"]\n",
    "    max_num_turns = state.get(\"max_num_turns\", 2)\n",
    "\n",
    "    # 전문가 답변 수 확인\n",
    "    num_responses = len(\n",
    "        [m for m in messages if isinstance(m, AIMessage) and m.name == name]\n",
    "    )\n",
    "\n",
    "    # 전문가가 최대 턴 수보다 많이 답변하면 종료\n",
    "    if num_responses >= max_num_turns:\n",
    "        return \"save_interview\"\n",
    "\n",
    "    # 이 라우터는 각 질문-답변 쌍 이후에 실행됩니다.\n",
    "    # 마지막 질문을 가져와 토론 종료 여부 확인\n",
    "    last_question = messages[-2]\n",
    "\n",
    "    if \"도와주셔서 정말 감사합니다\" in last_question.content:\n",
    "        return \"save_interview\"\n",
    "    return \"ask_question\"\n",
    "\n",
    "\n",
    "# 섹션 작성자 지침\n",
    "section_writer_instructions = \"\"\"당신은 전문 기술 작가입니다. \n",
    "            \n",
    "당신의 임무는 주어진 소스 문서를 기반으로 짧고 이해하기 쉬운 보고서 섹션을 만드는 것입니다.\n",
    "\n",
    "1. 소스 문서의 내용을 분석하세요:\n",
    "- 각 소스 문서의 이름은 문서 시작 부분의 <Document> 태그에 있습니다.\n",
    "        \n",
    "2. 마크다운 형식을 사용하여 보고서 구조를 만드세요:\n",
    "- 섹션 제목에는 ##를 사용하세요.\n",
    "- 하위 섹션 제목에는 ###를 사용하세요.\n",
    "        \n",
    "3. 다음 구조에 따라 보고서를 작성하세요:\n",
    "가. 제목 (## 헤더)\n",
    "나. 요약 (### 헤더)\n",
    "다. 출처 (### 헤더)\n",
    "\n",
    "4. 분석가의 관심 분야를 바탕으로 흥미로운 제목을 만드세요:\n",
    "{focus}\n",
    "\n",
    "5. 요약 섹션 작성 시:\n",
    "- 분석가의 관심 분야와 관련된 일반적인 배경/맥락으로 요약을 시작하세요.\n",
    "- 인터뷰에서 얻은 새롭거나, 흥미롭거나, 놀라운 인사이트를 강조하세요.\n",
    "- 소스 문서를 사용할 때 번호 목록을 만드세요.\n",
    "- 인터뷰어나 전문가의 이름은 언급하지 마세요.\n",
    "- 분량은 최대 약 400단어로 작성하세요.\n",
    "- 보고서에 소스 문서의 정보를 바탕으로 번호가 매겨진 출처(예: [1], [2])를 사용하세요.\n",
    "        \n",
    "6. 출처 섹션 작성 시:\n",
    "- 보고서에 사용된 모든 출처를 포함하세요.\n",
    "- 관련 웹사이트의 전체 링크 또는 특정 문서 경로를 제공하세요.\n",
    "- 각 출처는 줄바꿈으로 구분하세요. 마크다운에서 줄바꿈을 하려면 각 줄 끝에 공백 두 개를 사용하세요.\n",
    "- 형식은 다음과 같습니다:\n",
    "\n",
    "### 출처\n",
    "[1] 링크 또는 문서 이름\n",
    "[2] 링크 또는 문서 이름\n",
    "\n",
    "7. 출처를 통합해야 합니다. 예를 들어, 아래는 잘못된 형식입니다:\n",
    "\n",
    "[3] https://ai.meta.com/blog/meta-llama-3-1/\n",
    "[4] https://ai.meta.com/blog/meta-llama-3-1/\n",
    "\n",
    "중복되는 출처가 없어야 합니다. 다음과 같이 간단하게 표기해야 합니다:\n",
    "\n",
    "[3] https://ai.meta.com/blog/meta-llama-3-1/\n",
    "        \n",
    "8. 최종 검토:\n",
    "- 보고서가 요구되는 구조를 따르는지 확인하세요.\n",
    "- 보고서 제목 앞에 서문(preamble)을 포함하지 마세요.\n",
    "- 모든 가이드라인이 지켜졌는지 확인하세요.\"\"\"\n",
    "\n",
    "\n",
    "def write_section(state: InterviewState):\n",
    "    \"\"\"보고서 섹션을 작성하는 노드입니다.\"\"\"\n",
    "    # 상태 가져오기\n",
    "    interview = state[\"interview\"]\n",
    "    context = state[\"context\"]\n",
    "    analyst = state[\"analyst\"]\n",
    "\n",
    "    # 수집된 소스 문서(context) 또는 인터뷰 자체(interview)를 사용하여 섹션 작성\n",
    "    system_message = section_writer_instructions.format(focus=analyst.description)\n",
    "    section = llm.invoke(\n",
    "        [SystemMessage(content=system_message)]\n",
    "        + [HumanMessage(content=f\"이 소스를 사용하여 섹션을 작성하세요: {context}\")]\n",
    "    )\n",
    "\n",
    "    # 상태에 추가\n",
    "    return {\"sections\": [section.content]}\n",
    "\n",
    "\n",
    "# 노드와 엣지 추가\n",
    "interview_builder = StateGraph(InterviewState)\n",
    "interview_builder.add_node(\"ask_question\", generate_question)\n",
    "interview_builder.add_node(\"search_web\", search_web)\n",
    "interview_builder.add_node(\"search_wikipedia\", search_wikipedia)\n",
    "interview_builder.add_node(\"answer_question\", generate_answer)\n",
    "interview_builder.add_node(\"save_interview\", save_interview)\n",
    "interview_builder.add_node(\"write_section\", write_section)\n",
    "\n",
    "# 흐름 정의\n",
    "interview_builder.add_edge(START, \"ask_question\")\n",
    "interview_builder.add_edge(\"ask_question\", \"search_web\")\n",
    "interview_builder.add_edge(\"ask_question\", \"search_wikipedia\")\n",
    "interview_builder.add_edge(\"search_web\", \"answer_question\")\n",
    "interview_builder.add_edge(\"search_wikipedia\", \"answer_question\")\n",
    "interview_builder.add_conditional_edges(\n",
    "    \"answer_question\", route_messages, [\"ask_question\", \"save_interview\"]\n",
    ")\n",
    "interview_builder.add_edge(\"save_interview\", \"write_section\")\n",
    "interview_builder.add_edge(\"write_section\", END)\n",
    "\n",
    "# 인터뷰 그래프 컴파일\n",
    "memory = MemorySaver()\n",
    "interview_graph = interview_builder.compile(checkpointer=memory).with_config(\n",
    "    run_name=\"Conduct Interviews\"\n",
    ")\n",
    "\n",
    "# 그래프 시각화\n",
    "display(Image(interview_graph.get_graph().draw_mermaid_png()))"
   ]
  },
  {
   "cell_type": "code",
   "execution_count": 23,
   "id": "50f382f1-6e93-48d0-a44a-1094d26ccb1e",
   "metadata": {},
   "outputs": [
    {
     "data": {
      "text/plain": [
       "Analyst(affiliation='Tech Research Institute', name='Dr. Emily Carter', role='AI Framework Specialist', description=\"Dr. Carter focuses on the technical advantages of adopting LangGraph as an agent framework. She is particularly interested in how LangGraph can enhance the efficiency and scalability of AI models. Her research delves into the framework's ability to streamline the integration of complex AI systems, making it a preferred choice for developers looking to optimize performance.\")"
      ]
     },
     "execution_count": 23,
     "metadata": {},
     "output_type": "execute_result"
    }
   ],
   "source": [
    "# 한 명의 애널리스트를 선택\n",
    "analysts[0]"
   ]
  },
  {
   "cell_type": "markdown",
   "id": "3750ac4f-f458-4b2d-8bad-32ce34895758",
   "metadata": {},
   "source": [
    "여기서 우리는 주제와 관련된 llama3.1 논문의 인덱스를 전달하여 인터뷰를 실행합니다."
   ]
  },
  {
   "cell_type": "code",
   "execution_count": 26,
   "id": "b2242d4e-8430-4de9-8cf7-3ad2f9a22b28",
   "metadata": {},
   "outputs": [
    {
     "data": {
      "text/markdown": [
       "## Enhancing AI Model Efficiency and Scalability with LangGraph\n",
       "\n",
       "### 요약\n",
       "\n",
       "AI 에이전트 프레임워크는 복잡한 AI 시스템을 효율적이고 확장 가능하게 만드는 데 중요한 역할을 합니다. 특히 LangGraph는 이러한 프레임워크 중에서도 복잡한 에이전틱 워크플로우를 간소화하는 데 탁월한 성능을 발휘합니다. LangGraph는 그래프 기반의 구조를 통해 상태 관리와 에이전트 조정의 복잡성을 추상화하여 개발자가 데이터 일관성과 올바른 실행 순서를 보장하는 데 집중할 수 있도록 합니다. 이는 개발 속도를 높이고 오류 발생 가능성을 줄여줍니다 [1].\n",
       "\n",
       "LangGraph의 주요 장점 중 하나는 유연성입니다. 개발자는 자신의 에이전트 로직과 통신 프로토콜을 정의할 수 있어, 특정 용도에 맞춘 맞춤형 애플리케이션을 쉽게 만들 수 있습니다. 이는 다양한 사용자 요청을 처리할 수 있는 챗봇이나 복잡한 작업을 수행하는 멀티 에이전트 시스템을 구축하는 데 유리합니다 [2].\n",
       "\n",
       "또한, LangGraph는 대규모 멀티 에이전트 애플리케이션의 실행을 지원하도록 설계되어 있어, 대량의 상호작용과 복잡한 워크플로를 처리할 수 있습니다. 이는 성능과 안정성이 중요한 엔터프라이즈 수준의 애플리케이션에 적합합니다. LangGraph의 내결함성은 개별 에이전트에 문제가 발생해도 애플리케이션이 계속 작동할 수 있도록 하여 시스템의 안정성과 견고성을 유지합니다 [3].\n",
       "\n",
       "LangGraph는 LangChain의 기능을 확장하여 복잡한 에이전트 런타임 개발에 필수적인 순환 그래프를 만들고 관리할 수 있는 기능을 제공합니다. 이로 인해 개발자는 LLM을 사용하여 상태를 유지하고 여러 에이전트를 포함한 애플리케이션을 쉽게 만들 수 있습니다. 이러한 기능은 LangGraph를 AI 모델의 효율성과 확장성을 극대화하는 데 이상적인 선택으로 만듭니다 [4].\n",
       "\n",
       "### 출처\n",
       "[1] https://www.salesforce.com/kr/agentforce/ai-agents/ai-agent-frameworks/  \n",
       "[2] https://data-newbie.tistory.com/997  \n",
       "[3] https://cloud.google.com/discover/what-is-a-multi-agent-system?hl=ko  \n",
       "[4] https://data-newbie.tistory.com/997  "
      ],
      "text/plain": [
       "<IPython.core.display.Markdown object>"
      ]
     },
     "execution_count": 26,
     "metadata": {},
     "output_type": "execute_result"
    }
   ],
   "source": [
    "from IPython.display import Markdown\n",
    "\n",
    "# 첫 번째 분석가(analysts[0])와 2턴 동안 인터뷰를 진행합니다.\n",
    "messages = [HumanMessage(content=f\"{topic}에 대한 기사를 쓰고 계신다고 하셨죠?\")]\n",
    "thread = {\"configurable\": {\"thread_id\": \"1\"}}\n",
    "interview = interview_graph.invoke(\n",
    "    {\n",
    "        \"analyst\": analysts[0],\n",
    "        \"messages\": messages,\n",
    "        \"max_num_turns\": 2,\n",
    "    },\n",
    "    thread,\n",
    ")\n",
    "\n",
    "# 인터뷰 결과로 생성된 보고서 섹션을 마크다운 형식으로 출력합니다.\n",
    "Markdown(interview[\"sections\"][0])"
   ]
  },
  {
   "cell_type": "markdown",
   "id": "3b739e87-68bb-4e96-a86a-704e84240a6c",
   "metadata": {},
   "source": [
    "### 인터뷰 병렬 처리: 맵리듀스(Map-Reduce)\n",
    "\n",
    "`Send()` API를 사용하여 인터뷰를 병렬 처리합니다. 이 과정이 **맵(map)** 단계입니다.\n",
    "\n",
    "그리고 그 결과들을 보고서 본문으로 통합합니다. 이 과정이 **리듀스(reduce)** 단계입니다.\n",
    "\n",
    "### 마무리\n",
    "\n",
    "최종 보고서에 서론과 결론을 작성하는 마지막 단계를 추가합니다."
   ]
  },
  {
   "cell_type": "code",
   "execution_count": 27,
   "id": "6a0042f9-5b9f-441a-9e8d-7d8189f44140",
   "metadata": {},
   "outputs": [],
   "source": [
    "import operator\n",
    "from typing import List, Annotated\n",
    "from typing_extensions import TypedDict\n",
    "\n",
    "\n",
    "class ResearchGraphState(TypedDict):\n",
    "    \"\"\"리서치 그래프의 상태를 정의합니다.\"\"\"\n",
    "\n",
    "    topic: str  # 리서치 주제\n",
    "    max_analysts: int  # 최대 분석가 수\n",
    "    human_analyst_feedback: str  # 사용자의 피드백\n",
    "    analysts: List[Analyst]  # 질문하는 분석가 목록\n",
    "    sections: Annotated[list, operator.add]  # Send() API를 위한 키\n",
    "    introduction: str  # 최종 보고서의 서론\n",
    "    content: str  # 최종 보고서의 본문\n",
    "    conclusion: str  # 최종 보고서의 결론\n",
    "    final_report: str  # 최종 보고서"
   ]
  },
  {
   "cell_type": "code",
   "execution_count": 28,
   "id": "c2224592-d2ff-469d-97bd-928809f896d7",
   "metadata": {},
   "outputs": [
    {
     "name": "stderr",
     "output_type": "stream",
     "text": [
      "/var/folders/z8/xfx3ln6x16x1fy6q7kpf1tzh0000gn/T/ipykernel_31990/3318893172.py:1: LangGraphDeprecatedSinceV10: Importing Send from langgraph.constants is deprecated. Please use 'from langgraph.types import Send' instead. Deprecated in LangGraph V1.0 to be removed in V2.0.\n",
      "  from langgraph.constants import Send\n"
     ]
    },
    {
     "data": {
      "image/png": "[encoded data removed]",
      "text/plain": [
       "<IPython.core.display.Image object>"
      ]
     },
     "metadata": {},
     "output_type": "display_data"
    }
   ],
   "source": [
    "from langgraph.constants import Send\n",
    "\n",
    "\n",
    "def initiate_all_interviews(state: ResearchGraphState):\n",
    "    \"\"\"Send API를 사용하여 각 인터뷰 서브 그래프를 실행하는 \"맵(map)\" 단계입니다.\"\"\"\n",
    "    # 사용자 피드백 확인\n",
    "    human_analyst_feedback = state.get(\"human_analyst_feedback\")\n",
    "    if human_analyst_feedback:\n",
    "        # 피드백이 있으면 create_analysts 노드로 돌아감\n",
    "        return \"create_analysts\"\n",
    "    # 그렇지 않으면 Send() API를 통해 병렬로 인터뷰 시작\n",
    "    else:\n",
    "        topic = state[\"topic\"]\n",
    "        return [\n",
    "            Send(\n",
    "                \"conduct_interview\",\n",
    "                {\n",
    "                    \"analyst\": analyst,\n",
    "                    \"messages\": [\n",
    "                        HumanMessage(\n",
    "                            content=f\"{topic}에 대한 기사를 쓰고 계신다고 하셨죠?\"\n",
    "                        )\n",
    "                    ],\n",
    "                },\n",
    "            )\n",
    "            for analyst in state[\"analysts\"]\n",
    "        ]\n",
    "\n",
    "\n",
    "# 보고서 작성자 지침\n",
    "report_writer_instructions = \"\"\"당신은 다음 전체 주제에 대한 보고서를 작성하는 기술 작가입니다:\n",
    "\n",
    "{topic}\n",
    "    \n",
    "당신에게는 분석가 팀이 있습니다. 각 분석가는 두 가지 작업을 수행했습니다:\n",
    "\n",
    "1. 특정 하위 주제에 대해 전문가와 인터뷰를 진행했습니다.\n",
    "2. 발견한 내용을 메모로 작성했습니다.\n",
    "\n",
    "당신의 임무:\n",
    "\n",
    "1. 분석가들로부터 받은 메모 모음이 주어질 것입니다.\n",
    "2. 각 메모의 인사이트에 대해 신중하게 생각하세요.\n",
    "3. 모든 메모의 핵심 아이디어를 하나로 묶어 간결한 전체 요약으로 통합하세요.\n",
    "4. 각 메모의 핵심 포인트를 요약하여 일관된 단일 서사로 만드세요.\n",
    "\n",
    "보고서 형식:\n",
    " \n",
    "1. 마크다운 형식을 사용하세요.\n",
    "2. 보고서 앞에 서문을 넣지 마세요.\n",
    "3. 하위 제목을 사용하지 마세요.\n",
    "4. 보고서를 '## Insights'라는 단일 제목 헤더로 시작하세요.\n",
    "5. 보고서에 분석가 이름을 언급하지 마세요.\n",
    "6. 메모에 있는 인용(예: [1] 또는 [2]와 같이 대괄호로 표시됨)은 그대로 유지하세요.\n",
    "7. 최종적으로 통합된 출처 목록을 만들어 `## Sources` 헤더와 함께 'Sources' 섹션에 추가하세요.\n",
    "8. 출처를 순서대로 나열하고 중복되지 않도록 하세요. 예:\n",
    "\n",
    "[1] 출처 1\n",
    "[2] 출처 2\n",
    "\n",
    "보고서 작성을 위해 분석가들이 제출한 메모는 다음과 같습니다:\n",
    "\n",
    "{context}\"\"\"\n",
    "\n",
    "\n",
    "def write_report(state: ResearchGraphState):\n",
    "    \"\"\"보고서를 작성합니다.\"\"\"\n",
    "    # 전체 섹션 목록 가져오기\n",
    "    sections = state[\"sections\"]\n",
    "    topic = state[\"topic\"]\n",
    "\n",
    "    # 모든 섹션을 하나의 문자열로 합치기\n",
    "    formatted_str_sections = \"\\n\\n\".join([f\"{section}\" for section in sections])\n",
    "\n",
    "    # 섹션들을 요약하여 최종 보고서 작성\n",
    "    system_message = report_writer_instructions.format(\n",
    "        topic=topic, context=formatted_str_sections\n",
    "    )\n",
    "    report = llm.invoke(\n",
    "        [SystemMessage(content=system_message)]\n",
    "        + [HumanMessage(content=f\"이 메모들을 바탕으로 보고서를 작성해주세요.\")]\n",
    "    )\n",
    "    return {\"content\": report.content}\n",
    "\n",
    "\n",
    "# 서론 및 결론 작성 지침\n",
    "intro_conclusion_instructions = \"\"\"당신은 {topic}에 대한 보고서를 마무리하는 기술 작가입니다.\n",
    "\n",
    "보고서의 모든 섹션이 주어질 것입니다.\n",
    "\n",
    "당신의 임무는 간결하고 설득력 있는 서론 또는 결론 섹션을 작성하는 것입니다.\n",
    "\n",
    "사용자가 서론을 작성할지 결론을 작성할지 지시할 것입니다.\n",
    "\n",
    "두 섹션 모두 앞에 서문을 넣지 마세요.\n",
    "\n",
    "보고서의 모든 섹션을 간결하게 미리 보여주거나(서론) 요약하여(결론) 약 100단어로 작성하는 것을 목표로 하세요.\n",
    "\n",
    "마크다운 형식을 사용하세요.\n",
    "\n",
    "서론의 경우, 매력적인 제목을 만들고 제목에 # 헤더를 사용하세요.\n",
    "\n",
    "서론의 경우, 섹션 헤더로 '## Introduction'을 사용하세요.\n",
    "\n",
    "결론의 경우, 섹션 헤더로 '## Conclusion'을 사용하세요.\n",
    "\n",
    "작성 시 참고할 섹션들은 다음과 같습니다: {formatted_str_sections}\"\"\"\n",
    "\n",
    "\n",
    "def write_introduction(state: ResearchGraphState):\n",
    "    \"\"\"서론을 작성합니다.\"\"\"\n",
    "    # 전체 섹션 목록\n",
    "    sections = state[\"sections\"]\n",
    "    topic = state[\"topic\"]\n",
    "\n",
    "    # 모든 섹션을 하나로 합치기\n",
    "    formatted_str_sections = \"\\n\\n\".join([f\"{section}\" for section in sections])\n",
    "\n",
    "    # 최종 보고서 요약\n",
    "    instructions = intro_conclusion_instructions.format(\n",
    "        topic=topic, formatted_str_sections=formatted_str_sections\n",
    "    )\n",
    "    intro = llm.invoke(\n",
    "        [instructions] + [HumanMessage(content=f\"보고서의 서론을 작성해주세요.\")]\n",
    "    )\n",
    "    return {\"introduction\": intro.content}\n",
    "\n",
    "\n",
    "def write_conclusion(state: ResearchGraphState):\n",
    "    \"\"\"결론을 작성합니다.\"\"\"\n",
    "    # 전체 섹션 목록\n",
    "    sections = state[\"sections\"]\n",
    "    topic = state[\"topic\"]\n",
    "\n",
    "    # 모든 섹션을 하나로 합치기\n",
    "    formatted_str_sections = \"\\n\\n\".join([f\"{section}\" for section in sections])\n",
    "\n",
    "    # 최종 보고서 요약\n",
    "    instructions = intro_conclusion_instructions.format(\n",
    "        topic=topic, formatted_str_sections=formatted_str_sections\n",
    "    )\n",
    "    conclusion = llm.invoke(\n",
    "        [instructions] + [HumanMessage(content=f\"보고서의 결론을 작성해주세요.\")]\n",
    "    )\n",
    "    return {\"conclusion\": conclusion.content}\n",
    "\n",
    "\n",
    "def finalize_report(state: ResearchGraphState):\n",
    "    \"\"\"모든 섹션을 수집하고 결합한 후, 이를 바탕으로 서론/결론을 작성하는 \"리듀스(reduce)\" 단계입니다.\"\"\"\n",
    "    # 전체 최종 보고서 저장\n",
    "    content = state[\"content\"]\n",
    "    if content.startswith(\"## Insights\"):\n",
    "        content = content.strip(\"## Insights\")\n",
    "    if \"## Sources\" in content:\n",
    "        try:\n",
    "            content, sources = content.split(\"\\n## Sources\\n\")\n",
    "        except:\n",
    "            sources = None\n",
    "    else:\n",
    "        sources = None\n",
    "\n",
    "    final_report = (\n",
    "        state[\"introduction\"]\n",
    "        + \"\\n\\n---\\n\\n\"\n",
    "        + content\n",
    "        + \"\\n\\n---\\n\\n\"\n",
    "        + state[\"conclusion\"]\n",
    "    )\n",
    "    if sources is not None:\n",
    "        final_report += \"\\n\\n## Sources\\n\" + sources\n",
    "    return {\"final_report\": final_report}\n",
    "\n",
    "\n",
    "# 노드와 엣지 추가\n",
    "builder = StateGraph(ResearchGraphState)\n",
    "builder.add_node(\"create_analysts\", create_analysts)\n",
    "builder.add_node(\"human_feedback\", human_feedback)\n",
    "builder.add_node(\"conduct_interview\", interview_graph)\n",
    "builder.add_node(\"write_report\", write_report)\n",
    "builder.add_node(\"write_introduction\", write_introduction)\n",
    "builder.add_node(\"write_conclusion\", write_conclusion)\n",
    "builder.add_node(\"finalize_report\", finalize_report)\n",
    "\n",
    "# 로직(흐름) 정의\n",
    "builder.add_edge(START, \"create_analysts\")\n",
    "builder.add_edge(\"create_analysts\", \"human_feedback\")\n",
    "builder.add_conditional_edges(\n",
    "    \"human_feedback\",\n",
    "    initiate_all_interviews,\n",
    "    [\"create_analysts\", \"conduct_interview\"],\n",
    ")\n",
    "builder.add_edge(\"conduct_interview\", \"write_report\")\n",
    "builder.add_edge(\"conduct_interview\", \"write_introduction\")\n",
    "builder.add_edge(\"conduct_interview\", \"write_conclusion\")\n",
    "builder.add_edge(\n",
    "    [\"write_conclusion\", \"write_report\", \"write_introduction\"],\n",
    "    \"finalize_report\",\n",
    ")\n",
    "builder.add_edge(\"finalize_report\", END)\n",
    "\n",
    "# 컴파일\n",
    "memory = MemorySaver()\n",
    "graph = builder.compile(interrupt_before=[\"human_feedback\"], checkpointer=memory)\n",
    "display(Image(graph.get_graph(xray=1).draw_mermaid_png()))"
   ]
  },
  {
   "cell_type": "markdown",
   "id": "1b64ba9a-2b5e-40e1-a778-0f635aa3f6d0",
   "metadata": {},
   "source": [
    "LangGraph에 대해 자유롭게 질문해 봅시다."
   ]
  },
  {
   "cell_type": "code",
   "execution_count": 29,
   "id": "362932ee-4106-4a2d-a32d-b812eafcf9df",
   "metadata": {},
   "outputs": [
    {
     "name": "stdout",
     "output_type": "stream",
     "text": [
      "이름: Alice Kim\n",
      "소속: Tech Research Institute\n",
      "역할: Technical Analyst\n",
      "설명: Alice focuses on the technical advantages of adopting LangGraph as an agent framework. She is particularly interested in how LangGraph's architecture can enhance system scalability and integration with existing technologies. Her research delves into the modular design of LangGraph and its impact on reducing development time and improving system performance.\n",
      "--------------------------------------------------\n",
      "이름: John Lee\n",
      "소속: Business Insights Co.\n",
      "역할: Business Analyst\n",
      "설명: John examines the business implications of using LangGraph. He is keen on understanding how LangGraph can provide competitive advantages to companies by reducing costs and increasing efficiency. His analysis includes case studies of businesses that have successfully integrated LangGraph into their operations, highlighting the economic benefits and potential return on investment.\n",
      "--------------------------------------------------\n",
      "이름: Maria Gonzalez\n",
      "소속: AI Ethics Consortium\n",
      "역할: Ethical Analyst\n",
      "설명: Maria is dedicated to exploring the ethical considerations of implementing LangGraph in AI systems. She investigates the potential risks and ethical dilemmas that may arise, such as data privacy concerns and the impact on employment. Maria's work aims to ensure that the adoption of LangGraph aligns with ethical standards and promotes responsible AI development.\n",
      "--------------------------------------------------\n"
     ]
    }
   ],
   "source": [
    "# 입력\n",
    "max_analysts = 3\n",
    "topic = \"에이전트 프레임워크로서 LangGraph를 채택할 때의 이점\"\n",
    "thread = {\"configurable\": {\"thread_id\": \"1\"}}\n",
    "\n",
    "# 첫 번째 중단(interruption) 지점까지 그래프 실행\n",
    "for event in graph.stream(\n",
    "    {\"topic\": topic, \"max_analysts\": max_analysts}, thread, stream_mode=\"values\"\n",
    "):\n",
    "    analysts = event.get(\"analysts\", \"\")\n",
    "    if analysts:\n",
    "        for analyst in analysts:\n",
    "            print(f\"이름: {analyst.name}\")\n",
    "            print(f\"소속: {analyst.affiliation}\")\n",
    "            print(f\"역할: {analyst.role}\")\n",
    "            print(f\"설명: {analyst.description}\")\n",
    "            print(\"-\" * 50)"
   ]
  },
  {
   "cell_type": "code",
   "execution_count": 30,
   "id": "ac521a5f-5a4f-44f9-8af9-d05228e20882",
   "metadata": {},
   "outputs": [
    {
     "data": {
      "text/plain": [
       "{'configurable': {'thread_id': '1',\n",
       "  'checkpoint_ns': '',\n",
       "  'checkpoint_id': '1f09f46c-2dd3-6732-8002-0aacf94407f3'}}"
      ]
     },
     "execution_count": 30,
     "metadata": {},
     "output_type": "execute_result"
    }
   ],
   "source": [
    "# 이제 `human_feedback` 노드에서 피드백을 제공한 것처럼 상태를 업데이트합니다.\n",
    "graph.update_state(\n",
    "    thread,\n",
    "    {\"human_analyst_feedback\": \"생성형 AI 네이티브 스타트업의 CEO를 추가해주세요.\"},\n",
    "    as_node=\"human_feedback\",\n",
    ")"
   ]
  },
  {
   "cell_type": "code",
   "execution_count": 31,
   "id": "a3be311f-62ee-49e7-b037-75c53d8960a8",
   "metadata": {},
   "outputs": [
    {
     "name": "stdout",
     "output_type": "stream",
     "text": [
      "이름: Alice Kim\n",
      "소속: Tech Research Institute\n",
      "역할: Technical Analyst\n",
      "설명: Alice focuses on the technical advantages of adopting LangGraph as an agent framework. She is particularly interested in how LangGraph's architecture can enhance system scalability and integration with existing technologies. Her research delves into the modular design of LangGraph and its impact on reducing development time and improving system performance.\n",
      "--------------------------------------------------\n",
      "이름: John Lee\n",
      "소속: Business Insights Co.\n",
      "역할: Business Analyst\n",
      "설명: John examines the business implications of using LangGraph. He is keen on understanding how LangGraph can provide competitive advantages to companies by reducing costs and increasing efficiency. His analysis includes case studies of businesses that have successfully integrated LangGraph into their operations, highlighting the economic benefits and potential return on investment.\n",
      "--------------------------------------------------\n",
      "이름: Maria Gonzalez\n",
      "소속: AI Ethics Consortium\n",
      "역할: Ethical Analyst\n",
      "설명: Maria is dedicated to exploring the ethical considerations of implementing LangGraph in AI systems. She investigates the potential risks and ethical dilemmas that may arise, such as data privacy concerns and the impact on employment. Maria's work aims to ensure that the adoption of LangGraph aligns with ethical standards and promotes responsible AI development.\n",
      "--------------------------------------------------\n",
      "이름: Dr. Emily Carter\n",
      "소속: Tech Research Institute\n",
      "역할: AI Researcher\n",
      "설명: Dr. Carter is focused on the technical advantages of adopting LangGraph as an agent framework. She is particularly interested in how LangGraph can enhance the efficiency and scalability of AI systems. Her research delves into the architectural benefits and the potential for improved data processing capabilities.\n",
      "--------------------------------------------------\n",
      "이름: Michael Thompson\n",
      "소속: Global Business Consulting\n",
      "역할: Business Strategist\n",
      "설명: Michael Thompson analyzes the strategic business benefits of integrating LangGraph into existing systems. He is keen on understanding how LangGraph can provide competitive advantages, reduce operational costs, and facilitate innovation in business processes. His insights are geared towards decision-makers looking to leverage technology for business growth.\n",
      "--------------------------------------------------\n",
      "이름: Sophia Lee\n",
      "소속: AI Startup Inc.\n",
      "역할: CEO of a Generative AI Startup\n",
      "설명: Sophia Lee brings a practical perspective from the startup world, focusing on how LangGraph can be a game-changer for AI-native startups. She is interested in the framework's potential to accelerate product development, enhance collaboration among AI teams, and support rapid prototyping and deployment of AI solutions.\n",
      "--------------------------------------------------\n"
     ]
    }
   ],
   "source": [
    "# 확인\n",
    "for event in graph.stream(None, thread, stream_mode=\"values\"):\n",
    "    analysts = event.get(\"analysts\", \"\")\n",
    "    if analysts:\n",
    "        for analyst in analysts:\n",
    "            print(f\"이름: {analyst.name}\")\n",
    "            print(f\"소속: {analyst.affiliation}\")\n",
    "            print(f\"역할: {analyst.role}\")\n",
    "            print(f\"설명: {analyst.description}\")\n",
    "            print(\"-\" * 50)"
   ]
  },
  {
   "cell_type": "code",
   "execution_count": 32,
   "id": "0af41f54-88d9-4597-98b0-444c08322095",
   "metadata": {},
   "outputs": [
    {
     "data": {
      "text/plain": [
       "{'configurable': {'thread_id': '1',\n",
       "  'checkpoint_ns': '',\n",
       "  'checkpoint_id': '1f09f46c-7916-678a-8004-bbf922d62405'}}"
      ]
     },
     "execution_count": 32,
     "metadata": {},
     "output_type": "execute_result"
    }
   ],
   "source": [
    "# 우리가 만족하는지 확인\n",
    "graph.update_state(thread, {\"human_analyst_feedback\": None}, as_node=\"human_feedback\")"
   ]
  },
  {
   "cell_type": "code",
   "execution_count": 33,
   "id": "37123ca7-c20b-43c1-9a71-39ba344e7ca6",
   "metadata": {},
   "outputs": [
    {
     "name": "stdout",
     "output_type": "stream",
     "text": [
      "--Node--\n",
      "conduct_interview\n",
      "--Node--\n",
      "conduct_interview\n",
      "--Node--\n",
      "conduct_interview\n",
      "--Node--\n",
      "write_introduction\n",
      "--Node--\n",
      "write_conclusion\n",
      "--Node--\n",
      "write_report\n",
      "--Node--\n",
      "finalize_report\n"
     ]
    }
   ],
   "source": [
    "# 계속\n",
    "for event in graph.stream(None, thread, stream_mode=\"updates\"):\n",
    "    print(\"--Node--\")\n",
    "    node_name = next(iter(event.keys()))\n",
    "    print(node_name)"
   ]
  },
  {
   "cell_type": "code",
   "execution_count": 34,
   "id": "f8f66ad8-80fd-4eb2-96b6-6ae9dffd060c",
   "metadata": {},
   "outputs": [
    {
     "data": {
      "text/markdown": [
       "# Enhancing AI Systems with LangGraph: Technical Advantages and Scalability\n",
       "\n",
       "## Introduction\n",
       "\n",
       "In the dynamic realm of artificial intelligence, the quest for frameworks that offer both efficiency and scalability is relentless. LangGraph, an open-source AI agent framework developed by LangChain, emerges as a formidable solution for constructing, deploying, and managing complex generative AI agent workflows. This report delves into the technical advantages of LangGraph, highlighting its graph-based architecture, scalability, and enhanced decision-making capabilities. Additionally, it explores the strategic business benefits of integrating LangGraph, such as improved developer productivity, cost reduction, and fostering innovation. Finally, the report examines how AI-native startups can leverage LangGraph to accelerate product development and enhance collaboration, positioning themselves competitively in the market.\n",
       "\n",
       "---\n",
       "\n",
       "\n",
       "\n",
       "LangGraph, an open-source AI agent framework developed by LangChain, offers a multitude of advantages for enhancing AI systems, providing strategic business benefits, and serving as a catalyst for AI-native startups. Its graph-based architecture and integration capabilities make it a powerful tool for building, deploying, and managing complex AI workflows.\n",
       "\n",
       "LangGraph's graph-based architecture is a significant technical advantage, allowing for the modeling and management of intricate relationships between AI agent components. This approach supports dynamic, modular, and scalable AI reasoning systems by enabling AI agents to interact through directed graphs, moving beyond traditional linear workflows [1][2]. The framework's ability to scale AI workflows without sacrificing efficiency is another key benefit. It allows for parallel and asynchronous processing, which significantly improves speed and efficiency, especially in multi-agent collaborations [1][3].\n",
       "\n",
       "The framework enhances decision-making and reflection by modeling complex relationships between nodes, allowing AI agents to analyze past actions and feedback. This process, known as reflection, enables the development of more sophisticated AI models that learn and improve over time [1]. Additionally, LangGraph's integration with Amazon Bedrock advances multi-agent system development by providing a robust framework for sophisticated AI applications, addressing challenges in state management, agent coordination, and workflow orchestration [2].\n",
       "\n",
       "LangGraph also improves explainability and debugging, offering a structured and controllable way to build agents. This results in faster development cycles, more reliable applications, and a better end-user experience. The framework's ability to loop, make conditional decisions, and create workflows with multiple specialized agents enhances the explainability and debugging of AI systems [3][4].\n",
       "\n",
       "From a business perspective, LangGraph enhances developer productivity by streamlining operations and facilitating better collaboration among agents, leading to faster decision-making and adaptability to changing market conditions [1][2]. It offers scalability and cost-effectiveness by reducing time-to-market and operational expenses, which is essential for large-scale deployments [1][3]. The framework also facilitates innovation by integrating cutting-edge technologies such as AI and machine learning, supporting the development of innovative applications and enabling businesses to leverage AI for strategic insights [2][3].\n",
       "\n",
       "For AI-native startups, LangGraph plays a crucial role in rapid product development, enhanced team collaboration, and swift prototyping and deployment of AI solutions. It helps manage complex processes effectively by visualizing task dependencies and workflows, which is particularly useful in industries requiring real-time coordination [1]. The framework's ability to visually represent workflows fosters collaboration among developers, data scientists, and domain experts, enhancing cross-functional teamwork [1]. LangGraph also provides a powerful framework for developing state-based multi-actor applications, enabling data-driven decision-making to meet diverse customer needs [2].\n",
       "\n",
       "Overall, LangGraph's innovative approach to AI development, with its focus on graph-based reasoning and multi-agent orchestration, positions it as a valuable tool for researchers, developers, and businesses aiming to create scalable, efficient, and intelligent AI systems.\n",
       "\n",
       "\n",
       "---\n",
       "\n",
       "## Conclusion\n",
       "\n",
       "LangGraph emerges as a transformative framework in the realm of AI development, offering substantial technical and strategic advantages. Its graph-based architecture enhances the scalability and efficiency of AI systems, enabling dynamic and modular workflows. This is particularly beneficial for complex applications like multi-agent systems and AI-native startups. By integrating with platforms like Amazon Bedrock, LangGraph further advances AI capabilities, providing robust solutions for state management and workflow orchestration. Additionally, its ability to improve explainability and debugging makes it a valuable tool for developers. For businesses, adopting LangGraph can lead to increased productivity, cost savings, and innovation, positioning them for future advancements in AI and automation.\n",
       "\n",
       "## Sources\n",
       "[1] https://www.ibm.com/think/topics/langgraph  \n",
       "[2] https://aws.amazon.com/blogs/machine-learning/build-multi-agent-systems-with-langgraph-and-amazon-bedrock/  \n",
       "[3] https://medium.com/@hiya31/langgraph-revolutionizing-ai-workflows-with-graph-based-reasoning-8c7d89f29010  \n",
       "[4] https://www.devoteam.com/expert-view/langgraph-engine-for-multi-agent-systems/  \n",
       "[5] https://sparkco.ai/blog/langgraph-vs-crewai-vs-autogen-2025-production-showdown  \n",
       "[6] https://www.rapidinnovation.io/post/top-3-trending-agentic-ai-frameworks-langgraph-vs-autogen-vs-crew-ai  \n",
       "[7] https://medium.com/@jalajagr/langgraph-ai-agents-automate-competitor-analysis-a-step-by-step-guide-fbce1f956a3b  \n",
       "[8] https://oyelabs.com/langgraph-vs-crewai-vs-openai-swarm-ai-agent-framework/  \n",
       "[9] https://www.langchain.com/langgraph  \n",
       "[10] https://www.solulab.com/build-ai-agents-with-langgraph/"
      ],
      "text/plain": [
       "<IPython.core.display.Markdown object>"
      ]
     },
     "execution_count": 34,
     "metadata": {},
     "output_type": "execute_result"
    }
   ],
   "source": [
    "from IPython.display import Markdown\n",
    "\n",
    "final_state = graph.get_state(thread)\n",
    "report = final_state.values.get(\"final_report\")\n",
    "Markdown(report)"
   ]
  },
  {
   "cell_type": "markdown",
   "id": "e9bf8edd-fb42-496c-9bdb-3f5d7b4d79d3",
   "metadata": {},
   "source": [
    "We can look at the trace:\n",
    "\n",
    "https://smith.langchain.com/public/2933a7bb-bcef-4d2d-9b85-cc735b22ca0c/r"
   ]
  },
  {
   "cell_type": "code",
   "execution_count": null,
   "id": "808bd094",
   "metadata": {},
   "outputs": [],
   "source": []
  }
 ],
 "metadata": {
  "kernelspec": {
   "display_name": ".venv",
   "language": "python",
   "name": "python3"
  },
  "language_info": {
   "codemirror_mode": {
    "name": "ipython",
    "version": 3
   },
   "file_extension": ".py",
   "mimetype": "text/x-python",
   "name": "python",
   "nbconvert_exporter": "python",
   "pygments_lexer": "ipython3",
   "version": "3.12.11"
  }
 },
 "nbformat": 4,
 "nbformat_minor": 5
}
