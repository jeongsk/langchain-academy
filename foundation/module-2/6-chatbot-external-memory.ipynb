{
 "cells": [
  {
   "cell_type": "markdown",
   "id": "cf7ccb32",
   "metadata": {},
   "source": [
    "[![Open in Colab](https://colab.research.google.com/assets/colab-badge.svg)](https://colab.research.google.com/github/langchain-ai/langchain-academy/blob/main/module-2/chatbot-external-memory.ipynb) [![Open in LangChain Academy](https://cdn.prod.website-files.com/65b8cd72835ceeacd4449a53/66e9eba12c7b7688aa3dbb5e_LCA-badge-green.svg)](https://academy.langchain.com/courses/take/intro-to-langgraph/lessons/58239440-lesson-6-chatbot-w-summarizing-messages-and-external-memory)"
   ]
  },
  {
   "cell_type": "markdown",
   "id": "af6c7afe-1037-41ab-98e4-494692e47402",
   "metadata": {},
   "source": [
    "# 메시지 요약 및 외부 DB 메모리를 갖춘 챗봇\n",
    "\n",
    "## 복습\n",
    "\n",
    "그래프 상태 스키마와 리듀서를 커스터마이징하는 방법을 다뤘습니다.\n",
    "\n",
    "또한 그래프 상태에서 메시지를 트리밍하거나 필터링하는 여러 트릭을 보여드렸습니다.\n",
    "\n",
    "이러한 개념들을 대화의 실행 요약을 생성하는 메모리를 갖춘 챗봇에서 사용했습니다.\n",
    "\n",
    "## 목표\n",
    "\n",
    "하지만 챗봇이 무기한으로 지속되는 메모리를 갖기를 원한다면 어떻게 해야 할까요?\n",
    "\n",
    "이제 외부 데이터베이스를 지원하는 더 고급 체크포인터를 소개하겠습니다.\n",
    "\n",
    "여기서는 [Sqlite를 체크포인터로 사용](https://langchain-ai.github.io/langgraph/concepts/low_level/#checkpointer)하는 방법을 보여드리겠지만, [Postgres](https://langchain-ai.github.io/langgraph/how-tos/persistence_postgres/)와 같은 다른 체크포인터도 사용할 수 있습니다!"
   ]
  },
  {
   "cell_type": "code",
   "execution_count": 1,
   "id": "85ed78d9-6ca2-45ac-96a9-52e341ec519d",
   "metadata": {},
   "outputs": [],
   "source": [
    "%%capture --no-stderr\n",
    "%pip install --quiet -U langgraph-checkpoint-sqlite langchain_core langgraph langchain_openai"
   ]
  },
  {
   "cell_type": "code",
   "execution_count": 2,
   "id": "df3f5510",
   "metadata": {},
   "outputs": [
    {
     "data": {
      "text/plain": [
       "True"
      ]
     },
     "execution_count": 2,
     "metadata": {},
     "output_type": "execute_result"
    }
   ],
   "source": [
    "from dotenv import load_dotenv\n",
    "\n",
    "load_dotenv(\"../.env\", override=True)"
   ]
  },
  {
   "cell_type": "code",
   "execution_count": 3,
   "id": "2e10c4d4",
   "metadata": {},
   "outputs": [],
   "source": [
    "import os\n",
    "import getpass\n",
    "\n",
    "\n",
    "def _set_env(var: str):\n",
    "    if not os.environ.get(var):\n",
    "        os.environ[var] = getpass.getpass(f\"{var}: \")\n",
    "\n",
    "\n",
    "_set_env(\"OPENAI_API_KEY\")"
   ]
  },
  {
   "cell_type": "markdown",
   "id": "b40d25c0-e9b5-4854-bf07-3cc3ff07122e",
   "metadata": {},
   "source": [
    "## Sqlite\n",
    "\n",
    "여기서 좋은 시작점은 [SqliteSaver 체크포인터](https://langchain-ai.github.io/langgraph/concepts/low_level/#checkpointer)입니다.\n",
    "\n",
    "Sqlite는 [작고, 빠르고, 매우 인기 있는](https://x.com/karpathy/status/1819490455664685297) SQL 데이터베이스입니다.\n",
    "\n",
    "`\":memory:\"`를 제공하면 인메모리 Sqlite 데이터베이스를 생성합니다."
   ]
  },
  {
   "cell_type": "code",
   "execution_count": 4,
   "id": "fae15402-17ae-4e89-8ecf-4c89e08b22fe",
   "metadata": {},
   "outputs": [],
   "source": [
    "import sqlite3\n",
    "\n",
    "# In memory\n",
    "conn = sqlite3.connect(\":memory:\", check_same_thread=False)"
   ]
  },
  {
   "cell_type": "markdown",
   "id": "c2bf53ec-6d4a-42ce-8183-344795eed403",
   "metadata": {},
   "source": [
    "하지만 db 경로를 제공하면 데이터베이스를 생성해줍니다!"
   ]
  },
  {
   "cell_type": "code",
   "execution_count": 5,
   "id": "58339167-920c-4994-a0a7-0a9c5d4f7cf7",
   "metadata": {},
   "outputs": [],
   "source": [
    "# 파일이 존재하지 않으면 파일을 불러오고 로컬 데이터베이스에 연결합니다.\n",
    "!mkdir -p state_db && [ ! -f state_db/example.db ] && wget -P state_db https://github.com/langchain-ai/langchain-academy/raw/main/module-2/state_db/example.db\n",
    "\n",
    "db_path = \"state_db/example.db\"\n",
    "conn = sqlite3.connect(db_path, check_same_thread=False)"
   ]
  },
  {
   "cell_type": "code",
   "execution_count": 6,
   "id": "3c7736b6-a750-48f8-a838-8e7616b12250",
   "metadata": {},
   "outputs": [],
   "source": [
    "# 여기 우리의 체크포인트입니다\n",
    "from langgraph.checkpoint.sqlite import SqliteSaver\n",
    "\n",
    "memory = SqliteSaver(conn)"
   ]
  },
  {
   "cell_type": "markdown",
   "id": "9d8cb629-213f-4b87-965e-19b812c42da1",
   "metadata": {},
   "source": [
    "우리의 챗봇을 재정의해 봅시다."
   ]
  },
  {
   "cell_type": "code",
   "execution_count": null,
   "id": "dc414e29-2078-41a0-887c-af1a6a3d72c0",
   "metadata": {},
   "outputs": [],
   "source": [
    "from langchain_openai import ChatOpenAI\n",
    "from langchain_core.messages import SystemMessage, HumanMessage, RemoveMessage\n",
    "\n",
    "from langgraph.graph import END\n",
    "from langgraph.graph import MessagesState\n",
    "\n",
    "model = ChatOpenAI(model=\"gpt-4o\", temperature=0)\n",
    "\n",
    "\n",
    "class State(MessagesState):\n",
    "    summary: str\n",
    "\n",
    "\n",
    "# 모델 호출 로직 정의\n",
    "def call_model(state: State):\n",
    "    # 요약이 존재하면 가져오기\n",
    "    summary = state.get(\"summary\", \"\")\n",
    "\n",
    "    # 요약이 있다면 추가합니다\n",
    "    if summary:\n",
    "        # 시스템 메시지에 요약 추가\n",
    "        system_message = f\"이전 대화 요약: {summary}\"\n",
    "\n",
    "        # 요약문을 최신 메시지에 추가하십시오\n",
    "        messages = [SystemMessage(content=system_message)] + state[\"messages\"]\n",
    "\n",
    "    else:\n",
    "        messages = state[\"messages\"]\n",
    "\n",
    "    response = model.invoke(messages)\n",
    "    return {\"messages\": response}\n",
    "\n",
    "\n",
    "def summarize_conversation(state: State):\n",
    "    # 먼저, 기존 요약문을 가져옵니다.\n",
    "    summary = state.get(\"summary\", \"\")\n",
    "\n",
    "    # 요약 프롬프트 생성\n",
    "    if summary:\n",
    "        # A summary already exists\n",
    "        summary_message = (\n",
    "            f\"지금까지의 대화 요약입니다: {summary}\\n\\n\"\n",
    "            \"위의 새로운 메시지를 고려하여 요약을 확장하십시오.:\"\n",
    "        )\n",
    "\n",
    "    else:\n",
    "        summary_message = \"위의 대화 내용을 요약하세요.:\"\n",
    "\n",
    "    # 우리의 기록에 프롬프트를 추가하세요\n",
    "    messages = state[\"messages\"] + [HumanMessage(content=summary_message)]\n",
    "    response = model.invoke(messages)\n",
    "\n",
    "    # 가장 최근의 2개 메시지를 제외한 모든 메시지를 삭제하세요\n",
    "    delete_messages = [RemoveMessage(id=m.id) for m in state[\"messages\"][:-2]]\n",
    "    return {\"summary\": response.content, \"messages\": delete_messages}\n",
    "\n",
    "\n",
    "# 대화를 종료할지 요약할지 결정하십시오\n",
    "def should_continue(state: State):\n",
    "    \"\"\"Return the next node to execute.\"\"\"\n",
    "\n",
    "    messages = state[\"messages\"]\n",
    "\n",
    "    # 메시지가 여섯 개 이상일 경우 대화를 요약합니다\n",
    "    if len(messages) > 6:\n",
    "        return \"summarize_conversation\"\n",
    "\n",
    "    # 그렇지 않으면 그냥 종료합니다\n",
    "    return END"
   ]
  },
  {
   "cell_type": "markdown",
   "id": "41c13c0b-a383-4f73-9cc1-63f0eed8f190",
   "metadata": {},
   "source": [
    "이제 SQLite 체크포인트 도구를 사용해 재컴파일합니다."
   ]
  },
  {
   "cell_type": "code",
   "execution_count": 8,
   "id": "e867fd95-91eb-4ce1-82fc-bb72d611a96d",
   "metadata": {},
   "outputs": [],
   "source": [
    "from IPython.display import Image, display\n",
    "from langgraph.graph import StateGraph, START\n",
    "\n",
    "# Define a new graph\n",
    "workflow = StateGraph(State)\n",
    "workflow.add_node(\"conversation\", call_model)\n",
    "workflow.add_node(summarize_conversation)\n",
    "\n",
    "# Set the entrypoint as conversation\n",
    "workflow.add_edge(START, \"conversation\")\n",
    "workflow.add_conditional_edges(\"conversation\", should_continue)\n",
    "workflow.add_edge(\"summarize_conversation\", END)\n",
    "\n",
    "# Compile\n",
    "graph = workflow.compile(checkpointer=memory)\n",
    "# display(Image(graph.get_graph().draw_mermaid_png()))"
   ]
  },
  {
   "cell_type": "markdown",
   "id": "d2155a9b",
   "metadata": {},
   "source": [
    "![](https://i.imgur.com/lRLhWcK.png)"
   ]
  },
  {
   "cell_type": "markdown",
   "id": "8769db99-3938-45e6-a594-56beb18d6c45",
   "metadata": {},
   "source": [
    "이제 그래프를 여러 번 호출할 수 있습니다."
   ]
  },
  {
   "cell_type": "code",
   "execution_count": null,
   "id": "0f4094a0-d240-4be8-903a-7d9f605bdc5c",
   "metadata": {},
   "outputs": [
    {
     "name": "stdout",
     "output_type": "stream",
     "text": [
      "==================================\u001b[1m Ai Message \u001b[0m==================================\n",
      "\n",
      "안녕하세요, 랜스! 다시 만나서 반갑습니다. 49ers에 대해 더 이야기하고 싶으신가요, 아니면 다른 주제에 대해 이야기하고 싶으신가요? 어떤 것이든 말씀해 주세요!\n",
      "==================================\u001b[1m Ai Message \u001b[0m==================================\n",
      "\n",
      "당신의 이름은 랜스입니다. 맞나요?\n",
      "==================================\u001b[1m Ai Message \u001b[0m==================================\n",
      "\n",
      "49ers를 좋아하시는군요! 정말 멋진 팀이죠. 49ers의 어떤 점이 가장 마음에 드시나요? 특정 선수나 경기, 아니면 팀의 역사에 대해 이야기하고 싶으신 부분이 있나요?\n"
     ]
    }
   ],
   "source": [
    "# Create a thread\n",
    "config = {\"configurable\": {\"thread_id\": \"1\"}}\n",
    "\n",
    "# Start conversation\n",
    "input_message = HumanMessage(content=\"안녕하세요! 저는 랜스입니다.\")\n",
    "output = graph.invoke({\"messages\": [input_message]}, config)\n",
    "for m in output[\"messages\"][-1:]:\n",
    "    m.pretty_print()\n",
    "\n",
    "input_message = HumanMessage(content=\"내 이름이 뭐지?\")\n",
    "output = graph.invoke({\"messages\": [input_message]}, config)\n",
    "for m in output[\"messages\"][-1:]:\n",
    "    m.pretty_print()\n",
    "\n",
    "input_message = HumanMessage(content=\"저는 49ers를 좋아해요!\")\n",
    "output = graph.invoke({\"messages\": [input_message]}, config)\n",
    "for m in output[\"messages\"][-1:]:\n",
    "    m.pretty_print()"
   ]
  },
  {
   "cell_type": "markdown",
   "id": "c0f3e842-4497-45e2-a924-69672a9bcb33",
   "metadata": {},
   "source": [
    "우리의 상태가 로컬에 저장되었는지 확인해 봅시다."
   ]
  },
  {
   "cell_type": "code",
   "execution_count": 10,
   "id": "d2ab158a-5a82-417a-8841-730a4cc18ea7",
   "metadata": {},
   "outputs": [
    {
     "data": {
      "text/plain": [
       "StateSnapshot(values={'messages': [HumanMessage(content='안녕하세요! 저는 랜스입니다.', additional_kwargs={}, response_metadata={}, id='a8750f2e-7ee0-4527-b880-e67c6c0007f1'), AIMessage(content='안녕하세요, 랜스! 다시 만나서 반갑습니다. 49ers에 대해 더 이야기하고 싶으신가요, 아니면 다른 주제에 대해 이야기하고 싶으신가요? 어떤 것이든 말씀해 주세요!', additional_kwargs={'refusal': None}, response_metadata={'token_usage': {'completion_tokens': 49, 'prompt_tokens': 343, 'total_tokens': 392, 'completion_tokens_details': {'accepted_prediction_tokens': 0, 'audio_tokens': 0, 'reasoning_tokens': 0, 'rejected_prediction_tokens': 0}, 'prompt_tokens_details': {'audio_tokens': 0, 'cached_tokens': 0}}, 'model_name': 'gpt-4o-2024-08-06', 'system_fingerprint': 'fp_f33640a400', 'id': 'chatcmpl-CLRIP7qzVUffY3RXSPY72oXz3f7XU', 'service_tier': 'default', 'finish_reason': 'stop', 'logprobs': None}, id='run--aa675b2c-c5e1-47cc-835c-89e04c8c1890-0', usage_metadata={'input_tokens': 343, 'output_tokens': 49, 'total_tokens': 392, 'input_token_details': {'audio': 0, 'cache_read': 0}, 'output_token_details': {'audio': 0, 'reasoning': 0}}), HumanMessage(content='내 이름이 뭐지?', additional_kwargs={}, response_metadata={}, id='5050ee42-eea0-4fa1-9376-d1478340c9a4'), AIMessage(content='당신의 이름은 랜스입니다. 맞나요?', additional_kwargs={'refusal': None}, response_metadata={'token_usage': {'completion_tokens': 12, 'prompt_tokens': 215, 'total_tokens': 227, 'completion_tokens_details': {'accepted_prediction_tokens': 0, 'audio_tokens': 0, 'reasoning_tokens': 0, 'rejected_prediction_tokens': 0}, 'prompt_tokens_details': {'audio_tokens': 0, 'cached_tokens': 0}}, 'model_name': 'gpt-4o-2024-08-06', 'system_fingerprint': 'fp_f33640a400', 'id': 'chatcmpl-CLRITN8olR9YcC3P9Ihgq0ChBcZQm', 'service_tier': 'default', 'finish_reason': 'stop', 'logprobs': None}, id='run--686962af-1f9a-4d30-b17a-e657a6c43bac-0', usage_metadata={'input_tokens': 215, 'output_tokens': 12, 'total_tokens': 227, 'input_token_details': {'audio': 0, 'cache_read': 0}, 'output_token_details': {'audio': 0, 'reasoning': 0}}), HumanMessage(content='저는 49ers를 좋아해요!', additional_kwargs={}, response_metadata={}, id='d1719077-e848-479b-bf02-ba9037514e75'), AIMessage(content='49ers를 좋아하시는군요! 정말 멋진 팀이죠. 49ers의 어떤 점이 가장 마음에 드시나요? 특정 선수나 경기, 아니면 팀의 역사에 대해 이야기하고 싶으신 부분이 있나요?', additional_kwargs={'refusal': None}, response_metadata={'token_usage': {'completion_tokens': 53, 'prompt_tokens': 245, 'total_tokens': 298, 'completion_tokens_details': {'accepted_prediction_tokens': 0, 'audio_tokens': 0, 'reasoning_tokens': 0, 'rejected_prediction_tokens': 0}, 'prompt_tokens_details': {'audio_tokens': 0, 'cached_tokens': 0}}, 'model_name': 'gpt-4o-2024-08-06', 'system_fingerprint': 'fp_f33640a400', 'id': 'chatcmpl-CLRIUa3jIsOveUqyPeXSVq7krmLqJ', 'service_tier': 'default', 'finish_reason': 'stop', 'logprobs': None}, id='run--380f9c84-b183-49cc-b7d1-2e1fd6cfe62e-0', usage_metadata={'input_tokens': 245, 'output_tokens': 53, 'total_tokens': 298, 'input_token_details': {'audio': 0, 'cache_read': 0}, 'output_token_details': {'audio': 0, 'reasoning': 0}})], 'summary': 'Lance introduced himself twice and expressed his interest in the San Francisco 49ers. The AI assistant acknowledged his name each time and offered to discuss various aspects of the 49ers, such as their history, current roster, memorable games, and more. Despite the AI\\'s attempts to engage in a deeper conversation about the team, Lance did not directly respond to these prompts. Instead, he reintroduced himself in Korean, saying \"안녕하세요! 저는 랜스입니다,\" which translates to \"Hello! I am Lance.\" The conversation remained brief and somewhat repetitive, with the focus primarily on introductions and the mention of the 49ers.'}, next=(), config={'configurable': {'thread_id': '1', 'checkpoint_ns': '', 'checkpoint_id': '1f09de2f-5d63-6a54-801b-ae08edb4d40e'}}, metadata={'source': 'loop', 'step': 27, 'parents': {}}, created_at='2025-09-30T09:50:56.111220+00:00', parent_config={'configurable': {'thread_id': '1', 'checkpoint_ns': '', 'checkpoint_id': '1f09de2f-4f46-6fd4-801a-d247a66e8209'}}, tasks=(), interrupts=())"
      ]
     },
     "execution_count": 10,
     "metadata": {},
     "output_type": "execute_result"
    }
   ],
   "source": [
    "config = {\"configurable\": {\"thread_id\": \"1\"}}\n",
    "graph_state = graph.get_state(config)\n",
    "graph_state"
   ]
  },
  {
   "cell_type": "markdown",
   "id": "1e21152d-ed9c-408d-b7d5-f634c9ce81e2",
   "metadata": {},
   "source": [
    "### 상태 지속하기\n",
    "\n",
    "Sqlite와 같은 데이터베이스를 사용한다는 것은 상태가 지속된다는 의미입니다!\n",
    "\n",
    "예를 들어, 노트북 커널을 재시작해도 디스크의 Sqlite DB에서 여전히 로드할 수 있는 것을 확인할 수 있습니다."
   ]
  },
  {
   "cell_type": "code",
   "execution_count": 11,
   "id": "b9a44dc5-be04-45fa-a6fc-27b0f8ee4678",
   "metadata": {},
   "outputs": [
    {
     "data": {
      "text/plain": [
       "StateSnapshot(values={'messages': [HumanMessage(content='안녕하세요! 저는 랜스입니다.', additional_kwargs={}, response_metadata={}, id='a8750f2e-7ee0-4527-b880-e67c6c0007f1'), AIMessage(content='안녕하세요, 랜스! 다시 만나서 반갑습니다. 49ers에 대해 더 이야기하고 싶으신가요, 아니면 다른 주제에 대해 이야기하고 싶으신가요? 어떤 것이든 말씀해 주세요!', additional_kwargs={'refusal': None}, response_metadata={'token_usage': {'completion_tokens': 49, 'prompt_tokens': 343, 'total_tokens': 392, 'completion_tokens_details': {'accepted_prediction_tokens': 0, 'audio_tokens': 0, 'reasoning_tokens': 0, 'rejected_prediction_tokens': 0}, 'prompt_tokens_details': {'audio_tokens': 0, 'cached_tokens': 0}}, 'model_name': 'gpt-4o-2024-08-06', 'system_fingerprint': 'fp_f33640a400', 'id': 'chatcmpl-CLRIP7qzVUffY3RXSPY72oXz3f7XU', 'service_tier': 'default', 'finish_reason': 'stop', 'logprobs': None}, id='run--aa675b2c-c5e1-47cc-835c-89e04c8c1890-0', usage_metadata={'input_tokens': 343, 'output_tokens': 49, 'total_tokens': 392, 'input_token_details': {'audio': 0, 'cache_read': 0}, 'output_token_details': {'audio': 0, 'reasoning': 0}}), HumanMessage(content='내 이름이 뭐지?', additional_kwargs={}, response_metadata={}, id='5050ee42-eea0-4fa1-9376-d1478340c9a4'), AIMessage(content='당신의 이름은 랜스입니다. 맞나요?', additional_kwargs={'refusal': None}, response_metadata={'token_usage': {'completion_tokens': 12, 'prompt_tokens': 215, 'total_tokens': 227, 'completion_tokens_details': {'accepted_prediction_tokens': 0, 'audio_tokens': 0, 'reasoning_tokens': 0, 'rejected_prediction_tokens': 0}, 'prompt_tokens_details': {'audio_tokens': 0, 'cached_tokens': 0}}, 'model_name': 'gpt-4o-2024-08-06', 'system_fingerprint': 'fp_f33640a400', 'id': 'chatcmpl-CLRITN8olR9YcC3P9Ihgq0ChBcZQm', 'service_tier': 'default', 'finish_reason': 'stop', 'logprobs': None}, id='run--686962af-1f9a-4d30-b17a-e657a6c43bac-0', usage_metadata={'input_tokens': 215, 'output_tokens': 12, 'total_tokens': 227, 'input_token_details': {'audio': 0, 'cache_read': 0}, 'output_token_details': {'audio': 0, 'reasoning': 0}}), HumanMessage(content='저는 49ers를 좋아해요!', additional_kwargs={}, response_metadata={}, id='d1719077-e848-479b-bf02-ba9037514e75'), AIMessage(content='49ers를 좋아하시는군요! 정말 멋진 팀이죠. 49ers의 어떤 점이 가장 마음에 드시나요? 특정 선수나 경기, 아니면 팀의 역사에 대해 이야기하고 싶으신 부분이 있나요?', additional_kwargs={'refusal': None}, response_metadata={'token_usage': {'completion_tokens': 53, 'prompt_tokens': 245, 'total_tokens': 298, 'completion_tokens_details': {'accepted_prediction_tokens': 0, 'audio_tokens': 0, 'reasoning_tokens': 0, 'rejected_prediction_tokens': 0}, 'prompt_tokens_details': {'audio_tokens': 0, 'cached_tokens': 0}}, 'model_name': 'gpt-4o-2024-08-06', 'system_fingerprint': 'fp_f33640a400', 'id': 'chatcmpl-CLRIUa3jIsOveUqyPeXSVq7krmLqJ', 'service_tier': 'default', 'finish_reason': 'stop', 'logprobs': None}, id='run--380f9c84-b183-49cc-b7d1-2e1fd6cfe62e-0', usage_metadata={'input_tokens': 245, 'output_tokens': 53, 'total_tokens': 298, 'input_token_details': {'audio': 0, 'cache_read': 0}, 'output_token_details': {'audio': 0, 'reasoning': 0}})], 'summary': 'Lance introduced himself twice and expressed his interest in the San Francisco 49ers. The AI assistant acknowledged his name each time and offered to discuss various aspects of the 49ers, such as their history, current roster, memorable games, and more. Despite the AI\\'s attempts to engage in a deeper conversation about the team, Lance did not directly respond to these prompts. Instead, he reintroduced himself in Korean, saying \"안녕하세요! 저는 랜스입니다,\" which translates to \"Hello! I am Lance.\" The conversation remained brief and somewhat repetitive, with the focus primarily on introductions and the mention of the 49ers.'}, next=(), config={'configurable': {'thread_id': '1', 'checkpoint_ns': '', 'checkpoint_id': '1f09de2f-5d63-6a54-801b-ae08edb4d40e'}}, metadata={'source': 'loop', 'step': 27, 'parents': {}}, created_at='2025-09-30T09:50:56.111220+00:00', parent_config={'configurable': {'thread_id': '1', 'checkpoint_ns': '', 'checkpoint_id': '1f09de2f-4f46-6fd4-801a-d247a66e8209'}}, tasks=(), interrupts=())"
      ]
     },
     "execution_count": 11,
     "metadata": {},
     "output_type": "execute_result"
    }
   ],
   "source": [
    "# Create a thread\n",
    "config = {\"configurable\": {\"thread_id\": \"1\"}}\n",
    "graph_state = graph.get_state(config)\n",
    "graph_state"
   ]
  },
  {
   "cell_type": "code",
   "execution_count": 12,
   "id": "52b3c980",
   "metadata": {},
   "outputs": [
    {
     "data": {
      "text/plain": [
       "StateSnapshot(values={'messages': [HumanMessage(content='안녕하세요! 저는 랜스입니다.', additional_kwargs={}, response_metadata={}, id='a8750f2e-7ee0-4527-b880-e67c6c0007f1'), AIMessage(content='안녕하세요, 랜스! 다시 만나서 반갑습니다. 49ers에 대해 더 이야기하고 싶으신가요, 아니면 다른 주제에 대해 이야기하고 싶으신가요? 어떤 것이든 말씀해 주세요!', additional_kwargs={'refusal': None}, response_metadata={'token_usage': {'completion_tokens': 49, 'prompt_tokens': 343, 'total_tokens': 392, 'completion_tokens_details': {'accepted_prediction_tokens': 0, 'audio_tokens': 0, 'reasoning_tokens': 0, 'rejected_prediction_tokens': 0}, 'prompt_tokens_details': {'audio_tokens': 0, 'cached_tokens': 0}}, 'model_name': 'gpt-4o-2024-08-06', 'system_fingerprint': 'fp_f33640a400', 'id': 'chatcmpl-CLRIP7qzVUffY3RXSPY72oXz3f7XU', 'service_tier': 'default', 'finish_reason': 'stop', 'logprobs': None}, id='run--aa675b2c-c5e1-47cc-835c-89e04c8c1890-0', usage_metadata={'input_tokens': 343, 'output_tokens': 49, 'total_tokens': 392, 'input_token_details': {'audio': 0, 'cache_read': 0}, 'output_token_details': {'audio': 0, 'reasoning': 0}}), HumanMessage(content='내 이름이 뭐지?', additional_kwargs={}, response_metadata={}, id='5050ee42-eea0-4fa1-9376-d1478340c9a4'), AIMessage(content='당신의 이름은 랜스입니다. 맞나요?', additional_kwargs={'refusal': None}, response_metadata={'token_usage': {'completion_tokens': 12, 'prompt_tokens': 215, 'total_tokens': 227, 'completion_tokens_details': {'accepted_prediction_tokens': 0, 'audio_tokens': 0, 'reasoning_tokens': 0, 'rejected_prediction_tokens': 0}, 'prompt_tokens_details': {'audio_tokens': 0, 'cached_tokens': 0}}, 'model_name': 'gpt-4o-2024-08-06', 'system_fingerprint': 'fp_f33640a400', 'id': 'chatcmpl-CLRITN8olR9YcC3P9Ihgq0ChBcZQm', 'service_tier': 'default', 'finish_reason': 'stop', 'logprobs': None}, id='run--686962af-1f9a-4d30-b17a-e657a6c43bac-0', usage_metadata={'input_tokens': 215, 'output_tokens': 12, 'total_tokens': 227, 'input_token_details': {'audio': 0, 'cache_read': 0}, 'output_token_details': {'audio': 0, 'reasoning': 0}}), HumanMessage(content='저는 49ers를 좋아해요!', additional_kwargs={}, response_metadata={}, id='d1719077-e848-479b-bf02-ba9037514e75'), AIMessage(content='49ers를 좋아하시는군요! 정말 멋진 팀이죠. 49ers의 어떤 점이 가장 마음에 드시나요? 특정 선수나 경기, 아니면 팀의 역사에 대해 이야기하고 싶으신 부분이 있나요?', additional_kwargs={'refusal': None}, response_metadata={'token_usage': {'completion_tokens': 53, 'prompt_tokens': 245, 'total_tokens': 298, 'completion_tokens_details': {'accepted_prediction_tokens': 0, 'audio_tokens': 0, 'reasoning_tokens': 0, 'rejected_prediction_tokens': 0}, 'prompt_tokens_details': {'audio_tokens': 0, 'cached_tokens': 0}}, 'model_name': 'gpt-4o-2024-08-06', 'system_fingerprint': 'fp_f33640a400', 'id': 'chatcmpl-CLRIUa3jIsOveUqyPeXSVq7krmLqJ', 'service_tier': 'default', 'finish_reason': 'stop', 'logprobs': None}, id='run--380f9c84-b183-49cc-b7d1-2e1fd6cfe62e-0', usage_metadata={'input_tokens': 245, 'output_tokens': 53, 'total_tokens': 298, 'input_token_details': {'audio': 0, 'cache_read': 0}, 'output_token_details': {'audio': 0, 'reasoning': 0}})], 'summary': 'Lance introduced himself twice and expressed his interest in the San Francisco 49ers. The AI assistant acknowledged his name each time and offered to discuss various aspects of the 49ers, such as their history, current roster, memorable games, and more. Despite the AI\\'s attempts to engage in a deeper conversation about the team, Lance did not directly respond to these prompts. Instead, he reintroduced himself in Korean, saying \"안녕하세요! 저는 랜스입니다,\" which translates to \"Hello! I am Lance.\" The conversation remained brief and somewhat repetitive, with the focus primarily on introductions and the mention of the 49ers.'}, next=(), config={'configurable': {'thread_id': '1', 'checkpoint_ns': '', 'checkpoint_id': '1f09de2f-5d63-6a54-801b-ae08edb4d40e'}}, metadata={'source': 'loop', 'step': 27, 'parents': {}}, created_at='2025-09-30T09:50:56.111220+00:00', parent_config={'configurable': {'thread_id': '1', 'checkpoint_ns': '', 'checkpoint_id': '1f09de2f-4f46-6fd4-801a-d247a66e8209'}}, tasks=(), interrupts=())"
      ]
     },
     "execution_count": 12,
     "metadata": {},
     "output_type": "execute_result"
    }
   ],
   "source": [
    "from langchain_core.runnables import RunnableConfig\n",
    "\n",
    "config = RunnableConfig(recursion_limit=10, configurable={\"thread_id\": \"1\"})\n",
    "graph_state = graph.get_state(config)\n",
    "graph_state"
   ]
  },
  {
   "cell_type": "code",
   "execution_count": null,
   "id": "fa639886",
   "metadata": {},
   "outputs": [],
   "source": []
  }
 ],
 "metadata": {
  "kernelspec": {
   "display_name": ".venv",
   "language": "python",
   "name": "python3"
  },
  "language_info": {
   "codemirror_mode": {
    "name": "ipython",
    "version": 3
   },
   "file_extension": ".py",
   "mimetype": "text/x-python",
   "name": "python",
   "nbconvert_exporter": "python",
   "pygments_lexer": "ipython3",
   "version": "3.12.11"
  }
 },
 "nbformat": 4,
 "nbformat_minor": 5
}
