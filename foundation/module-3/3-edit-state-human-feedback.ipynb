{
 "cells": [
  {
   "cell_type": "markdown",
   "id": "147e576c",
   "metadata": {},
   "source": [
    "[![Open in Colab](https://colab.research.google.com/assets/colab-badge.svg)](https://colab.research.google.com/github/langchain-ai/langchain-academy/blob/main/module-3/edit-state-human-feedback.ipynb) [![Open in LangChain Academy](https://cdn.prod.website-files.com/65b8cd72835ceeacd4449a53/66e9eba12c7b7688aa3dbb5e_LCA-badge-green.svg)](https://academy.langchain.com/courses/take/intro-to-langgraph/lessons/58239520-lesson-3-editing-state-and-human-feedback)"
   ]
  },
  {
   "cell_type": "markdown",
   "id": "3b2f2448-21c3-4196-9e61-0b47e7d0048b",
   "metadata": {},
   "source": [
    "# 그래프 상태 편집\n",
    "\n",
    "## 복습\n",
    "\n",
    "우리는 Human-in-the-Loop의 동기에 대해 논의했습니다:\n",
    "\n",
    "(1) `승인` - 에이전트를 중단하고, 사용자에게 상태를 표시하며, 사용자가 작업을 승인할 수 있도록 할 수 있습니다\n",
    "\n",
    "(2) `디버깅` - 그래프를 되감아 문제를 재현하거나 회피할 수 있습니다\n",
    "\n",
    "(3) `편집` - 상태를 수정할 수 있습니다\n",
    "\n",
    "중단점이 사용자 승인을 어떻게 지원하는지 보여주었지만, 그래프가 중단되었을 때 그래프 상태를 수정하는 방법은 아직 알아보지 않았습니다!\n",
    "\n",
    "## 목표\n",
    "\n",
    "이제 그래프 상태를 직접 편집하고 사람의 피드백을 삽입하는 방법을 보여드리겠습니다."
   ]
  },
  {
   "cell_type": "code",
   "execution_count": 23,
   "id": "95d26b8c-d958-4d21-9ca4-4636d3dfe45c",
   "metadata": {},
   "outputs": [],
   "source": [
    "%%capture --no-stderr\n",
    "%pip install --quiet -U langgraph langchain_openai langgraph_sdk langgraph-prebuilt"
   ]
  },
  {
   "cell_type": "code",
   "execution_count": 24,
   "id": "120350a4",
   "metadata": {},
   "outputs": [
    {
     "data": {
      "text/plain": [
       "True"
      ]
     },
     "execution_count": 24,
     "metadata": {},
     "output_type": "execute_result"
    }
   ],
   "source": [
    "from dotenv import load_dotenv\n",
    "\n",
    "load_dotenv(\"../.env\", override=True)"
   ]
  },
  {
   "cell_type": "code",
   "execution_count": 25,
   "id": "d5948594",
   "metadata": {},
   "outputs": [],
   "source": [
    "import os\n",
    "import getpass\n",
    "\n",
    "\n",
    "def _set_env(var: str):\n",
    "    if not os.environ.get(var):\n",
    "        os.environ[var] = getpass.getpass(f\"{var}: \")\n",
    "\n",
    "\n",
    "_set_env(\"OPENAI_API_KEY\")"
   ]
  },
  {
   "cell_type": "markdown",
   "id": "65a8df1f-a76a-4803-a532-ea9802106ac8",
   "metadata": {},
   "source": [
    "## 상태 편집\n",
    "\n",
    "이전에 중단점을 소개했습니다.\n",
    "\n",
    "중단점을 사용하여 그래프를 중단하고 다음 노드를 실행하기 전에 사용자 승인을 기다렸습니다.\n",
    "\n",
    "하지만 중단점은 [그래프 상태를 수정할 수 있는 기회](https://langchain-ai.github.io/langgraph/how-tos/human_in_the_loop/edit-graph-state/)이기도 합니다.\n",
    "\n",
    "`assistant` 노드 전에 중단점이 있는 에이전트를 설정해보겠습니다."
   ]
  },
  {
   "cell_type": "code",
   "execution_count": null,
   "id": "bcf24f05-ac2b-455e-846c-0c50ac86e1f4",
   "metadata": {},
   "outputs": [],
   "source": [
    "from langchain_openai import ChatOpenAI\n",
    "\n",
    "\n",
    "def multiply(a: int, b: int) -> int:\n",
    "    \"\"\"Multiply a and b.\n",
    "\n",
    "    Args:\n",
    "        a: first int\n",
    "        b: second int\n",
    "    \"\"\"\n",
    "    return a * b\n",
    "\n",
    "\n",
    "# This will be a tool\n",
    "def add(a: int, b: int) -> int:\n",
    "    \"\"\"Adds a and b.\n",
    "\n",
    "    Args:\n",
    "        a: first int\n",
    "        b: second int\n",
    "    \"\"\"\n",
    "    return a + b\n",
    "\n",
    "\n",
    "def divide(a: int, b: int) -> float:\n",
    "    \"\"\"Divide a by b.\n",
    "\n",
    "    Args:\n",
    "        a: first int\n",
    "        b: second int\n",
    "    \"\"\"\n",
    "    return a / b\n",
    "\n",
    "\n",
    "tools = [add, multiply, divide]\n",
    "llm = ChatOpenAI(model=\"gpt-4o\")\n",
    "llm_with_tools = llm.bind_tools(tools)"
   ]
  },
  {
   "cell_type": "code",
   "execution_count": null,
   "id": "5dfe84af-5c62-4c3f-8ed7-96b5261f0b7b",
   "metadata": {},
   "outputs": [
    {
     "data": {
      "image/png": "[encoded data removed]",
      "text/plain": [
       "<IPython.core.display.Image object>"
      ]
     },
     "metadata": {},
     "output_type": "display_data"
    }
   ],
   "source": [
    "from IPython.display import Image, display\n",
    "\n",
    "from langgraph.checkpoint.memory import MemorySaver\n",
    "from langgraph.graph import MessagesState\n",
    "from langgraph.graph import START, StateGraph\n",
    "from langgraph.prebuilt import tools_condition, ToolNode\n",
    "\n",
    "from langchain_core.messages import HumanMessage, SystemMessage\n",
    "\n",
    "# System message\n",
    "sys_msg = SystemMessage(\n",
    "    content=\"당신은 입력값에 대해 산술 연산을 수행하는 임무를 맡은 유용한 보조자입니다.\"\n",
    ")\n",
    "\n",
    "\n",
    "# Node\n",
    "def assistant(state: MessagesState):\n",
    "    response = llm_with_tools.invoke([sys_msg] + state[\"messages\"])\n",
    "    return {\"messages\": [response]}\n",
    "\n",
    "\n",
    "# Graph\n",
    "builder = StateGraph(MessagesState)\n",
    "\n",
    "# Define nodes: these do the work\n",
    "builder.add_node(\"assistant\", assistant)\n",
    "builder.add_node(\"tools\", ToolNode(tools))\n",
    "\n",
    "# Define edges: these determine the control flow\n",
    "builder.add_edge(START, \"assistant\")\n",
    "builder.add_conditional_edges(\n",
    "    \"assistant\",\n",
    "    # If the latest message (result) from assistant is a tool call -> tools_condition routes to tools\n",
    "    # If the latest message (result) from assistant is a not a tool call -> tools_condition routes to END\n",
    "    tools_condition,\n",
    ")\n",
    "builder.add_edge(\"tools\", \"assistant\")\n",
    "\n",
    "memory = MemorySaver()\n",
    "graph = builder.compile(interrupt_before=[\"assistant\"], checkpointer=memory)\n",
    "\n",
    "# Show\n",
    "display(Image(graph.get_graph(xray=True).draw_mermaid_png()))"
   ]
  },
  {
   "cell_type": "markdown",
   "id": "92a47fd5-1f60-41dc-9206-698ed8ece530",
   "metadata": {},
   "source": [
    "실행해봅시다!\n",
    "\n",
    "챗 모델이 응답하기 전에 그래프가 중단된 것을 볼 수 있습니다."
   ]
  },
  {
   "cell_type": "code",
   "execution_count": null,
   "id": "a2ce488d-00e4-492e-a62c-dd98702c313f",
   "metadata": {},
   "outputs": [
    {
     "name": "stdout",
     "output_type": "stream",
     "text": [
      "================================\u001b[1m Human Message \u001b[0m=================================\n",
      "\n",
      "2와 3을 곱하세요\n"
     ]
    }
   ],
   "source": [
    "# Input\n",
    "initial_input = {\"messages\": \"2와 3을 곱하세요\"}\n",
    "\n",
    "# Thread\n",
    "thread = {\"configurable\": {\"thread_id\": \"1\"}}\n",
    "\n",
    "# 첫 번째 중단이 발생할 때까지 그래프를 실행하십시오\n",
    "for event in graph.stream(initial_input, thread, stream_mode=\"values\"):\n",
    "    event[\"messages\"][-1].pretty_print()"
   ]
  },
  {
   "cell_type": "code",
   "execution_count": 29,
   "id": "4be478ef-bd60-4d32-8a05-5f56c93a8396",
   "metadata": {},
   "outputs": [
    {
     "data": {
      "text/plain": [
       "StateSnapshot(values={'messages': [HumanMessage(content='2와 3을 곱하세요', additional_kwargs={}, response_metadata={}, id='5d929da1-add6-454c-8573-87d3e254fcbe')]}, next=('assistant',), config={'configurable': {'thread_id': '1', 'checkpoint_ns': '', 'checkpoint_id': '1f09e7da-39b4-6568-8000-bdd9c9cc0472'}}, metadata={'source': 'loop', 'step': 0, 'parents': {}}, created_at='2025-10-01T04:18:10.144799+00:00', parent_config={'configurable': {'thread_id': '1', 'checkpoint_ns': '', 'checkpoint_id': '1f09e7da-39b3-6032-bfff-d1b6b9d0edca'}}, tasks=(PregelTask(id='677cecc9-9809-0833-99ec-ac2cda6d4eff', name='assistant', path=('__pregel_pull', 'assistant'), error=None, interrupts=(), state=None, result=None),), interrupts=())"
      ]
     },
     "execution_count": 29,
     "metadata": {},
     "output_type": "execute_result"
    }
   ],
   "source": [
    "state = graph.get_state(thread)\n",
    "state"
   ]
  },
  {
   "cell_type": "markdown",
   "id": "36ef63a1-2ab8-416d-babf-d35054e294f0",
   "metadata": {},
   "source": [
    "이제 상태 업데이트를 직접 적용할 수 있습니다.\n",
    "\n",
    "기억하세요, `messages` 키에 대한 업데이트는 `add_messages` 리듀서를 사용합니다:\n",
    " \n",
    "* 기존 메시지를 덮어쓰려면 메시지 `id`를 제공할 수 있습니다.\n",
    "* 단순히 메시지 목록에 추가하려면 아래와 같이 `id`를 지정하지 않고 메시지를 전달할 수 있습니다."
   ]
  },
  {
   "cell_type": "code",
   "execution_count": 30,
   "id": "9179cff1-e529-473a-9ce2-e23b932c2063",
   "metadata": {},
   "outputs": [
    {
     "data": {
      "text/plain": [
       "{'configurable': {'thread_id': '1',\n",
       "  'checkpoint_ns': '',\n",
       "  'checkpoint_id': '1f09e7da-39cb-692a-8001-389b3f40550f'}}"
      ]
     },
     "execution_count": 30,
     "metadata": {},
     "output_type": "execute_result"
    }
   ],
   "source": [
    "graph.update_state(\n",
    "    thread,\n",
    "    {\"messages\": [HumanMessage(content=\"아니, 사실 3과 3을 곱해 봐!\")]},\n",
    ")"
   ]
  },
  {
   "cell_type": "markdown",
   "id": "d77b8d6a-8c7b-4f7a-b723-121af25ac829",
   "metadata": {},
   "source": [
    "확인해봅시다.\n",
    "\n",
    "새로운 메시지와 함께 `update_state`를 호출했습니다.\n",
    "\n",
    "`add_messages` 리듀서가 이를 우리의 상태 키인 `messages`에 추가합니다."
   ]
  },
  {
   "cell_type": "code",
   "execution_count": 31,
   "id": "141b6aab-ec6d-44f3-beb1-6c22ac5f2158",
   "metadata": {},
   "outputs": [
    {
     "name": "stdout",
     "output_type": "stream",
     "text": [
      "================================\u001b[1m Human Message \u001b[0m=================================\n",
      "\n",
      "2와 3을 곱하세요\n",
      "================================\u001b[1m Human Message \u001b[0m=================================\n",
      "\n",
      "아니, 사실 3과 3을 곱해 봐!\n"
     ]
    }
   ],
   "source": [
    "new_state = graph.get_state(thread).values\n",
    "for m in new_state[\"messages\"]:\n",
    "    m.pretty_print()"
   ]
  },
  {
   "cell_type": "markdown",
   "id": "e4041959-cc3a-4168-8cf7-06d1711921d8",
   "metadata": {},
   "source": [
    "이제 단순히 `None`을 전달하고 현재 상태부터 진행하도록 하여 에이전트를 계속 진행해봅시다.\n",
    "\n",
    "현재 상태를 출력한 다음 남은 노드들을 실행합니다."
   ]
  },
  {
   "cell_type": "code",
   "execution_count": 32,
   "id": "f166bed2-87c9-41ec-b235-0305721c2d6b",
   "metadata": {},
   "outputs": [
    {
     "name": "stdout",
     "output_type": "stream",
     "text": [
      "================================\u001b[1m Human Message \u001b[0m=================================\n",
      "\n",
      "아니, 사실 3과 3을 곱해 봐!\n",
      "==================================\u001b[1m Ai Message \u001b[0m==================================\n",
      "Tool Calls:\n",
      "  multiply (call_E5DVuKkpUvvWHlU1aRn3yrBs)\n",
      " Call ID: call_E5DVuKkpUvvWHlU1aRn3yrBs\n",
      "  Args:\n",
      "    a: 3\n",
      "    b: 3\n",
      "=================================\u001b[1m Tool Message \u001b[0m=================================\n",
      "Name: multiply\n",
      "\n",
      "9\n"
     ]
    }
   ],
   "source": [
    "for event in graph.stream(None, thread, stream_mode=\"values\"):\n",
    "    event[\"messages\"][-1].pretty_print()"
   ]
  },
  {
   "cell_type": "markdown",
   "id": "b18dc1ca",
   "metadata": {},
   "source": [
    "이제 `breakpoint`가 있는 `assistant`로 돌아왔습니다.\n",
    "\n",
    "다시 `None`을 전달하여 진행할 수 있습니다."
   ]
  },
  {
   "cell_type": "code",
   "execution_count": 33,
   "id": "f5952731-0170-4589-a399-ee787df35400",
   "metadata": {},
   "outputs": [
    {
     "name": "stdout",
     "output_type": "stream",
     "text": [
      "=================================\u001b[1m Tool Message \u001b[0m=================================\n",
      "Name: multiply\n",
      "\n",
      "9\n",
      "==================================\u001b[1m Ai Message \u001b[0m==================================\n",
      "\n",
      "3과 3을 곱하면 9입니다.\n"
     ]
    }
   ],
   "source": [
    "for event in graph.stream(None, thread, stream_mode=\"values\"):\n",
    "    event[\"messages\"][-1].pretty_print()"
   ]
  },
  {
   "attachments": {},
   "cell_type": "markdown",
   "id": "bc22c3e9-b00c-4ead-b752-a682b45b3718",
   "metadata": {},
   "source": [
    "### Studio에서 그래프 상태 편집\n",
    "\n",
    "로컬 개발 서버를 시작하려면 이 모듈의 `/studio` 디렉토리에서 터미널에 다음 명령어를 실행하세요:\n",
    "\n",
    "```sh\n",
    "langgraph dev\n",
    "```\n",
    "\n",
    "다음과 같은 출력을 볼 수 있습니다:\n",
    "\n",
    "```sh\n",
    "- 🚀 API: http://127.0.0.1:2024\n",
    "- 🎨 Studio UI: https://smith.langchain.com/studio/?baseUrl=http://127.0.0.1:2024\n",
    "- 📚 API Docs: http://127.0.0.1:2024/docs\n",
    "```\n",
    "\n",
    "브라우저를 열고 Studio UI로 이동하세요: `https://smith.langchain.com/studio/?baseUrl=http://127.0.0.1:2024`.\n",
    "\n",
    "LangGraph API는 [그래프 상태 편집을 지원합니다](https://langchain-ai.github.io/langgraph/cloud/how-tos/human_in_the_loop_edit_state/#initial-invocation)."
   ]
  },
  {
   "cell_type": "code",
   "execution_count": null,
   "id": "642aabab-f822-4917-9d66-3314ac5008fd",
   "metadata": {},
   "outputs": [],
   "source": [
    "from langgraph_sdk import get_client\n",
    "\n",
    "client = get_client(url=\"http://127.0.0.1:2024\")"
   ]
  },
  {
   "cell_type": "markdown",
   "id": "be74cb09",
   "metadata": {},
   "source": [
    "우리의 에이전트는 `studio/agent.py`에 정의되어 있습니다.\n",
    "\n",
    "코드를 보면 중단점이 *없는* 것을 알 수 있습니다!\n",
    " \n",
    "물론 `agent.py`에 추가할 수 있지만, API의 매우 유용한 기능 중 하나는 중단점을 전달할 수 있다는 것입니다!\n",
    "\n",
    "여기서는 `interrupt_before=[\"assistant\"]`를 전달합니다."
   ]
  },
  {
   "cell_type": "code",
   "execution_count": 45,
   "id": "1c352f9e-6a0f-4a94-a083-b85b0233efa9",
   "metadata": {},
   "outputs": [
    {
     "name": "stdout",
     "output_type": "stream",
     "text": [
      "Receiving new event of type: metadata...\n",
      "--------------------------------------------------\n",
      "Receiving new event of type: values...\n",
      "{'content': '2와 3을 곱하세요', 'additional_kwargs': {}, 'response_metadata': {}, 'type': 'human', 'name': None, 'id': '35e1f8ae-cb14-4cd8-8461-2b52512070b6', 'example': False}\n",
      "--------------------------------------------------\n"
     ]
    }
   ],
   "source": [
    "initial_input = {\"messages\": \"2와 3을 곱하세요\"}\n",
    "thread = await client.threads.create()\n",
    "async for chunk in client.runs.stream(\n",
    "    thread[\"thread_id\"],\n",
    "    \"agent\",\n",
    "    input=initial_input,\n",
    "    stream_mode=\"values\",\n",
    "    interrupt_before=[\"assistant\"],\n",
    "):\n",
    "    print(f\"Receiving new event of type: {chunk.event}...\")\n",
    "    messages = chunk.data.get(\"messages\", [])\n",
    "    if messages:\n",
    "        print(messages[-1])\n",
    "    print(\"-\" * 50)"
   ]
  },
  {
   "cell_type": "markdown",
   "id": "13065dd9-5f43-47d6-ac2a-9dc15c0c54e6",
   "metadata": {},
   "source": [
    "현재 상태를 확인할 수 있습니다"
   ]
  },
  {
   "cell_type": "code",
   "execution_count": 46,
   "id": "4da2c464-3e71-496a-badc-671aeee168b6",
   "metadata": {},
   "outputs": [
    {
     "data": {
      "text/plain": [
       "{'values': {'messages': [{'content': '2와 3을 곱하세요',\n",
       "    'additional_kwargs': {},\n",
       "    'response_metadata': {},\n",
       "    'type': 'human',\n",
       "    'name': None,\n",
       "    'id': '35e1f8ae-cb14-4cd8-8461-2b52512070b6',\n",
       "    'example': False}]},\n",
       " 'next': ['assistant'],\n",
       " 'tasks': [{'id': '18097497-3ca8-283c-7cf9-1d5cddc135d9',\n",
       "   'name': 'assistant',\n",
       "   'path': ['__pregel_pull', 'assistant'],\n",
       "   'error': None,\n",
       "   'interrupts': [],\n",
       "   'checkpoint': None,\n",
       "   'state': None,\n",
       "   'result': None}],\n",
       " 'metadata': {'langgraph_auth_user': None,\n",
       "  'langgraph_auth_user_id': '',\n",
       "  'langgraph_auth_permissions': [],\n",
       "  'langgraph_request_id': '742e8bb4-922f-4246-a2b4-1014021c89db',\n",
       "  'graph_id': 'agent',\n",
       "  'assistant_id': 'fe096781-5601-53d2-b2f6-0d3403f7e9ca',\n",
       "  'user_id': '',\n",
       "  'created_by': 'system',\n",
       "  'run_attempt': 1,\n",
       "  'langgraph_version': '0.6.8',\n",
       "  'langgraph_api_version': '0.4.31',\n",
       "  'langgraph_plan': 'developer',\n",
       "  'langgraph_host': 'self-hosted',\n",
       "  'langgraph_api_url': 'http://127.0.0.1:2024',\n",
       "  'run_id': '01999dfe-c682-7170-8d09-d1dc2519ec5e',\n",
       "  'thread_id': '1f5c505b-f858-403e-831c-fc7296cae2a6',\n",
       "  'source': 'loop',\n",
       "  'step': 0,\n",
       "  'parents': {}},\n",
       " 'created_at': '2025-10-01T04:19:04.800272+00:00',\n",
       " 'checkpoint': {'checkpoint_id': '1f09e7dc-42f0-68fa-8000-a471614c744b',\n",
       "  'thread_id': '1f5c505b-f858-403e-831c-fc7296cae2a6',\n",
       "  'checkpoint_ns': ''},\n",
       " 'parent_checkpoint': {'checkpoint_id': '1f09e7dc-42ed-6a4c-bfff-9c6d466617fe',\n",
       "  'thread_id': '1f5c505b-f858-403e-831c-fc7296cae2a6',\n",
       "  'checkpoint_ns': ''},\n",
       " 'interrupts': [],\n",
       " 'checkpoint_id': '1f09e7dc-42f0-68fa-8000-a471614c744b',\n",
       " 'parent_checkpoint_id': '1f09e7dc-42ed-6a4c-bfff-9c6d466617fe'}"
      ]
     },
     "execution_count": 46,
     "metadata": {},
     "output_type": "execute_result"
    }
   ],
   "source": [
    "current_state = await client.threads.get_state(thread[\"thread_id\"])\n",
    "current_state"
   ]
  },
  {
   "cell_type": "markdown",
   "id": "4527bbf1-0927-41a6-aeef-d15e32bbbdc3",
   "metadata": {},
   "source": [
    "상태의 마지막 메시지를 확인할 수 있습니다."
   ]
  },
  {
   "cell_type": "code",
   "execution_count": 47,
   "id": "801ae2d9-0551-46b8-aee2-82293cee4011",
   "metadata": {},
   "outputs": [
    {
     "data": {
      "text/plain": [
       "{'content': '2와 3을 곱하세요',\n",
       " 'additional_kwargs': {},\n",
       " 'response_metadata': {},\n",
       " 'type': 'human',\n",
       " 'name': None,\n",
       " 'id': '35e1f8ae-cb14-4cd8-8461-2b52512070b6',\n",
       " 'example': False}"
      ]
     },
     "execution_count": 47,
     "metadata": {},
     "output_type": "execute_result"
    }
   ],
   "source": [
    "last_message = current_state[\"values\"][\"messages\"][-1]\n",
    "last_message"
   ]
  },
  {
   "cell_type": "markdown",
   "id": "f0581ba8-db3d-474d-9042-b1c7f3461caf",
   "metadata": {},
   "source": [
    "메시지를 편집할 수 있습니다!"
   ]
  },
  {
   "cell_type": "code",
   "execution_count": 48,
   "id": "86b12be7-7e4a-40d0-8521-dced7c393c71",
   "metadata": {},
   "outputs": [
    {
     "data": {
      "text/plain": [
       "{'content': '아니, 사실 3과 3을 곱해 봐!',\n",
       " 'additional_kwargs': {},\n",
       " 'response_metadata': {},\n",
       " 'type': 'human',\n",
       " 'name': None,\n",
       " 'id': '35e1f8ae-cb14-4cd8-8461-2b52512070b6',\n",
       " 'example': False}"
      ]
     },
     "execution_count": 48,
     "metadata": {},
     "output_type": "execute_result"
    }
   ],
   "source": [
    "last_message[\"content\"] = \"아니, 사실 3과 3을 곱해 봐!\"\n",
    "last_message"
   ]
  },
  {
   "cell_type": "code",
   "execution_count": 49,
   "id": "f84f2c24-f281-4591-90e5-de3a5547c9da",
   "metadata": {},
   "outputs": [
    {
     "data": {
      "text/plain": [
       "{'content': '아니, 사실 3과 3을 곱해 봐!',\n",
       " 'additional_kwargs': {},\n",
       " 'response_metadata': {},\n",
       " 'type': 'human',\n",
       " 'name': None,\n",
       " 'id': '35e1f8ae-cb14-4cd8-8461-2b52512070b6',\n",
       " 'example': False}"
      ]
     },
     "execution_count": 49,
     "metadata": {},
     "output_type": "execute_result"
    }
   ],
   "source": [
    "last_message"
   ]
  },
  {
   "cell_type": "markdown",
   "id": "ce7b4280-6ae7-4246-9c87-44e0daa6c654",
   "metadata": {},
   "source": [
    "기억하세요, 앞서 말했듯이 `messages` 키에 대한 업데이트는 동일한 `add_messages` 리듀서를 사용합니다.\n",
    "\n",
    "기존 메시지를 덮어쓰려면 메시지 `id`를 제공할 수 있습니다.\n",
    "\n",
    "여기서 그렇게 했습니다. 위에서 보이듯이 메시지 `content`만 수정했습니다."
   ]
  },
  {
   "cell_type": "code",
   "execution_count": 50,
   "id": "84d33b6e-32ff-4eca-8114-345e508f3481",
   "metadata": {},
   "outputs": [
    {
     "data": {
      "text/plain": [
       "{'checkpoint': {'thread_id': '1f5c505b-f858-403e-831c-fc7296cae2a6',\n",
       "  'checkpoint_ns': '',\n",
       "  'checkpoint_id': '1f09e7de-fbcb-65da-8001-cbb8abb7d841'},\n",
       " 'configurable': {'thread_id': '1f5c505b-f858-403e-831c-fc7296cae2a6',\n",
       "  'checkpoint_ns': '',\n",
       "  'checkpoint_id': '1f09e7de-fbcb-65da-8001-cbb8abb7d841'},\n",
       " 'checkpoint_id': '1f09e7de-fbcb-65da-8001-cbb8abb7d841'}"
      ]
     },
     "execution_count": 50,
     "metadata": {},
     "output_type": "execute_result"
    }
   ],
   "source": [
    "await client.threads.update_state(\n",
    "    thread[\"thread_id\"],\n",
    "    {\"messages\": last_message},\n",
    ")"
   ]
  },
  {
   "cell_type": "markdown",
   "id": "1f07f0d1-7083-4827-babd-d3702eb59a37",
   "metadata": {},
   "source": [
    "이제 `None`을 전달하여 재개합니다."
   ]
  },
  {
   "cell_type": "code",
   "execution_count": 51,
   "id": "ef18d12d-e0a6-487a-9f32-ad30e2634a20",
   "metadata": {},
   "outputs": [
    {
     "name": "stdout",
     "output_type": "stream",
     "text": [
      "다음 유형의 새 이벤트 수신: metadata...\n",
      "--------------------------------------------------\n",
      "다음 유형의 새 이벤트 수신: values...\n",
      "{'content': '아니, 사실 3과 3을 곱해 봐!', 'additional_kwargs': {}, 'response_metadata': {}, 'type': 'human', 'name': None, 'id': '35e1f8ae-cb14-4cd8-8461-2b52512070b6', 'example': False}\n",
      "--------------------------------------------------\n",
      "다음 유형의 새 이벤트 수신: values...\n",
      "{'content': '', 'additional_kwargs': {'tool_calls': [{'id': 'call_goNOut6Kb62fx7l2DT2x2kk1', 'function': {'arguments': '{\"a\":3,\"b\":3}', 'name': 'multiply'}, 'type': 'function'}], 'refusal': None}, 'response_metadata': {'token_usage': {'completion_tokens': 17, 'prompt_tokens': 144, 'total_tokens': 161, 'completion_tokens_details': {'accepted_prediction_tokens': 0, 'audio_tokens': 0, 'reasoning_tokens': 0, 'rejected_prediction_tokens': 0}, 'prompt_tokens_details': {'audio_tokens': 0, 'cached_tokens': 0}}, 'model_name': 'gpt-4o-2024-08-06', 'system_fingerprint': 'fp_f33640a400', 'id': 'chatcmpl-CLicZqnLl2ZounaymbSdTYyUxrboI', 'service_tier': 'default', 'finish_reason': 'tool_calls', 'logprobs': None}, 'type': 'ai', 'name': None, 'id': 'run--8bf65604-55f7-4d64-9cfe-321cb6d718e0-0', 'example': False, 'tool_calls': [{'name': 'multiply', 'args': {'a': 3, 'b': 3}, 'id': 'call_goNOut6Kb62fx7l2DT2x2kk1', 'type': 'tool_call'}], 'invalid_tool_calls': [], 'usage_metadata': {'input_tokens': 144, 'output_tokens': 17, 'total_tokens': 161, 'input_token_details': {'audio': 0, 'cache_read': 0}, 'output_token_details': {'audio': 0, 'reasoning': 0}}}\n",
      "--------------------------------------------------\n",
      "다음 유형의 새 이벤트 수신: values...\n",
      "{'content': '9', 'additional_kwargs': {}, 'response_metadata': {}, 'type': 'tool', 'name': 'multiply', 'id': '16969706-9791-4845-a691-2dba55dda3a7', 'tool_call_id': 'call_goNOut6Kb62fx7l2DT2x2kk1', 'artifact': None, 'status': 'success'}\n",
      "--------------------------------------------------\n"
     ]
    }
   ],
   "source": [
    "async for chunk in client.runs.stream(\n",
    "    thread[\"thread_id\"],\n",
    "    assistant_id=\"agent\",\n",
    "    input=None,\n",
    "    stream_mode=\"values\",\n",
    "    interrupt_before=[\"assistant\"],\n",
    "):\n",
    "    print(f\"다음 유형의 새 이벤트 수신: {chunk.event}...\")\n",
    "    messages = chunk.data.get(\"messages\", [])\n",
    "    if messages:\n",
    "        print(messages[-1])\n",
    "    print(\"-\" * 50)"
   ]
  },
  {
   "cell_type": "markdown",
   "id": "6a82dd35-cbc8-486d-8e20-10d0c4d138d6",
   "metadata": {},
   "source": [
    "예상대로 도구 호출의 결과로 `9`를 얻습니다."
   ]
  },
  {
   "cell_type": "code",
   "execution_count": 54,
   "id": "1d1bb3c7-dc26-4c32-b3df-865f41ef3c73",
   "metadata": {},
   "outputs": [
    {
     "name": "stdout",
     "output_type": "stream",
     "text": [
      "다음 유형의 새 이벤트 수신: metadata...\n",
      "--------------------------------------------------\n",
      "다음 유형의 새 이벤트 수신: values...\n",
      "{'content': '3과 3을 곱하면 9입니다!', 'additional_kwargs': {'refusal': None}, 'response_metadata': {'token_usage': {'completion_tokens': 13, 'prompt_tokens': 169, 'total_tokens': 182, 'completion_tokens_details': {'accepted_prediction_tokens': 0, 'audio_tokens': 0, 'reasoning_tokens': 0, 'rejected_prediction_tokens': 0}, 'prompt_tokens_details': {'audio_tokens': 0, 'cached_tokens': 0}}, 'model_name': 'gpt-4o-2024-08-06', 'system_fingerprint': 'fp_f33640a400', 'id': 'chatcmpl-CLict3gOAN5TKhR3bduFlpySVD77j', 'service_tier': 'default', 'finish_reason': 'stop', 'logprobs': None}, 'type': 'ai', 'name': None, 'id': 'run--fa793243-3f12-439e-bf44-d9bc3a2513f0-0', 'example': False, 'tool_calls': [], 'invalid_tool_calls': [], 'usage_metadata': {'input_tokens': 169, 'output_tokens': 13, 'total_tokens': 182, 'input_token_details': {'audio': 0, 'cache_read': 0}, 'output_token_details': {'audio': 0, 'reasoning': 0}}}\n",
      "--------------------------------------------------\n"
     ]
    }
   ],
   "source": [
    "async for chunk in client.runs.stream(\n",
    "    thread[\"thread_id\"],\n",
    "    assistant_id=\"agent\",\n",
    "    input=None,\n",
    "    stream_mode=\"values\",\n",
    "    interrupt_before=[\"assistant\"],\n",
    "):\n",
    "    print(f\"다음 유형의 새 이벤트 수신: {chunk.event}...\")\n",
    "    messages = chunk.data.get(\"messages\", [])\n",
    "    if messages:\n",
    "        print(messages[-1])\n",
    "    print(\"-\" * 50)"
   ]
  },
  {
   "cell_type": "markdown",
   "id": "6914c5ca-27e4-421c-835a-9e4327dac12f",
   "metadata": {},
   "source": [
    "## 사용자 입력 대기\n",
    "\n",
    "따라서 중단점 이후에 에이전트 상태를 편집할 수 있다는 것이 명확합니다.\n",
    "\n",
    "이제 이 상태 업데이트를 수행하기 위해 사람의 피드백을 허용하려면 어떻게 해야 할까요?\n",
    "\n",
    "에이전트 내에서 [사람의 피드백을 위한 placeholder 역할을 하는 노드](https://langchain-ai.github.io/langgraph/how-tos/human_in_the_loop/wait-user-input/#setup)를 추가하겠습니다.\n",
    "\n",
    "이 `human_feedback` 노드는 사용자가 상태에 직접 피드백을 추가할 수 있도록 합니다.\n",
    " \n",
    "`human_feedback` 노드 전에 `interrupt_before`를 사용하여 중단점을 지정합니다.\n",
    "\n",
    "이 노드까지 그래프의 상태를 저장하기 위해 체크포인터를 설정합니다."
   ]
  },
  {
   "cell_type": "code",
   "execution_count": 66,
   "id": "e4b475ff-681f-4660-80dd-d6ade7bd48e3",
   "metadata": {},
   "outputs": [],
   "source": [
    "# System message\n",
    "sys_msg = SystemMessage(\n",
    "    content=\"당신은 입력값에 대해 산술 연산을 수행하는 임무를 맡은 유용한 보조자입니다.\"\n",
    ")\n",
    "\n",
    "\n",
    "# no-op node that should be interrupted on\n",
    "def human_feedback(state: MessagesState):\n",
    "    pass\n",
    "\n",
    "\n",
    "# Assistant node\n",
    "def assistant(state: MessagesState):\n",
    "    return {\"messages\": [llm_with_tools.invoke([sys_msg] + state[\"messages\"])]}\n",
    "\n",
    "\n",
    "# Graph\n",
    "builder = StateGraph(MessagesState)\n",
    "\n",
    "# Define nodes: these do the work\n",
    "builder.add_node(\"assistant\", assistant)\n",
    "builder.add_node(\"tools\", ToolNode(tools))\n",
    "builder.add_node(\"human_feedback\", human_feedback)\n",
    "\n",
    "# Define edges: these determine the control flow\n",
    "builder.add_edge(START, \"human_feedback\")\n",
    "builder.add_edge(\"human_feedback\", \"assistant\")\n",
    "builder.add_conditional_edges(\n",
    "    \"assistant\",\n",
    "    # If the latest message (result) from assistant is a tool call -> tools_condition routes to tools\n",
    "    # If the latest message (result) from assistant is a not a tool call -> tools_condition routes to END\n",
    "    tools_condition,\n",
    ")\n",
    "builder.add_edge(\"tools\", \"human_feedback\")\n",
    "\n",
    "memory = MemorySaver()\n",
    "graph = builder.compile(interrupt_before=[\"human_feedback\"], checkpointer=memory)\n",
    "# display(Image(graph.get_graph().draw_mermaid_png()))"
   ]
  },
  {
   "cell_type": "markdown",
   "id": "32d4ceb6-a224-4307-8196-3f53d367df5c",
   "metadata": {},
   "source": [
    "사용자로부터 피드백을 받을 것입니다.\n",
    "\n",
    "이전처럼 `.update_state`를 사용하여 받은 사람의 응답으로 그래프 상태를 업데이트합니다.\n",
    "\n",
    "`as_node=\"human_feedback\"` 매개변수를 사용하여 이 상태 업데이트를 지정된 노드인 `human_feedback`으로 적용합니다."
   ]
  },
  {
   "cell_type": "code",
   "execution_count": 56,
   "id": "3fc7bcd6-660c-4a8a-ad8d-e6698dcf6201",
   "metadata": {},
   "outputs": [
    {
     "name": "stdout",
     "output_type": "stream",
     "text": [
      "================================\u001b[1m Human Message \u001b[0m=================================\n",
      "\n",
      "2와 3을 곱하세요\n",
      "================================\u001b[1m Human Message \u001b[0m=================================\n",
      "\n",
      "3곱하기 3\n",
      "==================================\u001b[1m Ai Message \u001b[0m==================================\n",
      "Tool Calls:\n",
      "  multiply (call_80xihmMD2ycfwhLaqgVHG5Zu)\n",
      " Call ID: call_80xihmMD2ycfwhLaqgVHG5Zu\n",
      "  Args:\n",
      "    a: 2\n",
      "    b: 3\n",
      "  multiply (call_CthUsT1QR2pMWG2ngLTVrRkJ)\n",
      " Call ID: call_CthUsT1QR2pMWG2ngLTVrRkJ\n",
      "  Args:\n",
      "    a: 3\n",
      "    b: 3\n",
      "=================================\u001b[1m Tool Message \u001b[0m=================================\n",
      "Name: multiply\n",
      "\n",
      "9\n"
     ]
    }
   ],
   "source": [
    "# Input\n",
    "initial_input = {\"messages\": \"2와 3을 곱하세요\"}\n",
    "\n",
    "# Thread\n",
    "thread = {\"configurable\": {\"thread_id\": \"5\"}}\n",
    "\n",
    "# Run the graph until the first interruption\n",
    "for event in graph.stream(initial_input, thread, stream_mode=\"values\"):\n",
    "    event[\"messages\"][-1].pretty_print()\n",
    "\n",
    "# Get user input\n",
    "user_input = input(\"상태를 어떻게 업데이트하고 싶은지 알려주세요:\")\n",
    "\n",
    "# We now update the state as if we are the human_feedback node\n",
    "graph.update_state(thread, {\"messages\": user_input}, as_node=\"human_feedback\")\n",
    "\n",
    "# Continue the graph execution\n",
    "for event in graph.stream(None, thread, stream_mode=\"values\"):\n",
    "    event[\"messages\"][-1].pretty_print()"
   ]
  },
  {
   "cell_type": "code",
   "execution_count": 57,
   "id": "abf4cf5f-c0cb-4fdb-be6b-271ae4e967e2",
   "metadata": {},
   "outputs": [
    {
     "name": "stdout",
     "output_type": "stream",
     "text": [
      "=================================\u001b[1m Tool Message \u001b[0m=================================\n",
      "Name: multiply\n",
      "\n",
      "9\n",
      "==================================\u001b[1m Ai Message \u001b[0m==================================\n",
      "\n",
      "2와 3을 곱한 결과는 6이고, 3 곱하기 3의 결과는 9입니다.\n"
     ]
    }
   ],
   "source": [
    "# Continue the graph execution\n",
    "for event in graph.stream(None, thread, stream_mode=\"values\"):\n",
    "    event[\"messages\"][-1].pretty_print()"
   ]
  },
  {
   "cell_type": "code",
   "execution_count": 62,
   "id": "f08a2615",
   "metadata": {},
   "outputs": [
    {
     "name": "stdout",
     "output_type": "stream",
     "text": [
      "StateSnapshot(values={'messages': [HumanMessage(content='2와 3을 곱하세요', additional_kwargs={}, response_metadata={}, id='8417703e-93e0-4bdd-8787-61986c5ac75b'), HumanMessage(content='3곱하기 3', additional_kwargs={}, response_metadata={}, id='e688ba2e-061d-41b6-b6c8-55d8d5d68dc4'), AIMessage(content='', additional_kwargs={'tool_calls': [{'id': 'call_80xihmMD2ycfwhLaqgVHG5Zu', 'function': {'arguments': '{\"a\": 2, \"b\": 3}', 'name': 'multiply'}, 'type': 'function'}, {'id': 'call_CthUsT1QR2pMWG2ngLTVrRkJ', 'function': {'arguments': '{\"a\": 3, \"b\": 3}', 'name': 'multiply'}, 'type': 'function'}], 'refusal': None}, response_metadata={'token_usage': {'completion_tokens': 50, 'prompt_tokens': 155, 'total_tokens': 205, 'completion_tokens_details': {'accepted_prediction_tokens': 0, 'audio_tokens': 0, 'reasoning_tokens': 0, 'rejected_prediction_tokens': 0}, 'prompt_tokens_details': {'audio_tokens': 0, 'cached_tokens': 0}}, 'model_name': 'gpt-4o-2024-08-06', 'system_fingerprint': 'fp_f33640a400', 'id': 'chatcmpl-CLiee94djjpqvq3Td8utLsNvqwXar', 'service_tier': 'default', 'finish_reason': 'tool_calls', 'logprobs': None}, id='run--10c54338-dada-4e02-9b9c-7f8d382e987e-0', tool_calls=[{'name': 'multiply', 'args': {'a': 2, 'b': 3}, 'id': 'call_80xihmMD2ycfwhLaqgVHG5Zu', 'type': 'tool_call'}, {'name': 'multiply', 'args': {'a': 3, 'b': 3}, 'id': 'call_CthUsT1QR2pMWG2ngLTVrRkJ', 'type': 'tool_call'}], usage_metadata={'input_tokens': 155, 'output_tokens': 50, 'total_tokens': 205, 'input_token_details': {'audio': 0, 'cache_read': 0}, 'output_token_details': {'audio': 0, 'reasoning': 0}}), ToolMessage(content='6', name='multiply', id='278ef198-e795-4db4-8387-ac6ea84e0a8d', tool_call_id='call_80xihmMD2ycfwhLaqgVHG5Zu'), ToolMessage(content='9', name='multiply', id='4759e6b7-0689-4bdd-a1a6-2352c4bb2402', tool_call_id='call_CthUsT1QR2pMWG2ngLTVrRkJ'), AIMessage(content='2와 3을 곱한 결과는 6이고, 3 곱하기 3의 결과는 9입니다.', additional_kwargs={'refusal': None}, response_metadata={'token_usage': {'completion_tokens': 29, 'prompt_tokens': 221, 'total_tokens': 250, 'completion_tokens_details': {'accepted_prediction_tokens': 0, 'audio_tokens': 0, 'reasoning_tokens': 0, 'rejected_prediction_tokens': 0}, 'prompt_tokens_details': {'audio_tokens': 0, 'cached_tokens': 0}}, 'model_name': 'gpt-4o-2024-08-06', 'system_fingerprint': 'fp_f33640a400', 'id': 'chatcmpl-CLiemkVrN5uUHXXEXe9xs83cNysrd', 'service_tier': 'default', 'finish_reason': 'stop', 'logprobs': None}, id='run--60bf9fa0-a1bc-4104-9391-ea2d0abf8afe-0', usage_metadata={'input_tokens': 221, 'output_tokens': 29, 'total_tokens': 250, 'input_token_details': {'audio': 0, 'cache_read': 0}, 'output_token_details': {'audio': 0, 'reasoning': 0}})]}, next=(), config={'configurable': {'thread_id': '5', 'checkpoint_ns': '', 'checkpoint_id': '1f09e7e5-3cf3-6048-8005-50c9b744acc2'}}, metadata={'source': 'loop', 'step': 5, 'parents': {}}, created_at='2025-10-01T04:23:05.764025+00:00', parent_config={'configurable': {'thread_id': '5', 'checkpoint_ns': '', 'checkpoint_id': '1f09e7e5-2b5f-6b88-8004-f42d4c4ddfb6'}}, tasks=(), interrupts=())\n",
      "StateSnapshot(values={'messages': [HumanMessage(content='2와 3을 곱하세요', additional_kwargs={}, response_metadata={}, id='8417703e-93e0-4bdd-8787-61986c5ac75b'), HumanMessage(content='3곱하기 3', additional_kwargs={}, response_metadata={}, id='e688ba2e-061d-41b6-b6c8-55d8d5d68dc4'), AIMessage(content='', additional_kwargs={'tool_calls': [{'id': 'call_80xihmMD2ycfwhLaqgVHG5Zu', 'function': {'arguments': '{\"a\": 2, \"b\": 3}', 'name': 'multiply'}, 'type': 'function'}, {'id': 'call_CthUsT1QR2pMWG2ngLTVrRkJ', 'function': {'arguments': '{\"a\": 3, \"b\": 3}', 'name': 'multiply'}, 'type': 'function'}], 'refusal': None}, response_metadata={'token_usage': {'completion_tokens': 50, 'prompt_tokens': 155, 'total_tokens': 205, 'completion_tokens_details': {'accepted_prediction_tokens': 0, 'audio_tokens': 0, 'reasoning_tokens': 0, 'rejected_prediction_tokens': 0}, 'prompt_tokens_details': {'audio_tokens': 0, 'cached_tokens': 0}}, 'model_name': 'gpt-4o-2024-08-06', 'system_fingerprint': 'fp_f33640a400', 'id': 'chatcmpl-CLiee94djjpqvq3Td8utLsNvqwXar', 'service_tier': 'default', 'finish_reason': 'tool_calls', 'logprobs': None}, id='run--10c54338-dada-4e02-9b9c-7f8d382e987e-0', tool_calls=[{'name': 'multiply', 'args': {'a': 2, 'b': 3}, 'id': 'call_80xihmMD2ycfwhLaqgVHG5Zu', 'type': 'tool_call'}, {'name': 'multiply', 'args': {'a': 3, 'b': 3}, 'id': 'call_CthUsT1QR2pMWG2ngLTVrRkJ', 'type': 'tool_call'}], usage_metadata={'input_tokens': 155, 'output_tokens': 50, 'total_tokens': 205, 'input_token_details': {'audio': 0, 'cache_read': 0}, 'output_token_details': {'audio': 0, 'reasoning': 0}}), ToolMessage(content='6', name='multiply', id='278ef198-e795-4db4-8387-ac6ea84e0a8d', tool_call_id='call_80xihmMD2ycfwhLaqgVHG5Zu'), ToolMessage(content='9', name='multiply', id='4759e6b7-0689-4bdd-a1a6-2352c4bb2402', tool_call_id='call_CthUsT1QR2pMWG2ngLTVrRkJ')]}, next=('assistant',), config={'configurable': {'thread_id': '5', 'checkpoint_ns': '', 'checkpoint_id': '1f09e7e5-2b5f-6b88-8004-f42d4c4ddfb6'}}, metadata={'source': 'loop', 'step': 4, 'parents': {}}, created_at='2025-10-01T04:23:03.921128+00:00', parent_config={'configurable': {'thread_id': '5', 'checkpoint_ns': '', 'checkpoint_id': '1f09e7e4-ea48-6032-8003-9ed5091860f6'}}, tasks=(PregelTask(id='63eb7d42-c0bb-d465-2f21-f429cb1dd4d3', name='assistant', path=('__pregel_pull', 'assistant'), error=None, interrupts=(), state=None, result={'messages': [AIMessage(content='2와 3을 곱한 결과는 6이고, 3 곱하기 3의 결과는 9입니다.', additional_kwargs={'refusal': None}, response_metadata={'token_usage': {'completion_tokens': 29, 'prompt_tokens': 221, 'total_tokens': 250, 'completion_tokens_details': {'accepted_prediction_tokens': 0, 'audio_tokens': 0, 'reasoning_tokens': 0, 'rejected_prediction_tokens': 0}, 'prompt_tokens_details': {'audio_tokens': 0, 'cached_tokens': 0}}, 'model_name': 'gpt-4o-2024-08-06', 'system_fingerprint': 'fp_f33640a400', 'id': 'chatcmpl-CLiemkVrN5uUHXXEXe9xs83cNysrd', 'service_tier': 'default', 'finish_reason': 'stop', 'logprobs': None}, id='run--60bf9fa0-a1bc-4104-9391-ea2d0abf8afe-0', usage_metadata={'input_tokens': 221, 'output_tokens': 29, 'total_tokens': 250, 'input_token_details': {'audio': 0, 'cache_read': 0}, 'output_token_details': {'audio': 0, 'reasoning': 0}})]}),), interrupts=())\n",
      "StateSnapshot(values={'messages': [HumanMessage(content='2와 3을 곱하세요', additional_kwargs={}, response_metadata={}, id='8417703e-93e0-4bdd-8787-61986c5ac75b'), HumanMessage(content='3곱하기 3', additional_kwargs={}, response_metadata={}, id='e688ba2e-061d-41b6-b6c8-55d8d5d68dc4'), AIMessage(content='', additional_kwargs={'tool_calls': [{'id': 'call_80xihmMD2ycfwhLaqgVHG5Zu', 'function': {'arguments': '{\"a\": 2, \"b\": 3}', 'name': 'multiply'}, 'type': 'function'}, {'id': 'call_CthUsT1QR2pMWG2ngLTVrRkJ', 'function': {'arguments': '{\"a\": 3, \"b\": 3}', 'name': 'multiply'}, 'type': 'function'}], 'refusal': None}, response_metadata={'token_usage': {'completion_tokens': 50, 'prompt_tokens': 155, 'total_tokens': 205, 'completion_tokens_details': {'accepted_prediction_tokens': 0, 'audio_tokens': 0, 'reasoning_tokens': 0, 'rejected_prediction_tokens': 0}, 'prompt_tokens_details': {'audio_tokens': 0, 'cached_tokens': 0}}, 'model_name': 'gpt-4o-2024-08-06', 'system_fingerprint': 'fp_f33640a400', 'id': 'chatcmpl-CLiee94djjpqvq3Td8utLsNvqwXar', 'service_tier': 'default', 'finish_reason': 'tool_calls', 'logprobs': None}, id='run--10c54338-dada-4e02-9b9c-7f8d382e987e-0', tool_calls=[{'name': 'multiply', 'args': {'a': 2, 'b': 3}, 'id': 'call_80xihmMD2ycfwhLaqgVHG5Zu', 'type': 'tool_call'}, {'name': 'multiply', 'args': {'a': 3, 'b': 3}, 'id': 'call_CthUsT1QR2pMWG2ngLTVrRkJ', 'type': 'tool_call'}], usage_metadata={'input_tokens': 155, 'output_tokens': 50, 'total_tokens': 205, 'input_token_details': {'audio': 0, 'cache_read': 0}, 'output_token_details': {'audio': 0, 'reasoning': 0}}), ToolMessage(content='6', name='multiply', id='278ef198-e795-4db4-8387-ac6ea84e0a8d', tool_call_id='call_80xihmMD2ycfwhLaqgVHG5Zu'), ToolMessage(content='9', name='multiply', id='4759e6b7-0689-4bdd-a1a6-2352c4bb2402', tool_call_id='call_CthUsT1QR2pMWG2ngLTVrRkJ')]}, next=('human_feedback',), config={'configurable': {'thread_id': '5', 'checkpoint_ns': '', 'checkpoint_id': '1f09e7e4-ea48-6032-8003-9ed5091860f6'}}, metadata={'source': 'loop', 'step': 3, 'parents': {}}, created_at='2025-10-01T04:22:57.095677+00:00', parent_config={'configurable': {'thread_id': '5', 'checkpoint_ns': '', 'checkpoint_id': '1f09e7e4-ea43-6f1e-8002-4c628e64fe9b'}}, tasks=(PregelTask(id='b7ff1211-3f04-5e77-9038-92b02c1f5560', name='human_feedback', path=('__pregel_pull', 'human_feedback'), error=None, interrupts=(), state=None, result={}),), interrupts=())\n",
      "StateSnapshot(values={'messages': [HumanMessage(content='2와 3을 곱하세요', additional_kwargs={}, response_metadata={}, id='8417703e-93e0-4bdd-8787-61986c5ac75b'), HumanMessage(content='3곱하기 3', additional_kwargs={}, response_metadata={}, id='e688ba2e-061d-41b6-b6c8-55d8d5d68dc4'), AIMessage(content='', additional_kwargs={'tool_calls': [{'id': 'call_80xihmMD2ycfwhLaqgVHG5Zu', 'function': {'arguments': '{\"a\": 2, \"b\": 3}', 'name': 'multiply'}, 'type': 'function'}, {'id': 'call_CthUsT1QR2pMWG2ngLTVrRkJ', 'function': {'arguments': '{\"a\": 3, \"b\": 3}', 'name': 'multiply'}, 'type': 'function'}], 'refusal': None}, response_metadata={'token_usage': {'completion_tokens': 50, 'prompt_tokens': 155, 'total_tokens': 205, 'completion_tokens_details': {'accepted_prediction_tokens': 0, 'audio_tokens': 0, 'reasoning_tokens': 0, 'rejected_prediction_tokens': 0}, 'prompt_tokens_details': {'audio_tokens': 0, 'cached_tokens': 0}}, 'model_name': 'gpt-4o-2024-08-06', 'system_fingerprint': 'fp_f33640a400', 'id': 'chatcmpl-CLiee94djjpqvq3Td8utLsNvqwXar', 'service_tier': 'default', 'finish_reason': 'tool_calls', 'logprobs': None}, id='run--10c54338-dada-4e02-9b9c-7f8d382e987e-0', tool_calls=[{'name': 'multiply', 'args': {'a': 2, 'b': 3}, 'id': 'call_80xihmMD2ycfwhLaqgVHG5Zu', 'type': 'tool_call'}, {'name': 'multiply', 'args': {'a': 3, 'b': 3}, 'id': 'call_CthUsT1QR2pMWG2ngLTVrRkJ', 'type': 'tool_call'}], usage_metadata={'input_tokens': 155, 'output_tokens': 50, 'total_tokens': 205, 'input_token_details': {'audio': 0, 'cache_read': 0}, 'output_token_details': {'audio': 0, 'reasoning': 0}})]}, next=('tools',), config={'configurable': {'thread_id': '5', 'checkpoint_ns': '', 'checkpoint_id': '1f09e7e4-ea43-6f1e-8002-4c628e64fe9b'}}, metadata={'source': 'loop', 'step': 2, 'parents': {}}, created_at='2025-10-01T04:22:57.094005+00:00', parent_config={'configurable': {'thread_id': '5', 'checkpoint_ns': '', 'checkpoint_id': '1f09e7e4-e32a-6732-8001-830aad259eb1'}}, tasks=(PregelTask(id='31c216e0-bbbc-509a-1f8b-a87787074436', name='tools', path=('__pregel_pull', 'tools'), error=None, interrupts=(), state=None, result={'messages': [ToolMessage(content='6', name='multiply', id='278ef198-e795-4db4-8387-ac6ea84e0a8d', tool_call_id='call_80xihmMD2ycfwhLaqgVHG5Zu'), ToolMessage(content='9', name='multiply', id='4759e6b7-0689-4bdd-a1a6-2352c4bb2402', tool_call_id='call_CthUsT1QR2pMWG2ngLTVrRkJ')]}),), interrupts=())\n",
      "StateSnapshot(values={'messages': [HumanMessage(content='2와 3을 곱하세요', additional_kwargs={}, response_metadata={}, id='8417703e-93e0-4bdd-8787-61986c5ac75b'), HumanMessage(content='3곱하기 3', additional_kwargs={}, response_metadata={}, id='e688ba2e-061d-41b6-b6c8-55d8d5d68dc4')]}, next=('assistant',), config={'configurable': {'thread_id': '5', 'checkpoint_ns': '', 'checkpoint_id': '1f09e7e4-e32a-6732-8001-830aad259eb1'}}, metadata={'source': 'update', 'step': 1, 'parents': {}}, created_at='2025-10-01T04:22:56.349555+00:00', parent_config={'configurable': {'thread_id': '5', 'checkpoint_ns': '', 'checkpoint_id': '1f09e7e4-9b01-6ee2-8000-7daab0592e1d'}}, tasks=(PregelTask(id='fd155c44-902a-7991-93e8-ae2d2c3d4aa8', name='assistant', path=('__pregel_pull', 'assistant'), error=None, interrupts=(), state=None, result={'messages': [AIMessage(content='', additional_kwargs={'tool_calls': [{'id': 'call_80xihmMD2ycfwhLaqgVHG5Zu', 'function': {'arguments': '{\"a\": 2, \"b\": 3}', 'name': 'multiply'}, 'type': 'function'}, {'id': 'call_CthUsT1QR2pMWG2ngLTVrRkJ', 'function': {'arguments': '{\"a\": 3, \"b\": 3}', 'name': 'multiply'}, 'type': 'function'}], 'refusal': None}, response_metadata={'token_usage': {'completion_tokens': 50, 'prompt_tokens': 155, 'total_tokens': 205, 'completion_tokens_details': {'accepted_prediction_tokens': 0, 'audio_tokens': 0, 'reasoning_tokens': 0, 'rejected_prediction_tokens': 0}, 'prompt_tokens_details': {'audio_tokens': 0, 'cached_tokens': 0}}, 'model_name': 'gpt-4o-2024-08-06', 'system_fingerprint': 'fp_f33640a400', 'id': 'chatcmpl-CLiee94djjpqvq3Td8utLsNvqwXar', 'service_tier': 'default', 'finish_reason': 'tool_calls', 'logprobs': None}, id='run--10c54338-dada-4e02-9b9c-7f8d382e987e-0', tool_calls=[{'name': 'multiply', 'args': {'a': 2, 'b': 3}, 'id': 'call_80xihmMD2ycfwhLaqgVHG5Zu', 'type': 'tool_call'}, {'name': 'multiply', 'args': {'a': 3, 'b': 3}, 'id': 'call_CthUsT1QR2pMWG2ngLTVrRkJ', 'type': 'tool_call'}], usage_metadata={'input_tokens': 155, 'output_tokens': 50, 'total_tokens': 205, 'input_token_details': {'audio': 0, 'cache_read': 0}, 'output_token_details': {'audio': 0, 'reasoning': 0}})]}),), interrupts=())\n",
      "StateSnapshot(values={'messages': [HumanMessage(content='2와 3을 곱하세요', additional_kwargs={}, response_metadata={}, id='8417703e-93e0-4bdd-8787-61986c5ac75b')]}, next=('human_feedback',), config={'configurable': {'thread_id': '5', 'checkpoint_ns': '', 'checkpoint_id': '1f09e7e4-9b01-6ee2-8000-7daab0592e1d'}}, metadata={'source': 'loop', 'step': 0, 'parents': {}}, created_at='2025-10-01T04:22:48.783219+00:00', parent_config={'configurable': {'thread_id': '5', 'checkpoint_ns': '', 'checkpoint_id': '1f09e7e4-9aff-6b38-bfff-402b02474e2a'}}, tasks=(PregelTask(id='eedab009-9525-2f8a-77c4-a066d9d86c74', name='human_feedback', path=('__pregel_pull', 'human_feedback'), error=None, interrupts=(), state=None, result=None),), interrupts=())\n",
      "StateSnapshot(values={'messages': []}, next=('__start__',), config={'configurable': {'thread_id': '5', 'checkpoint_ns': '', 'checkpoint_id': '1f09e7e4-9aff-6b38-bfff-402b02474e2a'}}, metadata={'source': 'input', 'step': -1, 'parents': {}}, created_at='2025-10-01T04:22:48.782309+00:00', parent_config=None, tasks=(PregelTask(id='62d51b1a-5347-e4db-4af4-83ab6c33d20f', name='__start__', path=('__pregel_pull', '__start__'), error=None, interrupts=(), state=None, result={'messages': '2와 3을 곱하세요'}),), interrupts=())\n"
     ]
    }
   ],
   "source": [
    "history = graph.get_state_history(thread)\n",
    "for h in history:\n",
    "    print(h)"
   ]
  },
  {
   "cell_type": "code",
   "execution_count": 64,
   "id": "f30c6186",
   "metadata": {},
   "outputs": [
    {
     "data": {
      "text/plain": [
       "[HumanMessage(content='2와 3을 곱하세요', additional_kwargs={}, response_metadata={}, id='8417703e-93e0-4bdd-8787-61986c5ac75b'),\n",
       " HumanMessage(content='3곱하기 3', additional_kwargs={}, response_metadata={}, id='e688ba2e-061d-41b6-b6c8-55d8d5d68dc4'),\n",
       " AIMessage(content='', additional_kwargs={'tool_calls': [{'id': 'call_80xihmMD2ycfwhLaqgVHG5Zu', 'function': {'arguments': '{\"a\": 2, \"b\": 3}', 'name': 'multiply'}, 'type': 'function'}, {'id': 'call_CthUsT1QR2pMWG2ngLTVrRkJ', 'function': {'arguments': '{\"a\": 3, \"b\": 3}', 'name': 'multiply'}, 'type': 'function'}], 'refusal': None}, response_metadata={'token_usage': {'completion_tokens': 50, 'prompt_tokens': 155, 'total_tokens': 205, 'completion_tokens_details': {'accepted_prediction_tokens': 0, 'audio_tokens': 0, 'reasoning_tokens': 0, 'rejected_prediction_tokens': 0}, 'prompt_tokens_details': {'audio_tokens': 0, 'cached_tokens': 0}}, 'model_name': 'gpt-4o-2024-08-06', 'system_fingerprint': 'fp_f33640a400', 'id': 'chatcmpl-CLiee94djjpqvq3Td8utLsNvqwXar', 'service_tier': 'default', 'finish_reason': 'tool_calls', 'logprobs': None}, id='run--10c54338-dada-4e02-9b9c-7f8d382e987e-0', tool_calls=[{'name': 'multiply', 'args': {'a': 2, 'b': 3}, 'id': 'call_80xihmMD2ycfwhLaqgVHG5Zu', 'type': 'tool_call'}, {'name': 'multiply', 'args': {'a': 3, 'b': 3}, 'id': 'call_CthUsT1QR2pMWG2ngLTVrRkJ', 'type': 'tool_call'}], usage_metadata={'input_tokens': 155, 'output_tokens': 50, 'total_tokens': 205, 'input_token_details': {'audio': 0, 'cache_read': 0}, 'output_token_details': {'audio': 0, 'reasoning': 0}}),\n",
       " ToolMessage(content='6', name='multiply', id='278ef198-e795-4db4-8387-ac6ea84e0a8d', tool_call_id='call_80xihmMD2ycfwhLaqgVHG5Zu'),\n",
       " ToolMessage(content='9', name='multiply', id='4759e6b7-0689-4bdd-a1a6-2352c4bb2402', tool_call_id='call_CthUsT1QR2pMWG2ngLTVrRkJ'),\n",
       " AIMessage(content='2와 3을 곱한 결과는 6이고, 3 곱하기 3의 결과는 9입니다.', additional_kwargs={'refusal': None}, response_metadata={'token_usage': {'completion_tokens': 29, 'prompt_tokens': 221, 'total_tokens': 250, 'completion_tokens_details': {'accepted_prediction_tokens': 0, 'audio_tokens': 0, 'reasoning_tokens': 0, 'rejected_prediction_tokens': 0}, 'prompt_tokens_details': {'audio_tokens': 0, 'cached_tokens': 0}}, 'model_name': 'gpt-4o-2024-08-06', 'system_fingerprint': 'fp_f33640a400', 'id': 'chatcmpl-CLiemkVrN5uUHXXEXe9xs83cNysrd', 'service_tier': 'default', 'finish_reason': 'stop', 'logprobs': None}, id='run--60bf9fa0-a1bc-4104-9391-ea2d0abf8afe-0', usage_metadata={'input_tokens': 221, 'output_tokens': 29, 'total_tokens': 250, 'input_token_details': {'audio': 0, 'cache_read': 0}, 'output_token_details': {'audio': 0, 'reasoning': 0}})]"
      ]
     },
     "execution_count": 64,
     "metadata": {},
     "output_type": "execute_result"
    }
   ],
   "source": [
    "snapshot = graph.get_state(thread)\n",
    "snapshot.values[\"messages\"]"
   ]
  },
  {
   "cell_type": "code",
   "execution_count": null,
   "id": "e4aa1aaa",
   "metadata": {},
   "outputs": [],
   "source": []
  }
 ],
 "metadata": {
  "kernelspec": {
   "display_name": ".venv",
   "language": "python",
   "name": "python3"
  },
  "language_info": {
   "codemirror_mode": {
    "name": "ipython",
    "version": 3
   },
   "file_extension": ".py",
   "mimetype": "text/x-python",
   "name": "python",
   "nbconvert_exporter": "python",
   "pygments_lexer": "ipython3",
   "version": "3.12.11"
  }
 },
 "nbformat": 4,
 "nbformat_minor": 5
}
