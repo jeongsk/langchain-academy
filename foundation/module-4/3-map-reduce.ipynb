{
 "cells": [
  {
   "cell_type": "markdown",
   "id": "4cd4f701",
   "metadata": {},
   "source": [
    "[![Open in Colab](https://colab.research.google.com/assets/colab-badge.svg)](https://colab.research.google.com/github/langchain-ai/langchain-academy/blob/main/module-4/map-reduce.ipynb) [![Open in LangChain Academy](https://cdn.prod.website-files.com/65b8cd72835ceeacd4449a53/66e9eba12c7b7688aa3dbb5e_LCA-badge-green.svg)](https://academy.langchain.com/courses/take/intro-to-langgraph/lessons/58239947-lesson-3-map-reduce)"
   ]
  },
  {
   "cell_type": "markdown",
   "id": "36737349-c949-4d64-9aa3-3767cbd02ad1",
   "metadata": {},
   "source": [
    "# 맵리듀스 (Map-reduce)\n",
    "\n",
    "## 복습\n",
    "\n",
    "우리는 이 과정의 모든 모듈을 하나로 묶는 **다중 에이전트(multi-agent) 연구 어시스턴트**를 만들어 가고 있습니다.\n",
    "\n",
    "이 다중 에이전트 어시스턴트를 구축하기 위해, 우리는 몇 가지 LangGraph의 **제어 가능성(controllability)** 관련 주제들을 소개해왔습니다.\n",
    "\n",
    "바로 직전에는 **병렬 처리(parallelization)** 와 **서브 그래프(sub-graphs)** 에 대해 다루었습니다.\n",
    "\n",
    "## 목표\n",
    "\n",
    "이제 [**맵리듀스(map reduce)**](https://langchain-ai.github.io/langgraph/how-tos/map-reduce/)에 대해 알아보겠습니다."
   ]
  },
  {
   "cell_type": "code",
   "execution_count": 1,
   "id": "f24e95c8",
   "metadata": {},
   "outputs": [],
   "source": [
    "%%capture --no-stderr\n",
    "%pip install -U langchain_openai langgraph"
   ]
  },
  {
   "cell_type": "code",
   "execution_count": 2,
   "id": "71692e85",
   "metadata": {},
   "outputs": [
    {
     "data": {
      "text/plain": [
       "True"
      ]
     },
     "execution_count": 2,
     "metadata": {},
     "output_type": "execute_result"
    }
   ],
   "source": [
    "from dotenv import load_dotenv\n",
    "\n",
    "load_dotenv(\"../.env\", override=True)"
   ]
  },
  {
   "cell_type": "code",
   "execution_count": 3,
   "id": "ff57cbf7",
   "metadata": {},
   "outputs": [],
   "source": [
    "import os\n",
    "import getpass\n",
    "\n",
    "\n",
    "def _set_env(var: str):\n",
    "    if not os.environ.get(var):\n",
    "        os.environ[var] = getpass.getpass(f\"{var}: \")\n",
    "\n",
    "\n",
    "_set_env(\"OPENAI_API_KEY\")"
   ]
  },
  {
   "cell_type": "markdown",
   "id": "cbcd868a",
   "metadata": {},
   "source": [
    "We'll use [LangSmith](https://docs.smith.langchain.com/) for [tracing](https://docs.smith.langchain.com/concepts/tracing)."
   ]
  },
  {
   "cell_type": "code",
   "execution_count": 4,
   "id": "9fdc647f",
   "metadata": {},
   "outputs": [],
   "source": [
    "_set_env(\"LANGSMITH_API_KEY\")\n",
    "os.environ[\"LANGSMITH_TRACING\"] = \"true\"\n",
    "os.environ[\"LANGSMITH_PROJECT\"] = \"langchain-academy\""
   ]
  },
  {
   "cell_type": "markdown",
   "id": "2bbe9b9f-4375-4bca-8e32-7d57cb861469",
   "metadata": {},
   "source": [
    "## 문제\n",
    "\n",
    "맵리듀스(Map-reduce) 연산은 효율적인 **작업 분해(task decomposition)** 와 **병렬 처리(parallel processing)** 에 필수적입니다.\n",
    "\n",
    "이 연산은 두 가지 단계로 구성됩니다.\n",
    "\n",
    "1. **맵(Map)** - 하나의 작업을 더 작은 하위 작업들로 나눈 후, 각 하위 작업을 병렬로 처리합니다.\n",
    "\n",
    "2. **리듀스(Reduce)** - 병렬로 처리된 모든 하위 작업의 결과를 하나로 취합합니다.\n",
    "\n",
    "이제 다음 두 가지를 수행하는 시스템을 설계해 보겠습니다.\n",
    "\n",
    "1. **맵(Map)** - 특정 주제에 대한 농담 여러 개를 생성합니다.\n",
    "\n",
    "2. **리듀스(Reduce)** - 생성된 농담 목록에서 최고의 농담 하나를 선택합니다.\n",
    "\n",
    "농담 생성과 선택 작업에는 LLM을 사용하겠습니다."
   ]
  },
  {
   "cell_type": "code",
   "execution_count": null,
   "id": "994cf903-1ed6-4ae2-b32a-7891a2808f81",
   "metadata": {},
   "outputs": [],
   "source": [
    "from langchain_openai import ChatOpenAI\n",
    "\n",
    "# 사용할 프롬프트들\n",
    "subjects_prompt = (\n",
    "    \"\"\"다음 전체 주제와 관련된 하위 주제 3가지 목록을 생성하세요: {topic}\"\"\"\n",
    ")\n",
    "joke_prompt = \"\"\"{subject}에 대한 농담을 생성하세요.\"\"\"\n",
    "best_joke_prompt = \"\"\"아래는 {topic}에 대한 여러 농담입니다. 그중 최고의 농담을 선택하세요! 첫 번째 농담의 ID를 0으로 하여, 가장 재미있는 농담의 ID를 반환해주세요. 농담 목록: \\n\\n {jokes}\"\"\"\n",
    "\n",
    "# LLM\n",
    "model = ChatOpenAI(model=\"gpt-4o\", temperature=0)"
   ]
  },
  {
   "cell_type": "markdown",
   "id": "f3b883cc-3469-4e96-b1a4-deadf7bf3ce5",
   "metadata": {},
   "source": [
    "## 상태 (State)\n",
    "\n",
    "### 농담 생성 병렬 처리\n",
    "\n",
    "먼저, 다음과 같은 작업을 수행할 그래프의 진입점(entry point)을 정의해 보겠습니다.\n",
    "\n",
    "* 사용자로부터 주제를 입력받습니다.\n",
    "* 입력된 주제로부터 여러 농담 주제를 생성합니다.\n",
    "* 각 농담 주제를 위에서 정의한 농담 생성 노드로 보냅니다.\n",
    "\n",
    "우리가 정의할 상태(state)는 `jokes` 키를 가지며, 이 키에는 병렬 처리된 농담 생성 노드로부터 반환된 농담들이 누적될 것입니다."
   ]
  },
  {
   "cell_type": "code",
   "execution_count": 6,
   "id": "099218ca-ee78-4291-95a1-87ee61382e3b",
   "metadata": {},
   "outputs": [],
   "source": [
    "import operator\n",
    "from typing import Annotated\n",
    "from typing_extensions import TypedDict\n",
    "from pydantic import BaseModel\n",
    "\n",
    "\n",
    "class Subjects(BaseModel):\n",
    "    subjects: list[str]\n",
    "\n",
    "\n",
    "class BestJoke(BaseModel):\n",
    "    id: int\n",
    "\n",
    "\n",
    "class OverallState(TypedDict):\n",
    "    topic: str\n",
    "    subjects: list\n",
    "    jokes: Annotated[list, operator.add]\n",
    "    best_selected_joke: str"
   ]
  },
  {
   "cell_type": "markdown",
   "id": "c7176d1c-4a88-4b0f-a960-ee04a45279bd",
   "metadata": {},
   "source": [
    "농담의 주제를 생성합니다."
   ]
  },
  {
   "cell_type": "code",
   "execution_count": 7,
   "id": "45010efd-ad31-4daa-b77e-aaec79ef0309",
   "metadata": {},
   "outputs": [],
   "source": [
    "def generate_topics(state: OverallState):\n",
    "    prompt = subjects_prompt.format(topic=state[\"topic\"])\n",
    "    response = model.with_structured_output(Subjects).invoke(prompt)\n",
    "    return {\"subjects\": response.subjects}"
   ]
  },
  {
   "cell_type": "markdown",
   "id": "e5296bb0-c163-4e5c-8181-1e305b37442a",
   "metadata": {},
   "source": [
    "바로 여기서 [Send](https://langchain-ai.github.io/langgraph/concepts/low_level/#send) 함수를 사용하여 각 주제에 대한 농담을 생성하는 것이 핵심입니다.\n",
    "\n",
    "이 기능은 매우 유용합니다! 주제 수에 관계없이 농담 생성을 자동으로 병렬 처리할 수 있습니다.\n",
    "\n",
    "* `generate_joke`: 그래프에 있는 노드의 이름\n",
    "* `{\"subject\": s}`: 전송할 상태(state)\n",
    "\n",
    "`Send`를 사용하면 `OverallState`와 일치할 필요 없이, 원하는 어떤 상태(state)든 `generate_joke` 노드로 전달할 수 있습니다!\n",
    "\n",
    "이 경우 `generate_joke`는 자체적인 내부 상태를 사용하며, 우리는 `Send`를 통해 이 상태의 값을 채워줄 수 있습니다."
   ]
  },
  {
   "cell_type": "code",
   "execution_count": 8,
   "id": "bc83e575-11f6-41a9-990a-adb571bcda06",
   "metadata": {},
   "outputs": [],
   "source": [
    "from langgraph.types import Send\n",
    "\n",
    "\n",
    "def continue_to_jokes(state: OverallState):\n",
    "    return [Send(\"generate_joke\", {\"subject\": s}) for s in state[\"subjects\"]]"
   ]
  },
  {
   "cell_type": "markdown",
   "id": "9847192d-d358-411e-90c0-f06be0738717",
   "metadata": {},
   "source": [
    "### 농담 생성 (map)\n",
    "\n",
    "이제 농담을 생성할 `generate_joke` 노드를 정의하기만 하면 됩니다!\n",
    "\n",
    "생성된 농담은 `OverallState`의 `jokes` 키에 다시 기록합니다!\n",
    "\n",
    "이 키에는 여러 리스트를 하나로 합쳐주는 리듀서(reducer)가 적용되어 있습니다."
   ]
  },
  {
   "cell_type": "code",
   "execution_count": 9,
   "id": "bcddc567-73d3-4fb3-bfc5-1bea538f2aab",
   "metadata": {},
   "outputs": [],
   "source": [
    "class JokeState(TypedDict):\n",
    "    subject: str\n",
    "\n",
    "\n",
    "class Joke(BaseModel):\n",
    "    joke: str\n",
    "\n",
    "\n",
    "def generate_joke(state: JokeState):\n",
    "    prompt = joke_prompt.format(subject=state[\"subject\"])\n",
    "    response = model.with_structured_output(Joke).invoke(prompt)\n",
    "    return {\"jokes\": [response.joke]}"
   ]
  },
  {
   "cell_type": "markdown",
   "id": "02960657-d174-4076-99a8-b3f9eea015f4",
   "metadata": {},
   "source": [
    "### 최고의 농담 선택 (reduce)\n",
    "\n",
    "이제 최고의 농담을 선택하는 로직을 추가합니다."
   ]
  },
  {
   "cell_type": "code",
   "execution_count": 10,
   "id": "8d672870-75e3-4307-bda0-c41a86cbbaff",
   "metadata": {},
   "outputs": [],
   "source": [
    "def best_joke(state: OverallState):\n",
    "    jokes = \"\\n\\n\".join(state[\"jokes\"])\n",
    "    prompt = best_joke_prompt.format(topic=state[\"topic\"], jokes=jokes)\n",
    "    response = model.with_structured_output(BestJoke).invoke(prompt)\n",
    "    return {\"best_selected_joke\": state[\"jokes\"][response.id]}"
   ]
  },
  {
   "cell_type": "markdown",
   "id": "837cd12e-5bff-426e-97f4-c774df998cfb",
   "metadata": {},
   "source": [
    "## Compile"
   ]
  },
  {
   "cell_type": "code",
   "execution_count": 11,
   "id": "2ae6be4b-144e-483c-88ad-ce86d6477a0d",
   "metadata": {},
   "outputs": [
    {
     "data": {
      "image/png": "[encoded data removed]",
      "text/plain": [
       "<IPython.core.display.Image object>"
      ]
     },
     "execution_count": 11,
     "metadata": {},
     "output_type": "execute_result"
    }
   ],
   "source": [
    "from IPython.display import Image\n",
    "from langgraph.graph import END, StateGraph, START\n",
    "\n",
    "# 그래프를 구성합니다: 여기에서 모든 것을 모아 그래프를 구성합니다\n",
    "graph = StateGraph(OverallState)\n",
    "graph.add_node(\"generate_topics\", generate_topics)\n",
    "graph.add_node(\"generate_joke\", generate_joke)\n",
    "graph.add_node(\"best_joke\", best_joke)\n",
    "\n",
    "graph.add_edge(START, \"generate_topics\")\n",
    "graph.add_conditional_edges(\"generate_topics\", continue_to_jokes, [\"generate_joke\"])\n",
    "graph.add_edge(\"generate_joke\", \"best_joke\")\n",
    "graph.add_edge(\"best_joke\", END)\n",
    "\n",
    "# 그래프를 컴파일하십시오\n",
    "app = graph.compile()\n",
    "Image(app.get_graph().draw_mermaid_png())"
   ]
  },
  {
   "cell_type": "code",
   "execution_count": 12,
   "id": "e21dc7c9-0add-4125-be76-af701adb874a",
   "metadata": {},
   "outputs": [
    {
     "name": "stdout",
     "output_type": "stream",
     "text": [
      "{'generate_topics': {'subjects': ['동물 행동', '동물 서식지', '동물 보존']}}\n",
      "{'generate_joke': {'jokes': ['왜 고양이는 항상 컴퓨터 키보드 위에 앉아 있을까요?\\n\\n왜냐하면, 그들은 \"purr-ogramming\"을 좋아하거든요! 😸💻']}}\n",
      "{'generate_joke': {'jokes': ['왜 코끼리는 컴퓨터를 사용하지 않을까요?\\n\\n왜냐하면 그들의 서식지에는 \"마우스\"가 없기 때문이죠! 🐘🖱️']}}\n",
      "{'generate_joke': {'jokes': ['왜 코끼리는 절대 비밀을 말하지 않을까요?\\n\\n왜냐하면 그들은 항상 \"코끼리\"처럼 기억하니까요! 🐘😄']}}\n",
      "{'best_joke': {'best_selected_joke': '왜 고양이는 항상 컴퓨터 키보드 위에 앉아 있을까요?\\n\\n왜냐하면, 그들은 \"purr-ogramming\"을 좋아하거든요! 😸💻'}}\n"
     ]
    }
   ],
   "source": [
    "# 그래프를 호출한다: 여기서 우리는 농담 목록을 생성하기 위해 이를 호출한다\n",
    "for s in app.stream({\"topic\": \"animals\"}):\n",
    "    print(s)"
   ]
  },
  {
   "attachments": {},
   "cell_type": "markdown",
   "id": "2a96517e-77ab-46e2-95e2-79168c044e9c",
   "metadata": {},
   "source": [
    "## Studio\n",
    "\n",
    "로컬 개발 서버를 시작하려면, 이 모듈의 `/studio` 디렉토리 내 터미널에서 다음 명령어를 실행하세요:\n",
    "\n",
    "```shell\n",
    "langgraph dev\n",
    "```\n",
    "\n",
    "다음과 같은 출력이 표시됩니다:\n",
    "\n",
    "```shell\n",
    "- 🚀 API: http://127.0.0.1:2024\n",
    "- 🎨 Studio UI: https://smith.langchain.com/studio/?baseUrl=http://127.0.0.1:2024\n",
    "- 📚 API Docs: http://127.0.0.1:2024/docs\n",
    "```\n",
    "\n",
    "브라우저를 열고 다음 Studio UI 주소로 이동하세요: `https://smith.langchain.com/studio/?baseUrl=http://127.0.0.1:2024`\n",
    "\n",
    "이제 Studio UI에서 위에서 만든 그래프를 로드해 보겠습니다. 이 그래프는 `module-4/studio/langgraph.json` 파일에 설정된 `module-4/studio/map_reduce.py`를 사용합니다."
   ]
  },
  {
   "cell_type": "code",
   "execution_count": null,
   "id": "741a5e45-9a4c-43b4-8393-9298b3dcda53",
   "metadata": {},
   "outputs": [],
   "source": []
  }
 ],
 "metadata": {
  "kernelspec": {
   "display_name": ".venv",
   "language": "python",
   "name": "python3"
  },
  "language_info": {
   "codemirror_mode": {
    "name": "ipython",
    "version": 3
   },
   "file_extension": ".py",
   "mimetype": "text/x-python",
   "name": "python",
   "nbconvert_exporter": "python",
   "pygments_lexer": "ipython3",
   "version": "3.12.11"
  }
 },
 "nbformat": 4,
 "nbformat_minor": 5
}
