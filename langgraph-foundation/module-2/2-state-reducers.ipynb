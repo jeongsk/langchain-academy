{
 "cells": [
  {
   "cell_type": "markdown",
   "id": "36b496da",
   "metadata": {},
   "source": [
    "[![Open in Colab](https://colab.research.google.com/assets/colab-badge.svg)](https://colab.research.google.com/github/langchain-ai/langchain-academy/blob/main/module-2/state-reducers.ipynb) [![Open in LangChain Academy](https://cdn.prod.website-files.com/65b8cd72835ceeacd4449a53/66e9eba12c7b7688aa3dbb5e_LCA-badge-green.svg)](https://academy.langchain.com/courses/take/intro-to-langgraph/lessons/58239428-lesson-2-state-reducers)"
   ]
  },
  {
   "cell_type": "markdown",
   "id": "b7ae0ff7-497d-4c31-a57a-00fe92799232",
   "metadata": {},
   "source": [
    "# State Reducers(상태 리듀서)\n",
    "\n",
    "## 복습\n",
    "\n",
    "`TypedDict`, `Pydantic`, `Dataclasses` 등 LangGraph 상태 스키마를 정의하는 여러 방법을 살펴보았습니다.\n",
    "\n",
    "## 목표\n",
    "\n",
    "이제 상태 스키마 내 특정 키/채널에 대한 상태 업데이트 방식을 지정하는 리듀서에 대해 자세히 알아보겠습니다."
   ]
  },
  {
   "cell_type": "code",
   "execution_count": 14,
   "id": "398c5e8e-641f-4be6-b1e8-7531f86bd2e9",
   "metadata": {},
   "outputs": [],
   "source": [
    "%%capture --no-stderr\n",
    "%pip install --quiet -U langchain_core langgraph"
   ]
  },
  {
   "cell_type": "markdown",
   "id": "4d5bd534-c5be-48fe-91bc-af39ebee76b7",
   "metadata": {},
   "source": [
    "## 상태의 기본 동작: 덮어쓰기\n",
    "\n",
    "상태 스키마로 `TypedDict`를 사용해 보겠습니다."
   ]
  },
  {
   "cell_type": "code",
   "execution_count": 15,
   "id": "64e2438c-9353-4256-bc3c-1bb830374c0b",
   "metadata": {},
   "outputs": [
    {
     "data": {
      "image/png": "[encoded data removed]",
      "text/plain": [
       "<IPython.core.display.Image object>"
      ]
     },
     "metadata": {},
     "output_type": "display_data"
    }
   ],
   "source": [
    "from typing import TypedDict\n",
    "from IPython.display import Image, display\n",
    "from langgraph.graph import StateGraph, START, END\n",
    "\n",
    "\n",
    "class State(TypedDict):\n",
    "    foo: int\n",
    "\n",
    "\n",
    "def node_1(state):\n",
    "    print(\"---Node 1---\")\n",
    "    return {\"foo\": state[\"foo\"] + 1}\n",
    "\n",
    "\n",
    "# Build graph\n",
    "builder = StateGraph(State)\n",
    "builder.add_node(\"node_1\", node_1)\n",
    "\n",
    "# Logic\n",
    "builder.add_edge(START, \"node_1\")\n",
    "builder.add_edge(\"node_1\", END)\n",
    "\n",
    "# Add\n",
    "graph = builder.compile()\n",
    "\n",
    "# View\n",
    "display(Image(graph.get_graph().draw_mermaid_png()))"
   ]
  },
  {
   "cell_type": "code",
   "execution_count": 16,
   "id": "69634df1-4f02-446f-b5cf-6a83d1e15e37",
   "metadata": {},
   "outputs": [
    {
     "name": "stdout",
     "output_type": "stream",
     "text": [
      "---Node 1---\n"
     ]
    },
    {
     "data": {
      "text/plain": [
       "{'foo': 2}"
      ]
     },
     "execution_count": 16,
     "metadata": {},
     "output_type": "execute_result"
    }
   ],
   "source": [
    "graph.invoke({\"foo\": 1})"
   ]
  },
  {
   "cell_type": "markdown",
   "id": "775a099c-c41c-412f-8f05-e7436388ae79",
   "metadata": {},
   "source": [
    "상태 업데이트 부분인 `return {\"foo\": state['foo'] + 1}`을 살펴보겠습니다.\n",
    "\n",
    "앞서 설명했듯이, LangGraph는 기본적으로 상태를 업데이트하는 방법을 알지 못합니다.\n",
    " \n",
    "따라서 `node_1`에서 `foo` 값을 단순히 덮어쓰게 됩니다:\n",
    "\n",
    "```\n",
    "return {\"foo\": state['foo'] + 1}\n",
    "```\n",
    " \n",
    "입력 값으로 `{'foo': 1}`을 전달하면, 그래프에서 반환되는 상태는 `{'foo': 2}`가 됩니다.\n",
    "\n",
    "## 분기\n",
    "\n",
    "노드가 분기되는 경우를 살펴보겠습니다."
   ]
  },
  {
   "cell_type": "code",
   "execution_count": 17,
   "id": "2b8d6ad4-2991-4325-933d-67057bc150f4",
   "metadata": {},
   "outputs": [],
   "source": [
    "class State(TypedDict):\n",
    "    foo: int\n",
    "\n",
    "\n",
    "def node_1(state):\n",
    "    print(\"---Node 1---\")\n",
    "    return {\"foo\": state[\"foo\"] + 1}\n",
    "\n",
    "\n",
    "def node_2(state):\n",
    "    print(\"---Node 2---\")\n",
    "    return {\"foo\": state[\"foo\"] + 1}\n",
    "\n",
    "\n",
    "def node_3(state):\n",
    "    print(\"---Node 3---\")\n",
    "    return {\"foo\": state[\"foo\"] + 1}\n",
    "\n",
    "\n",
    "# Build graph\n",
    "builder = StateGraph(State)\n",
    "builder.add_node(\"node_1\", node_1)\n",
    "builder.add_node(\"node_2\", node_2)\n",
    "builder.add_node(\"node_3\", node_3)\n",
    "\n",
    "# Logic\n",
    "builder.add_edge(START, \"node_1\")\n",
    "builder.add_edge(\"node_1\", \"node_2\")\n",
    "builder.add_edge(\"node_1\", \"node_3\")\n",
    "builder.add_edge(\"node_2\", END)\n",
    "builder.add_edge(\"node_3\", END)\n",
    "\n",
    "# Add\n",
    "graph = builder.compile()\n",
    "\n",
    "# View\n",
    "# display(Image(graph.get_graph().draw_mermaid_png()))"
   ]
  },
  {
   "cell_type": "markdown",
   "id": "393b69e1",
   "metadata": {},
   "source": [
    "![](https://i.imgur.com/dIFYerC.png)"
   ]
  },
  {
   "cell_type": "code",
   "execution_count": 18,
   "id": "106729b3",
   "metadata": {},
   "outputs": [
    {
     "name": "stdout",
     "output_type": "stream",
     "text": [
      "---Node 1---\n",
      "---Node 2---\n",
      "---Node 3---\n",
      "InvalidUpdateError occurred: At key 'foo': Can receive only one value per step. Use an Annotated key to handle multiple values.\n",
      "For troubleshooting, visit: https://python.langchain.com/docs/troubleshooting/errors/INVALID_CONCURRENT_GRAPH_UPDATE\n"
     ]
    }
   ],
   "source": [
    "from langgraph.errors import InvalidUpdateError\n",
    "\n",
    "try:\n",
    "    graph.invoke({\"foo\": 1})\n",
    "except InvalidUpdateError as e:\n",
    "    print(f\"InvalidUpdateError occurred: {e}\")\n"
   ]
  },
  {
   "cell_type": "markdown",
   "id": "b9717ccd-3d34-476a-8952-e6a7629ebefe",
   "metadata": {},
   "source": [
    "문제가 발생했습니다!\n",
    "\n",
    "`node_1`은 `node_2`와 `node_3`으로 분기합니다.\n",
    "\n",
    "`node_2`와 `node_3`은 병렬로 실행되며, 이는 그래프의 동일한 단계에서 실행됨을 의미합니다.\n",
    "\n",
    "두 노드 모두 *동일한 단계 내에서* 상태를 덮어쓰려고 시도합니다.\n",
    "\n",
    "이는 그래프에 대해 모호합니다! 어떤 상태를 유지해야 할까요?"
   ]
  },
  {
   "cell_type": "markdown",
   "id": "f1609cf7-dc47-4926-a154-77904b6cc550",
   "metadata": {},
   "source": [
    "## 리듀서(Reducers)\n",
    "\n",
    "[reducers](https://langchain-ai.github.io/langgraph/concepts/low_level/#reducers)는 이 문제를 해결하는 일반적인 방법을 제공합니다.\n",
    "\n",
    "리듀서는 업데이트 수행 방식을 지정합니다.\n",
    "\n",
    "`Annotated` 타입을 사용해 리듀서 함수를 지정할 수 있습니다.\n",
    "\n",
    "예를 들어, 각 노드에서 반환된 값을 덮어쓰기 대신 연결해 추가해 보겠습니다.\n",
    "\n",
    "이를 수행할 수 있는 리듀서가 필요합니다: `operator.add`는 Python 내장 operator 모듈의 함수입니다.\n",
    "\n",
    "`operator.add`가 리스트에 적용되면 리스트 연결을 수행합니다."
   ]
  },
  {
   "cell_type": "code",
   "execution_count": 19,
   "id": "103d808c-55ec-44f2-a688-7b5e1572875a",
   "metadata": {},
   "outputs": [
    {
     "data": {
      "image/png": "[encoded data removed]",
      "text/plain": [
       "<IPython.core.display.Image object>"
      ]
     },
     "metadata": {},
     "output_type": "display_data"
    }
   ],
   "source": [
    "from operator import add\n",
    "from typing import Annotated\n",
    "\n",
    "\n",
    "class State(TypedDict):\n",
    "    foo: Annotated[list[int], add]\n",
    "\n",
    "\n",
    "def node_1(state):\n",
    "    print(\"---Node 1---\")\n",
    "    return {\"foo\": [state[\"foo\"][0] + 1]}\n",
    "\n",
    "\n",
    "# Build graph\n",
    "builder = StateGraph(State)\n",
    "builder.add_node(\"node_1\", node_1)\n",
    "\n",
    "# Logic\n",
    "builder.add_edge(START, \"node_1\")\n",
    "builder.add_edge(\"node_1\", END)\n",
    "\n",
    "# Add\n",
    "graph = builder.compile()\n",
    "\n",
    "# View\n",
    "display(Image(graph.get_graph().draw_mermaid_png()))"
   ]
  },
  {
   "cell_type": "code",
   "execution_count": 20,
   "id": "9e68cdff-f6e1-4de5-a7bf-6ca0cfee19bf",
   "metadata": {},
   "outputs": [
    {
     "name": "stdout",
     "output_type": "stream",
     "text": [
      "---Node 1---\n"
     ]
    },
    {
     "data": {
      "text/plain": [
       "{'foo': [1, 2]}"
      ]
     },
     "execution_count": 20,
     "metadata": {},
     "output_type": "execute_result"
    }
   ],
   "source": [
    "graph.invoke({\"foo\": [1]})"
   ]
  },
  {
   "cell_type": "markdown",
   "id": "63fbd6e0-0207-4049-b86d-c006cbba630b",
   "metadata": {},
   "source": [
    "이제 상태 키 `foo`는 리스트입니다.\n",
    "\n",
    "이 `operator.add` 리듀서 함수는 각 노드에서 오는 업데이트를 이 리스트에 추가합니다."
   ]
  },
  {
   "cell_type": "code",
   "execution_count": 21,
   "id": "768fd0ed-5e24-44a4-b14d-0e299310e105",
   "metadata": {},
   "outputs": [],
   "source": [
    "def node_1(state):\n",
    "    print(\"---Node 1---\")\n",
    "    return {\"foo\": [state[\"foo\"][-1] + 1]}\n",
    "\n",
    "\n",
    "def node_2(state):\n",
    "    print(\"---Node 2---\")\n",
    "    return {\"foo\": [state[\"foo\"][-1] + 1]}\n",
    "\n",
    "\n",
    "def node_3(state):\n",
    "    print(\"---Node 3---\")\n",
    "    return {\"foo\": [state[\"foo\"][-1] + 1]}\n",
    "\n",
    "\n",
    "# Build graph\n",
    "builder = StateGraph(State)\n",
    "builder.add_node(\"node_1\", node_1)\n",
    "builder.add_node(\"node_2\", node_2)\n",
    "builder.add_node(\"node_3\", node_3)\n",
    "\n",
    "# Logic\n",
    "builder.add_edge(START, \"node_1\")\n",
    "builder.add_edge(\"node_1\", \"node_2\")\n",
    "builder.add_edge(\"node_1\", \"node_3\")\n",
    "builder.add_edge(\"node_2\", END)\n",
    "builder.add_edge(\"node_3\", END)\n",
    "\n",
    "# Add\n",
    "graph = builder.compile()\n",
    "\n",
    "# View\n",
    "# display(Image(graph.get_graph().draw_mermaid_png()))"
   ]
  },
  {
   "cell_type": "markdown",
   "id": "7649c77d",
   "metadata": {},
   "source": [
    "![](https://i.imgur.com/dIFYerC.png)"
   ]
  },
  {
   "cell_type": "markdown",
   "id": "5439baad-5a75-4188-b936-dbe74cdd9078",
   "metadata": {},
   "source": [
    "노드 2와 3의 업데이트는 동일한 단계에 속하기 때문에 동시에 수행됨을 확인할 수 있습니다."
   ]
  },
  {
   "cell_type": "code",
   "execution_count": 22,
   "id": "44598f97-0a59-4ed4-9d9a-e15a98b3d8fb",
   "metadata": {},
   "outputs": [
    {
     "name": "stdout",
     "output_type": "stream",
     "text": [
      "---Node 1---\n",
      "---Node 2---\n",
      "---Node 3---\n"
     ]
    },
    {
     "data": {
      "text/plain": [
       "{'foo': [1, 2, 3, 3]}"
      ]
     },
     "execution_count": 22,
     "metadata": {},
     "output_type": "execute_result"
    }
   ],
   "source": [
    "graph.invoke({\"foo\": [1]})"
   ]
  },
  {
   "cell_type": "markdown",
   "id": "87faaa07-2955-4466-9bca-4b536e05f260",
   "metadata": {},
   "source": [
    "이제 `foo`에 `None`을 전달하면 어떻게 되는지 살펴보겠습니다.\n",
    "\n",
    "리듀서인 `operator.add`가 `node_1`에서 입력으로 전달된 `NoneType`을 리스트에 연결하려고 시도하기 때문에 오류가 발생합니다."
   ]
  },
  {
   "cell_type": "code",
   "execution_count": 23,
   "id": "7f05984b-2bc7-48d1-b070-c8a001a6b59a",
   "metadata": {},
   "outputs": [
    {
     "name": "stdout",
     "output_type": "stream",
     "text": [
      "TypeError occurred: can only concatenate list (not \"NoneType\") to list\n"
     ]
    }
   ],
   "source": [
    "try:\n",
    "    graph.invoke({\"foo\": None})\n",
    "except TypeError as e:\n",
    "    print(f\"TypeError occurred: {e}\")"
   ]
  },
  {
   "cell_type": "markdown",
   "id": "4f9d4930-ee8f-4ffc-b9e1-3c910b2e15f6",
   "metadata": {},
   "source": [
    "## 사용자 정의 리듀서\n",
    "\n",
    "이와 같은 경우를 처리하기 위해 [사용자 정의 리듀서를 정의할 수도 있습니다](https://langchain-ai.github.io/langgraph/how-tos/subgraph/#custom-reducer-functions-to-manage-state).\n",
    "\n",
    "예를 들어, 목록을 결합하고 입력값 중 하나 또는 둘 다 `None`일 수 있는 경우를 처리하는 사용자 정의 리듀서 로직을 정의해 보겠습니다."
   ]
  },
  {
   "cell_type": "code",
   "execution_count": null,
   "id": "3314219d-29ff-4b78-b18e-fa9f7878a02f",
   "metadata": {},
   "outputs": [],
   "source": [
    "def reduce_list(left: list | None, right: list | None) -> list:\n",
    "    \"\"\"Safely combine two lists, handling cases where either or both inputs might be None.\n",
    "\n",
    "    Args:\n",
    "        left (list | None): The first list to combine, or None.\n",
    "        right (list | None): The second list to combine, or None.\n",
    "\n",
    "    Returns:\n",
    "        list: A new list containing all elements from both input lists.\n",
    "            If an input is None, it's treated as an empty list.\n",
    "    \"\"\"\n",
    "    if not left:\n",
    "        left = []\n",
    "    if not right:\n",
    "        right = []\n",
    "    return left + right\n",
    "\n",
    "\n",
    "class DefaultState(TypedDict):\n",
    "    foo: Annotated[list[int], add]\n",
    "\n",
    "\n",
    "class CustomReducerState(TypedDict):\n",
    "    foo: Annotated[list[int], reduce_list]"
   ]
  },
  {
   "cell_type": "markdown",
   "id": "dcdea26a-38d0-4faf-9bf6-cd52eb902635",
   "metadata": {},
   "source": [
    "`node_1`에서 값 2를 추가합니다."
   ]
  },
  {
   "cell_type": "code",
   "execution_count": 25,
   "id": "f5f270db-6eff-47c9-853b-dfb8108ff28c",
   "metadata": {},
   "outputs": [
    {
     "data": {
      "image/png": "[encoded data removed]",
      "text/plain": [
       "<IPython.core.display.Image object>"
      ]
     },
     "metadata": {},
     "output_type": "display_data"
    },
    {
     "name": "stdout",
     "output_type": "stream",
     "text": [
      "TypeError occurred: can only concatenate list (not \"NoneType\") to list\n"
     ]
    }
   ],
   "source": [
    "def node_1(state):\n",
    "    print(\"---Node 1---\")\n",
    "    return {\"foo\": [2]}\n",
    "\n",
    "\n",
    "# Build graph\n",
    "builder = StateGraph(DefaultState)\n",
    "builder.add_node(\"node_1\", node_1)\n",
    "\n",
    "# Logic\n",
    "builder.add_edge(START, \"node_1\")\n",
    "builder.add_edge(\"node_1\", END)\n",
    "\n",
    "# Add\n",
    "graph = builder.compile()\n",
    "\n",
    "# View\n",
    "display(Image(graph.get_graph().draw_mermaid_png()))\n",
    "\n",
    "try:\n",
    "    print(graph.invoke({\"foo\": None}))\n",
    "except TypeError as e:\n",
    "    print(f\"TypeError occurred: {e}\")"
   ]
  },
  {
   "cell_type": "markdown",
   "id": "fd21936b-62f1-4311-9ce5-2c7d08aa35bf",
   "metadata": {},
   "source": [
    "이제 사용자 정의 리듀서로 시도해 보세요. 오류가 발생하지 않는 것을 확인할 수 있습니다."
   ]
  },
  {
   "cell_type": "code",
   "execution_count": 26,
   "id": "867784bc-796c-4b1e-a4d3-2810395cf5e2",
   "metadata": {},
   "outputs": [
    {
     "data": {
      "image/png": "[encoded data removed]",
      "text/plain": [
       "<IPython.core.display.Image object>"
      ]
     },
     "metadata": {},
     "output_type": "display_data"
    },
    {
     "name": "stdout",
     "output_type": "stream",
     "text": [
      "---Node 1---\n",
      "{'foo': [2]}\n"
     ]
    }
   ],
   "source": [
    "# Build graph\n",
    "builder = StateGraph(CustomReducerState)\n",
    "builder.add_node(\"node_1\", node_1)\n",
    "\n",
    "# Logic\n",
    "builder.add_edge(START, \"node_1\")\n",
    "builder.add_edge(\"node_1\", END)\n",
    "\n",
    "# Add\n",
    "graph = builder.compile()\n",
    "\n",
    "# View\n",
    "display(Image(graph.get_graph().draw_mermaid_png()))\n",
    "\n",
    "try:\n",
    "    print(graph.invoke({\"foo\": None}))\n",
    "except TypeError as e:\n",
    "    print(f\"TypeError occurred: {e}\")"
   ]
  },
  {
   "cell_type": "markdown",
   "id": "b7ebc65e-c185-4981-a6e7-20fe37d2f8fe",
   "metadata": {},
   "source": [
    "## Messages\n",
    "\n",
    "모듈 1에서 상태의 메시지를 처리하기 위해 내장 리듀서인 `add_messages`를 사용하는 방법을 살펴봤습니다.\n",
    "\n",
    "또한 [메시지를 다룰 때 `MessagesState`가 유용한 단축 방법이라는 것도 보여드렸습니다](https://langchain-ai.github.io/langgraph/concepts/low_level/#messagesstate). \n",
    "\n",
    "* `MessagesState`에는 내장된 `messages` 키를 가지고 있습니다\n",
    "* 이 키에 대한 내장 `add_messages` 리듀서도 포함되어 있습니다.\n",
    "\n",
    "이 두가지 방법은 동일합니다.\n",
    "\n",
    "간결함을 위해 `from langgraph.graph import MessagesState`를 통해 `MessagesState` 클래스를 사용하겠습니다.\n"
   ]
  },
  {
   "cell_type": "code",
   "execution_count": 27,
   "id": "901e69e5-c4cb-4d58-82fb-3b7d968758e3",
   "metadata": {},
   "outputs": [],
   "source": [
    "from typing import Annotated\n",
    "from langgraph.graph import MessagesState\n",
    "from langchain_core.messages import AnyMessage\n",
    "from langgraph.graph.message import add_messages\n",
    "\n",
    "\n",
    "# add_messages 리듀서를 사용하여 메시지 목록을 포함하는 사용자 정의 TypedDict 정의\n",
    "class CustomMessagesState(TypedDict):\n",
    "    messages: Annotated[list[AnyMessage], add_messages]\n",
    "    added_key_1: str\n",
    "    added_key_2: str\n",
    "    # etc\n",
    "\n",
    "\n",
    "# add_messages 리듀서를 포함하는 메시지 키를 가진 MessagesState를 사용하십시오.\n",
    "class ExtendedMessagesState(MessagesState):\n",
    "    # Add any keys needed beyond messages, which is pre-built\n",
    "    added_key_1: str\n",
    "    added_key_2: str\n",
    "    # etc"
   ]
  },
  {
   "cell_type": "markdown",
   "id": "287805e4-722a-4428-b040-2892b29de870",
   "metadata": {},
   "source": [
    "`add_messages` 리듀서의 사용법에 대해 좀 더 이야기해 보겠습니다."
   ]
  },
  {
   "cell_type": "code",
   "execution_count": null,
   "id": "c8f61350-4fe0-4a2b-bb24-9305afb3c668",
   "metadata": {},
   "outputs": [
    {
     "data": {
      "text/plain": [
       "[AIMessage(content='안녕하세요! 무엇을 도와드릴까요?', additional_kwargs={}, response_metadata={}, name='Model', id='a10e3e0b-09d2-4138-b418-9d1f10eb1201'),\n",
       " HumanMessage(content='해양 생물학에 관한 정보를 찾고 있습니다.', additional_kwargs={}, response_metadata={}, name='Lance', id='eba0e512-bbfe-49cf-b8bf-8333d75450a3'),\n",
       " AIMessage(content='물론 도와드릴 수 있어요. 구체적으로 어떤 부분에 관심이 있으신가요?', additional_kwargs={}, response_metadata={}, name='Model', id='c65d623c-18e5-4f5d-a75e-aaabba669b40')]"
      ]
     },
     "execution_count": 28,
     "metadata": {},
     "output_type": "execute_result"
    }
   ],
   "source": [
    "from langgraph.graph.message import add_messages\n",
    "from langchain_core.messages import AIMessage, HumanMessage\n",
    "\n",
    "# Initial state\n",
    "initial_messages = [\n",
    "    AIMessage(content=\"안녕하세요! 무엇을 도와드릴까요?\", name=\"Model\"),\n",
    "    HumanMessage(content=\"해양 생물학에 관한 정보를 찾고 있습니다.\", name=\"Lance\"),\n",
    "]\n",
    "\n",
    "# New message to add\n",
    "new_message = AIMessage(\n",
    "    content=\"물론 도와드릴 수 있어요. 구체적으로 어떤 부분에 관심이 있으신가요?\",\n",
    "    name=\"Model\",\n",
    ")\n",
    "\n",
    "# Test\n",
    "add_messages(initial_messages, new_message)"
   ]
  },
  {
   "cell_type": "markdown",
   "id": "bc492370-0502-43e6-87cc-181c60b3dbdb",
   "metadata": {},
   "source": [
    "따라서 `add_messages`를 사용하면 상태의 `messages` 키에 메시지를 추가할 수 있음을 알 수 있습니다.\n",
    "\n",
    "### 메시지 재작성\n",
    "\n",
    "`add_messages` 리듀서를 사용할 때 유용한 몇 가지 방법을 살펴보겠습니다.\n",
    "\n",
    "`messages` 목록에 이미 존재하는 메시지와 동일한 ID를 가진 메시지를 전달하면, 기존 메시지가 덮어쓰게 됩니다!"
   ]
  },
  {
   "cell_type": "code",
   "execution_count": 29,
   "id": "1f6f82fd-a5a8-4e98-80f6-bb058f2acc47",
   "metadata": {},
   "outputs": [
    {
     "data": {
      "text/plain": [
       "[AIMessage(content='안녕하세요! 무엇을 도와드릴까요?', additional_kwargs={}, response_metadata={}, name='Model', id='1'),\n",
       " HumanMessage(content='고래에 관한 정보를 찾고 있습니다, 특히', additional_kwargs={}, response_metadata={}, name='Lance', id='2')]"
      ]
     },
     "execution_count": 29,
     "metadata": {},
     "output_type": "execute_result"
    }
   ],
   "source": [
    "# Initial state\n",
    "initial_messages = [\n",
    "    AIMessage(content=\"안녕하세요! 무엇을 도와드릴까요?\", name=\"Model\", id=\"1\"),\n",
    "    HumanMessage(\n",
    "        content=\"해양 생물학에 관한 정보를 찾고 있습니다.\", name=\"Lance\", id=\"2\"\n",
    "    ),\n",
    "]\n",
    "\n",
    "# New message to add\n",
    "new_message = HumanMessage(\n",
    "    content=\"고래에 관한 정보를 찾고 있습니다, 특히\", name=\"Lance\", id=\"2\"\n",
    ")\n",
    "\n",
    "# Test\n",
    "add_messages(initial_messages, new_message)"
   ]
  },
  {
   "cell_type": "markdown",
   "id": "f06e7788-7054-4752-99fe-27ebb901f263",
   "metadata": {},
   "source": [
    "### 메시지 제거\n",
    "\n",
    "`add_messages`는 또한 [메시지 제거 기능을 활성화합니다](https://langchain-ai.github.io/langgraph/how-tos/memory/delete-messages/). \n",
    "\n",
    "이를 위해 `langchain_core`의 [RemoveMessage](https://api.python.langchain.com/en/latest/messages/langchain_core.messages.modifier.RemoveMessage.html)를 사용합니다."
   ]
  },
  {
   "cell_type": "code",
   "execution_count": 30,
   "id": "67ac97e5-efe2-40bc-9fe3-fd4f50922b8b",
   "metadata": {},
   "outputs": [
    {
     "name": "stdout",
     "output_type": "stream",
     "text": [
      "[RemoveMessage(content='', additional_kwargs={}, response_metadata={}, id='1'), RemoveMessage(content='', additional_kwargs={}, response_metadata={}, id='2')]\n"
     ]
    }
   ],
   "source": [
    "from langchain_core.messages import RemoveMessage\n",
    "\n",
    "# Message list\n",
    "messages = [AIMessage(\"안녕하세요.\", name=\"Bot\", id=\"1\")]\n",
    "messages.append(HumanMessage(\"안녕하세요.\", name=\"Lance\", id=\"2\"))\n",
    "messages.append(\n",
    "    AIMessage(\"그러니까 해양 포유류를 연구하고 있다고 하셨나요?\", name=\"Bot\", id=\"3\")\n",
    ")\n",
    "messages.append(\n",
    "    HumanMessage(\n",
    "        \"네, 고래에 대해서는 알고 있어요. 그런데 다른 것들은 무엇을 배워야 할까요?\",\n",
    "        name=\"Lance\",\n",
    "        id=\"4\",\n",
    "    )\n",
    ")\n",
    "\n",
    "# Isolate messages to delete\n",
    "delete_messages = [RemoveMessage(id=m.id) for m in messages[:-2]]\n",
    "print(delete_messages)"
   ]
  },
  {
   "cell_type": "code",
   "execution_count": 31,
   "id": "2d250578-3ec0-452e-91c0-072d785d96db",
   "metadata": {},
   "outputs": [
    {
     "data": {
      "text/plain": [
       "[AIMessage(content='그러니까 해양 포유류를 연구하고 있다고 하셨나요?', additional_kwargs={}, response_metadata={}, name='Bot', id='3'),\n",
       " HumanMessage(content='네, 고래에 대해서는 알고 있어요. 그런데 다른 것들은 무엇을 배워야 할까요?', additional_kwargs={}, response_metadata={}, name='Lance', id='4')]"
      ]
     },
     "execution_count": 31,
     "metadata": {},
     "output_type": "execute_result"
    }
   ],
   "source": [
    "add_messages(messages, delete_messages)"
   ]
  },
  {
   "cell_type": "markdown",
   "id": "5db095c5-6d9a-4e62-a097-0403797511f6",
   "metadata": {},
   "source": [
    "`delete_messages`에 명시된 메시지 ID 1과 2가 리듀서에 의해 제거되는 것을 확인할 수 있습니다.\n",
    "\n",
    "이것이 실제로 적용되는 모습은 조금 후에 살펴보겠습니다."
   ]
  },
  {
   "cell_type": "code",
   "execution_count": null,
   "id": "c8b0347d-cbf0-4164-9cf6-39c4e040a313",
   "metadata": {},
   "outputs": [],
   "source": []
  }
 ],
 "metadata": {
  "kernelspec": {
   "display_name": ".venv",
   "language": "python",
   "name": "python3"
  },
  "language_info": {
   "codemirror_mode": {
    "name": "ipython",
    "version": 3
   },
   "file_extension": ".py",
   "mimetype": "text/x-python",
   "name": "python",
   "nbconvert_exporter": "python",
   "pygments_lexer": "ipython3",
   "version": "3.12.11"
  }
 },
 "nbformat": 4,
 "nbformat_minor": 5
}
