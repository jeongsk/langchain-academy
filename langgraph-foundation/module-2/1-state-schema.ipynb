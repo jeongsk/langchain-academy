{
 "cells": [
  {
   "cell_type": "markdown",
   "id": "256d3948",
   "metadata": {},
   "source": [
    "[![Open in Colab](https://colab.research.google.com/assets/colab-badge.svg)](https://colab.research.google.com/github/langchain-ai/langchain-academy/blob/main/module-2/state-schema.ipynb) [![Open in LangChain Academy](https://cdn.prod.website-files.com/65b8cd72835ceeacd4449a53/66e9eba12c7b7688aa3dbb5e_LCA-badge-green.svg)](https://academy.langchain.com/courses/take/intro-to-langgraph/lessons/58239426-lesson-1-state-schema)"
   ]
  },
  {
   "cell_type": "markdown",
   "id": "f118fabe-37b7-4cd4-b7a4-9b0fc3875ca3",
   "metadata": {},
   "source": [
    "# State Schema(상태 스키마)\n",
    "\n",
    "## 복습\n",
    "\n",
    "모듈 1에서는 기초를 다졌습니다! 우리는 다음과 같은 기능을 가진 에이전트를 구축했습니다:\n",
    "\n",
    "* `act` - 모델이 특정 도구를 호출할 수 있도록 합니다\n",
    "* `observe` - 도구 출력을 모델로 다시 전달합니다\n",
    "* `reason` - 모델이 도구 출력에 대해 추론하여 다음 행동(예: 다른 도구 호출 또는 직접 응답)을 결정할 수 있도록 합니다\n",
    "* `persist state` - 중단이 발생해도 장기 대화 지원을 위한 메모리 내 체크포인트 사용\n",
    " \n",
    "또한 LangGraph Studio에서 로컬로 실행하거나 LangGraph Cloud로 배포하는 방법을 살펴보았습니다.\n",
    "\n",
    "## 목표\n",
    "\n",
    "이번 모듈에서는 상태와 메모리에 대한 이해를 심화할 것입니다.\n",
    "\n",
    "먼저 상태 스키마를 정의하는 다양한 방법을 복습해 보겠습니다."
   ]
  },
  {
   "cell_type": "code",
   "execution_count": 1,
   "id": "b9a896f4-8509-456a-9a25-46532342f459",
   "metadata": {},
   "outputs": [],
   "source": [
    "%%capture --no-stderr\n",
    "%pip install --quiet -U langgraph"
   ]
  },
  {
   "cell_type": "markdown",
   "id": "9f7927b0-9909-4e54-b997-ac49c1aeaa09",
   "metadata": {},
   "source": [
    "## Schema(스키마)\n",
    "\n",
    "LangGraph `StateGraph`를 정의할 때 우리는 [state schema](https://langchain-ai.github.io/langgraph/concepts/low_level/#state)를 사용합니다.\n",
    "\n",
    "상태 스키마는 그래프가 사용할 데이터의 구조와 유형을 나타냅니다.\n",
    "\n",
    "모든 노드는 해당 스키마와 통신해야 합니다.\n",
    "\n",
    "LangGraph는 상태 스키마 정의 방식에 유연성을 제공하여 다양한 Python [타입](https://docs.python.org/3/library/stdtypes.html#type-objects)과 검증 방식을 수용합니다!\n",
    "\n",
    "## TypedDict\n",
    "\n",
    "모듈 1에서 언급했듯이, Python의 `typing` 모듈에서 제공하는 `TypedDict` 클래스를 사용할 수 있습니다.\n",
    "\n",
    "이를 통해 키와 해당 값의 유형을 지정할 수 있습니다.\n",
    " \n",
    "하지만 이는 타입 힌트에 불과하다는 점을 유의하세요.\n",
    "\n",
    "정적 타입 검사기(예: [mypy](https://github.com/python/mypy))나 IDE에서 코드 실행 전에 잠재적인 타입 관련 오류를 잡아내는 데 사용할 수 있습니다.\n",
    "\n",
    "그러나 런타임에는 강제 적용되지 않습니다!"
   ]
  },
  {
   "cell_type": "code",
   "execution_count": null,
   "id": "eedb39f0-af0f-4794-bc16-65980d278b59",
   "metadata": {},
   "outputs": [],
   "source": [
    "from typing import TypedDict\n",
    "\n",
    "\n",
    "class TypedDictState(TypedDict):\n",
    "    foo: str\n",
    "    bar: str"
   ]
  },
  {
   "cell_type": "markdown",
   "id": "d5a71661-1086-455f-a5e0-a6d104034a95",
   "metadata": {},
   "source": [
    "더 구체적인 값 제약 조건을 위해 `Literal` 타입 힌트 등을 사용할 수 있습니다.\n",
    "\n",
    "여기서 `mood`는 \"happy\" 또는 \"sad\" 중 하나만 가질 수 있습니다."
   ]
  },
  {
   "cell_type": "code",
   "execution_count": null,
   "id": "4ad9749c-b127-433f-baa3-189a9349e9f6",
   "metadata": {},
   "outputs": [],
   "source": [
    "from typing import Literal\n",
    "\n",
    "\n",
    "class TypedDictState(TypedDict):\n",
    "    name: str\n",
    "    mood: Literal[\"happy\", \"sad\"]"
   ]
  },
  {
   "cell_type": "markdown",
   "id": "c1a9152d-1728-4a67-9e23-1ef622525047",
   "metadata": {},
   "source": [
    "정의된 상태 클래스(예: 여기서는 `TypedDictState`)를 LangGraph에서 사용하려면 단순히 `StateGraph`에 전달하기만 하면 됩니다.\n",
    "\n",
    "또한 각 상태 키를 그래프 내의 단순한 \"채널\"로 생각할 수 있습니다.\n",
    "\n",
    "모듈 1에서 논의한 바와 같이, 각 노드에서 지정된 키 또는 \"채널\"의 값을 덮어씁니다."
   ]
  },
  {
   "cell_type": "code",
   "execution_count": null,
   "id": "2f7a0d6d-f70b-44ed-86e3-7cdb39873ba4",
   "metadata": {},
   "outputs": [
    {
     "data": {
      "image/jpeg": "[encoded data removed]",
      "text/plain": [
       "<IPython.core.display.Image object>"
      ]
     },
     "metadata": {},
     "output_type": "display_data"
    }
   ],
   "source": [
    "import random\n",
    "from IPython.display import Image, display\n",
    "from langgraph.graph import StateGraph, START, END\n",
    "\n",
    "\n",
    "def node_1(state):\n",
    "    print(\"---Node 1---\")\n",
    "    return {\"name\": state[\"name\"] + \" is ... \"}\n",
    "\n",
    "\n",
    "def node_2(state):\n",
    "    print(\"---Node 2---\")\n",
    "    return {\"mood\": \"happy\"}\n",
    "\n",
    "\n",
    "def node_3(state):\n",
    "    print(\"---Node 3---\")\n",
    "    return {\"mood\": \"sad\"}\n",
    "\n",
    "\n",
    "def decide_mood(state) -> Literal[\"node_2\", \"node_3\"]:\n",
    "    # Here, let's just do a 50 / 50 split between nodes 2, 3\n",
    "    if random.random() < 0.5:\n",
    "        # 50% of the time, we return Node 2\n",
    "        return \"node_2\"\n",
    "\n",
    "    # 50% of the time, we return Node 3\n",
    "    return \"node_3\"\n",
    "\n",
    "\n",
    "# Build graph\n",
    "builder = StateGraph(TypedDictState)\n",
    "builder.add_node(\"node_1\", node_1)\n",
    "builder.add_node(\"node_2\", node_2)\n",
    "builder.add_node(\"node_3\", node_3)\n",
    "\n",
    "# Logic\n",
    "builder.add_edge(START, \"node_1\")\n",
    "builder.add_conditional_edges(\"node_1\", decide_mood)\n",
    "builder.add_edge(\"node_2\", END)\n",
    "builder.add_edge(\"node_3\", END)\n",
    "\n",
    "# Add\n",
    "graph = builder.compile()\n",
    "\n",
    "# View\n",
    "display(Image(graph.get_graph().draw_mermaid_png()))"
   ]
  },
  {
   "cell_type": "markdown",
   "id": "724bb640-2b0e-46c1-9416-b5bcdb9c17c8",
   "metadata": {},
   "source": [
    "우리 상태가 딕셔너리이므로, 단순히 딕셔너리로 그래프를 호출하여 상태 내 `name` 키의 초기값을 설정합니다."
   ]
  },
  {
   "cell_type": "code",
   "execution_count": null,
   "id": "74e09d32-6a08-4250-b19a-1f701828829d",
   "metadata": {},
   "outputs": [
    {
     "name": "stdout",
     "output_type": "stream",
     "text": [
      "---Node 1---\n",
      "---Node 2---\n"
     ]
    },
    {
     "data": {
      "text/plain": [
       "{'name': 'Lance is ... ', 'mood': 'happy'}"
      ]
     },
     "execution_count": 4,
     "metadata": {},
     "output_type": "execute_result"
    }
   ],
   "source": [
    "graph.invoke({\"name\": \"Lance\"})"
   ]
  },
  {
   "cell_type": "markdown",
   "id": "70cc5368-18b8-49c7-b561-41888b092311",
   "metadata": {},
   "source": [
    "## Dataclass\n",
    "\n",
    "파이썬의 [dataclasses](https://docs.python.org/3/library/dataclasses.html)는 [구조화된 데이터를 정의하는 또 다른 방법](https://www.datacamp.com/tutorial/python-data-classes)을 제공합니다.\n",
    "\n",
    "데이터 클래스는 주로 데이터를 저장하는 데 사용되는 클래스를 생성하기 위한 간결한 구문을 제공합니다."
   ]
  },
  {
   "cell_type": "code",
   "execution_count": null,
   "id": "d576fc2c-350b-42ad-89e5-f93ae102dbf8",
   "metadata": {},
   "outputs": [],
   "source": [
    "from dataclasses import dataclass\n",
    "\n",
    "\n",
    "@dataclass\n",
    "class DataclassState:\n",
    "    name: str\n",
    "    mood: Literal[\"happy\", \"sad\"]"
   ]
  },
  {
   "cell_type": "markdown",
   "id": "64482b93-3c8f-4a30-925f-9be64e4b8b6f",
   "metadata": {},
   "source": [
    "`dataclass`의 키에 접근하려면 `node_1`에서 사용된 인덱싱 방식을 수정하기만 하면 됩니다:\n",
    "\n",
    "* 위의 `TypedDict`에서 `state[\"name\"]` 대신 `dataclass` 상태에 대해 `state.name`을 사용합니다\n",
    "\n",
    "약간 이상한 점이 눈에 띌 것입니다: 각 노드에서 상태 업데이트를 수행하기 위해 여전히 사전(dictionary)을 반환합니다.\n",
    " \n",
    "LangGraph가 상태 객체의 각 키를 별도로 저장하기 때문에 가능합니다.\n",
    "\n",
    "노드가 반환하는 객체는 상태 객체와 일치하는 키(속성)만 있으면 됩니다!\n",
    "\n",
    "이 경우 `dataclass`에는 `name` 키가 있으므로, 상태가 `TypedDict`였을 때와 마찬가지로 노드에서 딕셔너리를 전달하여 업데이트할 수 있습니다."
   ]
  },
  {
   "cell_type": "code",
   "execution_count": null,
   "id": "1e1eda69-916f-4f6e-b400-6e65f73d8716",
   "metadata": {},
   "outputs": [
    {
     "data": {
      "image/jpeg": "[encoded data removed]",
      "text/plain": [
       "<IPython.core.display.Image object>"
      ]
     },
     "metadata": {},
     "output_type": "display_data"
    }
   ],
   "source": [
    "def node_1(state):\n",
    "    print(\"---Node 1---\")\n",
    "    return {\"name\": state.name + \" is ... \"}\n",
    "\n",
    "\n",
    "# Build graph\n",
    "builder = StateGraph(DataclassState)\n",
    "builder.add_node(\"node_1\", node_1)\n",
    "builder.add_node(\"node_2\", node_2)\n",
    "builder.add_node(\"node_3\", node_3)\n",
    "\n",
    "# Logic\n",
    "builder.add_edge(START, \"node_1\")\n",
    "builder.add_conditional_edges(\"node_1\", decide_mood)\n",
    "builder.add_edge(\"node_2\", END)\n",
    "builder.add_edge(\"node_3\", END)\n",
    "\n",
    "# Add\n",
    "graph = builder.compile()\n",
    "\n",
    "# View\n",
    "display(Image(graph.get_graph().draw_mermaid_png()))"
   ]
  },
  {
   "cell_type": "markdown",
   "id": "06beb50a-4878-4d7e-ac6c-d60a0f417eb3",
   "metadata": {},
   "source": [
    "우리는 `dataclass`를 호출하여 상태의 각 키/채널에 대한 초기값을 설정합니다!"
   ]
  },
  {
   "cell_type": "code",
   "execution_count": null,
   "id": "8c042325-e93d-43e1-9ac7-a0e20c2fb08d",
   "metadata": {},
   "outputs": [
    {
     "name": "stdout",
     "output_type": "stream",
     "text": [
      "---Node 1---\n",
      "---Node 3---\n"
     ]
    },
    {
     "data": {
      "text/plain": [
       "{'name': 'Lance is ... ', 'mood': 'sad'}"
      ]
     },
     "execution_count": 7,
     "metadata": {},
     "output_type": "execute_result"
    }
   ],
   "source": [
    "graph.invoke(DataclassState(name=\"Lance\", mood=\"sad\"))"
   ]
  },
  {
   "cell_type": "markdown",
   "id": "2405e49b-e786-4bf9-ac85-1fb941d01bcd",
   "metadata": {},
   "source": [
    "## Pydantic\n",
    "\n",
    "앞서 언급했듯이 `TypedDict`와 `dataclasses`는 타입 힌트를 제공하지만 런타임에 타입을 강제하지 않습니다.\n",
    "\n",
    "이는 오류 발생 없이 잠재적으로 잘못된 값을 할당할 수 있음을 의미합니다!\n",
    "\n",
    "예를 들어, 타입 힌트가 `mood: list[Literal[\"happy\",\"sad\"]]`로 지정되어 있음에도 `mood`를 `mad`로 설정할 수 있습니다."
   ]
  },
  {
   "cell_type": "code",
   "execution_count": 8,
   "id": "522fcc76-abf7-452a-9d7b-000e06942d94",
   "metadata": {},
   "outputs": [],
   "source": [
    "dataclass_instance = DataclassState(name=\"Lance\", mood=\"mad\")"
   ]
  },
  {
   "cell_type": "markdown",
   "id": "4f095c3a-96b5-4318-9303-20424b4455e9",
   "metadata": {},
   "source": [
    "[Pydantic](https://docs.pydantic.dev/latest/api/base_model/)은 Python 타입 어노테이션을 사용하는 데이터 검증 및 설정 관리 라이브러리입니다.\n",
    "\n",
    "검증 기능 덕분에 [LangGraph에서 상태 스키마 정의](https://langchain-ai.github.io/langgraph/how-tos/state-model/)에 특히 적합합니다.\n",
    "\n",
    "Pydantic은 런타임 시 데이터가 지정된 유형 및 제약 조건을 준수하는지 검증할 수 있습니다."
   ]
  },
  {
   "cell_type": "code",
   "execution_count": null,
   "id": "62e8720e-217f-4b98-837a-af45c3fa577f",
   "metadata": {},
   "outputs": [
    {
     "name": "stdout",
     "output_type": "stream",
     "text": [
      "Validation Error: 1 validation error for PydanticState\n",
      "mood\n",
      "  Input should be 'happy' or 'sad' [type=literal_error, input_value='mad', input_type=str]\n",
      "    For further information visit https://errors.pydantic.dev/2.8/v/literal_error\n"
     ]
    }
   ],
   "source": [
    "from pydantic import BaseModel, field_validator, ValidationError\n",
    "\n",
    "\n",
    "class PydanticState(BaseModel):\n",
    "    name: str\n",
    "    mood: str  # \"happy\" or \"sad\"\n",
    "\n",
    "    @field_validator(\"mood\")\n",
    "    @classmethod\n",
    "    def validate_mood(cls, value):\n",
    "        # Ensure the mood is either \"happy\" or \"sad\"\n",
    "        if value not in [\"happy\", \"sad\"]:\n",
    "            raise ValueError(\"Each mood must be either 'happy' or 'sad'\")\n",
    "        return value\n",
    "\n",
    "\n",
    "try:\n",
    "    state = PydanticState(name=\"John Doe\", mood=\"mad\")\n",
    "except ValidationError as e:\n",
    "    print(\"Validation Error:\", e)"
   ]
  },
  {
   "cell_type": "markdown",
   "id": "f29913ca-0295-48eb-af4e-cae515dd9a9c",
   "metadata": {},
   "source": [
    "그래프 내에서 `PydanticState`를 원활하게 사용할 수 있습니다."
   ]
  },
  {
   "cell_type": "code",
   "execution_count": null,
   "id": "91db3393-b7f8-46e5-8129-0e7539b2804c",
   "metadata": {},
   "outputs": [
    {
     "data": {
      "image/jpeg": "[encoded data removed]",
      "text/plain": [
       "<IPython.core.display.Image object>"
      ]
     },
     "metadata": {},
     "output_type": "display_data"
    }
   ],
   "source": [
    "# Build graph\n",
    "builder = StateGraph(PydanticState)\n",
    "builder.add_node(\"node_1\", node_1)\n",
    "builder.add_node(\"node_2\", node_2)\n",
    "builder.add_node(\"node_3\", node_3)\n",
    "\n",
    "# Logic\n",
    "builder.add_edge(START, \"node_1\")\n",
    "builder.add_conditional_edges(\"node_1\", decide_mood)\n",
    "builder.add_edge(\"node_2\", END)\n",
    "builder.add_edge(\"node_3\", END)\n",
    "\n",
    "# Add\n",
    "graph = builder.compile()\n",
    "\n",
    "# View\n",
    "display(Image(graph.get_graph().draw_mermaid_png()))"
   ]
  },
  {
   "cell_type": "code",
   "execution_count": null,
   "id": "e96c78be-b483-4fa4-949b-62d4274e97ac",
   "metadata": {},
   "outputs": [
    {
     "name": "stdout",
     "output_type": "stream",
     "text": [
      "---Node 1---\n",
      "---Node 3---\n"
     ]
    },
    {
     "data": {
      "text/plain": [
       "{'name': 'Lance is ... ', 'mood': 'sad'}"
      ]
     },
     "execution_count": 12,
     "metadata": {},
     "output_type": "execute_result"
    }
   ],
   "source": [
    "graph.invoke(PydanticState(name=\"Lance\", mood=\"sad\"))"
   ]
  },
  {
   "cell_type": "code",
   "execution_count": null,
   "id": "8119232a-7d56-4abc-b0ef-18bf5f0cc9fd",
   "metadata": {},
   "outputs": [],
   "source": []
  }
 ],
 "metadata": {
  "kernelspec": {
   "display_name": "Python 3 (ipykernel)",
   "language": "python",
   "name": "python3"
  },
  "language_info": {
   "codemirror_mode": {
    "name": "ipython",
    "version": 3
   },
   "file_extension": ".py",
   "mimetype": "text/x-python",
   "name": "python",
   "nbconvert_exporter": "python",
   "pygments_lexer": "ipython3",
   "version": "3.12.1"
  }
 },
 "nbformat": 4,
 "nbformat_minor": 5
}
