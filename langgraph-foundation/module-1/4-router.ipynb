{
 "cells": [
  {
   "cell_type": "markdown",
   "id": "e6a06702",
   "metadata": {},
   "source": [
    "[![Open in Colab](https://colab.research.google.com/assets/colab-badge.svg)](https://colab.research.google.com/github/langchain-ai/langchain-academy/blob/main/module-1/router.ipynb) [![Open in LangChain Academy](https://cdn.prod.website-files.com/65b8cd72835ceeacd4449a53/66e9eba12c7b7688aa3dbb5e_LCA-badge-green.svg)](https://academy.langchain.com/courses/take/intro-to-langgraph/lessons/58239412-lesson-5-router)"
   ]
  },
  {
   "cell_type": "markdown",
   "id": "c992a7a6",
   "metadata": {},
   "source": [
    "# Router(라우터0\n",
    "\n",
    "## 복습\n",
    "\n",
    "우리는 `메시지`를 상태로 사용하고 바인딩된 도구를 가진 채팅 모델을 활용하는 그래프를 구축했습니다.\n",
    "\n",
    "이 그래프는 다음을 수행할 수 있음을 확인했습니다:\n",
    "\n",
    "* 도구 호출 반환\n",
    "* 자연어 응답 반환\n",
    "\n",
    "## 목표\n",
    "\n",
    "이를 라우터로 생각할 수 있습니다. 채팅 모델은 사용자 입력에 따라 직접 응답 또는 도구 호출 사이를 라우팅합니다.\n",
    "\n",
    "이는 LLM이 도구 호출 또는 직접 응답을 통해 제어 흐름을 지시하는 에이전트의 간단한 예시입니다. \n",
    "\n",
    "![](https://i.imgur.com/XHww4wO.png)\n",
    "\n",
    "두 가지 출력 모두 처리할 수 있도록 그래프를 확장해 보겠습니다!\n",
    "\n",
    "이를 위해 두 가지 아이디어를 활용할 수 있습니다:\n",
    "\n",
    "(1) 도구를 호출할 노드를 추가합니다.\n",
    "\n",
    "(2) 채팅 모델 출력을 확인하고, 도구 호출 노드로 연결하거나 도구 호출이 수행되지 않으면 단순히 종료하는 조건부 에지를 추가합니다."
   ]
  },
  {
   "cell_type": "code",
   "execution_count": null,
   "id": "f0c0d730",
   "metadata": {},
   "outputs": [],
   "source": [
    "%%capture --no-stderr\n",
    "%pip install --quiet -U langchain_openai langchain_core langgraph "
   ]
  },
  {
   "cell_type": "code",
   "execution_count": 2,
   "id": "86ee531d",
   "metadata": {},
   "outputs": [
    {
     "data": {
      "text/plain": [
       "True"
      ]
     },
     "execution_count": 2,
     "metadata": {},
     "output_type": "execute_result"
    }
   ],
   "source": [
    "from dotenv import load_dotenv\n",
    "\n",
    "load_dotenv(\"../.env\", override=True, verbose=True)"
   ]
  },
  {
   "cell_type": "code",
   "execution_count": null,
   "id": "9d7f024c",
   "metadata": {},
   "outputs": [],
   "source": [
    "from langchain_openai import ChatOpenAI\n",
    "\n",
    "\n",
    "def multiply(a: int, b: int) -> int:\n",
    "    \"\"\"Multiply a and b.\n",
    "\n",
    "    Args:\n",
    "        a: first int\n",
    "        b: second int\n",
    "    \"\"\"\n",
    "    return a * b\n",
    "\n",
    "\n",
    "llm = ChatOpenAI(model=\"gpt-4o\")\n",
    "llm_with_tools = llm.bind_tools([multiply])"
   ]
  },
  {
   "cell_type": "markdown",
   "id": "bc54db44",
   "metadata": {},
   "source": [
    "[`ToolNode`](https://langchain-ai.github.io/langgraph/reference/prebuilt/?h=tools+condition#toolnode)를 사용하고, 단순히 도구 목록을 전달하여 이를 초기화합니다. \n",
    " \n",
    " 조건부 에지로는 [`tools_condition`](https://langchain-ai.github.io/langgraph/reference/prebuilt/?h=tools+condition#tools_condition)을 사용합니다."
   ]
  },
  {
   "cell_type": "code",
   "execution_count": null,
   "id": "3814b22e",
   "metadata": {},
   "outputs": [],
   "source": [
    "from langgraph.graph import StateGraph, MessagesState\n",
    "from langgraph.prebuilt import ToolNode, tools_condition\n",
    "\n",
    "\n",
    "def agent(state: MessagesState):\n",
    "    response = llm_with_tools.invoke(state[\"messages\"])\n",
    "    return {\"messages\": [response]}\n",
    "\n",
    "\n",
    "builder = StateGraph(MessagesState)\n",
    "builder.add_node(\"agent\", agent)\n",
    "builder.add_node(\"tools\", ToolNode([multiply]))\n",
    "builder.add_conditional_edges(\"agent\", tools_condition)\n",
    "builder.set_entry_point(\"agent\")\n",
    "builder.set_finish_point(\"tools\")\n",
    "graph = builder.compile()"
   ]
  },
  {
   "cell_type": "code",
   "execution_count": 9,
   "id": "dfb89624",
   "metadata": {},
   "outputs": [
    {
     "data": {
      "image/png": "[encoded data removed]",
      "text/plain": [
       "<IPython.core.display.Image object>"
      ]
     },
     "metadata": {},
     "output_type": "display_data"
    }
   ],
   "source": [
    "from IPython.display import display, Image\n",
    "\n",
    "display(Image(graph.get_graph().draw_mermaid_png()))"
   ]
  },
  {
   "cell_type": "markdown",
   "id": "24eb2997",
   "metadata": {},
   "source": [
    "이제 그래프가 도구를 실행하는 것을 확인할 수 있습니다!\n",
    "\n",
    "`ToolMessage`로 응답합니다."
   ]
  },
  {
   "cell_type": "code",
   "execution_count": 10,
   "id": "f0a5e2b5",
   "metadata": {},
   "outputs": [
    {
     "name": "stdout",
     "output_type": "stream",
     "text": [
      "================================\u001b[1m Human Message \u001b[0m=================================\n",
      "\n",
      "1 곱하기 2는 얼마인가요?\n",
      "==================================\u001b[1m Ai Message \u001b[0m==================================\n",
      "Tool Calls:\n",
      "  multiply (call_NHReX9FyLVW0atVJOe0zMuu0)\n",
      " Call ID: call_NHReX9FyLVW0atVJOe0zMuu0\n",
      "  Args:\n",
      "    a: 1\n",
      "    b: 2\n",
      "=================================\u001b[1m Tool Message \u001b[0m=================================\n",
      "Name: multiply\n",
      "\n",
      "2\n"
     ]
    }
   ],
   "source": [
    "from langchain_core.messages import HumanMessage\n",
    "\n",
    "response = graph.invoke({\"messages\": [HumanMessage(\"1 곱하기 2는 얼마인가요?\")]})\n",
    "for m in response[\"messages\"]:\n",
    "    m.pretty_print()"
   ]
  },
  {
   "cell_type": "markdown",
   "id": "9b595315",
   "metadata": {},
   "source": [
    "\n",
    "## LangGraph Studio\n",
    "\n",
    "랭그래프 스튜디오에 대한 설명은 [여기](https://langchain-ai.github.io/langgraph/concepts/langgraph_studio/#local-development-server)와 [여기](https://langchain-ai.github.io/langgraph/how-tos/local-studio/#run-the-development-server)를 참조하세요. 로컬 개발 서버를 시작하려면, 이 모듈의 `/studio` 디렉터리에서 터미널에 다음 명령어를 실행하세요:\n",
    "\n",
    "```\n",
    "langgraph dev\n",
    "```\n",
    "\n",
    "다음과 같은 출력이 표시되어야 합니다:\n",
    "```\n",
    "- 🚀 API: http://127.0.0.1:2024\n",
    "- 🎨 Studio UI: https://smith.langchain.com/studio/?baseUrl=http://127.0.0.1:2024\n",
    "- 📚 API 문서: http://127.0.0.1:2024/docs\n",
    "```\n",
    "\n",
    "브라우저를 열고 스튜디오 UI로 이동하세요: `https://smith.langchain.com/studio/?baseUrl=http://127.0.0.1:2024`.\n",
    "스튜디오에서 `router`를 로드하세요. 이 라우터는 `module-1/studio/langgraph.json`에 설정된 `module-1/studio/router.py`를 사용합니다."
   ]
  },
  {
   "cell_type": "markdown",
   "id": "59501c16",
   "metadata": {},
   "source": []
  }
 ],
 "metadata": {
  "kernelspec": {
   "display_name": ".venv",
   "language": "python",
   "name": "python3"
  },
  "language_info": {
   "codemirror_mode": {
    "name": "ipython",
    "version": 3
   },
   "file_extension": ".py",
   "mimetype": "text/x-python",
   "name": "python",
   "nbconvert_exporter": "python",
   "pygments_lexer": "ipython3",
   "version": "3.12.11"
  }
 },
 "nbformat": 4,
 "nbformat_minor": 5
}
