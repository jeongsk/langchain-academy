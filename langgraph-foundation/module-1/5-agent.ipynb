{
 "cells": [
  {
   "cell_type": "markdown",
   "id": "6969c6ad",
   "metadata": {},
   "source": [
    "[![Open in Colab](https://colab.research.google.com/assets/colab-badge.svg)](https://colab.research.google.com/github/langchain-ai/langchain-academy/blob/main/module-1/agent.ipynb) [![Open in LangChain Academy](https://cdn.prod.website-files.com/65b8cd72835ceeacd4449a53/66e9eba12c7b7688aa3dbb5e_LCA-badge-green.svg)](https://academy.langchain.com/courses/take/intro-to-langgraph/lessons/58239232-lesson-6-agent)"
   ]
  },
  {
   "cell_type": "markdown",
   "id": "c8065ff7",
   "metadata": {},
   "source": [
    "# 에이전트\n",
    "\n",
    "## 복습\n",
    "\n",
    "이전 시간에 라우터를 구축했습니다.\n",
    "\n",
    "* 채팅 모델은 사용자 입력에 따라 도구 호출 여부를 결정합니다\n",
    "* 조건부 에지를 사용하여 도구를 호출하거나 단순히 종료하는 노드로 라우팅합니다\n",
    "\n",
    "![](https://i.imgur.com/hOJEzV8.png)\n",
    "\n",
    "## 목표\n",
    "\n",
    "이제 이를 일반적인 에이전트 아키텍처로 확장할 수 있습니다.\n",
    "\n",
    "위 라우터에서 우리는 모델을 호출했고, 모델이 도구를 호출하기로 선택하면 사용자에게 `ToolMessage`를 반환했습니다.\n",
    " \n",
    "하지만 그 `ToolMessage`를 단순히 *모델로 다시 전달*한다면 어떨까요?\n",
    "\n",
    "모델이 (1) 다른 도구를 호출하거나 (2) 직접 응답하도록 할 수 있습니다.\n",
    "\n",
    "이것이 일반적인 에이전트 아키텍처인 [ReAct](https://react-lm.github.io/)의 핵심 개념입니다.\n",
    "  \n",
    "* `act` - 모델이 특정 도구를 호출하도록 허용 \n",
    "* `observe` - 도구 출력을 모델로 다시 전달\n",
    "* `reason` - 모델이 도구 출력을 추론하여 다음 행동(다른 도구 호출 또는 직접 응답)을 결정\n",
    "\n",
    "이 [범용 아키텍처](https://blog.langchain.dev/planning-for-agents/)는 다양한 유형의 도구에 적용 가능합니다. \n",
    "\n",
    "![](https://i.imgur.com/IRLzfZT.png)"
   ]
  },
  {
   "cell_type": "code",
   "execution_count": 29,
   "id": "f6be85f7",
   "metadata": {},
   "outputs": [],
   "source": [
    "%%capture --no-stderr\n",
    "%pip install --quiet -U langchain_openai langchain_core langgraph"
   ]
  },
  {
   "cell_type": "code",
   "execution_count": 30,
   "id": "8122a86c",
   "metadata": {},
   "outputs": [],
   "source": [
    "import os, getpass\n",
    "from dotenv import load_dotenv\n",
    "\n",
    "load_dotenv(\"../.env\", override=True)\n",
    "\n",
    "\n",
    "def _set_env(var: str):\n",
    "    if not os.environ.get(var):\n",
    "        os.environ[var] = getpass.getpass(f\"{var}: \")\n",
    "\n",
    "\n",
    "_set_env(\"OPENAI_API_KEY\")"
   ]
  },
  {
   "cell_type": "markdown",
   "id": "0a1ad25b",
   "metadata": {},
   "source": [
    "여기서는 [tracing](https://docs.smith.langchain.com/concepts/tracing)을 위해 [LangSmith](https://docs.smith.langchain.com/)를 사용할 것입니다.\n",
    "\n",
    "우리는 `langchain-academy` 프로젝트에 로그를 기록할 것입니다."
   ]
  },
  {
   "cell_type": "code",
   "execution_count": 31,
   "id": "b0652734",
   "metadata": {},
   "outputs": [],
   "source": [
    "_set_env(\"LANGSMITH_API_KEY\")\n",
    "os.environ[\"LANGSMITH_TRACING\"] = \"true\"\n",
    "os.environ[\"LANGSMITH_PROJECT\"] = \"langchain-academy\""
   ]
  },
  {
   "cell_type": "code",
   "execution_count": 32,
   "id": "e63822b6",
   "metadata": {},
   "outputs": [],
   "source": [
    "from langchain_openai import ChatOpenAI\n",
    "\n",
    "\n",
    "def multiply(a: int, b: int) -> int:\n",
    "    \"\"\"Multiply a and b.\n",
    "\n",
    "    Args:\n",
    "        a: first int\n",
    "        b: second int\n",
    "    \"\"\"\n",
    "    return a * b\n",
    "\n",
    "\n",
    "# This will be a tool\n",
    "def add(a: int, b: int) -> int:\n",
    "    \"\"\"Adds a and b.\n",
    "\n",
    "    Args:\n",
    "        a: first int\n",
    "        b: second int\n",
    "    \"\"\"\n",
    "    return a + b\n",
    "\n",
    "\n",
    "def divide(a: int, b: int) -> float:\n",
    "    \"\"\"Divide a and b.\n",
    "\n",
    "    Args:\n",
    "        a: first int\n",
    "        b: second int\n",
    "    \"\"\"\n",
    "    return a / b\n",
    "\n",
    "\n",
    "tools = [add, multiply, divide]\n",
    "llm = ChatOpenAI(model=\"gpt-4o\")\n",
    "\n",
    "# 이 ipynb에서는 수학 연산이 일반적으로 순차적으로 수행되므로,\n",
    "# 병렬 도구 호출을 false로 설정했습니다.\n",
    "# 이번에는 수학 연산을 수행할 수 있는 3개의 도구가 있으며,\n",
    "# OpenAI 모델은 효율성을 위해 기본적으로 병렬 도구 호출을 사용합니다.\n",
    "# https://python.langchain.com/docs/how_to/tool_calling_parallel/ 에서\n",
    "# 직접 시도해 보시고 모델이 수학 방정식을 어떻게 처리하는지 확인해 보세요!\n",
    "llm_with_tools = llm.bind_tools(tools, parallel_tool_calls=False)"
   ]
  },
  {
   "cell_type": "markdown",
   "id": "cf4e1d77",
   "metadata": {},
   "source": [
    "우리의 대규모 언어 모델(LLM)을 생성하고, 원하는 에이전트 행동의 전반적인 방향을 프롬프트로 제시합시다."
   ]
  },
  {
   "cell_type": "code",
   "execution_count": 33,
   "id": "620f2df9",
   "metadata": {},
   "outputs": [],
   "source": [
    "from langgraph.graph import MessagesState\n",
    "from langchain_core.messages import HumanMessage, SystemMessage\n",
    "\n",
    "# System message\n",
    "sys_msg = SystemMessage(\n",
    "    content=\"당신은 일련의 입력값에 대해 산술 연산을 수행하는 임무를 맡은 유용한 보조자입니다.\"\n",
    ")\n",
    "\n",
    "\n",
    "# Node\n",
    "def assistant(state: MessagesState):\n",
    "    response = llm_with_tools.invoke([sys_msg] + state[\"messages\"])\n",
    "    return {\"messages\": [response]}"
   ]
  },
  {
   "cell_type": "markdown",
   "id": "f28b7378",
   "metadata": {},
   "source": [
    "이전과 마찬가지로 `MessagesState`를 사용하고 도구 목록을 가진 `Tools` 노드를 정의합니다.\n",
    "\n",
    "`Assistant` 노드는 바인딩된 도구를 가진 모델 자체입니다.\n",
    "\n",
    "`Assistant`와 `Tools` 노드로 그래프를 생성합니다.\n",
    "\n",
    "`tools_condition` 에지를 추가합니다. 이 에지는 `Assistant`가 도구를 호출하는지 여부에 따라 `End` 또는 `Tools`로 연결됩니다.\n",
    "\n",
    "이제 새로운 단계를 하나 추가합니다:\n",
    "\n",
    "`Tools` 노드를 `Assistant`로 *되돌아가* 연결하여 루프를 형성합니다.\n",
    "\n",
    "* `assistant` 노드 실행 후, `tools_condition`는 모델 출력이 도구 호출인지 확인합니다.\n",
    "* 도구 호출인 경우 흐름은 `tools` 노드로 이동합니다.\n",
    "* `tools` 노드는 `assistant`로 다시 연결됩니다.\n",
    "* 모델이 도구 호출을 결정하는 한 이 루프는 계속됩니다.\n",
    "* 모델 응답이 도구 호출이 아닌 경우 흐름은 END로 이동하여 프로세스를 종료합니다."
   ]
  },
  {
   "cell_type": "code",
   "execution_count": 34,
   "id": "bedf44d4",
   "metadata": {},
   "outputs": [
    {
     "data": {
      "image/jpeg": "[encoded data removed]",
      "text/plain": [
       "<IPython.core.display.Image object>"
      ]
     },
     "metadata": {},
     "output_type": "display_data"
    }
   ],
   "source": [
    "from langgraph.graph import START, StateGraph\n",
    "from langgraph.prebuilt import tools_condition\n",
    "from langgraph.prebuilt import ToolNode\n",
    "from IPython.display import Image, display\n",
    "\n",
    "# Graph\n",
    "builder = StateGraph(MessagesState)\n",
    "\n",
    "# Define nodes: these do the work\n",
    "builder.add_node(\"assistant\", assistant)\n",
    "builder.add_node(\"tools\", ToolNode(tools))\n",
    "\n",
    "# Define edges: these determine how the control flow moves\n",
    "builder.add_edge(START, \"assistant\")\n",
    "builder.add_conditional_edges(\n",
    "    \"assistant\",\n",
    "    # If the latest message (result) from assistant is a tool call -> tools_condition routes to tools\n",
    "    # If the latest message (result) from assistant is a not a tool call -> tools_condition routes to END\n",
    "    tools_condition,\n",
    ")\n",
    "builder.add_edge(\"tools\", \"assistant\")\n",
    "react_graph = builder.compile()\n",
    "\n",
    "# Show\n",
    "display(Image(react_graph.get_graph(xray=True).draw_mermaid_png()))"
   ]
  },
  {
   "cell_type": "code",
   "execution_count": null,
   "id": "b5bdea41",
   "metadata": {},
   "outputs": [],
   "source": [
    "messages = [\n",
    "    HumanMessage(\n",
    "        content=\"3과 4를 더하십시오. 출력값에 2를 곱하십시오. 출력값을 5로 나누십시오.\"\n",
    "    )\n",
    "]\n",
    "messages = react_graph.invoke({\"messages\": messages})"
   ]
  },
  {
   "cell_type": "code",
   "execution_count": null,
   "id": "e22a9844",
   "metadata": {},
   "outputs": [
    {
     "name": "stdout",
     "output_type": "stream",
     "text": [
      "================================\u001b[1m Human Message \u001b[0m=================================\n",
      "\n",
      "3과 4를 더하십시오. 출력값에 2를 곱하십시오. 출력값을 5로 나누십시오.\n",
      "==================================\u001b[1m Ai Message \u001b[0m==================================\n",
      "Tool Calls:\n",
      "  add (call_x470bUeeCie22lV7qGqAcDT4)\n",
      " Call ID: call_x470bUeeCie22lV7qGqAcDT4\n",
      "  Args:\n",
      "    a: 3\n",
      "    b: 4\n",
      "=================================\u001b[1m Tool Message \u001b[0m=================================\n",
      "Name: add\n",
      "\n",
      "7\n",
      "==================================\u001b[1m Ai Message \u001b[0m==================================\n",
      "Tool Calls:\n",
      "  multiply (call_n39N7AAlLXxXKuW2km9IEaNg)\n",
      " Call ID: call_n39N7AAlLXxXKuW2km9IEaNg\n",
      "  Args:\n",
      "    a: 7\n",
      "    b: 2\n",
      "=================================\u001b[1m Tool Message \u001b[0m=================================\n",
      "Name: multiply\n",
      "\n",
      "14\n",
      "==================================\u001b[1m Ai Message \u001b[0m==================================\n",
      "Tool Calls:\n",
      "  divide (call_As2fVsP8iij30QV694m2qv7z)\n",
      " Call ID: call_As2fVsP8iij30QV694m2qv7z\n",
      "  Args:\n",
      "    a: 14\n",
      "    b: 5\n",
      "=================================\u001b[1m Tool Message \u001b[0m=================================\n",
      "Name: divide\n",
      "\n",
      "2.8\n",
      "==================================\u001b[1m Ai Message \u001b[0m==================================\n",
      "\n",
      "3과 4를 더한 값에 2를 곱하고, 그 결과를 5로 나누면 2.8이 됩니다.\n"
     ]
    }
   ],
   "source": [
    "for m in messages[\"messages\"]:\n",
    "    m.pretty_print()"
   ]
  },
  {
   "cell_type": "markdown",
   "id": "ebd9e411",
   "metadata": {},
   "source": [
    "## LangSmith\n",
    "LangSmith에서 traces을 살펴볼 수 있습니다."
   ]
  },
  {
   "cell_type": "markdown",
   "id": "4045f07f",
   "metadata": {},
   "source": []
  }
 ],
 "metadata": {
  "kernelspec": {
   "display_name": ".venv",
   "language": "python",
   "name": "python3"
  },
  "language_info": {
   "codemirror_mode": {
    "name": "ipython",
    "version": 3
   },
   "file_extension": ".py",
   "mimetype": "text/x-python",
   "name": "python",
   "nbconvert_exporter": "python",
   "pygments_lexer": "ipython3",
   "version": "3.12.11"
  }
 },
 "nbformat": 4,
 "nbformat_minor": 5
}
