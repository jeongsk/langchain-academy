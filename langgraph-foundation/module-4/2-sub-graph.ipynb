{
 "cells": [
  {
   "cell_type": "markdown",
   "id": "6ec1671c",
   "metadata": {},
   "source": [
    "[![Open in Colab](https://colab.research.google.com/assets/colab-badge.svg)](https://colab.research.google.com/github/langchain-ai/langchain-academy/blob/main/module-4/sub-graph.ipynb) [![Open in LangChain Academy](https://cdn.prod.website-files.com/65b8cd72835ceeacd4449a53/66e9eba12c7b7688aa3dbb5e_LCA-badge-green.svg)](https://academy.langchain.com/courses/take/intro-to-langgraph/lessons/58239937-lesson-2-sub-graphs)"
   ]
  },
  {
   "attachments": {},
   "cell_type": "markdown",
   "id": "3db85080-2299-4885-a2f6-fffa6a09a238",
   "metadata": {},
   "source": [
    "# 서브그래프(Sub-graphs)\n",
    "\n",
    "## 복습\n",
    "\n",
    "우리는 이번 강의에서 다룬 모든 모듈을 통합하여 다중 에이전트 기반의 리서치 어시스턴트를 구축해 나가고 있습니다.\n",
    "\n",
    "방금 전에는 병렬 처리(parallelization)에 대해 살펴보았는데, 이는 LangGraph의 제어 가능성(controllability)과 관련된 중요한 주제 중 하나입니다.\n",
    "\n",
    "## 목표\n",
    "\n",
    "이제 [서브그래프(sub-graphs)](https://langchain-ai.github.io/langgraph/how-tos/subgraph/#simple-example)에 대해 다뤄보겠습니다.\n",
    "\n",
    "## 상태(State)\n",
    "\n",
    "서브그래프를 사용하면 그래프의 서로 다른 부분에서 각각 다른 상태(state)를 생성하고 관리할 수 있습니다.  \n",
    "이는 특히 각 에이전트가 자체적인 상태를 가진 다중 에이전트 시스템(multi-agent systems)에서 매우 유용합니다.\n",
    "\n",
    "간단한 예시를 들어보겠습니다:\n",
    "\n",
    "* 로그를 입력으로 받는 시스템이 있습니다.\n",
    "* 이 시스템은 서로 다른 에이전트가 두 가지 개별 하위 작업을 수행합니다 (로그 요약하기, 장애 모드 찾기).\n",
    "* 저는 이 두 작업을 각각 별도의 서브그래프에서 실행하고 싶습니다.\n",
    "\n",
    "여기서 가장 중요한 핵심은 **그래프 간의 통신 방식**입니다!\n",
    "\n",
    "간단히 말해, 통신은 **키(key)의 중첩(overlapping)** 을 통해 이루어집니다:\n",
    "\n",
    "* 서브그래프는 부모 그래프의 `docs`에 접근할 수 있습니다.\n",
    "* 부모 그래프는 서브그래프에서 생성된 `summary` 또는 `failure_report`에 접근할 수 있습니다.\n",
    "\n",
    "![subgraph.png](https://cdn.prod.website-files.com/65b8cd72835ceeacd4449a53/66dbb1abf89f2d847ee6f1ff_sub-graph1.png)\n",
    "\n",
    "## 입력(Input)\n",
    "\n",
    "이제 그래프에 입력될 로그 데이터의 스키마를 정의해 보겠습니다."
   ]
  },
  {
   "cell_type": "code",
   "execution_count": 6,
   "id": "2954e8c6-496f-4394-b56a-681608bf65da",
   "metadata": {},
   "outputs": [],
   "source": [
    "%%capture --no-stderr\n",
    "%pip install -U  langgraph"
   ]
  },
  {
   "cell_type": "code",
   "execution_count": 7,
   "id": "13168eca",
   "metadata": {},
   "outputs": [
    {
     "data": {
      "text/plain": [
       "True"
      ]
     },
     "execution_count": 7,
     "metadata": {},
     "output_type": "execute_result"
    }
   ],
   "source": [
    "from dotenv import load_dotenv\n",
    "\n",
    "load_dotenv(\"../.env\", override=True)"
   ]
  },
  {
   "cell_type": "code",
   "execution_count": 8,
   "id": "05b26c51",
   "metadata": {},
   "outputs": [],
   "source": [
    "import os\n",
    "import getpass\n",
    "\n",
    "\n",
    "def _set_env(var: str):\n",
    "    if not os.environ.get(var):\n",
    "        os.environ[var] = getpass.getpass(f\"{var}: \")\n",
    "\n",
    "\n",
    "_set_env(\"LANGSMITH_API_KEY\")\n",
    "os.environ[\"LANGSMITH_TRACING\"] = \"true\"\n",
    "os.environ[\"LANGSMITH_PROJECT\"] = \"langchain-academy\""
   ]
  },
  {
   "cell_type": "code",
   "execution_count": 9,
   "id": "3efaf8bb-f675-4c0b-a575-89c7e2987a33",
   "metadata": {},
   "outputs": [],
   "source": [
    "from operator import add\n",
    "from typing_extensions import TypedDict\n",
    "from typing import List, Optional, Annotated\n",
    "\n",
    "\n",
    "# The structure of the logs\n",
    "class Log(TypedDict):\n",
    "    id: str\n",
    "    question: str\n",
    "    docs: Optional[List]\n",
    "    answer: str\n",
    "    grade: Optional[int]\n",
    "    grader: Optional[str]\n",
    "    feedback: Optional[str]"
   ]
  },
  {
   "cell_type": "markdown",
   "id": "15825627-78c2-4ba0-ad11-95e4afdb771d",
   "metadata": {},
   "source": [
    "## 서브 그래프 (Sub-graphs)\n",
    "\n",
    "다음은 `FailureAnalysisState`를 사용하는 실패 분석 서브 그래프입니다."
   ]
  },
  {
   "cell_type": "code",
   "execution_count": 10,
   "id": "f32986a9-6d11-4646-b2c0-fbae4f524579",
   "metadata": {},
   "outputs": [
    {
     "data": {
      "image/png": "[encoded data removed]",
      "text/plain": [
       "<IPython.core.display.Image object>"
      ]
     },
     "metadata": {},
     "output_type": "display_data"
    }
   ],
   "source": [
    "from IPython.display import Image, display\n",
    "from langgraph.graph import StateGraph, START, END\n",
    "\n",
    "\n",
    "# 고장 분석 하위 그래프\n",
    "class FailureAnalysisState(TypedDict):\n",
    "    cleaned_logs: List[Log]\n",
    "    failures: List[Log]\n",
    "    fa_summary: str\n",
    "    processed_logs: List[str]\n",
    "\n",
    "\n",
    "class FailureAnalysisOutputState(TypedDict):\n",
    "    fa_summary: str\n",
    "    processed_logs: List[str]\n",
    "\n",
    "\n",
    "def get_failures(state):\n",
    "    \"\"\"실패를 포함하는 로그를 가져옵니다\"\"\"\n",
    "    cleaned_logs = state[\"cleaned_logs\"]\n",
    "    failures = [log for log in cleaned_logs if \"grade\" in log]\n",
    "    return {\"failures\": failures}\n",
    "\n",
    "\n",
    "def generate_summary(state):\n",
    "    \"\"\"실패 요약 생성\"\"\"\n",
    "    failures = state[\"failures\"]\n",
    "    # Add fxn: fa_summary = summarize(failures)\n",
    "    fa_summary = \"크로마 문서 검색 품질이 낮음.\"\n",
    "    return {\n",
    "        \"fa_summary\": fa_summary,\n",
    "        \"processed_logs\": [\n",
    "            f\"failure-analysis-on-log-{failure['id']}\" for failure in failures\n",
    "        ],\n",
    "    }\n",
    "\n",
    "\n",
    "fa_builder = StateGraph(\n",
    "    state_schema=FailureAnalysisState, output_schema=FailureAnalysisOutputState\n",
    ")\n",
    "fa_builder.add_node(\"get_failures\", get_failures)\n",
    "fa_builder.add_node(\"generate_summary\", generate_summary)\n",
    "\n",
    "fa_builder.add_edge(START, \"get_failures\")\n",
    "fa_builder.add_edge(\"get_failures\", \"generate_summary\")\n",
    "fa_builder.add_edge(\"generate_summary\", END)\n",
    "\n",
    "graph = fa_builder.compile()\n",
    "display(Image(graph.get_graph().draw_mermaid_png()))"
   ]
  },
  {
   "cell_type": "markdown",
   "id": "aa83f44c-0bb9-48c6-afec-dad536e608fa",
   "metadata": {},
   "source": [
    "다음은 `QuestionSummarizationState`를 사용하는 질문 요약 서브 그래프입니다."
   ]
  },
  {
   "cell_type": "code",
   "execution_count": 11,
   "id": "7149000c-ffb6-4834-bd9e-d35b36c524e7",
   "metadata": {},
   "outputs": [
    {
     "data": {
      "image/png": "[encoded data removed]",
      "text/plain": [
       "<IPython.core.display.Image object>"
      ]
     },
     "metadata": {},
     "output_type": "display_data"
    }
   ],
   "source": [
    "# 요약 부분 그래프\n",
    "class QuestionSummarizationState(TypedDict):\n",
    "    cleaned_logs: List[Log]\n",
    "    qs_summary: str\n",
    "    report: str\n",
    "    processed_logs: List[str]\n",
    "\n",
    "\n",
    "class QuestionSummarizationOutputState(TypedDict):\n",
    "    report: str\n",
    "    processed_logs: List[str]\n",
    "\n",
    "\n",
    "def generate_summary(state):\n",
    "    cleaned_logs = state[\"cleaned_logs\"]\n",
    "    # Add fxn: summary = summarize(generate_summary)\n",
    "    summary = \"질문은 ChatOllama와 Chroma 벡터 저장소의 사용법에 집중되었습니다.\"\n",
    "    return {\n",
    "        \"qs_summary\": summary,\n",
    "        \"processed_logs\": [f\"summary-on-log-{log['id']}\" for log in cleaned_logs],\n",
    "    }\n",
    "\n",
    "\n",
    "def send_to_slack(state):\n",
    "    qs_summary = state[\"qs_summary\"]\n",
    "    # Add fxn: report = report_generation(qs_summary)\n",
    "    report = \"foo bar baz\"\n",
    "    return {\"report\": report}\n",
    "\n",
    "\n",
    "qs_builder = StateGraph(\n",
    "    QuestionSummarizationState, output_schema=QuestionSummarizationOutputState\n",
    ")\n",
    "qs_builder.add_node(\"generate_summary\", generate_summary)\n",
    "qs_builder.add_node(\"send_to_slack\", send_to_slack)\n",
    "qs_builder.add_edge(START, \"generate_summary\")\n",
    "qs_builder.add_edge(\"generate_summary\", \"send_to_slack\")\n",
    "qs_builder.add_edge(\"send_to_slack\", END)\n",
    "\n",
    "graph = qs_builder.compile()\n",
    "display(Image(graph.get_graph().draw_mermaid_png()))"
   ]
  },
  {
   "cell_type": "markdown",
   "id": "f10a5baf-beab-4927-807a-3e6a5ad3d202",
   "metadata": {},
   "source": [
    "## 상위 그래프에 서브 그래프 추가하기\n",
    "\n",
    "이제 이 모든 것을 하나로 합쳐보겠습니다.\n",
    "\n",
    "먼저 `EntryGraphState`로 상위 그래프를 생성합니다.\n",
    "\n",
    "그리고 서브 그래프들을 노드로 추가합니다\\!\n",
    "\n",
    "```python\n",
    "entry_builder.add_node(\"question_summarization\", qs_builder.compile())\n",
    "entry_builder.add_node(\"failure_analysis\", fa_builder.compile())\n",
    "```"
   ]
  },
  {
   "cell_type": "code",
   "execution_count": 12,
   "id": "587c8fe1-1ae8-411e-a55d-cac299026646",
   "metadata": {},
   "outputs": [],
   "source": [
    "# 엔트리 그래프 (Entry Graph)\n",
    "class EntryGraphState(TypedDict):\n",
    "    raw_logs: List[Log]\n",
    "    cleaned_logs: Annotated[List[Log], add]  # 두 서브 그래프 모두에서 사용될 것입니다\n",
    "    fa_summary: str  # FA 서브 그래프에서만 생성될 것입니다\n",
    "    report: str  # QS 서브 그래프에서만 생성될 것입니다\n",
    "    processed_logs: Annotated[List[int], add]  # 두 서브 그래프 모두에서 생성될 것입니다"
   ]
  },
  {
   "cell_type": "markdown",
   "id": "5d4da397-310c-4453-969a-e0ae2cc75db8",
   "metadata": {},
   "source": [
    "하지만 `cleaned_logs`는 수정되지 않고 각 서브 그래프에 입력으로만 사용되는데, 왜 리듀서(reducer)가 필요할까요?\n",
    "\n",
    "```python\n",
    "cleaned_logs: Annotated[List[Log], add] # 두 서브 그래프 모두에서 사용될 것입니다\n",
    "```\n",
    "\n",
    "그 이유는 서브 그래프의 출력 상태(state)가 수정되지 않은 키를 포함하여 **모든 키**를 담고 있기 때문입니다.\n",
    "\n",
    "서브 그래프는 병렬로 실행됩니다.\n",
    "\n",
    "병렬로 실행되는 서브 그래프들이 동일한 키를 반환하므로, 각 서브 그래프에서 들어오는 값들을 하나로 합치려면 `operator.add`와 같은 리듀서가 필요합니다.\n",
    "\n",
    "하지만 이전에 다루었던 다른 개념을 사용하면 이 문제를 해결할 수 있습니다.\n",
    "\n",
    "각 서브 그래프에 대한 출력 상태 스키마를 만들고, 이 스키마가 출력할 서로 다른 키를 갖도록 하면 됩니다.\n",
    "\n",
    "사실 각 서브 그래프가 `cleaned_logs`를 출력할 필요는 없습니다."
   ]
  },
  {
   "cell_type": "code",
   "execution_count": 13,
   "id": "50092b9b-70c1-41b1-a74a-254683e28ce0",
   "metadata": {},
   "outputs": [
    {
     "data": {
      "image/png": "[encoded data removed]",
      "text/plain": [
       "<IPython.core.display.Image object>"
      ]
     },
     "metadata": {},
     "output_type": "display_data"
    }
   ],
   "source": [
    "# 엔트리 그래프(Entry Graph)\n",
    "class EntryGraphState(TypedDict):\n",
    "    raw_logs: List[Log]\n",
    "    cleaned_logs: List[Log]\n",
    "    fa_summary: str  # FA 서브 그래프에서만 생성됩니다\n",
    "    report: str  # QS 서브 그래프에서만 생성됩니다\n",
    "    processed_logs: Annotated[List[int], add]  # 두 서브 그래프 모두에서 생성됩니다\n",
    "\n",
    "\n",
    "def clean_logs(state):\n",
    "    # 로그 가져오기\n",
    "    raw_logs = state[\"raw_logs\"]\n",
    "    # 데이터 정제: raw_logs -> docs\n",
    "    cleaned_logs = raw_logs\n",
    "    return {\"cleaned_logs\": cleaned_logs}\n",
    "\n",
    "\n",
    "entry_builder = StateGraph(EntryGraphState)\n",
    "entry_builder.add_node(\"clean_logs\", clean_logs)\n",
    "entry_builder.add_node(\"question_summarization\", qs_builder.compile())\n",
    "entry_builder.add_node(\"failure_analysis\", fa_builder.compile())\n",
    "\n",
    "entry_builder.add_edge(START, \"clean_logs\")\n",
    "entry_builder.add_edge(\"clean_logs\", \"failure_analysis\")\n",
    "entry_builder.add_edge(\"clean_logs\", \"question_summarization\")\n",
    "entry_builder.add_edge(\"failure_analysis\", END)\n",
    "entry_builder.add_edge(\"question_summarization\", END)\n",
    "\n",
    "graph = entry_builder.compile()\n",
    "\n",
    "from IPython.display import Image, display\n",
    "\n",
    "# xray를 1로 설정하면 중첩된 그래프의 내부 구조를 볼 수 있습니다.\n",
    "display(Image(graph.get_graph(xray=1).draw_mermaid_png()))"
   ]
  },
  {
   "cell_type": "code",
   "execution_count": 14,
   "id": "17af1254-4e75-4349-9a79-295f4ec95016",
   "metadata": {},
   "outputs": [
    {
     "data": {
      "text/plain": [
       "{'raw_logs': [{'id': '1',\n",
       "   'question': 'ChatOllama를 어떻게 임포트(import)할 수 있나요?',\n",
       "   'answer': \"'from langchain_community.chat_models import ChatOllama' 코드를 사용하여 ChatOllama를 임포트하세요.\"},\n",
       "  {'id': '2',\n",
       "   'question': 'Chroma 벡터 스토어를 어떻게 사용할 수 있나요?',\n",
       "   'answer': \"Chroma를 사용하려면 'rag_chain = create_retrieval_chain(retriever, question_answer_chain)'과 같이 정의하세요.\",\n",
       "   'grade': 0,\n",
       "   'grader': '문서 관련성 재현율(Document Relevance Recall)',\n",
       "   'feedback': '검색된 문서는 벡터 스토어에 대해 전반적으로 설명하고 있지만, Chroma에 대해 특정하지는 않았습니다.'}],\n",
       " 'cleaned_logs': [{'id': '1',\n",
       "   'question': 'ChatOllama를 어떻게 임포트(import)할 수 있나요?',\n",
       "   'answer': \"'from langchain_community.chat_models import ChatOllama' 코드를 사용하여 ChatOllama를 임포트하세요.\"},\n",
       "  {'id': '2',\n",
       "   'question': 'Chroma 벡터 스토어를 어떻게 사용할 수 있나요?',\n",
       "   'answer': \"Chroma를 사용하려면 'rag_chain = create_retrieval_chain(retriever, question_answer_chain)'과 같이 정의하세요.\",\n",
       "   'grade': 0,\n",
       "   'grader': '문서 관련성 재현율(Document Relevance Recall)',\n",
       "   'feedback': '검색된 문서는 벡터 스토어에 대해 전반적으로 설명하고 있지만, Chroma에 대해 특정하지는 않았습니다.'}],\n",
       " 'fa_summary': '크로마 문서 검색 품질이 낮음.',\n",
       " 'report': 'foo bar baz',\n",
       " 'processed_logs': ['failure-analysis-on-log-2',\n",
       "  'summary-on-log-1',\n",
       "  'summary-on-log-2']}"
      ]
     },
     "execution_count": 14,
     "metadata": {},
     "output_type": "execute_result"
    }
   ],
   "source": [
    "# 더미 로그(Dummy logs)\n",
    "question_answer = Log(\n",
    "    id=\"1\",\n",
    "    question=\"ChatOllama를 어떻게 임포트(import)할 수 있나요?\",\n",
    "    answer=\"'from langchain_community.chat_models import ChatOllama' 코드를 사용하여 ChatOllama를 임포트하세요.\",\n",
    ")\n",
    "\n",
    "question_answer_feedback = Log(\n",
    "    id=\"2\",\n",
    "    question=\"Chroma 벡터 스토어를 어떻게 사용할 수 있나요?\",\n",
    "    answer=\"Chroma를 사용하려면 'rag_chain = create_retrieval_chain(retriever, question_answer_chain)'과 같이 정의하세요.\",\n",
    "    grade=0,\n",
    "    grader=\"문서 관련성 재현율(Document Relevance Recall)\",\n",
    "    feedback=\"검색된 문서는 벡터 스토어에 대해 전반적으로 설명하고 있지만, Chroma에 대해 특정하지는 않았습니다.\",\n",
    ")\n",
    "\n",
    "raw_logs = [question_answer, question_answer_feedback]\n",
    "graph.invoke({\"raw_logs\": raw_logs})"
   ]
  },
  {
   "cell_type": "markdown",
   "id": "9192d228-4d3d-4fb0-8bea-26772c3d2e0b",
   "metadata": {},
   "source": [
    "## LangSmith\n",
    "\n",
    "Let's look at the LangSmith trace:\n",
    "\n",
    "https://smith.langchain.com/public/f8f86f61-1b30-48cf-b055-3734dfceadf2/r"
   ]
  },
  {
   "cell_type": "markdown",
   "id": "15e836d4",
   "metadata": {},
   "source": []
  }
 ],
 "metadata": {
  "kernelspec": {
   "display_name": ".venv",
   "language": "python",
   "name": "python3"
  },
  "language_info": {
   "codemirror_mode": {
    "name": "ipython",
    "version": 3
   },
   "file_extension": ".py",
   "mimetype": "text/x-python",
   "name": "python",
   "nbconvert_exporter": "python",
   "pygments_lexer": "ipython3",
   "version": "3.12.11"
  }
 },
 "nbformat": 4,
 "nbformat_minor": 5
}
