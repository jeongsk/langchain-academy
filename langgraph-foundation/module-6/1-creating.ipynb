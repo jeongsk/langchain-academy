{
 "cells": [
  {
   "cell_type": "markdown",
   "metadata": {},
   "source": [
    "# 배포 생성하기\n",
    "\n",
    "모듈 5에서 만들었던 `task_maistro` 앱의 배포를 생성해 보겠습니다.\n",
    "\n",
    "## 코드 구조\n",
    "\n",
    "LangGraph Platform 배포를 생성하려면 [다음과 같은 정보가 제공되어야 합니다](https://langchain-ai.github.io/langgraph/concepts/application_structure/).\n",
    "\n",
    "* [LangGraph API 설정 파일](https://langchain-ai.github.io/langgraph/concepts/application_structure/#configuration-file) - `langgraph.json`\n",
    "* 애플리케이션의 로직을 구현하는 그래프 - 예: `task_maistro.py`\n",
    "* 애플리케이션 실행에 필요한 의존성을 명시하는 파일 - `requirements.txt`\n",
    "* 애플리케이션 실행에 필요한 환경 변수 제공 - `.env` 또는 `docker-compose.yml`\n",
    "\n",
    "이 파일들은 이미 `module-6/deployment` 디렉토리에 준비되어 있습니다!\n",
    "\n",
    "## CLI\n",
    "\n",
    "[LangGraph CLI](https://langchain-ai.github.io/langgraph/concepts/langgraph_cli/)는 LangGraph Platform 배포 생성을 위한 커맨드 라인 인터페이스(CLI)입니다."
   ]
  },
  {
   "cell_type": "code",
   "execution_count": 1,
   "metadata": {},
   "outputs": [],
   "source": [
    "%%capture --no-stderr\n",
    "%pip install -U langgraph-cli"
   ]
  },
  {
   "cell_type": "markdown",
   "metadata": {},
   "source": [
    "[자체 호스팅 배포(self-hosted deployment)](https://langchain-ai.github.io/langgraph/how-tos/deploy-self-hosted/#how-to-do-a-self-hosted-deployment-of-langgraph)를 생성하기 위해 몇 가지 단계를 따르겠습니다.\n",
    "\n",
    "### LangGraph 서버를 위한 Docker 이미지 빌드\n",
    "\n",
    "먼저 `langgraph` CLI를 사용하여 [LangGraph 서버](https://docs.google.com/presentation/d/18MwIaNR2m4Oba6roK_2VQcBE_8Jq_SI7VHTXJdl7raU/edit#slide=id.g313fb160676_0_32)를 위한 Docker 이미지를 생성합니다.\n",
    "\n",
    "이 과정은 우리가 만든 그래프와 의존성 파일들을 Docker 이미지로 패키징합니다.\n",
    "\n",
    "Docker 이미지는 애플리케이션 실행에 필요한 코드와 의존성을 포함하는 Docker 컨테이너용 템플릿입니다.\n",
    "\n",
    "[Docker](https://docs.docker.com/engine/install/)가 설치되어 있는지 확인한 후, 다음 명령어를 실행하여 `my-image`라는 Docker 이미지를 생성하세요:\n",
    "\n",
    "```shell\n",
    "$ cd module-6/deployment\n",
    "$ langgraph build -t my-image\n",
    "```\n",
    "\n",
    "### Redis와 PostgreSQL 설정\n",
    "\n",
    "만약 이미 Redis와 PostgreSQL을 실행 중이라면(예: 로컬 또는 다른 서버), Redis와 PostgreSQL의 URI를 직접 지정하여 LangGraph 서버 컨테이너를 [단독으로](https://langchain-ai.github.io/langgraph/how-tos/deploy-self-hosted/#running-the-application-locally) 생성하고 실행할 수 있습니다:\n",
    "\n",
    "```shell\n",
    "docker run \\\n",
    "    --env-file .env \\\n",
    "    -p 8123:8000 \\\n",
    "    -e REDIS_URI=\"여기에_Redis_URI_입력\" \\\n",
    "    -e DATABASE_URI=\"여기에_PostgreSQL_URI_입력\" \\\n",
    "    -e LANGSMITH_API_KEY=\"여기에_LangSmith_API_키_입력\" \\\n",
    "    my-image\n",
    "```\n",
    "\n",
    "또는, 제공된 `docker-compose.yml` 파일을 사용하여 정의된 서비스에 따라 세 개의 개별 컨테이너를 생성할 수도 있습니다:\n",
    "\n",
    "  * `langgraph-redis`: 공식 Redis 이미지를 사용하여 새 컨테이너를 생성합니다.\n",
    "  * `langgraph-postgres`: 공식 Postgres 이미지를 사용하여 새 컨테이너를 생성합니다.\n",
    "  * `langgraph-api`: 미리 빌드한 여러분의 이미지를 사용하여 새 컨테이너를 생성합니다.\n",
    "\n",
    "간단히 `docker-compose-example.yml` 파일을 복사한 후, 배포된 `task_maistro` 앱을 실행하기 위해 다음 환경 변수들을 추가하세요:\n",
    "\n",
    "  * `IMAGE_NAME` (예: `my-image`)\n",
    "  * `LANGSMITH_API_KEY`\n",
    "  * `OPENAI_API_KEY`\n",
    "\n",
    "그런 다음, [배포를 시작](https://langchain-ai.github.io/langgraph/how-tos/deploy-self-hosted/#using-docker-compose)하세요:\n",
    "\n",
    "```shell\n",
    "$ cd module-6/deployment\n",
    "$ docker compose up\n",
    "```"
   ]
  },
  {
   "cell_type": "markdown",
   "metadata": {},
   "source": []
  }
 ],
 "metadata": {
  "kernelspec": {
   "display_name": "Python 3 (ipykernel)",
   "language": "python",
   "name": "python3"
  },
  "language_info": {
   "codemirror_mode": {
    "name": "ipython",
    "version": 3
   },
   "file_extension": ".py",
   "mimetype": "text/x-python",
   "name": "python",
   "nbconvert_exporter": "python",
   "pygments_lexer": "ipython3",
   "version": "3.11.8"
  }
 },
 "nbformat": 4,
 "nbformat_minor": 4
}
