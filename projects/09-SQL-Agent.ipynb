{
 "cells": [
  {
   "cell_type": "markdown",
   "id": "e3a93f51",
   "metadata": {},
   "source": [
    "## SQL 에이전트\n",
    "\n",
    "이 튜토리얼에서는 LangGraph를 사용하여 SQL 데이터베이스에 대한 질문에 답변할 수 있는 사용자 지정 에이전트를 구축합니다. LangGraph 기본 요소를 사용하여 SQL 에이전트의 구현 예시를 보여줍니다. \n",
    "\n",
    "LangChain은 LangGraph 기본 요소를 사용하여 구현된 내장 에이전트 구현체를 제공합니다. 상위 수준의 LangChain 추상화를 사용하여 SQL 에이전트를 구축하는 튜토리얼은 [여기](https://docs.langchain.com/oss/python/langchain/sql-agent)에서 확인할 수 있습니다.\n",
    "\n",
    "랭그래프 공식 튜토리얼 참고: https://docs.langchain.com/oss/python/langgraph/sql-agent"
   ]
  },
  {
   "cell_type": "markdown",
   "id": "4ec907b1",
   "metadata": {},
   "source": [
    "## 환경 설정"
   ]
  },
  {
   "cell_type": "code",
   "execution_count": null,
   "id": "4df1b294",
   "metadata": {},
   "outputs": [],
   "source": [
    "import os\n",
    "import getpass\n",
    "from dotenv import load_dotenv\n",
    "\n",
    "load_dotenv(\"../.env\", override=True)\n",
    "\n",
    "\n",
    "def _set_env(var: str):\n",
    "    env_value = os.environ.get(var)\n",
    "    if not env_value:\n",
    "        env_value = getpass.getpass(f\"{var}: \")\n",
    "\n",
    "    os.environ[var] = env_value\n",
    "\n",
    "\n",
    "_set_env(\"LANGSMITH_API_KEY\")\n",
    "os.environ[\"LANGSMITH_TRACING\"] = \"true\"\n",
    "os.environ[\"LANGSMITH_PROJECT\"] = \"langchain-academy\"\n",
    "_set_env(\"OPENAI_API_KEY\")"
   ]
  },
  {
   "cell_type": "markdown",
   "id": "ba45375f",
   "metadata": {},
   "source": []
  },
  {
   "cell_type": "code",
   "execution_count": null,
   "id": "2d059e1e",
   "metadata": {},
   "outputs": [],
   "source": [
    "from langchain.chat_models import init_chat_model\n",
    "\n",
    "llm = init_chat_model(\"openai:gpt-4.1-mini\")"
   ]
  },
  {
   "cell_type": "markdown",
   "id": "75f23588",
   "metadata": {},
   "source": [
    "## 데이터베이스 구성\n",
    "\n",
    "SQLite 데이터베이스를 생성합니다. 공개 GCS 버킷에서 Chinook.db 데이터베이스 파일을 다운로드 합니다."
   ]
  },
  {
   "cell_type": "code",
   "execution_count": 2,
   "id": "efedc04c",
   "metadata": {},
   "outputs": [
    {
     "name": "stdout",
     "output_type": "stream",
     "text": [
      "File downloaded and saved as temp/Chinook.db\n"
     ]
    }
   ],
   "source": [
    "import requests\n",
    "import pathlib\n",
    "\n",
    "url = \"https://storage.googleapis.com/benchmarks-artifacts/chinook/Chinook.db\"\n",
    "local_path = pathlib.Path(\"temp\", \"Chinook.db\")\n",
    "\n",
    "if local_path.exists():\n",
    "    print(f\"{local_path} already exists, skipping download.\")\n",
    "else:\n",
    "    response = requests.get(url)\n",
    "    if response.status_code == 200:\n",
    "        local_path.write_bytes(response.content)\n",
    "        print(f\"File downloaded and saved as {local_path}\")\n",
    "    else:\n",
    "        print(f\"Failed to download the file. Status code: {response.status_code}\")"
   ]
  },
  {
   "cell_type": "markdown",
   "id": "fba145df",
   "metadata": {},
   "source": [
    "데이터베이스와 상호작용하기 위해 langchain_community 패키지에서 제공하는 SQLDatabase 래퍼를 사용합니다. SQLDatabase는 SQL 쿼리를 실행하고 결과를 가져오는 간단한 인터페이스를 제공합니다."
   ]
  },
  {
   "cell_type": "code",
   "execution_count": null,
   "id": "42b4bde5",
   "metadata": {},
   "outputs": [
    {
     "name": "stdout",
     "output_type": "stream",
     "text": [
      "Dialect: sqlite\n",
      "Available tables: ['Album', 'Artist', 'Customer', 'Employee', 'Genre', 'Invoice', 'InvoiceLine', 'MediaType', 'Playlist', 'PlaylistTrack', 'Track']\n",
      "Sample output: [(1, 'AC/DC'), (2, 'Accept'), (3, 'Aerosmith'), (4, 'Alanis Morissette'), (5, 'Alice In Chains')]\n"
     ]
    }
   ],
   "source": [
    "from langchain_community.utilities import SQLDatabase\n",
    "\n",
    "db = SQLDatabase.from_uri(f\"sqlite:///{local_path}\")\n",
    "\n",
    "print(f\"Dialect: {db.dialect}\")\n",
    "print(f\"Available tables: {db.get_usable_table_names()}\")\n",
    "print(f\"Sample output: {db.run('SELECT * FROM Artist LIMIT 5;')}\")"
   ]
  },
  {
   "cell_type": "markdown",
   "id": "aab6a754",
   "metadata": {},
   "source": [
    "## 데이터베이스 상호작용을 위한 도구 추가\n",
    "\n",
    "이번에도 langchain_community 패키지에서 제공하는 SQLDatabaseToolkit 래퍼를 사용하여 데이터베이스와 상호작용합니다."
   ]
  },
  {
   "cell_type": "code",
   "execution_count": 12,
   "id": "13fdeb74",
   "metadata": {},
   "outputs": [
    {
     "name": "stdout",
     "output_type": "stream",
     "text": [
      "* sql_db_query: Input to this tool is a detailed and correct SQL query, output is a result from the database. If the query is not correct, an error message will be returned. If an error is returned, rewrite the query, check the query, and try again. If you encounter an issue with Unknown column 'xxxx' in 'field list', use sql_db_schema to query the correct table fields.\n",
      "\n",
      "* sql_db_schema: Input to this tool is a comma-separated list of tables, output is the schema and sample rows for those tables. Be sure that the tables actually exist by calling sql_db_list_tables first! Example Input: table1, table2, table3\n",
      "\n",
      "* sql_db_list_tables: Input is an empty string, output is a comma-separated list of tables in the database.\n",
      "\n",
      "* sql_db_query_checker: Use this tool to double check if your query is correct before executing it. Always use this tool before executing a query with sql_db_query!\n",
      "\n"
     ]
    }
   ],
   "source": [
    "from langchain_community.agent_toolkits import SQLDatabaseToolkit\n",
    "\n",
    "toolkit = SQLDatabaseToolkit(db=db, llm=llm)\n",
    "\n",
    "tools = toolkit.get_tools()\n",
    "\n",
    "for tool in tools:\n",
    "    print(f\"* {tool.name}: {tool.description}\\n\")"
   ]
  },
  {
   "cell_type": "markdown",
   "id": "6d2e1694",
   "metadata": {},
   "source": [
    "## 노드 정의\n",
    "\n",
    "다음 단계들을 위한 노드를 구성합니다:\n",
    "\n",
    "- DB 테이블 목록 생성\n",
    "- `get schema` 도구 호출\n",
    "- 쿼리 생성\n",
    "- 쿼리 검증\n",
    "\n",
    "이러한 단계들을 노드에 배치함으로써 (1) 필요 시 도구 호출을 강제하고, (2) 각 단계와 연관된 프롬프트를 맞춤 설정할 수 있습니다."
   ]
  },
  {
   "cell_type": "code",
   "execution_count": 26,
   "id": "33b3b438",
   "metadata": {},
   "outputs": [],
   "source": [
    "from typing import Literal\n",
    "from langgraph.prebuilt import ToolNode\n",
    "from langchain_core.messages import AIMessage, ToolMessage\n",
    "from langchain_core.runnables import RunnableConfig\n",
    "from langgraph.graph import StateGraph, MessagesState, END\n",
    "\n",
    "list_tables_tool = next(tool for tool in tools if tool.name == \"sql_db_list_tables\")\n",
    "\n",
    "get_schema_tool = next(tool for tool in tools if tool.name == \"sql_db_schema\")\n",
    "get_schema_node = ToolNode([get_schema_tool], name=\"get_schema\")\n",
    "\n",
    "run_query_tool = next(tool for tool in tools if tool.name == \"sql_db_query\")\n",
    "run_query_node = ToolNode([run_query_tool], name=\"run_query\")\n"
   ]
  },
  {
   "cell_type": "code",
   "execution_count": 15,
   "id": "352be238",
   "metadata": {},
   "outputs": [],
   "source": [
    "def list_tables(state: MessagesState):\n",
    "    tool_call = {\n",
    "        \"name\": \"sql_db_list_tables\",\n",
    "        \"args\": {},\n",
    "        \"id\": \"abc123\",\n",
    "        \"type\": \"tool_call\",\n",
    "    }\n",
    "    tool_call_message = AIMessage(\"\", tool_call=tool_call)\n",
    "    tool_message = list_tables_tool.invoke(tool_call)\n",
    "    response = AIMessage(f\"Available tables: {tool_message.content}\")\n",
    "\n",
    "    return {\"messages\": [tool_call_message, tool_message, response]}"
   ]
  },
  {
   "cell_type": "code",
   "execution_count": 16,
   "id": "210fb404",
   "metadata": {},
   "outputs": [
    {
     "data": {
      "text/plain": [
       "{'messages': [AIMessage(content='', additional_kwargs={}, response_metadata={}, tool_call={'name': 'sql_db_list_tables', 'args': {}, 'id': 'abc123', 'type': 'tool_call'}),\n",
       "  ToolMessage(content='Album, Artist, Customer, Employee, Genre, Invoice, InvoiceLine, MediaType, Playlist, PlaylistTrack, Track', name='sql_db_list_tables', tool_call_id='abc123'),\n",
       "  AIMessage(content='Available tables: Album, Artist, Customer, Employee, Genre, Invoice, InvoiceLine, MediaType, Playlist, PlaylistTrack, Track', additional_kwargs={}, response_metadata={})]}"
      ]
     },
     "execution_count": 16,
     "metadata": {},
     "output_type": "execute_result"
    }
   ],
   "source": [
    "list_tables({})"
   ]
  },
  {
   "cell_type": "code",
   "execution_count": 45,
   "id": "66fb8ba2",
   "metadata": {},
   "outputs": [],
   "source": [
    "def call_get_schema(state: MessagesState):\n",
    "    llm_with_tools = llm.bind_tools([get_schema_tool], tool_choice=\"required\")\n",
    "    response = llm_with_tools.invoke(state[\"messages\"])\n",
    "    return {\"messages\": [response]}"
   ]
  },
  {
   "cell_type": "code",
   "execution_count": 43,
   "id": "c8c4eee1",
   "metadata": {},
   "outputs": [
    {
     "name": "stdout",
     "output_type": "stream",
     "text": [
      "==================================\u001b[1m Ai Message \u001b[0m==================================\n",
      "Tool Calls:\n",
      "  sql_db_schema (call_DHeWFaui0IhOCuEPehD5IHEZ)\n",
      " Call ID: call_DHeWFaui0IhOCuEPehD5IHEZ\n",
      "  Args:\n",
      "    table_names: Album\n"
     ]
    }
   ],
   "source": [
    "response = call_get_schema({\"messages\": [(\"user\", \"Album 테이블 정보는?\")]})\n",
    "response[\"messages\"][-1].pretty_print()"
   ]
  },
  {
   "cell_type": "code",
   "execution_count": null,
   "id": "d68b4d98",
   "metadata": {},
   "outputs": [],
   "source": [
    "generate_query_system_prompt_template = \"\"\"\n",
    "당신은 SQL 데이터베이스와 상호작용하도록 설계된 에이전트입니다.\n",
    "입력된 질문을 받아 구문적으로 올바른 {dialect} 쿼리를 생성하여 실행한 후,\n",
    "쿼리 결과를 확인하고 답변을 반환하십시오. 사용자가 원하는 예시 수를 명시하지 않는 한,\n",
    "쿼리 결과를 항상 최대 {top_k}개로 제한하십시오.\n",
    "\n",
    "관련 열로 결과를 정렬하여 데이터베이스에서 가장 흥미로운 예시를 반환할 수 있습니다. 특정 테이블의 모든 열을 쿼리하지 말고, 질문에 주어진 관련 열만 요청하십시오.\n",
    "\n",
    "데이터베이스에 대한 DML 쿼리문(INSERT, UPDATE, DELETE, DROP 등)을 절대 실행하지 마십시오.\n",
    "\"\"\"\n",
    "\n",
    "\n",
    "def generate_query(state: MessagesState):\n",
    "    llm_with_tools = llm.bind_tools([run_query_tool])\n",
    "    generate_query_system_prompt = generate_query_system_prompt_template.format(\n",
    "        dialect=db.dialect,\n",
    "        top_k=5,\n",
    "    )\n",
    "    response = llm_with_tools.invoke(\n",
    "        [(\"system\", generate_query_system_prompt)] + state[\"messages\"]\n",
    "    )\n",
    "    return {\"messages\": [response]}"
   ]
  },
  {
   "cell_type": "code",
   "execution_count": 47,
   "id": "f79c795a",
   "metadata": {},
   "outputs": [
    {
     "name": "stdout",
     "output_type": "stream",
     "text": [
      "==================================\u001b[1m Ai Message \u001b[0m==================================\n",
      "Tool Calls:\n",
      "  sql_db_query (call_jwMNciey44HwdN4kawNKSns1)\n",
      " Call ID: call_jwMNciey44HwdN4kawNKSns1\n",
      "  Args:\n",
      "    query: SELECT genre_name, AVG(track_milliseconds) AS avg_length FROM tracks JOIN genres ON tracks.genre_id = genres.genre_id GROUP BY genre_name ORDER BY avg_length DESC LIMIT 5;\n"
     ]
    }
   ],
   "source": [
    "response = generate_query(\n",
    "    {\"messages\": [(\"user\", \"평균적으로 어떤 장르의 트랙이 가장 길까?\")]}\n",
    ")\n",
    "response[\"messages\"][-1].pretty_print()"
   ]
  },
  {
   "cell_type": "code",
   "execution_count": 48,
   "id": "aaad9e1b",
   "metadata": {},
   "outputs": [],
   "source": [
    "check_query_system_prompt_template = \"\"\"\n",
    "세부 사항에 대한 주의력이 뛰어난 SQL 전문가입니다.\n",
    "{dialect} 쿼리에서 다음과 같은 일반적인 오류를 다시 한번 확인하십시오:\n",
    "- NULL 값과 함께 NOT IN 사용\n",
    "- UNION ALL을 사용해야 할 때 UNION 사용\n",
    "- 배제 범위에 BETWEEN 사용\n",
    "- 술어 내 데이터 유형 불일치\n",
    "- 식별자 올바른 따옴표 처리\n",
    "- 함수에 올바른 개수의 인자 사용\n",
    "- 올바른 데이터 유형으로 캐스팅\n",
    "- 조인에 적합한 열 사용\n",
    "\n",
    "위 오류가 발견되면 쿼리를 재작성하십시오. 오류가 없으면\n",
    "원본 쿼리를 그대로 복제하십시오.\n",
    "\n",
    "이 검사를 수행한 후 적절한 도구를 호출하여 쿼리를 실행하십시오.\n",
    "\"\"\"\n",
    "\n",
    "\n",
    "def check_query(state: MessagesState):\n",
    "    check_query_system_prompt = check_query_system_prompt_template.format(\n",
    "        dialect=db.dialect\n",
    "    )\n",
    "    tool_call = state[\"messages\"][-1].tool_calls[0]\n",
    "    user_message = {\"role\": \"user\", \"content\": tool_call[\"args\"][\"query\"]}\n",
    "    llm_with_tools = llm.bind_tools([run_query_tool], tool_choice=\"required\")\n",
    "    response = llm_with_tools.invoke(\n",
    "        [\n",
    "            (\"system\", check_query_system_prompt),\n",
    "            user_message,\n",
    "        ]\n",
    "    )\n",
    "    return {\"messages\": [response]}"
   ]
  },
  {
   "cell_type": "code",
   "execution_count": 50,
   "id": "bae602fe",
   "metadata": {},
   "outputs": [
    {
     "data": {
      "text/plain": [
       "{'messages': [AIMessage(content='', additional_kwargs={'tool_calls': [{'id': 'call_C5mi1df0iqL7XurhhXB4tFoP', 'function': {'arguments': '{\"query\":\"SELECT genre_name, AVG(track_milliseconds) AS avg_length FROM tracks JOIN genres ON tracks.genre_id = genres.genre_id GROUP BY genre_name ORDER BY avg_length DESC LIMIT 5;\"}', 'name': 'sql_db_query'}, 'type': 'function'}], 'refusal': None}, response_metadata={'token_usage': {'completion_tokens': 51, 'prompt_tokens': 333, 'total_tokens': 384, 'completion_tokens_details': {'accepted_prediction_tokens': 0, 'audio_tokens': 0, 'reasoning_tokens': 0, 'rejected_prediction_tokens': 0}, 'prompt_tokens_details': {'audio_tokens': 0, 'cached_tokens': 0}}, 'model_name': 'gpt-4.1-mini-2025-04-14', 'system_fingerprint': 'fp_c064fdde7c', 'id': 'chatcmpl-CQWEEElfdWO5F7qYPWKeYLDTrWg65', 'service_tier': 'default', 'finish_reason': 'tool_calls', 'logprobs': None}, id='run--30f97422-0a02-4afa-8df4-d7e0eedbff0b-0', tool_calls=[{'name': 'sql_db_query', 'args': {'query': 'SELECT genre_name, AVG(track_milliseconds) AS avg_length FROM tracks JOIN genres ON tracks.genre_id = genres.genre_id GROUP BY genre_name ORDER BY avg_length DESC LIMIT 5;'}, 'id': 'call_C5mi1df0iqL7XurhhXB4tFoP', 'type': 'tool_call'}], usage_metadata={'input_tokens': 333, 'output_tokens': 51, 'total_tokens': 384, 'input_token_details': {'audio': 0, 'cache_read': 0}, 'output_token_details': {'audio': 0, 'reasoning': 0}})]}"
      ]
     },
     "execution_count": 50,
     "metadata": {},
     "output_type": "execute_result"
    }
   ],
   "source": [
    "check_query({\"messages\": response[\"messages\"]})"
   ]
  },
  {
   "cell_type": "markdown",
   "id": "6c0ec80b",
   "metadata": {},
   "source": [
    "## 에이전트 구현\n",
    "\n",
    "쿼리 생성 단계에서 조건부 에지를 정의하여 쿼리가 생성되면 쿼리 검사기로 라우팅하고, 툴 호출이 존재하지 않으면 종료합니다. "
   ]
  },
  {
   "cell_type": "code",
   "execution_count": null,
   "id": "0f5015af",
   "metadata": {},
   "outputs": [],
   "source": [
    "from langgraph.graph import StateGraph\n",
    "\n",
    "\n",
    "def should_continue(state: MessagesState) -> Literal[\"check_query\", END]:\n",
    "    last_message = state[\"message\"][-1]\n",
    "    if last_message.tool_calls:\n",
    "        return \"check_query\"\n",
    "    else:\n",
    "        return END"
   ]
  },
  {
   "cell_type": "code",
   "execution_count": null,
   "id": "06b58373",
   "metadata": {},
   "outputs": [],
   "source": [
    "builder = StateGraph(MessagesState)\n",
    "builder.add_node(list_tables)\n",
    "builder.add_node(call_get_schema)\n",
    "builder.add_node(\"get_schema\", get_schema_node)\n",
    "builder.add_node(generate_query)\n",
    "builder.add_node(check_query)\n",
    "builder.add_node(\"run_query\", run_query_node)\n"
   ]
  }
 ],
 "metadata": {
  "kernelspec": {
   "display_name": "foundation-introduction-to-langgraph (3.12.11)",
   "language": "python",
   "name": "python3"
  },
  "language_info": {
   "codemirror_mode": {
    "name": "ipython",
    "version": 3
   },
   "file_extension": ".py",
   "mimetype": "text/x-python",
   "name": "python",
   "nbconvert_exporter": "python",
   "pygments_lexer": "ipython3",
   "version": "3.12.11"
  }
 },
 "nbformat": 4,
 "nbformat_minor": 5
}
