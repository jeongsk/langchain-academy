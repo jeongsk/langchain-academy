{
 "cells": [
  {
   "cell_type": "markdown",
   "id": "e3a93f51",
   "metadata": {},
   "source": [
    "## SQL 에이전트\n",
    "\n",
    "이 튜토리얼에서는 LangGraph를 사용하여 SQL 데이터베이스에 대한 질문에 답변할 수 있는 사용자 지정 에이전트를 구축합니다. LangGraph 기본 요소를 사용하여 SQL 에이전트의 구현 예시를 보여줍니다. \n",
    "\n",
    "LangChain은 LangGraph 기본 요소를 사용하여 구현된 내장 에이전트 구현체를 제공합니다. 상위 수준의 LangChain 추상화를 사용하여 SQL 에이전트를 구축하는 튜토리얼은 [여기](https://docs.langchain.com/oss/python/langchain/sql-agent)에서 확인할 수 있습니다.\n",
    "\n",
    "랭그래프 공식 튜토리얼 참고: https://docs.langchain.com/oss/python/langgraph/sql-agent"
   ]
  },
  {
   "cell_type": "markdown",
   "id": "4ec907b1",
   "metadata": {},
   "source": [
    "## 환경 설정"
   ]
  },
  {
   "cell_type": "code",
   "execution_count": null,
   "id": "4df1b294",
   "metadata": {},
   "outputs": [],
   "source": [
    "import os\n",
    "import getpass\n",
    "from dotenv import load_dotenv\n",
    "\n",
    "load_dotenv(\"../.env\", override=True)\n",
    "\n",
    "\n",
    "def _set_env(var: str):\n",
    "    env_value = os.environ.get(var)\n",
    "    if not env_value:\n",
    "        env_value = getpass.getpass(f\"{var}: \")\n",
    "\n",
    "    os.environ[var] = env_value\n",
    "\n",
    "\n",
    "_set_env(\"LANGSMITH_API_KEY\")\n",
    "os.environ[\"LANGSMITH_TRACING\"] = \"true\"\n",
    "os.environ[\"LANGSMITH_PROJECT\"] = \"langchain-academy\"\n",
    "_set_env(\"OPENAI_API_KEY\")"
   ]
  },
  {
   "cell_type": "markdown",
   "id": "ba45375f",
   "metadata": {},
   "source": []
  },
  {
   "cell_type": "code",
   "execution_count": null,
   "id": "2d059e1e",
   "metadata": {},
   "outputs": [],
   "source": [
    "from langchain.chat_models import init_chat_model\n",
    "\n",
    "llm = init_chat_model(\"openai:gpt-4.1-mini\")"
   ]
  },
  {
   "cell_type": "markdown",
   "id": "75f23588",
   "metadata": {},
   "source": [
    "## 데이터베이스 구성\n",
    "\n",
    "SQLite 데이터베이스를 생성합니다. 공개 GCS 버킷에서 Chinook.db 데이터베이스 파일을 다운로드 합니다."
   ]
  },
  {
   "cell_type": "code",
   "execution_count": 2,
   "id": "efedc04c",
   "metadata": {},
   "outputs": [
    {
     "name": "stdout",
     "output_type": "stream",
     "text": [
      "File downloaded and saved as temp/Chinook.db\n"
     ]
    }
   ],
   "source": [
    "import requests\n",
    "import pathlib\n",
    "\n",
    "url = \"https://storage.googleapis.com/benchmarks-artifacts/chinook/Chinook.db\"\n",
    "local_path = pathlib.Path(\"temp\", \"Chinook.db\")\n",
    "\n",
    "if local_path.exists():\n",
    "    print(f\"{local_path} already exists, skipping download.\")\n",
    "else:\n",
    "    response = requests.get(url)\n",
    "    if response.status_code == 200:\n",
    "        local_path.write_bytes(response.content)\n",
    "        print(f\"File downloaded and saved as {local_path}\")\n",
    "    else:\n",
    "        print(f\"Failed to download the file. Status code: {response.status_code}\")"
   ]
  },
  {
   "cell_type": "markdown",
   "id": "fba145df",
   "metadata": {},
   "source": [
    "데이터베이스와 상호작용하기 위해 langchain_community 패키지에서 제공하는 SQLDatabase 래퍼를 사용합니다. SQLDatabase는 SQL 쿼리를 실행하고 결과를 가져오는 간단한 인터페이스를 제공합니다."
   ]
  },
  {
   "cell_type": "code",
   "execution_count": null,
   "id": "42b4bde5",
   "metadata": {},
   "outputs": [
    {
     "name": "stdout",
     "output_type": "stream",
     "text": [
      "Dialect: sqlite\n",
      "Available tables: ['Album', 'Artist', 'Customer', 'Employee', 'Genre', 'Invoice', 'InvoiceLine', 'MediaType', 'Playlist', 'PlaylistTrack', 'Track']\n",
      "Sample output: [(1, 'AC/DC'), (2, 'Accept'), (3, 'Aerosmith'), (4, 'Alanis Morissette'), (5, 'Alice In Chains')]\n"
     ]
    }
   ],
   "source": [
    "from langchain_community.utilities import SQLDatabase\n",
    "\n",
    "db = SQLDatabase.from_uri(f\"sqlite:///{local_path}\")\n",
    "\n",
    "print(f\"Dialect: {db.dialect}\")\n",
    "print(f\"Available tables: {db.get_usable_table_names()}\")\n",
    "print(f\"Sample output: {db.run('SELECT * FROM Artist LIMIT 5;')}\")"
   ]
  },
  {
   "cell_type": "markdown",
   "id": "aab6a754",
   "metadata": {},
   "source": [
    "## 데이터베이스 상호작용을 위한 도구 추가\n",
    "\n",
    "이번에도 langchain_community 패키지에서 제공하는 SQLDatabaseToolkit 래퍼를 사용하여 데이터베이스와 상호작용합니다."
   ]
  },
  {
   "cell_type": "code",
   "execution_count": 12,
   "id": "13fdeb74",
   "metadata": {},
   "outputs": [
    {
     "name": "stdout",
     "output_type": "stream",
     "text": [
      "* sql_db_query: Input to this tool is a detailed and correct SQL query, output is a result from the database. If the query is not correct, an error message will be returned. If an error is returned, rewrite the query, check the query, and try again. If you encounter an issue with Unknown column 'xxxx' in 'field list', use sql_db_schema to query the correct table fields.\n",
      "\n",
      "* sql_db_schema: Input to this tool is a comma-separated list of tables, output is the schema and sample rows for those tables. Be sure that the tables actually exist by calling sql_db_list_tables first! Example Input: table1, table2, table3\n",
      "\n",
      "* sql_db_list_tables: Input is an empty string, output is a comma-separated list of tables in the database.\n",
      "\n",
      "* sql_db_query_checker: Use this tool to double check if your query is correct before executing it. Always use this tool before executing a query with sql_db_query!\n",
      "\n"
     ]
    }
   ],
   "source": [
    "from langchain_community.agent_toolkits import SQLDatabaseToolkit\n",
    "\n",
    "toolkit = SQLDatabaseToolkit(db=db, llm=llm)\n",
    "\n",
    "tools = toolkit.get_tools()\n",
    "\n",
    "for tool in tools:\n",
    "    print(f\"* {tool.name}: {tool.description}\\n\")"
   ]
  },
  {
   "cell_type": "markdown",
   "id": "0917e648",
   "metadata": {},
   "source": [
    "## 상태 정의"
   ]
  },
  {
   "cell_type": "code",
   "execution_count": 125,
   "id": "de808ccb",
   "metadata": {},
   "outputs": [],
   "source": [
    "from typing import Annotated\n",
    "from langgraph.graph import MessagesState\n",
    "\n",
    "\n",
    "class State(MessagesState):\n",
    "    list_tables: Annotated[str, \"list_tables\"]"
   ]
  },
  {
   "cell_type": "markdown",
   "id": "985510e3",
   "metadata": {},
   "source": [
    "## 도구 정의"
   ]
  },
  {
   "cell_type": "code",
   "execution_count": 127,
   "id": "820c53a5",
   "metadata": {},
   "outputs": [],
   "source": [
    "from langgraph.prebuilt import ToolNode\n",
    "\n",
    "list_tables_tool = next(tool for tool in tools if tool.name == \"sql_db_list_tables\")\n",
    "\n",
    "get_schema_tool = next(tool for tool in tools if tool.name == \"sql_db_schema\")\n",
    "get_schema_node = ToolNode([get_schema_tool], name=\"get_schema\")\n",
    "\n",
    "run_query_tool = next(tool for tool in tools if tool.name == \"sql_db_query\")\n",
    "run_query_node = ToolNode([run_query_tool], name=\"run_query\")\n"
   ]
  },
  {
   "cell_type": "markdown",
   "id": "6d2e1694",
   "metadata": {},
   "source": [
    "## 노드 정의\n",
    "\n",
    "다음 단계들을 위한 노드를 구성합니다:\n",
    "\n",
    "- DB 테이블 목록 생성\n",
    "- `get schema` 도구 호출\n",
    "- 쿼리 생성\n",
    "- 쿼리 검증\n",
    "\n",
    "이러한 단계들을 노드에 배치함으로써 (1) 필요 시 도구 호출을 강제하고, (2) 각 단계와 연관된 프롬프트를 맞춤 설정할 수 있습니다."
   ]
  },
  {
   "cell_type": "code",
   "execution_count": 121,
   "id": "352be238",
   "metadata": {},
   "outputs": [],
   "source": [
    "def get_list_tables(state: MessagesState):\n",
    "    list_tables = list_tables_tool.invoke({})\n",
    "    return {\"list_tables\": list_tables}"
   ]
  },
  {
   "cell_type": "code",
   "execution_count": 122,
   "id": "210fb404",
   "metadata": {},
   "outputs": [
    {
     "data": {
      "text/plain": [
       "{'list_tables': 'Album, Artist, Customer, Employee, Genre, Invoice, InvoiceLine, MediaType, Playlist, PlaylistTrack, Track'}"
      ]
     },
     "execution_count": 122,
     "metadata": {},
     "output_type": "execute_result"
    }
   ],
   "source": [
    "get_list_tables({})"
   ]
  },
  {
   "cell_type": "code",
   "execution_count": 84,
   "id": "66fb8ba2",
   "metadata": {},
   "outputs": [],
   "source": [
    "def call_get_schema(state: MessagesState):\n",
    "    llm_with_tools = llm.bind_tools([get_schema_tool], tool_choice=\"required\")\n",
    "    response = llm_with_tools.invoke(state[\"messages\"])\n",
    "    return {\"messages\": [response]}"
   ]
  },
  {
   "cell_type": "code",
   "execution_count": null,
   "id": "c8c4eee1",
   "metadata": {},
   "outputs": [
    {
     "name": "stdout",
     "output_type": "stream",
     "text": [
      "==================================\u001b[1m Ai Message \u001b[0m==================================\n",
      "Tool Calls:\n",
      "  sql_db_schema (call_PsT38Rs2045xYFl0I3H4Iau2)\n",
      " Call ID: call_PsT38Rs2045xYFl0I3H4Iau2\n",
      "  Args:\n",
      "    table_names: albums, artists\n"
     ]
    }
   ],
   "source": [
    "response = call_get_schema(\n",
    "    {\"messages\": [(\"user\", \"5집 이상 앨범을 발매한 아티스트는?\")]}\n",
    ")\n",
    "response[\"messages\"][-1].pretty_print()"
   ]
  },
  {
   "cell_type": "code",
   "execution_count": 133,
   "id": "d68b4d98",
   "metadata": {},
   "outputs": [],
   "source": [
    "generate_query_system_prompt_template = \"\"\"\n",
    "당신은 SQL 데이터베이스와 상호작용하도록 설계된 에이전트입니다.\n",
    "입력된 질문을 받아 구문적으로 올바른 {list_tables} 쿼리를 생성하여 실행한 후,\n",
    "쿼리 결과를 확인하고 답변을 반환하십시오. 사용자가 원하는 예시 수를 명시하지 않는 한,\n",
    "쿼리 결과를 항상 최대 {top_k}개로 제한하십시오.\n",
    "\n",
    "관련 열로 결과를 정렬하여 데이터베이스에서 가장 흥미로운 예시를 반환할 수 있습니다. 특정 테이블의 모든 열을 쿼리하지 말고, 질문에 주어진 관련 열만 요청하십시오.\n",
    "\n",
    "데이터베이스에 대한 DML 쿼리문(INSERT, UPDATE, DELETE, DROP 등)을 절대 실행하지 마십시오.\n",
    "\"\"\"\n",
    "\n",
    "\n",
    "def generate_query(state: State):\n",
    "    llm_with_tools = llm.bind_tools([run_query_tool])\n",
    "    generate_query_system_prompt = generate_query_system_prompt_template.format(\n",
    "        list_tables=state[\"list_tables\"],\n",
    "        top_k=5,\n",
    "    )\n",
    "    response = llm_with_tools.invoke(\n",
    "        [(\"system\", generate_query_system_prompt)] + state[\"messages\"]\n",
    "    )\n",
    "    return {\"messages\": [response]}"
   ]
  },
  {
   "cell_type": "code",
   "execution_count": 134,
   "id": "f79c795a",
   "metadata": {},
   "outputs": [
    {
     "name": "stdout",
     "output_type": "stream",
     "text": [
      "==================================\u001b[1m Ai Message \u001b[0m==================================\n",
      "Tool Calls:\n",
      "  sql_db_query (call_fzn71iRVu5BxdRsbqX6T7Ogo)\n",
      " Call ID: call_fzn71iRVu5BxdRsbqX6T7Ogo\n",
      "  Args:\n",
      "    query: SELECT genre_name, AVG(milliseconds) AS avg_length FROM genres JOIN tracks ON genres.genre_id = tracks.genre_id GROUP BY genre_name ORDER BY avg_length DESC LIMIT 5;\n"
     ]
    }
   ],
   "source": [
    "response = generate_query(\n",
    "    {\n",
    "        \"messages\": [(\"user\", \"평균적으로 어떤 장르의 트랙이 가장 길까?\")],\n",
    "        \"list_tables\": db.dialect,\n",
    "    }\n",
    ")\n",
    "response[\"messages\"][-1].pretty_print()"
   ]
  },
  {
   "cell_type": "code",
   "execution_count": null,
   "id": "aaad9e1b",
   "metadata": {},
   "outputs": [],
   "source": [
    "check_query_system_prompt_template = \"\"\"\n",
    "세부 사항에 대한 주의력이 뛰어난 SQL 전문가입니다.\n",
    "{list_tables} 쿼리에서 다음과 같은 일반적인 오류를 다시 한번 확인하십시오:\n",
    "- NULL 값과 함께 NOT IN 사용\n",
    "- UNION ALL을 사용해야 할 때 UNION 사용\n",
    "- 배제 범위에 BETWEEN 사용\n",
    "- 술어 내 데이터 유형 불일치\n",
    "- 식별자 올바른 따옴표 처리\n",
    "- 함수에 올바른 개수의 인자 사용\n",
    "- 올바른 데이터 유형으로 캐스팅\n",
    "- 조인에 적합한 열 사용\n",
    "\n",
    "위 오류가 발견되면 쿼리를 재작성하십시오. \n",
    "오류가 없으면 원본 쿼리를 그대로 복제하십시오.\n",
    "\n",
    "이 검사를 수행한 후 적절한 도구를 호출하여 쿼리를 실행하십시오.\n",
    "\"\"\"\n",
    "\n",
    "\n",
    "def check_query(state: State):\n",
    "    check_query_system_prompt = check_query_system_prompt_template.format(\n",
    "        list_tables=state[\"list_tables\"],\n",
    "    )\n",
    "    tool_call = state[\"messages\"][-1].tool_calls[0]\n",
    "    user_message = tool_call[\"args\"][\"query\"]\n",
    "    llm_with_tools = llm.bind_tools([run_query_tool], tool_choice=\"required\")\n",
    "    response = llm_with_tools.invoke(\n",
    "        [\n",
    "            (\"system\", check_query_system_prompt),\n",
    "            (\"user\", user_message),\n",
    "        ]\n",
    "    )\n",
    "    response.id = state[\"messages\"][-1].id\n",
    "    return {\"messages\": [response]}"
   ]
  },
  {
   "cell_type": "code",
   "execution_count": 138,
   "id": "bae602fe",
   "metadata": {},
   "outputs": [
    {
     "data": {
      "text/plain": [
       "{'messages': [AIMessage(content='', additional_kwargs={'tool_calls': [{'id': 'call_ZuLhhSKGuvyPW7CxHE5g6op7', 'function': {'arguments': '{\"query\":\"SELECT genre_name, AVG(milliseconds) AS avg_length FROM genres JOIN tracks ON genres.genre_id = tracks.genre_id GROUP BY genre_name ORDER BY avg_length DESC LIMIT 5;\"}', 'name': 'sql_db_query'}, 'type': 'function'}], 'refusal': None}, response_metadata={'token_usage': {'completion_tokens': 49, 'prompt_tokens': 331, 'total_tokens': 380, 'completion_tokens_details': {'accepted_prediction_tokens': 0, 'audio_tokens': 0, 'reasoning_tokens': 0, 'rejected_prediction_tokens': 0}, 'prompt_tokens_details': {'audio_tokens': 0, 'cached_tokens': 0}}, 'model_name': 'gpt-4.1-mini-2025-04-14', 'system_fingerprint': 'fp_c064fdde7c', 'id': 'chatcmpl-CQa7hLcVS47BbmK2Cx2BdpL1OHljg', 'service_tier': 'default', 'finish_reason': 'tool_calls', 'logprobs': None}, id='run--ec2908be-442b-4942-a991-cbcd196c30c2-0', tool_calls=[{'name': 'sql_db_query', 'args': {'query': 'SELECT genre_name, AVG(milliseconds) AS avg_length FROM genres JOIN tracks ON genres.genre_id = tracks.genre_id GROUP BY genre_name ORDER BY avg_length DESC LIMIT 5;'}, 'id': 'call_ZuLhhSKGuvyPW7CxHE5g6op7', 'type': 'tool_call'}], usage_metadata={'input_tokens': 331, 'output_tokens': 49, 'total_tokens': 380, 'input_token_details': {'audio': 0, 'cache_read': 0}, 'output_token_details': {'audio': 0, 'reasoning': 0}})]}"
      ]
     },
     "execution_count": 138,
     "metadata": {},
     "output_type": "execute_result"
    }
   ],
   "source": [
    "check_query(\n",
    "    {\n",
    "        \"messages\": response[\"messages\"],\n",
    "        \"list_tables\": db.dialect,\n",
    "    }\n",
    ")"
   ]
  },
  {
   "cell_type": "markdown",
   "id": "6c0ec80b",
   "metadata": {},
   "source": [
    "## 에이전트 구현\n",
    "\n",
    "쿼리 생성 단계에서 조건부 에지를 정의하여 쿼리가 생성되면 쿼리 검사기로 라우팅하고, 툴 호출이 존재하지 않으면 종료합니다. "
   ]
  },
  {
   "cell_type": "code",
   "execution_count": 113,
   "id": "0f5015af",
   "metadata": {},
   "outputs": [],
   "source": [
    "from typing import Literal\n",
    "from langgraph.graph import StateGraph, END\n",
    "\n",
    "\n",
    "def should_continue(state: MessagesState) -> Literal[\"check_query\", END]:\n",
    "    last_message = state[\"messages\"][-1]\n",
    "    if last_message.tool_calls:\n",
    "        return \"check_query\"\n",
    "    else:\n",
    "        return END"
   ]
  },
  {
   "cell_type": "code",
   "execution_count": null,
   "id": "06b58373",
   "metadata": {},
   "outputs": [],
   "source": [
    "builder = StateGraph(MessagesState)\n",
    "builder.add_node(get_list_tables)  # 테이블 목록 조회\n",
    "builder.add_node(call_get_schema)  # 테이블 스키마 정보 조회 도구 요청\n",
    "builder.add_node(\"get_schema\", get_schema_node)  # 테이블 스키마 정보 도구 사용\n",
    "builder.add_node(generate_query)  # 쿼리문 작성\n",
    "builder.add_node(check_query)  # 쿼리문 검증\n",
    "builder.add_node(\"run_query\", run_query_node)  # 쿼리문 실행 도구 요청\n",
    "\n",
    "builder.add_edge(\"list_tables\", \"call_get_schema\")\n",
    "builder.add_edge(\"call_get_schema\", \"get_schema\")\n",
    "builder.add_edge(\"get_schema\", \"generate_query\")\n",
    "builder.add_conditional_edges(\n",
    "    \"generate_query\",\n",
    "    should_continue,\n",
    ")\n",
    "builder.add_edge(\"check_query\", \"run_query\")\n",
    "builder.add_edge(\"run_query\", \"generate_query\")\n",
    "\n",
    "builder.set_entry_point(\"list_tables\")\n",
    "agent = builder.compile()"
   ]
  },
  {
   "cell_type": "code",
   "execution_count": 115,
   "id": "a8297a13",
   "metadata": {},
   "outputs": [
    {
     "data": {
      "image/png": "[encoded data removed]",
      "text/plain": [
       "<IPython.core.display.Image object>"
      ]
     },
     "metadata": {},
     "output_type": "display_data"
    }
   ],
   "source": [
    "from IPython.display import Image, display\n",
    "\n",
    "display(Image(agent.get_graph().draw_mermaid_png()))"
   ]
  },
  {
   "cell_type": "code",
   "execution_count": 116,
   "id": "e51e6eb3",
   "metadata": {},
   "outputs": [
    {
     "name": "stdout",
     "output_type": "stream",
     "text": [
      "================================\u001b[1m Human Message \u001b[0m=================================\n",
      "\n",
      "평균적으로 어떤 장르의 트랙이 가장 길까?\n",
      "==================================\u001b[1m Ai Message \u001b[0m==================================\n",
      "\n",
      "Available tables: Album, Artist, Customer, Employee, Genre, Invoice, InvoiceLine, MediaType, Playlist, PlaylistTrack, Track\n",
      "==================================\u001b[1m Ai Message \u001b[0m==================================\n",
      "Tool Calls:\n",
      "  sql_db_schema (call_28050PH9ZGFHCXWGsrdxyaoK)\n",
      " Call ID: call_28050PH9ZGFHCXWGsrdxyaoK\n",
      "  Args:\n",
      "    table_names: Genre, Track\n",
      "=================================\u001b[1m Tool Message \u001b[0m=================================\n",
      "Name: sql_db_schema\n",
      "\n",
      "\n",
      "CREATE TABLE \"Genre\" (\n",
      "\t\"GenreId\" INTEGER NOT NULL, \n",
      "\t\"Name\" NVARCHAR(120), \n",
      "\tPRIMARY KEY (\"GenreId\")\n",
      ")\n",
      "\n",
      "/*\n",
      "3 rows from Genre table:\n",
      "GenreId\tName\n",
      "1\tRock\n",
      "2\tJazz\n",
      "3\tMetal\n",
      "*/\n",
      "\n",
      "\n",
      "CREATE TABLE \"Track\" (\n",
      "\t\"TrackId\" INTEGER NOT NULL, \n",
      "\t\"Name\" NVARCHAR(200) NOT NULL, \n",
      "\t\"AlbumId\" INTEGER, \n",
      "\t\"MediaTypeId\" INTEGER NOT NULL, \n",
      "\t\"GenreId\" INTEGER, \n",
      "\t\"Composer\" NVARCHAR(220), \n",
      "\t\"Milliseconds\" INTEGER NOT NULL, \n",
      "\t\"Bytes\" INTEGER, \n",
      "\t\"UnitPrice\" NUMERIC(10, 2) NOT NULL, \n",
      "\tPRIMARY KEY (\"TrackId\"), \n",
      "\tFOREIGN KEY(\"MediaTypeId\") REFERENCES \"MediaType\" (\"MediaTypeId\"), \n",
      "\tFOREIGN KEY(\"GenreId\") REFERENCES \"Genre\" (\"GenreId\"), \n",
      "\tFOREIGN KEY(\"AlbumId\") REFERENCES \"Album\" (\"AlbumId\")\n",
      ")\n",
      "\n",
      "/*\n",
      "3 rows from Track table:\n",
      "TrackId\tName\tAlbumId\tMediaTypeId\tGenreId\tComposer\tMilliseconds\tBytes\tUnitPrice\n",
      "1\tFor Those About To Rock (We Salute You)\t1\t1\t1\tAngus Young, Malcolm Young, Brian Johnson\t343719\t11170334\t0.99\n",
      "2\tBalls to the Wall\t2\t2\t1\tNone\t342562\t5510424\t0.99\n",
      "3\tFast As a Shark\t3\t2\t1\tF. Baltes, S. Kaufman, U. Dirkscneider & W. Hoffman\t230619\t3990994\t0.99\n",
      "*/\n",
      "==================================\u001b[1m Ai Message \u001b[0m==================================\n",
      "Tool Calls:\n",
      "  sql_db_query (call_n1xZ4u7GACiEGQIXU17AFgTI)\n",
      " Call ID: call_n1xZ4u7GACiEGQIXU17AFgTI\n",
      "  Args:\n",
      "    query: SELECT Genre.Name, AVG(Track.Milliseconds) AS AvgLengthMilliseconds FROM Track JOIN Genre ON Track.GenreId = Genre.GenreId GROUP BY Genre.Name ORDER BY AvgLengthMilliseconds DESC LIMIT 5\n",
      "==================================\u001b[1m Ai Message \u001b[0m==================================\n",
      "Tool Calls:\n",
      "  sql_db_query (call_N95aV5p3AlLZ0SMhKk3hxMzL)\n",
      " Call ID: call_N95aV5p3AlLZ0SMhKk3hxMzL\n",
      "  Args:\n",
      "    query: SELECT Genre.Name, AVG(Track.Milliseconds) AS AvgLengthMilliseconds FROM Track JOIN Genre ON Track.GenreId = Genre.GenreId GROUP BY Genre.Name ORDER BY AvgLengthMilliseconds DESC LIMIT 5\n",
      "=================================\u001b[1m Tool Message \u001b[0m=================================\n",
      "Name: sql_db_query\n",
      "\n",
      "[('Sci Fi & Fantasy', 2911783.0384615385), ('Science Fiction', 2625549.076923077), ('Drama', 2575283.78125), ('TV Shows', 2145041.0215053763), ('Comedy', 1585263.705882353)]\n",
      "==================================\u001b[1m Ai Message \u001b[0m==================================\n",
      "\n",
      "평균적으로 트랙이 가장 긴 장르는 \"Sci Fi & Fantasy\" 장르이며, 평균 길이는 약 2,911,783 밀리초입니다. 다음으로 \"Science Fiction\"과 \"Drama\" 장르가 평균적으로 트랙이 긴 편입니다.\n"
     ]
    }
   ],
   "source": [
    "question = \"평균적으로 어떤 장르의 트랙이 가장 길까?\"\n",
    "\n",
    "for step in agent.stream(\n",
    "    {\"messages\": [{\"role\": \"user\", \"content\": question}]},\n",
    "    stream_mode=\"values\",\n",
    "):\n",
    "    step[\"messages\"][-1].pretty_print()"
   ]
  },
  {
   "cell_type": "markdown",
   "id": "9a3bbb6a",
   "metadata": {},
   "source": [
    "\n",
    "6. Implement human-in-the-loop review\n",
    "It can be prudent to check the agent’s SQL queries before they are executed for any unintended actions or inefficiencies.\n",
    "Here we leverage LangGraph’s human-in-the-loop features to pause the run before executing a SQL query and wait for human review. Using LangGraph’s persistence layer, we can pause the run indefinitely (or at least as long as the persistence layer is alive).\n",
    "Let’s wrap the sql_db_query tool in a node that receives human input. We can implement this using the interrupt function. Below, we allow for input to approve the tool call, edit its arguments, or provide user feedback."
   ]
  },
  {
   "cell_type": "code",
   "execution_count": null,
   "id": "d4e79ec1",
   "metadata": {},
   "outputs": [],
   "source": []
  }
 ],
 "metadata": {
  "kernelspec": {
   "display_name": "foundation-introduction-to-langgraph (3.12.11)",
   "language": "python",
   "name": "python3"
  },
  "language_info": {
   "codemirror_mode": {
    "name": "ipython",
    "version": 3
   },
   "file_extension": ".py",
   "mimetype": "text/x-python",
   "name": "python",
   "nbconvert_exporter": "python",
   "pygments_lexer": "ipython3",
   "version": "3.12.11"
  }
 },
 "nbformat": 4,
 "nbformat_minor": 5
}
