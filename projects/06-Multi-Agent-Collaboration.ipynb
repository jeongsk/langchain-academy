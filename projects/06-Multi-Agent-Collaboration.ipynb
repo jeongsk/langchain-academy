{
 "cells": [
  {
   "cell_type": "markdown",
   "id": "6c8e1f92",
   "metadata": {},
   "source": [
    "# 멀티 에이전트 협업 네트워크(Multi-Agent Collaboration Network)\n",
    "\n",
    "**Multi-Agent Collaboration Network**는 여러 AI 에이전트들이 협력하여 복잡한 문제를 해결하는 시스템입니다.\n",
    "\n",
    "### 핵심 개념\n",
    "\n",
    "**기본 구조**\n",
    "- 각 에이전트가 특정 역할이나 전문성을 가지고 있음\n",
    "- 에이전트들이 서로 통신하고 정보를 공유하며 협업\n",
    "- 중앙 조정자가 있거나, 분산형으로 자율적으로 협력\n",
    "\n",
    "**주요 특징**\n",
    "- **분업**: 복잡한 작업을 여러 에이전트가 나누어 처리\n",
    "- **상호작용**: 에이전트 간 메시지 전달, 결과 공유, 피드백 교환\n",
    "- **시너지**: 단일 에이전트보다 더 나은 성과 달성\n",
    "\n",
    "**활용 예시**\n",
    "- 코딩 작업: 기획자, 개발자, 테스터 에이전트가 협력\n",
    "- 연구 분석: 데이터 수집, 분석, 보고서 작성을 각각 담당\n",
    "- 고객 서비스: 문의 분류, 답변 생성, 품질 검증 에이전트 협업\n",
    "\n",
    "**장점**\n",
    "- 복잡한 문제를 더 효과적으로 해결\n",
    "- 각 에이전트의 전문성 활용\n",
    "- 확장성과 유연성"
   ]
  },
  {
   "cell_type": "markdown",
   "id": "9b32da7e",
   "metadata": {},
   "source": [
    "- 참고 자료: https://wikidocs.net/270689\n",
    "- 관련 논문: https://arxiv.org/abs/2308.08155\n",
    "- Multi-agent systems 개념: https://langchain-ai.github.io/langgraph/concepts/multi_agent/"
   ]
  },
  {
   "cell_type": "markdown",
   "id": "d95665a0",
   "metadata": {},
   "source": [
    "## 환경 설정"
   ]
  },
  {
   "cell_type": "code",
   "execution_count": 1,
   "id": "6ec4d46a",
   "metadata": {},
   "outputs": [],
   "source": [
    "import os\n",
    "import getpass\n",
    "from dotenv import load_dotenv\n",
    "\n",
    "load_dotenv(\"../.env\", override=True)\n",
    "\n",
    "\n",
    "def _set_env(var: str):\n",
    "    env_value = os.environ.get(var)\n",
    "    if not env_value:\n",
    "        env_value = getpass.getpass(f\"{var}: \")\n",
    "\n",
    "    os.environ[var] = env_value\n",
    "\n",
    "\n",
    "_set_env(\"LANGSMITH_API_KEY\")\n",
    "os.environ[\"LANGSMITH_TRACING\"] = \"true\"\n",
    "os.environ[\"LANGSMITH_PROJECT\"] = \"langchain-academy\"\n",
    "_set_env(\"OPENAI_API_KEY\")"
   ]
  },
  {
   "cell_type": "markdown",
   "id": "6798be42",
   "metadata": {},
   "source": [
    "## 상태 정의"
   ]
  },
  {
   "cell_type": "code",
   "execution_count": 3,
   "id": "30b89b03",
   "metadata": {},
   "outputs": [],
   "source": [
    "from typing import Annotated\n",
    "from langgraph.graph.message import MessagesState\n",
    "\n",
    "\n",
    "class State(MessagesState):\n",
    "    sender: Annotated[str, \"마지막 메시지의 발신자\"]"
   ]
  },
  {
   "cell_type": "markdown",
   "id": "926a8435",
   "metadata": {},
   "source": [
    "## 도구 정의"
   ]
  },
  {
   "cell_type": "code",
   "execution_count": 4,
   "id": "dff1d03d",
   "metadata": {},
   "outputs": [],
   "source": [
    "from langchain_core.tools import Tool\n",
    "from langchain_tavily import TavilySearch\n",
    "from langchain_experimental.utilities import PythonREPL\n",
    "\n",
    "web_search_tool = TavilySearch(max_results=3)\n",
    "\n",
    "python_repl = PythonREPL()\n",
    "python_repl_tool = Tool(\n",
    "    \"python_repl\",\n",
    "    description=\"파이썬 셸입니다. 파이썬 명령어를 실행하는 데 사용하세요. 입력은 유효한 파이썬 명령어여야 합니다. 값의 출력을 확인하려면 `print(...)`로 출력해야 합니다.\",\n",
    "    func=python_repl.run,\n",
    ")"
   ]
  },
  {
   "cell_type": "markdown",
   "id": "6a2830d8",
   "metadata": {},
   "source": [
    "## Research Agent\n",
    "\n",
    "웹 검색 도구를 사용하여 연구에 필요한 정보를 리서치하는 에이전트입니다."
   ]
  },
  {
   "cell_type": "code",
   "execution_count": null,
   "id": "9611d3f8",
   "metadata": {},
   "outputs": [],
   "source": [
    "from langgraph.prebuilt import create_react_agent\n",
    "\n",
    "\n",
    "research_agent = create_react_agent(\n",
    "    model=\"openai:gpt-4.1-mini\",\n",
    "    tools=[web_search_tool],\n",
    "    prompt=\"팀 어시스턴트로서 인터넷 리서치를 통해 연구에 필요한 정보를 수집하고, 제공된 도구로 질문에 답하세요.\"\n",
    "    \"부족한 부분은 다른 어시스턴트가 이어받습니다.\"\n",
    "    \"차트 생성은 전담 담당자와 협력해 진행합니다.\"\n",
    "    \"최종 결과 앞에 “FINAL ANSWER”를 붙여 알리세요.\",\n",
    ")"
   ]
  },
  {
   "cell_type": "code",
   "execution_count": 6,
   "id": "9973faa3",
   "metadata": {},
   "outputs": [],
   "source": [
    "from langchain_core.messages import HumanMessage\n",
    "\n",
    "\n",
    "def research_node(state: State):\n",
    "    response = research_agent.invoke({\"messages\": state[\"messages\"]})\n",
    "    last_message = response[\"messages\"][-1][\"content\"]\n",
    "    return {\"messages\": [HumanMessage(content=last_message, name=\"researcher agent\")]}"
   ]
  },
  {
   "cell_type": "markdown",
   "id": "e2f62fd4",
   "metadata": {},
   "source": [
    "## Chart Generator Agent\n",
    "\n",
    "파이썬 코드를 사용하여 차트를 생성하는 에이전트입니다."
   ]
  },
  {
   "cell_type": "code",
   "execution_count": null,
   "id": "7e4224d8",
   "metadata": {},
   "outputs": [],
   "source": [
    "chart_generator_agent = create_react_agent(\n",
    "    model=\"openai:gpt-4.1-mini\",\n",
    "    tools=[python_repl_tool],\n",
    "    prompt=\"당신은 파이썬 코드 작성 도구를 사용해 연구용 차트를 생성하는 전담 에이전트입니다.\"\n",
    "    \"연구원 동료와 협력하여 필요한 차트만 작성하세요.\"\n",
    "    \"차트를 생성할 때는 반드시 한글 글꼴 코드를 코드에 포함해야 합니다.\"\n",
    "    \"최종 결과 앞에 “FINAL ANSWER”를 붙여 알리세요.\",\n",
    ")"
   ]
  },
  {
   "cell_type": "code",
   "execution_count": null,
   "id": "d9d07f88",
   "metadata": {},
   "outputs": [],
   "source": [
    "def chart_generator_node(state: State):\n",
    "    response = research_agent.invoke({\"messages\": state[\"messages\"]})\n",
    "    last_message = response[\"messages\"][-1][\"content\"]\n",
    "    return {\n",
    "        \"messages\": [HumanMessage(content=last_message, name=\"chart generator agent\")]\n",
    "    }"
   ]
  },
  {
   "cell_type": "markdown",
   "id": "e2a209ec",
   "metadata": {},
   "source": [
    "## 그래프 작성"
   ]
  },
  {
   "cell_type": "code",
   "execution_count": null,
   "id": "e57065b1",
   "metadata": {},
   "outputs": [],
   "source": [
    "from typing import Literal\n",
    "from langgraph.graph import StateGraph, END\n",
    "\n",
    "\n",
    "def should_continue(state: State) -> Literal[\"continue\", END]:\n",
    "    last_message = state[\"messages\"][-1][\"content\"]\n",
    "    if \"FINAL ANSWER\" in last_message:\n",
    "        return END\n",
    "    else:\n",
    "        return \"continue\"\n",
    "\n",
    "\n",
    "builder = StateGraph(State)\n",
    "builder.add_noe(research_node)\n",
    "builder.add_noe(chart_generator_node)\n",
    "\n",
    "builder.add_conditional_edges(\n",
    "    research_node.__name__,\n",
    "    should_continue,\n",
    "    {\n",
    "        \"continue\": chart_generator_node.__name__,\n",
    "        END: END,\n",
    "    },\n",
    ")\n"
   ]
  },
  {
   "cell_type": "markdown",
   "id": "8870e434",
   "metadata": {},
   "source": []
  }
 ],
 "metadata": {
  "kernelspec": {
   "display_name": "foundation-introduction-to-langgraph (3.12.11)",
   "language": "python",
   "name": "python3"
  },
  "language_info": {
   "codemirror_mode": {
    "name": "ipython",
    "version": 3
   },
   "file_extension": ".py",
   "mimetype": "text/x-python",
   "name": "python",
   "nbconvert_exporter": "python",
   "pygments_lexer": "ipython3",
   "version": "3.12.11"
  }
 },
 "nbformat": 4,
 "nbformat_minor": 5
}
