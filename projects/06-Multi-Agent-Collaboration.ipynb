{
 "cells": [
  {
   "cell_type": "markdown",
   "id": "6c8e1f92",
   "metadata": {},
   "source": [
    "# 멀티 에이전트 협업 네트워크(Multi-Agent Collaboration Network)\n",
    "\n",
    "**Multi-Agent Collaboration Network**는 여러 AI 에이전트들이 협력하여 복잡한 문제를 해결하는 시스템입니다.\n",
    "\n",
    "### 핵심 개념\n",
    "\n",
    "**기본 구조**\n",
    "- 각 에이전트가 특정 역할이나 전문성을 가지고 있음\n",
    "- 에이전트들이 서로 통신하고 정보를 공유하며 협업\n",
    "- 중앙 조정자가 있거나, 분산형으로 자율적으로 협력\n",
    "\n",
    "**주요 특징**\n",
    "- **분업**: 복잡한 작업을 여러 에이전트가 나누어 처리\n",
    "- **상호작용**: 에이전트 간 메시지 전달, 결과 공유, 피드백 교환\n",
    "- **시너지**: 단일 에이전트보다 더 나은 성과 달성\n",
    "\n",
    "**활용 예시**\n",
    "- 코딩 작업: 기획자, 개발자, 테스터 에이전트가 협력\n",
    "- 연구 분석: 데이터 수집, 분석, 보고서 작성을 각각 담당\n",
    "- 고객 서비스: 문의 분류, 답변 생성, 품질 검증 에이전트 협업\n",
    "\n",
    "**장점**\n",
    "- 복잡한 문제를 더 효과적으로 해결\n",
    "- 각 에이전트의 전문성 활용\n",
    "- 확장성과 유연성"
   ]
  },
  {
   "cell_type": "markdown",
   "id": "9b32da7e",
   "metadata": {},
   "source": [
    "- 참고 자료: https://wikidocs.net/270689\n",
    "- 관련 논문: https://arxiv.org/abs/2308.08155\n",
    "- Multi-agent systems 개념: https://langchain-ai.github.io/langgraph/concepts/multi_agent/"
   ]
  },
  {
   "cell_type": "markdown",
   "id": "d95665a0",
   "metadata": {},
   "source": [
    "## 환경 설정"
   ]
  },
  {
   "cell_type": "code",
   "execution_count": 1,
   "id": "6ec4d46a",
   "metadata": {},
   "outputs": [],
   "source": [
    "import os\n",
    "import getpass\n",
    "from dotenv import load_dotenv\n",
    "\n",
    "load_dotenv(\"../.env\", override=True)\n",
    "\n",
    "\n",
    "def _set_env(var: str):\n",
    "    env_value = os.environ.get(var)\n",
    "    if not env_value:\n",
    "        env_value = getpass.getpass(f\"{var}: \")\n",
    "\n",
    "    os.environ[var] = env_value\n",
    "\n",
    "\n",
    "_set_env(\"LANGSMITH_API_KEY\")\n",
    "os.environ[\"LANGSMITH_TRACING\"] = \"true\"\n",
    "os.environ[\"LANGSMITH_PROJECT\"] = \"langchain-academy\"\n",
    "_set_env(\"OPENAI_API_KEY\")"
   ]
  },
  {
   "cell_type": "markdown",
   "id": "6798be42",
   "metadata": {},
   "source": [
    "## 상태 정의"
   ]
  },
  {
   "cell_type": "code",
   "execution_count": null,
   "id": "30b89b03",
   "metadata": {},
   "outputs": [],
   "source": [
    "from typing import Annotated\n",
    "from langgraph.graph.message import MessagesState\n",
    "\n",
    "\n",
    "class State(MessagesState):\n",
    "    sender: Annotated[str, \"마지막 메시지의 발신자\"]"
   ]
  },
  {
   "cell_type": "markdown",
   "id": "8870e434",
   "metadata": {},
   "source": []
  }
 ],
 "metadata": {
  "kernelspec": {
   "display_name": "foundation-introduction-to-langgraph (3.12.11)",
   "language": "python",
   "name": "python3"
  },
  "language_info": {
   "codemirror_mode": {
    "name": "ipython",
    "version": 3
   },
   "file_extension": ".py",
   "mimetype": "text/x-python",
   "name": "python",
   "nbconvert_exporter": "python",
   "pygments_lexer": "ipython3",
   "version": "3.12.11"
  }
 },
 "nbformat": 4,
 "nbformat_minor": 5
}
