{
 "cells": [
  {
   "cell_type": "markdown",
   "id": "fdc1a250",
   "metadata": {},
   "source": [
    "# Building Agents\n",
    "\n",
    "시작하기 전에 [이 슬라이드](https://docs.google.com/presentation/d/13c0L1CQWAL7fuCXakOqjkvoodfynPJI4Hw_4H76okVU/edit?usp=sharing)를 참고하여 배경 지식을 확인하세요!\n",
    "\n",
    "이메일 어시스턴트를 처음부터 구축해 보겠습니다. \n",
    "1) 랭그래프로 에이전트 아키텍처 설계\n",
    "2) 랭스미스로 테스트\n",
    "3) 휴먼 인 더 루프(Human-in-the-loop), \n",
    "4) 메모리 순으로 진행합니다. \n",
    "\n",
    "이 다이어그램은 각 구성 요소가 어떻게 결합되는지 보여줍니다:\n",
    "\n",
    "![overview-img](assets/overview.png)\n",
    "\n",
    "## Resources\n",
    "\n",
    "- Notebook Reference: [agent.ipynb](https://github.com/langchain-ai/agents-from-scratch/blob/main/notebooks/agent.ipynb)\n",
    "- For LangSmith Studio: [src/email_assistant](https://github.com/langchain-ai/agents-from-scratch/tree/main/src/email_assistant)\n",
    "- Slides: [Building Ambient Agents with LangGraph - Building Agents & Evaluations.pdf](https://files.cdn.thinkific.com/file_uploads/967498/attachments/5f6/a6b/958/Building_Ambient_Agents_with_LangGraph_-_Building_Agents___Evaluations.pdf)\n",
    "\n"
   ]
  },
  {
   "cell_type": "markdown",
   "id": "5159ccbf",
   "metadata": {},
   "source": [
    "## 환경 설정"
   ]
  },
  {
   "cell_type": "code",
   "execution_count": null,
   "id": "dded77b5",
   "metadata": {},
   "outputs": [],
   "source": [
    "import os\n",
    "import sys\n",
    "from pathlib import Path\n",
    "\n",
    "# 현재 디렉토리를 Python 경로에 추가\n",
    "current_dir = os.path.join(Path.cwd())\n",
    "if str(current_dir) not in sys.path:\n",
    "    sys.path.insert(0, str(current_dir))"
   ]
  },
  {
   "cell_type": "code",
   "execution_count": 35,
   "id": "c4550254",
   "metadata": {},
   "outputs": [
    {
     "data": {
      "text/plain": [
       "False"
      ]
     },
     "execution_count": 35,
     "metadata": {},
     "output_type": "execute_result"
    }
   ],
   "source": [
    "from dotenv import load_dotenv\n",
    "\n",
    "\n",
    "load_dotenv(\"../../.env\", override=True)"
   ]
  },
  {
   "cell_type": "markdown",
   "id": "0c2179e8",
   "metadata": {},
   "source": [
    "## 도구 정의\n",
    "\n",
    "이메일 어시스턴트가 사용할 간단한 도구들을 `@tool` 데코레이터로 정의합니다."
   ]
  },
  {
   "cell_type": "code",
   "execution_count": 36,
   "id": "42422f3f",
   "metadata": {},
   "outputs": [],
   "source": [
    "from datetime import datetime\n",
    "\n",
    "from langchain_core.tools import tool\n",
    "from pydantic import BaseModel\n",
    "\n",
    "\n",
    "@tool\n",
    "def write_email(to: str, subject: str, content: str) -> str:\n",
    "    \"\"\"이메일을 작성하여 보냅니다.\"\"\"\n",
    "    # 임시 응답 - 실제 앱에서는 이메일을 발송합니다\n",
    "    return f\"{to}에게 발송된 이메일, 제목: '{subject}', 내용: {content}\"\n",
    "\n",
    "\n",
    "@tool\n",
    "def schedule_meeting(\n",
    "    attendees: list[str],\n",
    "    subject: str,\n",
    "    duration_minutes: int,\n",
    "    preferred_day: datetime,\n",
    "    start_time: int,\n",
    ") -> str:\n",
    "    \"\"\"캘린더에 회의를 예약합니다.\"\"\"\n",
    "    # 임시 응답 - 실제 앱에서는 캘린더와 일정을 확인합니다\n",
    "    date_str = preferred_day.strftime(\"%A, %B %d, %Y\")\n",
    "    return f\"'{subject}' 회의가 {date_str} {start_time}에 {duration_minutes}분 동안 {len(attendees)}명의 참석자와 함께 예정되어 있습니다\"\n",
    "\n",
    "\n",
    "@tool\n",
    "def check_calendar_availability(day: str) -> str:\n",
    "    \"\"\"특정 날짜의 캘린더 가능 시간을 확인합니다.\"\"\"\n",
    "    # 임시 응답 - 실제 앱에서는 실제 캘린더를 확인합니다\n",
    "    return f\"{day}의 가능한 시간: 오전 9:00, 오후 2:00, 오후 4:00\"\n",
    "\n",
    "\n",
    "@tool\n",
    "class Done(BaseModel):\n",
    "    \"\"\"이메일이 발송되었습니다.\"\"\"\n",
    "\n",
    "    done: bool"
   ]
  },
  {
   "cell_type": "markdown",
   "id": "a235b643",
   "metadata": {},
   "source": [
    "## 이메일 어시스턴트 구축하기\n",
    "\n",
    "라우터와 에이전트를 결합하여 이메일 어시스턴트를 구축합니다.\n",
    "\n",
    "![agent_workflow_img](./assets/email_workflow.png)\n",
    "\n",
    "### 라우터(Router)\n",
    "\n",
    "라우팅 단계는 분류 결정을 처리합니다.\n",
    "\n",
    "분류 라우터는 분류 결정에만 집중하고, 에이전트는 응답에만 집중합니다.\n",
    "\n",
    "#### 상태(State)\n",
    "\n",
    "에이전트를 구축할 때는 시간에 따라 추적하고자 하는 정보를 고려하는 것이 중요합니다. 이번 프로젝트에서는 LangGraph의 사전 구축된 [`MessagesState`](https://langchain-ai.github.io/langgraph/concepts/low_level/#messagesstate)를 사용합니다. `MessagesState`를 확장하여 `email_input`와 `classification_decision` 키를 추가하는 사용자 정의 `State` 객체를 정의합니다."
   ]
  },
  {
   "cell_type": "code",
   "execution_count": 37,
   "id": "2d2ecd3b",
   "metadata": {},
   "outputs": [],
   "source": [
    "from typing import Literal\n",
    "\n",
    "from langgraph.graph import MessagesState\n",
    "\n",
    "\n",
    "class State(MessagesState):\n",
    "    email_input: dict\n",
    "    classification_decision: Literal[\"ignore\", \"respond\", \"notify\"]"
   ]
  },
  {
   "cell_type": "markdown",
   "id": "a9538659",
   "metadata": {},
   "source": [
    "#### 분류 노드\n",
    "\n",
    "분류 라우팅 로직을 포함하는 함수를 정의합니다. \n",
    "이를 위해 [`structured_outputs`](https://python.langchain.com/docs/concepts/structured_outputs/)을 사용합니다. \n",
    "`Pydantic`은 타입 힌트와 유효성 검사를 제공하기 때문에 구조화된 출력 스키마를 정의하는 데 유용합니다. Pydantic 모델의 설명(description)은 JSON 스키마의 일부로 LLM에 전달되어 출력 변환에 대한 정보를 제공합니다."
   ]
  },
  {
   "cell_type": "code",
   "execution_count": 39,
   "id": "d92670f4",
   "metadata": {},
   "outputs": [
    {
     "ename": "ModuleNotFoundError",
     "evalue": "No module named 'html2text'",
     "output_type": "error",
     "traceback": [
      "\u001b[31m---------------------------------------------------------------------------\u001b[39m",
      "\u001b[31mModuleNotFoundError\u001b[39m                       Traceback (most recent call last)",
      "\u001b[36mCell\u001b[39m\u001b[36m \u001b[39m\u001b[32mIn[39]\u001b[39m\u001b[32m, line 1\u001b[39m\n\u001b[32m----> \u001b[39m\u001b[32m1\u001b[39m \u001b[38;5;28;01mfrom\u001b[39;00m\u001b[38;5;250m \u001b[39m\u001b[34;01msrc\u001b[39;00m\u001b[34;01m.\u001b[39;00m\u001b[34;01memail_assistant\u001b[39;00m\u001b[34;01m.\u001b[39;00m\u001b[34;01mutils\u001b[39;00m\u001b[38;5;250m \u001b[39m\u001b[38;5;28;01mimport\u001b[39;00m parse_email, format_email_markdown\n",
      "\u001b[36mFile \u001b[39m\u001b[32m~/Workspace/Wantedlab/langchain-academy/projects/ambient-agents/src/email_assistant/utils.py:3\u001b[39m\n\u001b[32m      1\u001b[39m \u001b[38;5;28;01mfrom\u001b[39;00m\u001b[38;5;250m \u001b[39m\u001b[34;01mtyping\u001b[39;00m\u001b[38;5;250m \u001b[39m\u001b[38;5;28;01mimport\u001b[39;00m List, Any\n\u001b[32m      2\u001b[39m \u001b[38;5;28;01mimport\u001b[39;00m\u001b[38;5;250m \u001b[39m\u001b[34;01mjson\u001b[39;00m\n\u001b[32m----> \u001b[39m\u001b[32m3\u001b[39m \u001b[38;5;28;01mimport\u001b[39;00m\u001b[38;5;250m \u001b[39m\u001b[34;01mhtml2text\u001b[39;00m\n\u001b[32m      5\u001b[39m \u001b[38;5;28;01mdef\u001b[39;00m\u001b[38;5;250m \u001b[39m\u001b[34mformat_email_markdown\u001b[39m(subject, author, to, email_thread, email_id=\u001b[38;5;28;01mNone\u001b[39;00m):\n\u001b[32m      6\u001b[39m \u001b[38;5;250m    \u001b[39m\u001b[33;03m\"\"\"Format email details into a nicely formatted markdown string for display\u001b[39;00m\n\u001b[32m      7\u001b[39m \u001b[33;03m    \u001b[39;00m\n\u001b[32m      8\u001b[39m \u001b[33;03m    Args:\u001b[39;00m\n\u001b[32m   (...)\u001b[39m\u001b[32m     13\u001b[39m \u001b[33;03m        email_id: Optional email ID (for Gmail API)\u001b[39;00m\n\u001b[32m     14\u001b[39m \u001b[33;03m    \"\"\"\u001b[39;00m\n",
      "\u001b[31mModuleNotFoundError\u001b[39m: No module named 'html2text'"
     ]
    }
   ],
   "source": [
    "from src.email_assistant.utils import parse_email, format_email_markdown"
   ]
  },
  {
   "cell_type": "markdown",
   "id": "250af9b6",
   "metadata": {},
   "source": []
  }
 ],
 "metadata": {
  "kernelspec": {
   "display_name": "3.12.11",
   "language": "python",
   "name": "python3"
  },
  "language_info": {
   "codemirror_mode": {
    "name": "ipython",
    "version": 3
   },
   "file_extension": ".py",
   "mimetype": "text/x-python",
   "name": "python",
   "nbconvert_exporter": "python",
   "pygments_lexer": "ipython3",
   "version": "3.12.11"
  }
 },
 "nbformat": 4,
 "nbformat_minor": 5
}
