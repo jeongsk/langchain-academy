{
 "cells": [
  {
   "cell_type": "markdown",
   "id": "fdc1a250",
   "metadata": {},
   "source": [
    "# Building Agents\n",
    "\n",
    "시작하기 전에 [이 슬라이드](https://docs.google.com/presentation/d/13c0L1CQWAL7fuCXakOqjkvoodfynPJI4Hw_4H76okVU/edit?usp=sharing)를 참고하여 배경 지식을 확인하세요!\n",
    "\n",
    "이메일 어시스턴트를 처음부터 구축해 보겠습니다. \n",
    "1) 랭그래프로 에이전트 아키텍처 설계\n",
    "2) 랭스미스로 테스트\n",
    "3) 휴먼 인 더 루프(Human-in-the-loop), \n",
    "4) 메모리 순으로 진행합니다. \n",
    "\n",
    "이 다이어그램은 각 구성 요소가 어떻게 결합되는지 보여줍니다:\n",
    "\n",
    "![overview-img](assets/overview.png)\n",
    "\n",
    "## Resources\n",
    "\n",
    "- Notebook Reference: [agent.ipynb](https://github.com/langchain-ai/agents-from-scratch/blob/main/notebooks/agent.ipynb)\n",
    "- For LangSmith Studio: [src/email_assistant](https://github.com/langchain-ai/agents-from-scratch/tree/main/src/email_assistant)\n",
    "- Slides: [Building Ambient Agents with LangGraph - Building Agents & Evaluations.pdf](https://files.cdn.thinkific.com/file_uploads/967498/attachments/5f6/a6b/958/Building_Ambient_Agents_with_LangGraph_-_Building_Agents___Evaluations.pdf)\n",
    "\n"
   ]
  },
  {
   "cell_type": "markdown",
   "id": "5159ccbf",
   "metadata": {},
   "source": [
    "## 환경 설정"
   ]
  },
  {
   "cell_type": "code",
   "execution_count": 1,
   "id": "c4550254",
   "metadata": {},
   "outputs": [
    {
     "data": {
      "text/plain": [
       "True"
      ]
     },
     "execution_count": 1,
     "metadata": {},
     "output_type": "execute_result"
    }
   ],
   "source": [
    "from dotenv import load_dotenv\n",
    "\n",
    "\n",
    "load_dotenv(\"../../.env\", override=True)"
   ]
  },
  {
   "cell_type": "markdown",
   "id": "0c2179e8",
   "metadata": {},
   "source": [
    "## 도구 정의\n",
    "\n",
    "이메일 어시스턴트가 사용할 간단한 도구들을 `@tool` 데코레이터로 정의합니다."
   ]
  },
  {
   "cell_type": "code",
   "execution_count": 2,
   "id": "42422f3f",
   "metadata": {},
   "outputs": [],
   "source": [
    "from datetime import datetime\n",
    "\n",
    "from langchain_core.tools import tool\n",
    "from pydantic import BaseModel\n",
    "\n",
    "\n",
    "@tool\n",
    "def write_email(to: str, subject: str, content: str) -> str:\n",
    "    \"\"\"이메일을 작성하여 보냅니다.\"\"\"\n",
    "    # 임시 응답 - 실제 앱에서는 이메일을 발송합니다\n",
    "    return f\"{to}에게 발송된 이메일, 제목: '{subject}', 내용: {content}\"\n",
    "\n",
    "\n",
    "@tool\n",
    "def schedule_meeting(\n",
    "    attendees: list[str],\n",
    "    subject: str,\n",
    "    duration_minutes: int,\n",
    "    preferred_day: datetime,\n",
    "    start_time: int,\n",
    ") -> str:\n",
    "    \"\"\"캘린더에 회의를 예약합니다.\"\"\"\n",
    "    # 임시 응답 - 실제 앱에서는 캘린더와 일정을 확인합니다\n",
    "    date_str = preferred_day.strftime(\"%A, %B %d, %Y\")\n",
    "    return f\"'{subject}' 회의가 {date_str} {start_time}에 {duration_minutes}분 동안 {len(attendees)}명의 참석자와 함께 예정되어 있습니다\"\n",
    "\n",
    "\n",
    "@tool\n",
    "def check_calendar_availability(day: str) -> str:\n",
    "    \"\"\"특정 날짜의 캘린더 가능 시간을 확인합니다.\"\"\"\n",
    "    # 임시 응답 - 실제 앱에서는 실제 캘린더를 확인합니다\n",
    "    return f\"{day}의 가능한 시간: 오전 9:00, 오후 2:00, 오후 4:00\"\n",
    "\n",
    "\n",
    "@tool\n",
    "class Done(BaseModel):\n",
    "    \"\"\"이메일이 발송되었습니다.\"\"\"\n",
    "\n",
    "    done: bool"
   ]
  },
  {
   "cell_type": "markdown",
   "id": "a235b643",
   "metadata": {},
   "source": [
    "## 이메일 어시스턴트 구축하기\n",
    "\n",
    "라우터와 에이전트를 결합하여 이메일 어시스턴트를 구축합니다.\n",
    "\n",
    "![agent_workflow_img](./assets/email_workflow.png)\n",
    "\n",
    "### 라우터(Router)\n",
    "\n",
    "라우팅 단계는 분류 결정을 처리합니다.\n",
    "\n",
    "분류 라우터는 분류 결정에만 집중하고, 에이전트는 응답에만 집중합니다.\n",
    "\n",
    "#### 상태(State)\n",
    "\n",
    "에이전트를 구축할 때는 시간에 따라 추적하고자 하는 정보를 고려하는 것이 중요합니다. 이번 프로젝트에서는 LangGraph의 사전 구축된 [`MessagesState`](https://langchain-ai.github.io/langgraph/concepts/low_level/#messagesstate)를 사용합니다. `MessagesState`를 확장하여 `email_input`와 `classification_decision` 키를 추가하는 사용자 정의 `State` 객체를 정의합니다."
   ]
  },
  {
   "cell_type": "code",
   "execution_count": 3,
   "id": "2d2ecd3b",
   "metadata": {},
   "outputs": [],
   "source": [
    "from typing import Literal\n",
    "\n",
    "from langgraph.graph import MessagesState\n",
    "\n",
    "\n",
    "class State(MessagesState):\n",
    "    email_input: dict\n",
    "    classification_decision: Literal[\"ignore\", \"respond\", \"notify\"]"
   ]
  },
  {
   "cell_type": "markdown",
   "id": "a9538659",
   "metadata": {},
   "source": [
    "#### 분류 노드\n",
    "\n",
    "분류 라우팅 로직을 포함하는 함수를 정의합니다. \n",
    "이를 위해 [`structured_outputs`](https://python.langchain.com/docs/concepts/structured_outputs/)을 사용합니다. \n",
    "\n",
    "`Pydantic`은 타입 힌트와 유효성 검사를 제공하기 때문에 구조화된 출력 스키마를 정의하는 데 유용합니다. \n",
    "\n",
    "Pydantic 모델의 설명(description)은 JSON 스키마의 일부로 LLM에 전달되어 출력 변환에 대한 정보를 제공합니다."
   ]
  },
  {
   "cell_type": "code",
   "execution_count": null,
   "id": "8849519b",
   "metadata": {},
   "outputs": [
    {
     "name": "stdout",
     "output_type": "stream",
     "text": [
      "\n",
      "==================== triage_system_prompt ====================\n"
     ]
    },
    {
     "data": {
      "text/markdown": [
       "\n",
       "\n",
       "< Role >\n",
       "Your role is to triage incoming emails based upon instructs and background information below.\n",
       "</ Role >\n",
       "\n",
       "< Background >\n",
       "{background}. \n",
       "</ Background >\n",
       "\n",
       "< Instructions >\n",
       "Categorize each email into one of three categories:\n",
       "1. IGNORE - Emails that are not worth responding to or tracking\n",
       "2. NOTIFY - Important information that worth notification but doesn't require a response\n",
       "3. RESPOND - Emails that need a direct response\n",
       "Classify the below email into one of these categories.\n",
       "</ Instructions >\n",
       "\n",
       "< Rules >\n",
       "{triage_instructions}\n",
       "</ Rules >\n"
      ],
      "text/plain": [
       "<IPython.core.display.Markdown object>"
      ]
     },
     "metadata": {},
     "output_type": "display_data"
    },
    {
     "name": "stdout",
     "output_type": "stream",
     "text": [
      "\n",
      "==================== triage_user_prompt ====================\n"
     ]
    },
    {
     "data": {
      "text/markdown": [
       "\n",
       "Please determine how to handle the below email thread:\n",
       "\n",
       "From: {author}\n",
       "To: {to}\n",
       "Subject: {subject}\n",
       "{email_thread}"
      ],
      "text/plain": [
       "<IPython.core.display.Markdown object>"
      ]
     },
     "metadata": {},
     "output_type": "display_data"
    },
    {
     "name": "stdout",
     "output_type": "stream",
     "text": [
      "\n",
      "==================== default_background ====================\n"
     ]
    },
    {
     "data": {
      "text/markdown": [
       " \n",
       "I'm Lance, a software engineer at LangChain.\n"
      ],
      "text/plain": [
       "<IPython.core.display.Markdown object>"
      ]
     },
     "metadata": {},
     "output_type": "display_data"
    },
    {
     "name": "stdout",
     "output_type": "stream",
     "text": [
      "\n",
      "==================== default_triage_instructions ====================\n"
     ]
    },
    {
     "data": {
      "text/markdown": [
       "\n",
       "Emails that are not worth responding to:\n",
       "- Marketing newsletters and promotional emails\n",
       "- Spam or suspicious emails\n",
       "- CC'd on FYI threads with no direct questions\n",
       "\n",
       "There are also other things that should be known about, but don't require an email response. For these, you should notify (using the `notify` response). Examples of this include:\n",
       "- Team member out sick or on vacation\n",
       "- Build system notifications or deployments\n",
       "- Project status updates without action items\n",
       "- Important company announcements\n",
       "- FYI emails that contain relevant information for current projects\n",
       "- HR Department deadline reminders\n",
       "- Subscription status / renewal reminders\n",
       "- GitHub notifications\n",
       "\n",
       "Emails that are worth responding to:\n",
       "- Direct questions from team members requiring expertise\n",
       "- Meeting requests requiring confirmation\n",
       "- Critical bug reports related to team's projects\n",
       "- Requests from management requiring acknowledgment\n",
       "- Client inquiries about project status or features\n",
       "- Technical questions about documentation, code, or APIs (especially questions about missing endpoints or features)\n",
       "- Personal reminders related to family (wife / daughter)\n",
       "- Personal reminder related to self-care (doctor appointments, etc)\n"
      ],
      "text/plain": [
       "<IPython.core.display.Markdown object>"
      ]
     },
     "metadata": {},
     "output_type": "display_data"
    }
   ],
   "source": [
    "from IPython.display import Markdown, display\n",
    "from studio.src.email_assistant.prompts import (\n",
    "    default_background,\n",
    "    default_triage_instructions,\n",
    "    triage_system_prompt,\n",
    "    triage_user_prompt,\n",
    ")\n",
    "from studio.src.email_assistant.utils import format_email_markdown, parse_email\n",
    "\n",
    "\n",
    "print(\"\")\n",
    "print(\"=\" * 20 + \" triage_system_prompt \" + \"=\" * 20)\n",
    "display(Markdown(triage_system_prompt))\n",
    "\n",
    "print(\"\")\n",
    "print(\"=\" * 20 + \" triage_user_prompt \" + \"=\" * 20)\n",
    "display(Markdown(triage_user_prompt))\n",
    "\n",
    "print(\"\")\n",
    "print(\"=\" * 20 + \" default_background \" + \"=\" * 20)\n",
    "display(Markdown(default_background))\n",
    "\n",
    "print(\"\")\n",
    "print(\"=\" * 20 + \" default_triage_instructions \" + \"=\" * 20)\n",
    "display(Markdown(default_triage_instructions))"
   ]
  },
  {
   "cell_type": "code",
   "execution_count": null,
   "id": "485ce5b8",
   "metadata": {},
   "outputs": [],
   "source": [
    "from typing import Annotated, Literal\n",
    "\n",
    "from pydantic import BaseModel, Field\n",
    "\n",
    "from langchain.chat_models import init_chat_model\n",
    "\n",
    "\n",
    "class RouterSchema(BaseModel):\n",
    "    \"\"\"읽지 않은 이메일을 분석하고 내용에 따라 처리 경로를 지정하십시오.\"\"\"\n",
    "\n",
    "    reasoning: Annotated[str, Field(description=\"분류의 단계별 추론 과정.\")]\n",
    "\n",
    "    classification: Annotated[\n",
    "        Literal[\"ignore\", \"respond\", \"notify\"],\n",
    "        Field(\n",
    "            description=\"이메일 분류: 관련 없는 이메일은 'ignore', \"\n",
    "            \"답변이 필요 없는 중요한 정보는 'respond', \"\n",
    "            \"답변이 필요한 이메일은 'notify'\"\n",
    "        ),\n",
    "    ]\n",
    "\n",
    "\n",
    "llm = init_chat_model(\"openai:gpt-4.1-mini\", temperature=0)\n",
    "llm_router = llm.with_structured_output(RouterSchema)"
   ]
  },
  {
   "cell_type": "code",
   "execution_count": 20,
   "id": "ce74f25c",
   "metadata": {},
   "outputs": [
    {
     "name": "stdout",
     "output_type": "stream",
     "text": [
      "classification: respond\n",
      "reasoning: 이 이메일은 새로운 AI 기반 분석 플랫폼 출시와 관련된 마케팅 프로모션을 알리는 내용입니다. 할인 혜택과 제한된 기간을 강조하여 수신자가 구매를 유도하려는 상업적 목적이 명확합니다. 따라서 이 이메일은 스팸 또는 광고성 이메일로 분류되어야 하며, 적절한 대응이 필요합니다.\n"
     ]
    }
   ],
   "source": [
    "response = llm_router.invoke(\"\"\"안녕하세요,\n",
    "저희 새로운 AI 기반 분석 플랫폼 출시를 알려드립니다! 저희 가치 있는 고객님을 위해 처음 3개월간 50% 할인을 제공합니다.\n",
    "이 제한된 기간 동안만 이메일 구독자에게만 제공되는 특별 혜택입니다. 아래 버튼을 클릭하여 할인을 받으세요:\n",
    "[지금 50% 할인 받기]\n",
    "이 오퍼는 48시간 내에 만료됩니다.\n",
    "감사합니다,\n",
    "마케팅팀\"\"\")\n",
    "\n",
    "print(\"classification:\", response.classification)\n",
    "print(\"reasoning:\", response.reasoning)"
   ]
  },
  {
   "cell_type": "code",
   "execution_count": null,
   "id": "e4681db4",
   "metadata": {},
   "outputs": [],
   "source": [
    "{\n",
    "    \"from\": \"marketing@company.com\",\n",
    "    \"to\": \"user@example.com\",\n",
    "    \"subject\": \"New Product Launch - Special Early Bird Discount 50% Off\",\n",
    "    \"body\": \"Dear Customer,\\n\\nWe're excited to announce the launch of our new AI-powered analytics platform! As a valued customer, we're offering you an exclusive 50% discount for the first 3 months.\\n\\nThis limited-time offer is only available to our email subscribers. Click below to claim your discount:\\n\\n[Get 50% Off Now]\\n\\nOffer expires in 48 hours.\\n\\nBest regards,\\nMarketing Team\",\n",
    "    \"received_at\": \"2025-10-24T09:15:00Z\",\n",
    "    \"sender_domain\": \"company.com\",\n",
    "    \"expected_category\": \"promotional\",\n",
    "}"
   ]
  },
  {
   "cell_type": "code",
   "execution_count": null,
   "id": "286b54e3",
   "metadata": {},
   "outputs": [],
   "source": [
    "from langgraph.types import Command\n",
    "\n",
    "\n",
    "def triage_router(state: State) -> Command[Literal[\"response_agent\", \"__end__\"]]\n",
    "    \"\"\"이메일 내용을 분석하여 응답, 알림 또는 무시 여부를 결정합니다.\"\"\"\n",
    "\n",
    "    author, to, subject, email_thread = parse_email(state[\"email_input\"])\n",
    "    system_prompt = triage_system_prompt.format(background=default_background,\n",
    "                                                triage_instructions=default_triage_instructions\n",
    "                                                )\n",
    "\n",
    "    user_prompt = triage_user_prompt.format(\n",
    "        author=author,\n",
    "        to=to,\n",
    "        subject=subject,\n",
    "        email_thread=email_thread\n",
    "    )\n",
    "\n",
    "    llm_router = llm.with_structured_output(RouterSchema)\n",
    "    response = llm_router.invoke(\n",
    "        [\n",
    "            (\"system\", system_prompt),\n",
    "            (\"user\", user_prompt),\n",
    "        ]\n",
    "    )\n"
   ]
  }
 ],
 "metadata": {
  "kernelspec": {
   "display_name": "Python 3.13 (langchain-academy)",
   "language": "python",
   "name": "langchain-academy"
  },
  "language_info": {
   "codemirror_mode": {
    "name": "ipython",
    "version": 3
   },
   "file_extension": ".py",
   "mimetype": "text/x-python",
   "name": "python",
   "nbconvert_exporter": "python",
   "pygments_lexer": "ipython3",
   "version": "3.12.11"
  }
 },
 "nbformat": 4,
 "nbformat_minor": 5
}
