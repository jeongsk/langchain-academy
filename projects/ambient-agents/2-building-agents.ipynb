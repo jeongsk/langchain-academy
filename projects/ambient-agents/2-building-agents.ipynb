{
 "cells": [
  {
   "cell_type": "markdown",
   "id": "fdc1a250",
   "metadata": {},
   "source": [
    "# Building Agents\n",
    "\n",
    "시작하기 전에 [이 슬라이드](https://docs.google.com/presentation/d/13c0L1CQWAL7fuCXakOqjkvoodfynPJI4Hw_4H76okVU/edit?usp=sharing)를 참고하여 배경 지식을 확인하세요!\n",
    "\n",
    "이메일 어시스턴트를 처음부터 구축해 보겠습니다. \n",
    "1) 랭그래프로 에이전트 아키텍처 설계\n",
    "2) 랭스미스로 테스트\n",
    "3) 휴먼 인 더 루프(Human-in-the-loop), \n",
    "4) 메모리 순으로 진행합니다. \n",
    "\n",
    "이 다이어그램은 각 구성 요소가 어떻게 결합되는지 보여줍니다:\n",
    "\n",
    "![overview-img](assets/overview.png)\n",
    "\n",
    "## Resources\n",
    "\n",
    "- Notebook Reference: [agent.ipynb](https://github.com/langchain-ai/agents-from-scratch/blob/main/notebooks/agent.ipynb)\n",
    "- For LangSmith Studio: [src/email_assistant](https://github.com/langchain-ai/agents-from-scratch/tree/main/src/email_assistant)\n",
    "- Slides: [Building Ambient Agents with LangGraph - Building Agents & Evaluations.pdf](https://files.cdn.thinkific.com/file_uploads/967498/attachments/5f6/a6b/958/Building_Ambient_Agents_with_LangGraph_-_Building_Agents___Evaluations.pdf)\n",
    "\n"
   ]
  },
  {
   "cell_type": "markdown",
   "id": "5159ccbf",
   "metadata": {},
   "source": [
    "## 환경 설정"
   ]
  },
  {
   "cell_type": "code",
   "execution_count": 2,
   "id": "c4550254",
   "metadata": {},
   "outputs": [
    {
     "data": {
      "text/plain": [
       "True"
      ]
     },
     "execution_count": 2,
     "metadata": {},
     "output_type": "execute_result"
    }
   ],
   "source": [
    "from dotenv import load_dotenv\n",
    "\n",
    "\n",
    "load_dotenv(\"../../.env\", override=True)"
   ]
  },
  {
   "cell_type": "markdown",
   "id": "0c2179e8",
   "metadata": {},
   "source": [
    "## 도구 정의\n",
    "\n",
    "이메일 어시스턴트가 사용할 간단한 도구들을 `@tool` 데코레이터로 정의합니다."
   ]
  },
  {
   "cell_type": "code",
   "execution_count": 3,
   "id": "42422f3f",
   "metadata": {},
   "outputs": [],
   "source": [
    "from datetime import datetime\n",
    "\n",
    "from langchain_core.tools import tool\n",
    "from pydantic import BaseModel\n",
    "\n",
    "\n",
    "@tool\n",
    "def write_email(to: str, subject: str, content: str) -> str:\n",
    "    \"\"\"이메일을 작성하여 보냅니다.\"\"\"\n",
    "    # 임시 응답 - 실제 앱에서는 이메일을 발송합니다\n",
    "    return f\"{to}에게 발송된 이메일, 제목: '{subject}', 내용: {content}\"\n",
    "\n",
    "\n",
    "@tool\n",
    "def schedule_meeting(\n",
    "    attendees: list[str],\n",
    "    subject: str,\n",
    "    duration_minutes: int,\n",
    "    preferred_day: datetime,\n",
    "    start_time: int,\n",
    ") -> str:\n",
    "    \"\"\"캘린더에 회의를 예약합니다.\"\"\"\n",
    "    # 임시 응답 - 실제 앱에서는 캘린더와 일정을 확인합니다\n",
    "    date_str = preferred_day.strftime(\"%A, %B %d, %Y\")\n",
    "    return f\"'{subject}' 회의가 {date_str} {start_time}에 {duration_minutes}분 동안 {len(attendees)}명의 참석자와 함께 예정되어 있습니다\"\n",
    "\n",
    "\n",
    "@tool\n",
    "def check_calendar_availability(day: str) -> str:\n",
    "    \"\"\"특정 날짜의 캘린더 가능 시간을 확인합니다.\"\"\"\n",
    "    # 임시 응답 - 실제 앱에서는 실제 캘린더를 확인합니다\n",
    "    return f\"{day}의 가능한 시간: 오전 9:00, 오후 2:00, 오후 4:00\"\n",
    "\n",
    "\n",
    "@tool\n",
    "class Done(BaseModel):\n",
    "    \"\"\"이메일이 발송되었습니다.\"\"\"\n",
    "\n",
    "    done: bool"
   ]
  },
  {
   "cell_type": "markdown",
   "id": "a235b643",
   "metadata": {},
   "source": [
    "## 이메일 어시스턴트 구축하기\n",
    "\n",
    "라우터와 에이전트를 결합하여 이메일 어시스턴트를 구축합니다.\n",
    "\n",
    "![agent_workflow_img](./assets/email_workflow.png)\n",
    "\n",
    "### 라우터(Router)\n",
    "\n",
    "라우팅 단계는 분류 결정을 처리합니다.\n",
    "\n",
    "분류 라우터는 분류 결정에만 집중하고, 에이전트는 응답에만 집중합니다.\n",
    "\n",
    "#### 상태(State)\n",
    "\n",
    "에이전트를 구축할 때는 시간에 따라 추적하고자 하는 정보를 고려하는 것이 중요합니다. 이번 프로젝트에서는 LangGraph의 사전 구축된 [`MessagesState`](https://langchain-ai.github.io/langgraph/concepts/low_level/#messagesstate)를 사용합니다. `MessagesState`를 확장하여 `email_input`와 `classification_decision` 키를 추가하는 사용자 정의 `State` 객체를 정의합니다."
   ]
  },
  {
   "cell_type": "code",
   "execution_count": 4,
   "id": "2d2ecd3b",
   "metadata": {},
   "outputs": [],
   "source": [
    "from typing import Literal\n",
    "\n",
    "from langgraph.graph import MessagesState\n",
    "\n",
    "\n",
    "class State(MessagesState):\n",
    "    email_input: dict\n",
    "    classification_decision: Literal[\"ignore\", \"respond\", \"notify\"]"
   ]
  },
  {
   "cell_type": "markdown",
   "id": "a9538659",
   "metadata": {},
   "source": [
    "#### 분류 노드\n",
    "\n",
    "분류 라우팅 로직을 포함하는 함수를 정의합니다. \n",
    "이를 위해 [`structured_outputs`](https://python.langchain.com/docs/concepts/structured_outputs/)을 사용합니다. \n",
    "\n",
    "`Pydantic`은 타입 힌트와 유효성 검사를 제공하기 때문에 구조화된 출력 스키마를 정의하는 데 유용합니다. \n",
    "\n",
    "Pydantic 모델의 설명(description)은 JSON 스키마의 일부로 LLM에 전달되어 출력 변환에 대한 정보를 제공합니다."
   ]
  },
  {
   "cell_type": "code",
   "execution_count": 5,
   "id": "8849519b",
   "metadata": {},
   "outputs": [
    {
     "name": "stdout",
     "output_type": "stream",
     "text": [
      "\n",
      "==================== triage_system_prompt ====================\n"
     ]
    },
    {
     "data": {
      "text/markdown": [
       "\n",
       "< 역할 >\n",
       "당신의 역할은 아래 지침과 배경 정보를 바탕으로 수신된 이메일을 분류하는 것입니다.\n",
       "</ 역할 >\n",
       "\n",
       "< 배경 >\n",
       "{background}\n",
       "</ 배경 >\n",
       "\n",
       "< 지침 >\n",
       "각 이메일을 다음 세 가지 카테고리 중 하나로 분류하세요:\n",
       "1. IGNORE - 응답하거나 추적할 가치가 없는 이메일\n",
       "2. NOTIFY - 알림이 필요하지만 응답이 필요하지 않은 중요한 정보\n",
       "3. RESPOND - 직접적인 응답이 필요한 이메일\n",
       "아래 이메일을 이 카테고리 중 하나로 분류하세요.\n",
       "</ 지침 >\n",
       "\n",
       "< 규칙 >\n",
       "{triage_instructions}\n",
       "</ 규칙 >\n"
      ],
      "text/plain": [
       "<IPython.core.display.Markdown object>"
      ]
     },
     "metadata": {},
     "output_type": "display_data"
    },
    {
     "name": "stdout",
     "output_type": "stream",
     "text": [
      "\n",
      "==================== triage_user_prompt ====================\n"
     ]
    },
    {
     "data": {
      "text/markdown": [
       "\n",
       "아래 이메일 스레드를 어떻게 처리할지 결정해주세요:\n",
       "\n",
       "발신: {author}\n",
       "수신: {to}\n",
       "제목: {subject}\n",
       "{email_thread}"
      ],
      "text/plain": [
       "<IPython.core.display.Markdown object>"
      ]
     },
     "metadata": {},
     "output_type": "display_data"
    },
    {
     "name": "stdout",
     "output_type": "stream",
     "text": [
      "\n",
      "==================== default_background ====================\n"
     ]
    },
    {
     "data": {
      "text/markdown": [
       "\n",
       "저는 Lance이고, LangChain의 소프트웨어 엔지니어입니다.\n"
      ],
      "text/plain": [
       "<IPython.core.display.Markdown object>"
      ]
     },
     "metadata": {},
     "output_type": "display_data"
    },
    {
     "name": "stdout",
     "output_type": "stream",
     "text": [
      "\n",
      "==================== default_triage_instructions ====================\n"
     ]
    },
    {
     "data": {
      "text/markdown": [
       "\n",
       "응답할 가치가 없는 이메일:\n",
       "- 마케팅 뉴스레터 및 홍보 이메일\n",
       "- 스팸 또는 의심스러운 이메일\n",
       "- 직접적인 질문이 없는 참조용(CC) 스레드\n",
       "\n",
       "또한 알아야 하지만 이메일 응답이 필요하지 않은 것들도 있습니다. 이런 경우 알림(`notify` 응답)을 사용해야 합니다. 예시:\n",
       "- 팀원의 병가 또는 휴가\n",
       "- 빌드 시스템 알림 또는 배포\n",
       "- 조치가 필요 없는 프로젝트 상태 업데이트\n",
       "- 중요한 회사 공지사항\n",
       "- 현재 프로젝트와 관련된 정보가 포함된 참조용 이메일\n",
       "- 인사부 마감일 알림\n",
       "- 구독 상태 / 갱신 알림\n",
       "- GitHub 알림\n",
       "\n",
       "응답할 가치가 있는 이메일:\n",
       "- 전문 지식이 필요한 팀원의 직접적인 질문\n",
       "- 확인이 필요한 회의 요청\n",
       "- 팀 프로젝트와 관련된 심각한 버그 보고\n",
       "- 확인이 필요한 관리자의 요청\n",
       "- 프로젝트 상태나 기능에 대한 클라이언트 문의\n",
       "- 문서, 코드 또는 API에 대한 기술적 질문(특히 누락된 엔드포인트나 기능에 대한 질문)\n",
       "- 가족과 관련된 개인 알림(아내 / 딸)\n",
       "- 자기 관리와 관련된 개인 알림(병원 예약 등)\n"
      ],
      "text/plain": [
       "<IPython.core.display.Markdown object>"
      ]
     },
     "metadata": {},
     "output_type": "display_data"
    }
   ],
   "source": [
    "from email_assistant.prompts import (\n",
    "    default_background,\n",
    "    default_triage_instructions,\n",
    "    triage_system_prompt,\n",
    "    triage_user_prompt,\n",
    ")\n",
    "from email_assistant.utils import format_email_markdown, parse_email\n",
    "from IPython.display import Markdown, display  # noqa: A004\n",
    "\n",
    "\n",
    "print(\"\")\n",
    "print(\"=\" * 20 + \" triage_system_prompt \" + \"=\" * 20)\n",
    "display(Markdown(triage_system_prompt))\n",
    "\n",
    "print(\"\")\n",
    "print(\"=\" * 20 + \" triage_user_prompt \" + \"=\" * 20)\n",
    "display(Markdown(triage_user_prompt))\n",
    "\n",
    "print(\"\")\n",
    "print(\"=\" * 20 + \" default_background \" + \"=\" * 20)\n",
    "display(Markdown(default_background))\n",
    "\n",
    "print(\"\")\n",
    "print(\"=\" * 20 + \" default_triage_instructions \" + \"=\" * 20)\n",
    "display(Markdown(default_triage_instructions))"
   ]
  },
  {
   "cell_type": "code",
   "execution_count": 6,
   "id": "485ce5b8",
   "metadata": {},
   "outputs": [],
   "source": [
    "from typing import Annotated, Literal\n",
    "\n",
    "from pydantic import BaseModel, Field\n",
    "\n",
    "from langchain.chat_models import init_chat_model\n",
    "\n",
    "\n",
    "class RouterSchema(BaseModel):\n",
    "    \"\"\"읽지 않은 이메일을 분석하고 내용에 따라 처리 경로를 지정하십시오.\"\"\"\n",
    "\n",
    "    reasoning: Annotated[str, Field(description=\"분류의 단계별 추론 과정.\")]\n",
    "\n",
    "    classification: Annotated[\n",
    "        Literal[\"ignore\", \"respond\", \"notify\"],\n",
    "        Field(\n",
    "            description=\"이메일 분류: 관련 없는 이메일은 'ignore', \"\n",
    "            \"답변이 필요 없는 중요한 정보는 'respond', \"\n",
    "            \"답변이 필요한 이메일은 'notify'\"\n",
    "        ),\n",
    "    ]\n",
    "\n",
    "\n",
    "llm = init_chat_model(\"openai:gpt-4.1-mini\", temperature=0)\n",
    "llm_router = llm.with_structured_output(RouterSchema)"
   ]
  },
  {
   "cell_type": "code",
   "execution_count": 7,
   "id": "ce74f25c",
   "metadata": {},
   "outputs": [
    {
     "name": "stdout",
     "output_type": "stream",
     "text": [
      "classification: notify\n",
      "reasoning: 이 이메일은 새로운 AI 기반 분석 플랫폼 출시와 관련된 마케팅 프로모션을 알리는 내용으로, 할인 혜택을 제공하며 수신자에게 행동을 유도하고 있습니다. 이는 명백한 광고 및 프로모션 이메일로 분류됩니다.\n"
     ]
    }
   ],
   "source": [
    "response = llm_router.invoke(\"\"\"안녕하세요,\n",
    "저희 새로운 AI 기반 분석 플랫폼 출시를 알려드립니다! 저희 가치 있는 고객님을 위해 처음 3개월간 50% 할인을 제공합니다.\n",
    "이 제한된 기간 동안만 이메일 구독자에게만 제공되는 특별 혜택입니다. 아래 버튼을 클릭하여 할인을 받으세요:\n",
    "[지금 50% 할인 받기]\n",
    "이 오퍼는 48시간 내에 만료됩니다.\n",
    "감사합니다,\n",
    "마케팅팀\"\"\")\n",
    "\n",
    "print(\"classification:\", response.classification)\n",
    "print(\"reasoning:\", response.reasoning)"
   ]
  },
  {
   "cell_type": "code",
   "execution_count": 8,
   "id": "286b54e3",
   "metadata": {},
   "outputs": [],
   "source": [
    "from langgraph.types import Command\n",
    "\n",
    "\n",
    "def triage_router(state: State) -> Command[Literal[\"response_agent\", \"__end__\"]]:\n",
    "    \"\"\"이메일 내용을 분석하여 응답, 알림 또는 무시 여부를 결정합니다.\"\"\"\n",
    "\n",
    "    author, to, subject, email_thread = parse_email(state[\"email_input\"])\n",
    "    system_prompt = triage_system_prompt.format(\n",
    "        background=default_background, triage_instructions=default_triage_instructions\n",
    "    )\n",
    "\n",
    "    user_prompt = triage_user_prompt.format(\n",
    "        author=author, to=to, subject=subject, email_thread=email_thread\n",
    "    )\n",
    "\n",
    "    result = llm_router.invoke(\n",
    "        [\n",
    "            (\"system\", system_prompt),\n",
    "            (\"user\", user_prompt),\n",
    "        ]\n",
    "    )\n",
    "    assert isinstance(result, RouterSchema)\n",
    "\n",
    "    if result.classification == \"respond\":\n",
    "        print(\"📧 분류: 응답 필요 - 이 이메일은 답변이 필요합니다\")\n",
    "        return Command(\n",
    "            goto=\"response_agent\",\n",
    "            update={\n",
    "                \"messages\": [\n",
    "                    (\n",
    "                        \"user\",\n",
    "                        f\"이메일에 답장하세요: \\n\\n{format_email_markdown(subject, author, to, email_thread)}\",\n",
    "                    )\n",
    "                ],\n",
    "                \"classification_decision\": result.classification,\n",
    "            },\n",
    "        )\n",
    "\n",
    "    if result.classification == \"ignore\":\n",
    "        print(\"🚫 분류: 무시 - 이 이메일은 안전하게 무시해도 됩니다\")\n",
    "        return Command(\n",
    "            goto=\"__end__\",\n",
    "            update={\"classification_decision\": result.classification},\n",
    "        )\n",
    "\n",
    "    if result.classification == \"notify\":\n",
    "        print(\"🔔 분류: 알림 - 이 이메일에는 중요한 정보가 포함되어 있습니다\")\n",
    "        return Command(\n",
    "            goto=\"__end__\",\n",
    "            update={\"classification_decision\": result.classification},\n",
    "        )\n",
    "\n",
    "    raise ValueError(f\"Invalid classification: {result.classification}\")\n"
   ]
  },
  {
   "cell_type": "code",
   "execution_count": 9,
   "id": "93978630",
   "metadata": {},
   "outputs": [
    {
     "name": "stdout",
     "output_type": "stream",
     "text": [
      "🚫 분류: 무시 - 이 이메일은 안전하게 무시해도 됩니다\n"
     ]
    },
    {
     "data": {
      "text/plain": [
       "Command(update={'classification_decision': 'ignore'}, goto='__end__')"
      ]
     },
     "execution_count": 9,
     "metadata": {},
     "output_type": "execute_result"
    }
   ],
   "source": [
    "email_input = {\n",
    "    \"email_id\": \"1234\",\n",
    "    \"author\": \"marketing@company.com\",\n",
    "    \"to\": \"user@example.com\",\n",
    "    \"subject\": \"신제품 출시 - 특별 얼리버드 할인 50% 할인\",\n",
    "    \"email_thread\": \"존경하는 고객님,\\n\\n저희의 새로운 AI 기반 분석 플랫폼 출시를 알려드리게 되어 기쁩니다! 소중한 고객님께 첫 3개월 동안 50% 특별 할인을 제공합니다.\\n\\n이 한정된 기간의 혜택은 이메일 구독자분들만 이용하실 수 있습니다. 아래를 클릭하여 할인을 받으세요:\\n\\n[지금 50% 할인 받기]\\n\\n혜택은 48시간 후 종료됩니다.\\n\\n감사합니다,\\n마케팅 팀 드림\",\n",
    "}\n",
    "\n",
    "response = triage_router({\"email_input\": email_input})\n",
    "response"
   ]
  },
  {
   "cell_type": "markdown",
   "id": "dd7fc132",
   "metadata": {},
   "source": [
    "LangGraph에서는 [Command](https://langchain-ai.github.io/langgraph/how-tos/command/) 객체를 사용하여 상태를 업데이트하고 다음 방문할 노드를 선택합니다. 이는 엣지에 대한 유용한 대안입니다.\n",
    "\n",
    "### 에이전트\n",
    "\n",
    "이제 에이전트를 구축해보겠습니다.\n",
    "\n",
    "#### LLM 노드\n",
    "\n",
    "여기서는 LLM 의사결정 노드를 정의합니다. 이 노드는 현재 상태를 받아 LLM을 호출하고, LLM 출력으로 `messages`를 업데이트합니다.\n",
    "\n",
    "`tool_choice=\"required\"`를 설정하여 [OpenAI로 도구 사용을 강제](https://python.langchain.com/docs/how_to/tool_choice/)합니다."
   ]
  },
  {
   "cell_type": "code",
   "execution_count": null,
   "id": "f225fb70",
   "metadata": {},
   "outputs": [],
   "source": []
  },
  {
   "cell_type": "code",
   "execution_count": 10,
   "id": "7eb6da08",
   "metadata": {},
   "outputs": [
    {
     "name": "stdout",
     "output_type": "stream",
     "text": [
      "\n",
      "==================== AGENT_TOOLS_PROMPT ====================\n"
     ]
    },
    {
     "data": {
      "text/markdown": [
       "\n",
       "1. write_email(to, subject, content) - 지정된 수신자에게 이메일 전송\n",
       "2. schedule_meeting(attendees, subject, duration_minutes, preferred_day, start_time) - 일정 회의 예약 (preferred_day는 datetime 객체)\n",
       "3. check_calendar_availability(day) - 특정 날짜의 가능한 시간대 확인\n",
       "4. Done - 이메일 전송 완료\n"
      ],
      "text/plain": [
       "<IPython.core.display.Markdown object>"
      ]
     },
     "metadata": {},
     "output_type": "display_data"
    },
    {
     "name": "stdout",
     "output_type": "stream",
     "text": [
      "\n",
      "==================== agent_system_prompt ====================\n"
     ]
    },
    {
     "data": {
      "text/markdown": [
       "\n",
       "< 역할 >\n",
       "당신은 임원이 최상의 성과를 낼 수 있도록 돕는 최고 수준의 비서입니다.\n",
       "</ 역할 >\n",
       "\n",
       "< 도구 >\n",
       "커뮤니케이션과 일정 관리를 위해 다음 도구들을 사용할 수 있습니다:\n",
       "{tools_prompt}\n",
       "</ 도구 >\n",
       "\n",
       "< 지침 >\n",
       "이메일을 처리할 때 다음 단계를 따르세요:\n",
       "1. 이메일 내용과 목적을 주의 깊게 분석합니다\n",
       "2. 중요 --- 항상 도구를 호출하며, 작업이 완료될 때까지 한 번에 하나의 도구만 호출하세요:\n",
       "3. 이메일에 응답하려면 write_email 도구로 답장 이메일을 작성합니다\n",
       "4. 회의 요청의 경우 check_calendar_availability 도구를 사용하여 가능한 시간대를 찾습니다\n",
       "5. 회의를 예약하려면 schedule_meeting 도구를 사용하되, preferred_day 매개변수에 datetime 객체를 전달하세요\n",
       "   - 오늘 날짜는 2025-10-25입니다 - 회의 예약 시 이를 정확히 사용하세요\n",
       "6. 회의를 예약했다면 write_email 도구를 사용하여 짧은 답장 이메일을 작성합니다\n",
       "7. write_email 도구를 사용한 후 작업이 완료됩니다\n",
       "8. 이메일을 보냈다면 Done 도구를 사용하여 작업이 완료되었음을 표시합니다\n",
       "</ 지침 >\n",
       "\n",
       "< 배경 >\n",
       "{background}\n",
       "</ 배경 >\n",
       "\n",
       "< 응답 선호사항 >\n",
       "{response_preferences}\n",
       "</ 응답 선호사항 >\n",
       "\n",
       "< 일정 선호사항 >\n",
       "{cal_preferences}\n",
       "</ 일정 선호사항 >\n"
      ],
      "text/plain": [
       "<IPython.core.display.Markdown object>"
      ]
     },
     "metadata": {},
     "output_type": "display_data"
    },
    {
     "name": "stdout",
     "output_type": "stream",
     "text": [
      "\n",
      "==================== default_cal_preferences ====================\n"
     ]
    },
    {
     "data": {
      "text/markdown": [
       "\n",
       "30분 회의가 선호되지만, 15분 회의도 괜찮습니다.\n"
      ],
      "text/plain": [
       "<IPython.core.display.Markdown object>"
      ]
     },
     "metadata": {},
     "output_type": "display_data"
    },
    {
     "name": "stdout",
     "output_type": "stream",
     "text": [
      "\n",
      "==================== default_response_preferences ====================\n"
     ]
    },
    {
     "data": {
      "text/markdown": [
       "\n",
       "전문적이고 간결한 언어를 사용하세요. 이메일에 마감일이 언급되어 있다면 응답에서 마감일을 명시적으로 인지하고 언급해야 합니다.\n",
       "\n",
       "조사가 필요한 기술적 질문에 응답할 때:\n",
       "- 조사할 것인지 또는 누구에게 물어볼 것인지 명확히 명시하세요\n",
       "- 더 많은 정보를 얻거나 작업을 완료할 예상 시간을 제공하세요\n",
       "\n",
       "행사 또는 컨퍼런스 초대에 응답할 때:\n",
       "- 언급된 모든 마감일(특히 등록 마감일)을 항상 인지하세요\n",
       "- 워크샵이나 특정 주제가 언급되었다면 더 구체적인 세부 정보를 요청하세요\n",
       "- 할인(단체 또는 조기 등록)이 언급되었다면 명시적으로 정보를 요청하세요\n",
       "- 참여를 확정하지 마세요\n",
       "\n",
       "협업 또는 프로젝트 관련 요청에 응답할 때:\n",
       "- 언급된 기존 작업물이나 자료(초안, 슬라이드, 문서 등)를 인지하세요\n",
       "- 회의 전이나 회의 중 이러한 자료를 검토할 것임을 명시적으로 언급하세요\n",
       "- 회의를 예약할 때 제안된 구체적인 요일, 날짜, 시간을 명확히 명시하세요\n",
       "\n",
       "회의 일정 요청에 응답할 때:\n",
       "- 시간이 제안되었다면 원본 이메일에 언급된 모든 시간대의 일정 가능 여부를 확인한 후, 가능한 시간 중 하나를 회의로 예약하여 확정하세요. 또는 제안된 시간에 참석할 수 없다고 말하세요.\n",
       "- 시간이 제안되지 않았다면 일정을 확인하여 하나만 선택하는 대신 가능한 여러 시간 옵션을 제안하세요.\n",
       "- 응답에 회의 소요 시간을 언급하여 정확히 파악했음을 확인하세요.\n",
       "- 응답에서 회의 목적을 언급하세요.\n"
      ],
      "text/plain": [
       "<IPython.core.display.Markdown object>"
      ]
     },
     "metadata": {},
     "output_type": "display_data"
    }
   ],
   "source": [
    "from email_assistant.prompt_templates import AGENT_TOOLS_PROMPT\n",
    "from email_assistant.prompts import (\n",
    "    agent_system_prompt,\n",
    "    default_cal_preferences,\n",
    "    default_response_preferences,\n",
    ")\n",
    "\n",
    "\n",
    "print(\"\")\n",
    "print(\"=\" * 20 + \" AGENT_TOOLS_PROMPT \" + \"=\" * 20)\n",
    "display(Markdown(AGENT_TOOLS_PROMPT))\n",
    "\n",
    "print(\"\")\n",
    "print(\"=\" * 20 + \" agent_system_prompt \" + \"=\" * 20)\n",
    "display(Markdown(agent_system_prompt))\n",
    "\n",
    "print(\"\")\n",
    "print(\"=\" * 20 + \" default_cal_preferences \" + \"=\" * 20)\n",
    "display(Markdown(default_cal_preferences))\n",
    "\n",
    "print(\"\")\n",
    "print(\"=\" * 20 + \" default_response_preferences \" + \"=\" * 20)\n",
    "display(Markdown(default_response_preferences))"
   ]
  },
  {
   "cell_type": "code",
   "execution_count": 11,
   "id": "78871281",
   "metadata": {},
   "outputs": [
    {
     "data": {
      "text/plain": [
       "{'write_email': StructuredTool(name='write_email', description='이메일을 작성하여 보냅니다.', args_schema=<class 'langchain_core.utils.pydantic.write_email'>, func=<function write_email at 0x10f1df9c0>),\n",
       " 'schedule_meeting': StructuredTool(name='schedule_meeting', description='캘린더에 회의를 예약합니다.', args_schema=<class 'langchain_core.utils.pydantic.schedule_meeting'>, func=<function schedule_meeting at 0x10f1df920>),\n",
       " 'check_calendar_availability': StructuredTool(name='check_calendar_availability', description='특정 날짜의 캘린더 가능 시간을 확인합니다.', args_schema=<class 'langchain_core.utils.pydantic.check_calendar_availability'>, func=<function check_calendar_availability at 0x1105bcd60>)}"
      ]
     },
     "execution_count": 11,
     "metadata": {},
     "output_type": "execute_result"
    }
   ],
   "source": [
    "# Collect all tools\n",
    "tools = [write_email, schedule_meeting, check_calendar_availability]\n",
    "tools_by_name = {tool.name: tool for tool in tools}\n",
    "tools_by_name"
   ]
  },
  {
   "cell_type": "code",
   "execution_count": 34,
   "id": "3245b746",
   "metadata": {},
   "outputs": [],
   "source": [
    "# LLM 초기화, 도구 강제 사용 적용\n",
    "llm = init_chat_model(\"openai:gpt-4.1-mini\", temperature=0)\n",
    "llm_with_tools = llm.bind_tools(tools, tool_choice=\"any\", parallel_tool_calls=False)"
   ]
  },
  {
   "cell_type": "code",
   "execution_count": 35,
   "id": "ba8c737e",
   "metadata": {},
   "outputs": [
    {
     "name": "stdout",
     "output_type": "stream",
     "text": [
      "==================================\u001b[1m Ai Message \u001b[0m==================================\n",
      "Tool Calls:\n",
      "  write_email (call_06wlti9t3GfzkTxOkIzk9vOq)\n",
      " Call ID: call_06wlti9t3GfzkTxOkIzk9vOq\n",
      "  Args:\n",
      "    to: user@example.com\n",
      "    subject: 안녕하세요\n",
      "    content: 안녕하세요! 무엇을 도와드릴까요?\n"
     ]
    }
   ],
   "source": [
    "response = llm_with_tools.invoke(\"안녕하세요.\")\n",
    "response.pretty_print()"
   ]
  },
  {
   "cell_type": "code",
   "execution_count": 36,
   "id": "4ab98111",
   "metadata": {},
   "outputs": [
    {
     "name": "stdout",
     "output_type": "stream",
     "text": [
      "\n",
      "< 역할 >\n",
      "당신은 임원이 최상의 성과를 낼 수 있도록 돕는 최고 수준의 비서입니다.\n",
      "</ 역할 >\n",
      "\n",
      "< 도구 >\n",
      "커뮤니케이션과 일정 관리를 위해 다음 도구들을 사용할 수 있습니다:\n",
      "\n",
      "1. write_email(to, subject, content) - 지정된 수신자에게 이메일 전송\n",
      "2. schedule_meeting(attendees, subject, duration_minutes, preferred_day, start_time) - 일정 회의 예약 (preferred_day는 datetime 객체)\n",
      "3. check_calendar_availability(day) - 특정 날짜의 가능한 시간대 확인\n",
      "4. Done - 이메일 전송 완료\n",
      "\n",
      "</ 도구 >\n",
      "\n",
      "< 지침 >\n",
      "이메일을 처리할 때 다음 단계를 따르세요:\n",
      "1. 이메일 내용과 목적을 주의 깊게 분석합니다\n",
      "2. 중요 --- 항상 도구를 호출하며, 작업이 완료될 때까지 한 번에 하나의 도구만 호출하세요:\n",
      "3. 이메일에 응답하려면 write_email 도구로 답장 이메일을 작성합니다\n",
      "4. 회의 요청의 경우 check_calendar_availability 도구를 사용하여 가능한 시간대를 찾습니다\n",
      "5. 회의를 예약하려면 schedule_meeting 도구를 사용하되, preferred_day 매개변수에 datetime 객체를 전달하세요\n",
      "   - 오늘 날짜는 2025-10-25입니다 - 회의 예약 시 이를 정확히 사용하세요\n",
      "6. 회의를 예약했다면 write_email 도구를 사용하여 짧은 답장 이메일을 작성합니다\n",
      "7. write_email 도구를 사용한 후 작업이 완료됩니다\n",
      "8. 이메일을 보냈다면 Done 도구를 사용하여 작업이 완료되었음을 표시합니다\n",
      "</ 지침 >\n",
      "\n",
      "< 배경 >\n",
      "\n",
      "저는 Lance이고, LangChain의 소프트웨어 엔지니어입니다.\n",
      "\n",
      "</ 배경 >\n",
      "\n",
      "< 응답 선호사항 >\n",
      "\n",
      "전문적이고 간결한 언어를 사용하세요. 이메일에 마감일이 언급되어 있다면 응답에서 마감일을 명시적으로 인지하고 언급해야 합니다.\n",
      "\n",
      "조사가 필요한 기술적 질문에 응답할 때:\n",
      "- 조사할 것인지 또는 누구에게 물어볼 것인지 명확히 명시하세요\n",
      "- 더 많은 정보를 얻거나 작업을 완료할 예상 시간을 제공하세요\n",
      "\n",
      "행사 또는 컨퍼런스 초대에 응답할 때:\n",
      "- 언급된 모든 마감일(특히 등록 마감일)을 항상 인지하세요\n",
      "- 워크샵이나 특정 주제가 언급되었다면 더 구체적인 세부 정보를 요청하세요\n",
      "- 할인(단체 또는 조기 등록)이 언급되었다면 명시적으로 정보를 요청하세요\n",
      "- 참여를 확정하지 마세요\n",
      "\n",
      "협업 또는 프로젝트 관련 요청에 응답할 때:\n",
      "- 언급된 기존 작업물이나 자료(초안, 슬라이드, 문서 등)를 인지하세요\n",
      "- 회의 전이나 회의 중 이러한 자료를 검토할 것임을 명시적으로 언급하세요\n",
      "- 회의를 예약할 때 제안된 구체적인 요일, 날짜, 시간을 명확히 명시하세요\n",
      "\n",
      "회의 일정 요청에 응답할 때:\n",
      "- 시간이 제안되었다면 원본 이메일에 언급된 모든 시간대의 일정 가능 여부를 확인한 후, 가능한 시간 중 하나를 회의로 예약하여 확정하세요. 또는 제안된 시간에 참석할 수 없다고 말하세요.\n",
      "- 시간이 제안되지 않았다면 일정을 확인하여 하나만 선택하는 대신 가능한 여러 시간 옵션을 제안하세요.\n",
      "- 응답에 회의 소요 시간을 언급하여 정확히 파악했음을 확인하세요.\n",
      "- 응답에서 회의 목적을 언급하세요.\n",
      "\n",
      "</ 응답 선호사항 >\n",
      "\n",
      "< 일정 선호사항 >\n",
      "\n",
      "30분 회의가 선호되지만, 15분 회의도 괜찮습니다.\n",
      "\n",
      "</ 일정 선호사항 >\n",
      "\n"
     ]
    }
   ],
   "source": [
    "system_prompt = agent_system_prompt.format(\n",
    "    tools_prompt=AGENT_TOOLS_PROMPT,\n",
    "    background=default_background,\n",
    "    response_preferences=default_response_preferences,\n",
    "    cal_preferences=default_cal_preferences,\n",
    ")\n",
    "print(system_prompt)"
   ]
  },
  {
   "cell_type": "code",
   "execution_count": 37,
   "id": "e7aad3a6",
   "metadata": {},
   "outputs": [],
   "source": [
    "def llm_call(state: State):\n",
    "    \"\"\"LLM은 도구를 호출할지 여부를 결정합니다.\"\"\"\n",
    "\n",
    "    response = llm_with_tools.invoke([(\"system\", system_prompt)] + state[\"messages\"])\n",
    "\n",
    "    return {\"messages\": [response]}"
   ]
  },
  {
   "cell_type": "code",
   "execution_count": 38,
   "id": "0f75e01b",
   "metadata": {},
   "outputs": [
    {
     "name": "stdout",
     "output_type": "stream",
     "text": [
      "==================================\u001b[1m Ai Message \u001b[0m==================================\n",
      "Tool Calls:\n",
      "  write_email (call_HLsHKCJKncvXd5oVm18YRPfH)\n",
      " Call ID: call_HLsHKCJKncvXd5oVm18YRPfH\n",
      "  Args:\n",
      "    to: Lance\n",
      "    subject: 역할 및 지원 가능 업무 안내\n",
      "    content: 안녕하세요, Lance님.\n",
      "\n",
      "저는 임원이 최상의 성과를 낼 수 있도록 돕는 최고 수준의 비서입니다. 주요 역할은 다음과 같습니다:\n",
      "\n",
      "1. 이메일 작성 및 발송 지원\n",
      "2. 일정 및 회의 예약 관리\n",
      "3. 회의 일정 조율 및 확인\n",
      "4. 전문적이고 간결한 커뮤니케이션 지원\n",
      "\n",
      "필요하신 업무가 있으시면 언제든 말씀해 주세요. 최선을 다해 도와드리겠습니다.\n",
      "\n",
      "감사합니다.\n"
     ]
    }
   ],
   "source": [
    "response = llm_call(\n",
    "    {\n",
    "        \"messages\": [\n",
    "            (\"user\", \"안녕하세요. 당신은 무엇을 할 수 있나요?\"),\n",
    "        ]\n",
    "    }\n",
    ")\n",
    "response[\"messages\"][-1].pretty_print()"
   ]
  },
  {
   "cell_type": "markdown",
   "id": "48b3be10",
   "metadata": {},
   "source": [
    "#### 도구 핸들러 노드\n",
    "\n",
    "LLM이 결정을 내린 후, 선택된 도구를 실행해야 합니다.\n",
    "\n",
    "`tool_handler` 노드는 도구를 실행합니다. 노드가 분류 결정과 같은 중요한 상태 변경을 캡처하기 위해 그래프 상태를 업데이트할 수 있음을 확인할 수 있습니다."
   ]
  },
  {
   "cell_type": "code",
   "execution_count": 39,
   "id": "4effc67b",
   "metadata": {},
   "outputs": [],
   "source": [
    "from langchain_core.messages import AIMessage, ToolMessage\n",
    "\n",
    "\n",
    "def tool_handler(state: State):\n",
    "    \"\"\"도구 호출을 수행합니다.\"\"\"\n",
    "\n",
    "    last_message = state[\"messages\"][-1]\n",
    "    assert isinstance(last_message, AIMessage)\n",
    "\n",
    "    results: list[ToolMessage] = []\n",
    "\n",
    "    for tool_call in last_message.tool_calls:\n",
    "        tool_name = tool_call[\"name\"]\n",
    "        tool_call_id = tool_call[\"id\"]\n",
    "        tool_args = tool_call[\"args\"]\n",
    "\n",
    "        tool = tools_by_name[tool_name]\n",
    "        observation = tool.invoke(tool_args)\n",
    "        results.append(ToolMessage(observation, tool_call_id=tool_call_id))\n",
    "\n",
    "    return {\"messages\": results}"
   ]
  },
  {
   "cell_type": "markdown",
   "id": "dde4cdff",
   "metadata": {},
   "source": [
    "#### 조건부 라우팅\n",
    "\n",
    "에이전트는 도구를 계속 사용할 시점과 중단할 시점을 결정해야 합니다. \n",
    "\n",
    "이 조건부 라우팅 함수는 에이전트가 계속 진행하거나 종료하도록 지시합니다."
   ]
  },
  {
   "cell_type": "code",
   "execution_count": 40,
   "id": "d2dd7017",
   "metadata": {},
   "outputs": [],
   "source": [
    "def should_continue(state: State) -> Literal[\"tool_handler\", \"__end__\"]:\n",
    "    \"\"\"도구 핸들러로 이동하거나, Done 도구 호출 시 종료.\"\"\"\n",
    "\n",
    "    messages = state[\"messages\"]\n",
    "    last_message = messages[-1]\n",
    "    assert isinstance(last_message, AIMessage)\n",
    "\n",
    "    if last_message.tool_calls:\n",
    "        for tool_call in last_message.tool_calls:\n",
    "            if tool_call[\"name\"] == \"Done\":\n",
    "                return \"__end__\"\n",
    "            return \"tool_handler\"\n",
    "\n",
    "    return \"__end__\""
   ]
  },
  {
   "cell_type": "markdown",
   "id": "a2919833",
   "metadata": {},
   "source": [
    "#### 에이전트 그래프\n",
    "\n",
    "마지막으로, 모든 구성 요소를 조립합니다."
   ]
  },
  {
   "cell_type": "code",
   "execution_count": 41,
   "id": "c1b4d797",
   "metadata": {},
   "outputs": [],
   "source": [
    "from langgraph.graph import END, START, StateGraph\n",
    "\n",
    "\n",
    "overall_workflow = StateGraph(State)\n",
    "overall_workflow.add_node(\"llm_call\", llm_call)\n",
    "overall_workflow.add_node(\"tool_handler\", tool_handler)\n",
    "\n",
    "overall_workflow.add_edge(START, \"llm_call\")\n",
    "overall_workflow.add_conditional_edges(\n",
    "    \"llm_call\",\n",
    "    should_continue,\n",
    "    {\n",
    "        \"tool_handler\": \"tool_handler\",\n",
    "        END: END,\n",
    "    },\n",
    ")\n",
    "overall_workflow.add_edge(\"tool_handler\", \"llm_call\")\n",
    "\n",
    "agent = overall_workflow.compile()"
   ]
  },
  {
   "cell_type": "code",
   "execution_count": 42,
   "id": "630ee501",
   "metadata": {},
   "outputs": [
    {
     "data": {
      "image/png": "[encoded data removed]",
      "text/plain": [
       "<langgraph.graph.state.CompiledStateGraph object at 0x111cd01d0>"
      ]
     },
     "execution_count": 42,
     "metadata": {},
     "output_type": "execute_result"
    }
   ],
   "source": [
    "agent"
   ]
  },
  {
   "cell_type": "markdown",
   "id": "5c7e1f1b",
   "metadata": {},
   "source": [
    "다음과 같이 동작하는 그래프가 생성됩니다.\n",
    "\n",
    "1. LLM 결정으로 시작\n",
    "2. 도구 실행 또는 종료로 조건부 라우팅\n",
    "3. 도구 실행 후, 다음 결정을 위해 LLM으로 복귀\n",
    "4. 완료되거나 도구가 호출되지 않을 때까지 반복"
   ]
  },
  {
   "cell_type": "markdown",
   "id": "236205d2",
   "metadata": {},
   "source": [
    "### 라우터와 에이전트를 결합한 워크플로\n",
    "\n",
    "라우터와 에이전트를 결합할 수 있습니다."
   ]
  },
  {
   "cell_type": "code",
   "execution_count": 43,
   "id": "6271f013",
   "metadata": {},
   "outputs": [],
   "source": [
    "app_with_router = (\n",
    "    StateGraph(State)\n",
    "    .add_node(triage_router)\n",
    "    .add_node(\"response_agent\", agent)\n",
    "    .set_entry_point(\"triage_router\")\n",
    ").compile()"
   ]
  },
  {
   "cell_type": "code",
   "execution_count": 44,
   "id": "85df1ff6",
   "metadata": {},
   "outputs": [
    {
     "data": {
      "image/png": "[encoded data removed]",
      "text/plain": [
       "<langgraph.graph.state.CompiledStateGraph object at 0x112114cb0>"
      ]
     },
     "execution_count": 44,
     "metadata": {},
     "output_type": "execute_result"
    }
   ],
   "source": [
    "app_with_router"
   ]
  },
  {
   "cell_type": "code",
   "execution_count": 45,
   "id": "51d68f6c",
   "metadata": {},
   "outputs": [
    {
     "data": {
      "image/png": "[encoded data removed]",
      "text/plain": [
       "<IPython.core.display.Image object>"
      ]
     },
     "metadata": {},
     "output_type": "display_data"
    }
   ],
   "source": [
    "from IPython.display import Image\n",
    "\n",
    "\n",
    "display(Image(app_with_router.get_graph(xray=True).draw_mermaid_png()))"
   ]
  },
  {
   "cell_type": "markdown",
   "id": "aa190dc1",
   "metadata": {},
   "source": [
    "이것은 higher-level composition으로, 다음과 같은 단계로 실행됩니다.\n",
    "\n",
    "1. 먼저 분류 라우터가 이메일을 분석합니다\n",
    "2. 필요한 경우 응답 에이전트가 응답 작성 작업을 처리합니다\n",
    "3. 분류에서 응답이 필요 없다고 판단하거나 응답 에이전트가 작업을 완료하면 워크플로가 종료됩니다"
   ]
  },
  {
   "cell_type": "code",
   "execution_count": null,
   "id": "c6b8f9ce",
   "metadata": {},
   "outputs": [
    {
     "name": "stdout",
     "output_type": "stream",
     "text": [
      "🔔 분류: 알림 - 이 이메일에는 중요한 정보가 포함되어 있습니다\n"
     ]
    }
   ],
   "source": [
    "email_input = {\n",
    "    \"author\": \"시스템 관리자 <sysadmin@company.com>\",\n",
    "    \"to\": \"개발팀 <dev@company.com>\",\n",
    "    \"subject\": \"예정된 유지보수 - 데이터베이스 가동 중단\",\n",
    "    \"email_thread\": \"개발팀 여러분,\\n\\n오늘 밤 미국 동부 표준시 기준 오전 2시부터 4시까지 프로덕션 데이터베이스에 대한 정기 점검을 실시할 예정임을 알려드립니다. 이 시간 동안 모든 데이터베이스 서비스가 이용 불가합니다.\\n\\n해당 시간대에 중요한 배포 작업이 계획되지 않도록 업무 일정을 조정해 주시기 바랍니다.\\n\\n감사합니다,\\n시스템 관리팀\",\n",
    "}\n",
    "\n",
    "response = app_with_router.invoke({\"email_input\": email_input})\n",
    "for msg in response[\"messages\"]:\n",
    "    msg.pretty_print()"
   ]
  },
  {
   "cell_type": "code",
   "execution_count": 49,
   "id": "482ec34e",
   "metadata": {},
   "outputs": [
    {
     "name": "stdout",
     "output_type": "stream",
     "text": [
      "📧 분류: 응답 필요 - 이 이메일은 답변이 필요합니다\n",
      "\n",
      "==================================================\n",
      "🔄 Node: \u001b[1;36mtriage_router\u001b[0m 🔄\n",
      "- - - - - - - - - - - - - - - - - - - - - - - - - \n",
      "('user', '이메일에 답장하세요: \\n\\n\\n\\n**Subject**: API 문서에 관한 간단한 질문입니다\\n**From**: 앨리스 스미스 <alice.smith@company.com>\\n**To**: 존 도이 <john.doe@company.com>\\n\\n존 씨, 안녕하세요.\\n새 인증 서비스의 API 문서를 검토하던 중 몇 가지 엔드포인트가 사양에서 누락된 것 같습니다. 이것이 의도된 것인지, 아니면 문서를 업데이트해야 하는지 확인해 주실 수 있나요?\\n구체적으로 살펴본 엔드포인트는 다음과 같습니다:\\n- /auth/refresh\\n- /auth/validate\\n감사합니다!\\n앨리스\\n\\n---\\n')\n",
      "\u001b[1;32mclassification_decision\u001b[0m:\n",
      "respond\n",
      "==================================================\n",
      "\n",
      "==================================================\n",
      "🔄 Node: \u001b[1;36mllm_call\u001b[0m in [\u001b[1;33mresponse_agent\u001b[0m] 🔄\n",
      "- - - - - - - - - - - - - - - - - - - - - - - - - \n",
      "==================================\u001b[1m Ai Message \u001b[0m==================================\n",
      "Tool Calls:\n",
      "  write_email (call_6mBGrffs6tfl4zaQvZ5V6vsr)\n",
      " Call ID: call_6mBGrffs6tfl4zaQvZ5V6vsr\n",
      "  Args:\n",
      "    to: alice.smith@company.com\n",
      "    subject: Re: API 문서에 관한 간단한 질문입니다\n",
      "    content: 앨리스 님, 안녕하세요.\n",
      "\n",
      "새 인증 서비스의 API 문서 관련하여 문의 주신 /auth/refresh 및 /auth/validate 엔드포인트 누락 여부에 대해 확인 중입니다. 문서가 의도된 대로 작성된 것인지, 아니면 업데이트가 필요한지 내부적으로 검토 후 빠르게 답변 드리겠습니다.\n",
      "\n",
      "추가로 궁금하신 점 있으면 언제든 말씀해 주세요.\n",
      "\n",
      "감사합니다.\n",
      "존 도이 드림\n",
      "==================================================\n",
      "\n",
      "==================================================\n",
      "🔄 Node: \u001b[1;36mtool_handler\u001b[0m in [\u001b[1;33mresponse_agent\u001b[0m] 🔄\n",
      "- - - - - - - - - - - - - - - - - - - - - - - - - \n",
      "=================================\u001b[1m Tool Message \u001b[0m=================================\n",
      "\n",
      "alice.smith@company.com에게 발송된 이메일, 제목: 'Re: API 문서에 관한 간단한 질문입니다', 내용: 앨리스 님, 안녕하세요.\n",
      "\n",
      "새 인증 서비스의 API 문서 관련하여 문의 주신 /auth/refresh 및 /auth/validate 엔드포인트 누락 여부에 대해 확인 중입니다. 문서가 의도된 대로 작성된 것인지, 아니면 업데이트가 필요한지 내부적으로 검토 후 빠르게 답변 드리겠습니다.\n",
      "\n",
      "추가로 궁금하신 점 있으면 언제든 말씀해 주세요.\n",
      "\n",
      "감사합니다.\n",
      "존 도이 드림\n",
      "==================================================\n",
      "\n",
      "==================================================\n",
      "🔄 Node: \u001b[1;36mllm_call\u001b[0m in [\u001b[1;33mresponse_agent\u001b[0m] 🔄\n",
      "- - - - - - - - - - - - - - - - - - - - - - - - - \n",
      "==================================\u001b[1m Ai Message \u001b[0m==================================\n",
      "Tool Calls:\n",
      "  write_email (call_vdIvprCaFCCe3f9eEKJtbUVU)\n",
      " Call ID: call_vdIvprCaFCCe3f9eEKJtbUVU\n",
      "  Args:\n",
      "==================================================\n"
     ]
    },
    {
     "ename": "ValidationError",
     "evalue": "3 validation errors for write_email\nto\n  Field required [type=missing, input_value={}, input_type=dict]\n    For further information visit https://errors.pydantic.dev/2.11/v/missing\nsubject\n  Field required [type=missing, input_value={}, input_type=dict]\n    For further information visit https://errors.pydantic.dev/2.11/v/missing\ncontent\n  Field required [type=missing, input_value={}, input_type=dict]\n    For further information visit https://errors.pydantic.dev/2.11/v/missing",
     "output_type": "error",
     "traceback": [
      "\u001b[31m---------------------------------------------------------------------------\u001b[39m",
      "\u001b[31mValidationError\u001b[39m                           Traceback (most recent call last)",
      "\u001b[36mCell\u001b[39m\u001b[36m \u001b[39m\u001b[32mIn[49]\u001b[39m\u001b[32m, line 14\u001b[39m\n\u001b[32m      5\u001b[39m email_input = {\n\u001b[32m      6\u001b[39m     \u001b[33m\"\u001b[39m\u001b[33mauthor\u001b[39m\u001b[33m\"\u001b[39m: \u001b[33m\"\u001b[39m\u001b[33m앨리스 스미스 <alice.smith@company.com>\u001b[39m\u001b[33m\"\u001b[39m,\n\u001b[32m      7\u001b[39m     \u001b[33m\"\u001b[39m\u001b[33mto\u001b[39m\u001b[33m\"\u001b[39m: \u001b[33m\"\u001b[39m\u001b[33m존 도이 <john.doe@company.com>\u001b[39m\u001b[33m\"\u001b[39m,\n\u001b[32m      8\u001b[39m     \u001b[33m\"\u001b[39m\u001b[33msubject\u001b[39m\u001b[33m\"\u001b[39m: \u001b[33m\"\u001b[39m\u001b[33mAPI 문서에 관한 간단한 질문입니다\u001b[39m\u001b[33m\"\u001b[39m,\n\u001b[32m      9\u001b[39m     \u001b[33m\"\u001b[39m\u001b[33memail_thread\u001b[39m\u001b[33m\"\u001b[39m: \u001b[33m\"\u001b[39m\u001b[33m존 씨, 안녕하세요.\u001b[39m\u001b[38;5;130;01m\\n\u001b[39;00m\u001b[33m새 인증 서비스의 API 문서를 검토하던 중 몇 가지 엔드포인트가 사양에서 누락된 것 같습니다. 이것이 의도된 것인지, 아니면 문서를 업데이트해야 하는지 확인해 주실 수 있나요?\u001b[39m\u001b[38;5;130;01m\\n\u001b[39;00m\u001b[33m구체적으로 살펴본 엔드포인트는 다음과 같습니다:\u001b[39m\u001b[38;5;130;01m\\n\u001b[39;00m\u001b[33m- /auth/refresh\u001b[39m\u001b[38;5;130;01m\\n\u001b[39;00m\u001b[33m- /auth/validate\u001b[39m\u001b[38;5;130;01m\\n\u001b[39;00m\u001b[33m감사합니다!\u001b[39m\u001b[38;5;130;01m\\n\u001b[39;00m\u001b[33m앨리스\u001b[39m\u001b[33m\"\u001b[39m,\n\u001b[32m     10\u001b[39m }\n\u001b[32m     12\u001b[39m config = RunnableConfig(configurable={\u001b[33m\"\u001b[39m\u001b[33mthread_id\u001b[39m\u001b[33m\"\u001b[39m: \u001b[33m\"\u001b[39m\u001b[33m1\u001b[39m\u001b[33m\"\u001b[39m})\n\u001b[32m---> \u001b[39m\u001b[32m14\u001b[39m \u001b[43minvoke_graph\u001b[49m\u001b[43m(\u001b[49m\n\u001b[32m     15\u001b[39m \u001b[43m    \u001b[49m\u001b[43mgraph\u001b[49m\u001b[43m=\u001b[49m\u001b[43mapp_with_router\u001b[49m\u001b[43m,\u001b[49m\n\u001b[32m     16\u001b[39m \u001b[43m    \u001b[49m\u001b[43minputs\u001b[49m\u001b[43m=\u001b[49m\u001b[43m{\u001b[49m\u001b[33;43m\"\u001b[39;49m\u001b[33;43memail_input\u001b[39;49m\u001b[33;43m\"\u001b[39;49m\u001b[43m:\u001b[49m\u001b[43m \u001b[49m\u001b[43memail_input\u001b[49m\u001b[43m}\u001b[49m\u001b[43m,\u001b[49m\n\u001b[32m     17\u001b[39m \u001b[43m    \u001b[49m\u001b[43mconfig\u001b[49m\u001b[43m=\u001b[49m\u001b[43mconfig\u001b[49m\n\u001b[32m     18\u001b[39m \u001b[43m)\u001b[49m\n",
      "\u001b[36mFile \u001b[39m\u001b[32m~/Workspace/Wantedlab/langchain-academy/.venv/lib/python3.12/site-packages/langchain_teddynote/messages.py:409\u001b[39m, in \u001b[36minvoke_graph\u001b[39m\u001b[34m(graph, inputs, config, node_names, callback)\u001b[39m\n\u001b[32m    406\u001b[39m     \u001b[38;5;28;01mreturn\u001b[39;00m namespace[-\u001b[32m1\u001b[39m].split(\u001b[33m\"\u001b[39m\u001b[33m:\u001b[39m\u001b[33m\"\u001b[39m)[\u001b[32m0\u001b[39m] \u001b[38;5;28;01mif\u001b[39;00m \u001b[38;5;28mlen\u001b[39m(namespace) > \u001b[32m0\u001b[39m \u001b[38;5;28;01melse\u001b[39;00m \u001b[33m\"\u001b[39m\u001b[33mroot graph\u001b[39m\u001b[33m\"\u001b[39m\n\u001b[32m    408\u001b[39m \u001b[38;5;66;03m# subgraphs=True 를 통해 서브그래프의 출력도 포함\u001b[39;00m\n\u001b[32m--> \u001b[39m\u001b[32m409\u001b[39m \u001b[43m\u001b[49m\u001b[38;5;28;43;01mfor\u001b[39;49;00m\u001b[43m \u001b[49m\u001b[43mnamespace\u001b[49m\u001b[43m,\u001b[49m\u001b[43m \u001b[49m\u001b[43mchunk\u001b[49m\u001b[43m \u001b[49m\u001b[38;5;129;43;01min\u001b[39;49;00m\u001b[43m \u001b[49m\u001b[43mgraph\u001b[49m\u001b[43m.\u001b[49m\u001b[43mstream\u001b[49m\u001b[43m(\u001b[49m\n\u001b[32m    410\u001b[39m \u001b[43m    \u001b[49m\u001b[43minputs\u001b[49m\u001b[43m,\u001b[49m\u001b[43m \u001b[49m\u001b[43mconfig\u001b[49m\u001b[43m,\u001b[49m\u001b[43m \u001b[49m\u001b[43mstream_mode\u001b[49m\u001b[43m=\u001b[49m\u001b[33;43m\"\u001b[39;49m\u001b[33;43mupdates\u001b[39;49m\u001b[33;43m\"\u001b[39;49m\u001b[43m,\u001b[49m\u001b[43m \u001b[49m\u001b[43msubgraphs\u001b[49m\u001b[43m=\u001b[49m\u001b[38;5;28;43;01mTrue\u001b[39;49;00m\n\u001b[32m    411\u001b[39m \u001b[43m\u001b[49m\u001b[43m)\u001b[49m\u001b[43m:\u001b[49m\n\u001b[32m    412\u001b[39m \u001b[43m    \u001b[49m\u001b[38;5;28;43;01mfor\u001b[39;49;00m\u001b[43m \u001b[49m\u001b[43mnode_name\u001b[49m\u001b[43m,\u001b[49m\u001b[43m \u001b[49m\u001b[43mnode_chunk\u001b[49m\u001b[43m \u001b[49m\u001b[38;5;129;43;01min\u001b[39;49;00m\u001b[43m \u001b[49m\u001b[43mchunk\u001b[49m\u001b[43m.\u001b[49m\u001b[43mitems\u001b[49m\u001b[43m(\u001b[49m\u001b[43m)\u001b[49m\u001b[43m:\u001b[49m\n\u001b[32m    413\u001b[39m \u001b[43m        \u001b[49m\u001b[38;5;66;43;03m# node_names가 비어있지 않은 경우에만 필터링\u001b[39;49;00m\n\u001b[32m    414\u001b[39m \u001b[43m        \u001b[49m\u001b[38;5;28;43;01mif\u001b[39;49;00m\u001b[43m \u001b[49m\u001b[38;5;28;43mlen\u001b[39;49m\u001b[43m(\u001b[49m\u001b[43mnode_names\u001b[49m\u001b[43m)\u001b[49m\u001b[43m \u001b[49m\u001b[43m>\u001b[49m\u001b[43m \u001b[49m\u001b[32;43m0\u001b[39;49m\u001b[43m \u001b[49m\u001b[38;5;129;43;01mand\u001b[39;49;00m\u001b[43m \u001b[49m\u001b[43mnode_name\u001b[49m\u001b[43m \u001b[49m\u001b[38;5;129;43;01mnot\u001b[39;49;00m\u001b[43m \u001b[49m\u001b[38;5;129;43;01min\u001b[39;49;00m\u001b[43m \u001b[49m\u001b[43mnode_names\u001b[49m\u001b[43m:\u001b[49m\n",
      "\u001b[36mFile \u001b[39m\u001b[32m~/Workspace/Wantedlab/langchain-academy/.venv/lib/python3.12/site-packages/langgraph/pregel/main.py:2657\u001b[39m, in \u001b[36mPregel.stream\u001b[39m\u001b[34m(self, input, config, context, stream_mode, print_mode, output_keys, interrupt_before, interrupt_after, durability, subgraphs, debug, **kwargs)\u001b[39m\n\u001b[32m   2655\u001b[39m \u001b[38;5;28;01mfor\u001b[39;00m task \u001b[38;5;129;01min\u001b[39;00m loop.match_cached_writes():\n\u001b[32m   2656\u001b[39m     loop.output_writes(task.id, task.writes, cached=\u001b[38;5;28;01mTrue\u001b[39;00m)\n\u001b[32m-> \u001b[39m\u001b[32m2657\u001b[39m \u001b[43m\u001b[49m\u001b[38;5;28;43;01mfor\u001b[39;49;00m\u001b[43m \u001b[49m\u001b[43m_\u001b[49m\u001b[43m \u001b[49m\u001b[38;5;129;43;01min\u001b[39;49;00m\u001b[43m \u001b[49m\u001b[43mrunner\u001b[49m\u001b[43m.\u001b[49m\u001b[43mtick\u001b[49m\u001b[43m(\u001b[49m\n\u001b[32m   2658\u001b[39m \u001b[43m    \u001b[49m\u001b[43m[\u001b[49m\u001b[43mt\u001b[49m\u001b[43m \u001b[49m\u001b[38;5;28;43;01mfor\u001b[39;49;00m\u001b[43m \u001b[49m\u001b[43mt\u001b[49m\u001b[43m \u001b[49m\u001b[38;5;129;43;01min\u001b[39;49;00m\u001b[43m \u001b[49m\u001b[43mloop\u001b[49m\u001b[43m.\u001b[49m\u001b[43mtasks\u001b[49m\u001b[43m.\u001b[49m\u001b[43mvalues\u001b[49m\u001b[43m(\u001b[49m\u001b[43m)\u001b[49m\u001b[43m \u001b[49m\u001b[38;5;28;43;01mif\u001b[39;49;00m\u001b[43m \u001b[49m\u001b[38;5;129;43;01mnot\u001b[39;49;00m\u001b[43m \u001b[49m\u001b[43mt\u001b[49m\u001b[43m.\u001b[49m\u001b[43mwrites\u001b[49m\u001b[43m]\u001b[49m\u001b[43m,\u001b[49m\n\u001b[32m   2659\u001b[39m \u001b[43m    \u001b[49m\u001b[43mtimeout\u001b[49m\u001b[43m=\u001b[49m\u001b[38;5;28;43mself\u001b[39;49m\u001b[43m.\u001b[49m\u001b[43mstep_timeout\u001b[49m\u001b[43m,\u001b[49m\n\u001b[32m   2660\u001b[39m \u001b[43m    \u001b[49m\u001b[43mget_waiter\u001b[49m\u001b[43m=\u001b[49m\u001b[43mget_waiter\u001b[49m\u001b[43m,\u001b[49m\n\u001b[32m   2661\u001b[39m \u001b[43m    \u001b[49m\u001b[43mschedule_task\u001b[49m\u001b[43m=\u001b[49m\u001b[43mloop\u001b[49m\u001b[43m.\u001b[49m\u001b[43maccept_push\u001b[49m\u001b[43m,\u001b[49m\n\u001b[32m   2662\u001b[39m \u001b[43m\u001b[49m\u001b[43m)\u001b[49m\u001b[43m:\u001b[49m\n\u001b[32m   2663\u001b[39m \u001b[43m    \u001b[49m\u001b[38;5;66;43;03m# emit output\u001b[39;49;00m\n\u001b[32m   2664\u001b[39m \u001b[43m    \u001b[49m\u001b[38;5;28;43;01myield from\u001b[39;49;00m\u001b[43m \u001b[49m\u001b[43m_output\u001b[49m\u001b[43m(\u001b[49m\n\u001b[32m   2665\u001b[39m \u001b[43m        \u001b[49m\u001b[43mstream_mode\u001b[49m\u001b[43m,\u001b[49m\u001b[43m \u001b[49m\u001b[43mprint_mode\u001b[49m\u001b[43m,\u001b[49m\u001b[43m \u001b[49m\u001b[43msubgraphs\u001b[49m\u001b[43m,\u001b[49m\u001b[43m \u001b[49m\u001b[43mstream\u001b[49m\u001b[43m.\u001b[49m\u001b[43mget\u001b[49m\u001b[43m,\u001b[49m\u001b[43m \u001b[49m\u001b[43mqueue\u001b[49m\u001b[43m.\u001b[49m\u001b[43mEmpty\u001b[49m\n\u001b[32m   2666\u001b[39m \u001b[43m    \u001b[49m\u001b[43m)\u001b[49m\n\u001b[32m   2667\u001b[39m loop.after_tick()\n",
      "\u001b[36mFile \u001b[39m\u001b[32m~/Workspace/Wantedlab/langchain-academy/.venv/lib/python3.12/site-packages/langgraph/pregel/_runner.py:253\u001b[39m, in \u001b[36mPregelRunner.tick\u001b[39m\u001b[34m(self, tasks, reraise, timeout, retry_policy, get_waiter, schedule_task)\u001b[39m\n\u001b[32m    251\u001b[39m \u001b[38;5;66;03m# panic on failure or timeout\u001b[39;00m\n\u001b[32m    252\u001b[39m \u001b[38;5;28;01mtry\u001b[39;00m:\n\u001b[32m--> \u001b[39m\u001b[32m253\u001b[39m     \u001b[43m_panic_or_proceed\u001b[49m\u001b[43m(\u001b[49m\n\u001b[32m    254\u001b[39m \u001b[43m        \u001b[49m\u001b[43mfutures\u001b[49m\u001b[43m.\u001b[49m\u001b[43mdone\u001b[49m\u001b[43m.\u001b[49m\u001b[43munion\u001b[49m\u001b[43m(\u001b[49m\u001b[43mf\u001b[49m\u001b[43m \u001b[49m\u001b[38;5;28;43;01mfor\u001b[39;49;00m\u001b[43m \u001b[49m\u001b[43mf\u001b[49m\u001b[43m,\u001b[49m\u001b[43m \u001b[49m\u001b[43mt\u001b[49m\u001b[43m \u001b[49m\u001b[38;5;129;43;01min\u001b[39;49;00m\u001b[43m \u001b[49m\u001b[43mfutures\u001b[49m\u001b[43m.\u001b[49m\u001b[43mitems\u001b[49m\u001b[43m(\u001b[49m\u001b[43m)\u001b[49m\u001b[43m \u001b[49m\u001b[38;5;28;43;01mif\u001b[39;49;00m\u001b[43m \u001b[49m\u001b[43mt\u001b[49m\u001b[43m \u001b[49m\u001b[38;5;129;43;01mis\u001b[39;49;00m\u001b[43m \u001b[49m\u001b[38;5;129;43;01mnot\u001b[39;49;00m\u001b[43m \u001b[49m\u001b[38;5;28;43;01mNone\u001b[39;49;00m\u001b[43m)\u001b[49m\u001b[43m,\u001b[49m\n\u001b[32m    255\u001b[39m \u001b[43m        \u001b[49m\u001b[43mpanic\u001b[49m\u001b[43m=\u001b[49m\u001b[43mreraise\u001b[49m\u001b[43m,\u001b[49m\n\u001b[32m    256\u001b[39m \u001b[43m    \u001b[49m\u001b[43m)\u001b[49m\n\u001b[32m    257\u001b[39m \u001b[38;5;28;01mexcept\u001b[39;00m \u001b[38;5;167;01mException\u001b[39;00m \u001b[38;5;28;01mas\u001b[39;00m exc:\n\u001b[32m    258\u001b[39m     \u001b[38;5;28;01mif\u001b[39;00m tb := exc.__traceback__:\n",
      "\u001b[36mFile \u001b[39m\u001b[32m~/Workspace/Wantedlab/langchain-academy/.venv/lib/python3.12/site-packages/langgraph/pregel/_runner.py:511\u001b[39m, in \u001b[36m_panic_or_proceed\u001b[39m\u001b[34m(futs, timeout_exc_cls, panic)\u001b[39m\n\u001b[32m    509\u001b[39m                 interrupts.append(exc)\n\u001b[32m    510\u001b[39m             \u001b[38;5;28;01melif\u001b[39;00m fut \u001b[38;5;129;01mnot\u001b[39;00m \u001b[38;5;129;01min\u001b[39;00m SKIP_RERAISE_SET:\n\u001b[32m--> \u001b[39m\u001b[32m511\u001b[39m                 \u001b[38;5;28;01mraise\u001b[39;00m exc\n\u001b[32m    512\u001b[39m \u001b[38;5;66;03m# raise combined interrupts\u001b[39;00m\n\u001b[32m    513\u001b[39m \u001b[38;5;28;01mif\u001b[39;00m interrupts:\n",
      "\u001b[36mFile \u001b[39m\u001b[32m~/Workspace/Wantedlab/langchain-academy/.venv/lib/python3.12/site-packages/langgraph/pregel/_executor.py:81\u001b[39m, in \u001b[36mBackgroundExecutor.done\u001b[39m\u001b[34m(self, task)\u001b[39m\n\u001b[32m     79\u001b[39m \u001b[38;5;250m\u001b[39m\u001b[33;03m\"\"\"Remove the task from the tasks dict when it's done.\"\"\"\u001b[39;00m\n\u001b[32m     80\u001b[39m \u001b[38;5;28;01mtry\u001b[39;00m:\n\u001b[32m---> \u001b[39m\u001b[32m81\u001b[39m     \u001b[43mtask\u001b[49m\u001b[43m.\u001b[49m\u001b[43mresult\u001b[49m\u001b[43m(\u001b[49m\u001b[43m)\u001b[49m\n\u001b[32m     82\u001b[39m \u001b[38;5;28;01mexcept\u001b[39;00m GraphBubbleUp:\n\u001b[32m     83\u001b[39m     \u001b[38;5;66;03m# This exception is an interruption signal, not an error\u001b[39;00m\n\u001b[32m     84\u001b[39m     \u001b[38;5;66;03m# so we don't want to re-raise it on exit\u001b[39;00m\n\u001b[32m     85\u001b[39m     \u001b[38;5;28mself\u001b[39m.tasks.pop(task)\n",
      "\u001b[36mFile \u001b[39m\u001b[32m~/.local/share/uv/python/cpython-3.12.11-macos-aarch64-none/lib/python3.12/concurrent/futures/_base.py:449\u001b[39m, in \u001b[36mFuture.result\u001b[39m\u001b[34m(self, timeout)\u001b[39m\n\u001b[32m    447\u001b[39m     \u001b[38;5;28;01mraise\u001b[39;00m CancelledError()\n\u001b[32m    448\u001b[39m \u001b[38;5;28;01melif\u001b[39;00m \u001b[38;5;28mself\u001b[39m._state == FINISHED:\n\u001b[32m--> \u001b[39m\u001b[32m449\u001b[39m     \u001b[38;5;28;01mreturn\u001b[39;00m \u001b[38;5;28;43mself\u001b[39;49m\u001b[43m.\u001b[49m\u001b[43m__get_result\u001b[49m\u001b[43m(\u001b[49m\u001b[43m)\u001b[49m\n\u001b[32m    451\u001b[39m \u001b[38;5;28mself\u001b[39m._condition.wait(timeout)\n\u001b[32m    453\u001b[39m \u001b[38;5;28;01mif\u001b[39;00m \u001b[38;5;28mself\u001b[39m._state \u001b[38;5;129;01min\u001b[39;00m [CANCELLED, CANCELLED_AND_NOTIFIED]:\n",
      "\u001b[36mFile \u001b[39m\u001b[32m~/.local/share/uv/python/cpython-3.12.11-macos-aarch64-none/lib/python3.12/concurrent/futures/_base.py:401\u001b[39m, in \u001b[36mFuture.__get_result\u001b[39m\u001b[34m(self)\u001b[39m\n\u001b[32m    399\u001b[39m \u001b[38;5;28;01mif\u001b[39;00m \u001b[38;5;28mself\u001b[39m._exception:\n\u001b[32m    400\u001b[39m     \u001b[38;5;28;01mtry\u001b[39;00m:\n\u001b[32m--> \u001b[39m\u001b[32m401\u001b[39m         \u001b[38;5;28;01mraise\u001b[39;00m \u001b[38;5;28mself\u001b[39m._exception\n\u001b[32m    402\u001b[39m     \u001b[38;5;28;01mfinally\u001b[39;00m:\n\u001b[32m    403\u001b[39m         \u001b[38;5;66;03m# Break a reference cycle with the exception in self._exception\u001b[39;00m\n\u001b[32m    404\u001b[39m         \u001b[38;5;28mself\u001b[39m = \u001b[38;5;28;01mNone\u001b[39;00m\n",
      "\u001b[36mFile \u001b[39m\u001b[32m~/.local/share/uv/python/cpython-3.12.11-macos-aarch64-none/lib/python3.12/concurrent/futures/thread.py:59\u001b[39m, in \u001b[36m_WorkItem.run\u001b[39m\u001b[34m(self)\u001b[39m\n\u001b[32m     56\u001b[39m     \u001b[38;5;28;01mreturn\u001b[39;00m\n\u001b[32m     58\u001b[39m \u001b[38;5;28;01mtry\u001b[39;00m:\n\u001b[32m---> \u001b[39m\u001b[32m59\u001b[39m     result = \u001b[38;5;28;43mself\u001b[39;49m\u001b[43m.\u001b[49m\u001b[43mfn\u001b[49m\u001b[43m(\u001b[49m\u001b[43m*\u001b[49m\u001b[38;5;28;43mself\u001b[39;49m\u001b[43m.\u001b[49m\u001b[43margs\u001b[49m\u001b[43m,\u001b[49m\u001b[43m \u001b[49m\u001b[43m*\u001b[49m\u001b[43m*\u001b[49m\u001b[38;5;28;43mself\u001b[39;49m\u001b[43m.\u001b[49m\u001b[43mkwargs\u001b[49m\u001b[43m)\u001b[49m\n\u001b[32m     60\u001b[39m \u001b[38;5;28;01mexcept\u001b[39;00m \u001b[38;5;167;01mBaseException\u001b[39;00m \u001b[38;5;28;01mas\u001b[39;00m exc:\n\u001b[32m     61\u001b[39m     \u001b[38;5;28mself\u001b[39m.future.set_exception(exc)\n",
      "\u001b[36mFile \u001b[39m\u001b[32m~/Workspace/Wantedlab/langchain-academy/.venv/lib/python3.12/site-packages/langgraph/pregel/_retry.py:42\u001b[39m, in \u001b[36mrun_with_retry\u001b[39m\u001b[34m(task, retry_policy, configurable)\u001b[39m\n\u001b[32m     40\u001b[39m     task.writes.clear()\n\u001b[32m     41\u001b[39m     \u001b[38;5;66;03m# run the task\u001b[39;00m\n\u001b[32m---> \u001b[39m\u001b[32m42\u001b[39m     \u001b[38;5;28;01mreturn\u001b[39;00m \u001b[43mtask\u001b[49m\u001b[43m.\u001b[49m\u001b[43mproc\u001b[49m\u001b[43m.\u001b[49m\u001b[43minvoke\u001b[49m\u001b[43m(\u001b[49m\u001b[43mtask\u001b[49m\u001b[43m.\u001b[49m\u001b[43minput\u001b[49m\u001b[43m,\u001b[49m\u001b[43m \u001b[49m\u001b[43mconfig\u001b[49m\u001b[43m)\u001b[49m\n\u001b[32m     43\u001b[39m \u001b[38;5;28;01mexcept\u001b[39;00m ParentCommand \u001b[38;5;28;01mas\u001b[39;00m exc:\n\u001b[32m     44\u001b[39m     ns: \u001b[38;5;28mstr\u001b[39m = config[CONF][CONFIG_KEY_CHECKPOINT_NS]\n",
      "\u001b[36mFile \u001b[39m\u001b[32m~/Workspace/Wantedlab/langchain-academy/.venv/lib/python3.12/site-packages/langgraph/_internal/_runnable.py:657\u001b[39m, in \u001b[36mRunnableSeq.invoke\u001b[39m\u001b[34m(self, input, config, **kwargs)\u001b[39m\n\u001b[32m    655\u001b[39m     \u001b[38;5;66;03m# run in context\u001b[39;00m\n\u001b[32m    656\u001b[39m     \u001b[38;5;28;01mwith\u001b[39;00m set_config_context(config, run) \u001b[38;5;28;01mas\u001b[39;00m context:\n\u001b[32m--> \u001b[39m\u001b[32m657\u001b[39m         \u001b[38;5;28minput\u001b[39m = \u001b[43mcontext\u001b[49m\u001b[43m.\u001b[49m\u001b[43mrun\u001b[49m\u001b[43m(\u001b[49m\u001b[43mstep\u001b[49m\u001b[43m.\u001b[49m\u001b[43minvoke\u001b[49m\u001b[43m,\u001b[49m\u001b[43m \u001b[49m\u001b[38;5;28;43minput\u001b[39;49m\u001b[43m,\u001b[49m\u001b[43m \u001b[49m\u001b[43mconfig\u001b[49m\u001b[43m,\u001b[49m\u001b[43m \u001b[49m\u001b[43m*\u001b[49m\u001b[43m*\u001b[49m\u001b[43mkwargs\u001b[49m\u001b[43m)\u001b[49m\n\u001b[32m    658\u001b[39m \u001b[38;5;28;01melse\u001b[39;00m:\n\u001b[32m    659\u001b[39m     \u001b[38;5;28minput\u001b[39m = step.invoke(\u001b[38;5;28minput\u001b[39m, config)\n",
      "\u001b[36mFile \u001b[39m\u001b[32m~/Workspace/Wantedlab/langchain-academy/.venv/lib/python3.12/site-packages/langgraph/pregel/main.py:3068\u001b[39m, in \u001b[36mPregel.invoke\u001b[39m\u001b[34m(self, input, config, context, stream_mode, print_mode, output_keys, interrupt_before, interrupt_after, durability, **kwargs)\u001b[39m\n\u001b[32m   3065\u001b[39m chunks: \u001b[38;5;28mlist\u001b[39m[\u001b[38;5;28mdict\u001b[39m[\u001b[38;5;28mstr\u001b[39m, Any] | Any] = []\n\u001b[32m   3066\u001b[39m interrupts: \u001b[38;5;28mlist\u001b[39m[Interrupt] = []\n\u001b[32m-> \u001b[39m\u001b[32m3068\u001b[39m \u001b[43m\u001b[49m\u001b[38;5;28;43;01mfor\u001b[39;49;00m\u001b[43m \u001b[49m\u001b[43mchunk\u001b[49m\u001b[43m \u001b[49m\u001b[38;5;129;43;01min\u001b[39;49;00m\u001b[43m \u001b[49m\u001b[38;5;28;43mself\u001b[39;49m\u001b[43m.\u001b[49m\u001b[43mstream\u001b[49m\u001b[43m(\u001b[49m\n\u001b[32m   3069\u001b[39m \u001b[43m    \u001b[49m\u001b[38;5;28;43minput\u001b[39;49m\u001b[43m,\u001b[49m\n\u001b[32m   3070\u001b[39m \u001b[43m    \u001b[49m\u001b[43mconfig\u001b[49m\u001b[43m,\u001b[49m\n\u001b[32m   3071\u001b[39m \u001b[43m    \u001b[49m\u001b[43mcontext\u001b[49m\u001b[43m=\u001b[49m\u001b[43mcontext\u001b[49m\u001b[43m,\u001b[49m\n\u001b[32m   3072\u001b[39m \u001b[43m    \u001b[49m\u001b[43mstream_mode\u001b[49m\u001b[43m=\u001b[49m\u001b[43m[\u001b[49m\u001b[33;43m\"\u001b[39;49m\u001b[33;43mupdates\u001b[39;49m\u001b[33;43m\"\u001b[39;49m\u001b[43m,\u001b[49m\u001b[43m \u001b[49m\u001b[33;43m\"\u001b[39;49m\u001b[33;43mvalues\u001b[39;49m\u001b[33;43m\"\u001b[39;49m\u001b[43m]\u001b[49m\n\u001b[32m   3073\u001b[39m \u001b[43m    \u001b[49m\u001b[38;5;28;43;01mif\u001b[39;49;00m\u001b[43m \u001b[49m\u001b[43mstream_mode\u001b[49m\u001b[43m \u001b[49m\u001b[43m==\u001b[49m\u001b[43m \u001b[49m\u001b[33;43m\"\u001b[39;49m\u001b[33;43mvalues\u001b[39;49m\u001b[33;43m\"\u001b[39;49m\n\u001b[32m   3074\u001b[39m \u001b[43m    \u001b[49m\u001b[38;5;28;43;01melse\u001b[39;49;00m\u001b[43m \u001b[49m\u001b[43mstream_mode\u001b[49m\u001b[43m,\u001b[49m\n\u001b[32m   3075\u001b[39m \u001b[43m    \u001b[49m\u001b[43mprint_mode\u001b[49m\u001b[43m=\u001b[49m\u001b[43mprint_mode\u001b[49m\u001b[43m,\u001b[49m\n\u001b[32m   3076\u001b[39m \u001b[43m    \u001b[49m\u001b[43moutput_keys\u001b[49m\u001b[43m=\u001b[49m\u001b[43moutput_keys\u001b[49m\u001b[43m,\u001b[49m\n\u001b[32m   3077\u001b[39m \u001b[43m    \u001b[49m\u001b[43minterrupt_before\u001b[49m\u001b[43m=\u001b[49m\u001b[43minterrupt_before\u001b[49m\u001b[43m,\u001b[49m\n\u001b[32m   3078\u001b[39m \u001b[43m    \u001b[49m\u001b[43minterrupt_after\u001b[49m\u001b[43m=\u001b[49m\u001b[43minterrupt_after\u001b[49m\u001b[43m,\u001b[49m\n\u001b[32m   3079\u001b[39m \u001b[43m    \u001b[49m\u001b[43mdurability\u001b[49m\u001b[43m=\u001b[49m\u001b[43mdurability\u001b[49m\u001b[43m,\u001b[49m\n\u001b[32m   3080\u001b[39m \u001b[43m    \u001b[49m\u001b[43m*\u001b[49m\u001b[43m*\u001b[49m\u001b[43mkwargs\u001b[49m\u001b[43m,\u001b[49m\n\u001b[32m   3081\u001b[39m \u001b[43m\u001b[49m\u001b[43m)\u001b[49m\u001b[43m:\u001b[49m\n\u001b[32m   3082\u001b[39m \u001b[43m    \u001b[49m\u001b[38;5;28;43;01mif\u001b[39;49;00m\u001b[43m \u001b[49m\u001b[43mstream_mode\u001b[49m\u001b[43m \u001b[49m\u001b[43m==\u001b[49m\u001b[43m \u001b[49m\u001b[33;43m\"\u001b[39;49m\u001b[33;43mvalues\u001b[39;49m\u001b[33;43m\"\u001b[39;49m\u001b[43m:\u001b[49m\n\u001b[32m   3083\u001b[39m \u001b[43m        \u001b[49m\u001b[38;5;28;43;01mif\u001b[39;49;00m\u001b[43m \u001b[49m\u001b[38;5;28;43mlen\u001b[39;49m\u001b[43m(\u001b[49m\u001b[43mchunk\u001b[49m\u001b[43m)\u001b[49m\u001b[43m \u001b[49m\u001b[43m==\u001b[49m\u001b[43m \u001b[49m\u001b[32;43m2\u001b[39;49m\u001b[43m:\u001b[49m\n",
      "\u001b[36mFile \u001b[39m\u001b[32m~/Workspace/Wantedlab/langchain-academy/.venv/lib/python3.12/site-packages/langgraph/pregel/main.py:2657\u001b[39m, in \u001b[36mPregel.stream\u001b[39m\u001b[34m(self, input, config, context, stream_mode, print_mode, output_keys, interrupt_before, interrupt_after, durability, subgraphs, debug, **kwargs)\u001b[39m\n\u001b[32m   2655\u001b[39m \u001b[38;5;28;01mfor\u001b[39;00m task \u001b[38;5;129;01min\u001b[39;00m loop.match_cached_writes():\n\u001b[32m   2656\u001b[39m     loop.output_writes(task.id, task.writes, cached=\u001b[38;5;28;01mTrue\u001b[39;00m)\n\u001b[32m-> \u001b[39m\u001b[32m2657\u001b[39m \u001b[43m\u001b[49m\u001b[38;5;28;43;01mfor\u001b[39;49;00m\u001b[43m \u001b[49m\u001b[43m_\u001b[49m\u001b[43m \u001b[49m\u001b[38;5;129;43;01min\u001b[39;49;00m\u001b[43m \u001b[49m\u001b[43mrunner\u001b[49m\u001b[43m.\u001b[49m\u001b[43mtick\u001b[49m\u001b[43m(\u001b[49m\n\u001b[32m   2658\u001b[39m \u001b[43m    \u001b[49m\u001b[43m[\u001b[49m\u001b[43mt\u001b[49m\u001b[43m \u001b[49m\u001b[38;5;28;43;01mfor\u001b[39;49;00m\u001b[43m \u001b[49m\u001b[43mt\u001b[49m\u001b[43m \u001b[49m\u001b[38;5;129;43;01min\u001b[39;49;00m\u001b[43m \u001b[49m\u001b[43mloop\u001b[49m\u001b[43m.\u001b[49m\u001b[43mtasks\u001b[49m\u001b[43m.\u001b[49m\u001b[43mvalues\u001b[49m\u001b[43m(\u001b[49m\u001b[43m)\u001b[49m\u001b[43m \u001b[49m\u001b[38;5;28;43;01mif\u001b[39;49;00m\u001b[43m \u001b[49m\u001b[38;5;129;43;01mnot\u001b[39;49;00m\u001b[43m \u001b[49m\u001b[43mt\u001b[49m\u001b[43m.\u001b[49m\u001b[43mwrites\u001b[49m\u001b[43m]\u001b[49m\u001b[43m,\u001b[49m\n\u001b[32m   2659\u001b[39m \u001b[43m    \u001b[49m\u001b[43mtimeout\u001b[49m\u001b[43m=\u001b[49m\u001b[38;5;28;43mself\u001b[39;49m\u001b[43m.\u001b[49m\u001b[43mstep_timeout\u001b[49m\u001b[43m,\u001b[49m\n\u001b[32m   2660\u001b[39m \u001b[43m    \u001b[49m\u001b[43mget_waiter\u001b[49m\u001b[43m=\u001b[49m\u001b[43mget_waiter\u001b[49m\u001b[43m,\u001b[49m\n\u001b[32m   2661\u001b[39m \u001b[43m    \u001b[49m\u001b[43mschedule_task\u001b[49m\u001b[43m=\u001b[49m\u001b[43mloop\u001b[49m\u001b[43m.\u001b[49m\u001b[43maccept_push\u001b[49m\u001b[43m,\u001b[49m\n\u001b[32m   2662\u001b[39m \u001b[43m\u001b[49m\u001b[43m)\u001b[49m\u001b[43m:\u001b[49m\n\u001b[32m   2663\u001b[39m \u001b[43m    \u001b[49m\u001b[38;5;66;43;03m# emit output\u001b[39;49;00m\n\u001b[32m   2664\u001b[39m \u001b[43m    \u001b[49m\u001b[38;5;28;43;01myield from\u001b[39;49;00m\u001b[43m \u001b[49m\u001b[43m_output\u001b[49m\u001b[43m(\u001b[49m\n\u001b[32m   2665\u001b[39m \u001b[43m        \u001b[49m\u001b[43mstream_mode\u001b[49m\u001b[43m,\u001b[49m\u001b[43m \u001b[49m\u001b[43mprint_mode\u001b[49m\u001b[43m,\u001b[49m\u001b[43m \u001b[49m\u001b[43msubgraphs\u001b[49m\u001b[43m,\u001b[49m\u001b[43m \u001b[49m\u001b[43mstream\u001b[49m\u001b[43m.\u001b[49m\u001b[43mget\u001b[49m\u001b[43m,\u001b[49m\u001b[43m \u001b[49m\u001b[43mqueue\u001b[49m\u001b[43m.\u001b[49m\u001b[43mEmpty\u001b[49m\n\u001b[32m   2666\u001b[39m \u001b[43m    \u001b[49m\u001b[43m)\u001b[49m\n\u001b[32m   2667\u001b[39m loop.after_tick()\n",
      "\u001b[36mFile \u001b[39m\u001b[32m~/Workspace/Wantedlab/langchain-academy/.venv/lib/python3.12/site-packages/langgraph/pregel/_runner.py:162\u001b[39m, in \u001b[36mPregelRunner.tick\u001b[39m\u001b[34m(self, tasks, reraise, timeout, retry_policy, get_waiter, schedule_task)\u001b[39m\n\u001b[32m    160\u001b[39m t = tasks[\u001b[32m0\u001b[39m]\n\u001b[32m    161\u001b[39m \u001b[38;5;28;01mtry\u001b[39;00m:\n\u001b[32m--> \u001b[39m\u001b[32m162\u001b[39m     \u001b[43mrun_with_retry\u001b[49m\u001b[43m(\u001b[49m\n\u001b[32m    163\u001b[39m \u001b[43m        \u001b[49m\u001b[43mt\u001b[49m\u001b[43m,\u001b[49m\n\u001b[32m    164\u001b[39m \u001b[43m        \u001b[49m\u001b[43mretry_policy\u001b[49m\u001b[43m,\u001b[49m\n\u001b[32m    165\u001b[39m \u001b[43m        \u001b[49m\u001b[43mconfigurable\u001b[49m\u001b[43m=\u001b[49m\u001b[43m{\u001b[49m\n\u001b[32m    166\u001b[39m \u001b[43m            \u001b[49m\u001b[43mCONFIG_KEY_CALL\u001b[49m\u001b[43m:\u001b[49m\u001b[43m \u001b[49m\u001b[43mpartial\u001b[49m\u001b[43m(\u001b[49m\n\u001b[32m    167\u001b[39m \u001b[43m                \u001b[49m\u001b[43m_call\u001b[49m\u001b[43m,\u001b[49m\n\u001b[32m    168\u001b[39m \u001b[43m                \u001b[49m\u001b[43mweakref\u001b[49m\u001b[43m.\u001b[49m\u001b[43mref\u001b[49m\u001b[43m(\u001b[49m\u001b[43mt\u001b[49m\u001b[43m)\u001b[49m\u001b[43m,\u001b[49m\n\u001b[32m    169\u001b[39m \u001b[43m                \u001b[49m\u001b[43mretry_policy\u001b[49m\u001b[43m=\u001b[49m\u001b[43mretry_policy\u001b[49m\u001b[43m,\u001b[49m\n\u001b[32m    170\u001b[39m \u001b[43m                \u001b[49m\u001b[43mfutures\u001b[49m\u001b[43m=\u001b[49m\u001b[43mweakref\u001b[49m\u001b[43m.\u001b[49m\u001b[43mref\u001b[49m\u001b[43m(\u001b[49m\u001b[43mfutures\u001b[49m\u001b[43m)\u001b[49m\u001b[43m,\u001b[49m\n\u001b[32m    171\u001b[39m \u001b[43m                \u001b[49m\u001b[43mschedule_task\u001b[49m\u001b[43m=\u001b[49m\u001b[43mschedule_task\u001b[49m\u001b[43m,\u001b[49m\n\u001b[32m    172\u001b[39m \u001b[43m                \u001b[49m\u001b[43msubmit\u001b[49m\u001b[43m=\u001b[49m\u001b[38;5;28;43mself\u001b[39;49m\u001b[43m.\u001b[49m\u001b[43msubmit\u001b[49m\u001b[43m,\u001b[49m\n\u001b[32m    173\u001b[39m \u001b[43m            \u001b[49m\u001b[43m)\u001b[49m\u001b[43m,\u001b[49m\n\u001b[32m    174\u001b[39m \u001b[43m        \u001b[49m\u001b[43m}\u001b[49m\u001b[43m,\u001b[49m\n\u001b[32m    175\u001b[39m \u001b[43m    \u001b[49m\u001b[43m)\u001b[49m\n\u001b[32m    176\u001b[39m     \u001b[38;5;28mself\u001b[39m.commit(t, \u001b[38;5;28;01mNone\u001b[39;00m)\n\u001b[32m    177\u001b[39m \u001b[38;5;28;01mexcept\u001b[39;00m \u001b[38;5;167;01mException\u001b[39;00m \u001b[38;5;28;01mas\u001b[39;00m exc:\n",
      "\u001b[36mFile \u001b[39m\u001b[32m~/Workspace/Wantedlab/langchain-academy/.venv/lib/python3.12/site-packages/langgraph/pregel/_retry.py:42\u001b[39m, in \u001b[36mrun_with_retry\u001b[39m\u001b[34m(task, retry_policy, configurable)\u001b[39m\n\u001b[32m     40\u001b[39m     task.writes.clear()\n\u001b[32m     41\u001b[39m     \u001b[38;5;66;03m# run the task\u001b[39;00m\n\u001b[32m---> \u001b[39m\u001b[32m42\u001b[39m     \u001b[38;5;28;01mreturn\u001b[39;00m \u001b[43mtask\u001b[49m\u001b[43m.\u001b[49m\u001b[43mproc\u001b[49m\u001b[43m.\u001b[49m\u001b[43minvoke\u001b[49m\u001b[43m(\u001b[49m\u001b[43mtask\u001b[49m\u001b[43m.\u001b[49m\u001b[43minput\u001b[49m\u001b[43m,\u001b[49m\u001b[43m \u001b[49m\u001b[43mconfig\u001b[49m\u001b[43m)\u001b[49m\n\u001b[32m     43\u001b[39m \u001b[38;5;28;01mexcept\u001b[39;00m ParentCommand \u001b[38;5;28;01mas\u001b[39;00m exc:\n\u001b[32m     44\u001b[39m     ns: \u001b[38;5;28mstr\u001b[39m = config[CONF][CONFIG_KEY_CHECKPOINT_NS]\n",
      "\u001b[36mFile \u001b[39m\u001b[32m~/Workspace/Wantedlab/langchain-academy/.venv/lib/python3.12/site-packages/langgraph/_internal/_runnable.py:657\u001b[39m, in \u001b[36mRunnableSeq.invoke\u001b[39m\u001b[34m(self, input, config, **kwargs)\u001b[39m\n\u001b[32m    655\u001b[39m     \u001b[38;5;66;03m# run in context\u001b[39;00m\n\u001b[32m    656\u001b[39m     \u001b[38;5;28;01mwith\u001b[39;00m set_config_context(config, run) \u001b[38;5;28;01mas\u001b[39;00m context:\n\u001b[32m--> \u001b[39m\u001b[32m657\u001b[39m         \u001b[38;5;28minput\u001b[39m = \u001b[43mcontext\u001b[49m\u001b[43m.\u001b[49m\u001b[43mrun\u001b[49m\u001b[43m(\u001b[49m\u001b[43mstep\u001b[49m\u001b[43m.\u001b[49m\u001b[43minvoke\u001b[49m\u001b[43m,\u001b[49m\u001b[43m \u001b[49m\u001b[38;5;28;43minput\u001b[39;49m\u001b[43m,\u001b[49m\u001b[43m \u001b[49m\u001b[43mconfig\u001b[49m\u001b[43m,\u001b[49m\u001b[43m \u001b[49m\u001b[43m*\u001b[49m\u001b[43m*\u001b[49m\u001b[43mkwargs\u001b[49m\u001b[43m)\u001b[49m\n\u001b[32m    658\u001b[39m \u001b[38;5;28;01melse\u001b[39;00m:\n\u001b[32m    659\u001b[39m     \u001b[38;5;28minput\u001b[39m = step.invoke(\u001b[38;5;28minput\u001b[39m, config)\n",
      "\u001b[36mFile \u001b[39m\u001b[32m~/Workspace/Wantedlab/langchain-academy/.venv/lib/python3.12/site-packages/langgraph/_internal/_runnable.py:401\u001b[39m, in \u001b[36mRunnableCallable.invoke\u001b[39m\u001b[34m(self, input, config, **kwargs)\u001b[39m\n\u001b[32m    399\u001b[39m         run_manager.on_chain_end(ret)\n\u001b[32m    400\u001b[39m \u001b[38;5;28;01melse\u001b[39;00m:\n\u001b[32m--> \u001b[39m\u001b[32m401\u001b[39m     ret = \u001b[38;5;28;43mself\u001b[39;49m\u001b[43m.\u001b[49m\u001b[43mfunc\u001b[49m\u001b[43m(\u001b[49m\u001b[43m*\u001b[49m\u001b[43margs\u001b[49m\u001b[43m,\u001b[49m\u001b[43m \u001b[49m\u001b[43m*\u001b[49m\u001b[43m*\u001b[49m\u001b[43mkwargs\u001b[49m\u001b[43m)\u001b[49m\n\u001b[32m    402\u001b[39m \u001b[38;5;28;01mif\u001b[39;00m \u001b[38;5;28mself\u001b[39m.recurse \u001b[38;5;129;01mand\u001b[39;00m \u001b[38;5;28misinstance\u001b[39m(ret, Runnable):\n\u001b[32m    403\u001b[39m     \u001b[38;5;28;01mreturn\u001b[39;00m ret.invoke(\u001b[38;5;28minput\u001b[39m, config)\n",
      "\u001b[36mCell\u001b[39m\u001b[36m \u001b[39m\u001b[32mIn[39]\u001b[39m\u001b[32m, line 18\u001b[39m, in \u001b[36mtool_handler\u001b[39m\u001b[34m(state)\u001b[39m\n\u001b[32m     15\u001b[39m     tool_args = tool_call[\u001b[33m\"\u001b[39m\u001b[33margs\u001b[39m\u001b[33m\"\u001b[39m]\n\u001b[32m     17\u001b[39m     tool = tools_by_name[tool_name]\n\u001b[32m---> \u001b[39m\u001b[32m18\u001b[39m     observation = \u001b[43mtool\u001b[49m\u001b[43m.\u001b[49m\u001b[43minvoke\u001b[49m\u001b[43m(\u001b[49m\u001b[43mtool_args\u001b[49m\u001b[43m)\u001b[49m\n\u001b[32m     19\u001b[39m     results.append(ToolMessage(observation, tool_call_id=tool_call_id))\n\u001b[32m     21\u001b[39m \u001b[38;5;28;01mreturn\u001b[39;00m {\u001b[33m\"\u001b[39m\u001b[33mmessages\u001b[39m\u001b[33m\"\u001b[39m: results}\n",
      "\u001b[36mFile \u001b[39m\u001b[32m~/Workspace/Wantedlab/langchain-academy/.venv/lib/python3.12/site-packages/langchain_core/tools/base.py:610\u001b[39m, in \u001b[36mBaseTool.invoke\u001b[39m\u001b[34m(self, input, config, **kwargs)\u001b[39m\n\u001b[32m    602\u001b[39m \u001b[38;5;129m@override\u001b[39m\n\u001b[32m    603\u001b[39m \u001b[38;5;28;01mdef\u001b[39;00m\u001b[38;5;250m \u001b[39m\u001b[34minvoke\u001b[39m(\n\u001b[32m    604\u001b[39m     \u001b[38;5;28mself\u001b[39m,\n\u001b[32m   (...)\u001b[39m\u001b[32m    607\u001b[39m     **kwargs: Any,\n\u001b[32m    608\u001b[39m ) -> Any:\n\u001b[32m    609\u001b[39m     tool_input, kwargs = _prep_run_args(\u001b[38;5;28minput\u001b[39m, config, **kwargs)\n\u001b[32m--> \u001b[39m\u001b[32m610\u001b[39m     \u001b[38;5;28;01mreturn\u001b[39;00m \u001b[38;5;28;43mself\u001b[39;49m\u001b[43m.\u001b[49m\u001b[43mrun\u001b[49m\u001b[43m(\u001b[49m\u001b[43mtool_input\u001b[49m\u001b[43m,\u001b[49m\u001b[43m \u001b[49m\u001b[43m*\u001b[49m\u001b[43m*\u001b[49m\u001b[43mkwargs\u001b[49m\u001b[43m)\u001b[49m\n",
      "\u001b[36mFile \u001b[39m\u001b[32m~/Workspace/Wantedlab/langchain-academy/.venv/lib/python3.12/site-packages/langchain_core/tools/base.py:895\u001b[39m, in \u001b[36mBaseTool.run\u001b[39m\u001b[34m(self, tool_input, verbose, start_color, color, callbacks, tags, metadata, run_name, run_id, config, tool_call_id, **kwargs)\u001b[39m\n\u001b[32m    893\u001b[39m \u001b[38;5;28;01mif\u001b[39;00m error_to_raise:\n\u001b[32m    894\u001b[39m     run_manager.on_tool_error(error_to_raise)\n\u001b[32m--> \u001b[39m\u001b[32m895\u001b[39m     \u001b[38;5;28;01mraise\u001b[39;00m error_to_raise\n\u001b[32m    896\u001b[39m output = _format_output(content, artifact, tool_call_id, \u001b[38;5;28mself\u001b[39m.name, status)\n\u001b[32m    897\u001b[39m run_manager.on_tool_end(output, color=color, name=\u001b[38;5;28mself\u001b[39m.name, **kwargs)\n",
      "\u001b[36mFile \u001b[39m\u001b[32m~/Workspace/Wantedlab/langchain-academy/.venv/lib/python3.12/site-packages/langchain_core/tools/base.py:857\u001b[39m, in \u001b[36mBaseTool.run\u001b[39m\u001b[34m(self, tool_input, verbose, start_color, color, callbacks, tags, metadata, run_name, run_id, config, tool_call_id, **kwargs)\u001b[39m\n\u001b[32m    855\u001b[39m child_config = patch_config(config, callbacks=run_manager.get_child())\n\u001b[32m    856\u001b[39m \u001b[38;5;28;01mwith\u001b[39;00m set_config_context(child_config) \u001b[38;5;28;01mas\u001b[39;00m context:\n\u001b[32m--> \u001b[39m\u001b[32m857\u001b[39m     tool_args, tool_kwargs = \u001b[38;5;28;43mself\u001b[39;49m\u001b[43m.\u001b[49m\u001b[43m_to_args_and_kwargs\u001b[49m\u001b[43m(\u001b[49m\n\u001b[32m    858\u001b[39m \u001b[43m        \u001b[49m\u001b[43mtool_input\u001b[49m\u001b[43m,\u001b[49m\u001b[43m \u001b[49m\u001b[43mtool_call_id\u001b[49m\n\u001b[32m    859\u001b[39m \u001b[43m    \u001b[49m\u001b[43m)\u001b[49m\n\u001b[32m    860\u001b[39m     \u001b[38;5;28;01mif\u001b[39;00m signature(\u001b[38;5;28mself\u001b[39m._run).parameters.get(\u001b[33m\"\u001b[39m\u001b[33mrun_manager\u001b[39m\u001b[33m\"\u001b[39m):\n\u001b[32m    861\u001b[39m         tool_kwargs |= {\u001b[33m\"\u001b[39m\u001b[33mrun_manager\u001b[39m\u001b[33m\"\u001b[39m: run_manager}\n",
      "\u001b[36mFile \u001b[39m\u001b[32m~/Workspace/Wantedlab/langchain-academy/.venv/lib/python3.12/site-packages/langchain_core/tools/base.py:772\u001b[39m, in \u001b[36mBaseTool._to_args_and_kwargs\u001b[39m\u001b[34m(self, tool_input, tool_call_id)\u001b[39m\n\u001b[32m    764\u001b[39m \u001b[38;5;28;01mif\u001b[39;00m (\n\u001b[32m    765\u001b[39m     \u001b[38;5;28mself\u001b[39m.args_schema \u001b[38;5;129;01mis\u001b[39;00m \u001b[38;5;129;01mnot\u001b[39;00m \u001b[38;5;28;01mNone\u001b[39;00m\n\u001b[32m    766\u001b[39m     \u001b[38;5;129;01mand\u001b[39;00m \u001b[38;5;28misinstance\u001b[39m(\u001b[38;5;28mself\u001b[39m.args_schema, \u001b[38;5;28mtype\u001b[39m)\n\u001b[32m   (...)\u001b[39m\u001b[32m    769\u001b[39m ):\n\u001b[32m    770\u001b[39m     \u001b[38;5;66;03m# StructuredTool with no args\u001b[39;00m\n\u001b[32m    771\u001b[39m     \u001b[38;5;28;01mreturn\u001b[39;00m (), {}\n\u001b[32m--> \u001b[39m\u001b[32m772\u001b[39m tool_input = \u001b[38;5;28;43mself\u001b[39;49m\u001b[43m.\u001b[49m\u001b[43m_parse_input\u001b[49m\u001b[43m(\u001b[49m\u001b[43mtool_input\u001b[49m\u001b[43m,\u001b[49m\u001b[43m \u001b[49m\u001b[43mtool_call_id\u001b[49m\u001b[43m)\u001b[49m\n\u001b[32m    773\u001b[39m \u001b[38;5;66;03m# For backwards compatibility, if run_input is a string,\u001b[39;00m\n\u001b[32m    774\u001b[39m \u001b[38;5;66;03m# pass as a positional argument.\u001b[39;00m\n\u001b[32m    775\u001b[39m \u001b[38;5;28;01mif\u001b[39;00m \u001b[38;5;28misinstance\u001b[39m(tool_input, \u001b[38;5;28mstr\u001b[39m):\n",
      "\u001b[36mFile \u001b[39m\u001b[32m~/Workspace/Wantedlab/langchain-academy/.venv/lib/python3.12/site-packages/langchain_core/tools/base.py:676\u001b[39m, in \u001b[36mBaseTool._parse_input\u001b[39m\u001b[34m(self, tool_input, tool_call_id)\u001b[39m\n\u001b[32m    674\u001b[39m                 \u001b[38;5;28;01mraise\u001b[39;00m \u001b[38;5;167;01mValueError\u001b[39;00m(msg)\n\u001b[32m    675\u001b[39m             tool_input[k] = tool_call_id\n\u001b[32m--> \u001b[39m\u001b[32m676\u001b[39m     result = \u001b[43minput_args\u001b[49m\u001b[43m.\u001b[49m\u001b[43mmodel_validate\u001b[49m\u001b[43m(\u001b[49m\u001b[43mtool_input\u001b[49m\u001b[43m)\u001b[49m\n\u001b[32m    677\u001b[39m     result_dict = result.model_dump()\n\u001b[32m    678\u001b[39m \u001b[38;5;28;01melif\u001b[39;00m \u001b[38;5;28missubclass\u001b[39m(input_args, BaseModelV1):\n",
      "\u001b[36mFile \u001b[39m\u001b[32m~/Workspace/Wantedlab/langchain-academy/.venv/lib/python3.12/site-packages/pydantic/main.py:705\u001b[39m, in \u001b[36mBaseModel.model_validate\u001b[39m\u001b[34m(cls, obj, strict, from_attributes, context, by_alias, by_name)\u001b[39m\n\u001b[32m    699\u001b[39m \u001b[38;5;28;01mif\u001b[39;00m by_alias \u001b[38;5;129;01mis\u001b[39;00m \u001b[38;5;28;01mFalse\u001b[39;00m \u001b[38;5;129;01mand\u001b[39;00m by_name \u001b[38;5;129;01mis\u001b[39;00m \u001b[38;5;129;01mnot\u001b[39;00m \u001b[38;5;28;01mTrue\u001b[39;00m:\n\u001b[32m    700\u001b[39m     \u001b[38;5;28;01mraise\u001b[39;00m PydanticUserError(\n\u001b[32m    701\u001b[39m         \u001b[33m'\u001b[39m\u001b[33mAt least one of `by_alias` or `by_name` must be set to True.\u001b[39m\u001b[33m'\u001b[39m,\n\u001b[32m    702\u001b[39m         code=\u001b[33m'\u001b[39m\u001b[33mvalidate-by-alias-and-name-false\u001b[39m\u001b[33m'\u001b[39m,\n\u001b[32m    703\u001b[39m     )\n\u001b[32m--> \u001b[39m\u001b[32m705\u001b[39m \u001b[38;5;28;01mreturn\u001b[39;00m \u001b[38;5;28;43mcls\u001b[39;49m\u001b[43m.\u001b[49m\u001b[43m__pydantic_validator__\u001b[49m\u001b[43m.\u001b[49m\u001b[43mvalidate_python\u001b[49m\u001b[43m(\u001b[49m\n\u001b[32m    706\u001b[39m \u001b[43m    \u001b[49m\u001b[43mobj\u001b[49m\u001b[43m,\u001b[49m\u001b[43m \u001b[49m\u001b[43mstrict\u001b[49m\u001b[43m=\u001b[49m\u001b[43mstrict\u001b[49m\u001b[43m,\u001b[49m\u001b[43m \u001b[49m\u001b[43mfrom_attributes\u001b[49m\u001b[43m=\u001b[49m\u001b[43mfrom_attributes\u001b[49m\u001b[43m,\u001b[49m\u001b[43m \u001b[49m\u001b[43mcontext\u001b[49m\u001b[43m=\u001b[49m\u001b[43mcontext\u001b[49m\u001b[43m,\u001b[49m\u001b[43m \u001b[49m\u001b[43mby_alias\u001b[49m\u001b[43m=\u001b[49m\u001b[43mby_alias\u001b[49m\u001b[43m,\u001b[49m\u001b[43m \u001b[49m\u001b[43mby_name\u001b[49m\u001b[43m=\u001b[49m\u001b[43mby_name\u001b[49m\n\u001b[32m    707\u001b[39m \u001b[43m\u001b[49m\u001b[43m)\u001b[49m\n",
      "\u001b[31mValidationError\u001b[39m: 3 validation errors for write_email\nto\n  Field required [type=missing, input_value={}, input_type=dict]\n    For further information visit https://errors.pydantic.dev/2.11/v/missing\nsubject\n  Field required [type=missing, input_value={}, input_type=dict]\n    For further information visit https://errors.pydantic.dev/2.11/v/missing\ncontent\n  Field required [type=missing, input_value={}, input_type=dict]\n    For further information visit https://errors.pydantic.dev/2.11/v/missing",
      "During task with name 'tool_handler' and id 'b0b200e5-6463-a25b-e445-d5a3338f6f58'",
      "During task with name 'response_agent' and id '49a81d8b-8787-efbd-a0b5-235186407632'"
     ]
    }
   ],
   "source": [
    "from langchain_core.runnables import RunnableConfig\n",
    "from langchain_teddynote.messages import invoke_graph\n",
    "\n",
    "\n",
    "email_input = {\n",
    "    \"author\": \"앨리스 스미스 <alice.smith@company.com>\",\n",
    "    \"to\": \"존 도이 <john.doe@company.com>\",\n",
    "    \"subject\": \"API 문서에 관한 간단한 질문입니다\",\n",
    "    \"email_thread\": \"존 씨, 안녕하세요.\\n새 인증 서비스의 API 문서를 검토하던 중 몇 가지 엔드포인트가 사양에서 누락된 것 같습니다. 이것이 의도된 것인지, 아니면 문서를 업데이트해야 하는지 확인해 주실 수 있나요?\\n구체적으로 살펴본 엔드포인트는 다음과 같습니다:\\n- /auth/refresh\\n- /auth/validate\\n감사합니다!\\n앨리스\",\n",
    "}\n",
    "\n",
    "config = RunnableConfig(configurable={\"thread_id\": \"1\"})\n",
    "\n",
    "invoke_graph(\n",
    "    graph=app_with_router,\n",
    "    inputs={\"email_input\": email_input},\n",
    "    config=config\n",
    ")"
   ]
  },
  {
   "cell_type": "markdown",
   "id": "023612ac",
   "metadata": {},
   "source": []
  },
  {
   "cell_type": "markdown",
   "id": "b85bb230",
   "metadata": {},
   "source": [
    "## 로컬 배포를 통한 테스트\n",
    "\n",
    "LangGraph Studio에서 로컬 테스트를 실행하려면 다음 명령어를 사용하세요:\n",
    "\n",
    "```shell\n",
    "cd studio\n",
    "langgraph dev\n",
    "```"
   ]
  },
  {
   "cell_type": "markdown",
   "id": "cfb4ce70",
   "metadata": {},
   "source": []
  }
 ],
 "metadata": {
  "kernelspec": {
   "display_name": "Python 3.13 (langchain-academy)",
   "language": "python",
   "name": "langchain-academy"
  },
  "language_info": {
   "codemirror_mode": {
    "name": "ipython",
    "version": 3
   },
   "file_extension": ".py",
   "mimetype": "text/x-python",
   "name": "python",
   "nbconvert_exporter": "python",
   "pygments_lexer": "ipython3",
   "version": "3.12.11"
  }
 },
 "nbformat": 4,
 "nbformat_minor": 5
}
