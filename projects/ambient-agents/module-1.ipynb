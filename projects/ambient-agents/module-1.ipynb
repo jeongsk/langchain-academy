{
 "cells": [
  {
   "cell_type": "markdown",
   "id": "bc96ccaa",
   "metadata": {},
   "source": [
    "## 앰비언트 에이전트 구축 소개\n",
    "\n",
    "이 과정의 주요 목표는 앰비언트 에이전트의 개념과 기존 채팅 에이전트와의 차이점을 탐구하는 것입니다.\n",
    "\n",
    "## LangGraph의 핵심 기본 사항\n",
    "\n",
    "이 과정은 노드, 엣지, 상태 그래프와 같은 LangGraph의 핵심 기본 사항에 익숙해지도록 설계되었습니다. 이러한 요소들은 우리가 만들 이메일 에이전트의 핵심 구성 요소가 될 것입니다.\n",
    "\n",
    "다양한 도구 및 플랫폼과의 통합 방법을 시연할 예정입니다. 여기에는 다양한 모델 제공업체와의 통합을 위한 LangChain, 관찰 가능성 및 평가를 위한 LangSmith, 배포를 위한 LangGraph 플랫폼, 시각화 및 디버깅을 위한 LangGraph Studio 사용법이 포함됩니다.\n",
    "\n",
    "![](./assets/36051.png)\n",
    "\n",
    "## Resources\n",
    "\n",
    "- Notebook Reference: langgraph_101.ipynb\n",
    "- Download Notebook on [GitHub](https://github.com/langchain-ai/agents-from-scratch/blob/main/notebooks/langgraph_101.ipynb)\n",
    "- For LangSmith Studio: [src/email_assistant](https://github.com/langchain-ai/agents-from-scratch/tree/main/src/email_assistant)\n",
    "- Slides: [Building Ambient Agents with LangGraph - LangGraph 101.pdf](https://files.cdn.thinkific.com/file_uploads/967498/attachments/b9a/35b/890/Building_Ambient_Agents_with_LangGraph_-_LangGraph_101.pdf)"
   ]
  },
  {
   "cell_type": "markdown",
   "id": "15e3a443",
   "metadata": {},
   "source": [
    "## 설치하기"
   ]
  },
  {
   "cell_type": "code",
   "execution_count": 1,
   "id": "abe1a562",
   "metadata": {},
   "outputs": [
    {
     "name": "stdout",
     "output_type": "stream",
     "text": [
      "Note: you may need to restart the kernel to use updated packages.\n"
     ]
    }
   ],
   "source": [
    "%pip install -Uq langchain"
   ]
  },
  {
   "cell_type": "markdown",
   "id": "b288dd52",
   "metadata": {},
   "source": [
    "## 환경 설정"
   ]
  },
  {
   "cell_type": "code",
   "execution_count": 2,
   "id": "2ec4e259",
   "metadata": {},
   "outputs": [
    {
     "data": {
      "text/plain": [
       "False"
      ]
     },
     "execution_count": 2,
     "metadata": {},
     "output_type": "execute_result"
    }
   ],
   "source": [
    "from dotenv import load_dotenv\n",
    "\n",
    "\n",
    "load_dotenv(\"../../.env\", override=True)"
   ]
  },
  {
   "cell_type": "code",
   "execution_count": 3,
   "id": "89b8877c",
   "metadata": {},
   "outputs": [],
   "source": [
    "import os\n",
    "\n",
    "\n",
    "os.environ[\"LANGSMITH_TRACING\"] = \"true\"\n",
    "os.environ[\"LANGSMITH_PROJECT\"] = \"langchain-academy\""
   ]
  },
  {
   "cell_type": "markdown",
   "id": "443a3350",
   "metadata": {},
   "source": [
    "## Chat models"
   ]
  },
  {
   "cell_type": "code",
   "execution_count": 6,
   "id": "8e9c8aec",
   "metadata": {},
   "outputs": [],
   "source": [
    "from langchain.chat_models import init_chat_model\n",
    "\n",
    "\n",
    "llm = init_chat_model(\"openai:gpt-4.1-mini\", temperature=0)"
   ]
  },
  {
   "cell_type": "markdown",
   "id": "230d6d50",
   "metadata": {},
   "source": [
    "## 도구(Tools)\n",
    "\n",
    "도구는 채팅 모델이 호출할 수 있는 유틸리티입니다. LangChain에서는 `@tool` 데코레이터를 사용하여 도구를 생성할 수 있으며, 이는 Python 함수를 호출 가능한 도구로 변환합니다. 이 데코레이터는 함수 정의로부터 도구의 이름, 설명 및 예상 인수를 자동으로 추론합니다. 또한 모델 컨텍스트 프로토콜(MCP) 서버를 LangChain 호환 도구로 사용할 수도 있습니다."
   ]
  },
  {
   "cell_type": "code",
   "execution_count": 8,
   "id": "f995f4a1",
   "metadata": {},
   "outputs": [],
   "source": [
    "from langchain.tools import tool\n",
    "\n",
    "\n",
    "@tool\n",
    "def write_email(to: str, subject: str, content: str):\n",
    "    \"\"\"이메일을 작성하고 전송합니다.\"\"\"\n",
    "    return f\"Email sent to {to} with subject '{subject}' and content: {content}\""
   ]
  },
  {
   "cell_type": "code",
   "execution_count": null,
   "id": "6c9d2a31",
   "metadata": {},
   "outputs": [
    {
     "data": {
      "text/plain": [
       "langchain_core.tools.structured.StructuredTool"
      ]
     },
     "execution_count": 9,
     "metadata": {},
     "output_type": "execute_result"
    }
   ],
   "source": [
    "type(write_email)"
   ]
  },
  {
   "cell_type": "code",
   "execution_count": 10,
   "id": "34a9fd03",
   "metadata": {},
   "outputs": [
    {
     "data": {
      "text/plain": [
       "{'to': {'title': 'To', 'type': 'string'},\n",
       " 'subject': {'title': 'Subject', 'type': 'string'},\n",
       " 'content': {'title': 'Content', 'type': 'string'}}"
      ]
     },
     "execution_count": 10,
     "metadata": {},
     "output_type": "execute_result"
    }
   ],
   "source": [
    "write_email.args"
   ]
  },
  {
   "cell_type": "code",
   "execution_count": 11,
   "id": "85deb3a2",
   "metadata": {},
   "outputs": [
    {
     "data": {
      "text/plain": [
       "'이메일을 작성하고 전송합니다.'"
      ]
     },
     "execution_count": 11,
     "metadata": {},
     "output_type": "execute_result"
    }
   ],
   "source": [
    "write_email.description"
   ]
  },
  {
   "cell_type": "markdown",
   "id": "00c61a4f",
   "metadata": {},
   "source": [
    "## Tool Calling\n",
    "\n",
    "도구는 대규모 언어 모델(LLM)에 의해 호출될 수 있습니다. 도구가 모델에 바인딩되면, 모델은 도구 인자를 포함한 구조화된 출력을 반환함으로써 도구를 호출할 수 있습니다. `bind_tools` 메서드를 사용하여 대규모 언어 모델에 도구를 추가합니다.\n",
    "\n",
    "프로바이더는 특정 도구를 호출하도록 강제하기 위해 [`tool_choice`와 같은 매개변수](https://python.langchain.com/docs/how_to/tool_choice/)를 사용할 수 있습니다. `any`는 도구 중 최소 하나를 선택합니다.\n",
    "\n",
    "또한 [`parallel_tool_calls=False`를 설정](https://python.langchain.com/docs/how_to/tool_calling_parallel/)하여 모델이 한 번에 하나의 도구만 호출하도록 보장할 수 있습니다."
   ]
  },
  {
   "cell_type": "code",
   "execution_count": 15,
   "id": "6fc6ea7d",
   "metadata": {},
   "outputs": [],
   "source": [
    "model_with_tools = llm.bind_tools(\n",
    "    [write_email],\n",
    "    tool_choice=\"any\",\n",
    "    parallel_tool_calls=False,\n",
    ")"
   ]
  },
  {
   "cell_type": "code",
   "execution_count": 16,
   "id": "671b1c14",
   "metadata": {},
   "outputs": [],
   "source": [
    "output = model_with_tools.invoke(\n",
    "    \"내일 회의에 대해 상사(boss@company.ai)에게 보낼 답변 초안을 작성해 주세요.\"\n",
    ")"
   ]
  },
  {
   "cell_type": "code",
   "execution_count": 17,
   "id": "4bdc754c",
   "metadata": {},
   "outputs": [
    {
     "data": {
      "text/plain": [
       "langchain_core.messages.ai.AIMessage"
      ]
     },
     "execution_count": 17,
     "metadata": {},
     "output_type": "execute_result"
    }
   ],
   "source": [
    "type(output)"
   ]
  },
  {
   "cell_type": "code",
   "execution_count": 18,
   "id": "904444d1",
   "metadata": {},
   "outputs": [
    {
     "data": {
      "text/plain": [
       "AIMessage(content='', additional_kwargs={'refusal': None}, response_metadata={'token_usage': {'completion_tokens': 105, 'prompt_tokens': 78, 'total_tokens': 183, 'completion_tokens_details': {'accepted_prediction_tokens': 0, 'audio_tokens': 0, 'reasoning_tokens': 0, 'rejected_prediction_tokens': 0}, 'prompt_tokens_details': {'audio_tokens': 0, 'cached_tokens': 0}}, 'model_provider': 'openai', 'model_name': 'gpt-4.1-mini-2025-04-14', 'system_fingerprint': 'fp_4c2851f862', 'id': 'chatcmpl-CT82YOxTOyNnmdrggFMfFSabXZvys', 'service_tier': 'default', 'finish_reason': 'tool_calls', 'logprobs': None}, id='lc_run--0fd07ac8-d814-4cce-b187-ac2e3ab0dd52-0', tool_calls=[{'name': 'write_email', 'args': {'to': 'boss@company.ai', 'subject': '내일 회의 관련 답변', 'content': '안녕하세요, 상사님.\\n\\n내일 회의에 대해 확인하였습니다. 준비된 자료와 안건을 바탕으로 적극적으로 참여하겠습니다. 혹시 추가로 요청하실 사항이나 논의하고 싶은 주제가 있으시면 미리 알려주시면 감사하겠습니다.\\n\\n감사합니다.\\n\\n[당신의 이름]'}, 'id': 'call_vQQAtQsOgOnalfvzOtzumBCg', 'type': 'tool_call'}], usage_metadata={'input_tokens': 78, 'output_tokens': 105, 'total_tokens': 183, 'input_token_details': {'audio': 0, 'cache_read': 0}, 'output_token_details': {'audio': 0, 'reasoning': 0}})"
      ]
     },
     "execution_count": 18,
     "metadata": {},
     "output_type": "execute_result"
    }
   ],
   "source": [
    "output"
   ]
  },
  {
   "cell_type": "code",
   "execution_count": 20,
   "id": "2b250a6a",
   "metadata": {},
   "outputs": [
    {
     "data": {
      "text/plain": [
       "{'to': 'boss@company.ai',\n",
       " 'subject': '내일 회의 관련 답변',\n",
       " 'content': '안녕하세요, 상사님.\\n\\n내일 회의에 대해 확인하였습니다. 준비된 자료와 안건을 바탕으로 적극적으로 참여하겠습니다. 혹시 추가로 요청하실 사항이나 논의하고 싶은 주제가 있으시면 미리 알려주시면 감사하겠습니다.\\n\\n감사합니다.\\n\\n[당신의 이름]'}"
      ]
     },
     "execution_count": 20,
     "metadata": {},
     "output_type": "execute_result"
    }
   ],
   "source": [
    "args = output.tool_calls[0]['args']\n",
    "args"
   ]
  },
  {
   "cell_type": "code",
   "execution_count": 30,
   "id": "d75568ab",
   "metadata": {},
   "outputs": [
    {
     "data": {
      "text/markdown": [
       "Email sent to boss@company.ai with subject '내일 회의 관련 답변' and content: 안녕하세요, 상사님.\n",
       "\n",
       "내일 회의에 대해 확인하였습니다. 준비된 자료와 안건을 바탕으로 적극적으로 참여하겠습니다. 혹시 추가로 요청하실 사항이나 논의하고 싶은 주제가 있으시면 미리 알려주시면 감사하겠습니다.\n",
       "\n",
       "감사합니다.\n",
       "\n",
       "[당신의 이름]"
      ],
      "text/plain": [
       "<IPython.core.display.Markdown object>"
      ]
     },
     "execution_count": 30,
     "metadata": {},
     "output_type": "execute_result"
    }
   ],
   "source": [
    "from IPython.display import Markdown\n",
    "\n",
    "\n",
    "result = write_email.invoke(args)\n",
    "Markdown(result)"
   ]
  },
  {
   "cell_type": "markdown",
   "id": "b2ed2433",
   "metadata": {},
   "source": [
    "## Workflows\n",
    "\n",
    "LLM을 활용한 애플리케이션 구축에는 다양한 패턴이 존재합니다.\n",
    "\n",
    "[사전 정의된 워크플로우에 LLM 호출함으로써](https://langchain-ai.github.io/langgraph/tutorials/workflows/) 시스템이 더 많은 의사 결정 권한을 가질 수 있습니다.\n",
    "\n",
    "이메일을 작성할지 여부를 결정하기 위한 라우터 단계를 추가할 수 있습니다.\n",
    "\n",
    "\n",
    "에이전트는 사전에 필요한 정확한 단계를 예측하기 어려운 개방형 문제에 적합합니다.\n",
    "\n",
    "워크플로는 제어 흐름을 사전에 쉽게 정의할 수 있을 때 종종 적합합니다."
   ]
  },
  {
   "cell_type": "markdown",
   "id": "69582dd3",
   "metadata": {},
   "source": [
    "## Agents\n",
    "\n"
   ]
  },
  {
   "cell_type": "markdown",
   "id": "9b09d98f",
   "metadata": {},
   "source": []
  }
 ],
 "metadata": {
  "kernelspec": {
   "display_name": ".venv-1 (3.14.0)",
   "language": "python",
   "name": "python3"
  },
  "language_info": {
   "codemirror_mode": {
    "name": "ipython",
    "version": 3
   },
   "file_extension": ".py",
   "mimetype": "text/x-python",
   "name": "python",
   "nbconvert_exporter": "python",
   "pygments_lexer": "ipython3",
   "version": "3.14.0"
  }
 },
 "nbformat": 4,
 "nbformat_minor": 5
}
