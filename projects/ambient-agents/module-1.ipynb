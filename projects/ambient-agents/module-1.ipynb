{
 "cells": [
  {
   "cell_type": "markdown",
   "id": "bc96ccaa",
   "metadata": {},
   "source": [
    "## 앰비언트 에이전트 구축 소개\n",
    "\n",
    "이 과정의 주요 목표는 앰비언트 에이전트의 개념과 기존 채팅 에이전트와의 차이점을 탐구하는 것입니다.\n",
    "\n",
    "## LangGraph의 핵심 기본 사항\n",
    "\n",
    "이 과정은 노드, 엣지, 상태 그래프와 같은 LangGraph의 핵심 기본 사항에 익숙해지도록 설계되었습니다. 이러한 요소들은 우리가 만들 이메일 에이전트의 핵심 구성 요소가 될 것입니다.\n",
    "\n",
    "다양한 도구 및 플랫폼과의 통합 방법을 시연할 예정입니다. 여기에는 다양한 모델 제공업체와의 통합을 위한 LangChain, 관찰 가능성 및 평가를 위한 LangSmith, 배포를 위한 LangGraph 플랫폼, 시각화 및 디버깅을 위한 LangGraph Studio 사용법이 포함됩니다.\n",
    "\n",
    "![](./assets/36051.png)\n",
    "\n",
    "## Resources\n",
    "\n",
    "- Notebook Reference: langgraph_101.ipynb\n",
    "- Download Notebook on [GitHub](https://github.com/langchain-ai/agents-from-scratch/blob/main/notebooks/langgraph_101.ipynb)\n",
    "- For LangSmith Studio: [src/email_assistant](https://github.com/langchain-ai/agents-from-scratch/tree/main/src/email_assistant)\n",
    "- Slides: [Building Ambient Agents with LangGraph - LangGraph 101.pdf](https://files.cdn.thinkific.com/file_uploads/967498/attachments/b9a/35b/890/Building_Ambient_Agents_with_LangGraph_-_LangGraph_101.pdf)"
   ]
  },
  {
   "cell_type": "markdown",
   "id": "15e3a443",
   "metadata": {},
   "source": [
    "## 설치하기"
   ]
  },
  {
   "cell_type": "code",
   "execution_count": 1,
   "id": "abe1a562",
   "metadata": {},
   "outputs": [
    {
     "name": "stdout",
     "output_type": "stream",
     "text": [
      "Note: you may need to restart the kernel to use updated packages.\n"
     ]
    }
   ],
   "source": [
    "%pip install -Uq langchain"
   ]
  },
  {
   "cell_type": "markdown",
   "id": "b288dd52",
   "metadata": {},
   "source": [
    "## 환경 설정"
   ]
  },
  {
   "cell_type": "code",
   "execution_count": 2,
   "id": "2ec4e259",
   "metadata": {},
   "outputs": [
    {
     "data": {
      "text/plain": [
       "False"
      ]
     },
     "execution_count": 2,
     "metadata": {},
     "output_type": "execute_result"
    }
   ],
   "source": [
    "from dotenv import load_dotenv\n",
    "\n",
    "\n",
    "load_dotenv(\"../../.env\", override=True)"
   ]
  },
  {
   "cell_type": "code",
   "execution_count": 3,
   "id": "89b8877c",
   "metadata": {},
   "outputs": [],
   "source": [
    "import os\n",
    "\n",
    "\n",
    "os.environ[\"LANGSMITH_TRACING\"] = \"true\"\n",
    "os.environ[\"LANGSMITH_PROJECT\"] = \"langchain-academy\""
   ]
  },
  {
   "cell_type": "markdown",
   "id": "443a3350",
   "metadata": {},
   "source": [
    "## Chat models"
   ]
  },
  {
   "cell_type": "code",
   "execution_count": 6,
   "id": "8e9c8aec",
   "metadata": {},
   "outputs": [],
   "source": [
    "from langchain.chat_models import init_chat_model\n",
    "\n",
    "\n",
    "llm = init_chat_model(\"openai:gpt-4.1-mini\", temperature=0)"
   ]
  },
  {
   "cell_type": "code",
   "execution_count": null,
   "id": "f995f4a1",
   "metadata": {},
   "outputs": [
    {
     "data": {
      "text/plain": [
       "AIMessage(content='An **agent** is an entity that can perceive its environment through sensors and act upon that environment through actuators to achieve certain goals. The term \"agent\" is commonly used in fields like artificial intelligence, robotics, and software engineering.\\n\\n### In Artificial Intelligence:\\n- An **intelligent agent** is a system that **autonomously** makes decisions and takes actions based on its perceptions and programmed objectives.\\n- It can be as simple as a thermostat (which senses temperature and turns heating on/off) or as complex as a self-driving car (which processes sensor data to navigate roads safely).\\n\\n### Key Characteristics of an Agent:\\n1. **Autonomy:** Operates without human intervention.\\n2. **Perception:** Receives data from the environment.\\n3. **Action:** Acts upon the environment.\\n4. **Goal-oriented:** Works towards achieving specific objectives.\\n5. **Adaptability:** Can learn or adapt based on experience (in some agents).\\n\\n### Examples:\\n- Software agents like chatbots or recommendation systems.\\n- Robots performing tasks in manufacturing.\\n- Virtual assistants like Siri or Alexa.\\n\\nIn summary, an agent is any entity capable of perceiving its environment and taking actions to fulfill its designed purpose.', additional_kwargs={'refusal': None}, response_metadata={'token_usage': {'completion_tokens': 241, 'prompt_tokens': 12, 'total_tokens': 253, 'completion_tokens_details': {'accepted_prediction_tokens': 0, 'audio_tokens': 0, 'reasoning_tokens': 0, 'rejected_prediction_tokens': 0}, 'prompt_tokens_details': {'audio_tokens': 0, 'cached_tokens': 0}}, 'model_provider': 'openai', 'model_name': 'gpt-4.1-mini-2025-04-14', 'system_fingerprint': 'fp_c064fdde7c', 'id': 'chatcmpl-CT7sPY1Ht3CXtMr5F590G7gtgOVU7', 'service_tier': 'default', 'finish_reason': 'stop', 'logprobs': None}, id='lc_run--fa857bb2-7a58-4a6f-9793-66b500053ee7-0', usage_metadata={'input_tokens': 12, 'output_tokens': 241, 'total_tokens': 253, 'input_token_details': {'audio': 0, 'cache_read': 0}, 'output_token_details': {'audio': 0, 'reasoning': 0}})"
      ]
     },
     "execution_count": 7,
     "metadata": {},
     "output_type": "execute_result"
    }
   ],
   "source": []
  },
  {
   "cell_type": "markdown",
   "id": "9b09d98f",
   "metadata": {},
   "source": []
  }
 ],
 "metadata": {
  "kernelspec": {
   "display_name": ".venv-1 (3.14.0)",
   "language": "python",
   "name": "python3"
  },
  "language_info": {
   "codemirror_mode": {
    "name": "ipython",
    "version": 3
   },
   "file_extension": ".py",
   "mimetype": "text/x-python",
   "name": "python",
   "nbconvert_exporter": "python",
   "pygments_lexer": "ipython3",
   "version": "3.14.0"
  }
 },
 "nbformat": 4,
 "nbformat_minor": 5
}
