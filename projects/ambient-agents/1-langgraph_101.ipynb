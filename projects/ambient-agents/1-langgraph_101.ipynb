{
 "cells": [
  {
   "cell_type": "markdown",
   "id": "bc96ccaa",
   "metadata": {},
   "source": [
    "## 앰비언트 에이전트 구축 소개\n",
    "\n",
    "이 과정의 주요 목표는 앰비언트 에이전트의 개념과 기존 채팅 에이전트와의 차이점을 탐구하는 것입니다.\n",
    "\n",
    "## LangGraph의 핵심 기본 사항\n",
    "\n",
    "이 과정은 노드, 엣지, 상태 그래프와 같은 LangGraph의 핵심 기본 사항에 익숙해지도록 설계되었습니다. 이러한 요소들은 우리가 만들 이메일 에이전트의 핵심 구성 요소가 될 것입니다.\n",
    "\n",
    "다양한 도구 및 플랫폼과의 통합 방법을 시연할 예정입니다. 여기에는 다양한 모델 제공업체와의 통합을 위한 LangChain, 관찰 가능성 및 평가를 위한 LangSmith, 배포를 위한 LangGraph 플랫폼, 시각화 및 디버깅을 위한 LangGraph Studio 사용법이 포함됩니다.\n",
    "\n",
    "![](./assets/36051.png)\n",
    "\n",
    "## Resources\n",
    "\n",
    "- Notebook Reference: [langgraph_101.ipynb](https://github.com/langchain-ai/agents-from-scratch/blob/main/notebooks/langgraph_101.ipynb)\n",
    "- For LangSmith Studio: [src/email_assistant](https://github.com/langchain-ai/agents-from-scratch/tree/main/src/email_assistant)\n",
    "- Slides: [Building Ambient Agents with LangGraph - LangGraph 101.pdf](https://files.cdn.thinkific.com/file_uploads/967498/attachments/b9a/35b/890/Building_Ambient_Agents_with_LangGraph_-_LangGraph_101.pdf)"
   ]
  },
  {
   "cell_type": "markdown",
   "id": "15e3a443",
   "metadata": {},
   "source": [
    "## 설치하기"
   ]
  },
  {
   "cell_type": "code",
   "execution_count": 21,
   "id": "abe1a562",
   "metadata": {},
   "outputs": [
    {
     "name": "stdout",
     "output_type": "stream",
     "text": [
      "Note: you may need to restart the kernel to use updated packages.\n"
     ]
    }
   ],
   "source": [
    "%pip install -Uq langchain"
   ]
  },
  {
   "cell_type": "markdown",
   "id": "b288dd52",
   "metadata": {},
   "source": [
    "## 환경 설정"
   ]
  },
  {
   "cell_type": "code",
   "execution_count": 22,
   "id": "2ec4e259",
   "metadata": {},
   "outputs": [
    {
     "data": {
      "text/plain": [
       "False"
      ]
     },
     "execution_count": 22,
     "metadata": {},
     "output_type": "execute_result"
    }
   ],
   "source": [
    "from dotenv import load_dotenv\n",
    "\n",
    "\n",
    "load_dotenv(\"../../.env\", override=True)"
   ]
  },
  {
   "cell_type": "code",
   "execution_count": 23,
   "id": "89b8877c",
   "metadata": {},
   "outputs": [],
   "source": [
    "import os\n",
    "\n",
    "\n",
    "os.environ[\"LANGSMITH_TRACING\"] = \"true\"\n",
    "os.environ[\"LANGSMITH_PROJECT\"] = \"langchain-academy\""
   ]
  },
  {
   "cell_type": "markdown",
   "id": "443a3350",
   "metadata": {},
   "source": [
    "## Chat models"
   ]
  },
  {
   "cell_type": "code",
   "execution_count": 24,
   "id": "8e9c8aec",
   "metadata": {},
   "outputs": [],
   "source": [
    "from langchain.chat_models import init_chat_model\n",
    "\n",
    "\n",
    "llm = init_chat_model(\"openai:gpt-4.1-mini\", temperature=0)"
   ]
  },
  {
   "cell_type": "markdown",
   "id": "230d6d50",
   "metadata": {},
   "source": [
    "## 도구(Tools)\n",
    "\n",
    "도구는 채팅 모델이 호출할 수 있는 유틸리티입니다. LangChain에서는 `@tool` 데코레이터를 사용하여 도구를 생성할 수 있으며, 이는 Python 함수를 호출 가능한 도구로 변환합니다. 이 데코레이터는 함수 정의로부터 도구의 이름, 설명 및 예상 인수를 자동으로 추론합니다. 또한 모델 컨텍스트 프로토콜(MCP) 서버를 LangChain 호환 도구로 사용할 수도 있습니다."
   ]
  },
  {
   "cell_type": "code",
   "execution_count": 25,
   "id": "f995f4a1",
   "metadata": {},
   "outputs": [],
   "source": [
    "from langchain.tools import tool\n",
    "\n",
    "\n",
    "@tool\n",
    "def write_email(to: str, subject: str, content: str):\n",
    "    \"\"\"이메일을 작성하고 전송합니다.\"\"\"\n",
    "    return f\"Email sent to {to} with subject '{subject}' and content: {content}\""
   ]
  },
  {
   "cell_type": "code",
   "execution_count": 26,
   "id": "6c9d2a31",
   "metadata": {},
   "outputs": [
    {
     "data": {
      "text/plain": [
       "langchain_core.tools.structured.StructuredTool"
      ]
     },
     "execution_count": 26,
     "metadata": {},
     "output_type": "execute_result"
    }
   ],
   "source": [
    "type(write_email)"
   ]
  },
  {
   "cell_type": "code",
   "execution_count": 27,
   "id": "34a9fd03",
   "metadata": {},
   "outputs": [
    {
     "data": {
      "text/plain": [
       "{'to': {'title': 'To', 'type': 'string'},\n",
       " 'subject': {'title': 'Subject', 'type': 'string'},\n",
       " 'content': {'title': 'Content', 'type': 'string'}}"
      ]
     },
     "execution_count": 27,
     "metadata": {},
     "output_type": "execute_result"
    }
   ],
   "source": [
    "write_email.args"
   ]
  },
  {
   "cell_type": "code",
   "execution_count": 28,
   "id": "85deb3a2",
   "metadata": {},
   "outputs": [
    {
     "data": {
      "text/plain": [
       "'이메일을 작성하고 전송합니다.'"
      ]
     },
     "execution_count": 28,
     "metadata": {},
     "output_type": "execute_result"
    }
   ],
   "source": [
    "write_email.description"
   ]
  },
  {
   "cell_type": "markdown",
   "id": "00c61a4f",
   "metadata": {},
   "source": [
    "## Tool Calling\n",
    "\n",
    "도구는 대규모 언어 모델(LLM)에 의해 호출될 수 있습니다. 도구가 모델에 바인딩되면, 모델은 도구 인자를 포함한 구조화된 출력을 반환함으로써 도구를 호출할 수 있습니다. `bind_tools` 메서드를 사용하여 대규모 언어 모델에 도구를 추가합니다.\n",
    "\n",
    "![](assets/tool_call_detail.png)\n",
    "\n",
    "프로바이더는 특정 도구를 호출하도록 강제하기 위해 [`tool_choice`와 같은 매개변수](https://python.langchain.com/docs/how_to/tool_choice/)를 사용할 수 있습니다. `any`는 도구 중 최소 하나를 선택합니다.\n",
    "\n",
    "또한 [`parallel_tool_calls=False`를 설정](https://python.langchain.com/docs/how_to/tool_calling_parallel/)하여 모델이 한 번에 하나의 도구만 호출하도록 보장할 수 있습니다."
   ]
  },
  {
   "cell_type": "code",
   "execution_count": 29,
   "id": "6fc6ea7d",
   "metadata": {},
   "outputs": [],
   "source": [
    "model_with_tools = llm.bind_tools(\n",
    "    [write_email],\n",
    "    tool_choice=\"any\",\n",
    "    parallel_tool_calls=False,\n",
    ")"
   ]
  },
  {
   "cell_type": "code",
   "execution_count": 30,
   "id": "671b1c14",
   "metadata": {},
   "outputs": [],
   "source": [
    "output = model_with_tools.invoke(\n",
    "    \"내일 회의에 대해 상사(boss@company.ai)에게 보낼 답변 초안을 작성해 주세요.\"\n",
    ")"
   ]
  },
  {
   "cell_type": "code",
   "execution_count": 31,
   "id": "4bdc754c",
   "metadata": {},
   "outputs": [
    {
     "data": {
      "text/plain": [
       "langchain_core.messages.ai.AIMessage"
      ]
     },
     "execution_count": 31,
     "metadata": {},
     "output_type": "execute_result"
    }
   ],
   "source": [
    "type(output)"
   ]
  },
  {
   "cell_type": "code",
   "execution_count": 32,
   "id": "904444d1",
   "metadata": {},
   "outputs": [
    {
     "data": {
      "text/plain": [
       "AIMessage(content='', additional_kwargs={'refusal': None}, response_metadata={'token_usage': {'completion_tokens': 94, 'prompt_tokens': 78, 'total_tokens': 172, 'completion_tokens_details': {'accepted_prediction_tokens': 0, 'audio_tokens': 0, 'reasoning_tokens': 0, 'rejected_prediction_tokens': 0}, 'prompt_tokens_details': {'audio_tokens': 0, 'cached_tokens': 0}}, 'model_provider': 'openai', 'model_name': 'gpt-4.1-mini-2025-04-14', 'system_fingerprint': 'fp_c064fdde7c', 'id': 'chatcmpl-CTU04cvRPmrxDoW8ptPIegI7y04GF', 'service_tier': 'default', 'finish_reason': 'tool_calls', 'logprobs': None}, id='lc_run--2e7b133c-0f22-4863-96fe-d733c38ce8b2-0', tool_calls=[{'name': 'write_email', 'args': {'to': 'boss@company.ai', 'subject': '내일 회의 관련 답변', 'content': '안녕하세요, 상사님.\\n\\n내일 회의에 대해 확인하였습니다. 준비된 자료와 안건을 바탕으로 회의에 적극 참여하겠습니다. 혹시 추가로 준비해야 할 사항이나 요청하실 내용이 있으시면 알려주시기 바랍니다.\\n\\n감사합니다.'}, 'id': 'call_xS7ksdMlOGcSvz1V4RHZj8BU', 'type': 'tool_call'}], usage_metadata={'input_tokens': 78, 'output_tokens': 94, 'total_tokens': 172, 'input_token_details': {'audio': 0, 'cache_read': 0}, 'output_token_details': {'audio': 0, 'reasoning': 0}})"
      ]
     },
     "execution_count": 32,
     "metadata": {},
     "output_type": "execute_result"
    }
   ],
   "source": [
    "output"
   ]
  },
  {
   "cell_type": "code",
   "execution_count": 33,
   "id": "2b250a6a",
   "metadata": {},
   "outputs": [
    {
     "data": {
      "text/plain": [
       "{'to': 'boss@company.ai',\n",
       " 'subject': '내일 회의 관련 답변',\n",
       " 'content': '안녕하세요, 상사님.\\n\\n내일 회의에 대해 확인하였습니다. 준비된 자료와 안건을 바탕으로 회의에 적극 참여하겠습니다. 혹시 추가로 준비해야 할 사항이나 요청하실 내용이 있으시면 알려주시기 바랍니다.\\n\\n감사합니다.'}"
      ]
     },
     "execution_count": 33,
     "metadata": {},
     "output_type": "execute_result"
    }
   ],
   "source": [
    "args = output.tool_calls[0][\"args\"]\n",
    "args"
   ]
  },
  {
   "cell_type": "code",
   "execution_count": 34,
   "id": "d75568ab",
   "metadata": {},
   "outputs": [
    {
     "data": {
      "text/markdown": [
       "Email sent to boss@company.ai with subject '내일 회의 관련 답변' and content: 안녕하세요, 상사님.\n",
       "\n",
       "내일 회의에 대해 확인하였습니다. 준비된 자료와 안건을 바탕으로 회의에 적극 참여하겠습니다. 혹시 추가로 준비해야 할 사항이나 요청하실 내용이 있으시면 알려주시기 바랍니다.\n",
       "\n",
       "감사합니다."
      ],
      "text/plain": [
       "<IPython.core.display.Markdown object>"
      ]
     },
     "execution_count": 34,
     "metadata": {},
     "output_type": "execute_result"
    }
   ],
   "source": [
    "from IPython.display import Markdown\n",
    "\n",
    "\n",
    "result = write_email.invoke(args)\n",
    "Markdown(result)"
   ]
  },
  {
   "cell_type": "markdown",
   "id": "65e26732",
   "metadata": {},
   "source": [
    "![](assets/tool_call.png)"
   ]
  },
  {
   "cell_type": "markdown",
   "id": "b2ed2433",
   "metadata": {},
   "source": [
    "## 워크플로우(Workflows)\n",
    "\n",
    "LLM을 활용한 애플리케이션을 구축하는 방법에는 여러 패턴이 있습니다.\n",
    "\n",
    "[사전에 정의된 워크플로우에 LLM 호출을 내장](https://langchain-ai.github.io/langgraph/tutorials/workflows/)하여 시스템이 더 많은 자율성을 갖고 의사결정을 내리도록 할 수 있습니다.\n",
    "\n",
    "예를 들어, 이메일을 작성할지 말지를 결정하는 라우터 단계를 추가할 수 있습니다.\n",
    "\n",
    "![](assets/workflow_example.png)"
   ]
  },
  {
   "cell_type": "markdown",
   "id": "69582dd3",
   "metadata": {},
   "source": [
    "## 에이전트(Agents)\n",
    "\n",
    "더 나아가 자율성을 높여서 LLM이 동적으로 도구 사용을 직접 결정하도록 할 수 있습니다.\n",
    "\n",
    "[에이전트](https://langchain-ai.github.io/langgraph/tutorials/workflows/)는 일반적으로 반복문 내에서 도구를 호출하는 방식으로 구현되며, 각 도구 호출의 출력이 다음 행동을 결정하는 데 사용됩니다.\n",
    "\n",
    "![agent_example](assets/agent_example.png)\n",
    "\n",
    "에이전트는 필요한 *정확한* 단계를 미리 예측하기 어려운 개방형 문제에 적합합니다.\n",
    "\n",
    "워크플로우는 제어 흐름을 사전에 쉽게 정의할 수 있을 때 적절합니다.\n",
    "\n",
    "| | 워크플로우 (Workflow) | 에이전트 (Agent) |\n",
    "| :--- | :--- | :--- |\n",
    "| **행동 순서** | 사전에 나열하기 쉬움 | 런타임까지 알 수 없음 |\n",
    "| **프로세스** | 선형 또는 분기형 | 유연한 의사 결정 (백트래킹 등) |\n",
    "| **성능** | 지연 시간 / 비용이 중요함 | 더 많은 일반화를 위한 트레이드오프 |\n",
    "\n",
    "---\n",
    "\n",
    "**경험적 방법 (Heuristic):** 만약 *화이트보드에 흐름을 쉽게 그릴 수 있다면*, 하드코딩된 워크플로우로 만드는 것이 아마도 더 좋습니다. 만약 *사용자의 입력을 보지 않고 시스템이 어떻게 진행되어야 할지 예측할 수 없다면*, 아마도 에이전트가 필요할 것입니다."
   ]
  },
  {
   "cell_type": "markdown",
   "id": "1b199362",
   "metadata": {},
   "source": [
    "\n",
    "## LangGraph란 무엇인가?\n",
    "\n",
    "[LangGraph](https://langchain-ai.github.io/langgraph/concepts/high_level/)는 *모든* 워크플로우나 에이전트의 하부에 위치하는 저수준 지원 인프라를 제공합니다.\n",
    "\n",
    "프롬프트나 아키텍처를 추상화하지 않으며, 다음과 같은 이점을 제공합니다:\n",
    "\n",
    "- **제어**: 에이전트와 워크플로우를 정의하거나 결합하기 쉽게 만듭니다.\n",
    "- **영속성**: 그래프의 상태를 유지하는 방법을 제공하여 메모리와 사람-인-더-루프(human-in-the-loop)를 가능하게 합니다.\n",
    "- **테스트, 디버깅, 배포**: 애플리케이션의 테스트, 디버깅, 배포를 위한 쉬운 진입점을 제공합니다.\n",
    "\n",
    "### 제어\n",
    "\n",
    "LangGraph를 사용하면 애플리케이션을 다음과 같은 그래프로 정의할 수 있습니다:\n",
    "\n",
    "1. *상태(State)*: 애플리케이션 전체에서 추적해야 할 정보는 무엇인가?\n",
    "2. *노드(Nodes)*: 애플리케이션이 진행되는 동안 이 정보를 어떻게 업데이트할 것인가?\n",
    "3. *엣지(Edges)*: 이 노드들을 어떻게 연결할 것인가?\n",
    "\n",
    "[`StateGraph` 클래스](https://langchain-ai.github.io/langgraph/concepts/low_level/#graphs)를 사용하여 [`State` 객체](https://langchain-ai.github.io/langgraph/concepts/low_level/#state)로 LangGraph 그래프를 초기화할 수 있습니다.\n",
    "\n",
    "`State`는 애플리케이션 전체에서 추적하고자 하는 정보의 스키마를 정의합니다.\n",
    "\n",
    "이것은 파이썬에서 `getattr()`를 가진 모든 객체가 될 수 있으며, 딕셔너리, 데이터클래스, Pydantic 객체 등이 있습니다:\n",
    "\n",
    "- TypeDict는 가장 빠르지만 기본값을 지원하지 않습니다\n",
    "- Dataclass는 거의 동일하게 빠르며, 점 문법 `state.foo`를 지원하고 기본값을 가집니다\n",
    "- Pydantic은 (특히 커스텀 검증자를 사용할 때) 느리지만 타입 검증을 제공합니다\n"
   ]
  },
  {
   "cell_type": "code",
   "execution_count": 35,
   "id": "93ef9969",
   "metadata": {},
   "outputs": [],
   "source": [
    "from typing import Annotated, TypedDict\n",
    "\n",
    "from langgraph.graph import END, START, StateGraph\n",
    "\n",
    "\n",
    "class StateSchema(TypedDict):\n",
    "    request: Annotated[str, \"request\"]\n",
    "    email: Annotated[str, \"email\"]\n",
    "\n",
    "\n",
    "workflow = StateGraph(StateSchema)"
   ]
  },
  {
   "cell_type": "markdown",
   "id": "94e9a123",
   "metadata": {},
   "source": [
    "각 노드는 단순히 파이썬 함수나 타입스크립트 코드입니다. 이를 통해 각 노드 내부의 로직을 완전히 제어할 수 있습니다.\n",
    "\n",
    "노드는 현재 상태를 받아서, 상태를 업데이트하기 위한 딕셔너리를 반환합니다.\n",
    "\n",
    "기본적으로 [상태 키는 덮어쓰기](https://langchain-ai.github.io/langgraph/how-tos/state-reducers/)됩니다.\n",
    "\n",
    "하지만 [커스텀 업데이트 로직을 정의](https://langchain-ai.github.io/langgraph/concepts/low_level/#reducers)할 수도 있습니다.\n",
    "\n",
    "![nodes_edges](assets/nodes_edges.png)"
   ]
  },
  {
   "cell_type": "code",
   "execution_count": 36,
   "id": "71081c51",
   "metadata": {},
   "outputs": [],
   "source": [
    "def write_email_node(state: StateSchema) -> StateSchema | dict:\n",
    "    output = model_with_tools.invoke(state[\"request\"])\n",
    "    args = output.tool_calls[0][\"args\"]\n",
    "    email = write_email.invoke(args)\n",
    "    return {\"email\": email}"
   ]
  },
  {
   "cell_type": "markdown",
   "id": "c7775f23",
   "metadata": {},
   "source": [
    "엣지는 노드들을 서로 연결합니다.\n",
    "\n",
    "상태 그래프에 엣지와 노드를 추가함으로써 제어 흐름을 지정합니다."
   ]
  },
  {
   "cell_type": "code",
   "execution_count": 37,
   "id": "aad030a4",
   "metadata": {},
   "outputs": [
    {
     "data": {
      "image/png": "[encoded data removed]",
      "text/plain": [
       "<langgraph.graph.state.CompiledStateGraph object at 0x1135bfd90>"
      ]
     },
     "execution_count": 37,
     "metadata": {},
     "output_type": "execute_result"
    }
   ],
   "source": [
    "workflow = StateGraph(StateSchema)\n",
    "workflow.add_node(\"write_email_node\", write_email_node)\n",
    "workflow.add_edge(START, \"write_email_node\")\n",
    "workflow.add_edge(\"write_email_node\", END)\n",
    "\n",
    "app = workflow.compile()\n",
    "app"
   ]
  },
  {
   "cell_type": "code",
   "execution_count": 38,
   "id": "7f2150b7",
   "metadata": {},
   "outputs": [
    {
     "data": {
      "text/plain": [
       "{'request': '내일 회의에 대해 상사(boss@company.ai)에게 보낼 답변 초안을 작성해 주세요.',\n",
       " 'email': \"Email sent to boss@company.ai with subject '내일 회의 관련 답변' and content: 안녕하세요, 상사님.\\n\\n내일 회의에 대해 확인하였습니다. 준비된 자료와 안건을 바탕으로 회의에 적극 참여하겠습니다. 혹시 추가로 준비해야 할 사항이나 요청사항이 있으시면 알려주시기 바랍니다.\\n\\n감사합니다.\"}"
      ]
     },
     "execution_count": 38,
     "metadata": {},
     "output_type": "execute_result"
    }
   ],
   "source": [
    "app.invoke(\n",
    "    {\n",
    "        \"request\": \"내일 회의에 대해 상사(boss@company.ai)에게 보낼 답변 초안을 작성해 주세요.\"\n",
    "    }\n",
    ")"
   ]
  },
  {
   "cell_type": "markdown",
   "id": "c71136d2",
   "metadata": {},
   "source": [
    "노드 간 라우팅은 간단한 함수를 사용하여 [조건부 엣지(conditional-edges)](https://langchain-ai.github.io/langgraph/concepts/low_level/#conditional-edges)로 수행할 수 있습니다.\n",
    "\n",
    "이 함수의 반환값은 상태를 다음으로 전달할 노드(또는 노드 목록)의 이름으로 사용됩니다. \n",
    "\n",
    "선택적으로 `should_continue` 출력을 다음 노드의 이름으로 매핑하는 사전(dictionary)을 제공할 수 있습니다."
   ]
  },
  {
   "cell_type": "code",
   "execution_count": 47,
   "id": "f1f77c1b",
   "metadata": {},
   "outputs": [],
   "source": [
    "from typing import Literal\n",
    "\n",
    "from langchain_core.messages import ToolMessage\n",
    "\n",
    "from langgraph.graph import END, START, MessagesState, StateGraph\n",
    "\n",
    "\n",
    "def call_llm(state: MessagesState):\n",
    "    output = model_with_tools.invoke(state[\"messages\"])\n",
    "    return {\"messages\": [output]}\n",
    "\n",
    "\n",
    "def run_tool(state: MessagesState):\n",
    "    result = []\n",
    "    for tool_call in state[\"messages\"][-1].tool_calls:\n",
    "        observation = write_email.invoke(tool_call[\"args\"])\n",
    "        result.append(ToolMessage(content=observation, tool_call_id=tool_call[\"id\"]))\n",
    "    return {\"messages\": result}\n",
    "\n",
    "\n",
    "def should_continue(state: MessagesState) -> Literal[\"run_tool\", \"__end__\"]:\n",
    "    last_message = state[\"messages\"][-1]\n",
    "    if last_message.tool_calls:\n",
    "        return \"run_tool\"\n",
    "    return \"__end__\"\n",
    "\n",
    "\n",
    "workflow = StateGraph(MessagesState)\n",
    "workflow.add_node(\"call_llm\", call_llm)\n",
    "workflow.add_node(\"run_tool\", run_tool)\n",
    "workflow.add_edge(START, \"call_llm\")\n",
    "workflow.add_conditional_edges(\n",
    "    \"call_llm\",\n",
    "    should_continue,\n",
    "    {\n",
    "        \"run_tool\": \"run_tool\",\n",
    "        END: END,\n",
    "    },\n",
    ")\n",
    "workflow.add_edge(\"run_tool\", END)\n",
    "\n",
    "app = workflow.compile()"
   ]
  },
  {
   "cell_type": "code",
   "execution_count": 48,
   "id": "fbb82a2d",
   "metadata": {},
   "outputs": [
    {
     "data": {
      "image/png": "[encoded data removed]",
      "text/plain": [
       "<langgraph.graph.state.CompiledStateGraph object at 0x1135f27a0>"
      ]
     },
     "execution_count": 48,
     "metadata": {},
     "output_type": "execute_result"
    }
   ],
   "source": [
    "app"
   ]
  },
  {
   "cell_type": "code",
   "execution_count": 49,
   "id": "fc22cec8",
   "metadata": {},
   "outputs": [
    {
     "name": "stdout",
     "output_type": "stream",
     "text": [
      "================================\u001b[1m Human Message \u001b[0m=================================\n",
      "\n",
      "상사(boss@company.ai)에게 Interrupt! 행사 참석 의사를 확인하는 회신을 작성해 주세요.\n",
      "==================================\u001b[1m Ai Message \u001b[0m==================================\n",
      "Tool Calls:\n",
      "  write_email (call_YJ2Wl3LZibmcZFvvEOsp1Iqo)\n",
      " Call ID: call_YJ2Wl3LZibmcZFvvEOsp1Iqo\n",
      "  Args:\n",
      "    to: boss@company.ai\n",
      "    subject: Interrupt! 행사 참석 의사 확인\n",
      "    content: 안녕하세요,\n",
      "\n",
      "Interrupt! 행사 참석 여부를 확인하고자 합니다. 참석 가능하신지 회신 부탁드립니다.\n",
      "\n",
      "감사합니다.\n",
      "=================================\u001b[1m Tool Message \u001b[0m=================================\n",
      "\n",
      "Email sent to boss@company.ai with subject 'Interrupt! 행사 참석 의사 확인' and content: 안녕하세요,\n",
      "\n",
      "Interrupt! 행사 참석 여부를 확인하고자 합니다. 참석 가능하신지 회신 부탁드립니다.\n",
      "\n",
      "감사합니다.\n"
     ]
    }
   ],
   "source": [
    "from langchain.messages import HumanMessage\n",
    "\n",
    "\n",
    "result = app.invoke(\n",
    "    {\n",
    "        \"messages\": [\n",
    "            HumanMessage(\n",
    "                \"상사(boss@company.ai)에게 Interrupt! 행사 참석 의사를 확인하는 회신을 작성해 주세요.\",\n",
    "            )\n",
    "        ]\n",
    "    }\n",
    ")\n",
    "\n",
    "for m in result[\"messages\"]:\n",
    "    m.pretty_print()"
   ]
  },
  {
   "cell_type": "markdown",
   "id": "aaea0a8b",
   "metadata": {},
   "source": [
    "에이전트는 매우 흔한 패턴이기 때문에 LangGraph에는 미리 구축된 에이전트 추상화 기능이 있습니다.\n",
    "\n",
    "LangGraph의 사전 구축된 메서드를 사용하면 LLM, 도구, 프롬프트만 전달하면 됩니다."
   ]
  },
  {
   "cell_type": "code",
   "execution_count": 50,
   "id": "ffd68f39",
   "metadata": {},
   "outputs": [
    {
     "name": "stderr",
     "output_type": "stream",
     "text": [
      "/var/folders/z8/xfx3ln6x16x1fy6q7kpf1tzh0000gn/T/ipykernel_57442/1022834063.py:4: LangGraphDeprecatedSinceV10: create_react_agent has been moved to `langchain.agents`. Please update your import to `from langchain.agents import create_agent`. Deprecated in LangGraph V1.0 to be removed in V2.0.\n",
      "  agent = create_react_agent(\n"
     ]
    },
    {
     "name": "stdout",
     "output_type": "stream",
     "text": [
      "================================\u001b[1m Human Message \u001b[0m=================================\n",
      "\n",
      "상사(boss@company.ai)에게 Interrupt! 행사 참석 의사를 확인하는 회신을 작성해 주세요.\n",
      "==================================\u001b[1m Ai Message \u001b[0m==================================\n",
      "Tool Calls:\n",
      "  write_email (call_RG2cFQfbMWCeFCU2E3qB3zOr)\n",
      " Call ID: call_RG2cFQfbMWCeFCU2E3qB3zOr\n",
      "  Args:\n",
      "    to: boss@company.ai\n",
      "    subject: Interrupt! 행사 참석 의사 확인\n",
      "    content: 안녕하세요,\n",
      "\n",
      "Interrupt! 행사 참석에 대해 의사를 확인 드립니다. 참석 여부를 알려주시면 준비에 참고하겠습니다.\n",
      "\n",
      "감사합니다.\n",
      "=================================\u001b[1m Tool Message \u001b[0m=================================\n",
      "Name: write_email\n",
      "\n",
      "Email sent to boss@company.ai with subject 'Interrupt! 행사 참석 의사 확인' and content: 안녕하세요,\n",
      "\n",
      "Interrupt! 행사 참석에 대해 의사를 확인 드립니다. 참석 여부를 알려주시면 준비에 참고하겠습니다.\n",
      "\n",
      "감사합니다.\n",
      "==================================\u001b[1m Ai Message \u001b[0m==================================\n",
      "\n",
      "상사님께 Interrupt! 행사 참석 의사를 확인하는 회신 메일을 작성하여 전송했습니다. 추가로 도와드릴 사항이 있으면 말씀해 주세요.\n"
     ]
    }
   ],
   "source": [
    "from langgraph.prebuilt import create_react_agent\n",
    "\n",
    "\n",
    "agent = create_react_agent(\n",
    "    model=\"openai:gpt-4.1-mini\",\n",
    "    tools=[write_email],\n",
    "    prompt=\"제공된 도구를 사용하여 사용자의 요청에 응답하십시오.\",\n",
    ")\n",
    "\n",
    "result = agent.invoke(\n",
    "    {\n",
    "        \"messages\": [\n",
    "            HumanMessage(\n",
    "                \"상사(boss@company.ai)에게 Interrupt! 행사 참석 의사를 확인하는 회신을 작성해 주세요.\",\n",
    "            )\n",
    "        ]\n",
    "    }\n",
    ")\n",
    "\n",
    "for m in result[\"messages\"]:\n",
    "    m.pretty_print()"
   ]
  },
  {
   "cell_type": "markdown",
   "id": "13ca786f",
   "metadata": {},
   "source": [
    "#### 인터럽트\n",
    "\n",
    "LangGraph에서는 특정 지점에서 그래프 실행을 중지하기 위해 인터럽트를 사용할 수도 있습니다.\n",
    "\n",
    "이는 주로 사용자로부터 입력을 수집하고, 수집된 입력으로 실행을 계속하기 위해 사용됩니다."
   ]
  },
  {
   "cell_type": "code",
   "execution_count": null,
   "id": "e72ed756",
   "metadata": {},
   "outputs": [],
   "source": [
    "from typing import TypedDict\n",
    "\n",
    "from langgraph.checkpoint.memory import InMemorySaver\n",
    "from langgraph.graph import END, START, StateGraph\n",
    "from langgraph.types import Command, interrupt\n",
    "\n",
    "\n",
    "class State(TypedDict):\n",
    "    input: str\n",
    "    user_feedback: str\n",
    "\n",
    "\n",
    "def step_1(state: State):\n",
    "    print(\"---Step 1\")\n",
    "    pass\n",
    "\n",
    "\n",
    "def human_feedback(state: State):\n",
    "    print(\"---human_feedback---\")\n",
    "    feedback = interrupt(\"피드백을 제공해 주십시오:\")\n",
    "    return {\"user_feedback\": feedback}\n",
    "\n",
    "\n",
    "def step_3(state: State):\n",
    "    print(\"---Step 3\")\n",
    "    pass\n",
    "\n",
    "\n",
    "builder = StateGraph(State)\n",
    "builder.add_node(step_1)\n",
    "builder.add_node(human_feedback)\n",
    "builder.add_node(step_3)\n",
    "builder.set_entry_point(\"step_1\")\n",
    "builder.add_edge(\"step_1\", \"human_feedback\")\n",
    "builder.add_edge(\"human_feedback\", \"step_3\")\n",
    "builder.set_finish_point(\"step_3\")\n",
    "\n",
    "graph = builder.compile(checkpointer=InMemorySaver())"
   ]
  },
  {
   "cell_type": "code",
   "execution_count": 52,
   "id": "4d9538be",
   "metadata": {},
   "outputs": [
    {
     "data": {
      "image/png": "[encoded data removed]",
      "text/plain": [
       "<langgraph.graph.state.CompiledStateGraph object at 0x113983ac0>"
      ]
     },
     "execution_count": 52,
     "metadata": {},
     "output_type": "execute_result"
    }
   ],
   "source": [
    "graph"
   ]
  },
  {
   "cell_type": "code",
   "execution_count": 53,
   "id": "46248a80",
   "metadata": {},
   "outputs": [
    {
     "name": "stdout",
     "output_type": "stream",
     "text": [
      "---Step 1\n",
      "{'step_1': None}\n",
      "\n",
      "\n",
      "---human_feedback---\n",
      "{'__interrupt__': (Interrupt(value='피드백을 제공해 주십시오:', id='54a449ea9759820583acaab191d12c0a'),)}\n",
      "\n",
      "\n"
     ]
    }
   ],
   "source": [
    "from langchain_core.runnables import RunnableConfig\n",
    "\n",
    "\n",
    "config = RunnableConfig(configurable={\"thread_id\": \"1\"})\n",
    "\n",
    "\n",
    "for event in graph.stream({\"input\": \"안녕하세요.\"}, config):\n",
    "    print(event)\n",
    "    print(\"\\n\")"
   ]
  },
  {
   "cell_type": "code",
   "execution_count": null,
   "id": "0554aacd",
   "metadata": {},
   "outputs": [
    {
     "name": "stdout",
     "output_type": "stream",
     "text": [
      "---human_feedback---\n",
      "{'human_feedback': {'user_feedback': 'step 3으로 이동하세요.'}}\n",
      "\n",
      "\n",
      "---Step 3\n",
      "{'step_3': None}\n",
      "\n",
      "\n"
     ]
    }
   ],
   "source": [
    "for event in graph.stream(Command(resume=\"step 3으로 이동하세요.\"), config):\n",
    "    print(event)\n",
    "    print(\"\\n\")"
   ]
  },
  {
   "cell_type": "markdown",
   "id": "9b09d98f",
   "metadata": {},
   "source": []
  }
 ],
 "metadata": {
  "kernelspec": {
   "display_name": ".venv-1 (3.14.0)",
   "language": "python",
   "name": "python3"
  },
  "language_info": {
   "codemirror_mode": {
    "name": "ipython",
    "version": 3
   },
   "file_extension": ".py",
   "mimetype": "text/x-python",
   "name": "python",
   "nbconvert_exporter": "python",
   "pygments_lexer": "ipython3",
   "version": "3.14.0"
  }
 },
 "nbformat": 4,
 "nbformat_minor": 5
}
