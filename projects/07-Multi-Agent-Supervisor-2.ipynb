{
 "cells": [
  {
   "cell_type": "markdown",
   "id": "c788d99d",
   "metadata": {},
   "source": [
    "## 멀티 에이전트 슈퍼바이저(Multi-agent supervisor)\n",
    "\n",
    "[슈퍼바이저(supervisor)](https://langchain-ai.github.io/langgraph/concepts/multi_agent/#supervisor)는 중앙 슈퍼바이저 에이전트가 전문 에이전트들을 조정하는 다중 에이전트 아키텍처입니다. \n",
    "슈퍼바이저 에이전트는 모든 통신 흐름과 작업 위임을 제어하며, 현재 상황과 작업 요구사항에 따라 호출할 에이전트를 결정합니다.\n",
    "\n",
    "이 튜토리얼에서는 연구 전문가와 수학 전문가라는 두 에이전트로 구성된 슈퍼바이저 시스템을 구축합니다. \n",
    "튜토리얼을 마치면 다음을 수행할 수 있습니다:\n",
    "\n",
    "*   전문 연구 및 수학 에이전트 구축\n",
    "*   사전 구축된 langgraph-supervisor를 사용하여 이를 조정하는 슈퍼바이저 구축\n",
    "*   슈퍼바이저를 처음부터 구축\n",
    "*   고급 작업 위임 구현\n",
    "\n",
    "![](https://langchain-ai.github.io/langgraph/tutorials/multi_agent/assets/diagram.png)"
   ]
  },
  {
   "cell_type": "markdown",
   "id": "1ded1974",
   "metadata": {},
   "source": [
    "**참고**\n",
    "\n",
    "- 관련 논문: https://arxiv.org/abs/2405.16510\n",
    "- 슈퍼바이저 에이전트 개념: https://langchain-ai.github.io/langgraph/concepts/multi_agent/#supervisor\n",
    "- 랭그래프 공식 튜토리얼: https://langchain-ai.github.io/langgraph/tutorials/multi_agent/agent_supervisor/"
   ]
  },
  {
   "cell_type": "markdown",
   "id": "592966ec",
   "metadata": {},
   "source": [
    "## 환경 설정\n",
    "\n",
    "먼저 필요한 패키지를 설치하고 API 키를 설정해 보겠습니다."
   ]
  },
  {
   "cell_type": "code",
   "execution_count": 55,
   "id": "75b04de3",
   "metadata": {},
   "outputs": [],
   "source": [
    "%%capture --no-stderr\n",
    "%pip install -Uq langgraph langgraph-supervisor langchain-tavily \"langchain[openai]\""
   ]
  },
  {
   "cell_type": "code",
   "execution_count": 1,
   "id": "2fff5069",
   "metadata": {},
   "outputs": [],
   "source": [
    "import os\n",
    "import getpass\n",
    "from dotenv import load_dotenv\n",
    "\n",
    "load_dotenv(\"../.env\", override=True)\n",
    "\n",
    "\n",
    "def _set_env(var: str):\n",
    "    env_value = os.environ.get(var)\n",
    "    if not env_value:\n",
    "        env_value = getpass.getpass(f\"{var}: \")\n",
    "\n",
    "    os.environ[var] = env_value\n",
    "\n",
    "\n",
    "_set_env(\"LANGSMITH_API_KEY\")\n",
    "os.environ[\"LANGSMITH_TRACING\"] = \"true\"\n",
    "os.environ[\"LANGSMITH_PROJECT\"] = \"langchain-academy\"\n",
    "_set_env(\"OPENAI_API_KEY\")"
   ]
  },
  {
   "cell_type": "markdown",
   "id": "e0320b4b",
   "metadata": {},
   "source": [
    "## 1. 작업 에이전트 생성\n",
    "\n",
    "먼저, 연구 에이전트와 수학 에이전트라는 특수 작업 에이전트를 생성해 보겠습니다:\n",
    "\n",
    "연구 에이전트는 [Tavily API](https://tavily.com/)를 사용하는 웹 검색 도구에 접근할 수 있습니다.\n",
    "수학 에이전트는 간단한 수학 도구(덧셈, 곱셈, 나눗셈)에 접근할 수 있습니다."
   ]
  },
  {
   "cell_type": "markdown",
   "id": "16f6ad61",
   "metadata": {},
   "source": [
    "### 연구 에이전트\n",
    "웹 검색을 위해 `langchain-tavily`의 [`TavilySearch`](https://python.langchain.com/api_reference/tavily/tavily_search/langchain_tavily.tavily_search.TavilySearch.html) 도구를 사용할 것입니다:"
   ]
  },
  {
   "cell_type": "code",
   "execution_count": 2,
   "id": "04245539",
   "metadata": {},
   "outputs": [
    {
     "name": "stdout",
     "output_type": "stream",
     "text": [
      "| ▲ 오세훈 서울시장이 2025년 2월26일 서울 중구 서울시청에서 열린 제4회 서울시 안보포럼 ‘트럼프 2기, 한반도 안보의 길을 묻다’에서 환영사를 하고 있다. △서울시 공식 슬로건 ‘Seoul, my soul(서울, 마이 소울)’ 내걸어 오세훈은 2023년 8월16일 박원순 전 서울시장 때 선정된 서울시 공식 슬로건 ‘I·SEOUL·U(아이서울유)’를 ‘Seoul, my soul(서울, 마이 소울)’로 바꿨다. △4‧7재보선에서 서울시장 당선 오세훈은 2021년 4월7일 박원순 전 시장의 유고로 치러진 서울시장 보궐선거에서 국민의힘 후보로 출마한 뒤 당선돼 10년 만에 서울시장에 복귀했다. 오세훈은 2021년 4월 서울시장 보궐선거를 앞두고 명태균씨 측에서 실시한 여론조사 비용을 사업가 김한정씨에게 대납하게 한 의혹을 받고 있다. 오세훈은 2021년 4월 서울시장 보궐선거를 앞두고 명태균 측에서 실시한 여론조사 비용을 사업가 김한정에게 대납하게 한 의혹을 받고 있다. | ▲ 오세훈 서울시장이 2025년 2월12일 서울 국회 도서관에서 열린 ‘87체제 극복을 위한 지방분권 개헌 토론회’에 입장하고 있다.\n"
     ]
    }
   ],
   "source": [
    "from langchain_tavily import TavilySearch\n",
    "\n",
    "web_search = TavilySearch(max_results=3)\n",
    "web_search_results = web_search.invoke(\"서울시의 시장은 누구입니까?\")\n",
    "\n",
    "print(web_search_results[\"results\"][0][\"content\"])"
   ]
  },
  {
   "cell_type": "markdown",
   "id": "adbb492e",
   "metadata": {},
   "source": [
    "개별 작업자 에이전트를 생성하기 위해 LangGraph의 사전 구축된 [에이전트](https://langchain-ai.github.io/langgraph/agents/agents/)를 사용할 것입니다."
   ]
  },
  {
   "cell_type": "code",
   "execution_count": 3,
   "id": "0949c6e4",
   "metadata": {},
   "outputs": [],
   "source": [
    "from langgraph.prebuilt import create_react_agent\n",
    "\n",
    "research_agent = create_react_agent(\n",
    "    model=\"openai:gpt-4.1-mini\",\n",
    "    tools=[web_search],\n",
    "    prompt=(\n",
    "        \"당신은 연구 에이전트입니다.\\n\\n\"\n",
    "        \"INSTRUCTIONS:\\n\"\n",
    "        \"- 연구 관련 작업에만 협조하십시오. 수학 문제는 절대 수행하지 마십시오.\\n\"\n",
    "        \"- 작업 완료 후에는 감독관에게 직접 응답하십시오.\\n\"\n",
    "        \"- 작업 결과만 응답하십시오. 다른 텍스트는 절대 포함하지 마십시오.\"\n",
    "    ),\n",
    "    name=\"research_agent\",\n",
    ")"
   ]
  },
  {
   "cell_type": "markdown",
   "id": "85bb8a50",
   "metadata": {},
   "source": [
    "[에이전트를 실행](https://langchain-ai.github.io/langgraph/agents/run_agents/)하여 예상대로 동작하는지 확인해 봅시다."
   ]
  },
  {
   "cell_type": "code",
   "execution_count": 4,
   "id": "dab239c0",
   "metadata": {},
   "outputs": [],
   "source": [
    "# 스트리밍 에이전트 출력을 깔끔하게 렌더링하기 위해\n",
    "# pretty_print_messages 헬퍼를 사용할 것입니다\n",
    "from langchain_core.messages import convert_to_messages\n",
    "\n",
    "\n",
    "def pretty_print_message(message, indent=False):\n",
    "    pretty_message = message.pretty_repr(html=True)\n",
    "    if not indent:\n",
    "        print(pretty_message)\n",
    "        return\n",
    "\n",
    "    indented = \"\\n\".join(\"\\t\" + c for c in pretty_message.split(\"\\n\"))\n",
    "    print(indented)\n",
    "\n",
    "\n",
    "def pretty_print_messages(update, last_message=False):\n",
    "    is_subgraph = False\n",
    "    if isinstance(update, tuple):\n",
    "        ns, update = update\n",
    "        # skip parent graph updates in the printouts\n",
    "        if len(ns) == 0:\n",
    "            return\n",
    "\n",
    "        graph_id = ns[-1].split(\":\")[0]\n",
    "        print(f\"Update from subgraph {graph_id}:\")\n",
    "        print(\"\\n\")\n",
    "        is_subgraph = True\n",
    "\n",
    "    for node_name, node_update in update.items():\n",
    "        update_label = f\"Update from node {node_name}:\"\n",
    "        if is_subgraph:\n",
    "            update_label = \"\\t\" + update_label\n",
    "\n",
    "        print(update_label)\n",
    "        print(\"\\n\")\n",
    "\n",
    "        messages = convert_to_messages(node_update[\"messages\"])\n",
    "        if last_message:\n",
    "            messages = messages[-1:]\n",
    "\n",
    "        for m in messages:\n",
    "            pretty_print_message(m, indent=is_subgraph)\n",
    "        print(\"\\n\")"
   ]
  },
  {
   "cell_type": "code",
   "execution_count": 5,
   "id": "27ceccf7",
   "metadata": {},
   "outputs": [
    {
     "name": "stdout",
     "output_type": "stream",
     "text": [
      "Update from node agent:\n",
      "\n",
      "\n",
      "==================================\u001b[1m Ai Message \u001b[0m==================================\n",
      "Name: research_agent\n",
      "Tool Calls:\n",
      "  tavily_search (call_kRJTJe0C3jko8yCcf3g6ir86)\n",
      " Call ID: call_kRJTJe0C3jko8yCcf3g6ir86\n",
      "  Args:\n",
      "    query: 서울시 시장\n",
      "    include_domains: ['seoul.go.kr']\n",
      "    search_depth: basic\n",
      "\n",
      "\n",
      "Update from node tools:\n",
      "\n",
      "\n",
      "=================================\u001b[1m Tool Message \u001b[0m=================================\n",
      "Name: tavily_search\n",
      "\n",
      "{\"query\": \"서울시 시장\", \"follow_up_questions\": null, \"answer\": null, \"images\": [], \"results\": [{\"url\": \"https://www.seoul.go.kr/seoul/mayor.do\", \"title\": \"역대서울시장 | 서울특별시\", \"content\": \"+ 비정규직의 정규직화, 골목상권보호 등 상생협력 문화 정착을 통한 경제민주화도시 서울 추진 + 도시기반시설 노후화 대비, 지하철 안전강화 등 안전도시 서울 추진 + 창의시정(120다산콜센터, 천만상상오아시스 등) 추진 + WDC 2010 유치, 동대문디자인파크플라자 건설 등 디자인서울 정책 추진 + 청계천 생태하천 복원, 서울숲 조성 등 친환경시정 추진 서울의제 21 등 환경정책 적극 추진 + 제2기 지하철 건설 추진 및 내부순환 및 북부간선도로 등 도시고속도로 착공 + 빗물펌프장 확충 및 정비, 제방축조 등 항구적인 수방대책 수립 추진 + 상수도 공급, 청소, 주택공급, 복지시설 확충 등 서민생활보호대책 추진 + 청소행정의 혁신, 도시가스시설 확충 및 의료보험의 확대 등 서민생활안정 종합대책 추진 + 도시새마을 운동의 약진과 함께 서민주택 건설, 서민생활 보호 등 서민생활 보호를 위한 시책 추진 + 각종 생활환경시설의 확충 및 불량지구 재개발 등 추진\", \"score\": 0.98566, \"raw_content\": null}, {\"url\": \"https://mayor.seoul.go.kr/oh/seoul/manifesto.do\", \"title\": \"공약실천계획 | 서울특별시장\", \"content\": \"공약실천계획 · 민선8기 공약실천계획서 · 민선8기 공약이행현황 · 시민공약평가단 운영결과보고서. e-book 바로보기. 공약 변경 내역. 옆\", \"score\": 0.98533, \"raw_content\": null}, {\"url\": \"https://news.seoul.go.kr/economy/archives/564969\", \"title\": \"서울시 전통시장 현황(2025.1.31.일 기준) < 경제 < 서울특별시\", \"content\": \"서울시 전통시장 현황(2025.1.31.일 기준). 담당부서: 민생노동국상권활성화과; 문의: 02-2133-5487; 수정일: 2025-06-12. 2022년 신용카드 사용액에 대한 소득공제\", \"score\": 0.98299, \"raw_content\": null}], \"response_time\": 1.38, \"request_id\": \"36a70575-417d-4bd7-9084-9198e7281987\"}\n",
      "\n",
      "\n",
      "Update from node agent:\n",
      "\n",
      "\n",
      "==================================\u001b[1m Ai Message \u001b[0m==================================\n",
      "Name: research_agent\n",
      "\n",
      "서울시의 시장 정보는 서울특별시 공식 웹사이트 등을 통해 확인할 수 있으나, 현재 검색된 결과에서는 시장의 이름이 구체적으로 나타나지 않았습니다. 최신 서울시 시장의 이름을 확인하려면 서울특별시 공식 웹사이트나 신뢰할 만한 뉴스 소스를 참조할 필요가 있습니다.\n",
      "\n",
      "\n"
     ]
    }
   ],
   "source": [
    "for chunk in research_agent.stream(\n",
    "    {\"messages\": [(\"user\", \"서울시의 시장은 누구입니까?\")]}\n",
    "):\n",
    "    pretty_print_messages(chunk)"
   ]
  },
  {
   "cell_type": "markdown",
   "id": "e09f29ab",
   "metadata": {},
   "source": [
    "## 수학 에이전트\n",
    "수학 에이전트 도구에는 [기본 파이썬 함수](https://langchain-ai.github.io/langgraph/how-tos/tool-calling/#define-a-tool)를 사용할 것입니다:"
   ]
  },
  {
   "cell_type": "code",
   "execution_count": 6,
   "id": "fbed3c46",
   "metadata": {},
   "outputs": [],
   "source": [
    "def add(a: float, b: float):\n",
    "    \"\"\"두 수를 더합니다.\"\"\"\n",
    "    return a + b\n",
    "\n",
    "\n",
    "def multiply(a: float, b: float):\n",
    "    \"\"\"두 수를 곱합니다.\"\"\"\n",
    "    return a * b\n",
    "\n",
    "\n",
    "def divide(a: float, b: float):\n",
    "    \"\"\"두 수를 나눕니다.\"\"\"\n",
    "    return a / b\n",
    "\n",
    "\n",
    "math_agent = create_react_agent(\n",
    "    model=\"openai:gpt-4.1-mini\",\n",
    "    tools=[add, multiply, divide],\n",
    "    prompt=(\n",
    "        \"당신은 수학 에이전트입니다.\\n\\n\"\n",
    "        \"INSTRUCTIONS:\\n\"\n",
    "        \"- 오직 수학 관련 작업만 지원하십시오\\n\"\n",
    "        \"- 작업 완료 후에는 감독관에게 직접 응답하십시오\\n\"\n",
    "        \"- 오직 작업 결과만 응답하고, 그 외 어떤 텍스트도 포함하지 마십시오.\"\n",
    "    ),\n",
    "    name=\"math_agent\",\n",
    ")"
   ]
  },
  {
   "cell_type": "markdown",
   "id": "de27474c",
   "metadata": {},
   "source": [
    "수학 에이전트를 실행해 보자:"
   ]
  },
  {
   "cell_type": "code",
   "execution_count": 7,
   "id": "aa422d37",
   "metadata": {},
   "outputs": [
    {
     "name": "stdout",
     "output_type": "stream",
     "text": [
      "Update from node agent:\n",
      "\n",
      "\n",
      "==================================\u001b[1m Ai Message \u001b[0m==================================\n",
      "Name: math_agent\n",
      "Tool Calls:\n",
      "  add (call_kEXvrpjaHAa3OCVczrwZYpVl)\n",
      " Call ID: call_kEXvrpjaHAa3OCVczrwZYpVl\n",
      "  Args:\n",
      "    a: 3\n",
      "    b: 5\n",
      "\n",
      "\n",
      "Update from node tools:\n",
      "\n",
      "\n",
      "=================================\u001b[1m Tool Message \u001b[0m=================================\n",
      "Name: add\n",
      "\n",
      "8.0\n",
      "\n",
      "\n",
      "Update from node agent:\n",
      "\n",
      "\n",
      "==================================\u001b[1m Ai Message \u001b[0m==================================\n",
      "Name: math_agent\n",
      "Tool Calls:\n",
      "  multiply (call_yRKBT5vpobtbPLXEtteMRKB5)\n",
      " Call ID: call_yRKBT5vpobtbPLXEtteMRKB5\n",
      "  Args:\n",
      "    a: 8\n",
      "    b: 7\n",
      "\n",
      "\n",
      "Update from node tools:\n",
      "\n",
      "\n",
      "=================================\u001b[1m Tool Message \u001b[0m=================================\n",
      "Name: multiply\n",
      "\n",
      "56.0\n",
      "\n",
      "\n",
      "Update from node agent:\n",
      "\n",
      "\n",
      "==================================\u001b[1m Ai Message \u001b[0m==================================\n",
      "Name: math_agent\n",
      "\n",
      "(3 + 5) × 7은 56입니다.\n",
      "\n",
      "\n"
     ]
    }
   ],
   "source": [
    "for chunk in math_agent.stream({\"messages\": [(\"user\", \"(3 + 5) × 7은 얼마인가요?\")]}):\n",
    "    pretty_print_messages(chunk)"
   ]
  },
  {
   "cell_type": "markdown",
   "id": "d86fdefe",
   "metadata": {},
   "source": [
    "## 2. `langgraph-supervisor`로 슈퍼바이저 생성하기\n",
    "다중 에이전트 시스템을 구현하기 위해 사전 구축된 `langgraph-supervisor` 라이브러리의 [`create_supervisor`](https://langchain-ai.github.io/langgraph/reference/supervisor/#langgraph_supervisor.supervisor.create_supervisor)를 사용할 것입니다:"
   ]
  },
  {
   "cell_type": "code",
   "execution_count": 8,
   "id": "b4320634",
   "metadata": {},
   "outputs": [],
   "source": [
    "from langgraph_supervisor import create_supervisor\n",
    "from langchain.chat_models import init_chat_model\n",
    "\n",
    "supervisor = create_supervisor(\n",
    "    model=init_chat_model(\"openai:gpt-4.1-mini\"),\n",
    "    agents=[research_agent, math_agent],\n",
    "    prompt=(\n",
    "        \"당신은 두 명의 에이전트를 관리하는 감독관입니다:\\n\"\n",
    "        \"- research 에이전트: 연구 관련 작업을 이 에이전트에게 할당하십시오\\n\"\n",
    "        \"- math 에이전트: 수학 관련 작업을 이 에이전트에게 할당하십시오\\n\"\n",
    "        \"한 번에 한 명의 에이전트에게만 작업을 할당하고, 에이전트를 동시에 호출하지 마십시오.\\n\"\n",
    "        \"직접 어떤 작업도 수행하지 마십시오.\"\n",
    "    ),\n",
    "    add_handoff_back_messages=True,  # handoff 메시지 추가\n",
    "    output_mode=\"full_history\",\n",
    ").compile()"
   ]
  },
  {
   "cell_type": "code",
   "execution_count": 9,
   "id": "936862b8",
   "metadata": {},
   "outputs": [
    {
     "data": {
      "image/png": "[encoded data removed]",
      "text/plain": [
       "<IPython.core.display.Image object>"
      ]
     },
     "metadata": {},
     "output_type": "display_data"
    }
   ],
   "source": [
    "from IPython.display import display, Image\n",
    "\n",
    "display(Image(supervisor.get_graph().draw_mermaid_png()))"
   ]
  },
  {
   "cell_type": "markdown",
   "id": "300fd612",
   "metadata": {},
   "source": [
    "**참고**: 이 코드를 실행하면 슈퍼바이저 에이전트와 작업자 에이전트 간의 흐름을 보여주는 슈퍼바이저 그래프의 시각적 표현이 생성되어 표시됩니다.\n",
    "\n",
    "이제 두 에이전트 모두를 필요로 하는 쿼리로 실행해 보겠습니다:\n",
    "\n",
    "- 연구 에이전트는 필요한 GDP 정보를 조회합니다\n",
    "- 수학 에이전트는 요청된 대로 뉴욕 주 GDP의 비율을 구하기 위해 나눗셈을 수행합니다"
   ]
  },
  {
   "cell_type": "code",
   "execution_count": 10,
   "id": "6bbb5b91",
   "metadata": {},
   "outputs": [
    {
     "name": "stdout",
     "output_type": "stream",
     "text": [
      "Update from node supervisor:\n",
      "\n",
      "\n",
      "=================================\u001b[1m Tool Message \u001b[0m=================================\n",
      "Name: transfer_to_research_agent\n",
      "\n",
      "Successfully transferred to research_agent\n",
      "\n",
      "\n",
      "Update from node research_agent:\n",
      "\n",
      "\n",
      "=================================\u001b[1m Tool Message \u001b[0m=================================\n",
      "Name: transfer_back_to_supervisor\n",
      "\n",
      "Successfully transferred back to supervisor\n",
      "\n",
      "\n",
      "Update from node supervisor:\n",
      "\n",
      "\n",
      "==================================\u001b[1m Ai Message \u001b[0m==================================\n",
      "Name: supervisor\n",
      "\n",
      "2024년 미국 GDP 성장률은 약 2.3~2.7% 사이로 전망되며, 뉴욕 주의 경제 성장률은 약 2.4%로 미국 전체와 비슷하거나 다소 높게 예상됩니다. 뉴욕 주가 미국 GDP에서 차지하는 비율은 구체 수치는 없으나, 대략 8~10% 수준으로 추정됩니다. 추가로 구체적인 공식 수치를 원하시면 알려주세요.\n",
      "\n",
      "\n"
     ]
    }
   ],
   "source": [
    "query = \"2024년 미국 및 뉴욕 주의 국내총생산(GDP)을 찾아보십시오. 뉴욕 주의 GDP가 미국 GDP에서 차지하는 비율은 얼마입니까?\"\n",
    "\n",
    "for chunk in supervisor.stream(\n",
    "    {\"messages\": [(\"user\", query)]},\n",
    "):\n",
    "    pretty_print_messages(chunk, last_message=True)"
   ]
  },
  {
   "cell_type": "code",
   "execution_count": 11,
   "id": "bbaf550c",
   "metadata": {},
   "outputs": [
    {
     "name": "stdout",
     "output_type": "stream",
     "text": [
      "[HumanMessage(content='2024년 미국 및 뉴욕 주의 국내총생산(GDP)을 찾아보십시오. 뉴욕 주의 GDP가 미국 GDP에서 차지하는 비율은 얼마입니까?', additional_kwargs={}, response_metadata={}, id='859cd2ba-0eac-4686-9779-344ff053be46'), AIMessage(content='', additional_kwargs={'tool_calls': [{'id': 'call_KjHciNugUHinmpIcVRO7I29H', 'function': {'arguments': '{}', 'name': 'transfer_to_research_agent'}, 'type': 'function'}], 'refusal': None}, response_metadata={'token_usage': {'completion_tokens': 13, 'prompt_tokens': 198, 'total_tokens': 211, 'completion_tokens_details': {'accepted_prediction_tokens': 0, 'audio_tokens': 0, 'reasoning_tokens': 0, 'rejected_prediction_tokens': 0}, 'prompt_tokens_details': {'audio_tokens': 0, 'cached_tokens': 0}}, 'model_name': 'gpt-4.1-mini-2025-04-14', 'system_fingerprint': 'fp_c064fdde7c', 'id': 'chatcmpl-CPfNyN5nS30paNITF5aGGfCnbktEm', 'service_tier': 'default', 'finish_reason': 'tool_calls', 'logprobs': None}, name='supervisor', id='run--d5922805-62c1-4e66-a975-1f71fe31596b-0', tool_calls=[{'name': 'transfer_to_research_agent', 'args': {}, 'id': 'call_KjHciNugUHinmpIcVRO7I29H', 'type': 'tool_call'}], usage_metadata={'input_tokens': 198, 'output_tokens': 13, 'total_tokens': 211, 'input_token_details': {'audio': 0, 'cache_read': 0}, 'output_token_details': {'audio': 0, 'reasoning': 0}}), ToolMessage(content='Successfully transferred to research_agent', name='transfer_to_research_agent', id='12dbd6f4-8c72-4f78-8211-3340adcbd228', tool_call_id='call_KjHciNugUHinmpIcVRO7I29H'), AIMessage(content='', additional_kwargs={'tool_calls': [{'id': 'call_6FZmzcGTpEvmUGKgKgdZDsVB', 'function': {'arguments': '{\"query\": \"2024 US GDP forecast\", \"time_range\": \"year\", \"search_depth\": \"advanced\"}', 'name': 'tavily_search'}, 'type': 'function'}, {'id': 'call_kr6E3FaIAaLoXUBRrRoqFpwd', 'function': {'arguments': '{\"query\": \"2024 New York State GDP forecast\", \"time_range\": \"year\", \"search_depth\": \"advanced\"}', 'name': 'tavily_search'}, 'type': 'function'}], 'refusal': None}, response_metadata={'token_usage': {'completion_tokens': 78, 'prompt_tokens': 1406, 'total_tokens': 1484, 'completion_tokens_details': {'accepted_prediction_tokens': 0, 'audio_tokens': 0, 'reasoning_tokens': 0, 'rejected_prediction_tokens': 0}, 'prompt_tokens_details': {'audio_tokens': 0, 'cached_tokens': 0}}, 'model_name': 'gpt-4.1-mini-2025-04-14', 'system_fingerprint': 'fp_c064fdde7c', 'id': 'chatcmpl-CPfNzci9flHqBmFrB9YDeqUUvn2bl', 'service_tier': 'default', 'finish_reason': 'tool_calls', 'logprobs': None}, name='research_agent', id='run--4af515f8-6f58-4795-b08d-961a81d79079-0', tool_calls=[{'name': 'tavily_search', 'args': {'query': '2024 US GDP forecast', 'time_range': 'year', 'search_depth': 'advanced'}, 'id': 'call_6FZmzcGTpEvmUGKgKgdZDsVB', 'type': 'tool_call'}, {'name': 'tavily_search', 'args': {'query': '2024 New York State GDP forecast', 'time_range': 'year', 'search_depth': 'advanced'}, 'id': 'call_kr6E3FaIAaLoXUBRrRoqFpwd', 'type': 'tool_call'}], usage_metadata={'input_tokens': 1406, 'output_tokens': 78, 'total_tokens': 1484, 'input_token_details': {'audio': 0, 'cache_read': 0}, 'output_token_details': {'audio': 0, 'reasoning': 0}}), ToolMessage(content='{\"query\": \"2024 US GDP forecast\", \"follow_up_questions\": null, \"answer\": null, \"images\": [], \"results\": [{\"url\": \"https://www.philadelphiafed.org/surveys-and-data/real-time-data-research/spf-q4-2024\", \"title\": \"Fourth Quarter 2024 Survey of Professional Forecasters\", \"content\": \"The near-term outlook for the U.S. economy looks better now than it did three months ago, according to 33 forecasters surveyed by the Federal Reserve Bank of Philadelphia. The forecasters predict the economy will expand at an annual rate of 2.2 percent this quarter and 1.9 percent in the first quarter of 2025, up from the predictions of 1.7 percent in the last survey. On an annual-average over annual-average basis, the forecasters expect real GDP to increase 2.7 percent in 2024 and 2.2 percent [...] The charts below provide some insight into the degree of uncertainty the forecasters have about their projections for the rate of growth in the annual-average level of real GDP. Each chart presents the forecasters’ previous and current estimates of the probability that growth will fall into each of 11 ranges. For 2024, the forecasters are increasing their probability estimates from the previous survey for real GDP growth in the range of 2.5 percent to 3.9 percent. Over each of the following [...] three years, from 2025 to 2027, the forecasters are increasing their probability estimates from the survey of three months ago for real GDP growth in the range of 1.5 percent to 2.4 percent.\", \"score\": 0.9006087, \"raw_content\": null}, {\"url\": \"https://www.fanniemae.com/research-and-insights/forecast/economic-developments-october-2024\", \"title\": \"Economic Developments - October 2024 - Fannie Mae\", \"content\": \"Although we revised our growth forecast upward, we note that our outlook of 2.3 percent growth in 2024 and 2.0 percent growth in 2025 still represents a slowdown from the 3.2 percent GDP growth recorded in 2023. Further, the long-term potential growth rate of the economy depends on several factors, including future productivity growth and immigration flows, both of which at this point remain highly uncertain. Estimates of productivity growth in recent quarters have been well above their [...] Economic Developments - October 2024 | Fannie Mae\\\\n\\\\nSkip to main content\\\\n\\\\nFM Site Nav\\\\n\\\\nHomepageImage 1: Fannie Mae logo\\\\n   Search\\\\n\\\\nToggle search Search\\\\n\\\\n outlook. We now forecast 2024 economic growth on a Q4/Q4 basis will be 2.3 percent (up from last month’s forecast of 2.0 percent) and 2025 growth will be 2.0 percent (up from 1.8 percent). [...] nearly 50 percent lower than it was a year ago in September 2023. On balance, we continue to expect a gradual slowing in employment growth. Similar to our expectation that the economy will return to roughly its long-run growth rate, we believe the unemployment rate will rise modestly to 4.4 percent, roughly our current estimate of the natural rate of unemployment.\", \"score\": 0.8619225, \"raw_content\": null}, {\"url\": \"https://www.cbo.gov/publication/60870\", \"title\": \"The Budget and Economic Outlook: 2025 to 2035\", \"content\": \"Since June 2024, when CBO published its previous full economic forecast, the agency’s projections of the average growth rate of real GDP over the 2024–2026 period have changed little. CBO raised its forecast of the average unemployment rate for 2024 to 2026 and lowered its forecast of employment growth over that period. Inflation is expected to be slightly higher, on average, in 2025 and 2026 than the agency projected in June. The forecast of long-term interest rates for 2026 is also higher. [...] In CBO’s projections, economic growth cools from an estimated 2.3 percent in calendar year 2024 to 1.9 percent in 2025 and 1.8 percent in 2026 amid higher unemployment and lower inflation. The Federal Reserve continues reducing interest rates through the end of 2026, which supports economic growth. Real GDP then grows by 1.8 percent per year, on average, through 2035. Roughly four-fifths of the growth over that period is due to increases in the productivity of the labor force. The rest is due\", \"score\": 0.8377398, \"raw_content\": null}], \"response_time\": 1.74, \"request_id\": \"8a384e28-39df-4bf5-98d6-8c1bc48d503c\"}', name='tavily_search', id='dc875289-a253-4bae-8581-bc7b41dcf788', tool_call_id='call_6FZmzcGTpEvmUGKgKgdZDsVB'), ToolMessage(content='{\"query\": \"2024 New York State GDP forecast\", \"follow_up_questions\": null, \"answer\": null, \"images\": [], \"results\": [{\"url\": \"https://www.osc.ny.gov/files/reports/pdf/budgets-receipts-disbursement-24-27.pdf\", \"title\": \"[PDF] Report on Estimated Receipts and Disbursements\", \"content\": \"years are projections. Source: S&P Global, October 2024 U.S. and Regional Macroeconomic Forecast New York Economy In the first quarter of 2024, the New York economy grew 2.4 percent, accelerating from its growth in the fourth quarter of 2023. The State’s economic growth in the second quarter was even stronger (3.8 percent) and continued to outpace that of the nation (3.0 percent).5 Due to an expected deceleration in the second half of the year, S&P Global estimates the New York economy will [...] grow at an annual rate of 2.4 percent in 2024. In 2025, the New York economy is projected to grow at the same rate as that of the nation, increasing by 2.1 percent. By April 2024, New York had recovered all the jobs lost during the pandemic shutdown. While employment growth was erratic through September, jobs increased by an average of 13,600 per month and were 49,400 higher than in February 2020.6 For all of 2024, employment is estimated to grow 1.6 percent, but then to slow to 0.9 percent in [...] As a result, S&P Global estimates total personal income to increase by 5.7 and by 4.7 percent in 2024 and 2025, respectively. Figure 3 Annual Percentage Change in Selected Economic Indicators UNITED STATES 2023 2024 2025 2026 2027 Real GDP 2.9 2.7 2.1 1.8 1.7 Employment 2.3 1.6 0.8 0.2 0.1 Wages 5.4 6.6 4.4 4.5 3.8 Personal Income 5.9 5.7 4.7 5.1 4.6 NEW YORK Employment 2.1 1.6 0.9 0.1 0.0 Wages 4.8 6.2 5.1 4.8 3.7 Personal Income 5.7 5.8 4.9 5.1 4.4 Note: 2023 Statistics are actuals; all other\", \"score\": 0.8815438, \"raw_content\": null}, {\"url\": \"https://www.budget.ny.gov/pubs/archive/fy26/ex/ero/fy26ero.pdf\", \"title\": \"[PDF] Economic and Revenue Outlook | NYS FY 2026 Executive Budget\", \"content\": \"estimate of 2024 third-quarter GDP, the October 2024 personal income and outlays estimates, the October 2024 CPI report, and the initial estimate of November 2024 employment. DOB’s New York State forecast incorporates the second quarter of 2024 personal income by state data and the first half of 2024 QCEW data. 17 F Y 2 0 2 6 E C O N O M I C A N D R E V E N U E O U T L O O K ECONOMIC ENVIRONMENT slowdown in job growth, State wages are estimated to be growing a solid 5.4 percent in FY 2025 due [...] York State is projected to experience slower personal income and wage growth in 2024 compared to the nation. New York’s personal income growth is forecasted at 5.3 percent, primarily due to weaker State wage growth. Looking at the growth rates on a state fiscal year frequency, total wage growth in New York is anticipated to accelerate from 4.2 percent in FY 2024 to 5.4 percent in FY 2025, driven by a strong rebound in total bonuses, which are expected to shift from a 0.9 percent decline in FY [...] labor market, New York State’s employment growth slowed to an estimated 1.5 percent in 2024. Job growth is projected to decelerate further to 0.8 percent in 2025 primarily due to the State’s labor shortages and weaker global and national economic conditions. State personal income is projected to grow by 4.1 percent in FY 2026, a deceleration from an estimated growth of 5.2 percent in FY 2025, primarily due to weaker wage growth. Despite a 13 DOB’s U.S. economic forecast incorporates the second\", \"score\": 0.86052185, \"raw_content\": null}, {\"url\": \"https://comptroller.nyc.gov/newsroom/newsletter/new-york-by-the-numbers-monthly-economic-and-fiscal-outlook/\", \"title\": \"New York by the Numbers Monthly Economic and Fiscal Outlook\", \"content\": \"| 19-Oct-24 | 0.10% | 14.80% |\\\\n| 26-Oct-24 | 5.30% | 12.50% |\\\\n| 2-Nov-24 | 9.40% | 6.90% |\\\\n| 9-Nov-24 | 3.40% | 0.30% |\\\\n| 16-Nov-24 | 6.50% | -1.00% |\\\\n| 23-Nov-24 | 5.20% | -1.50% | [...] | 29-Jun-24 | -11.00% | -5.90% |\\\\n| 6-Jul-24 | -16.10% | -5.40% |\\\\n| 13-Jul-24 | -14.80% | -1.10% |\\\\n| 20-Jul-24 | -11.70% | 0.60% |\\\\n| 27-Jul-24 | -12.40% | 4.40% |\\\\n| 3-Aug-24 | -5.90% | 4.00% |\\\\n| 10-Aug-24 | -2.50% | 0.90% |\\\\n| 17-Aug-24 | -2.80% | -0.50% |\\\\n| 24-Aug-24 | -0.60% | -2.60% |\\\\n| 31-Aug-24 | 0.30% | 0.30% |\\\\n| 7-Sep-24 | 0.70% | 2.80% |\\\\n| 14-Sep-24 | 1.40% | 5.20% |\\\\n| 21-Sep-24 | 2.00% | 6.60% |\\\\n| 28-Sep-24 | 2.70% | 7.30% |\\\\n| 5-Oct-24 | -0.50% | 12.10% |\\\\n| 12-Oct-24 | 4.20% | 14.70% | [...] | 16-Mar-24 | -0.50% | -10.20% |\\\\n| 23-Mar-24 | -2.70% | -12.60% |\\\\n| 30-Mar-24 | -2.70% | -9.80% |\\\\n| 6-Apr-24 | -4.60% | -10.70% |\\\\n| 13-Apr-24 | -10.10% | -10.60% |\\\\n| 20-Apr-24 | -28.60% | -9.40% |\\\\n| 27-Apr-24 | -28.30% | -12.10% |\\\\n| 4-May-24 | -10.80% | -9.20% |\\\\n| 11-May-24 | -6.30% | -5.90% |\\\\n| 18-May-24 | 16.80% | -5.20% |\\\\n| 25-May-24 | 11.70% | -2.90% |\\\\n| 1-Jun-24 | -13.60% | -6.40% |\\\\n| 8-Jun-24 | -16.80% | -8.10% |\\\\n| 15-Jun-24 | -16.60% | -9.00% |\\\\n| 22-Jun-24 | -14.70% | -8.00% |\", \"score\": 0.81979275, \"raw_content\": null}], \"response_time\": 2.39, \"request_id\": \"94642f71-f2c3-44c7-9630-e0cc834bf67a\"}', name='tavily_search', id='aac7f22d-5807-4165-8ada-445629f919c4', tool_call_id='call_kr6E3FaIAaLoXUBRrRoqFpwd'), AIMessage(content='2024년 미국 국내총생산(GDP)의 예상 성장률은 약 2.3~2.7% 사이로 전망되고 있습니다. 구체적인 GDP 금액은 최신 수치가 명확하지 않았으나, 경제 성장률 예측을 기반으로 추정할 수 있습니다.\\n\\n뉴욕 주의 경우, 2024년 경제 성장률은 약 2.4%로 미국 전체 성장률과 비슷하거나 다소 높게 예상됩니다.\\n\\n뉴욕 주 GDP가 미국 GDP에서 차지하는 비율에 대한 직접적인 최신 수치는 검색 결과에 없었으나, 뉴욕 주는 미국 내에서 경제 규모가 큰 주 중 하나로 대략 8~10% 범위 내에 있을 가능성이 큽니다.\\n\\n요약:\\n- 2024년 미국 GDP 성장률: 약 2.3~2.7%\\n- 2024년 뉴욕 주 GDP 성장률: 약 2.4%\\n- 뉴욕 주의 미국 GDP 내 비율: 대략 8~10% 추정\\n\\n더 구체적이고 정량적인 수치를 원하시면 추가로 기관별 공식 발표 자료를 확인하시길 권장합니다.', additional_kwargs={'refusal': None}, response_metadata={'token_usage': {'completion_tokens': 251, 'prompt_tokens': 4427, 'total_tokens': 4678, 'completion_tokens_details': {'accepted_prediction_tokens': 0, 'audio_tokens': 0, 'reasoning_tokens': 0, 'rejected_prediction_tokens': 0}, 'prompt_tokens_details': {'audio_tokens': 0, 'cached_tokens': 0}}, 'model_name': 'gpt-4.1-mini-2025-04-14', 'system_fingerprint': 'fp_c064fdde7c', 'id': 'chatcmpl-CPfO4y1yuIVrRv9opAjF2Mw89VI8W', 'service_tier': 'default', 'finish_reason': 'stop', 'logprobs': None}, name='research_agent', id='run--5a6df99f-50b3-4d05-b110-3ea9cbcb4399-0', usage_metadata={'input_tokens': 4427, 'output_tokens': 251, 'total_tokens': 4678, 'input_token_details': {'audio': 0, 'cache_read': 0}, 'output_token_details': {'audio': 0, 'reasoning': 0}}), AIMessage(content='Transferring back to supervisor', additional_kwargs={}, response_metadata={'__is_handoff_back': True}, name='research_agent', id='aa7ca696-35ba-42c7-9411-ac3686a4a59f', tool_calls=[{'name': 'transfer_back_to_supervisor', 'args': {}, 'id': '83ff49fa-1cbf-4e11-86bc-a93d3d66175a', 'type': 'tool_call'}]), ToolMessage(content='Successfully transferred back to supervisor', name='transfer_back_to_supervisor', id='8246324f-5558-439a-b514-0cca53effe36', tool_call_id='83ff49fa-1cbf-4e11-86bc-a93d3d66175a'), AIMessage(content='2024년 미국 GDP 성장률은 약 2.3~2.7% 사이로 전망되며, 뉴욕 주의 경제 성장률은 약 2.4%로 미국 전체와 비슷하거나 다소 높게 예상됩니다. 뉴욕 주가 미국 GDP에서 차지하는 비율은 구체 수치는 없으나, 대략 8~10% 수준으로 추정됩니다. 추가로 구체적인 공식 수치를 원하시면 알려주세요.', additional_kwargs={'refusal': None}, response_metadata={'token_usage': {'completion_tokens': 101, 'prompt_tokens': 3553, 'total_tokens': 3654, 'completion_tokens_details': {'accepted_prediction_tokens': 0, 'audio_tokens': 0, 'reasoning_tokens': 0, 'rejected_prediction_tokens': 0}, 'prompt_tokens_details': {'audio_tokens': 0, 'cached_tokens': 0}}, 'model_name': 'gpt-4.1-mini-2025-04-14', 'system_fingerprint': 'fp_c064fdde7c', 'id': 'chatcmpl-CPfO8FvKm8blbIZoRAsrQhs8nzHVU', 'service_tier': 'default', 'finish_reason': 'stop', 'logprobs': None}, name='supervisor', id='run--77816821-c84f-4345-bdd0-1d70ea632dd6-0', usage_metadata={'input_tokens': 3553, 'output_tokens': 101, 'total_tokens': 3654, 'input_token_details': {'audio': 0, 'cache_read': 0}, 'output_token_details': {'audio': 0, 'reasoning': 0}})]\n"
     ]
    }
   ],
   "source": [
    "final_message_history = chunk[\"supervisor\"][\"messages\"]\n",
    "print(final_message_history)"
   ]
  },
  {
   "cell_type": "markdown",
   "id": "d3c681d5",
   "metadata": {},
   "source": [
    "## 3. 슈퍼바이저 에이전트부터 새로 만들기\n",
    "이제 동일한 다중 에이전트 시스템을 처음부터 구현해 보겠습니다. 다음을 수행해야 합니다:\n",
    "\n",
    "1. [감독 에이전트가 개별 에이전트와 통신하는 방식 설정](https://langchain-ai.github.io/langgraph/tutorials/multi_agent/agent_supervisor/#set-up-agent-communication)\n",
    "2. [감독 에이전트 생성](https://langchain-ai.github.io/langgraph/tutorials/multi_agent/agent_supervisor/#create-supervisor-agent)\n",
    "3. 감독 에이전트와 작업자 에이전트를 [단일 다중 에이전트 그래프](https://langchain-ai.github.io/langgraph/tutorials/multi_agent/agent_supervisor/#create-multi-agent-graph)로 결합.\n",
    "\n",
    "### 에이전트 통신 설정\n",
    "\n",
    "슈퍼바이저 에이전트가 워커 에이전트들과 통신할 수 있는 방식을 정의해야 합니다. 다중 에이전트 아키텍처에서 이를 구현하는 일반적인 방법은 한 에이전트가 다른 에이전트에게 제어권을 넘기는 핸드오프를 사용하는 것입니다. 핸드오프를 통해 다음을 지정할 수 있습니다:\n",
    "\n",
    "- **destination**: 제어권을 넘길 대상 에이전트\n",
    "- **payload**: 해당 에이전트에 전달할 정보\n",
    "\n",
    "우리는 핸드오프 도구를 통해 핸드오프를 구현하고 이 도구들을 관리자 에이전트에 제공할 것입니다: 관리자가 이 도구들을 호출하면, 전체 메시지 기록을 해당 에이전트에 전달하며 제어권을 작업자 에이전트에게 넘깁니다."
   ]
  },
  {
   "cell_type": "code",
   "execution_count": null,
   "id": "88889061",
   "metadata": {},
   "outputs": [],
   "source": [
    "from typing import Annotated\n",
    "from langchain_core.tools import tool, InjectedToolCallId\n",
    "from langgraph.prebuilt import InjectedState\n",
    "from langgraph.graph import StateGraph, START, MessagesState\n",
    "from langgraph.types import Command\n",
    "from langchain_core.messages import ToolMessage\n",
    "\n",
    "\n",
    "def create_handoff_tool(*, agent_name: str, description: str | None = None):\n",
    "    tool_name = f\"transfer_to_{agent_name}\"\n",
    "    description = description or f\"{agent_name}에게 도움을 요청하세요.\"\n",
    "\n",
    "    @tool(tool_name, description=description)\n",
    "    def handoff_tool(\n",
    "        state: Annotated[MessagesState, InjectedState],\n",
    "        tool_call_id: Annotated[str, InjectedToolCallId],\n",
    "    ) -> Command:\n",
    "        tool_message = ToolMessage(\n",
    "            f\"{agent_name}에게 성공적으로 이관되었습니다.\",\n",
    "            name=tool_name,\n",
    "            tool_call_id=tool_call_id,\n",
    "        )\n",
    "        return Command(\n",
    "            goto=agent_name,\n",
    "            update={**state, \"messages\": state[\"messages\"] + [tool_message]},\n",
    "            graph=Command.PARENT,\n",
    "        )\n",
    "\n",
    "    return handoff_tool\n",
    "\n",
    "\n",
    "# Handoffs\n",
    "assign_to_research_agent = create_handoff_tool(\n",
    "    agent_name=\"research_agent\",\n",
    "    description=\"연구자 에이전트에게 작업을 할당하십시오.\",\n",
    ")\n",
    "\n",
    "assign_to_math_agent = create_handoff_tool(\n",
    "    agent_name=\"math_agent\",\n",
    "    description=\"수학 에이전트에게 작업을 할당하십시오.\",\n",
    ")"
   ]
  },
  {
   "cell_type": "markdown",
   "id": "ee835235",
   "metadata": {},
   "source": [
    "### 슈퍼바이저 에이전트 생성\n",
    "이제 방금 정의한 핸드오프 도구를 사용하여 슈퍼바이저 에이전트를 생성해 보겠습니다. \n",
    "\n",
    "미리 빌드된 [`create_react_agent`](https://langchain-ai.github.io/langgraph/reference/prebuilt/#langgraph.prebuilt.chat_agent_executor.create_react_agent)를 사용할 것입니다:"
   ]
  },
  {
   "cell_type": "code",
   "execution_count": 18,
   "id": "9b13eec1",
   "metadata": {},
   "outputs": [],
   "source": [
    "supervisor_agent = create_react_agent(\n",
    "    model=\"openai:gpt-4.1-mini\",\n",
    "    tools=[assign_to_research_agent, assign_to_math_agent],\n",
    "    prompt=(\n",
    "        \"당신은 두 명의 에이전트를 관리하는 감독관입니다:\\n\"\n",
    "        \"- research 에이전트: 연구 관련 작업을 이 에이전트에게 할당하십시오\\n\"\n",
    "        \"- math 에이전트: 수학 관련 작업을 이 에이전트에게 할당하십시오\\n\"\n",
    "        \"한 번에 한 명의 에이전트에게만 작업을 할당하고, 에이전트를 동시에 호출하지 마십시오.\\n\"\n",
    "        \"직접 어떤 작업도 수행하지 마십시오.\"\n",
    "    ),\n",
    "    name=\"supervisor\",\n",
    ")"
   ]
  },
  {
   "cell_type": "markdown",
   "id": "6ea1759e",
   "metadata": {},
   "source": [
    "### 다중 에이전트 그래프 생성\n",
    "\n",
    "이 모든 것을 종합하여 전체 다중 에이전트 시스템을 위한 그래프를 생성해 보겠습니다. \n",
    "\n",
    "슈퍼바이저와 개별 에이전트를 하위 그래프 노드로 추가할 것입니다."
   ]
  },
  {
   "cell_type": "code",
   "execution_count": 19,
   "id": "31cf93cb",
   "metadata": {},
   "outputs": [],
   "source": [
    "from langgraph.graph import END\n",
    "\n",
    "# 다중 에이전트 슈퍼바이저 그래프 정의\n",
    "supervisor = (\n",
    "    StateGraph(MessagesState)\n",
    "    # 참고: `destinations`는 시각화 목적으로만 필요하며 런타임 동작에는 영향을 미치지 않습니다.\n",
    "    .add_node(supervisor_agent, destinations=(\"research_agent\", \"math_agent\", END))\n",
    "    .add_node(research_agent)\n",
    "    .add_node(math_agent)\n",
    "    # 항상 슈퍼바이저에게 보고하십시오\n",
    "    .add_edge(\"research_agent\", \"supervisor\")\n",
    "    .add_edge(\"math_agent\", \"supervisor\")\n",
    "    .set_entry_point(\"supervisor\")\n",
    "    .compile()\n",
    ")"
   ]
  },
  {
   "cell_type": "markdown",
   "id": "29c52117",
   "metadata": {},
   "source": [
    "작업 에이전트에서 감독자로 명시적인 에지를 추가했음을 확인하십시오. 이는 에이전트가 반드시 제어권을 감독자에게 반환함을 의미합니다. 에이전트가 사용자에게 직접 응답하도록 하려면(즉, 시스템을 라우터로 전환하려면) 이 에지들을 제거할 수 있습니다."
   ]
  },
  {
   "cell_type": "code",
   "execution_count": 15,
   "id": "997329f8",
   "metadata": {},
   "outputs": [
    {
     "data": {
      "image/png": "[encoded data removed]",
      "text/plain": [
       "<IPython.core.display.Image object>"
      ]
     },
     "metadata": {},
     "output_type": "display_data"
    }
   ],
   "source": [
    "from IPython.display import display, Image\n",
    "\n",
    "display(Image(supervisor.get_graph().draw_mermaid_png()))"
   ]
  },
  {
   "cell_type": "markdown",
   "id": "ef264967",
   "metadata": {},
   "source": [
    "다중 에이전트 그래프가 생성되었으니, 이제 실행해 보겠습니다!"
   ]
  },
  {
   "cell_type": "code",
   "execution_count": 20,
   "id": "56f52e9f",
   "metadata": {},
   "outputs": [
    {
     "name": "stdout",
     "output_type": "stream",
     "text": [
      "Update from node supervisor:\n",
      "\n",
      "\n",
      "=================================\u001b[1m Tool Message \u001b[0m=================================\n",
      "Name: transfer_to_research_agent\n",
      "\n",
      "research_agent에게 성공적으로 이관되었습니다.\n",
      "\n",
      "\n",
      "Update from node research_agent:\n",
      "\n",
      "\n",
      "==================================\u001b[1m Ai Message \u001b[0m==================================\n",
      "Name: research_agent\n",
      "\n",
      "2024년 미국 전체 국내총생산(GDP)은 실질 기준으로 약 2.8% 성장한 것으로 나타났으며, 구체적인 금액은 미국 경제분석국(BEA) 발표를 참고하면 됩니다.\n",
      "\n",
      "뉴욕 주의 2024년 GDP 수치는 현재 BEA에서 신속한 분기별 자료가 있으나, 전체 연간 수치는 아직 명확히 제시되지 않은 상태입니다. 다만, 뉴욕 주는 미국 내 경제 규모 상위권에 위치하므로 미국 GDP에서 차지하는 비율은 약 8~9% 내외일 것으로 추정됩니다.\n",
      "\n",
      "정확한 수치가 BEA에서 2024년 전체 연간 GDP 보고서 발표 시 업데이트될 예정입니다.\n",
      "\n",
      "더 구체적인 값이나 최신 자료 조회가 필요하면 알려주십시오.\n",
      "\n",
      "\n",
      "Update from node supervisor:\n",
      "\n",
      "\n",
      "==================================\u001b[1m Ai Message \u001b[0m==================================\n",
      "Name: supervisor\n",
      "\n",
      "2024년 미국 전체 GDP는 실질 기준으로 약 2.8% 성장한 것으로 BEA에서 발표했습니다. 뉴욕 주 GDP의 구체적인 2024년 연간 값은 아직 명확하게 나오지 않았으나, 과거 및 분기별 데이터를 참고할 때 뉴욕 주 GDP가 미국 전체 GDP에서 차지하는 비율은 대략 8~9%로 예상됩니다.\n",
      "\n",
      "더 구체적이고 최신 데이터가 필요하시면, 추가 조사를 요청해 주세요.\n",
      "\n",
      "\n"
     ]
    }
   ],
   "source": [
    "for chunk in supervisor.stream({\"messages\": [(\"user\", query)]}):\n",
    "    pretty_print_messages(chunk, last_message=True)\n",
    "\n",
    "final_message_history = chunk[\"supervisor\"][\"messages\"]"
   ]
  },
  {
   "cell_type": "markdown",
   "id": "9eafba1e",
   "metadata": {},
   "source": [
    "## 4. 위임 작업 생성\n",
    "\n",
    "지금까지 개별 에이전트는 전체 메시지 기록을 해석하여 자신의 작업을 결정해 왔습니다. 대안적인 접근법은 감독자에게 작업을 명시적으로 정의하도록 요청하는 것입니다. `handoff_tool` 함수에 `task_description` 매개변수를 추가함으로써 이를 구현할 수 있습니다.\n"
   ]
  },
  {
   "cell_type": "code",
   "execution_count": null,
   "id": "bce1d1f2",
   "metadata": {},
   "outputs": [],
   "source": [
    "from langgraph.types import Send\n",
    "\n",
    "\n",
    "def create_task_description_handoff_tool(\n",
    "    *, agent_name: str, description: str | None = None\n",
    "):\n",
    "    tool_name = f\"transfer_to_{agent_name}\"\n",
    "    description = description or f\"{agent_name}에게 도움을 요청하세요.\"\n",
    "\n",
    "    @tool(tool_name, description=description)\n",
    "    def handoff_tool(\n",
    "        # 이것은 감독자 LLM에 의해 채워집니다\n",
    "        task_description: Annotated[\n",
    "            str,\n",
    "            \"다음 에이전트가 수행해야 할 작업에 대한 설명으로, 모든 관련 컨텍스트를 포함합니다.\",\n",
    "        ],\n",
    "        # 이러한 매개변수들은 LLM에 의해 무시됩니다\n",
    "        state: Annotated[MessagesState, InjectedState],\n",
    "    ) -> Command:\n",
    "        return Command(\n",
    "            goto=[\n",
    "                Send(\n",
    "                    agent_name,\n",
    "                    {\n",
    "                        **state,\n",
    "                        \"messages\": [(\"user\", task_description)],\n",
    "                    },\n",
    "                )\n",
    "            ],\n",
    "            graph=Command.PARENT,\n",
    "        )\n",
    "\n",
    "    return handoff_tool\n",
    "\n",
    "\n",
    "assign_to_research_agent_with_description = create_handoff_tool(\n",
    "    agent_name=\"research_agent\",\n",
    "    description=\"연구자 에이전트에게 작업을 할당하십시오.\",\n",
    ")\n",
    "\n",
    "assign_to_math_agent_with_description = create_handoff_tool(\n",
    "    agent_name=\"math_agent\",\n",
    "    description=\"수학 에이전트에게 작업을 할당하십시오.\",\n",
    ")\n",
    "\n",
    "supervisor_agent_with_description = create_react_agent(\n",
    "    model=\"openai:gpt-4.1\",\n",
    "    tools=[\n",
    "        assign_to_research_agent_with_description,\n",
    "        assign_to_math_agent_with_description,\n",
    "    ],\n",
    "    prompt=(\n",
    "        \"당신은 두 명의 에이전트를 관리하는 감독관입니다:\\n\"\n",
    "        \"- research 에이전트: 연구 관련 작업을 이 에이전트에게 할당하십시오\\n\"\n",
    "        \"- math 에이전트: 수학 관련 작업을 이 에이전트에게 할당하십시오\\n\"\n",
    "        \"한 번에 한 명의 에이전트에게만 작업을 할당하고, 에이전트를 동시에 호출하지 마십시오.\\n\"\n",
    "        \"직접 어떤 작업도 수행하지 마십시오.\"\n",
    "    ),\n",
    "    name=\"supervisor\",\n",
    ")\n",
    "\n",
    "supervisor_with_description = (\n",
    "    StateGraph(MessagesState)\n",
    "    .add_node(\n",
    "        supervisor_agent_with_description, destinations=(\"research_agent\", \"math_agent\")\n",
    "    )\n",
    "    .add_node(research_agent)\n",
    "    .add_node(math_agent)\n",
    "    .add_edge(\"research_agent\", \"supervisor\")\n",
    "    .add_edge(\"math_agent\", \"supervisor\")\n",
    "    .set_entry_point(\"supervisor\")\n",
    "    .compile()\n",
    ")"
   ]
  },
  {
   "cell_type": "markdown",
   "id": "897cca4b",
   "metadata": {},
   "source": [
    "**참고**: 여기에서는 `handoff_tool`에서 [`Send()`](https://langchain-ai.github.io/langgraph/reference/types/#langgraph.types.Send) 기본 기능을 사용하고 있습니다. 이는 각 작업 에이전트가 전체 `supervisor` 그래프 상태를 입력으로 받는 대신 Send 페이로드의 내용만 볼 수 있음을 의미합니다. 이 예시에서는 작업 설명을 단일 \"human\" 메시지로 전송하고 있습니다."
   ]
  },
  {
   "cell_type": "markdown",
   "id": "1ccc139f",
   "metadata": {},
   "source": []
  }
 ],
 "metadata": {
  "kernelspec": {
   "display_name": "foundation-introduction-to-langgraph (3.12.11)",
   "language": "python",
   "name": "python3"
  },
  "language_info": {
   "codemirror_mode": {
    "name": "ipython",
    "version": 3
   },
   "file_extension": ".py",
   "mimetype": "text/x-python",
   "name": "python",
   "nbconvert_exporter": "python",
   "pygments_lexer": "ipython3",
   "version": "3.12.11"
  }
 },
 "nbformat": 4,
 "nbformat_minor": 5
}
