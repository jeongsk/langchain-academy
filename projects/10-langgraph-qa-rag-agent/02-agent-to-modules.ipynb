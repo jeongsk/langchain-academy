{
 "cells": [
  {
   "cell_type": "markdown",
   "metadata": {},
   "source": [
    "## 모듈화"
   ]
  },
  {
   "cell_type": "code",
   "execution_count": null,
   "metadata": {},
   "outputs": [],
   "source": [
    "from dotenv import load_dotenv\n",
    "\n",
    "load_dotenv()"
   ]
  },
  {
   "cell_type": "code",
   "execution_count": null,
   "metadata": {},
   "outputs": [],
   "source": [
    "# LangSmith 추적을 설정합니다. https://smith.langchain.com\n",
    "# !pip install -qU langchain-teddynote\n",
    "from langchain_teddynote import logging\n",
    "\n",
    "# 프로젝트 이름을 입력합니다.\n",
    "logging.langsmith(\"CH12-RAG\")"
   ]
  },
  {
   "cell_type": "markdown",
   "metadata": {},
   "source": [
    "## 모듈화\n"
   ]
  },
  {
   "cell_type": "code",
   "execution_count": 3,
   "metadata": {},
   "outputs": [],
   "source": [
    "from retrievers import init_retriever\n",
    "from states import GraphState\n",
    "from rag import create_rag_chain\n",
    "from nodes import *\n",
    "\n",
    "# retriever 초기화\n",
    "retriever = init_retriever()\n",
    "# rag_chain 초기화\n",
    "rag_chain = create_rag_chain()"
   ]
  },
  {
   "cell_type": "markdown",
   "metadata": {},
   "source": [
    "## 그래프 생성"
   ]
  },
  {
   "cell_type": "code",
   "execution_count": 4,
   "metadata": {},
   "outputs": [],
   "source": [
    "from langgraph.graph import END, StateGraph, START\n",
    "from langgraph.checkpoint.memory import MemorySaver\n",
    "from langchain_openai import ChatOpenAI\n",
    "\n",
    "# 그래프 상태 초기화\n",
    "workflow = StateGraph(GraphState)\n",
    "\n",
    "# 노드 정의\n",
    "workflow.add_node(\"query_expand\", QueryRewriteNode())  # 질문 재작성\n",
    "workflow.add_node(\"query_rewrite\", QueryRewriteNode())  # 질문 재작성\n",
    "workflow.add_node(\"web_search\", WebSearchNode())  # 웹 검색\n",
    "workflow.add_node(\"retrieve\", RetrieveNode(retriever))  # 문서 검색\n",
    "workflow.add_node(\"grade_documents\", FilteringDocumentsNode())  # 문서 평가\n",
    "workflow.add_node(\n",
    "    \"general_answer\", GeneralAnswerNode(ChatOpenAI(model=\"gpt-4o\", temperature=0))\n",
    ")  # 일반 답변 생성\n",
    "workflow.add_node(\"rag_answer\", RagAnswerNode(rag_chain))  # RAG 답변 생성\n",
    "\n",
    "# 엣지 추가\n",
    "workflow.add_conditional_edges(\n",
    "    START,\n",
    "    RouteQuestionNode(),\n",
    "    {\n",
    "        \"query_expansion\": \"query_expand\",  # 웹 검색으로 라우팅\n",
    "        \"general_answer\": \"general_answer\",  # 벡터스토어로 라우팅\n",
    "    },\n",
    ")\n",
    "\n",
    "workflow.add_edge(\"query_expand\", \"retrieve\")\n",
    "workflow.add_edge(\"retrieve\", \"grade_documents\")\n",
    "\n",
    "workflow.add_conditional_edges(\n",
    "    \"grade_documents\",\n",
    "    decide_to_web_search_node,\n",
    "    {\n",
    "        \"web_search\": \"web_search\",  # 웹 검색 필요\n",
    "        \"rag_answer\": \"rag_answer\",  # RAG 답변 생성 가능\n",
    "    },\n",
    ")\n",
    "\n",
    "workflow.add_edge(\"query_rewrite\", \"rag_answer\")\n",
    "\n",
    "workflow.add_conditional_edges(\n",
    "    \"rag_answer\",\n",
    "    AnswerGroundednessCheckNode(),\n",
    "    {\n",
    "        \"relevant\": END,\n",
    "        \"not relevant\": \"web_search\",\n",
    "        \"not grounded\": \"query_rewrite\",\n",
    "    },\n",
    ")\n",
    "\n",
    "workflow.add_edge(\"web_search\", \"rag_answer\")\n",
    "\n",
    "\n",
    "# 그래프 컴파일\n",
    "app = workflow.compile(checkpointer=MemorySaver())"
   ]
  },
  {
   "cell_type": "code",
   "execution_count": null,
   "metadata": {},
   "outputs": [],
   "source": [
    "from langchain_teddynote.graphs import visualize_graph\n",
    "\n",
    "visualize_graph(app)"
   ]
  },
  {
   "cell_type": "code",
   "execution_count": 6,
   "metadata": {},
   "outputs": [],
   "source": [
    "from langchain_core.runnables import RunnableConfig\n",
    "from langchain_teddynote.messages import invoke_graph, stream_graph, random_uuid\n",
    "\n",
    "\n",
    "def ask(question):\n",
    "    # config 설정(재귀 최대 횟수, thread_id)\n",
    "    config = RunnableConfig(\n",
    "        recursion_limit=20, configurable={\"thread_id\": random_uuid()}\n",
    "    )\n",
    "\n",
    "    # 질문 입력\n",
    "    inputs = {\n",
    "        \"question\": question,\n",
    "    }\n",
    "\n",
    "    # 스트리밍 형식으로 그래프 실행\n",
    "    stream_graph(\n",
    "        app,\n",
    "        inputs,\n",
    "        config,\n",
    "    )"
   ]
  },
  {
   "cell_type": "code",
   "execution_count": null,
   "metadata": {},
   "outputs": [],
   "source": [
    "ask(\"대한민국의 수도는?\")"
   ]
  },
  {
   "cell_type": "code",
   "execution_count": null,
   "metadata": {},
   "outputs": [],
   "source": [
    "ask(\"Self-RAG 에서 사용되는 관련성 평가 노드 예제를 찾아줘\")"
   ]
  },
  {
   "cell_type": "code",
   "execution_count": null,
   "metadata": {},
   "outputs": [],
   "source": []
  }
 ],
 "metadata": {
  "kernelspec": {
   "display_name": "fastcampus-code-qa-JNJ2L4YQ-py3.11",
   "language": "python",
   "name": "python3"
  },
  "language_info": {
   "codemirror_mode": {
    "name": "ipython",
    "version": 3
   },
   "file_extension": ".py",
   "mimetype": "text/x-python",
   "name": "python",
   "nbconvert_exporter": "python",
   "pygments_lexer": "ipython3",
   "version": "3.11.9"
  }
 },
 "nbformat": 4,
 "nbformat_minor": 2
}
