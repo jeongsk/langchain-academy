{
 "cells": [
  {
   "cell_type": "markdown",
   "id": "71b5c399",
   "metadata": {},
   "source": [
    "# 에이전트 대화 시뮬레이션(고객 응대 시나리오)\n",
    "\n",
    "참고: https://wikidocs.net/267816"
   ]
  },
  {
   "cell_type": "markdown",
   "id": "b96791ba",
   "metadata": {},
   "source": [
    "## 환경 변수"
   ]
  },
  {
   "cell_type": "code",
   "execution_count": 1,
   "id": "354a0ace",
   "metadata": {},
   "outputs": [
    {
     "data": {
      "text/plain": [
       "True"
      ]
     },
     "execution_count": 1,
     "metadata": {},
     "output_type": "execute_result"
    }
   ],
   "source": [
    "from dotenv import load_dotenv\n",
    "\n",
    "load_dotenv(\"../.env\", override=True)"
   ]
  },
  {
   "cell_type": "code",
   "execution_count": 3,
   "id": "db8cef37",
   "metadata": {},
   "outputs": [],
   "source": [
    "import os\n",
    "import getpass\n",
    "\n",
    "\n",
    "def _set_env(var: str):\n",
    "    env_value = os.environ.get(var)\n",
    "    if not env_value:\n",
    "        env_value = getpass.getpass(f\"{var}: \")\n",
    "\n",
    "    os.environ[var] = env_value\n",
    "\n",
    "\n",
    "_set_env(\"LANGSMITH_API_KEY\")\n",
    "os.environ[\"LANGSMITH_TRACING\"] = \"true\"\n",
    "os.environ[\"LANGSMITH_PROJECT\"] = \"01-LangGraph-Agent-Simulation\"\n",
    "_set_env(\"OPENAI_API_KEY\")"
   ]
  },
  {
   "cell_type": "markdown",
   "id": "8a562c24",
   "metadata": {},
   "source": [
    "## 상태 정의"
   ]
  },
  {
   "cell_type": "code",
   "execution_count": 5,
   "id": "d342969a",
   "metadata": {},
   "outputs": [],
   "source": [
    "from typing import TypedDict, Annotated\n",
    "from langchain_core.messages import AnyMessage\n",
    "from langgraph.graph.message import add_messages\n",
    "\n",
    "\n",
    "class State(TypedDict):\n",
    "    messages: Annotated[list[AnyMessage], add_messages]"
   ]
  },
  {
   "cell_type": "markdown",
   "id": "c6b8d886",
   "metadata": {},
   "source": [
    "## 상담사 에이전트\n",
    "\n",
    "상담사 역할을 하는 에이전트를 구성합니다."
   ]
  },
  {
   "cell_type": "code",
   "execution_count": 12,
   "id": "c39fdfd4",
   "metadata": {},
   "outputs": [],
   "source": [
    "from langchain_openai import ChatOpenAI\n",
    "from langchain_core.messages import SystemMessage\n",
    "\n",
    "\n",
    "def counselor_agent(state: State):\n",
    "    llm = ChatOpenAI(model=\"gpt-4.1-mini\", temperature=0.7)\n",
    "\n",
    "    response = llm.invoke(\n",
    "        [SystemMessage(\"당신은 항공사의 고객 지원 담당자입니다.\")] + state[\"messages\"]\n",
    "    )\n",
    "\n",
    "    return {\"messages\": [response]}"
   ]
  },
  {
   "cell_type": "code",
   "execution_count": 13,
   "id": "e939ab9d",
   "metadata": {},
   "outputs": [
    {
     "data": {
      "text/plain": [
       "{'messages': [AIMessage(content='안녕하세요! 항공사 고객 지원팀입니다. 어떻게 도와드릴까요?', additional_kwargs={'refusal': None}, response_metadata={'token_usage': {'completion_tokens': 18, 'prompt_tokens': 26, 'total_tokens': 44, 'completion_tokens_details': {'accepted_prediction_tokens': 0, 'audio_tokens': 0, 'reasoning_tokens': 0, 'rejected_prediction_tokens': 0}, 'prompt_tokens_details': {'audio_tokens': 0, 'cached_tokens': 0}}, 'model_name': 'gpt-4.1-mini-2025-04-14', 'system_fingerprint': 'fp_95d112f245', 'id': 'chatcmpl-CO0z01jtXbx4KuW8pm8L3OU1gDPMk', 'service_tier': 'default', 'finish_reason': 'stop', 'logprobs': None}, id='run--bd4ba7d2-ee7b-4dc4-8c0a-b573828c8315-0', usage_metadata={'input_tokens': 26, 'output_tokens': 18, 'total_tokens': 44, 'input_token_details': {'audio': 0, 'cache_read': 0}, 'output_token_details': {'audio': 0, 'reasoning': 0}})]}"
      ]
     },
     "execution_count": 13,
     "metadata": {},
     "output_type": "execute_result"
    }
   ],
   "source": [
    "from langchain_core.messages import HumanMessage\n",
    "\n",
    "counselor_agent({\"messages\": [HumanMessage(\"안녕하세요?\")]})"
   ]
  },
  {
   "cell_type": "markdown",
   "id": "36422d59",
   "metadata": {},
   "source": [
    "## 고객 에이전트\n",
    "\n",
    "고객 역할을 하는 에이전트를 구성합니다.\n",
    "\n",
    "먼저 시나리오 생성하는 함수를 작성합니다."
   ]
  },
  {
   "cell_type": "code",
   "execution_count": 9,
   "id": "ea6fd3f2",
   "metadata": {},
   "outputs": [],
   "source": [
    "def create_scenario(name: str, scenario: str):\n",
    "    system_prompt_template = \"\"\"당신의 이름은 {name}입니다.\n",
    "당신은 항공사 고객 지원 담당자와 대화 중입니다.\n",
    "아래 시나리오에 따라 행동하세요.\n",
    "\n",
    "## 시나리오:  \n",
    "{scenario}  \n",
    "\n",
    "## 지침 사항\n",
    "- 대화를 마쳤다면 'FINISHED'라는 한 단어로 응답하세요.\"\"\"\n",
    "\n",
    "    return system_prompt_template.format(\n",
    "        name=name,\n",
    "        scenario=scenario,\n",
    "    )"
   ]
  },
  {
   "cell_type": "code",
   "execution_count": 14,
   "id": "5c36fb50",
   "metadata": {},
   "outputs": [
    {
     "data": {
      "text/plain": [
       "\"당신의 이름은 침착맨입니다.\\n당신은 항공사 고객 지원 담당자와 대화 중입니다.\\n아래 시나리오에 따라 행동하세요.\\n\\n## 시나리오:  \\n제주도 여행에 대한 환불을 받으려고 합니다. 모든 금액을 돌려받기를 원합니다. 이 여행은 작년에 다녀온 것입니다.  \\n\\n## 지침 사항\\n- 대화를 마쳤다면 'FINISHED'라는 한 단어로 응답하세요.\""
      ]
     },
     "execution_count": 14,
     "metadata": {},
     "output_type": "execute_result"
    }
   ],
   "source": [
    "simulated_scenario = create_scenario(\n",
    "    name=\"침착맨\",\n",
    "    scenario=\"제주도 여행에 대한 환불을 받으려고 합니다. 모든 금액을 돌려받기를 원합니다. 이 여행은 작년에 다녀온 것입니다.\",\n",
    ")\n",
    "simulated_scenario"
   ]
  },
  {
   "cell_type": "code",
   "execution_count": null,
   "id": "d972c550",
   "metadata": {},
   "outputs": [],
   "source": [
    "def customer_agent(state: State):\n",
    "    llm = ChatOpenAI(model=\"gpt-4.1-mini\", temperature=1)\n",
    "\n",
    "    response = llm.invoke([SystemMessage(simulated_scenario)] + state[\"messages\"])\n",
    "\n",
    "    return {\"messages\": [response]}"
   ]
  },
  {
   "cell_type": "code",
   "execution_count": null,
   "id": "4874e484",
   "metadata": {},
   "outputs": [
    {
     "data": {
      "text/plain": [
       "{'messages': [AIMessage(content='안녕하세요, 침착맨입니다. 작년에 다녀온 제주도 여행에 대해 환불을 요청하고 싶습니다. 모든 금액을 돌려받고자 하는데, 가능한가요?', additional_kwargs={'refusal': None}, response_metadata={'token_usage': {'completion_tokens': 42, 'prompt_tokens': 124, 'total_tokens': 166, 'completion_tokens_details': {'accepted_prediction_tokens': 0, 'audio_tokens': 0, 'reasoning_tokens': 0, 'rejected_prediction_tokens': 0}, 'prompt_tokens_details': {'audio_tokens': 0, 'cached_tokens': 0}}, 'model_name': 'gpt-4.1-mini-2025-04-14', 'system_fingerprint': 'fp_95d112f245', 'id': 'chatcmpl-CO12DyL0KZt1fc2JNyNGiFYzorvCV', 'service_tier': 'default', 'finish_reason': 'stop', 'logprobs': None}, id='run--ebf212a6-9d06-4144-924b-10aa63748305-0', usage_metadata={'input_tokens': 124, 'output_tokens': 42, 'total_tokens': 166, 'input_token_details': {'audio': 0, 'cache_read': 0}, 'output_token_details': {'audio': 0, 'reasoning': 0}})]}"
      ]
     },
     "execution_count": 16,
     "metadata": {},
     "output_type": "execute_result"
    }
   ],
   "source": [
    "customer_agent({\"messages\": [HumanMessage(\"무엇을 도와드릴까요?\")]})"
   ]
  },
  {
   "cell_type": "markdown",
   "id": "b53c5f81",
   "metadata": {},
   "source": [
    "## 그래프 정의"
   ]
  },
  {
   "cell_type": "code",
   "execution_count": null,
   "id": "21d8540f",
   "metadata": {},
   "outputs": [],
   "source": [
    "from xml.etree.ElementInclude import include\n",
    "from langgraph.graph import StateGraph, END\n",
    "\n",
    "def should_continue(state: State):\n",
    "    messages = state.get(\"messages\", [])\n",
    "    if len(messages) > 20:\n",
    "        return END\n",
    "    elif \"FINISHED\" in str(messages[-1].content).upper():\n",
    "        return END\n",
    "    else \n",
    "        return \"continue\"\n",
    "\n",
    "\n",
    "builder = StateGraph(State)\n",
    "builder.add_node(\"counselor_agent\", counselor_agent)\n",
    "builder.add_node(\"customer_agent\", customer_agent)\n",
    "\n",
    "builder.add_edge(\"counselor_agent\", \"customer_agent\")"
   ]
  }
 ],
 "metadata": {
  "kernelspec": {
   "display_name": ".venv",
   "language": "python",
   "name": "python3"
  },
  "language_info": {
   "codemirror_mode": {
    "name": "ipython",
    "version": 3
   },
   "file_extension": ".py",
   "mimetype": "text/x-python",
   "name": "python",
   "nbconvert_exporter": "python",
   "pygments_lexer": "ipython3",
   "version": "3.12.11"
  }
 },
 "nbformat": 4,
 "nbformat_minor": 5
}
