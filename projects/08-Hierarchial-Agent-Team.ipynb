{
 "cells": [
  {
   "cell_type": "markdown",
   "id": "15726f03",
   "metadata": {},
   "source": [
    "## 계층적 멀티 에이전트 팀(Hierarchial Agent Team)\n",
    "\n",
    "시스템에 더 많은 에이전트를 추가하면 슈퍼바이저가 모든 에이전트를 관리하기 너무 어려워질 수 있습니다. 슈퍼바이저가 다음에 호출할 에이전트에 대해 잘못된 결정을 내리기 시작하거나, 단일 슈퍼바이저가 추적하기에는 컨텍스트가 너무 복잡해질 수 있습니다. 즉, 애초에 멀티 에이전트 아키텍처를 채택하게 된 것과 동일한 문제가 발생하게 됩니다.\n",
    "\n",
    "이를 해결하기 위해 시스템을 **계층적으로** 설계할 수 있습니다. 예를 들어, 개별 슈퍼바이저가 관리하는 전문화된 에이전트 팀을 별도로 만들고, 최상위 슈퍼바이저가 팀을 관리하도록 할 수 있습니다.\n",
    "\n",
    "- 참고 자료: https://wikidocs.net/270691\n",
    "- 관련 논문: https://arxiv.org/abs/2308.08155"
   ]
  },
  {
   "cell_type": "markdown",
   "id": "4586bbf3",
   "metadata": {},
   "source": [
    "## 환경 설정"
   ]
  },
  {
   "cell_type": "code",
   "execution_count": 1,
   "id": "a26c72e0",
   "metadata": {},
   "outputs": [],
   "source": [
    "import os\n",
    "import getpass\n",
    "from dotenv import load_dotenv\n",
    "\n",
    "load_dotenv(\"../.env\", override=True)\n",
    "\n",
    "\n",
    "def _set_env(var: str):\n",
    "    env_value = os.environ.get(var)\n",
    "    if not env_value:\n",
    "        env_value = getpass.getpass(f\"{var}: \")\n",
    "\n",
    "    os.environ[var] = env_value\n",
    "\n",
    "\n",
    "_set_env(\"LANGSMITH_API_KEY\")\n",
    "os.environ[\"LANGSMITH_TRACING\"] = \"true\"\n",
    "os.environ[\"LANGSMITH_PROJECT\"] = \"langchain-academy\"\n",
    "_set_env(\"OPENAI_API_KEY\")"
   ]
  },
  {
   "cell_type": "markdown",
   "id": "3fc91070",
   "metadata": {},
   "source": [
    "## ResearchTeam"
   ]
  },
  {
   "cell_type": "code",
   "execution_count": 3,
   "id": "9fb73197",
   "metadata": {},
   "outputs": [],
   "source": [
    "from langchain_tavily import TavilySearch\n",
    "\n",
    "# 웹 검색 도구 정의\n",
    "web_search_tool = TavilySearch(max_results=5)"
   ]
  },
  {
   "cell_type": "code",
   "execution_count": null,
   "id": "a44e0eb1",
   "metadata": {},
   "outputs": [],
   "source": [
    "# 웹 페이지에서 세부 정보를 스크래핑하기 위한 도구 정의\n",
    "from typing import List\n",
    "from langchain_core.tools import tool\n",
    "from langchain_community.document_loaders import WebBaseLoader\n",
    "\n",
    "\n",
    "@tool\n",
    "def scrape_webpages(urls: List[str]):\n",
    "    \"\"\"제공된 웹 페이지에서 상세 정보를 추출하기 위해 사용하십시오.\"\"\"\n",
    "    loader = WebBaseLoader(\n",
    "        web_paths=urls,\n",
    "        header_template={\n",
    "            \"User-Agent\": \"Mozilla/5.0 (Windows NT 10.0; Win64; x64) Chrome/110\",\n",
    "        },\n",
    "    )\n",
    "    docs = loader.load()\n",
    "\n",
    "    return \"\\n\".join(\n",
    "        [\n",
    "            f'<Document title=\"{doc.metadata.get(\"title\", \"\")}\" url=\"{doc.metadata.get(\"source\", \"\")}\">{doc.page_content}</Document>'\n",
    "            for doc in docs\n",
    "        ]\n",
    "    )\n",
    "    return docs\n"
   ]
  },
  {
   "cell_type": "code",
   "execution_count": 13,
   "id": "f3765f3f",
   "metadata": {},
   "outputs": [
    {
     "data": {
      "text/plain": [
       "[Document(metadata={'source': 'https://langchain-ai.github.io/langgraph/concepts/multi_agent/#handoffs-as-tools', 'title': 'Overview', 'description': 'Build reliable, stateful AI systems, without giving up control', 'language': 'en'}, page_content='\\n\\n\\n\\n\\n\\n\\n\\n\\n\\n\\n\\nOverview\\n\\n\\n\\n\\n\\n\\n\\n\\n\\n\\n\\n\\n\\n\\n\\n\\n\\n\\n\\n\\n\\n\\n\\n\\n\\n\\n\\n          Skip to content\\n        \\n\\n\\n\\n\\n\\n\\n\\n            \\n            \\nThese docs will be deprecated and removed with the release of LangGraph v1.0 in October 2025. Visit the v1.0 alpha docs\\n\\n\\n\\n\\n\\n\\n\\n\\n\\n\\n\\n\\n\\n\\n\\n\\n\\n            LangGraph\\n          \\n\\n\\n\\n            \\n              Overview\\n            \\n          \\n\\n\\n\\n\\n\\n\\n\\n\\n\\n\\n\\n\\n\\n\\n\\n\\n\\n\\n\\n\\n\\n\\n\\n\\n\\n\\n\\n\\n\\n\\n\\n\\n\\n\\n\\n\\n\\n\\n\\n\\n            Initializing search\\n          \\n\\n\\n\\n\\n\\n\\n\\n\\n\\n\\n\\n\\n    GitHub\\n  \\n\\n\\n\\n\\n\\n\\n\\n\\n\\n\\n          \\n  \\n  \\n    \\n  \\n  Get started\\n\\n        \\n\\n\\n\\n          \\n  \\n  \\n    \\n  \\n  Guides\\n\\n        \\n\\n\\n\\n          \\n  \\n  \\n    \\n  \\n  Reference\\n\\n        \\n\\n\\n\\n          \\n  \\n  \\n    \\n  \\n  Examples\\n\\n        \\n\\n\\n\\n          \\n  \\n  \\n    \\n  \\n  Additional resources\\n\\n        \\n\\n\\n\\n\\n\\n\\n\\n\\n\\n\\n\\n\\n\\n\\n\\n    LangGraph\\n  \\n\\n\\n\\n\\n\\n\\n    GitHub\\n  \\n\\n\\n\\n\\n\\n\\n    Get started\\n    \\n  \\n\\n\\n\\n\\n\\n\\n\\n\\n    Guides\\n    \\n  \\n\\n\\n\\n\\n\\n\\n\\n\\n            Guides\\n          \\n\\n\\n\\n\\n\\n    Agent development\\n    \\n  \\n\\n\\n\\n\\n\\n            Agent development\\n          \\n\\n\\n\\n\\n    Overview\\n    \\n  \\n\\n\\n\\n\\n\\n    Run an agent\\n    \\n  \\n\\n\\n\\n\\n\\n\\n\\n\\n\\n    LangGraph APIs\\n    \\n  \\n\\n\\n\\n\\n\\n            LangGraph APIs\\n          \\n\\n\\n\\n\\n    Graph API\\n    \\n  \\n\\n\\n\\n\\n\\n\\n    Functional API\\n    \\n  \\n\\n\\n\\n\\n\\n\\n    Runtime\\n    \\n  \\n\\n\\n\\n\\n\\n\\n\\n\\n\\n    Core capabilities\\n    \\n  \\n\\n\\n\\n\\n\\n            Core capabilities\\n          \\n\\n\\n\\n\\n    Streaming\\n    \\n  \\n\\n\\n\\n\\n\\n\\n    Persistence\\n    \\n  \\n\\n\\n\\n\\n\\n\\n    Durable execution\\n    \\n  \\n\\n\\n\\n\\n\\n\\n    Memory\\n    \\n  \\n\\n\\n\\n\\n\\n\\n    Context\\n    \\n  \\n\\n\\n\\n\\n\\n\\n    Models\\n    \\n  \\n\\n\\n\\n\\n\\n\\n    Tools\\n    \\n  \\n\\n\\n\\n\\n\\n\\n    Human-in-the-loop\\n    \\n  \\n\\n\\n\\n\\n\\n\\n    Time travel\\n    \\n  \\n\\n\\n\\n\\n\\n\\n    Subgraphs\\n    \\n  \\n\\n\\n\\n\\n\\n\\n\\n    Multi-agent\\n    \\n  \\n\\n\\n\\n\\n\\n            Multi-agent\\n          \\n\\n\\n\\n\\n\\n    Overview\\n    \\n  \\n\\n\\n\\n\\n    Overview\\n    \\n  \\n\\n\\n\\n\\n      Table of contents\\n    \\n\\n\\n\\n\\n      Multi-agent architectures\\n    \\n\\n\\n\\n\\n\\n\\n      Handoffs\\n    \\n\\n\\n\\n\\n\\n\\n      Handoffs as tools\\n    \\n\\n\\n\\n\\n\\n\\n\\n\\n      Network\\n    \\n\\n\\n\\n\\n\\n      Supervisor\\n    \\n\\n\\n\\n\\n\\n      Supervisor (tool-calling)\\n    \\n\\n\\n\\n\\n\\n      Hierarchical\\n    \\n\\n\\n\\n\\n\\n      Custom multi-agent workflow\\n    \\n\\n\\n\\n\\n\\n\\n\\n\\n      Communication and state management\\n    \\n\\n\\n\\n\\n\\n\\n      Handoffs vs tool calls\\n    \\n\\n\\n\\n\\n\\n      Message passing between agents\\n    \\n\\n\\n\\n\\n\\n\\n      Sharing full thought process\\n    \\n\\n\\n\\n\\n\\n      Sharing only final results\\n    \\n\\n\\n\\n\\n\\n      Indicating agent name in messages\\n    \\n\\n\\n\\n\\n\\n\\n\\n\\n      Representing handoffs in message history\\n    \\n\\n\\n\\n\\n\\n      State management for subagents\\n    \\n\\n\\n\\n\\n\\n      Using different state schemas\\n    \\n\\n\\n\\n\\n\\n\\n\\n\\n\\n\\n\\n    Prebuilt implementation\\n    \\n  \\n\\n\\n\\n\\n\\n    Custom implementation\\n    \\n  \\n\\n\\n\\n\\n\\n\\n\\n\\n    MCP\\n    \\n  \\n\\n\\n\\n\\n\\n\\n    Tracing\\n    \\n  \\n\\n\\n\\n\\n\\n\\n\\n\\n\\n\\n\\n\\n    Reference\\n    \\n  \\n\\n\\n\\n\\n\\n\\n    Examples\\n    \\n  \\n\\n\\n\\n\\n\\n\\n    Additional resources\\n    \\n  \\n\\n\\n\\n\\n\\n\\n\\n\\n\\n\\n\\n\\n\\n\\n      Table of contents\\n    \\n\\n\\n\\n\\n      Multi-agent architectures\\n    \\n\\n\\n\\n\\n\\n\\n      Handoffs\\n    \\n\\n\\n\\n\\n\\n\\n      Handoffs as tools\\n    \\n\\n\\n\\n\\n\\n\\n\\n\\n      Network\\n    \\n\\n\\n\\n\\n\\n      Supervisor\\n    \\n\\n\\n\\n\\n\\n      Supervisor (tool-calling)\\n    \\n\\n\\n\\n\\n\\n      Hierarchical\\n    \\n\\n\\n\\n\\n\\n      Custom multi-agent workflow\\n    \\n\\n\\n\\n\\n\\n\\n\\n\\n      Communication and state management\\n    \\n\\n\\n\\n\\n\\n\\n      Handoffs vs tool calls\\n    \\n\\n\\n\\n\\n\\n      Message passing between agents\\n    \\n\\n\\n\\n\\n\\n\\n      Sharing full thought process\\n    \\n\\n\\n\\n\\n\\n      Sharing only final results\\n    \\n\\n\\n\\n\\n\\n      Indicating agent name in messages\\n    \\n\\n\\n\\n\\n\\n\\n\\n\\n      Representing handoffs in message history\\n    \\n\\n\\n\\n\\n\\n      State management for subagents\\n    \\n\\n\\n\\n\\n\\n      Using different state schemas\\n    \\n\\n\\n\\n\\n\\n\\n\\n\\n\\n\\n\\n\\n\\n\\n\\n\\n\\nMulti-agent systems¶\\nAn agent is a system that uses an LLM to decide the control flow of an application. As you develop these systems, they might grow more complex over time, making them harder to manage and scale. For example, you might run into the following problems:\\n\\nagent has too many tools at its disposal and makes poor decisions about which tool to call next\\ncontext grows too complex for a single agent to keep track of\\nthere is a need for multiple specialization areas in the system (e.g. planner, researcher, math expert, etc.)\\n\\nTo tackle these, you might consider breaking your application into multiple smaller, independent agents and composing them into a multi-agent system. These independent agents can be as simple as a prompt and an LLM call, or as complex as a ReAct agent (and more!).\\nThe primary benefits of using multi-agent systems are:\\n\\nModularity: Separate agents make it easier to develop, test, and maintain agentic systems.\\nSpecialization: You can create expert agents focused on specific domains, which helps with the overall system performance.\\nControl: You can explicitly control how agents communicate (as opposed to relying on function calling).\\n\\nMulti-agent architectures¶\\n\\nThere are several ways to connect agents in a multi-agent system:\\n\\nNetwork: each agent can communicate with every other agent. Any agent can decide which other agent to call next.\\nSupervisor: each agent communicates with a single supervisor agent. Supervisor agent makes decisions on which agent should be called next.\\nSupervisor (tool-calling): this is a special case of supervisor architecture. Individual agents can be represented as tools. In this case, a supervisor agent uses a tool-calling LLM to decide which of the agent tools to call, as well as the arguments to pass to those agents.\\nHierarchical: you can define a multi-agent system with a supervisor of supervisors. This is a generalization of the supervisor architecture and allows for more complex control flows.\\nCustom multi-agent workflow: each agent communicates with only a subset of agents. Parts of the flow are deterministic, and only some agents can decide which other agents to call next.\\n\\nHandoffs¶\\nIn multi-agent architectures, agents can be represented as graph nodes. Each agent node executes its step(s) and decides whether to finish execution or route to another agent, including potentially routing to itself (e.g., running in a loop). A common pattern in multi-agent interactions is handoffs, where one agent hands off control to another. Handoffs allow you to specify:\\n\\ndestination: target agent to navigate to (e.g., name of the node to go to)\\npayload: information to pass to that agent (e.g., state update)\\n\\nTo implement handoffs in LangGraph, agent nodes can return Command object that allows you to combine both control flow and state updates:\\ndef agent(state) -> Command[Literal[\"agent\", \"another_agent\"]]:\\n    # the condition for routing/halting can be anything, e.g. LLM tool call / structured output, etc.\\n    goto = get_next_agent(...)  # \\'agent\\' / \\'another_agent\\'\\n    return Command(\\n        # Specify which agent to call next\\n        goto=goto,\\n        # Update the graph state\\n        update={\"my_state_key\": \"my_state_value\"}\\n    )\\n\\nIn a more complex scenario where each agent node is itself a graph (i.e., a subgraph), a node in one of the agent subgraphs might want to navigate to a different agent. For example, if you have two agents, alice and bob (subgraph nodes in a parent graph), and alice needs to navigate to bob, you can set graph=Command.PARENT in the Command object:\\ndef some_node_inside_alice(state):\\n    return Command(\\n        goto=\"bob\",\\n        update={\"my_state_key\": \"my_state_value\"},\\n        # specify which graph to navigate to (defaults to the current graph)\\n        graph=Command.PARENT,\\n    )\\n\\n\\nNote\\nIf you need to support visualization for subgraphs communicating using Command(graph=Command.PARENT) you would need to wrap them in a node function with Command annotation:\\nInstead of this:\\nbuilder.add_node(alice)\\n\\nyou would need to do this:\\ndef call_alice(state) -> Command[Literal[\"bob\"]]:\\n    return alice.invoke(state)\\n\\nbuilder.add_node(\"alice\", call_alice)\\n\\n\\nHandoffs as tools¶\\nOne of the most common agent types is a tool-calling agent. For those types of agents, a common pattern is wrapping a handoff in a tool call:\\nAPI Reference: tool\\nfrom langchain_core.tools import tool\\n\\n@tool\\ndef transfer_to_bob():\\n    \"\"\"Transfer to bob.\"\"\"\\n    return Command(\\n        # name of the agent (node) to go to\\n        goto=\"bob\",\\n        # data to send to the agent\\n        update={\"my_state_key\": \"my_state_value\"},\\n        # indicate to LangGraph that we need to navigate to\\n        # agent node in a parent graph\\n        graph=Command.PARENT,\\n    )\\n\\nThis is a special case of updating the graph state from tools where, in addition to the state update, the control flow is included as well.\\n\\nImportant\\nIf you want to use tools that return Command, you can use the prebuilt create_react_agent / ToolNode components, or else implement your own logic:\\ndef call_tools(state):\\n    ...\\n    commands = [tools_by_name[tool_call[\"name\"]].invoke(tool_call) for tool_call in tool_calls]\\n    return commands\\n\\n\\nLet\\'s now take a closer look at the different multi-agent architectures.\\nNetwork¶\\nIn this architecture, agents are defined as graph nodes. Each agent can communicate with every other agent (many-to-many connections) and can decide which agent to call next. This architecture is good for problems that do not have a clear hierarchy of agents or a specific sequence in which agents should be called.\\nAPI Reference: ChatOpenAI | Command | StateGraph | START | END\\nfrom typing import Literal\\nfrom langchain_openai import ChatOpenAI\\nfrom langgraph.types import Command\\nfrom langgraph.graph import StateGraph, MessagesState, START, END\\n\\nmodel = ChatOpenAI()\\n\\ndef agent_1(state: MessagesState) -> Command[Literal[\"agent_2\", \"agent_3\", END]]:\\n    # you can pass relevant parts of the state to the LLM (e.g., state[\"messages\"])\\n    # to determine which agent to call next. a common pattern is to call the model\\n    # with a structured output (e.g. force it to return an output with a \"next_agent\" field)\\n    response = model.invoke(...)\\n    # route to one of the agents or exit based on the LLM\\'s decision\\n    # if the LLM returns \"__end__\", the graph will finish execution\\n    return Command(\\n        goto=response[\"next_agent\"],\\n        update={\"messages\": [response[\"content\"]]},\\n    )\\n\\ndef agent_2(state: MessagesState) -> Command[Literal[\"agent_1\", \"agent_3\", END]]:\\n    response = model.invoke(...)\\n    return Command(\\n        goto=response[\"next_agent\"],\\n        update={\"messages\": [response[\"content\"]]},\\n    )\\n\\ndef agent_3(state: MessagesState) -> Command[Literal[\"agent_1\", \"agent_2\", END]]:\\n    ...\\n    return Command(\\n        goto=response[\"next_agent\"],\\n        update={\"messages\": [response[\"content\"]]},\\n    )\\n\\nbuilder = StateGraph(MessagesState)\\nbuilder.add_node(agent_1)\\nbuilder.add_node(agent_2)\\nbuilder.add_node(agent_3)\\n\\nbuilder.add_edge(START, \"agent_1\")\\nnetwork = builder.compile()\\n\\nSupervisor¶\\nIn this architecture, we define agents as nodes and add a supervisor node (LLM) that decides which agent nodes should be called next. We use Command to route execution to the appropriate agent node based on supervisor\\'s decision. This architecture also lends itself well to running multiple agents in parallel or using map-reduce pattern.\\nAPI Reference: ChatOpenAI | Command | StateGraph | START | END\\nfrom typing import Literal\\nfrom langchain_openai import ChatOpenAI\\nfrom langgraph.types import Command\\nfrom langgraph.graph import StateGraph, MessagesState, START, END\\n\\nmodel = ChatOpenAI()\\n\\ndef supervisor(state: MessagesState) -> Command[Literal[\"agent_1\", \"agent_2\", END]]:\\n    # you can pass relevant parts of the state to the LLM (e.g., state[\"messages\"])\\n    # to determine which agent to call next. a common pattern is to call the model\\n    # with a structured output (e.g. force it to return an output with a \"next_agent\" field)\\n    response = model.invoke(...)\\n    # route to one of the agents or exit based on the supervisor\\'s decision\\n    # if the supervisor returns \"__end__\", the graph will finish execution\\n    return Command(goto=response[\"next_agent\"])\\n\\ndef agent_1(state: MessagesState) -> Command[Literal[\"supervisor\"]]:\\n    # you can pass relevant parts of the state to the LLM (e.g., state[\"messages\"])\\n    # and add any additional logic (different models, custom prompts, structured output, etc.)\\n    response = model.invoke(...)\\n    return Command(\\n        goto=\"supervisor\",\\n        update={\"messages\": [response]},\\n    )\\n\\ndef agent_2(state: MessagesState) -> Command[Literal[\"supervisor\"]]:\\n    response = model.invoke(...)\\n    return Command(\\n        goto=\"supervisor\",\\n        update={\"messages\": [response]},\\n    )\\n\\nbuilder = StateGraph(MessagesState)\\nbuilder.add_node(supervisor)\\nbuilder.add_node(agent_1)\\nbuilder.add_node(agent_2)\\n\\nbuilder.add_edge(START, \"supervisor\")\\n\\nsupervisor = builder.compile()\\n\\nCheck out this tutorial for an example of supervisor multi-agent architecture.\\nSupervisor (tool-calling)¶\\nIn this variant of the supervisor architecture, we define a supervisor agent which is responsible for calling sub-agents. The sub-agents are exposed to the supervisor as tools, and the supervisor agent decides which tool to call next. The supervisor agent follows a standard implementation as an LLM running in a while loop calling tools until it decides to stop.\\nAPI Reference: ChatOpenAI | InjectedState | create_react_agent\\nfrom typing import Annotated\\nfrom langchain_openai import ChatOpenAI\\nfrom langgraph.prebuilt import InjectedState, create_react_agent\\n\\nmodel = ChatOpenAI()\\n\\n# this is the agent function that will be called as tool\\n# notice that you can pass the state to the tool via InjectedState annotation\\ndef agent_1(state: Annotated[dict, InjectedState]):\\n    # you can pass relevant parts of the state to the LLM (e.g., state[\"messages\"])\\n    # and add any additional logic (different models, custom prompts, structured output, etc.)\\n    response = model.invoke(...)\\n    # return the LLM response as a string (expected tool response format)\\n    # this will be automatically turned to ToolMessage\\n    # by the prebuilt create_react_agent (supervisor)\\n    return response.content\\n\\ndef agent_2(state: Annotated[dict, InjectedState]):\\n    response = model.invoke(...)\\n    return response.content\\n\\ntools = [agent_1, agent_2]\\n# the simplest way to build a supervisor w/ tool-calling is to use prebuilt ReAct agent graph\\n# that consists of a tool-calling LLM node (i.e. supervisor) and a tool-executing node\\nsupervisor = create_react_agent(model, tools)\\n\\nHierarchical¶\\nAs you add more agents to your system, it might become too hard for the supervisor to manage all of them. The supervisor might start making poor decisions about which agent to call next, or the context might become too complex for a single supervisor to keep track of. In other words, you end up with the same problems that motivated the multi-agent architecture in the first place.\\nTo address this, you can design your system hierarchically. For example, you can create separate, specialized teams of agents managed by individual supervisors, and a top-level supervisor to manage the teams.\\nAPI Reference: ChatOpenAI | StateGraph | START | END | Command\\nfrom typing import Literal\\nfrom langchain_openai import ChatOpenAI\\nfrom langgraph.graph import StateGraph, MessagesState, START, END\\nfrom langgraph.types import Command\\nmodel = ChatOpenAI()\\n\\n# define team 1 (same as the single supervisor example above)\\n\\ndef team_1_supervisor(state: MessagesState) -> Command[Literal[\"team_1_agent_1\", \"team_1_agent_2\", END]]:\\n    response = model.invoke(...)\\n    return Command(goto=response[\"next_agent\"])\\n\\ndef team_1_agent_1(state: MessagesState) -> Command[Literal[\"team_1_supervisor\"]]:\\n    response = model.invoke(...)\\n    return Command(goto=\"team_1_supervisor\", update={\"messages\": [response]})\\n\\ndef team_1_agent_2(state: MessagesState) -> Command[Literal[\"team_1_supervisor\"]]:\\n    response = model.invoke(...)\\n    return Command(goto=\"team_1_supervisor\", update={\"messages\": [response]})\\n\\nteam_1_builder = StateGraph(Team1State)\\nteam_1_builder.add_node(team_1_supervisor)\\nteam_1_builder.add_node(team_1_agent_1)\\nteam_1_builder.add_node(team_1_agent_2)\\nteam_1_builder.add_edge(START, \"team_1_supervisor\")\\nteam_1_graph = team_1_builder.compile()\\n\\n# define team 2 (same as the single supervisor example above)\\nclass Team2State(MessagesState):\\n    next: Literal[\"team_2_agent_1\", \"team_2_agent_2\", \"__end__\"]\\n\\ndef team_2_supervisor(state: Team2State):\\n    ...\\n\\ndef team_2_agent_1(state: Team2State):\\n    ...\\n\\ndef team_2_agent_2(state: Team2State):\\n    ...\\n\\nteam_2_builder = StateGraph(Team2State)\\n...\\nteam_2_graph = team_2_builder.compile()\\n\\n\\n# define top-level supervisor\\n\\nbuilder = StateGraph(MessagesState)\\ndef top_level_supervisor(state: MessagesState) -> Command[Literal[\"team_1_graph\", \"team_2_graph\", END]]:\\n    # you can pass relevant parts of the state to the LLM (e.g., state[\"messages\"])\\n    # to determine which team to call next. a common pattern is to call the model\\n    # with a structured output (e.g. force it to return an output with a \"next_team\" field)\\n    response = model.invoke(...)\\n    # route to one of the teams or exit based on the supervisor\\'s decision\\n    # if the supervisor returns \"__end__\", the graph will finish execution\\n    return Command(goto=response[\"next_team\"])\\n\\nbuilder = StateGraph(MessagesState)\\nbuilder.add_node(top_level_supervisor)\\nbuilder.add_node(\"team_1_graph\", team_1_graph)\\nbuilder.add_node(\"team_2_graph\", team_2_graph)\\nbuilder.add_edge(START, \"top_level_supervisor\")\\nbuilder.add_edge(\"team_1_graph\", \"top_level_supervisor\")\\nbuilder.add_edge(\"team_2_graph\", \"top_level_supervisor\")\\ngraph = builder.compile()\\n\\nCustom multi-agent workflow¶\\nIn this architecture we add individual agents as graph nodes and define the order in which agents are called ahead of time, in a custom workflow. In LangGraph the workflow can be defined in two ways:\\n\\n\\nExplicit control flow (normal edges): LangGraph allows you to explicitly define the control flow of your application (i.e. the sequence of how agents communicate) explicitly, via normal graph edges. This is the most deterministic variant of this architecture above — we always know which agent will be called next ahead of time.\\n\\n\\nDynamic control flow (Command): in LangGraph you can allow LLMs to decide parts of your application control flow. This can be achieved by using Command. A special case of this is a supervisor tool-calling architecture. In that case, the tool-calling LLM powering the supervisor agent will make decisions about the order in which the tools (agents) are being called.\\n\\n\\nAPI Reference: ChatOpenAI | StateGraph | START\\nfrom langchain_openai import ChatOpenAI\\nfrom langgraph.graph import StateGraph, MessagesState, START\\n\\nmodel = ChatOpenAI()\\n\\ndef agent_1(state: MessagesState):\\n    response = model.invoke(...)\\n    return {\"messages\": [response]}\\n\\ndef agent_2(state: MessagesState):\\n    response = model.invoke(...)\\n    return {\"messages\": [response]}\\n\\nbuilder = StateGraph(MessagesState)\\nbuilder.add_node(agent_1)\\nbuilder.add_node(agent_2)\\n# define the flow explicitly\\nbuilder.add_edge(START, \"agent_1\")\\nbuilder.add_edge(\"agent_1\", \"agent_2\")\\n\\nCommunication and state management¶\\nThe most important thing when building multi-agent systems is figuring out how the agents communicate.\\nA common, generic way for agents to communicate is via a list of messages. This opens up the following questions:\\n\\nDo agents communicate via handoffs or via tool calls?\\nWhat messages are passed from one agent to the next?\\nHow are handoffs represented in the list of messages?\\nHow do you manage state for subagents?\\n\\nAdditionally, if you are dealing with more complex agents or wish to keep individual agent state separate from the multi-agent system state, you may need to use different state schemas.\\nHandoffs vs tool calls¶\\nWhat is the \"payload\" that is being passed around between agents? In most of the architectures discussed above, the agents communicate via handoffs and pass the graph state as part of the handoff payload. Specifically, agents pass around lists of messages as part of the graph state. In the case of the supervisor with tool-calling, the payloads are tool call arguments.\\n\\nMessage passing between agents¶\\nThe most common way for agents to communicate is via a shared state channel, typically a list of messages. This assumes that there is always at least a single channel (key) in the state that is shared by the agents (e.g., messages). When communicating via a shared message list, there is an additional consideration: should the agents share the full history of their thought process or only the final result?\\n\\nSharing full thought process¶\\nAgents can share the full history of their thought process (i.e., \"scratchpad\") with all other agents. This \"scratchpad\" would typically look like a list of messages. The benefit of sharing the full thought process is that it might help other agents make better decisions and improve reasoning ability for the system as a whole. The downside is that as the number of agents and their complexity grows, the \"scratchpad\" will grow quickly and might require additional strategies for memory management.\\nSharing only final results¶\\nAgents can have their own private \"scratchpad\" and only share the final result with the rest of the agents. This approach might work better for systems with many agents or agents that are more complex. In this case, you would need to define agents with different state schemas.\\nFor agents called as tools, the supervisor determines the inputs based on the tool schema. Additionally, LangGraph allows passing state to individual tools at runtime, so subordinate agents can access parent state, if needed.\\nIndicating agent name in messages¶\\nIt can be helpful to indicate which agent a particular AI message is from, especially for long message histories. Some LLM providers (like OpenAI) support adding a name parameter to messages — you can use that to attach the agent name to the message. If that is not supported, you can consider manually injecting the agent name into the message content, e.g., <agent>alice</agent><message>message from alice</message>.\\nRepresenting handoffs in message history¶\\nHandoffs are typically done via the LLM calling a dedicated handoff tool. This is represented as an AI message with tool calls that is passed to the next agent (LLM). Most LLM providers don\\'t support receiving AI messages with tool calls without corresponding tool messages.\\nYou therefore have two options:\\n\\nAdd an extra tool message to the message list, e.g., \"Successfully transferred to agent X\"\\nRemove the AI message with the tool calls\\n\\nIn practice, we see that most developers opt for option (1).\\nState management for subagents¶\\nA common practice is to have multiple agents communicating on a shared message list, but only adding their final messages to the list. This means that any intermediate messages (e.g., tool calls) are not saved in this list.\\nWhat if you do want to save these messages so that if this particular subagent is invoked in the future you can pass those back in?\\nThere are two high-level approaches to achieve that:\\n\\nStore these messages in the shared message list, but filter the list before passing it to the subagent LLM. For example, you can choose to filter out all tool calls from other agents.\\nStore a separate message list for each agent (e.g., alice_messages) in the subagent\\'s graph state. This would be their \"view\" of what the message history looks like.\\n\\nUsing different state schemas¶\\nAn agent might need to have a different state schema from the rest of the agents. For example, a search agent might only need to keep track of queries and retrieved documents. There are two ways to achieve this in LangGraph:\\n\\nDefine subgraph agents with a separate state schema. If there are no shared state keys (channels) between the subgraph and the parent graph, it\\'s important to add input / output transformations so that the parent graph knows how to communicate with the subgraphs.\\nDefine agent node functions with a private input state schema that is distinct from the overall graph state schema. This allows passing information that is only needed for executing that particular agent.\\n\\n\\n\\n\\n\\n\\n\\n\\n  Back to top\\n\\n\\n\\n\\n\\n\\n\\n\\n\\n\\n                Previous\\n              \\n\\n                Use subgraphs\\n              \\n\\n\\n\\n\\n\\n                Next\\n              \\n\\n                Prebuilt implementation\\n              \\n\\n\\n\\n\\n\\n\\n\\n\\n\\n\\n      Copyright © 2025 LangChain, Inc | Consent Preferences\\n\\n  \\n  \\n    Made with\\n    \\n      Material for MkDocs\\n    \\n\\n\\n\\n\\n\\n\\n\\n\\n\\n\\n\\n\\n\\n\\n\\n\\n\\n\\n\\n\\n\\n\\n\\n')]"
      ]
     },
     "execution_count": 13,
     "metadata": {},
     "output_type": "execute_result"
    }
   ],
   "source": [
    "scrape_webpages.invoke(\n",
    "    input={\n",
    "        \"urls\": [\n",
    "            \"https://langchain-ai.github.io/langgraph/concepts/multi_agent/#handoffs-as-tools\"\n",
    "        ]\n",
    "    }\n",
    ")"
   ]
  },
  {
   "cell_type": "markdown",
   "id": "241e590e",
   "metadata": {},
   "source": []
  }
 ],
 "metadata": {
  "kernelspec": {
   "display_name": "foundation-introduction-to-langgraph (3.12.11)",
   "language": "python",
   "name": "python3"
  },
  "language_info": {
   "codemirror_mode": {
    "name": "ipython",
    "version": 3
   },
   "file_extension": ".py",
   "mimetype": "text/x-python",
   "name": "python",
   "nbconvert_exporter": "python",
   "pygments_lexer": "ipython3",
   "version": "3.12.11"
  }
 },
 "nbformat": 4,
 "nbformat_minor": 5
}
