{
 "cells": [
  {
   "cell_type": "markdown",
   "id": "15726f03",
   "metadata": {},
   "source": [
    "## 계층적 멀티 에이전트 팀(Hierarchial Agent Team)\n",
    "\n",
    "시스템에 더 많은 에이전트를 추가하면 슈퍼바이저가 모든 에이전트를 관리하기 너무 어려워질 수 있습니다. 슈퍼바이저가 다음에 호출할 에이전트에 대해 잘못된 결정을 내리기 시작하거나, 단일 슈퍼바이저가 추적하기에는 컨텍스트가 너무 복잡해질 수 있습니다. 즉, 애초에 멀티 에이전트 아키텍처를 채택하게 된 것과 동일한 문제가 발생하게 됩니다.\n",
    "\n",
    "이를 해결하기 위해 시스템을 **계층적으로** 설계할 수 있습니다. 예를 들어, 개별 슈퍼바이저가 관리하는 전문화된 에이전트 팀을 별도로 만들고, 최상위 슈퍼바이저가 팀을 관리하도록 할 수 있습니다.\n",
    "\n",
    "- 참고 자료: https://wikidocs.net/270691\n",
    "- 관련 논문: https://arxiv.org/abs/2308.08155"
   ]
  },
  {
   "cell_type": "markdown",
   "id": "4586bbf3",
   "metadata": {},
   "source": [
    "## 환경 설정"
   ]
  },
  {
   "cell_type": "code",
   "execution_count": 1,
   "id": "a26c72e0",
   "metadata": {},
   "outputs": [],
   "source": [
    "import os\n",
    "import getpass\n",
    "from dotenv import load_dotenv\n",
    "\n",
    "load_dotenv(\"../.env\", override=True)\n",
    "\n",
    "\n",
    "def _set_env(var: str):\n",
    "    env_value = os.environ.get(var)\n",
    "    if not env_value:\n",
    "        env_value = getpass.getpass(f\"{var}: \")\n",
    "\n",
    "    os.environ[var] = env_value\n",
    "\n",
    "\n",
    "_set_env(\"LANGSMITH_API_KEY\")\n",
    "os.environ[\"LANGSMITH_TRACING\"] = \"true\"\n",
    "os.environ[\"LANGSMITH_PROJECT\"] = \"langchain-academy\"\n",
    "_set_env(\"OPENAI_API_KEY\")"
   ]
  },
  {
   "cell_type": "markdown",
   "id": "3fc91070",
   "metadata": {},
   "source": [
    "## ResearchTeam"
   ]
  },
  {
   "cell_type": "code",
   "execution_count": null,
   "id": "9fb73197",
   "metadata": {},
   "outputs": [],
   "source": [
    "from typing import List\n",
    "from langchain_community.document_loaders import WebBaseLoader\n",
    "from langchain_tavily import TavilySearch\n",
    "from langchain_core.tools import tool\n",
    "\n",
    "# 웹 검색 도구 정의\n",
    "web_search_tool = TavilySearch(max_results=5)\n",
    "\n",
    "\n",
    "# 웹 페이지에서 세부 정보를 스크래핑하기 위한 도구 정의\n",
    "@tool\n",
    "def scrape_webpages(urls: List[str]) -> str:\n",
    "    \"\"\"제공된 웹 페이지에서 상세 정보를 추출하기 위해 사용하십시오.\"\"\"\n",
    "    loader = WebBaseLoader(\n",
    "        web_path=urls,\n",
    "        header_template={\n",
    "            \"User-Agent\": \"Mozilla/5.0 (Windows NT 10.0; Win64; x64) Chrome/110\",\n",
    "        },\n",
    "    )\n",
    "    docs = loader.load()\n",
    "\n",
    "    return \"\\n\".join(\n",
    "        [\n",
    "            f'<Document title=\"{doc.metadata.get(\"title\", \"\")}\">{doc.page_content}</Document>'\n",
    "            for doc in docs\n",
    "        ]\n",
    "    )\n"
   ]
  },
  {
   "cell_type": "markdown",
   "id": "241e590e",
   "metadata": {},
   "source": []
  }
 ],
 "metadata": {
  "kernelspec": {
   "display_name": "foundation-introduction-to-langgraph (3.12.11)",
   "language": "python",
   "name": "python3"
  },
  "language_info": {
   "codemirror_mode": {
    "name": "ipython",
    "version": 3
   },
   "file_extension": ".py",
   "mimetype": "text/x-python",
   "name": "python",
   "nbconvert_exporter": "python",
   "pygments_lexer": "ipython3",
   "version": "3.12.11"
  }
 },
 "nbformat": 4,
 "nbformat_minor": 5
}
