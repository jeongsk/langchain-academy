{
 "cells": [
  {
   "cell_type": "markdown",
   "id": "1d0e2658",
   "metadata": {},
   "source": [
    "# LangGraph Multi-Agent Swarm\n",
    "\n",
    "LangGraph를 사용하여 Swarm 스타일 멀티 에이전트 시스템 튜토리얼입니다. Swarm은 에이전트들이 각자의 전문성에 따라 동적으로 제어권을 서로 넘겨주는 멀티 에이전트 아키텍처의 한 유형입니다. 이 시스템은 마지막으로 활동했던 에이전트를 기억하여, 이후 상호작용 시 해당 에이전트와 대화가 재개되도록 보장합니다.\n",
    "\n",
    "참고 자료: https://github.com/langchain-ai/langgraph-swarm-py"
   ]
  },
  {
   "cell_type": "markdown",
   "id": "878fb638",
   "metadata": {},
   "source": []
  }
 ],
 "metadata": {
  "language_info": {
   "name": "python"
  }
 },
 "nbformat": 4,
 "nbformat_minor": 5
}
