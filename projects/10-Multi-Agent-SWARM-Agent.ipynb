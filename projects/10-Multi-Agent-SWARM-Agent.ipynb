{
 "cells": [
  {
   "cell_type": "markdown",
   "id": "1d0e2658",
   "metadata": {},
   "source": [
    "https://github.com/langchain-ai/langgraph-swarm-py"
   ]
  },
  {
   "cell_type": "markdown",
   "id": "878fb638",
   "metadata": {},
   "source": []
  }
 ],
 "metadata": {
  "language_info": {
   "name": "python"
  }
 },
 "nbformat": 4,
 "nbformat_minor": 5
}
