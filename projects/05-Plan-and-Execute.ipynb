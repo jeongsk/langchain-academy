{
 "cells": [
  {
   "cell_type": "markdown",
   "id": "d3f47793",
   "metadata": {},
   "source": [
    "# Plan and Execute\n",
    "\n",
    "> - 참고 자료: https://wikidocs.net/270688\n",
    "> - 관련 논문: https://arxiv.org/abs/2305.04091\n",
    "\n",
    "Plan-and-Execute 에이전트는 먼저 달성할 목표를 구체적인 단계로 나누어 계획을 수립한 뒤, 그 계획을 순차적으로 실행하며 실행 과정에서 얻은 피드백을 반영해 동적으로 조정하는 구조를 갖추고 있습니다.\n",
    "\n",
    "[ReAct](https://arxiv.org/abs/2210.03629) 에이전트는 사고와 행동을 매 단계 즉시 교차 실행하며 즉각적 피드백에 대응하는 반면, Plan-and-Execute 에이전트는 전체 목표를 세부 단계별로 계획 수립 후 순차 실행하며 피드백으로 계획을 동적으로 조정합니다."
   ]
  },
  {
   "cell_type": "code",
   "execution_count": 1,
   "id": "075216b0",
   "metadata": {},
   "outputs": [],
   "source": [
    "import os\n",
    "import getpass\n",
    "from dotenv import load_dotenv\n",
    "\n",
    "load_dotenv(\"../.env\", override=True)\n",
    "\n",
    "\n",
    "def _set_env(var: str):\n",
    "    env_value = os.environ.get(var)\n",
    "    if not env_value:\n",
    "        env_value = getpass.getpass(f\"{var}: \")\n",
    "\n",
    "    os.environ[var] = env_value\n",
    "\n",
    "\n",
    "_set_env(\"LANGSMITH_API_KEY\")\n",
    "os.environ[\"LANGSMITH_TRACING\"] = \"true\"\n",
    "os.environ[\"LANGSMITH_PROJECT\"] = \"langchain-academy\"\n",
    "_set_env(\"OPENAI_API_KEY\")"
   ]
  },
  {
   "cell_type": "markdown",
   "id": "b825dcdb",
   "metadata": {},
   "source": [
    "## 에이전트 정의\n",
    "\n",
    "랭그래프에 사전 정의된 `create_react_agent`를 사용하여 ReAct 에이전트를 생성합니다."
   ]
  },
  {
   "cell_type": "code",
   "execution_count": 11,
   "id": "5b03652f",
   "metadata": {},
   "outputs": [],
   "source": [
    "from langgraph.prebuilt import create_react_agent\n",
    "from langchain_tavily import TavilySearch\n",
    "\n",
    "web_search_tool = TavilySearch(max_results=3)\n",
    "\n",
    "agent_executor = create_react_agent(\n",
    "    model=\"openai:gpt-4.1-mini\",\n",
    "    tools=[web_search_tool],\n",
    "    prompt=\"당신은 언제나 친절하고 능숙하게 지원을 제공하며, 사용자의 목표 달성을 돕는 탁월한 조수입니다.\",\n",
    ")"
   ]
  },
  {
   "cell_type": "code",
   "execution_count": 12,
   "id": "14b01ecb",
   "metadata": {},
   "outputs": [
    {
     "data": {
      "text/plain": [
       "{'messages': [HumanMessage(content='랭그래프에 대해서 웹검색 해주세요.', additional_kwargs={}, response_metadata={}, id='a8421bec-c953-4275-974e-ca91ce7f07c0'),\n",
       "  AIMessage(content='', additional_kwargs={'tool_calls': [{'id': 'call_CLy03HjiDdZh8Imec5JEB8rc', 'function': {'arguments': '{\"query\":\"랭그래프\",\"search_depth\":\"basic\"}', 'name': 'tavily_search'}, 'type': 'function'}], 'refusal': None}, response_metadata={'token_usage': {'completion_tokens': 24, 'prompt_tokens': 1311, 'total_tokens': 1335, 'completion_tokens_details': {'accepted_prediction_tokens': 0, 'audio_tokens': 0, 'reasoning_tokens': 0, 'rejected_prediction_tokens': 0}, 'prompt_tokens_details': {'audio_tokens': 0, 'cached_tokens': 0}}, 'model_name': 'gpt-4.1-mini-2025-04-14', 'system_fingerprint': 'fp_95d112f245', 'id': 'chatcmpl-CP6IB82y7FkwtTZrdjbnDAeL2nr4L', 'service_tier': 'default', 'finish_reason': 'tool_calls', 'logprobs': None}, id='run--bd791a95-611a-4297-8aab-57ba10e74d97-0', tool_calls=[{'name': 'tavily_search', 'args': {'query': '랭그래프', 'search_depth': 'basic'}, 'id': 'call_CLy03HjiDdZh8Imec5JEB8rc', 'type': 'tool_call'}], usage_metadata={'input_tokens': 1311, 'output_tokens': 24, 'total_tokens': 1335, 'input_token_details': {'audio': 0, 'cache_read': 0}, 'output_token_details': {'audio': 0, 'reasoning': 0}}),\n",
       "  ToolMessage(content='{\"query\": \"랭그래프\", \"follow_up_questions\": null, \"answer\": null, \"images\": [], \"results\": [{\"url\": \"https://blog.naver.com/pjt3591oo/223861729229?viewType=pc\", \"title\": \"langgraph 소개 및 기본개념 : 네이버 블로그\", \"content\": \"LangGraph는 LangChain 상태계의 일부로 LLM 애플리케이션의 흐름을 그래프로 정의하고 실행하는 라이브러리입니다. 여기서 그래프는 CS(Computer\", \"score\": 0.750937, \"raw_content\": null}, {\"url\": \"https://brunch.co.kr/@zer0cero/132\", \"title\": \"23화 22. LangGraph 기본과 응용 - 브런치\", \"content\": \"LangGraph(랭그래프)는 LangChain(랭체인)을 기반으로 하는 에이전트 프레임워크입니다. LangGraph(랭그래프)의 주요 특징은 복잡한 제어구조를 가진\", \"score\": 0.7463059, \"raw_content\": null}, {\"url\": \"https://velog.io/@kwon0koang/%EB%9E%AD%EA%B7%B8%EB%9E%98%ED%94%84-LangGraph-%ED%9A%A8%EC%9C%A8%EC%A0%81%EC%9D%B8-AI-%EC%9B%8C%ED%81%AC%ED%94%8C%EB%A1%9C%EC%9A%B0-%EA%B5%AC%EC%B6%95\", \"title\": \"랭그래프 (LangGraph): 효율적인 AI 워크플로우 구축 - velog\", \"content\": \"0koang.log # 🦜🕸️ 랭그래프 (LangGraph): 효율적인 AI 워크플로우 구축 ## AI # 🦜🕸️ LangGraph LangGraph는 LangChain 생태계의 일부로, 복잡한 AI 워크플로우를 구축하기 위한 강력한 프레임워크유연하고 확장 가능한 AI 애플리케이션을 비교적 쉽게 만들 수 있음 * **상태 기반 그래프**: 복잡한 로직을 명확하게 표현 * **모듈성**: 재사용 가능한 컴포넌트로 워크플로우 구성 * **확장성**: 새로운 노드나 조건을 쉽게 추가 가능 # ✅ 워크플로우 구축 과정 import class AgentState():: str:[]: str: str: str * 각 필드는 워크플로우의 특정 부분에서 필요한 정보를 나타냄 * 이 글에는 노드 구현부 없음 * 조건부 엣지를 사용하여 동적인 흐름 제어가 가능 .(\\\\\"extract_actions\\\\\") 0koang\", \"score\": 0.6780931, \"raw_content\": null}], \"response_time\": 1.22, \"request_id\": \"35bcaf4f-4515-46b5-ac94-b3bc5d92224b\"}', name='tavily_search', id='f6792ec5-1ed0-4634-b8bc-2f0ec01b576b', tool_call_id='call_CLy03HjiDdZh8Imec5JEB8rc'),\n",
       "  AIMessage(content='랭그래프(LangGraph)는 LangChain 생태계의 일부로, LLM(대형 언어 모델) 애플리케이션의 흐름을 그래프로 정의하고 실행하는 라이브러리입니다. 주로 복잡한 AI 워크플로우를 구축하기 위한 프레임워크로, 다음과 같은 특징이 있습니다.\\n\\n- 상태 기반 그래프로 복잡한 로직을 명확하게 표현\\n- 모듈성으로 재사용 가능한 컴포넌트로 워크플로우 구성 가능\\n- 확장성이 뛰어나 새로운 노드나 조건을 쉽게 추가할 수 있음\\n- LangChain을 기반으로 한 에이전트 프레임워크로 복잡한 제어구조를 다룰 수 있음\\n\\n더 자세한 내용은 다음 링크에서 확인할 수 있습니다.\\n- https://blog.naver.com/pjt3591oo/223861729229?viewType=pc\\n- https://brunch.co.kr/@zer0cero/132\\n- https://velog.io/@kwon0koang/%EB%9E%AD%EA%B7%B8%EB%9E%98%ED%94%84-LangGraph-%ED%9A%A8%EC%9C%A8%EC%A0%81%EC%9D%B8-AI-%EC%9B%8C%ED%81%AC%ED%94%8C%EB%A1%9C%EC%9A%B0-%EA%B5%AC%EC%B6%95', additional_kwargs={'refusal': None}, response_metadata={'token_usage': {'completion_tokens': 331, 'prompt_tokens': 2017, 'total_tokens': 2348, 'completion_tokens_details': {'accepted_prediction_tokens': 0, 'audio_tokens': 0, 'reasoning_tokens': 0, 'rejected_prediction_tokens': 0}, 'prompt_tokens_details': {'audio_tokens': 0, 'cached_tokens': 1280}}, 'model_name': 'gpt-4.1-mini-2025-04-14', 'system_fingerprint': 'fp_95d112f245', 'id': 'chatcmpl-CP6IE7ewPyMU8g9fNG3tCF5XzYPaB', 'service_tier': 'default', 'finish_reason': 'stop', 'logprobs': None}, id='run--c6ec6d0b-6e2e-4b36-990e-bc5cb459754e-0', usage_metadata={'input_tokens': 2017, 'output_tokens': 331, 'total_tokens': 2348, 'input_token_details': {'audio': 0, 'cache_read': 1280}, 'output_token_details': {'audio': 0, 'reasoning': 0}})]}"
      ]
     },
     "execution_count": 12,
     "metadata": {},
     "output_type": "execute_result"
    }
   ],
   "source": [
    "agent_executor.invoke({\"messages\": [(\"user\", \"랭그래프에 대해서 웹검색 해주세요.\")]})"
   ]
  },
  {
   "cell_type": "markdown",
   "id": "18e671d8",
   "metadata": {},
   "source": [
    "## 상태 정의"
   ]
  },
  {
   "cell_type": "code",
   "execution_count": 13,
   "id": "a747f27c",
   "metadata": {},
   "outputs": [],
   "source": [
    "from typing import TypedDict, Annotated\n",
    "import operator\n",
    "\n",
    "\n",
    "class State(TypedDict):\n",
    "    input: Annotated[str, \"사용자 요청\"]\n",
    "    plan: Annotated[list[str], \"현재 계획\"]\n",
    "    past_steps: Annotated[list[tuple], operator.add]\n",
    "    response: Annotated[str, \"최종 응답\"]"
   ]
  },
  {
   "cell_type": "markdown",
   "id": "51cb03ab",
   "metadata": {},
   "source": [
    "## 계획 노드\n",
    "\n",
    "계획을 작성하는 노드를 작성합니다."
   ]
  },
  {
   "cell_type": "code",
   "execution_count": 16,
   "id": "b5526340",
   "metadata": {},
   "outputs": [],
   "source": [
    "from pydantic import BaseModel, Field\n",
    "from langchain_openai import ChatOpenAI\n",
    "\n",
    "\n",
    "class Plan(BaseModel):\n",
    "    \"\"\"계획 실행을 위한 단계별 분류\"\"\"\n",
    "\n",
    "    steps: Annotated[\n",
    "        list[str], Field(..., description=\"각 단계들은 정렬된 순서로 배치되어야 합니다\")\n",
    "    ]\n",
    "\n",
    "\n",
    "def plan_node(state: State):\n",
    "    system_prompt = (\n",
    "        \"목표를 달성하기 위해 간단한 단계별 계획을 세우세요.\"\n",
    "        \"각 단계 작업을 정확히 수행하면 정답이 도출되고 마지막 단계 결과가 최종 답안이 됩니다.\"\n",
    "        \"누락이나 중복 없이 필요한 정보만 포함하세요.\"\n",
    "    )\n",
    "\n",
    "    llm = ChatOpenAI(\n",
    "        model=\"gpt-4.1-mini\",\n",
    "        temperature=0,\n",
    "    ).with_structured_output(Plan)\n",
    "\n",
    "    response = llm.invoke(\n",
    "        [\n",
    "            (\"system\", system_prompt),\n",
    "            (\"user\", state[\"input\"]),\n",
    "        ]\n",
    "    )\n",
    "    return {\"plan\": response.steps}"
   ]
  },
  {
   "cell_type": "code",
   "execution_count": 17,
   "id": "73559878",
   "metadata": {},
   "outputs": [
    {
     "data": {
      "text/plain": [
       "{'plan': ['LangGraph의 핵심 장점을 조사한다.',\n",
       "  'LangGraph의 핵심 단점을 조사한다.',\n",
       "  'LangGraph를 사용하는 이유를 정리한다.',\n",
       "  '장단점과 사용하는 이유를 간결하게 요약한다.']}"
      ]
     },
     "execution_count": 17,
     "metadata": {},
     "output_type": "execute_result"
    }
   ],
   "source": [
    "plan_node(\n",
    "    {\"input\": \"LangGraph 의 핵심 장단점과 LangGraph 를 사용하는 이유는 무엇인가?\"}\n",
    ")"
   ]
  },
  {
   "cell_type": "markdown",
   "id": "d7ce5143",
   "metadata": {},
   "source": [
    "## 재계획 노드\n",
    "\n",
    "이전 결과를 바탕으로 계획을 다시 수립하는 노드를 작성합니다."
   ]
  },
  {
   "cell_type": "code",
   "execution_count": null,
   "id": "08ed0591",
   "metadata": {},
   "outputs": [],
   "source": [
    "from typing import Union\n",
    "\n",
    "\n",
    "class Response(BaseModel):\n",
    "    \"\"\"사용자에 대한 응답\"\"\"\n",
    "\n",
    "    response: str\n",
    "\n",
    "\n",
    "class Act(BaseModel):\n",
    "    \"\"\"수행할 작업\"\"\"\n",
    "\n",
    "    action: Annotated[\n",
    "        Union[Response, Plan],\n",
    "        Field(\n",
    "            ...,\n",
    "            description=\"수행할 작업입니다.\"\n",
    "            \"사용자에게 응답하려면, Response를 사용합니다.\"\n",
    "            \"답을 얻기 위해 추가 도구가 필요하다면, Plan을 사용합니다.\",\n",
    "        ),\n",
    "    ]\n",
    "\n",
    "\n",
    "def replan(state: State):\n",
    "    system_prompt_template = \"\"\"목표 달성을 위한 단순 단계별 계획을 수립하세요.\n",
    "계획은 각 과업으로 구분되며, 과업 이행 시 정답 도출이 가능해야 합니다. 불필요 과업은 배제합니다.\n",
    "최종 과업의 산출물이 곧 최종 답안입니다. 단계 누락을 금하고, 모든 필수 정보를 포함하세요.\n",
    "\n",
    "## 현재 정보\n",
    "\n",
    "### 목표: \n",
    "{input}\n",
    "\n",
    "### 기존 계획: \n",
    "{plan}\n",
    "\n",
    "#### 이행 경과:\n",
    "{past_steps}\n",
    "\n",
    "계획을 갱신하되, 미완료 과업만 보강하세요. \n",
    "잔여 과업이 없으면 즉시 결과를 제시하세요.\"\"\"\n",
    "\n",
    "    llm = ChatOpenAI(\n",
    "        model=\"gpt-4.1-mini\",\n",
    "        temperature=0,\n",
    "    ).with_structured_output(Act)\n",
    "\n",
    "    response = llm.invoke(\n",
    "        [\n",
    "            (\n",
    "                \"system\",\n",
    "                system_prompt_template.format(\n",
    "                    input=state[\"input\"],\n",
    "                    plan=state[\"plan\"],\n",
    "                    past_steps=state[\"past_steps\"],\n",
    "                ),\n",
    "            )\n",
    "        ]\n",
    "    )\n",
    "\n",
    "    if isinstance(response.action, Response):\n",
    "        return {\"response\": response.action.response}\n",
    "    else:\n",
    "        next_plan = response.action.steps\n",
    "        if len(next_plan) > 0:\n",
    "            return {\"plan\": next_plan}\n",
    "        else:\n",
    "            return {\"response\": \"더 이상 단계가 필요하지 않습니다.\"}"
   ]
  },
  {
   "cell_type": "markdown",
   "id": "771605ca",
   "metadata": {},
   "source": [
    "## 실행 노드\n",
    "\n",
    "주어진 작업을 수행하고 결과를 반환합니다."
   ]
  },
  {
   "cell_type": "code",
   "execution_count": null,
   "id": "1f0f76ab",
   "metadata": {},
   "outputs": [],
   "source": [
    "def execute_note(state: State):\n",
    "    prompt_template = (\n",
    "        \"\"\"다음 계획:{plan_str}\\n\\n당신은 [1단계. {task}]를 수행해야 합니다.\"\"\"\n",
    "    )\n",
    "\n",
    "    plan = state[\"plan\"]\n",
    "    task = plan[0]\n",
    "\n",
    "    response = agent_executor.invoke(\n",
    "        {\n",
    "            \"messages\": [\n",
    "                (\n",
    "                    \"user\",\n",
    "                    prompt_template.format(\n",
    "                        plan=\"\\n\".join(\n",
    "                            f\"{i + 1}. {step}\" for i, step in enumerate(plan)\n",
    "                        ),\n",
    "                        task=task,\n",
    "                    ),\n",
    "                )\n",
    "            ],\n",
    "        }\n",
    "    )\n",
    "\n",
    "    return {\n",
    "        \"past_steps\": [\n",
    "            (\n",
    "                task,\n",
    "                response[\"messages\"][-1].content,\n",
    "            )\n",
    "        ]\n",
    "    }"
   ]
  },
  {
   "cell_type": "markdown",
   "id": "8d1205d4",
   "metadata": {},
   "source": [
    "## 리포트 생성\n",
    "\n",
    "작업 내용을 바탕으로 리포트를 작성합니다."
   ]
  },
  {
   "cell_type": "code",
   "execution_count": null,
   "id": "9395f295",
   "metadata": {},
   "outputs": [],
   "source": [
    "def generate_report_note(state: State):\n",
    "    system_prompt_template = \"\"\"당신에게는 목표와 이전에 수행된 단계들이 주어졌습니다. \n",
    "당신의 임무는 최종 보고서를 마크다운 형식으로 생성하는 것입니다.\n",
    "최종 보고서는 전문적인 어조로 작성해야 합니다.\n",
    "\n",
    "## 목표:\n",
    "\n",
    "{input}\n",
    "\n",
    "## 이전에 수행된 단계(질문과 답변 쌍):\n",
    "\n",
    "{past_steps}\n",
    "\n",
    "## 형식:\n",
    "\n",
    "마크다운 형식으로 최종 보고서를 생성하세요.\"\"\"\n",
    "\n",
    "    past_steps = \"\\n\\n\".join(\n",
    "        [\n",
    "            f\"Question: {past_step[0]}\\n\\nAnswer: {past_step[1]}\\n\\n####\"\n",
    "            for past_step in state[\"past_steps\"]\n",
    "        ]\n",
    "    )\n",
    "\n",
    "    llm = ChatOpenAI(model=\"gpt-4.1-mini\", temperature=0.7)\n",
    "\n",
    "    response = llm.invoke(\n",
    "        [\n",
    "            (\n",
    "                \"system\",\n",
    "                system_prompt_template.format(\n",
    "                    input=state[\"input\"],\n",
    "                    past_steps=past_steps,\n",
    "                ),\n",
    "            )\n",
    "        ]\n",
    "    )\n"
   ]
  }
 ],
 "metadata": {
  "kernelspec": {
   "display_name": "langchain-academy (3.12.11)",
   "language": "python",
   "name": "python3"
  },
  "language_info": {
   "codemirror_mode": {
    "name": "ipython",
    "version": 3
   },
   "file_extension": ".py",
   "mimetype": "text/x-python",
   "name": "python",
   "nbconvert_exporter": "python",
   "pygments_lexer": "ipython3",
   "version": "3.12.11"
  }
 },
 "nbformat": 4,
 "nbformat_minor": 5
}
