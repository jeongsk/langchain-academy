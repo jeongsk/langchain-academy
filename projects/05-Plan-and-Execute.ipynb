{
 "cells": [
  {
   "cell_type": "markdown",
   "id": "d3f47793",
   "metadata": {},
   "source": [
    "# Plan and Execute\n",
    "\n",
    "> - 참고 자료: https://wikidocs.net/270688\n",
    "> - 관련 논문: https://arxiv.org/abs/2305.04091\n",
    "\n",
    "Plan-and-Execute 에이전트는 먼저 달성할 목표를 구체적인 단계로 나누어 계획을 수립한 뒤, 그 계획을 순차적으로 실행하며 실행 과정에서 얻은 피드백을 반영해 동적으로 조정하는 구조를 갖추고 있습니다.\n",
    "\n",
    "[ReAct](https://arxiv.org/abs/2210.03629) 에이전트는 사고와 행동을 매 단계 즉시 교차 실행하며 즉각적 피드백에 대응하는 반면, Plan-and-Execute 에이전트는 전체 목표를 세부 단계별로 계획 수립 후 순차 실행하며 피드백으로 계획을 동적으로 조정합니다."
   ]
  },
  {
   "cell_type": "markdown",
   "id": "9731aa2e",
   "metadata": {},
   "source": []
  }
 ],
 "metadata": {
  "language_info": {
   "name": "python"
  }
 },
 "nbformat": 4,
 "nbformat_minor": 5
}
