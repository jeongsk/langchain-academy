{
 "cells": [
  {
   "cell_type": "markdown",
   "id": "d3f47793",
   "metadata": {},
   "source": [
    "# Plan and Execute\n",
    "\n",
    "> - 참고 자료: https://wikidocs.net/270688\n",
    "> - 관련 논문: https://arxiv.org/abs/2305.04091\n",
    "\n",
    "Plan-and-Execute 에이전트는 먼저 달성할 목표를 구체적인 단계로 나누어 계획을 수립한 뒤, 그 계획을 순차적으로 실행하며 실행 과정에서 얻은 피드백을 반영해 동적으로 조정하는 구조를 갖추고 있습니다.\n",
    "\n",
    "[ReAct](https://arxiv.org/abs/2210.03629) 에이전트는 사고와 행동을 매 단계 즉시 교차 실행하며 즉각적 피드백에 대응하는 반면, Plan-and-Execute 에이전트는 전체 목표를 세부 단계별로 계획 수립 후 순차 실행하며 피드백으로 계획을 동적으로 조정합니다."
   ]
  },
  {
   "cell_type": "code",
   "execution_count": 1,
   "id": "075216b0",
   "metadata": {},
   "outputs": [],
   "source": [
    "import os\n",
    "import getpass\n",
    "from dotenv import load_dotenv\n",
    "\n",
    "load_dotenv(\"../.env\", override=True)\n",
    "\n",
    "\n",
    "def _set_env(var: str):\n",
    "    env_value = os.environ.get(var)\n",
    "    if not env_value:\n",
    "        env_value = getpass.getpass(f\"{var}: \")\n",
    "\n",
    "    os.environ[var] = env_value\n",
    "\n",
    "\n",
    "_set_env(\"LANGSMITH_API_KEY\")\n",
    "os.environ[\"LANGSMITH_TRACING\"] = \"true\"\n",
    "os.environ[\"LANGSMITH_PROJECT\"] = \"langchain-academy\"\n",
    "_set_env(\"OPENAI_API_KEY\")"
   ]
  },
  {
   "cell_type": "markdown",
   "id": "b825dcdb",
   "metadata": {},
   "source": [
    "## 에이전트 정의"
   ]
  },
  {
   "cell_type": "code",
   "execution_count": null,
   "id": "5b03652f",
   "metadata": {},
   "outputs": [],
   "source": [
    "from langgraph.prebuilt import create_react_agent\n",
    "from langchain_tavily import TavilySearch\n",
    "\n",
    "web_search_tool = TavilySearch(max_results=3)\n",
    "\n",
    "agent_executor = create_react_agent(\n",
    "    model=\"openai:gpt-4.1-mini\",\n",
    "    tools=[web_search_tool],\n",
    "    prompt=\"당신은 언제나 친절하고 능숙하게 지원을 제공하며, 사용자의 목표 달성을 돕는 탁월한 조수입니다.\",\n",
    ")"
   ]
  },
  {
   "cell_type": "code",
   "execution_count": 10,
   "id": "14b01ecb",
   "metadata": {},
   "outputs": [
    {
     "data": {
      "text/plain": [
       "{'messages': [HumanMessage(content='랭그래프에 대해서 웹검색 해주세요.', additional_kwargs={}, response_metadata={}, id='ba465a37-e8a8-4512-be27-fbd41be9c56a'),\n",
       "  AIMessage(content='', additional_kwargs={'tool_calls': [{'id': 'call_J4RDI7L0H7ZsQBkqXoemPC5W', 'function': {'arguments': '{\"query\":\"랭그래프\"}', 'name': 'tavily_search'}, 'type': 'function'}], 'refusal': None}, response_metadata={'token_usage': {'completion_tokens': 19, 'prompt_tokens': 1293, 'total_tokens': 1312, 'completion_tokens_details': {'accepted_prediction_tokens': 0, 'audio_tokens': 0, 'reasoning_tokens': 0, 'rejected_prediction_tokens': 0}, 'prompt_tokens_details': {'audio_tokens': 0, 'cached_tokens': 0}}, 'model_name': 'gpt-4.1-mini-2025-04-14', 'system_fingerprint': 'fp_c064fdde7c', 'id': 'chatcmpl-CP6HCAohYCuKHrgcgYXrbewQvf5Xd', 'service_tier': 'default', 'finish_reason': 'tool_calls', 'logprobs': None}, id='run--e7edbeb2-b010-4c42-82a4-7e0448f13417-0', tool_calls=[{'name': 'tavily_search', 'args': {'query': '랭그래프'}, 'id': 'call_J4RDI7L0H7ZsQBkqXoemPC5W', 'type': 'tool_call'}], usage_metadata={'input_tokens': 1293, 'output_tokens': 19, 'total_tokens': 1312, 'input_token_details': {'audio': 0, 'cache_read': 0}, 'output_token_details': {'audio': 0, 'reasoning': 0}}),\n",
       "  ToolMessage(content='{\"query\": \"랭그래프\", \"follow_up_questions\": null, \"answer\": null, \"images\": [], \"results\": [{\"url\": \"https://blog.naver.com/pjt3591oo/223861729229?viewType=pc\", \"title\": \"langgraph 소개 및 기본개념 : 네이버 블로그\", \"content\": \"LangGraph는 LangChain 상태계의 일부로 LLM 애플리케이션의 흐름을 그래프로 정의하고 실행하는 라이브러리입니다. 여기서 그래프는 CS(Computer\", \"score\": 0.750937, \"raw_content\": null}, {\"url\": \"https://brunch.co.kr/@zer0cero/132\", \"title\": \"23화 22. LangGraph 기본과 응용 - 브런치\", \"content\": \"LangGraph(랭그래프)는 LangChain(랭체인)을 기반으로 하는 에이전트 프레임워크입니다. LangGraph(랭그래프)의 주요 특징은 복잡한 제어구조를 가진\", \"score\": 0.7463059, \"raw_content\": null}, {\"url\": \"https://velog.io/@kwon0koang/%EB%9E%AD%EA%B7%B8%EB%9E%98%ED%94%84-LangGraph-%ED%9A%A8%EC%9C%A8%EC%A0%81%EC%9D%B8-AI-%EC%9B%8C%ED%81%AC%ED%94%8C%EB%A1%9C%EC%9A%B0-%EA%B5%AC%EC%B6%95\", \"title\": \"랭그래프 (LangGraph): 효율적인 AI 워크플로우 구축 - velog\", \"content\": \"0koang.log # 🦜🕸️ 랭그래프 (LangGraph): 효율적인 AI 워크플로우 구축 ## AI # 🦜🕸️ LangGraph LangGraph는 LangChain 생태계의 일부로, 복잡한 AI 워크플로우를 구축하기 위한 강력한 프레임워크유연하고 확장 가능한 AI 애플리케이션을 비교적 쉽게 만들 수 있음 * **상태 기반 그래프**: 복잡한 로직을 명확하게 표현 * **모듈성**: 재사용 가능한 컴포넌트로 워크플로우 구성 * **확장성**: 새로운 노드나 조건을 쉽게 추가 가능 # ✅ 워크플로우 구축 과정 import class AgentState():: str:[]: str: str: str * 각 필드는 워크플로우의 특정 부분에서 필요한 정보를 나타냄 * 이 글에는 노드 구현부 없음 * 조건부 엣지를 사용하여 동적인 흐름 제어가 가능 .(\\\\\"extract_actions\\\\\") 0koang\", \"score\": 0.6780931, \"raw_content\": null}], \"response_time\": 1.69, \"request_id\": \"b18657bd-46df-474e-952c-195f50a64178\"}', name='tavily_search', id='c0410c12-8aff-44e6-bb14-789da203ab59', tool_call_id='call_J4RDI7L0H7ZsQBkqXoemPC5W'),\n",
       "  AIMessage(content='랭그래프(LangGraph)는 LangChain 생태계의 일부로, 복잡한 AI 워크플로우를 구축하기 위한 강력한 프레임워크입니다. 주요 특징으로는 상태 기반 그래프를 통해 복잡한 로직을 명확하게 표현하고, 모듈성을 갖춰 재사용 가능한 컴포넌트로 워크플로우를 구성하며, 확장성이 높아 새로운 노드나 조건을 쉽게 추가할 수 있다는 점이 있습니다. 랭그래프는 LLM 애플리케이션의 흐름을 그래프로 정의하고 실행하는 라이브러리로, 복잡한 제어구조를 가진 워크플로우를 효율적으로 처리할 수 있습니다.\\n\\n더 자세한 내용은 다음 링크들을 참고하세요:\\n- https://blog.naver.com/pjt3591oo/223861729229?viewType=pc\\n- https://brunch.co.kr/@zer0cero/132\\n- https://velog.io/@kwon0koang/%EB%9E%AD%EA%B7%B8%EB%9E%98%ED%94%84-LangGraph-%ED%9A%A8%EC%9C%A8%EC%A0%81%EC%9D%B8-AI-%EC%9B%8C%ED%81%AC%ED%94%8C%EB%A1%9C%EC%9A%B0-%EA%B5%AC%EC%B6%95', additional_kwargs={'refusal': None}, response_metadata={'token_usage': {'completion_tokens': 323, 'prompt_tokens': 1992, 'total_tokens': 2315, 'completion_tokens_details': {'accepted_prediction_tokens': 0, 'audio_tokens': 0, 'reasoning_tokens': 0, 'rejected_prediction_tokens': 0}, 'prompt_tokens_details': {'audio_tokens': 0, 'cached_tokens': 0}}, 'model_name': 'gpt-4.1-mini-2025-04-14', 'system_fingerprint': 'fp_c064fdde7c', 'id': 'chatcmpl-CP6HGJB5U381zBrCAbYDUjqTqMUgQ', 'service_tier': 'default', 'finish_reason': 'stop', 'logprobs': None}, id='run--53d518bf-c2c6-4441-a4ba-1d373dae8e67-0', usage_metadata={'input_tokens': 1992, 'output_tokens': 323, 'total_tokens': 2315, 'input_token_details': {'audio': 0, 'cache_read': 0}, 'output_token_details': {'audio': 0, 'reasoning': 0}})]}"
      ]
     },
     "execution_count": 10,
     "metadata": {},
     "output_type": "execute_result"
    }
   ],
   "source": [
    "agent_executor.invoke({\"messages\": [(\"user\", \"랭그래프에 대해서 웹검색 해주세요.\")]})"
   ]
  },
  {
   "cell_type": "code",
   "execution_count": null,
   "id": "b5526340",
   "metadata": {},
   "outputs": [],
   "source": []
  }
 ],
 "metadata": {
  "kernelspec": {
   "display_name": "langchain-academy (3.12.11)",
   "language": "python",
   "name": "python3"
  },
  "language_info": {
   "codemirror_mode": {
    "name": "ipython",
    "version": 3
   },
   "file_extension": ".py",
   "mimetype": "text/x-python",
   "name": "python",
   "nbconvert_exporter": "python",
   "pygments_lexer": "ipython3",
   "version": "3.12.11"
  }
 },
 "nbformat": 4,
 "nbformat_minor": 5
}
