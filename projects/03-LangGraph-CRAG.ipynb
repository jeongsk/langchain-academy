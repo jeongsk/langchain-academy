{
 "cells": [
  {
   "cell_type": "markdown",
   "id": "91ab3d0b",
   "metadata": {},
   "source": [
    "## CRAG(Corrective Retrieval Augmented Generation)\n",
    "\n",
    "> - 참고 자료: https://wikidocs.net/270686\n",
    "> - 관련 논문: https://arxiv.org/pdf/2401.15884\n",
    "\n",
    "CRAG는 RAG의 개선된 버전입니다. **RAG의 한계를 보완**하기 위해 개발된 기술로, 검색된 문서의 품질을 평가하고 필요시 수정하는 메커니즘을 추가했습니다.\n",
    "\n",
    "### 주요 특징\n",
    "\n",
    "**1. 검색 평가자(Retrieval Evaluator)**\n",
    "- 검색된 문서의 관련성과 품질을 평가\n",
    "- 문서가 충분히 정확하고 관련성이 있는지 판단\n",
    "\n",
    "**2. 수정 메커니즘**\n",
    "- 검색 결과가 부정확하거나 불충분할 경우 대응\n",
    "- 추가 검색, 웹 검색, 또는 지식 정제 수행\n",
    "\n",
    "**3. 동적 처리 방식**\n",
    "검색 품질에 따라 세 가지 경로로 분기:\n",
    "- **Correct**: 검색 결과가 좋을 경우 → 그대로 사용\n",
    "- **Incorrect**: 검색 결과가 나쁠 경우 → 웹 검색 등 추가 소스 활용\n",
    "- **Ambiguous**: 애매한 경우 → 지식 정제 후 사용\n",
    "\n",
    "### RAG와의 차이점\n",
    "\n",
    "- **RAG**: 검색된 문서를 무조건 신뢰하고 사용\n",
    "- **CRAG**: 검색 품질을 평가하고, 필요시 보완하거나 다른 소스 활용\n",
    "\n",
    "이를 통해 더 정확하고 신뢰할 수 있는 답변 생성이 가능합니다."
   ]
  },
  {
   "cell_type": "markdown",
   "id": "b55637cb",
   "metadata": {},
   "source": [
    "## 환경 변수"
   ]
  },
  {
   "cell_type": "code",
   "execution_count": null,
   "id": "06e82e5c",
   "metadata": {},
   "outputs": [],
   "source": [
    "import os\n",
    "import getpass\n",
    "from dotenv import load_dotenv\n",
    "\n",
    "load_dotenv(\"../.env\", override=True)\n",
    "\n",
    "\n",
    "def _set_env(var: str):\n",
    "    env_value = os.environ.get(var)\n",
    "    if not env_value:\n",
    "        env_value = getpass.getpass(f\"{var}: \")\n",
    "\n",
    "    os.environ[var] = env_value\n",
    "\n",
    "\n",
    "_set_env(\"LANGSMITH_API_KEY\")\n",
    "os.environ[\"LANGSMITH_TRACING\"] = \"true\"\n",
    "os.environ[\"LANGSMITH_PROJECT\"] = \"langchain-academy\"\n",
    "_set_env(\"OPENAI_API_KEY\")"
   ]
  },
  {
   "cell_type": "markdown",
   "id": "f6435439",
   "metadata": {},
   "source": [
    "## 문서 다운로드"
   ]
  },
  {
   "cell_type": "code",
   "execution_count": 8,
   "id": "c871d88b",
   "metadata": {},
   "outputs": [],
   "source": [
    "import os\n",
    "import urllib.request\n",
    "\n",
    "\n",
    "def download_file(url, dir=\"./temp\"):\n",
    "    if not os.path.exists(dir):\n",
    "        os.makedirs(dir)\n",
    "\n",
    "    file_path = os.path.join(dir, \"doc.pdf\")\n",
    "    urllib.request.urlretrieve(url, file_path)\n",
    "\n",
    "    file_size = os.path.getsize(file_path)\n",
    "    print(f\"다운로드 완료! 파일 크기: {file_size:,}\", \"bytes\")\n",
    "\n",
    "    return file_path"
   ]
  },
  {
   "cell_type": "code",
   "execution_count": 9,
   "id": "a80649b7",
   "metadata": {},
   "outputs": [
    {
     "name": "stdout",
     "output_type": "stream",
     "text": [
      "다운로드 완료! 파일 크기: 1,207,479 bytes\n"
     ]
    },
    {
     "data": {
      "text/plain": [
       "'./temp/doc.pdf'"
      ]
     },
     "execution_count": 9,
     "metadata": {},
     "output_type": "execute_result"
    }
   ],
   "source": [
    "# \"소프트웨어정책연구소(SPRi) - 2025년 10월호\" PDF를 다운로드합니다.\n",
    "downloaded_path = download_file(\"https://spri.kr/download/23735\")\n",
    "downloaded_path"
   ]
  },
  {
   "cell_type": "markdown",
   "id": "b5afaafa",
   "metadata": {},
   "source": [
    "## 문서 로더"
   ]
  },
  {
   "cell_type": "code",
   "execution_count": 10,
   "id": "402fccb7",
   "metadata": {},
   "outputs": [
    {
     "name": "stdout",
     "output_type": "stream",
     "text": [
      "총 29 페이지 로드됨\n"
     ]
    }
   ],
   "source": [
    "from langchain_community.document_loaders import PyPDFLoader\n",
    "\n",
    "documents = PyPDFLoader(downloaded_path).load()\n",
    "print(f\"총 {len(documents)} 페이지 로드됨\")"
   ]
  },
  {
   "cell_type": "markdown",
   "id": "24b1853d",
   "metadata": {},
   "source": [
    "## 문서 분할"
   ]
  },
  {
   "cell_type": "code",
   "execution_count": 11,
   "id": "da93a99c",
   "metadata": {},
   "outputs": [
    {
     "name": "stdout",
     "output_type": "stream",
     "text": [
      "총 70개의 청크로 분할됨\n"
     ]
    }
   ],
   "source": [
    "from langchain.text_splitter import RecursiveCharacterTextSplitter\n",
    "\n",
    "text_splitter = RecursiveCharacterTextSplitter(\n",
    "    chunk_size=1000,\n",
    "    chunk_overlap=200,\n",
    ")\n",
    "splits = text_splitter.split_documents(documents)\n",
    "print(f\"총 {len(splits)}개의 청크로 분할됨\")"
   ]
  },
  {
   "cell_type": "markdown",
   "id": "f06031a5",
   "metadata": {},
   "source": [
    "## 문서 임베딩"
   ]
  },
  {
   "cell_type": "code",
   "execution_count": 12,
   "id": "454966dc",
   "metadata": {},
   "outputs": [
    {
     "name": "stderr",
     "output_type": "stream",
     "text": [
      "/Users/anpigon/Workspace/Wantedlab/langchain-academy/venv/lib/python3.12/site-packages/langchain/embeddings/cache.py:58: UserWarning: Using default key encoder: SHA-1 is *not* collision-resistant. While acceptable for most cache scenarios, a motivated attacker can craft two different payloads that map to the same cache key. If that risk matters in your environment, supply a stronger encoder (e.g. SHA-256 or BLAKE2) via the `key_encoder` argument. If you change the key encoder, consider also creating a new cache, to avoid (the potential for) collisions with existing keys.\n",
      "  _warn_about_sha1_encoder()\n"
     ]
    }
   ],
   "source": [
    "from langchain.storage import LocalFileStore\n",
    "from langchain_openai import OpenAIEmbeddings\n",
    "from langchain.embeddings import CacheBackedEmbeddings\n",
    "from langchain_community.vectorstores import FAISS\n",
    "\n",
    "\n",
    "# 임베딩 모델 생성\n",
    "underlying_embeddings = OpenAIEmbeddings(model=\"text-embedding-3-small\")\n",
    "\n",
    "\n",
    "embeddings = CacheBackedEmbeddings.from_bytes_store(\n",
    "    underlying_embeddings,\n",
    "    document_embedding_cache=LocalFileStore(\"./cache\"),\n",
    "    namespace=underlying_embeddings.model,\n",
    "    query_embedding_cache=True,\n",
    ")\n",
    "\n",
    "embeddings = OpenAIEmbeddings(model=\"text-embedding-3-small\")\n",
    "\n",
    "vectorstore = FAISS.from_documents(splits, embeddings)\n"
   ]
  },
  {
   "cell_type": "markdown",
   "id": "2f567dac",
   "metadata": {},
   "source": [
    "## 리트리버 생성"
   ]
  },
  {
   "cell_type": "code",
   "execution_count": 13,
   "id": "9aa6eb04",
   "metadata": {},
   "outputs": [],
   "source": [
    "retriever = vectorstore.as_retriever(\n",
    "    search_type=\"mmr\",\n",
    "    search_kwargs={\"k\": 5, \"fetch_k\": 50},\n",
    ")"
   ]
  },
  {
   "cell_type": "code",
   "execution_count": 14,
   "id": "f589de18",
   "metadata": {},
   "outputs": [
    {
     "data": {
      "text/plain": [
       "[Document(id='625c5d38-8e8f-49b7-9ab2-53cf8cf54534', metadata={'producer': 'Hancom PDF 1.3.0.505', 'creator': 'Hancom PDF 1.3.0.505', 'creationdate': '2025-10-02T12:57:42+09:00', 'author': 'dj', 'moddate': '2025-10-02T12:57:42+09:00', 'pdfversion': '1.4', 'source': './temp/doc.pdf', 'total_pages': 29, 'page': 6, 'page_label': '7'}, page_content='정책･법제기업･산업기술･연구인력･교육\\n5\\n미국 캘리포니아주 의회, 미국 최초로 미성년자 보호를 위한 AI 챗봇 규제 통과n미국 캘리포니아주 의회가 미국 최초로 미성년자와 취약 사용자 보호를 위해 AI 동반자 챗봇을 규제하는 SB-243 법안을 통과시켰으며, 주지사 서명 시 2026년 1월 1일부터 발효 예정n동 법안은 동반자 챗봇 운영 플랫폼을 대상으로 사용자의 자살이나 자해를 방지하기 위한 프로토콜 수립 및 미성년자 보호 조치를 요구하고, 위법으로 인한 피해자에게 민사소송 권리를 부여\\nKEY Contents'),\n",
       " Document(id='5fc0f45e-99cd-4944-a171-e9a7add59965', metadata={'producer': 'Hancom PDF 1.3.0.505', 'creator': 'Hancom PDF 1.3.0.505', 'creationdate': '2025-10-02T12:57:42+09:00', 'author': 'dj', 'moddate': '2025-10-02T12:57:42+09:00', 'pdfversion': '1.4', 'source': './temp/doc.pdf', 'total_pages': 29, 'page': 9, 'page_label': '10'}, page_content='<‘제미나이 2.5 플래시 이미지’의 이미지 합성 예시>\\n출처 | Google, Nano Banana! Image editing in Gemini just got a major upgrade, 2025.08.26.         Google Deepmind, Create and edit images with Gemini'),\n",
       " Document(id='7d087b8f-86fa-4469-ade3-e87911802ea2', metadata={'producer': 'Hancom PDF 1.3.0.505', 'creator': 'Hancom PDF 1.3.0.505', 'creationdate': '2025-10-02T12:57:42+09:00', 'author': 'dj', 'moddate': '2025-10-02T12:57:42+09:00', 'pdfversion': '1.4', 'source': './temp/doc.pdf', 'total_pages': 29, 'page': 2, 'page_label': '3'}, page_content='| 2025년 10월호 |\\n정책･법제'),\n",
       " Document(id='7d834587-4adf-4312-a4a3-c4cd71b8a678', metadata={'producer': 'Hancom PDF 1.3.0.505', 'creator': 'Hancom PDF 1.3.0.505', 'creationdate': '2025-10-02T12:57:42+09:00', 'author': 'dj', 'moddate': '2025-10-02T12:57:42+09:00', 'pdfversion': '1.4', 'source': './temp/doc.pdf', 'total_pages': 29, 'page': 12, 'page_label': '13'}, page_content='£앤스로픽, AI 훈련을 위해 불법 복제한 50만 권의 저작물에 권당 3,000달러 지급 계획n앤스로픽이 불법복제 도서를 이용해 AI 모델을 훈련한 혐의로 제기된 저작권 침해 소송에서 작가들에게 15억 달러를 지급하기로 합의∙작가 3인이 2024년 8월 제기한 저작권 침해 소송에서 원고 측은 앤스로픽이 수백만 권의 불법복제 작품을 사용해 AI 모델을 훈련함으로써 저작권법을 위반했으며 저작권 도용을 은폐하려 했다고 주장∙샌프란시스코 연방법원의 윌리엄 알섭(William Alsup) 판사는 2025년 6월 판결에서 앤스로픽이 작가 3인의 책을 AI 모델 학습에 사용한 행위는 공정이용(Fair Use)*으로 인정* 공정이용(Fair Use): 저작권으로 보호되는 저작물을 저작권자 허락 없이도 일정 범위 내에서 이용할 수 있도록 허용∙그러나 판사는 공정이용 주장이 앤스로픽이 전자책 불법복제 사이트에서 입수한 700만 권 이상의 책에는 적용되지 않는다며, 불법복제 목록에 포함된 작가들을 대신해 작가 3인이 집단소송을 제기할 수 있다고 판결 ∙재판부는 연구 목적이라는 명분이 있더라도 정당한 방식으로 자료를 확보했어야 한다고 강조하며, 공정이용 주장이 성립하려면 초기 복제 단계부터 합법성을 확보해야 한다는 원칙을 명확히 제시∙앤스로픽은 약 50만 건의 저작물 청구에 건당 3,000달러씩 총 15억 달러를 지급하기로 합의했으며, 50만 건을 초과하는 청구에도 건당 3,000달러를 지급하기로 해, 최종 지급액은 청구 건수에 따라 달라질 전망n원고 측 변호인에 따르면 이번 합의금은 미국 저작권 소송 역사상 최대 규모로, 앤스로픽은 합의에 따라 불법적으로 다운로드한 원본 파일과 사본도 폐기 예정∙원고 측은 이번 합의는 과거 행위에 근거한 법적 청구만을 면제하며, 앤스로픽에 향후 AI 훈련에 대한 허가를 부여하거나, 2025년 8월 25일 이후 발생하는 법적 청구도 면제하지 않는다고 부연∙미국출판인협회의 마리아 팔란테(Maria Pallante) 회장은 이번 합의가 불법 복제한'),\n",
       " Document(id='ec36711f-a72b-4eab-bcb1-210d50636f47', metadata={'producer': 'Hancom PDF 1.3.0.505', 'creator': 'Hancom PDF 1.3.0.505', 'creationdate': '2025-10-02T12:57:42+09:00', 'author': 'dj', 'moddate': '2025-10-02T12:57:42+09:00', 'pdfversion': '1.4', 'source': './temp/doc.pdf', 'total_pages': 29, 'page': 27, 'page_label': '28'}, page_content='6월4~5일AI & Big Data Expo North America 2025미국, 산타클라라www.ai-expo.net/northamerica9~13일 WWDC25미국, 쿠퍼티노developer.apple.com11~15일The IEEE / CVF Computer Vision and Pattern Recognition Conference 미국, 네슈빌cvpr.thecvf.com11~12일AI SUMMIT LONDON영국, 런던london.theaisummit.com11~13일(STK 2025) 스마트테크 코리아서울, 강남smarttechkorea.com18~19일AI World Congress 2025영국, 런던aiconference.london18~20일(MVEX 2025) 2025 메타버스 엑스포서울, 강남metavexpo.com7월8~11일AI for Good Global Summit 2025스위스, 제네바aiforgood.itu.int13~19일 ICML 2025캐나다, 밴쿠버icml.cc25~27일IEEE 7th International Conference on AI, CS and IP중국, 항저우www.aicsconf.cn27~1일the Association for Computational Linguistics오스트리아, 빈2025.aclweb.org8월11~13일(Ai4 2025) the Forefront of AI Innovation미국, 라스베이거스ai4.io/vegas16~22일(IJCAI 2025) International Joint Conference on Artificial Intelligence캐나다, 몬트리올2025.ijcai.org9월3~5일 2025 산업AI EXPO서울, 강서industrialaiexpo.or.kr9~11일AI Infra Summit 2025미국, 산타클라라www.ai-infra-summit.com17~18일The AI Conference미국, 샌프란시스코aiconference.com17~18일 Meta')]"
      ]
     },
     "execution_count": 14,
     "metadata": {},
     "output_type": "execute_result"
    }
   ],
   "source": [
    "retriever.invoke(\"미국 캘리포니아주 의회가 발의한 법안은?\")"
   ]
  },
  {
   "cell_type": "markdown",
   "id": "1a9e3ffd",
   "metadata": {},
   "source": [
    "## 관련성 평가 노드"
   ]
  },
  {
   "cell_type": "code",
   "execution_count": null,
   "id": "da55fdca",
   "metadata": {},
   "outputs": [],
   "source": [
    "from pydantic import BaseModel\n",
    "\n",
    "\n",
    "class GradeDocuments(BaseModel):\n",
    "    \"\"\"검색된 문서의 관련성을 판단하기 위한 binary score\"\"\""
   ]
  },
  {
   "cell_type": "code",
   "execution_count": null,
   "id": "d9692f63",
   "metadata": {},
   "outputs": [],
   "source": []
  },
  {
   "cell_type": "markdown",
   "id": "5fd10db2",
   "metadata": {},
   "source": []
  }
 ],
 "metadata": {
  "kernelspec": {
   "display_name": "langchain-academy (3.12.11)",
   "language": "python",
   "name": "python3"
  },
  "language_info": {
   "codemirror_mode": {
    "name": "ipython",
    "version": 3
   },
   "file_extension": ".py",
   "mimetype": "text/x-python",
   "name": "python",
   "nbconvert_exporter": "python",
   "pygments_lexer": "ipython3",
   "version": "3.12.11"
  }
 },
 "nbformat": 4,
 "nbformat_minor": 5
}
