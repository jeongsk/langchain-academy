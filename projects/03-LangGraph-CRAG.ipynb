{
 "cells": [],
 "metadata": {
  "kernelspec": {
   "display_name": "Foundation-Introduction-to-LangGraph (3.12.11)",
   "language": "python",
   "name": "python3"
  },
  "language_info": {
   "name": "python",
   "version": "3.12.11"
  }
 },
 "nbformat": 4,
 "nbformat_minor": 5
}
