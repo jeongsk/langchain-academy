{
 "cells": [
  {
   "cell_type": "markdown",
   "id": "91ab3d0b",
   "metadata": {},
   "source": [
    "## CRAG(Corrective Retrieval Augmented Generation)\n",
    "\n",
    "> - 참고 자료: https://wikidocs.net/270686\n",
    "> - 관련 논문: https://arxiv.org/pdf/2401.15884\n",
    "\n",
    "CRAG는 RAG의 개선된 버전입니다. **RAG의 한계를 보완**하기 위해 개발된 기술로, 검색된 문서의 품질을 평가하고 필요시 수정하는 메커니즘을 추가했습니다.\n",
    "\n",
    "### 주요 특징\n",
    "\n",
    "**1. 검색 평가자(Retrieval Evaluator)**\n",
    "- 검색된 문서의 관련성과 품질을 평가\n",
    "- 문서가 충분히 정확하고 관련성이 있는지 판단\n",
    "\n",
    "**2. 수정 메커니즘**\n",
    "- 검색 결과가 부정확하거나 불충분할 경우 대응\n",
    "- 추가 검색, 웹 검색, 또는 지식 정제 수행\n",
    "\n",
    "**3. 동적 처리 방식**\n",
    "검색 품질에 따라 세 가지 경로로 분기:\n",
    "- **Correct**: 검색 결과가 좋을 경우 → 그대로 사용\n",
    "- **Incorrect**: 검색 결과가 나쁠 경우 → 웹 검색 등 추가 소스 활용\n",
    "- **Ambiguous**: 애매한 경우 → 지식 정제 후 사용\n",
    "\n",
    "### RAG와의 차이점\n",
    "\n",
    "- **RAG**: 검색된 문서를 무조건 신뢰하고 사용\n",
    "- **CRAG**: 검색 품질을 평가하고, 필요시 보완하거나 다른 소스 활용\n",
    "\n",
    "이를 통해 더 정확하고 신뢰할 수 있는 답변 생성이 가능합니다."
   ]
  },
  {
   "cell_type": "code",
   "execution_count": null,
   "id": "06e82e5c",
   "metadata": {},
   "outputs": [],
   "source": [
    "import os\n",
    "import getpass\n",
    "from dotenv import load_dotenv\n",
    "\n",
    "load_dotenv(\"../.env\", override=True)\n",
    "\n",
    "\n",
    "def _set_env(var: str):\n",
    "    env_value = os.environ.get(var)\n",
    "    if not env_value:\n",
    "        env_value = getpass.getpass(f\"{var}: \")\n",
    "\n",
    "    os.environ[var] = env_value\n",
    "\n",
    "\n",
    "_set_env(\"LANGSMITH_API_KEY\")\n",
    "os.environ[\"LANGSMITH_TRACING\"] = \"true\"\n",
    "os.environ[\"LANGSMITH_PROJECT\"] = \"langchain-academy\"\n",
    "_set_env(\"OPENAI_API_KEY\")"
   ]
  },
  {
   "cell_type": "markdown",
   "id": "5fd10db2",
   "metadata": {},
   "source": []
  }
 ],
 "metadata": {
  "kernelspec": {
   "display_name": "langchain-academy (3.12.11)",
   "language": "python",
   "name": "python3"
  },
  "language_info": {
   "codemirror_mode": {
    "name": "ipython",
    "version": 3
   },
   "file_extension": ".py",
   "mimetype": "text/x-python",
   "name": "python",
   "nbconvert_exporter": "python",
   "pygments_lexer": "ipython3",
   "version": "3.12.11"
  }
 },
 "nbformat": 4,
 "nbformat_minor": 5
}
