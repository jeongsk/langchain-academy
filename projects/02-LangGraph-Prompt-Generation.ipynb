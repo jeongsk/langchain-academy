{
 "cells": [
  {
   "cell_type": "markdown",
   "id": "e4f14c8d",
   "metadata": {},
   "source": [
    "# 메타 프롬프트 생성 에이전트\n",
    "\n",
    "참고: https://wikidocs.net/267817"
   ]
  },
  {
   "cell_type": "markdown",
   "id": "643cc2c2",
   "metadata": {},
   "source": []
  }
 ],
 "metadata": {
  "language_info": {
   "name": "python"
  }
 },
 "nbformat": 4,
 "nbformat_minor": 5
}
