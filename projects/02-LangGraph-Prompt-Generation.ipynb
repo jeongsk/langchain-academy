{
 "cells": [
  {
   "cell_type": "markdown",
   "id": "e4f14c8d",
   "metadata": {},
   "source": [
    "# 메타 프롬프트 생성 에이전트\n",
    "\n",
    "> 참고: https://wikidocs.net/267817\n",
    "\n",
    "사용자로 부터 요구사항을 수집하고, 이를 바탕으로 프롬프트를 작성합니다."
   ]
  },
  {
   "cell_type": "code",
   "execution_count": 3,
   "id": "e4d6dd0c",
   "metadata": {},
   "outputs": [],
   "source": [
    "import os\n",
    "import getpass\n",
    "from dotenv import load_dotenv\n",
    "\n",
    "load_dotenv(\"../.env\", override=True)\n",
    "\n",
    "\n",
    "def _set_env(var: str):\n",
    "    env_value = os.environ.get(var)\n",
    "    if not env_value:\n",
    "        env_value = getpass.getpass(f\"{var}: \")\n",
    "\n",
    "    os.environ[var] = env_value\n",
    "\n",
    "\n",
    "_set_env(\"LANGSMITH_API_KEY\")\n",
    "os.environ[\"LANGSMITH_TRACING\"] = \"true\"\n",
    "os.environ[\"LANGSMITH_PROJECT\"] = \"02-LangGraph-Prompt-Generation\"\n",
    "_set_env(\"OPENAI_API_KEY\")"
   ]
  },
  {
   "cell_type": "markdown",
   "id": "8e85ea1b",
   "metadata": {},
   "source": [
    "## 상태 정의"
   ]
  },
  {
   "cell_type": "code",
   "execution_count": 4,
   "id": "ed19b2e0",
   "metadata": {},
   "outputs": [],
   "source": [
    "from typing import TypedDict, Annotated\n",
    "from langgraph.graph.message import add_messages\n",
    "\n",
    "\n",
    "class State(TypedDict):\n",
    "    messages: Annotated[list, add_messages]"
   ]
  },
  {
   "cell_type": "markdown",
   "id": "70f46b39",
   "metadata": {},
   "source": [
    "## 사용자 요구사항 수집 노드"
   ]
  },
  {
   "cell_type": "code",
   "execution_count": null,
   "id": "efc0f93f",
   "metadata": {},
   "outputs": [],
   "source": [
    "from pydantic import BaseModel\n",
    "from langchain_openai import ChatOpenAI\n",
    "\n",
    "\n",
    "class PromptInstructions(BaseModel):\n",
    "    \"\"\"프롬프트하는 방법에 대한 지침\"\"\"\n",
    "\n",
    "    objective: Annotated[str, \"프롬프트의 목표\"]\n",
    "    variables: Annotated[list[str], \"프롬프트 템플릿에 전달될 변수 목록\"]\n",
    "    constraints: Annotated[list[str], \"출력에서 피해야 할 제약 조건 목록\"]\n",
    "    requirements: Annotated[list[str], \"출력이 반드시 따라야 할 요구사항 목록\"]\n",
    "\n",
    "\n",
    "def uses_requirements_node(state: State):\n",
    "    system_prompt = \"\"\"당신의 임무는 사용자로부터 어떤 유형의 프롬프트 템플릿을 생성하고자 하는지 정보를 수집하는 것입니다.\n",
    "\n",
    "사용자로부터 다음 정보를 수집해야 합니다:\n",
    "\n",
    "- 프롬프트의 목적\n",
    "- 프롬프트 템플릿에 전달될 변수\n",
    "- 출력이 해서는 안 되는 사항에 대한 제약 조건\n",
    "- 출력이 반드시 준수해야 하는 요구사항\n",
    "\n",
    "이 정보를 파악할 수 없다면 명확히 설명해 달라고 요청하세요! 무턱대고 추측하지 마십시오.\n",
    "\n",
    "모든 정보를 파악한 후 관련 도구를 호출하십시오.\n",
    "\n",
    "[중요] 대화는 한국어로 진행하지만, 생성된 프롬프트는 영어로 작성되어야 합니다.\"\"\"\n",
    "\n",
    "    llm = ChatOpenAI(model=\"gpt-4.1-mini\", temperature=0).bind_tools(\n",
    "        [PromptInstructions]\n",
    "    )\n",
    "\n",
    "    response = llm.invoke([(\"system\", system_prompt)] + state[\"messages\"])\n",
    "\n",
    "    return {\"messages\": [response]}\n"
   ]
  },
  {
   "cell_type": "markdown",
   "id": "643cc2c2",
   "metadata": {},
   "source": []
  }
 ],
 "metadata": {
  "kernelspec": {
   "display_name": ".venv",
   "language": "python",
   "name": "python3"
  },
  "language_info": {
   "codemirror_mode": {
    "name": "ipython",
    "version": 3
   },
   "file_extension": ".py",
   "mimetype": "text/x-python",
   "name": "python",
   "nbconvert_exporter": "python",
   "pygments_lexer": "ipython3",
   "version": "3.12.11"
  }
 },
 "nbformat": 4,
 "nbformat_minor": 5
}
