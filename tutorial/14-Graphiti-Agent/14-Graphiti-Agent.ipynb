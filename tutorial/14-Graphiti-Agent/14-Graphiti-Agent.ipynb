{
 "cells": [
  {
   "cell_type": "markdown",
   "id": "4e670849",
   "metadata": {},
   "source": [
    "# Graphiti Agent\n",
    "\n",
    "그래피티(Graphiti)는 AI 에이전트를 위해 설계된 시간 인식 지식 그래프 구축을 위한 파이썬 프레임워크입니다. 일괄 재계산 없이 지식 그래프에 대한 실시간 증분 업데이트를 가능하게 하여, 관계와 정보가 시간에 따라 진화하는 동적 환경에 적합합니다.\n",
    "\n",
    "![](https://steemitimages.com/300x0/https://github.com/gongwon-nayeon/graphiti-agent-tutorial/raw/main/graphiti_agent.png)\n",
    "\n",
    "참고: https://github.com/gongwon-nayeon/graphiti-agent-tutorial/blob/main/graphiti_agent.ipynb"
   ]
  },
  {
   "cell_type": "markdown",
   "id": "ab7beba7",
   "metadata": {},
   "source": []
  },
  {
   "cell_type": "markdown",
   "id": "7ac931ee",
   "metadata": {},
   "source": [
    "이번 튜토리얼에서는 [Neo4j Sandbox](https://sandbox.neo4j.com/)를 사용합니다.\n",
    "> Neo4j Sandbox란? **온라인 그래프 데이터베이스**로, 무료 클라우드 기반 Neo4j 인스턴스를 구축할 수 있기 떄문에 간편하게 리소스를 빌려 그래프DB를 실험 할 수 있습니다."
   ]
  },
  {
   "cell_type": "markdown",
   "id": "c8021a34",
   "metadata": {},
   "source": [
    "## 설치하기\n",
    "\n",
    "필요한 패키지((graphiti, langgraph, langchain, 등)을 설치합니다."
   ]
  },
  {
   "cell_type": "code",
   "execution_count": 1,
   "id": "8354037a",
   "metadata": {},
   "outputs": [],
   "source": [
    "%%capture --no-stderr\n",
    "%pip install -qU langgraph langchain-core langchain-openai \n",
    "%pip install -qU graphiti-core"
   ]
  },
  {
   "cell_type": "markdown",
   "id": "5debdec1",
   "metadata": {},
   "source": [
    "## 환경 설정\n",
    "\n",
    "graphiti를 실행하는데 필요한 환경변수를 설정합니다. graphiti는 OpenAI를 사용하므로 OpenAI API Key가 필요합니다."
   ]
  },
  {
   "cell_type": "code",
   "execution_count": 2,
   "id": "d7225c06",
   "metadata": {},
   "outputs": [],
   "source": [
    "import os\n",
    "from dotenv import load_dotenv\n",
    "\n",
    "load_dotenv(override=True)\n",
    "\n",
    "os.environ[\"LANGSMITH_TRACING\"] = \"true\"\n",
    "os.environ[\"LANGSMITH_PROJECT\"] = \"langchain-academy\"\n",
    "\n",
    "neo4j_uri = os.environ.get(\"NEO4J_URI\")\n",
    "neo4j_user = os.environ.get(\"NEO4J_USERNAME\")\n",
    "neo4j_password = os.environ.get(\"NEO4J_PASSWORD\")\n",
    "\n",
    "if not neo4j_uri or not neo4j_user or not neo4j_password:\n",
    "    raise ValueError(\"NEO4J_URI, NEO4J_USERNAME, and NEO4J_PASSWORD must be set\")"
   ]
  },
  {
   "cell_type": "code",
   "execution_count": 3,
   "id": "68e15552",
   "metadata": {},
   "outputs": [],
   "source": [
    "import logging\n",
    "\n",
    "logging.basicConfig(\n",
    "    level=logging.INFO,\n",
    "    format=\"%(asctime)s - %(name)s - %(levelname)s - %(message)s\",\n",
    "    datefmt=\"%Y-%m-%d %H:%M:%S\",\n",
    ")\n",
    "logger = logging.getLogger(__name__)"
   ]
  },
  {
   "cell_type": "markdown",
   "id": "289f4e44",
   "metadata": {},
   "source": [
    "## Graphiti 사용하기"
   ]
  },
  {
   "cell_type": "code",
   "execution_count": null,
   "id": "9dd19a7b",
   "metadata": {},
   "outputs": [
    {
     "name": "stderr",
     "output_type": "stream",
     "text": [
      "2025-10-20 20:54:45 - neo4j.notifications - INFO - Received notification from DBMS server: <GqlStatusObject gql_status='00NA0', status_description=\"note: successful completion - index or constraint already exists. The command 'CREATE RANGE INDEX valid_at_episodic_index IF NOT EXISTS FOR (e:Episodic) ON (e.valid_at)' has no effect. The index or constraint specified by 'RANGE INDEX valid_at_episodic_index FOR (e:Episodic) ON (e.valid_at)' already exists.\", position=None, raw_classification='SCHEMA', classification=<NotificationClassification.SCHEMA: 'SCHEMA'>, raw_severity='INFORMATION', severity=<NotificationSeverity.INFORMATION: 'INFORMATION'>, diagnostic_record={'_classification': 'SCHEMA', '_severity': 'INFORMATION', 'OPERATION': '', 'OPERATION_CODE': '0', 'CURRENT_SCHEMA': '/'}> for query: 'CREATE INDEX valid_at_episodic_index IF NOT EXISTS FOR (n:Episodic) ON (n.valid_at)'\n",
      "2025-10-20 20:54:45 - neo4j.notifications - INFO - Received notification from DBMS server: <GqlStatusObject gql_status='00NA0', status_description=\"note: successful completion - index or constraint already exists. The command 'CREATE RANGE INDEX mention_uuid IF NOT EXISTS FOR ()-[e:MENTIONS]-() ON (e.uuid)' has no effect. The index or constraint specified by 'RANGE INDEX mention_uuid FOR ()-[e:MENTIONS]-() ON (e.uuid)' already exists.\", position=None, raw_classification='SCHEMA', classification=<NotificationClassification.SCHEMA: 'SCHEMA'>, raw_severity='INFORMATION', severity=<NotificationSeverity.INFORMATION: 'INFORMATION'>, diagnostic_record={'_classification': 'SCHEMA', '_severity': 'INFORMATION', 'OPERATION': '', 'OPERATION_CODE': '0', 'CURRENT_SCHEMA': '/'}> for query: 'CREATE INDEX mention_uuid IF NOT EXISTS FOR ()-[e:MENTIONS]-() ON (e.uuid)'\n",
      "2025-10-20 20:54:45 - neo4j.notifications - INFO - Received notification from DBMS server: <GqlStatusObject gql_status='00NA0', status_description=\"note: successful completion - index or constraint already exists. The command 'CREATE RANGE INDEX episode_group_id IF NOT EXISTS FOR (e:Episodic) ON (e.group_id)' has no effect. The index or constraint specified by 'RANGE INDEX episode_group_id FOR (e:Episodic) ON (e.group_id)' already exists.\", position=None, raw_classification='SCHEMA', classification=<NotificationClassification.SCHEMA: 'SCHEMA'>, raw_severity='INFORMATION', severity=<NotificationSeverity.INFORMATION: 'INFORMATION'>, diagnostic_record={'_classification': 'SCHEMA', '_severity': 'INFORMATION', 'OPERATION': '', 'OPERATION_CODE': '0', 'CURRENT_SCHEMA': '/'}> for query: 'CREATE INDEX episode_group_id IF NOT EXISTS FOR (n:Episodic) ON (n.group_id)'\n",
      "2025-10-20 20:54:45 - neo4j.notifications - INFO - Received notification from DBMS server: <GqlStatusObject gql_status='00NA0', status_description=\"note: successful completion - index or constraint already exists. The command 'CREATE RANGE INDEX relation_group_id IF NOT EXISTS FOR ()-[e:RELATES_TO]-() ON (e.group_id)' has no effect. The index or constraint specified by 'RANGE INDEX relation_group_id FOR ()-[e:RELATES_TO]-() ON (e.group_id)' already exists.\", position=None, raw_classification='SCHEMA', classification=<NotificationClassification.SCHEMA: 'SCHEMA'>, raw_severity='INFORMATION', severity=<NotificationSeverity.INFORMATION: 'INFORMATION'>, diagnostic_record={'_classification': 'SCHEMA', '_severity': 'INFORMATION', 'OPERATION': '', 'OPERATION_CODE': '0', 'CURRENT_SCHEMA': '/'}> for query: 'CREATE INDEX relation_group_id IF NOT EXISTS FOR ()-[e:RELATES_TO]-() ON (e.group_id)'\n",
      "2025-10-20 20:54:45 - neo4j.notifications - INFO - Received notification from DBMS server: <GqlStatusObject gql_status='00NA0', status_description=\"note: successful completion - index or constraint already exists. The command 'CREATE RANGE INDEX created_at_episodic_index IF NOT EXISTS FOR (e:Episodic) ON (e.created_at)' has no effect. The index or constraint specified by 'RANGE INDEX created_at_episodic_index FOR (e:Episodic) ON (e.created_at)' already exists.\", position=None, raw_classification='SCHEMA', classification=<NotificationClassification.SCHEMA: 'SCHEMA'>, raw_severity='INFORMATION', severity=<NotificationSeverity.INFORMATION: 'INFORMATION'>, diagnostic_record={'_classification': 'SCHEMA', '_severity': 'INFORMATION', 'OPERATION': '', 'OPERATION_CODE': '0', 'CURRENT_SCHEMA': '/'}> for query: 'CREATE INDEX created_at_episodic_index IF NOT EXISTS FOR (n:Episodic) ON (n.created_at)'\n",
      "2025-10-20 20:54:45 - neo4j.notifications - INFO - Received notification from DBMS server: <GqlStatusObject gql_status='00NA0', status_description=\"note: successful completion - index or constraint already exists. The command 'CREATE RANGE INDEX entity_group_id IF NOT EXISTS FOR (e:Entity) ON (e.group_id)' has no effect. The index or constraint specified by 'RANGE INDEX entity_group_id FOR (e:Entity) ON (e.group_id)' already exists.\", position=None, raw_classification='SCHEMA', classification=<NotificationClassification.SCHEMA: 'SCHEMA'>, raw_severity='INFORMATION', severity=<NotificationSeverity.INFORMATION: 'INFORMATION'>, diagnostic_record={'_classification': 'SCHEMA', '_severity': 'INFORMATION', 'OPERATION': '', 'OPERATION_CODE': '0', 'CURRENT_SCHEMA': '/'}> for query: 'CREATE INDEX entity_group_id IF NOT EXISTS FOR (n:Entity) ON (n.group_id)'\n",
      "2025-10-20 20:54:45 - neo4j.notifications - INFO - Received notification from DBMS server: <GqlStatusObject gql_status='00NA0', status_description=\"note: successful completion - index or constraint already exists. The command 'CREATE RANGE INDEX name_entity_index IF NOT EXISTS FOR (e:Entity) ON (e.name)' has no effect. The index or constraint specified by 'RANGE INDEX name_entity_index FOR (e:Entity) ON (e.name)' already exists.\", position=None, raw_classification='SCHEMA', classification=<NotificationClassification.SCHEMA: 'SCHEMA'>, raw_severity='INFORMATION', severity=<NotificationSeverity.INFORMATION: 'INFORMATION'>, diagnostic_record={'_classification': 'SCHEMA', '_severity': 'INFORMATION', 'OPERATION': '', 'OPERATION_CODE': '0', 'CURRENT_SCHEMA': '/'}> for query: 'CREATE INDEX name_entity_index IF NOT EXISTS FOR (n:Entity) ON (n.name)'\n",
      "2025-10-20 20:54:45 - neo4j.notifications - INFO - Received notification from DBMS server: <GqlStatusObject gql_status='00NA0', status_description=\"note: successful completion - index or constraint already exists. The command 'CREATE RANGE INDEX relation_uuid IF NOT EXISTS FOR ()-[e:RELATES_TO]-() ON (e.uuid)' has no effect. The index or constraint specified by 'RANGE INDEX relation_uuid FOR ()-[e:RELATES_TO]-() ON (e.uuid)' already exists.\", position=None, raw_classification='SCHEMA', classification=<NotificationClassification.SCHEMA: 'SCHEMA'>, raw_severity='INFORMATION', severity=<NotificationSeverity.INFORMATION: 'INFORMATION'>, diagnostic_record={'_classification': 'SCHEMA', '_severity': 'INFORMATION', 'OPERATION': '', 'OPERATION_CODE': '0', 'CURRENT_SCHEMA': '/'}> for query: 'CREATE INDEX relation_uuid IF NOT EXISTS FOR ()-[e:RELATES_TO]-() ON (e.uuid)'\n",
      "2025-10-20 20:54:45 - neo4j.notifications - INFO - Received notification from DBMS server: <GqlStatusObject gql_status='00NA0', status_description=\"note: successful completion - index or constraint already exists. The command 'CREATE RANGE INDEX name_edge_index IF NOT EXISTS FOR ()-[e:RELATES_TO]-() ON (e.name)' has no effect. The index or constraint specified by 'RANGE INDEX name_edge_index FOR ()-[e:RELATES_TO]-() ON (e.name)' already exists.\", position=None, raw_classification='SCHEMA', classification=<NotificationClassification.SCHEMA: 'SCHEMA'>, raw_severity='INFORMATION', severity=<NotificationSeverity.INFORMATION: 'INFORMATION'>, diagnostic_record={'_classification': 'SCHEMA', '_severity': 'INFORMATION', 'OPERATION': '', 'OPERATION_CODE': '0', 'CURRENT_SCHEMA': '/'}> for query: 'CREATE INDEX name_edge_index IF NOT EXISTS FOR ()-[e:RELATES_TO]-() ON (e.name)'\n",
      "2025-10-20 20:54:45 - neo4j.notifications - INFO - Received notification from DBMS server: <GqlStatusObject gql_status='00NA0', status_description=\"note: successful completion - index or constraint already exists. The command 'CREATE RANGE INDEX expired_at_edge_index IF NOT EXISTS FOR ()-[e:RELATES_TO]-() ON (e.expired_at)' has no effect. The index or constraint specified by 'RANGE INDEX expired_at_edge_index FOR ()-[e:RELATES_TO]-() ON (e.expired_at)' already exists.\", position=None, raw_classification='SCHEMA', classification=<NotificationClassification.SCHEMA: 'SCHEMA'>, raw_severity='INFORMATION', severity=<NotificationSeverity.INFORMATION: 'INFORMATION'>, diagnostic_record={'_classification': 'SCHEMA', '_severity': 'INFORMATION', 'OPERATION': '', 'OPERATION_CODE': '0', 'CURRENT_SCHEMA': '/'}> for query: 'CREATE INDEX expired_at_edge_index IF NOT EXISTS FOR ()-[e:RELATES_TO]-() ON (e.expired_at)'\n",
      "2025-10-20 20:54:45 - neo4j.notifications - INFO - Received notification from DBMS server: <GqlStatusObject gql_status='00NA0', status_description=\"note: successful completion - index or constraint already exists. The command 'CREATE RANGE INDEX has_member_uuid IF NOT EXISTS FOR ()-[e:HAS_MEMBER]-() ON (e.uuid)' has no effect. The index or constraint specified by 'RANGE INDEX has_member_uuid FOR ()-[e:HAS_MEMBER]-() ON (e.uuid)' already exists.\", position=None, raw_classification='SCHEMA', classification=<NotificationClassification.SCHEMA: 'SCHEMA'>, raw_severity='INFORMATION', severity=<NotificationSeverity.INFORMATION: 'INFORMATION'>, diagnostic_record={'_classification': 'SCHEMA', '_severity': 'INFORMATION', 'OPERATION': '', 'OPERATION_CODE': '0', 'CURRENT_SCHEMA': '/'}> for query: 'CREATE INDEX has_member_uuid IF NOT EXISTS FOR ()-[e:HAS_MEMBER]-() ON (e.uuid)'\n",
      "2025-10-20 20:54:45 - neo4j.notifications - INFO - Received notification from DBMS server: <GqlStatusObject gql_status='00NA0', status_description=\"note: successful completion - index or constraint already exists. The command 'CREATE RANGE INDEX episode_uuid IF NOT EXISTS FOR (e:Episodic) ON (e.uuid)' has no effect. The index or constraint specified by 'RANGE INDEX episode_uuid FOR (e:Episodic) ON (e.uuid)' already exists.\", position=None, raw_classification='SCHEMA', classification=<NotificationClassification.SCHEMA: 'SCHEMA'>, raw_severity='INFORMATION', severity=<NotificationSeverity.INFORMATION: 'INFORMATION'>, diagnostic_record={'_classification': 'SCHEMA', '_severity': 'INFORMATION', 'OPERATION': '', 'OPERATION_CODE': '0', 'CURRENT_SCHEMA': '/'}> for query: 'CREATE INDEX episode_uuid IF NOT EXISTS FOR (n:Episodic) ON (n.uuid)'\n",
      "2025-10-20 20:54:45 - neo4j.notifications - INFO - Received notification from DBMS server: <GqlStatusObject gql_status='00NA0', status_description=\"note: successful completion - index or constraint already exists. The command 'CREATE RANGE INDEX entity_uuid IF NOT EXISTS FOR (e:Entity) ON (e.uuid)' has no effect. The index or constraint specified by 'RANGE INDEX entity_uuid FOR (e:Entity) ON (e.uuid)' already exists.\", position=None, raw_classification='SCHEMA', classification=<NotificationClassification.SCHEMA: 'SCHEMA'>, raw_severity='INFORMATION', severity=<NotificationSeverity.INFORMATION: 'INFORMATION'>, diagnostic_record={'_classification': 'SCHEMA', '_severity': 'INFORMATION', 'OPERATION': '', 'OPERATION_CODE': '0', 'CURRENT_SCHEMA': '/'}> for query: 'CREATE INDEX entity_uuid IF NOT EXISTS FOR (n:Entity) ON (n.uuid)'\n",
      "2025-10-20 20:54:45 - neo4j.notifications - INFO - Received notification from DBMS server: <GqlStatusObject gql_status='00NA0', status_description=\"note: successful completion - index or constraint already exists. The command 'CREATE RANGE INDEX created_at_edge_index IF NOT EXISTS FOR ()-[e:RELATES_TO]-() ON (e.created_at)' has no effect. The index or constraint specified by 'RANGE INDEX created_at_edge_index FOR ()-[e:RELATES_TO]-() ON (e.created_at)' already exists.\", position=None, raw_classification='SCHEMA', classification=<NotificationClassification.SCHEMA: 'SCHEMA'>, raw_severity='INFORMATION', severity=<NotificationSeverity.INFORMATION: 'INFORMATION'>, diagnostic_record={'_classification': 'SCHEMA', '_severity': 'INFORMATION', 'OPERATION': '', 'OPERATION_CODE': '0', 'CURRENT_SCHEMA': '/'}> for query: 'CREATE INDEX created_at_edge_index IF NOT EXISTS FOR ()-[e:RELATES_TO]-() ON (e.created_at)'\n",
      "2025-10-20 20:54:45 - neo4j.notifications - INFO - Received notification from DBMS server: <GqlStatusObject gql_status='00NA0', status_description=\"note: successful completion - index or constraint already exists. The command 'CREATE RANGE INDEX valid_at_edge_index IF NOT EXISTS FOR ()-[e:RELATES_TO]-() ON (e.valid_at)' has no effect. The index or constraint specified by 'RANGE INDEX valid_at_edge_index FOR ()-[e:RELATES_TO]-() ON (e.valid_at)' already exists.\", position=None, raw_classification='SCHEMA', classification=<NotificationClassification.SCHEMA: 'SCHEMA'>, raw_severity='INFORMATION', severity=<NotificationSeverity.INFORMATION: 'INFORMATION'>, diagnostic_record={'_classification': 'SCHEMA', '_severity': 'INFORMATION', 'OPERATION': '', 'OPERATION_CODE': '0', 'CURRENT_SCHEMA': '/'}> for query: 'CREATE INDEX valid_at_edge_index IF NOT EXISTS FOR ()-[e:RELATES_TO]-() ON (e.valid_at)'\n",
      "2025-10-20 20:54:45 - neo4j.notifications - INFO - Received notification from DBMS server: <GqlStatusObject gql_status='00NA0', status_description=\"note: successful completion - index or constraint already exists. The command 'CREATE RANGE INDEX community_group_id IF NOT EXISTS FOR (e:Community) ON (e.group_id)' has no effect. The index or constraint specified by 'RANGE INDEX community_group_id FOR (e:Community) ON (e.group_id)' already exists.\", position=None, raw_classification='SCHEMA', classification=<NotificationClassification.SCHEMA: 'SCHEMA'>, raw_severity='INFORMATION', severity=<NotificationSeverity.INFORMATION: 'INFORMATION'>, diagnostic_record={'_classification': 'SCHEMA', '_severity': 'INFORMATION', 'OPERATION': '', 'OPERATION_CODE': '0', 'CURRENT_SCHEMA': '/'}> for query: 'CREATE INDEX community_group_id IF NOT EXISTS FOR (n:Community) ON (n.group_id)'\n",
      "2025-10-20 20:54:45 - neo4j.notifications - INFO - Received notification from DBMS server: <GqlStatusObject gql_status='00NA0', status_description=\"note: successful completion - index or constraint already exists. The command 'CREATE RANGE INDEX mention_group_id IF NOT EXISTS FOR ()-[e:MENTIONS]-() ON (e.group_id)' has no effect. The index or constraint specified by 'RANGE INDEX mention_group_id FOR ()-[e:MENTIONS]-() ON (e.group_id)' already exists.\", position=None, raw_classification='SCHEMA', classification=<NotificationClassification.SCHEMA: 'SCHEMA'>, raw_severity='INFORMATION', severity=<NotificationSeverity.INFORMATION: 'INFORMATION'>, diagnostic_record={'_classification': 'SCHEMA', '_severity': 'INFORMATION', 'OPERATION': '', 'OPERATION_CODE': '0', 'CURRENT_SCHEMA': '/'}> for query: 'CREATE INDEX mention_group_id IF NOT EXISTS FOR ()-[e:MENTIONS]-() ON (e.group_id)'\n",
      "2025-10-20 20:54:45 - neo4j.notifications - INFO - Received notification from DBMS server: <GqlStatusObject gql_status='00NA0', status_description=\"note: successful completion - index or constraint already exists. The command 'CREATE RANGE INDEX community_uuid IF NOT EXISTS FOR (e:Community) ON (e.uuid)' has no effect. The index or constraint specified by 'RANGE INDEX community_uuid FOR (e:Community) ON (e.uuid)' already exists.\", position=None, raw_classification='SCHEMA', classification=<NotificationClassification.SCHEMA: 'SCHEMA'>, raw_severity='INFORMATION', severity=<NotificationSeverity.INFORMATION: 'INFORMATION'>, diagnostic_record={'_classification': 'SCHEMA', '_severity': 'INFORMATION', 'OPERATION': '', 'OPERATION_CODE': '0', 'CURRENT_SCHEMA': '/'}> for query: 'CREATE INDEX community_uuid IF NOT EXISTS FOR (n:Community) ON (n.uuid)'\n",
      "2025-10-20 20:54:45 - neo4j.notifications - INFO - Received notification from DBMS server: <GqlStatusObject gql_status='00NA0', status_description=\"note: successful completion - index or constraint already exists. The command 'CREATE RANGE INDEX invalid_at_edge_index IF NOT EXISTS FOR ()-[e:RELATES_TO]-() ON (e.invalid_at)' has no effect. The index or constraint specified by 'RANGE INDEX invalid_at_edge_index FOR ()-[e:RELATES_TO]-() ON (e.invalid_at)' already exists.\", position=None, raw_classification='SCHEMA', classification=<NotificationClassification.SCHEMA: 'SCHEMA'>, raw_severity='INFORMATION', severity=<NotificationSeverity.INFORMATION: 'INFORMATION'>, diagnostic_record={'_classification': 'SCHEMA', '_severity': 'INFORMATION', 'OPERATION': '', 'OPERATION_CODE': '0', 'CURRENT_SCHEMA': '/'}> for query: 'CREATE INDEX invalid_at_edge_index IF NOT EXISTS FOR ()-[e:RELATES_TO]-() ON (e.invalid_at)'\n",
      "2025-10-20 20:54:45 - neo4j.notifications - INFO - Received notification from DBMS server: <GqlStatusObject gql_status='00NA0', status_description=\"note: successful completion - index or constraint already exists. The command 'CREATE RANGE INDEX created_at_entity_index IF NOT EXISTS FOR (e:Entity) ON (e.created_at)' has no effect. The index or constraint specified by 'RANGE INDEX created_at_entity_index FOR (e:Entity) ON (e.created_at)' already exists.\", position=None, raw_classification='SCHEMA', classification=<NotificationClassification.SCHEMA: 'SCHEMA'>, raw_severity='INFORMATION', severity=<NotificationSeverity.INFORMATION: 'INFORMATION'>, diagnostic_record={'_classification': 'SCHEMA', '_severity': 'INFORMATION', 'OPERATION': '', 'OPERATION_CODE': '0', 'CURRENT_SCHEMA': '/'}> for query: 'CREATE INDEX created_at_entity_index IF NOT EXISTS FOR (n:Entity) ON (n.created_at)'\n",
      "2025-10-20 20:54:45 - neo4j.notifications - INFO - Received notification from DBMS server: <GqlStatusObject gql_status='00NA0', status_description=\"note: successful completion - index or constraint already exists. The command 'CREATE FULLTEXT INDEX node_name_and_summary IF NOT EXISTS FOR (e:Entity) ON EACH [e.name, e.summary, e.group_id]' has no effect. The index or constraint specified by 'FULLTEXT INDEX node_name_and_summary FOR (e:Entity) ON EACH [e.name, e.summary, e.group_id]' already exists.\", position=None, raw_classification='SCHEMA', classification=<NotificationClassification.SCHEMA: 'SCHEMA'>, raw_severity='INFORMATION', severity=<NotificationSeverity.INFORMATION: 'INFORMATION'>, diagnostic_record={'_classification': 'SCHEMA', '_severity': 'INFORMATION', 'OPERATION': '', 'OPERATION_CODE': '0', 'CURRENT_SCHEMA': '/'}> for query: 'CREATE FULLTEXT INDEX node_name_and_summary IF NOT EXISTS\\n        FOR (n:Entity) ON EACH [n.name, n.summary, n.group_id]'\n",
      "2025-10-20 20:54:46 - neo4j.notifications - INFO - Received notification from DBMS server: <GqlStatusObject gql_status='00NA0', status_description=\"note: successful completion - index or constraint already exists. The command 'CREATE FULLTEXT INDEX community_name IF NOT EXISTS FOR (e:Community) ON EACH [e.name, e.group_id]' has no effect. The index or constraint specified by 'FULLTEXT INDEX community_name FOR (e:Community) ON EACH [e.name, e.group_id]' already exists.\", position=None, raw_classification='SCHEMA', classification=<NotificationClassification.SCHEMA: 'SCHEMA'>, raw_severity='INFORMATION', severity=<NotificationSeverity.INFORMATION: 'INFORMATION'>, diagnostic_record={'_classification': 'SCHEMA', '_severity': 'INFORMATION', 'OPERATION': '', 'OPERATION_CODE': '0', 'CURRENT_SCHEMA': '/'}> for query: 'CREATE FULLTEXT INDEX community_name IF NOT EXISTS\\n        FOR (n:Community) ON EACH [n.name, n.group_id]'\n",
      "2025-10-20 20:54:46 - neo4j.notifications - INFO - Received notification from DBMS server: <GqlStatusObject gql_status='00NA0', status_description=\"note: successful completion - index or constraint already exists. The command 'CREATE FULLTEXT INDEX episode_content IF NOT EXISTS FOR (e:Episodic) ON EACH [e.content, e.source, e.source_description, e.group_id]' has no effect. The index or constraint specified by 'FULLTEXT INDEX episode_content FOR (e:Episodic) ON EACH [e.content, e.source, e.source_description, e.group_id]' already exists.\", position=None, raw_classification='SCHEMA', classification=<NotificationClassification.SCHEMA: 'SCHEMA'>, raw_severity='INFORMATION', severity=<NotificationSeverity.INFORMATION: 'INFORMATION'>, diagnostic_record={'_classification': 'SCHEMA', '_severity': 'INFORMATION', 'OPERATION': '', 'OPERATION_CODE': '0', 'CURRENT_SCHEMA': '/'}> for query: 'CREATE FULLTEXT INDEX episode_content IF NOT EXISTS\\n        FOR (e:Episodic) ON EACH [e.content, e.source, e.source_description, e.group_id]'\n",
      "2025-10-20 20:54:46 - neo4j.notifications - INFO - Received notification from DBMS server: <GqlStatusObject gql_status='00NA0', status_description=\"note: successful completion - index or constraint already exists. The command 'CREATE FULLTEXT INDEX edge_name_and_fact IF NOT EXISTS FOR ()-[e:RELATES_TO]-() ON EACH [e.name, e.fact, e.group_id]' has no effect. The index or constraint specified by 'FULLTEXT INDEX edge_name_and_fact FOR ()-[e:RELATES_TO]-() ON EACH [e.name, e.fact, e.group_id]' already exists.\", position=None, raw_classification='SCHEMA', classification=<NotificationClassification.SCHEMA: 'SCHEMA'>, raw_severity='INFORMATION', severity=<NotificationSeverity.INFORMATION: 'INFORMATION'>, diagnostic_record={'_classification': 'SCHEMA', '_severity': 'INFORMATION', 'OPERATION': '', 'OPERATION_CODE': '0', 'CURRENT_SCHEMA': '/'}> for query: 'CREATE FULLTEXT INDEX edge_name_and_fact IF NOT EXISTS\\n        FOR ()-[e:RELATES_TO]-() ON EACH [e.name, e.fact, e.group_id]'\n"
     ]
    }
   ],
   "source": [
    "from graphiti_core import Graphiti\n",
    "\n",
    "# Graphiti 초기화\n",
    "graphiti = Graphiti(neo4j_uri, neo4j_user, neo4j_password)\n",
    "\n",
    "await graphiti.build_indices_and_constraints()"
   ]
  },
  {
   "cell_type": "markdown",
   "id": "8a2303bc",
   "metadata": {},
   "source": [
    "## 1. 에피소드 추가\n",
    "\n",
    "에피소드는 Graphiti의 기본 단위입니다.\n",
    "\n",
    "**에피소드 유형**은 다음과 같습니다.\n",
    "- `text`: 비정형 택스트 데이터\n",
    "- `message`: 대화형 메시지 형식\n",
    "- `json`: 구조화된 데이터"
   ]
  },
  {
   "cell_type": "code",
   "execution_count": 5,
   "id": "ae2698ec",
   "metadata": {},
   "outputs": [],
   "source": [
    "from graphiti_core.nodes import EpisodeType\n",
    "\n",
    "episodes = [\n",
    "    {\n",
    "        \"type\": EpisodeType.json,\n",
    "        \"name\": \"OpenAI\",\n",
    "        \"content\": {\n",
    "            \"name\": \"OpenAI\",\n",
    "            \"founded\": \"2015-12-8\",\n",
    "            \"founders\": \"Sam Altman\",\n",
    "            \"type\": \"AI 연구 개발 기업\",\n",
    "            \"official_website\": \"https://openai.com/\",\n",
    "        },\n",
    "        \"description\": \"article metadata\",\n",
    "    },\n",
    "    {\n",
    "        \"type\": EpisodeType.text,\n",
    "        \"name\": \"OpenAI의 기본 모델\",\n",
    "        \"content\": \"2024년 5월 기준, OpenAI의 기본 모델은 GPT-4o입니다.\",\n",
    "        \"description\": \"news article\",\n",
    "    },\n",
    "]"
   ]
  },
  {
   "cell_type": "code",
   "execution_count": 7,
   "id": "6a6b9818",
   "metadata": {},
   "outputs": [
    {
     "name": "stderr",
     "output_type": "stream",
     "text": [
      "2025-10-20 20:55:02 - httpx - INFO - HTTP Request: POST https://api.openai.com/v1/responses \"HTTP/1.1 200 OK\"\n",
      "2025-10-20 20:55:04 - httpx - INFO - HTTP Request: POST https://api.openai.com/v1/embeddings \"HTTP/1.1 200 OK\"\n",
      "2025-10-20 20:55:04 - httpx - INFO - HTTP Request: POST https://api.openai.com/v1/embeddings \"HTTP/1.1 200 OK\"\n",
      "2025-10-20 20:55:04 - httpx - INFO - HTTP Request: POST https://api.openai.com/v1/embeddings \"HTTP/1.1 200 OK\"\n",
      "2025-10-20 20:55:04 - httpx - INFO - HTTP Request: POST https://api.openai.com/v1/embeddings \"HTTP/1.1 200 OK\"\n",
      "2025-10-20 20:55:07 - httpx - INFO - HTTP Request: POST https://api.openai.com/v1/responses \"HTTP/1.1 200 OK\"\n",
      "2025-10-20 20:55:17 - httpx - INFO - HTTP Request: POST https://api.openai.com/v1/responses \"HTTP/1.1 200 OK\"\n",
      "2025-10-20 20:55:18 - httpx - INFO - HTTP Request: POST https://api.openai.com/v1/embeddings \"HTTP/1.1 200 OK\"\n",
      "2025-10-20 20:55:20 - httpx - INFO - HTTP Request: POST https://api.openai.com/v1/embeddings \"HTTP/1.1 200 OK\"\n",
      "2025-10-20 20:55:20 - httpx - INFO - HTTP Request: POST https://api.openai.com/v1/embeddings \"HTTP/1.1 200 OK\"\n",
      "2025-10-20 20:55:21 - httpx - INFO - HTTP Request: POST https://api.openai.com/v1/embeddings \"HTTP/1.1 200 OK\"\n",
      "2025-10-20 20:55:22 - httpx - INFO - HTTP Request: POST https://api.openai.com/v1/embeddings \"HTTP/1.1 200 OK\"\n",
      "2025-10-20 20:55:22 - httpx - INFO - HTTP Request: POST https://api.openai.com/v1/embeddings \"HTTP/1.1 200 OK\"\n",
      "2025-10-20 20:55:23 - httpx - INFO - HTTP Request: POST https://api.openai.com/v1/embeddings \"HTTP/1.1 200 OK\"\n",
      "2025-10-20 20:55:26 - httpx - INFO - HTTP Request: POST https://api.openai.com/v1/responses \"HTTP/1.1 200 OK\"\n",
      "2025-10-20 20:55:27 - httpx - INFO - HTTP Request: POST https://api.openai.com/v1/responses \"HTTP/1.1 200 OK\"\n",
      "2025-10-20 20:55:28 - httpx - INFO - HTTP Request: POST https://api.openai.com/v1/embeddings \"HTTP/1.1 200 OK\"\n",
      "2025-10-20 20:55:29 - httpx - INFO - HTTP Request: POST https://api.openai.com/v1/responses \"HTTP/1.1 200 OK\"\n",
      "2025-10-20 20:55:30 - httpx - INFO - HTTP Request: POST https://api.openai.com/v1/responses \"HTTP/1.1 200 OK\"\n",
      "2025-10-20 20:55:30 - httpx - INFO - HTTP Request: POST https://api.openai.com/v1/responses \"HTTP/1.1 200 OK\"\n",
      "2025-10-20 20:55:31 - httpx - INFO - HTTP Request: POST https://api.openai.com/v1/responses \"HTTP/1.1 200 OK\"\n",
      "2025-10-20 20:55:32 - httpx - INFO - HTTP Request: POST https://api.openai.com/v1/embeddings \"HTTP/1.1 200 OK\"\n",
      "2025-10-20 20:55:37 - graphiti_core.graphiti - INFO - Completed add_episode in 38501.53112411499 ms\n"
     ]
    },
    {
     "name": "stdout",
     "output_type": "stream",
     "text": [
      "Added episode: OpenAI (json)\n"
     ]
    },
    {
     "name": "stderr",
     "output_type": "stream",
     "text": [
      "2025-10-20 20:55:42 - httpx - INFO - HTTP Request: POST https://api.openai.com/v1/responses \"HTTP/1.1 200 OK\"\n",
      "2025-10-20 20:55:43 - httpx - INFO - HTTP Request: POST https://api.openai.com/v1/embeddings \"HTTP/1.1 200 OK\"\n",
      "2025-10-20 20:55:43 - httpx - INFO - HTTP Request: POST https://api.openai.com/v1/embeddings \"HTTP/1.1 200 OK\"\n",
      "2025-10-20 20:55:46 - httpx - INFO - HTTP Request: POST https://api.openai.com/v1/responses \"HTTP/1.1 200 OK\"\n",
      "2025-10-20 20:55:48 - httpx - INFO - HTTP Request: POST https://api.openai.com/v1/embeddings \"HTTP/1.1 200 OK\"\n",
      "2025-10-20 20:55:49 - httpx - INFO - HTTP Request: POST https://api.openai.com/v1/embeddings \"HTTP/1.1 200 OK\"\n",
      "2025-10-20 20:55:50 - httpx - INFO - HTTP Request: POST https://api.openai.com/v1/embeddings \"HTTP/1.1 200 OK\"\n",
      "2025-10-20 20:55:52 - httpx - INFO - HTTP Request: POST https://api.openai.com/v1/responses \"HTTP/1.1 200 OK\"\n",
      "2025-10-20 20:55:52 - httpx - INFO - HTTP Request: POST https://api.openai.com/v1/embeddings \"HTTP/1.1 200 OK\"\n",
      "2025-10-20 20:55:54 - httpx - INFO - HTTP Request: POST https://api.openai.com/v1/responses \"HTTP/1.1 200 OK\"\n",
      "2025-10-20 20:55:55 - httpx - INFO - HTTP Request: POST https://api.openai.com/v1/responses \"HTTP/1.1 200 OK\"\n",
      "2025-10-20 20:55:55 - httpx - INFO - HTTP Request: POST https://api.openai.com/v1/embeddings \"HTTP/1.1 200 OK\"\n",
      "2025-10-20 20:55:57 - graphiti_core.graphiti - INFO - Completed add_episode in 20286.402940750122 ms\n"
     ]
    },
    {
     "name": "stdout",
     "output_type": "stream",
     "text": [
      "Added episode: OpenAI의 기본 모델 (text)\n"
     ]
    }
   ],
   "source": [
    "# 에피소스 등록하기\n",
    "import json\n",
    "from datetime import datetime, timezone\n",
    "\n",
    "\n",
    "for i, episode in enumerate(episodes):\n",
    "    await graphiti.add_episode(\n",
    "        name=episode[\"name\"],\n",
    "        episode_body=episode[\"content\"]\n",
    "        if isinstance(episode[\"content\"], str)\n",
    "        else json.dumps(episode[\"content\"]),\n",
    "        source=episode[\"type\"],\n",
    "        source_description=episode[\"description\"],\n",
    "        reference_time=datetime.now(timezone.utc),\n",
    "    )\n",
    "    print(f\"Added episode: {episode['name']} ({episode['type'].value})\")"
   ]
  },
  {
   "cell_type": "markdown",
   "id": "f20ee7f0",
   "metadata": {},
   "source": [
    "새로운 에피소드 추가하기"
   ]
  },
  {
   "cell_type": "code",
   "execution_count": null,
   "id": "4cbf6f6a",
   "metadata": {},
   "outputs": [
    {
     "name": "stderr",
     "output_type": "stream",
     "text": [
      "2025-10-20 20:57:05 - httpx - INFO - HTTP Request: POST https://api.openai.com/v1/responses \"HTTP/1.1 200 OK\"\n",
      "2025-10-20 20:57:05 - httpx - INFO - HTTP Request: POST https://api.openai.com/v1/embeddings \"HTTP/1.1 200 OK\"\n",
      "2025-10-20 20:57:05 - httpx - INFO - HTTP Request: POST https://api.openai.com/v1/embeddings \"HTTP/1.1 200 OK\"\n",
      "2025-10-20 20:57:05 - httpx - INFO - HTTP Request: POST https://api.openai.com/v1/embeddings \"HTTP/1.1 200 OK\"\n",
      "2025-10-20 20:57:05 - httpx - INFO - HTTP Request: POST https://api.openai.com/v1/embeddings \"HTTP/1.1 200 OK\"\n",
      "2025-10-20 20:57:05 - httpx - INFO - HTTP Request: POST https://api.openai.com/v1/embeddings \"HTTP/1.1 200 OK\"\n",
      "2025-10-20 20:57:05 - httpx - INFO - HTTP Request: POST https://api.openai.com/v1/embeddings \"HTTP/1.1 200 OK\"\n",
      "2025-10-20 20:57:05 - httpx - INFO - HTTP Request: POST https://api.openai.com/v1/embeddings \"HTTP/1.1 200 OK\"\n",
      "2025-10-20 20:57:06 - httpx - INFO - HTTP Request: POST https://api.openai.com/v1/embeddings \"HTTP/1.1 200 OK\"\n",
      "2025-10-20 20:57:06 - httpx - INFO - HTTP Request: POST https://api.openai.com/v1/embeddings \"HTTP/1.1 200 OK\"\n",
      "2025-10-20 20:57:06 - httpx - INFO - HTTP Request: POST https://api.openai.com/v1/embeddings \"HTTP/1.1 200 OK\"\n",
      "2025-10-20 20:57:06 - httpx - INFO - HTTP Request: POST https://api.openai.com/v1/embeddings \"HTTP/1.1 200 OK\"\n",
      "2025-10-20 20:57:06 - httpx - INFO - HTTP Request: POST https://api.openai.com/v1/embeddings \"HTTP/1.1 200 OK\"\n",
      "2025-10-20 20:57:06 - httpx - INFO - HTTP Request: POST https://api.openai.com/v1/embeddings \"HTTP/1.1 200 OK\"\n",
      "2025-10-20 20:57:06 - httpx - INFO - HTTP Request: POST https://api.openai.com/v1/embeddings \"HTTP/1.1 200 OK\"\n",
      "2025-10-20 20:57:07 - httpx - INFO - HTTP Request: POST https://api.openai.com/v1/embeddings \"HTTP/1.1 200 OK\"\n",
      "2025-10-20 20:57:07 - httpx - INFO - HTTP Request: POST https://api.openai.com/v1/embeddings \"HTTP/1.1 200 OK\"\n",
      "2025-10-20 20:57:07 - httpx - INFO - HTTP Request: POST https://api.openai.com/v1/embeddings \"HTTP/1.1 200 OK\"\n",
      "2025-10-20 20:57:07 - httpx - INFO - HTTP Request: POST https://api.openai.com/v1/embeddings \"HTTP/1.1 200 OK\"\n",
      "2025-10-20 20:57:17 - httpx - INFO - HTTP Request: POST https://api.openai.com/v1/responses \"HTTP/1.1 200 OK\"\n",
      "2025-10-20 20:57:31 - httpx - INFO - HTTP Request: POST https://api.openai.com/v1/responses \"HTTP/1.1 200 OK\"\n",
      "2025-10-20 20:57:31 - httpx - INFO - HTTP Request: POST https://api.openai.com/v1/embeddings \"HTTP/1.1 200 OK\"\n",
      "2025-10-20 20:57:32 - httpx - INFO - HTTP Request: POST https://api.openai.com/v1/embeddings \"HTTP/1.1 200 OK\"\n",
      "2025-10-20 20:57:32 - httpx - INFO - HTTP Request: POST https://api.openai.com/v1/embeddings \"HTTP/1.1 200 OK\"\n",
      "2025-10-20 20:57:32 - httpx - INFO - HTTP Request: POST https://api.openai.com/v1/embeddings \"HTTP/1.1 200 OK\"\n",
      "2025-10-20 20:57:32 - httpx - INFO - HTTP Request: POST https://api.openai.com/v1/embeddings \"HTTP/1.1 200 OK\"\n",
      "2025-10-20 20:57:32 - httpx - INFO - HTTP Request: POST https://api.openai.com/v1/embeddings \"HTTP/1.1 200 OK\"\n",
      "2025-10-20 20:57:32 - httpx - INFO - HTTP Request: POST https://api.openai.com/v1/embeddings \"HTTP/1.1 200 OK\"\n",
      "2025-10-20 20:57:32 - httpx - INFO - HTTP Request: POST https://api.openai.com/v1/embeddings \"HTTP/1.1 200 OK\"\n",
      "2025-10-20 20:57:32 - httpx - INFO - HTTP Request: POST https://api.openai.com/v1/embeddings \"HTTP/1.1 200 OK\"\n",
      "2025-10-20 20:57:32 - httpx - INFO - HTTP Request: POST https://api.openai.com/v1/embeddings \"HTTP/1.1 200 OK\"\n",
      "2025-10-20 20:57:32 - httpx - INFO - HTTP Request: POST https://api.openai.com/v1/embeddings \"HTTP/1.1 200 OK\"\n",
      "2025-10-20 20:57:32 - httpx - INFO - HTTP Request: POST https://api.openai.com/v1/embeddings \"HTTP/1.1 200 OK\"\n",
      "2025-10-20 20:57:32 - httpx - INFO - HTTP Request: POST https://api.openai.com/v1/embeddings \"HTTP/1.1 200 OK\"\n",
      "2025-10-20 20:57:34 - httpx - INFO - HTTP Request: POST https://api.openai.com/v1/embeddings \"HTTP/1.1 200 OK\"\n",
      "2025-10-20 20:57:34 - httpx - INFO - HTTP Request: POST https://api.openai.com/v1/embeddings \"HTTP/1.1 200 OK\"\n",
      "2025-10-20 20:57:34 - httpx - INFO - HTTP Request: POST https://api.openai.com/v1/embeddings \"HTTP/1.1 200 OK\"\n",
      "2025-10-20 20:57:34 - httpx - INFO - HTTP Request: POST https://api.openai.com/v1/embeddings \"HTTP/1.1 200 OK\"\n",
      "2025-10-20 20:57:34 - httpx - INFO - HTTP Request: POST https://api.openai.com/v1/embeddings \"HTTP/1.1 200 OK\"\n",
      "2025-10-20 20:57:34 - httpx - INFO - HTTP Request: POST https://api.openai.com/v1/embeddings \"HTTP/1.1 200 OK\"\n",
      "2025-10-20 20:57:34 - httpx - INFO - HTTP Request: POST https://api.openai.com/v1/embeddings \"HTTP/1.1 200 OK\"\n",
      "2025-10-20 20:57:34 - httpx - INFO - HTTP Request: POST https://api.openai.com/v1/embeddings \"HTTP/1.1 200 OK\"\n",
      "2025-10-20 20:57:34 - httpx - INFO - HTTP Request: POST https://api.openai.com/v1/embeddings \"HTTP/1.1 200 OK\"\n",
      "2025-10-20 20:57:34 - httpx - INFO - HTTP Request: POST https://api.openai.com/v1/embeddings \"HTTP/1.1 200 OK\"\n",
      "2025-10-20 20:57:34 - httpx - INFO - HTTP Request: POST https://api.openai.com/v1/embeddings \"HTTP/1.1 200 OK\"\n",
      "2025-10-20 20:57:34 - httpx - INFO - HTTP Request: POST https://api.openai.com/v1/embeddings \"HTTP/1.1 200 OK\"\n",
      "2025-10-20 20:57:36 - httpx - INFO - HTTP Request: POST https://api.openai.com/v1/responses \"HTTP/1.1 200 OK\"\n",
      "2025-10-20 20:57:36 - httpx - INFO - HTTP Request: POST https://api.openai.com/v1/responses \"HTTP/1.1 200 OK\"\n",
      "2025-10-20 20:57:36 - httpx - INFO - HTTP Request: POST https://api.openai.com/v1/responses \"HTTP/1.1 200 OK\"\n",
      "2025-10-20 20:57:36 - httpx - INFO - HTTP Request: POST https://api.openai.com/v1/responses \"HTTP/1.1 200 OK\"\n",
      "2025-10-20 20:57:36 - httpx - INFO - HTTP Request: POST https://api.openai.com/v1/responses \"HTTP/1.1 200 OK\"\n",
      "2025-10-20 20:57:36 - httpx - INFO - HTTP Request: POST https://api.openai.com/v1/responses \"HTTP/1.1 200 OK\"\n",
      "2025-10-20 20:57:36 - httpx - INFO - HTTP Request: POST https://api.openai.com/v1/responses \"HTTP/1.1 200 OK\"\n",
      "2025-10-20 20:57:36 - httpx - INFO - HTTP Request: POST https://api.openai.com/v1/responses \"HTTP/1.1 200 OK\"\n",
      "2025-10-20 20:57:37 - httpx - INFO - HTTP Request: POST https://api.openai.com/v1/responses \"HTTP/1.1 200 OK\"\n",
      "2025-10-20 20:57:37 - httpx - INFO - HTTP Request: POST https://api.openai.com/v1/responses \"HTTP/1.1 200 OK\"\n",
      "2025-10-20 20:57:37 - httpx - INFO - HTTP Request: POST https://api.openai.com/v1/responses \"HTTP/1.1 200 OK\"\n",
      "2025-10-20 20:57:37 - httpx - INFO - HTTP Request: POST https://api.openai.com/v1/responses \"HTTP/1.1 200 OK\"\n",
      "2025-10-20 20:57:37 - httpx - INFO - HTTP Request: POST https://api.openai.com/v1/embeddings \"HTTP/1.1 200 OK\"\n",
      "2025-10-20 20:57:37 - httpx - INFO - HTTP Request: POST https://api.openai.com/v1/embeddings \"HTTP/1.1 200 OK\"\n",
      "2025-10-20 20:57:39 - httpx - INFO - HTTP Request: POST https://api.openai.com/v1/responses \"HTTP/1.1 200 OK\"\n",
      "2025-10-20 20:57:39 - httpx - INFO - HTTP Request: POST https://api.openai.com/v1/responses \"HTTP/1.1 200 OK\"\n",
      "2025-10-20 20:57:39 - httpx - INFO - HTTP Request: POST https://api.openai.com/v1/responses \"HTTP/1.1 200 OK\"\n",
      "2025-10-20 20:57:39 - httpx - INFO - HTTP Request: POST https://api.openai.com/v1/responses \"HTTP/1.1 200 OK\"\n",
      "2025-10-20 20:57:39 - httpx - INFO - HTTP Request: POST https://api.openai.com/v1/responses \"HTTP/1.1 200 OK\"\n",
      "2025-10-20 20:57:39 - httpx - INFO - HTTP Request: POST https://api.openai.com/v1/responses \"HTTP/1.1 200 OK\"\n",
      "2025-10-20 20:57:39 - httpx - INFO - HTTP Request: POST https://api.openai.com/v1/responses \"HTTP/1.1 200 OK\"\n",
      "2025-10-20 20:57:39 - httpx - INFO - HTTP Request: POST https://api.openai.com/v1/responses \"HTTP/1.1 200 OK\"\n",
      "2025-10-20 20:57:39 - httpx - INFO - HTTP Request: POST https://api.openai.com/v1/responses \"HTTP/1.1 200 OK\"\n",
      "2025-10-20 20:57:39 - httpx - INFO - HTTP Request: POST https://api.openai.com/v1/responses \"HTTP/1.1 200 OK\"\n",
      "2025-10-20 20:57:39 - httpx - INFO - HTTP Request: POST https://api.openai.com/v1/responses \"HTTP/1.1 200 OK\"\n",
      "2025-10-20 20:57:39 - httpx - INFO - HTTP Request: POST https://api.openai.com/v1/responses \"HTTP/1.1 200 OK\"\n",
      "2025-10-20 20:57:39 - httpx - INFO - HTTP Request: POST https://api.openai.com/v1/responses \"HTTP/1.1 200 OK\"\n",
      "2025-10-20 20:57:40 - httpx - INFO - HTTP Request: POST https://api.openai.com/v1/responses \"HTTP/1.1 200 OK\"\n",
      "2025-10-20 20:57:40 - httpx - INFO - HTTP Request: POST https://api.openai.com/v1/responses \"HTTP/1.1 200 OK\"\n",
      "2025-10-20 20:57:40 - httpx - INFO - HTTP Request: POST https://api.openai.com/v1/responses \"HTTP/1.1 200 OK\"\n",
      "2025-10-20 20:57:40 - httpx - INFO - HTTP Request: POST https://api.openai.com/v1/responses \"HTTP/1.1 200 OK\"\n",
      "2025-10-20 20:57:41 - httpx - INFO - HTTP Request: POST https://api.openai.com/v1/responses \"HTTP/1.1 200 OK\"\n",
      "2025-10-20 20:57:42 - httpx - INFO - HTTP Request: POST https://api.openai.com/v1/embeddings \"HTTP/1.1 200 OK\"\n",
      "2025-10-20 20:57:45 - graphiti_core.graphiti - INFO - Completed add_episode in 45895.19906044006 ms\n"
     ]
    },
    {
     "name": "stdout",
     "output_type": "stream",
     "text": [
      "Added episode: 새로운 모델 출시 (text)\n"
     ]
    }
   ],
   "source": [
    "new_episodes = [\n",
    "    {\n",
    "        \"name\": \"새로운 모델 출시\",\n",
    "        \"content\": \"OpenAI의 현재 기본 모델은 8월 8일부로 GPT-5로 변경되었습니다.\"\n",
    "        \"GPT-5는 전반적으로 훨씬 더 스마트하며, 특히 수학, 코딩, 시각적 인식, 의료 분야의 학술적 및 인간 평가 벤치마크에서의 성과에서 확인할 수 있습니다. \"\n",
    "        \"수학(도구 없이 AIME 2025에서 94.6%), 실제 코딩(SWEBench에서 74.9%, 에이더 폴리글롯에서 88%), 멀티모달 이해(MMU에서 84.2$), 의료(HealthBench Hard에서 46.2%) 전반에서 새롭게 최고 기록을 세웠으며 이러한 이점은 일상 사용에도 적용됩니다. \",\n",
    "        \"type\": EpisodeType.text,\n",
    "        \"description\": \"news article\",\n",
    "    }\n",
    "]\n",
    "\n",
    "for i, episode in enumerate(new_episodes):\n",
    "    await graphiti.add_episode(\n",
    "        name=episode[\"name\"],\n",
    "        episode_body=episode[\"content\"]\n",
    "        if isinstance(episode[\"content\"], str)\n",
    "        else json.dumps(episode[\"content\"]),\n",
    "        source=episode[\"type\"],\n",
    "        source_description=episode[\"description\"],\n",
    "        reference_time=datetime.now(timezone.utc),\n",
    "    )\n",
    "    print(f\"Added episode: {episode['name']} ({episode['type'].value})\")"
   ]
  },
  {
   "cell_type": "markdown",
   "id": "b6340e6b",
   "metadata": {},
   "source": [
    "## 2. 에피소드 검색하기\n",
    "\n",
    "### (1) 기본 검색"
   ]
  },
  {
   "cell_type": "code",
   "execution_count": null,
   "id": "7cafb984",
   "metadata": {},
   "outputs": [
    {
     "name": "stderr",
     "output_type": "stream",
     "text": [
      "2025-10-20 21:10:51 - httpx - INFO - HTTP Request: POST https://api.openai.com/v1/embeddings \"HTTP/1.1 200 OK\"\n"
     ]
    },
    {
     "name": "stdout",
     "output_type": "stream",
     "text": [
      "UUID: 19301958-398a-4976-807f-9976251958dd\n",
      "Fact: GPT-5가 OpenAI의 현재 기본 모델이다.\n",
      "Valid from: 2025-10-20 11:56:59.540507+00:00\n",
      "--------------------------------------------------\n",
      "UUID: 12176a8f-c5dc-47c2-af33-b2157b4d8066\n",
      "Fact: OpenAI is an AI 연구 개발 기업 (AI research and development company).\n",
      "Valid from: 2025-10-19 09:23:22.008159+00:00\n",
      "Valid until: 2025-10-19 09:24:03.380744+00:00\n",
      "--------------------------------------------------\n",
      "UUID: 87e7cbf8-d653-4e79-ab97-63782189b381\n",
      "Fact: OpenAI의 기본 모델이 2025-08-08부로 변경되었다.\n",
      "Valid from: 2025-08-08 00:00:00+00:00\n",
      "Valid until: 2025-10-19 09:23:22.008159+00:00\n",
      "--------------------------------------------------\n",
      "UUID: 5ac5606a-d491-410e-ab7b-71f64755fc06\n",
      "Fact: 2024년 5월 기준으로 OpenAI의 기본 모델은 GPT-4o이다.\n",
      "Valid from: 2025-10-19 09:24:03.380744+00:00\n",
      "Valid until: 2025-10-20 11:56:59.540507+00:00\n",
      "--------------------------------------------------\n",
      "UUID: c4478d40-fd0b-4b3c-b12d-44f05a342873\n",
      "Fact: OpenAI's official website is https://openai.com/.\n",
      "Valid from: 2025-10-19 09:23:22.008159+00:00\n",
      "Valid until: 2025-10-19 09:24:03.380744+00:00\n",
      "--------------------------------------------------\n",
      "UUID: 5f91b431-d813-46ed-a171-45c37e67ebbc\n",
      "Fact: OpenAI was founded on 2015-12-08 by Sam Altman.\n",
      "Valid from: 2015-12-08 00:00:00+00:00\n",
      "Valid until: 2025-08-08 00:00:00+00:00\n",
      "--------------------------------------------------\n",
      "UUID: b8eba59b-9a61-424a-afd1-7bdf8c84c760\n",
      "Fact: GPT-5는 도구 없이 AIME 2025에서 94.6%를 기록했다.\n",
      "--------------------------------------------------\n",
      "UUID: a70c838c-d5c6-40a4-9e3b-6dd81018cace\n",
      "Fact: GPT-5는 멀티모달 이해(MMU)에서 84.2%를 기록했다.\n",
      "--------------------------------------------------\n",
      "UUID: 1fbaf8f1-bdcc-435b-abef-92ded9105683\n",
      "Fact: GPT-5는 에이더 폴리글롯에서 88%를 기록했다.\n",
      "--------------------------------------------------\n",
      "UUID: a298db0c-282d-4330-a05a-eec7ba684573\n",
      "Fact: GPT-5는 시각적 인식 분야에서 전반적으로 훨씬 더 스마트하며 벤치마크 성과에서 우수하다.\n",
      "--------------------------------------------------\n"
     ]
    }
   ],
   "source": [
    "query = \"OpenAI의 정보를 알려주세요.\"\n",
    "\n",
    "results = await graphiti.search(query)\n",
    "\n",
    "for result in results:\n",
    "    print(f\"UUID: {result.uuid}\")\n",
    "    print(f\"Fact: {result.fact}\")\n",
    "    if hasattr(result, \"valid_at\") and result.valid_at:\n",
    "        print(f\"Valid from: {result.valid_at}\")\n",
    "    if hasattr(result, \"invalid_at\") and result.invalid_at:\n",
    "        print(f\"Valid until: {result.invalid_at}\")\n",
    "    print(\"-\" * 50)"
   ]
  },
  {
   "cell_type": "markdown",
   "id": "91bcb5ad",
   "metadata": {},
   "source": [
    "### (2) 중심 노드 기반 검색"
   ]
  },
  {
   "cell_type": "code",
   "execution_count": null,
   "id": "a0fb4b35",
   "metadata": {},
   "outputs": [
    {
     "name": "stderr",
     "output_type": "stream",
     "text": [
      "2025-10-20 21:10:59 - httpx - INFO - HTTP Request: POST https://api.openai.com/v1/embeddings \"HTTP/1.1 200 OK\"\n"
     ]
    },
    {
     "name": "stdout",
     "output_type": "stream",
     "text": [
      "UUID: 19301958-398a-4976-807f-9976251958dd\n",
      "Fact: GPT-5가 OpenAI의 현재 기본 모델이다.\n",
      "Valid from: 2025-10-20 11:56:59.540507+00:00\n",
      "--------------------------------------------------\n",
      "UUID: b8eba59b-9a61-424a-afd1-7bdf8c84c760\n",
      "Fact: GPT-5는 도구 없이 AIME 2025에서 94.6%를 기록했다.\n",
      "--------------------------------------------------\n",
      "UUID: a70c838c-d5c6-40a4-9e3b-6dd81018cace\n",
      "Fact: GPT-5는 멀티모달 이해(MMU)에서 84.2%를 기록했다.\n",
      "--------------------------------------------------\n",
      "UUID: a298db0c-282d-4330-a05a-eec7ba684573\n",
      "Fact: GPT-5는 시각적 인식 분야에서 전반적으로 훨씬 더 스마트하며 벤치마크 성과에서 우수하다.\n",
      "--------------------------------------------------\n",
      "UUID: 1fbaf8f1-bdcc-435b-abef-92ded9105683\n",
      "Fact: GPT-5는 에이더 폴리글롯에서 88%를 기록했다.\n",
      "--------------------------------------------------\n",
      "UUID: 9a5323d5-4b1c-48d3-8277-88d1067d33da\n",
      "Fact: GPT-5의 성능상의 이점은 일상 사용에도 적용된다.\n",
      "--------------------------------------------------\n",
      "UUID: 12176a8f-c5dc-47c2-af33-b2157b4d8066\n",
      "Fact: OpenAI is an AI 연구 개발 기업 (AI research and development company).\n",
      "Valid from: 2025-10-19 09:23:22.008159+00:00\n",
      "Valid until: 2025-10-19 09:24:03.380744+00:00\n",
      "--------------------------------------------------\n",
      "UUID: c4478d40-fd0b-4b3c-b12d-44f05a342873\n",
      "Fact: OpenAI's official website is https://openai.com/.\n",
      "Valid from: 2025-10-19 09:23:22.008159+00:00\n",
      "Valid until: 2025-10-19 09:24:03.380744+00:00\n",
      "--------------------------------------------------\n",
      "UUID: 87e7cbf8-d653-4e79-ab97-63782189b381\n",
      "Fact: OpenAI의 기본 모델이 2025-08-08부로 변경되었다.\n",
      "Valid from: 2025-08-08 00:00:00+00:00\n",
      "Valid until: 2025-10-19 09:23:22.008159+00:00\n",
      "--------------------------------------------------\n",
      "UUID: 5f91b431-d813-46ed-a171-45c37e67ebbc\n",
      "Fact: OpenAI was founded on 2015-12-08 by Sam Altman.\n",
      "Valid from: 2015-12-08 00:00:00+00:00\n",
      "Valid until: 2025-08-08 00:00:00+00:00\n",
      "--------------------------------------------------\n"
     ]
    }
   ],
   "source": [
    "query = \"OpenAI에 대해서 알려주세요.\"\n",
    "\n",
    "# 상위 검색 결과의 소스 노드 UUID를 중심 노드로 사용하여 검색합니다.\n",
    "center_node_uuid = results[0].source_node_uuid\n",
    "\n",
    "reranked_results = await graphiti.search(query, center_node_uuid)\n",
    "\n",
    "for result in reranked_results:\n",
    "    print(f\"UUID: {result.uuid}\")\n",
    "    print(f\"Fact: {result.fact}\")\n",
    "    if hasattr(result, \"valid_at\") and result.valid_at:\n",
    "        print(f\"Valid from: {result.valid_at}\")\n",
    "    if hasattr(result, \"invalid_at\") and result.invalid_at:\n",
    "        print(f\"Valid until: {result.invalid_at}\")\n",
    "    print(\"-\" * 50)"
   ]
  },
  {
   "cell_type": "markdown",
   "id": "c4648dd3",
   "metadata": {},
   "source": [
    "### (3) 검색 레피시(NODE_HYBRID_SEARCH_RRF) 사용하여 노드 검색\n",
    "\n",
    "`NODE_HYBRID_SEARCH_RRF`는 Graphiti에서 제공하는 15개의 사전 정의된 검색 레시피(search recipe) 중 하나로, 노드(Node)에 대한 하이브리드 검색을 RRF 재순위화(reranking)와 함께 수행합니다.\n",
    "\n",
    "#### 주요 특징\n",
    "\n",
    "##### 1. 하이브리드 검색 (Hybrid Search)\n",
    "의미적 유사도 검색 (Semantic Search): 임베딩 기반 벡터 검색\n",
    "BM25 전문 검색 (Full-text Search): 키워드 기반 검색\n",
    "두 방식을 결합하여 더 정확한 검색 결과 제공\n",
    "\n",
    "##### 2. RRF (Reciprocal Rank Fusion) 재순위화\n",
    "RRF는 여러 검색 알고리즘의 결과를 결합하는 알고리즘입니다:\n",
    "\n",
    "**작동 방식:**\n",
    "\n",
    "- 각 검색 알고리즘(BM25, 시맨틱 검색)의 결과를 순위화\n",
    "- 각 결과에 역순위 점수(1/rank) 부여\n",
    "- 점수를 합산하여 최종 순위 결정\n",
    "\n",
    "**장점:**\n",
    "\n",
    "- 각 검색 방법의 강점을 활용\n",
    "- 점수 정규화 문제 회피\n",
    "- 간단하면서도 효과적\n",
    "\n",
    "##### 3. 노드 중심 검색\n",
    "\n",
    "엣지(관계)가 아닌 노드(엔티티) 자체를 검색하고 반환합니다."
   ]
  },
  {
   "cell_type": "code",
   "execution_count": null,
   "id": "44969d8c",
   "metadata": {},
   "outputs": [
    {
     "name": "stderr",
     "output_type": "stream",
     "text": [
      "2025-10-20 21:29:38 - httpx - INFO - HTTP Request: POST https://api.openai.com/v1/embeddings \"HTTP/1.1 200 OK\"\n"
     ]
    },
    {
     "name": "stdout",
     "output_type": "stream",
     "text": [
      "Node UUID: 23ce198c-85cd-4967-a62f-d51905b48956\n",
      "Node Name: GPT-5\n",
      "Summary: GPT-5 became OpenAI's default model as of August 8, with superior performance in math, coding, multimodal understanding, and medical benchmarks.\n",
      "Labels: ['Entity']\n",
      "--------------------------------------------------\n",
      "Node UUID: df493d97-a036-4322-9bf6-45f786c0fa7c\n",
      "Node Name: GPT-4o\n",
      "Summary: GPT-4o is OpenAI's base model as of May 2024.\n",
      "Labels: ['Entity']\n",
      "--------------------------------------------------\n",
      "Node UUID: a4791e46-e6ee-4d2d-ae91-2c6c3c9f0d3a\n",
      "Node Name: MMU\n",
      "Summary: MMU의 맥락에서 GPT-5는 수학, 코딩, 시각적 인식, 의료 벤치마크에서 최고 성과를 기록했다.\n",
      "Labels: ['Entity']\n",
      "--------------------------------------------------\n",
      "Node UUID: 3e17b8c3-0f1b-48a7-b250-711861b554b3\n",
      "Node Name: 일상 사용\n",
      "Summary: 일상 사용: 2024년 8월 8일부로 GPT-5 도입으로 수학·코딩·시각적 인식·의료 벤치마크에서 최고 성과를 기록한다.\n",
      "Labels: ['Entity']\n",
      "--------------------------------------------------\n",
      "Node UUID: 1f09f7c6-c920-4e6a-a43a-a8782f705f26\n",
      "Node Name: SWEBench\n",
      "Summary: SWEBench’s benchmark performance highlighted: strong coding, multi-modal understanding, and medical benchmarks under GPT-5 (e.g., SWEBench 74.9%); overall improved capabilities in GPT-5.\n",
      "Labels: ['Entity']\n",
      "--------------------------------------------------\n"
     ]
    }
   ],
   "source": [
    "from graphiti_core.search.search_config_recipes import NODE_HYBRID_SEARCH_RRF\n",
    "\n",
    "# 1. 기본 사용 (limit 조정)\n",
    "node_search_config = NODE_HYBRID_SEARCH_RRF.model_copy(deep=True)\n",
    "node_search_config.limit = 5\n",
    "\n",
    "# 2. 검색 실행\n",
    "node_search_results = await graphiti.search_(\n",
    "    query=\"gpt-5\",\n",
    "    config=node_search_config,\n",
    ")\n",
    "\n",
    "# 3. 결과 처리\n",
    "for node in node_search_results.nodes:\n",
    "    print(f\"Node UUID: {node.uuid}\")\n",
    "    print(f\"Node Name: {node.name}\")\n",
    "    print(f\"Summary: {node.summary}\")\n",
    "    print(f\"Labels: {node.labels}\")\n",
    "    print(\"-\" * 50)"
   ]
  },
  {
   "cell_type": "markdown",
   "id": "47f1fc1b",
   "metadata": {},
   "source": [
    "## Graphiti 에이전트 구현하기"
   ]
  },
  {
   "cell_type": "code",
   "execution_count": null,
   "id": "7b5df6ad",
   "metadata": {},
   "outputs": [],
   "source": [
    "from langchain.agent import init"
   ]
  },
  {
   "cell_type": "markdown",
   "id": "46b3929f",
   "metadata": {},
   "source": []
  }
 ],
 "metadata": {
  "kernelspec": {
   "display_name": ".venv-1 (3.14.0)",
   "language": "python",
   "name": "python3"
  },
  "language_info": {
   "codemirror_mode": {
    "name": "ipython",
    "version": 3
   },
   "file_extension": ".py",
   "mimetype": "text/x-python",
   "name": "python",
   "nbconvert_exporter": "python",
   "pygments_lexer": "ipython3",
   "version": "3.14.0"
  }
 },
 "nbformat": 4,
 "nbformat_minor": 5
}
