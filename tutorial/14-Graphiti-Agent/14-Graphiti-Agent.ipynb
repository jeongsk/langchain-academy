{
 "cells": [
  {
   "cell_type": "markdown",
   "id": "4e670849",
   "metadata": {},
   "source": [
    "# Graphiti Agent\n",
    "\n",
    "그래피티(Graphiti)는 AI 에이전트를 위해 설계된 시간 인식 지식 그래프 구축을 위한 파이썬 프레임워크입니다. 일괄 재계산 없이 지식 그래프에 대한 실시간 증분 업데이트를 가능하게 하여, 관계와 정보가 시간에 따라 진화하는 동적 환경에 적합합니다.\n",
    "\n",
    "![](https://steemitimages.com/300x0/https://github.com/gongwon-nayeon/graphiti-agent-tutorial/raw/main/graphiti_agent.png)\n",
    "\n",
    "참고: https://github.com/gongwon-nayeon/graphiti-agent-tutorial/blob/main/graphiti_agent.ipynb"
   ]
  },
  {
   "cell_type": "markdown",
   "id": "ab7beba7",
   "metadata": {},
   "source": []
  },
  {
   "cell_type": "markdown",
   "id": "7ac931ee",
   "metadata": {},
   "source": [
    "이번 튜토리얼에서는 [Neo4j Sandbox](https://sandbox.neo4j.com/)를 사용합니다.\n",
    "> Neo4j Sandbox란? **온라인 그래프 데이터베이스**로, 무료 클라우드 기반 Neo4j 인스턴스를 구축할 수 있기 떄문에 간편하게 리소스를 빌려 그래프DB를 실험 할 수 있습니다."
   ]
  },
  {
   "cell_type": "markdown",
   "id": "c8021a34",
   "metadata": {},
   "source": [
    "## 설치하기\n",
    "\n",
    "필요한 패키지((graphiti, langgraph, langchain, 등)을 설치합니다."
   ]
  },
  {
   "cell_type": "code",
   "execution_count": 1,
   "id": "8354037a",
   "metadata": {},
   "outputs": [],
   "source": [
    "%%capture --no-stderr\n",
    "%pip install -qU langgraph langchain-core langchain-openai \n",
    "%pip install -qU graphiti-core"
   ]
  },
  {
   "cell_type": "markdown",
   "id": "5debdec1",
   "metadata": {},
   "source": [
    "## 환경 설정\n",
    "\n",
    "graphiti를 실행하는데 필요한 환경변수를 설정합니다. graphiti는 OpenAI를 사용하므로 OpenAI API Key가 필요합니다."
   ]
  },
  {
   "cell_type": "code",
   "execution_count": 2,
   "id": "d7225c06",
   "metadata": {},
   "outputs": [],
   "source": [
    "import os\n",
    "from dotenv import load_dotenv\n",
    "\n",
    "load_dotenv(override=True)\n",
    "\n",
    "os.environ[\"LANGSMITH_TRACING\"] = \"true\"\n",
    "os.environ[\"LANGSMITH_PROJECT\"] = \"langchain-academy\"\n",
    "\n",
    "neo4j_uri = os.environ.get(\"NEO4J_URI\")\n",
    "neo4j_user = os.environ.get(\"NEO4J_USERNAME\")\n",
    "neo4j_password = os.environ.get(\"NEO4J_PASSWORD\")\n",
    "\n",
    "if not neo4j_uri or not neo4j_user or not neo4j_password:\n",
    "    raise ValueError(\"NEO4J_URI, NEO4J_USERNAME, and NEO4J_PASSWORD must be set\")"
   ]
  },
  {
   "cell_type": "code",
   "execution_count": 3,
   "id": "68e15552",
   "metadata": {},
   "outputs": [],
   "source": [
    "import logging\n",
    "\n",
    "logging.basicConfig(\n",
    "    level=logging.INFO,\n",
    "    format=\"%(asctime)s - %(name)s - %(levelname)s - %(message)s\",\n",
    "    datefmt=\"%Y-%m-%d %H:%M:%S\",\n",
    ")\n",
    "logger = logging.getLogger(__name__)"
   ]
  },
  {
   "cell_type": "markdown",
   "id": "289f4e44",
   "metadata": {},
   "source": [
    "## Graphiti 사용하기"
   ]
  },
  {
   "cell_type": "code",
   "execution_count": 5,
   "id": "9dd19a7b",
   "metadata": {},
   "outputs": [],
   "source": [
    "from graphiti_core import Graphiti\n",
    "\n",
    "graphiti = Graphiti(neo4j_uri, neo4j_user, neo4j_password)\n",
    "\n",
    "await graphiti.build_indices_and_constraints()"
   ]
  },
  {
   "cell_type": "markdown",
   "id": "8a2303bc",
   "metadata": {},
   "source": [
    "## 1. 에피소드 추가\n",
    "\n",
    "에피소드는 Graphiti의 기본 단위입니다.\n",
    "\n",
    "**에피소드 유형**은 다음과 같습니다.\n",
    "- `text`: 비정형 택스트 데이터\n",
    "- `message`: 대화형 메시지 형식\n",
    "- `json`: 구조화된 데이터"
   ]
  },
  {
   "cell_type": "code",
   "execution_count": 6,
   "id": "ae2698ec",
   "metadata": {},
   "outputs": [],
   "source": [
    "from graphiti_core.nodes import EpisodeType\n",
    "\n",
    "episodes = [\n",
    "    {\n",
    "        \"type\": EpisodeType.json,\n",
    "        \"name\": \"OpenAI\",\n",
    "        \"content\": {\n",
    "            \"name\": \"OpenAI\",\n",
    "            \"founded\": \"2015-12-8\",\n",
    "            \"founders\": \"Sam Altman\",\n",
    "            \"type\": \"AI 연구 개발 기업\",\n",
    "            \"official_website\": \"https://openai.com/\",\n",
    "        },\n",
    "        \"description\": \"article metadata\",\n",
    "    },\n",
    "    {\n",
    "        \"type\": EpisodeType.text,\n",
    "        \"name\": \"OpenAI의 기본 모델\",\n",
    "        \"content\": \"2024년 5월 기준, OpenAI의 기본 모델은 GPT-4o입니다.\",\n",
    "        \"description\": \"news article\",\n",
    "    },\n",
    "]"
   ]
  },
  {
   "cell_type": "code",
   "execution_count": 7,
   "id": "6a6b9818",
   "metadata": {},
   "outputs": [
    {
     "name": "stderr",
     "output_type": "stream",
     "text": [
      "2025-10-19 18:23:25 - neo4j.notifications - WARNING - Received notification from DBMS server: <GqlStatusObject gql_status='01N52', status_description='warn: property key does not exist. The property `entity_edges` does not exist in database `neo4j`. Verify that the spelling is correct.', position=<SummaryInputPosition line=17, column=7, offset=473>, raw_classification='UNRECOGNIZED', classification=<NotificationClassification.UNRECOGNIZED: 'UNRECOGNIZED'>, raw_severity='WARNING', severity=<NotificationSeverity.WARNING: 'WARNING'>, diagnostic_record={'_classification': 'UNRECOGNIZED', '_severity': 'WARNING', '_position': {'offset': 473, 'line': 17, 'column': 7}, 'OPERATION': '', 'OPERATION_CODE': '0', 'CURRENT_SCHEMA': '/'}> for query: '\\n                                    MATCH (e:Episodic)\\n                                    WHERE e.valid_at <= $reference_time\\n                                    \\nAND e.group_id IN $group_ids\\nAND e.source = $source\\n        RETURN\\n        \\n    e.uuid AS uuid,\\n    e.name AS name,\\n    e.group_id AS group_id,\\n    e.created_at AS created_at,\\n    e.source AS source,\\n    e.source_description AS source_description,\\n    e.content AS content,\\n    e.valid_at AS valid_at,\\n    e.entity_edges AS entity_edges\\n\\n        ORDER BY e.valid_at DESC\\n        LIMIT $num_episodes\\n        '\n",
      "2025-10-19 18:23:30 - httpx - INFO - HTTP Request: POST https://api.openai.com/v1/responses \"HTTP/1.1 200 OK\"\n",
      "2025-10-19 18:23:31 - httpx - INFO - HTTP Request: POST https://api.openai.com/v1/embeddings \"HTTP/1.1 200 OK\"\n",
      "2025-10-19 18:23:31 - httpx - INFO - HTTP Request: POST https://api.openai.com/v1/embeddings \"HTTP/1.1 200 OK\"\n",
      "2025-10-19 18:23:31 - httpx - INFO - HTTP Request: POST https://api.openai.com/v1/embeddings \"HTTP/1.1 200 OK\"\n",
      "2025-10-19 18:23:31 - httpx - INFO - HTTP Request: POST https://api.openai.com/v1/embeddings \"HTTP/1.1 200 OK\"\n",
      "2025-10-19 18:23:33 - neo4j.notifications - WARNING - Received notification from DBMS server: <GqlStatusObject gql_status='01N52', status_description='warn: property key does not exist. The property `name_embedding` does not exist in database `neo4j`. Verify that the spelling is correct.', position=<SummaryInputPosition line=4, column=48, offset=314>, raw_classification='UNRECOGNIZED', classification=<NotificationClassification.UNRECOGNIZED: 'UNRECOGNIZED'>, raw_severity='WARNING', severity=<NotificationSeverity.WARNING: 'WARNING'>, diagnostic_record={'_classification': 'UNRECOGNIZED', '_severity': 'WARNING', '_position': {'offset': 314, 'line': 4, 'column': 48}, 'OPERATION': '', 'OPERATION_CODE': '0', 'CURRENT_SCHEMA': '/'}> for query: '\\n                                                                                                                            MATCH (n:Entity)\\n                                                                                                                            \\n            WITH n, vector.similarity.cosine(n.name_embedding, $search_vector) AS score\\n            WHERE score > $min_score\\n            RETURN\\n            \\n        n.uuid AS uuid,\\n        n.name AS name,\\n        n.group_id AS group_id,\\n        n.created_at AS created_at,\\n        n.summary AS summary,\\n        labels(n) AS labels,\\n        properties(n) AS attributes\\n    \\n            ORDER BY score DESC\\n            LIMIT $limit\\n            '\n",
      "2025-10-19 18:23:33 - neo4j.notifications - WARNING - Received notification from DBMS server: <GqlStatusObject gql_status='01N52', status_description='warn: property key does not exist. The property `name_embedding` does not exist in database `neo4j`. Verify that the spelling is correct.', position=<SummaryInputPosition line=4, column=48, offset=314>, raw_classification='UNRECOGNIZED', classification=<NotificationClassification.UNRECOGNIZED: 'UNRECOGNIZED'>, raw_severity='WARNING', severity=<NotificationSeverity.WARNING: 'WARNING'>, diagnostic_record={'_classification': 'UNRECOGNIZED', '_severity': 'WARNING', '_position': {'offset': 314, 'line': 4, 'column': 48}, 'OPERATION': '', 'OPERATION_CODE': '0', 'CURRENT_SCHEMA': '/'}> for query: '\\n                                                                                                                            MATCH (n:Entity)\\n                                                                                                                            \\n            WITH n, vector.similarity.cosine(n.name_embedding, $search_vector) AS score\\n            WHERE score > $min_score\\n            RETURN\\n            \\n        n.uuid AS uuid,\\n        n.name AS name,\\n        n.group_id AS group_id,\\n        n.created_at AS created_at,\\n        n.summary AS summary,\\n        labels(n) AS labels,\\n        properties(n) AS attributes\\n    \\n            ORDER BY score DESC\\n            LIMIT $limit\\n            '\n",
      "2025-10-19 18:23:33 - neo4j.notifications - WARNING - Received notification from DBMS server: <GqlStatusObject gql_status='01N52', status_description='warn: property key does not exist. The property `name_embedding` does not exist in database `neo4j`. Verify that the spelling is correct.', position=<SummaryInputPosition line=4, column=48, offset=314>, raw_classification='UNRECOGNIZED', classification=<NotificationClassification.UNRECOGNIZED: 'UNRECOGNIZED'>, raw_severity='WARNING', severity=<NotificationSeverity.WARNING: 'WARNING'>, diagnostic_record={'_classification': 'UNRECOGNIZED', '_severity': 'WARNING', '_position': {'offset': 314, 'line': 4, 'column': 48}, 'OPERATION': '', 'OPERATION_CODE': '0', 'CURRENT_SCHEMA': '/'}> for query: '\\n                                                                                                                            MATCH (n:Entity)\\n                                                                                                                            \\n            WITH n, vector.similarity.cosine(n.name_embedding, $search_vector) AS score\\n            WHERE score > $min_score\\n            RETURN\\n            \\n        n.uuid AS uuid,\\n        n.name AS name,\\n        n.group_id AS group_id,\\n        n.created_at AS created_at,\\n        n.summary AS summary,\\n        labels(n) AS labels,\\n        properties(n) AS attributes\\n    \\n            ORDER BY score DESC\\n            LIMIT $limit\\n            '\n",
      "2025-10-19 18:23:33 - neo4j.notifications - WARNING - Received notification from DBMS server: <GqlStatusObject gql_status='01N52', status_description='warn: property key does not exist. The property `name_embedding` does not exist in database `neo4j`. Verify that the spelling is correct.', position=<SummaryInputPosition line=4, column=48, offset=314>, raw_classification='UNRECOGNIZED', classification=<NotificationClassification.UNRECOGNIZED: 'UNRECOGNIZED'>, raw_severity='WARNING', severity=<NotificationSeverity.WARNING: 'WARNING'>, diagnostic_record={'_classification': 'UNRECOGNIZED', '_severity': 'WARNING', '_position': {'offset': 314, 'line': 4, 'column': 48}, 'OPERATION': '', 'OPERATION_CODE': '0', 'CURRENT_SCHEMA': '/'}> for query: '\\n                                                                                                                            MATCH (n:Entity)\\n                                                                                                                            \\n            WITH n, vector.similarity.cosine(n.name_embedding, $search_vector) AS score\\n            WHERE score > $min_score\\n            RETURN\\n            \\n        n.uuid AS uuid,\\n        n.name AS name,\\n        n.group_id AS group_id,\\n        n.created_at AS created_at,\\n        n.summary AS summary,\\n        labels(n) AS labels,\\n        properties(n) AS attributes\\n    \\n            ORDER BY score DESC\\n            LIMIT $limit\\n            '\n",
      "2025-10-19 18:23:36 - httpx - INFO - HTTP Request: POST https://api.openai.com/v1/responses \"HTTP/1.1 200 OK\"\n",
      "2025-10-19 18:23:42 - httpx - INFO - HTTP Request: POST https://api.openai.com/v1/responses \"HTTP/1.1 200 OK\"\n",
      "2025-10-19 18:23:43 - httpx - INFO - HTTP Request: POST https://api.openai.com/v1/embeddings \"HTTP/1.1 200 OK\"\n",
      "2025-10-19 18:23:46 - neo4j.notifications - WARNING - Received notification from DBMS server: <GqlStatusObject gql_status='01N52', status_description='warn: property key does not exist. The property `episodes` does not exist in database `neo4j`. Verify that the spelling is correct.', position=<SummaryInputPosition line=13, column=11, offset=372>, raw_classification='UNRECOGNIZED', classification=<NotificationClassification.UNRECOGNIZED: 'UNRECOGNIZED'>, raw_severity='WARNING', severity=<NotificationSeverity.WARNING: 'WARNING'>, diagnostic_record={'_classification': 'UNRECOGNIZED', '_severity': 'WARNING', '_position': {'offset': 372, 'line': 13, 'column': 11}, 'OPERATION': '', 'OPERATION_CODE': '0', 'CURRENT_SCHEMA': '/'}> for query: '\\n            MATCH (n:Entity {uuid: $source_node_uuid})-[e:RELATES_TO]->(m:Entity {uuid: $target_node_uuid})\\n        \\n            RETURN\\n            \\n        e.uuid AS uuid,\\n        n.uuid AS source_node_uuid,\\n        m.uuid AS target_node_uuid,\\n        e.group_id AS group_id,\\n        e.created_at AS created_at,\\n        e.name AS name,\\n        e.fact AS fact,\\n        e.episodes AS episodes,\\n        e.expired_at AS expired_at,\\n        e.valid_at AS valid_at,\\n        e.invalid_at AS invalid_at,\\n    properties(e) AS attributes'\n",
      "2025-10-19 18:23:46 - neo4j.notifications - WARNING - Received notification from DBMS server: <GqlStatusObject gql_status='01N52', status_description='warn: property key does not exist. The property `episodes` does not exist in database `neo4j`. Verify that the spelling is correct.', position=<SummaryInputPosition line=13, column=11, offset=372>, raw_classification='UNRECOGNIZED', classification=<NotificationClassification.UNRECOGNIZED: 'UNRECOGNIZED'>, raw_severity='WARNING', severity=<NotificationSeverity.WARNING: 'WARNING'>, diagnostic_record={'_classification': 'UNRECOGNIZED', '_severity': 'WARNING', '_position': {'offset': 372, 'line': 13, 'column': 11}, 'OPERATION': '', 'OPERATION_CODE': '0', 'CURRENT_SCHEMA': '/'}> for query: '\\n            MATCH (n:Entity {uuid: $source_node_uuid})-[e:RELATES_TO]->(m:Entity {uuid: $target_node_uuid})\\n        \\n            RETURN\\n            \\n        e.uuid AS uuid,\\n        n.uuid AS source_node_uuid,\\n        m.uuid AS target_node_uuid,\\n        e.group_id AS group_id,\\n        e.created_at AS created_at,\\n        e.name AS name,\\n        e.fact AS fact,\\n        e.episodes AS episodes,\\n        e.expired_at AS expired_at,\\n        e.valid_at AS valid_at,\\n        e.invalid_at AS invalid_at,\\n    properties(e) AS attributes'\n",
      "2025-10-19 18:23:46 - neo4j.notifications - WARNING - Received notification from DBMS server: <GqlStatusObject gql_status='01N52', status_description='warn: property key does not exist. The property `episodes` does not exist in database `neo4j`. Verify that the spelling is correct.', position=<SummaryInputPosition line=13, column=11, offset=372>, raw_classification='UNRECOGNIZED', classification=<NotificationClassification.UNRECOGNIZED: 'UNRECOGNIZED'>, raw_severity='WARNING', severity=<NotificationSeverity.WARNING: 'WARNING'>, diagnostic_record={'_classification': 'UNRECOGNIZED', '_severity': 'WARNING', '_position': {'offset': 372, 'line': 13, 'column': 11}, 'OPERATION': '', 'OPERATION_CODE': '0', 'CURRENT_SCHEMA': '/'}> for query: '\\n            MATCH (n:Entity {uuid: $source_node_uuid})-[e:RELATES_TO]->(m:Entity {uuid: $target_node_uuid})\\n        \\n            RETURN\\n            \\n        e.uuid AS uuid,\\n        n.uuid AS source_node_uuid,\\n        m.uuid AS target_node_uuid,\\n        e.group_id AS group_id,\\n        e.created_at AS created_at,\\n        e.name AS name,\\n        e.fact AS fact,\\n        e.episodes AS episodes,\\n        e.expired_at AS expired_at,\\n        e.valid_at AS valid_at,\\n        e.invalid_at AS invalid_at,\\n    properties(e) AS attributes'\n",
      "2025-10-19 18:23:46 - httpx - INFO - HTTP Request: POST https://api.openai.com/v1/embeddings \"HTTP/1.1 200 OK\"\n",
      "2025-10-19 18:23:46 - httpx - INFO - HTTP Request: POST https://api.openai.com/v1/embeddings \"HTTP/1.1 200 OK\"\n",
      "2025-10-19 18:23:47 - httpx - INFO - HTTP Request: POST https://api.openai.com/v1/embeddings \"HTTP/1.1 200 OK\"\n",
      "2025-10-19 18:23:49 - neo4j.notifications - WARNING - Received notification from DBMS server: <GqlStatusObject gql_status='01N52', status_description='warn: property key does not exist. The property `episodes` does not exist in database `neo4j`. Verify that the spelling is correct.', position=<SummaryInputPosition line=15, column=11, offset=510>, raw_classification='UNRECOGNIZED', classification=<NotificationClassification.UNRECOGNIZED: 'UNRECOGNIZED'>, raw_severity='WARNING', severity=<NotificationSeverity.WARNING: 'WARNING'>, diagnostic_record={'_classification': 'UNRECOGNIZED', '_severity': 'WARNING', '_position': {'offset': 510, 'line': 15, 'column': 11}, 'OPERATION': '', 'OPERATION_CODE': '0', 'CURRENT_SCHEMA': '/'}> for query: 'CALL db.index.fulltext.queryRelationships(\"edge_name_and_fact\", $query, {limit: $limit})\\n    YIELD relationship AS rel, score\\n    MATCH (n:Entity)-[e:RELATES_TO {uuid: rel.uuid}]->(m:Entity)\\n     WHERE e.uuid in $edge_uuids\\n            WITH e, score, n, m\\n            RETURN\\n            \\n        e.uuid AS uuid,\\n        n.uuid AS source_node_uuid,\\n        m.uuid AS target_node_uuid,\\n        e.group_id AS group_id,\\n        e.created_at AS created_at,\\n        e.name AS name,\\n        e.fact AS fact,\\n        e.episodes AS episodes,\\n        e.expired_at AS expired_at,\\n        e.valid_at AS valid_at,\\n        e.invalid_at AS invalid_at,\\n    properties(e) AS attributes\\n            ORDER BY score DESC\\n            LIMIT $limit\\n            '\n",
      "2025-10-19 18:23:49 - neo4j.notifications - WARNING - Received notification from DBMS server: <GqlStatusObject gql_status='01N52', status_description='warn: property key does not exist. The property `episodes` does not exist in database `neo4j`. Verify that the spelling is correct.', position=<SummaryInputPosition line=15, column=11, offset=510>, raw_classification='UNRECOGNIZED', classification=<NotificationClassification.UNRECOGNIZED: 'UNRECOGNIZED'>, raw_severity='WARNING', severity=<NotificationSeverity.WARNING: 'WARNING'>, diagnostic_record={'_classification': 'UNRECOGNIZED', '_severity': 'WARNING', '_position': {'offset': 510, 'line': 15, 'column': 11}, 'OPERATION': '', 'OPERATION_CODE': '0', 'CURRENT_SCHEMA': '/'}> for query: 'CALL db.index.fulltext.queryRelationships(\"edge_name_and_fact\", $query, {limit: $limit})\\n    YIELD relationship AS rel, score\\n    MATCH (n:Entity)-[e:RELATES_TO {uuid: rel.uuid}]->(m:Entity)\\n     WHERE e.uuid in $edge_uuids\\n            WITH e, score, n, m\\n            RETURN\\n            \\n        e.uuid AS uuid,\\n        n.uuid AS source_node_uuid,\\n        m.uuid AS target_node_uuid,\\n        e.group_id AS group_id,\\n        e.created_at AS created_at,\\n        e.name AS name,\\n        e.fact AS fact,\\n        e.episodes AS episodes,\\n        e.expired_at AS expired_at,\\n        e.valid_at AS valid_at,\\n        e.invalid_at AS invalid_at,\\n    properties(e) AS attributes\\n            ORDER BY score DESC\\n            LIMIT $limit\\n            '\n",
      "2025-10-19 18:23:49 - neo4j.notifications - WARNING - Received notification from DBMS server: <GqlStatusObject gql_status='01N52', status_description='warn: property key does not exist. The property `fact_embedding` does not exist in database `neo4j`. Verify that the spelling is correct.', position=<SummaryInputPosition line=4, column=63, offset=148>, raw_classification='UNRECOGNIZED', classification=<NotificationClassification.UNRECOGNIZED: 'UNRECOGNIZED'>, raw_severity='WARNING', severity=<NotificationSeverity.WARNING: 'WARNING'>, diagnostic_record={'_classification': 'UNRECOGNIZED', '_severity': 'WARNING', '_position': {'offset': 148, 'line': 4, 'column': 63}, 'OPERATION': '', 'OPERATION_CODE': '0', 'CURRENT_SCHEMA': '/'}> for query: '\\n        MATCH (n:Entity)-[e:RELATES_TO]->(m:Entity)\\n     WHERE e.uuid in $edge_uuids\\n            WITH DISTINCT e, n, m, vector.similarity.cosine(e.fact_embedding, $search_vector) AS score\\n            WHERE score > $min_score\\n            RETURN\\n            \\n        e.uuid AS uuid,\\n        n.uuid AS source_node_uuid,\\n        m.uuid AS target_node_uuid,\\n        e.group_id AS group_id,\\n        e.created_at AS created_at,\\n        e.name AS name,\\n        e.fact AS fact,\\n        e.episodes AS episodes,\\n        e.expired_at AS expired_at,\\n        e.valid_at AS valid_at,\\n        e.invalid_at AS invalid_at,\\n    properties(e) AS attributes\\n            ORDER BY score DESC\\n            LIMIT $limit\\n            '\n",
      "2025-10-19 18:23:49 - neo4j.notifications - WARNING - Received notification from DBMS server: <GqlStatusObject gql_status='01N52', status_description='warn: property key does not exist. The property `episodes` does not exist in database `neo4j`. Verify that the spelling is correct.', position=<SummaryInputPosition line=15, column=11, offset=480>, raw_classification='UNRECOGNIZED', classification=<NotificationClassification.UNRECOGNIZED: 'UNRECOGNIZED'>, raw_severity='WARNING', severity=<NotificationSeverity.WARNING: 'WARNING'>, diagnostic_record={'_classification': 'UNRECOGNIZED', '_severity': 'WARNING', '_position': {'offset': 480, 'line': 15, 'column': 11}, 'OPERATION': '', 'OPERATION_CODE': '0', 'CURRENT_SCHEMA': '/'}> for query: '\\n        MATCH (n:Entity)-[e:RELATES_TO]->(m:Entity)\\n     WHERE e.uuid in $edge_uuids\\n            WITH DISTINCT e, n, m, vector.similarity.cosine(e.fact_embedding, $search_vector) AS score\\n            WHERE score > $min_score\\n            RETURN\\n            \\n        e.uuid AS uuid,\\n        n.uuid AS source_node_uuid,\\n        m.uuid AS target_node_uuid,\\n        e.group_id AS group_id,\\n        e.created_at AS created_at,\\n        e.name AS name,\\n        e.fact AS fact,\\n        e.episodes AS episodes,\\n        e.expired_at AS expired_at,\\n        e.valid_at AS valid_at,\\n        e.invalid_at AS invalid_at,\\n    properties(e) AS attributes\\n            ORDER BY score DESC\\n            LIMIT $limit\\n            '\n",
      "2025-10-19 18:23:49 - neo4j.notifications - WARNING - Received notification from DBMS server: <GqlStatusObject gql_status='01N52', status_description='warn: property key does not exist. The property `episodes` does not exist in database `neo4j`. Verify that the spelling is correct.', position=<SummaryInputPosition line=15, column=11, offset=510>, raw_classification='UNRECOGNIZED', classification=<NotificationClassification.UNRECOGNIZED: 'UNRECOGNIZED'>, raw_severity='WARNING', severity=<NotificationSeverity.WARNING: 'WARNING'>, diagnostic_record={'_classification': 'UNRECOGNIZED', '_severity': 'WARNING', '_position': {'offset': 510, 'line': 15, 'column': 11}, 'OPERATION': '', 'OPERATION_CODE': '0', 'CURRENT_SCHEMA': '/'}> for query: 'CALL db.index.fulltext.queryRelationships(\"edge_name_and_fact\", $query, {limit: $limit})\\n    YIELD relationship AS rel, score\\n    MATCH (n:Entity)-[e:RELATES_TO {uuid: rel.uuid}]->(m:Entity)\\n     WHERE e.uuid in $edge_uuids\\n            WITH e, score, n, m\\n            RETURN\\n            \\n        e.uuid AS uuid,\\n        n.uuid AS source_node_uuid,\\n        m.uuid AS target_node_uuid,\\n        e.group_id AS group_id,\\n        e.created_at AS created_at,\\n        e.name AS name,\\n        e.fact AS fact,\\n        e.episodes AS episodes,\\n        e.expired_at AS expired_at,\\n        e.valid_at AS valid_at,\\n        e.invalid_at AS invalid_at,\\n    properties(e) AS attributes\\n            ORDER BY score DESC\\n            LIMIT $limit\\n            '\n",
      "2025-10-19 18:23:49 - neo4j.notifications - WARNING - Received notification from DBMS server: <GqlStatusObject gql_status='01N52', status_description='warn: property key does not exist. The property `fact_embedding` does not exist in database `neo4j`. Verify that the spelling is correct.', position=<SummaryInputPosition line=4, column=63, offset=148>, raw_classification='UNRECOGNIZED', classification=<NotificationClassification.UNRECOGNIZED: 'UNRECOGNIZED'>, raw_severity='WARNING', severity=<NotificationSeverity.WARNING: 'WARNING'>, diagnostic_record={'_classification': 'UNRECOGNIZED', '_severity': 'WARNING', '_position': {'offset': 148, 'line': 4, 'column': 63}, 'OPERATION': '', 'OPERATION_CODE': '0', 'CURRENT_SCHEMA': '/'}> for query: '\\n        MATCH (n:Entity)-[e:RELATES_TO]->(m:Entity)\\n     WHERE e.uuid in $edge_uuids\\n            WITH DISTINCT e, n, m, vector.similarity.cosine(e.fact_embedding, $search_vector) AS score\\n            WHERE score > $min_score\\n            RETURN\\n            \\n        e.uuid AS uuid,\\n        n.uuid AS source_node_uuid,\\n        m.uuid AS target_node_uuid,\\n        e.group_id AS group_id,\\n        e.created_at AS created_at,\\n        e.name AS name,\\n        e.fact AS fact,\\n        e.episodes AS episodes,\\n        e.expired_at AS expired_at,\\n        e.valid_at AS valid_at,\\n        e.invalid_at AS invalid_at,\\n    properties(e) AS attributes\\n            ORDER BY score DESC\\n            LIMIT $limit\\n            '\n",
      "2025-10-19 18:23:49 - neo4j.notifications - WARNING - Received notification from DBMS server: <GqlStatusObject gql_status='01N52', status_description='warn: property key does not exist. The property `episodes` does not exist in database `neo4j`. Verify that the spelling is correct.', position=<SummaryInputPosition line=15, column=11, offset=480>, raw_classification='UNRECOGNIZED', classification=<NotificationClassification.UNRECOGNIZED: 'UNRECOGNIZED'>, raw_severity='WARNING', severity=<NotificationSeverity.WARNING: 'WARNING'>, diagnostic_record={'_classification': 'UNRECOGNIZED', '_severity': 'WARNING', '_position': {'offset': 480, 'line': 15, 'column': 11}, 'OPERATION': '', 'OPERATION_CODE': '0', 'CURRENT_SCHEMA': '/'}> for query: '\\n        MATCH (n:Entity)-[e:RELATES_TO]->(m:Entity)\\n     WHERE e.uuid in $edge_uuids\\n            WITH DISTINCT e, n, m, vector.similarity.cosine(e.fact_embedding, $search_vector) AS score\\n            WHERE score > $min_score\\n            RETURN\\n            \\n        e.uuid AS uuid,\\n        n.uuid AS source_node_uuid,\\n        m.uuid AS target_node_uuid,\\n        e.group_id AS group_id,\\n        e.created_at AS created_at,\\n        e.name AS name,\\n        e.fact AS fact,\\n        e.episodes AS episodes,\\n        e.expired_at AS expired_at,\\n        e.valid_at AS valid_at,\\n        e.invalid_at AS invalid_at,\\n    properties(e) AS attributes\\n            ORDER BY score DESC\\n            LIMIT $limit\\n            '\n",
      "2025-10-19 18:23:49 - neo4j.notifications - WARNING - Received notification from DBMS server: <GqlStatusObject gql_status='01N52', status_description='warn: property key does not exist. The property `fact_embedding` does not exist in database `neo4j`. Verify that the spelling is correct.', position=<SummaryInputPosition line=4, column=63, offset=148>, raw_classification='UNRECOGNIZED', classification=<NotificationClassification.UNRECOGNIZED: 'UNRECOGNIZED'>, raw_severity='WARNING', severity=<NotificationSeverity.WARNING: 'WARNING'>, diagnostic_record={'_classification': 'UNRECOGNIZED', '_severity': 'WARNING', '_position': {'offset': 148, 'line': 4, 'column': 63}, 'OPERATION': '', 'OPERATION_CODE': '0', 'CURRENT_SCHEMA': '/'}> for query: '\\n        MATCH (n:Entity)-[e:RELATES_TO]->(m:Entity)\\n     WHERE e.uuid in $edge_uuids\\n            WITH DISTINCT e, n, m, vector.similarity.cosine(e.fact_embedding, $search_vector) AS score\\n            WHERE score > $min_score\\n            RETURN\\n            \\n        e.uuid AS uuid,\\n        n.uuid AS source_node_uuid,\\n        m.uuid AS target_node_uuid,\\n        e.group_id AS group_id,\\n        e.created_at AS created_at,\\n        e.name AS name,\\n        e.fact AS fact,\\n        e.episodes AS episodes,\\n        e.expired_at AS expired_at,\\n        e.valid_at AS valid_at,\\n        e.invalid_at AS invalid_at,\\n    properties(e) AS attributes\\n            ORDER BY score DESC\\n            LIMIT $limit\\n            '\n",
      "2025-10-19 18:23:49 - neo4j.notifications - WARNING - Received notification from DBMS server: <GqlStatusObject gql_status='01N52', status_description='warn: property key does not exist. The property `episodes` does not exist in database `neo4j`. Verify that the spelling is correct.', position=<SummaryInputPosition line=15, column=11, offset=480>, raw_classification='UNRECOGNIZED', classification=<NotificationClassification.UNRECOGNIZED: 'UNRECOGNIZED'>, raw_severity='WARNING', severity=<NotificationSeverity.WARNING: 'WARNING'>, diagnostic_record={'_classification': 'UNRECOGNIZED', '_severity': 'WARNING', '_position': {'offset': 480, 'line': 15, 'column': 11}, 'OPERATION': '', 'OPERATION_CODE': '0', 'CURRENT_SCHEMA': '/'}> for query: '\\n        MATCH (n:Entity)-[e:RELATES_TO]->(m:Entity)\\n     WHERE e.uuid in $edge_uuids\\n            WITH DISTINCT e, n, m, vector.similarity.cosine(e.fact_embedding, $search_vector) AS score\\n            WHERE score > $min_score\\n            RETURN\\n            \\n        e.uuid AS uuid,\\n        n.uuid AS source_node_uuid,\\n        m.uuid AS target_node_uuid,\\n        e.group_id AS group_id,\\n        e.created_at AS created_at,\\n        e.name AS name,\\n        e.fact AS fact,\\n        e.episodes AS episodes,\\n        e.expired_at AS expired_at,\\n        e.valid_at AS valid_at,\\n        e.invalid_at AS invalid_at,\\n    properties(e) AS attributes\\n            ORDER BY score DESC\\n            LIMIT $limit\\n            '\n",
      "2025-10-19 18:23:50 - httpx - INFO - HTTP Request: POST https://api.openai.com/v1/embeddings \"HTTP/1.1 200 OK\"\n",
      "2025-10-19 18:23:50 - httpx - INFO - HTTP Request: POST https://api.openai.com/v1/embeddings \"HTTP/1.1 200 OK\"\n",
      "2025-10-19 18:23:50 - httpx - INFO - HTTP Request: POST https://api.openai.com/v1/embeddings \"HTTP/1.1 200 OK\"\n",
      "2025-10-19 18:23:51 - neo4j.notifications - WARNING - Received notification from DBMS server: <GqlStatusObject gql_status='01N52', status_description='warn: property key does not exist. The property `fact_embedding` does not exist in database `neo4j`. Verify that the spelling is correct.', position=<SummaryInputPosition line=4, column=63, offset=120>, raw_classification='UNRECOGNIZED', classification=<NotificationClassification.UNRECOGNIZED: 'UNRECOGNIZED'>, raw_severity='WARNING', severity=<NotificationSeverity.WARNING: 'WARNING'>, diagnostic_record={'_classification': 'UNRECOGNIZED', '_severity': 'WARNING', '_position': {'offset': 120, 'line': 4, 'column': 63}, 'OPERATION': '', 'OPERATION_CODE': '0', 'CURRENT_SCHEMA': '/'}> for query: '\\n        MATCH (n:Entity)-[e:RELATES_TO]->(m:Entity)\\n    \\n            WITH DISTINCT e, n, m, vector.similarity.cosine(e.fact_embedding, $search_vector) AS score\\n            WHERE score > $min_score\\n            RETURN\\n            \\n        e.uuid AS uuid,\\n        n.uuid AS source_node_uuid,\\n        m.uuid AS target_node_uuid,\\n        e.group_id AS group_id,\\n        e.created_at AS created_at,\\n        e.name AS name,\\n        e.fact AS fact,\\n        e.episodes AS episodes,\\n        e.expired_at AS expired_at,\\n        e.valid_at AS valid_at,\\n        e.invalid_at AS invalid_at,\\n    properties(e) AS attributes\\n            ORDER BY score DESC\\n            LIMIT $limit\\n            '\n",
      "2025-10-19 18:23:51 - neo4j.notifications - WARNING - Received notification from DBMS server: <GqlStatusObject gql_status='01N52', status_description='warn: property key does not exist. The property `episodes` does not exist in database `neo4j`. Verify that the spelling is correct.', position=<SummaryInputPosition line=15, column=11, offset=452>, raw_classification='UNRECOGNIZED', classification=<NotificationClassification.UNRECOGNIZED: 'UNRECOGNIZED'>, raw_severity='WARNING', severity=<NotificationSeverity.WARNING: 'WARNING'>, diagnostic_record={'_classification': 'UNRECOGNIZED', '_severity': 'WARNING', '_position': {'offset': 452, 'line': 15, 'column': 11}, 'OPERATION': '', 'OPERATION_CODE': '0', 'CURRENT_SCHEMA': '/'}> for query: '\\n        MATCH (n:Entity)-[e:RELATES_TO]->(m:Entity)\\n    \\n            WITH DISTINCT e, n, m, vector.similarity.cosine(e.fact_embedding, $search_vector) AS score\\n            WHERE score > $min_score\\n            RETURN\\n            \\n        e.uuid AS uuid,\\n        n.uuid AS source_node_uuid,\\n        m.uuid AS target_node_uuid,\\n        e.group_id AS group_id,\\n        e.created_at AS created_at,\\n        e.name AS name,\\n        e.fact AS fact,\\n        e.episodes AS episodes,\\n        e.expired_at AS expired_at,\\n        e.valid_at AS valid_at,\\n        e.invalid_at AS invalid_at,\\n    properties(e) AS attributes\\n            ORDER BY score DESC\\n            LIMIT $limit\\n            '\n",
      "2025-10-19 18:23:51 - neo4j.notifications - WARNING - Received notification from DBMS server: <GqlStatusObject gql_status='01N52', status_description='warn: property key does not exist. The property `fact_embedding` does not exist in database `neo4j`. Verify that the spelling is correct.', position=<SummaryInputPosition line=4, column=63, offset=120>, raw_classification='UNRECOGNIZED', classification=<NotificationClassification.UNRECOGNIZED: 'UNRECOGNIZED'>, raw_severity='WARNING', severity=<NotificationSeverity.WARNING: 'WARNING'>, diagnostic_record={'_classification': 'UNRECOGNIZED', '_severity': 'WARNING', '_position': {'offset': 120, 'line': 4, 'column': 63}, 'OPERATION': '', 'OPERATION_CODE': '0', 'CURRENT_SCHEMA': '/'}> for query: '\\n        MATCH (n:Entity)-[e:RELATES_TO]->(m:Entity)\\n    \\n            WITH DISTINCT e, n, m, vector.similarity.cosine(e.fact_embedding, $search_vector) AS score\\n            WHERE score > $min_score\\n            RETURN\\n            \\n        e.uuid AS uuid,\\n        n.uuid AS source_node_uuid,\\n        m.uuid AS target_node_uuid,\\n        e.group_id AS group_id,\\n        e.created_at AS created_at,\\n        e.name AS name,\\n        e.fact AS fact,\\n        e.episodes AS episodes,\\n        e.expired_at AS expired_at,\\n        e.valid_at AS valid_at,\\n        e.invalid_at AS invalid_at,\\n    properties(e) AS attributes\\n            ORDER BY score DESC\\n            LIMIT $limit\\n            '\n",
      "2025-10-19 18:23:51 - neo4j.notifications - WARNING - Received notification from DBMS server: <GqlStatusObject gql_status='01N52', status_description='warn: property key does not exist. The property `episodes` does not exist in database `neo4j`. Verify that the spelling is correct.', position=<SummaryInputPosition line=15, column=11, offset=452>, raw_classification='UNRECOGNIZED', classification=<NotificationClassification.UNRECOGNIZED: 'UNRECOGNIZED'>, raw_severity='WARNING', severity=<NotificationSeverity.WARNING: 'WARNING'>, diagnostic_record={'_classification': 'UNRECOGNIZED', '_severity': 'WARNING', '_position': {'offset': 452, 'line': 15, 'column': 11}, 'OPERATION': '', 'OPERATION_CODE': '0', 'CURRENT_SCHEMA': '/'}> for query: '\\n        MATCH (n:Entity)-[e:RELATES_TO]->(m:Entity)\\n    \\n            WITH DISTINCT e, n, m, vector.similarity.cosine(e.fact_embedding, $search_vector) AS score\\n            WHERE score > $min_score\\n            RETURN\\n            \\n        e.uuid AS uuid,\\n        n.uuid AS source_node_uuid,\\n        m.uuid AS target_node_uuid,\\n        e.group_id AS group_id,\\n        e.created_at AS created_at,\\n        e.name AS name,\\n        e.fact AS fact,\\n        e.episodes AS episodes,\\n        e.expired_at AS expired_at,\\n        e.valid_at AS valid_at,\\n        e.invalid_at AS invalid_at,\\n    properties(e) AS attributes\\n            ORDER BY score DESC\\n            LIMIT $limit\\n            '\n",
      "2025-10-19 18:23:51 - neo4j.notifications - WARNING - Received notification from DBMS server: <GqlStatusObject gql_status='01N52', status_description='warn: property key does not exist. The property `fact_embedding` does not exist in database `neo4j`. Verify that the spelling is correct.', position=<SummaryInputPosition line=4, column=63, offset=120>, raw_classification='UNRECOGNIZED', classification=<NotificationClassification.UNRECOGNIZED: 'UNRECOGNIZED'>, raw_severity='WARNING', severity=<NotificationSeverity.WARNING: 'WARNING'>, diagnostic_record={'_classification': 'UNRECOGNIZED', '_severity': 'WARNING', '_position': {'offset': 120, 'line': 4, 'column': 63}, 'OPERATION': '', 'OPERATION_CODE': '0', 'CURRENT_SCHEMA': '/'}> for query: '\\n        MATCH (n:Entity)-[e:RELATES_TO]->(m:Entity)\\n    \\n            WITH DISTINCT e, n, m, vector.similarity.cosine(e.fact_embedding, $search_vector) AS score\\n            WHERE score > $min_score\\n            RETURN\\n            \\n        e.uuid AS uuid,\\n        n.uuid AS source_node_uuid,\\n        m.uuid AS target_node_uuid,\\n        e.group_id AS group_id,\\n        e.created_at AS created_at,\\n        e.name AS name,\\n        e.fact AS fact,\\n        e.episodes AS episodes,\\n        e.expired_at AS expired_at,\\n        e.valid_at AS valid_at,\\n        e.invalid_at AS invalid_at,\\n    properties(e) AS attributes\\n            ORDER BY score DESC\\n            LIMIT $limit\\n            '\n",
      "2025-10-19 18:23:51 - neo4j.notifications - WARNING - Received notification from DBMS server: <GqlStatusObject gql_status='01N52', status_description='warn: property key does not exist. The property `episodes` does not exist in database `neo4j`. Verify that the spelling is correct.', position=<SummaryInputPosition line=15, column=11, offset=452>, raw_classification='UNRECOGNIZED', classification=<NotificationClassification.UNRECOGNIZED: 'UNRECOGNIZED'>, raw_severity='WARNING', severity=<NotificationSeverity.WARNING: 'WARNING'>, diagnostic_record={'_classification': 'UNRECOGNIZED', '_severity': 'WARNING', '_position': {'offset': 452, 'line': 15, 'column': 11}, 'OPERATION': '', 'OPERATION_CODE': '0', 'CURRENT_SCHEMA': '/'}> for query: '\\n        MATCH (n:Entity)-[e:RELATES_TO]->(m:Entity)\\n    \\n            WITH DISTINCT e, n, m, vector.similarity.cosine(e.fact_embedding, $search_vector) AS score\\n            WHERE score > $min_score\\n            RETURN\\n            \\n        e.uuid AS uuid,\\n        n.uuid AS source_node_uuid,\\n        m.uuid AS target_node_uuid,\\n        e.group_id AS group_id,\\n        e.created_at AS created_at,\\n        e.name AS name,\\n        e.fact AS fact,\\n        e.episodes AS episodes,\\n        e.expired_at AS expired_at,\\n        e.valid_at AS valid_at,\\n        e.invalid_at AS invalid_at,\\n    properties(e) AS attributes\\n            ORDER BY score DESC\\n            LIMIT $limit\\n            '\n",
      "2025-10-19 18:23:51 - neo4j.notifications - WARNING - Received notification from DBMS server: <GqlStatusObject gql_status='01N52', status_description='warn: property key does not exist. The property `episodes` does not exist in database `neo4j`. Verify that the spelling is correct.', position=<SummaryInputPosition line=15, column=11, offset=482>, raw_classification='UNRECOGNIZED', classification=<NotificationClassification.UNRECOGNIZED: 'UNRECOGNIZED'>, raw_severity='WARNING', severity=<NotificationSeverity.WARNING: 'WARNING'>, diagnostic_record={'_classification': 'UNRECOGNIZED', '_severity': 'WARNING', '_position': {'offset': 482, 'line': 15, 'column': 11}, 'OPERATION': '', 'OPERATION_CODE': '0', 'CURRENT_SCHEMA': '/'}> for query: 'CALL db.index.fulltext.queryRelationships(\"edge_name_and_fact\", $query, {limit: $limit})\\n    YIELD relationship AS rel, score\\n    MATCH (n:Entity)-[e:RELATES_TO {uuid: rel.uuid}]->(m:Entity)\\n    \\n            WITH e, score, n, m\\n            RETURN\\n            \\n        e.uuid AS uuid,\\n        n.uuid AS source_node_uuid,\\n        m.uuid AS target_node_uuid,\\n        e.group_id AS group_id,\\n        e.created_at AS created_at,\\n        e.name AS name,\\n        e.fact AS fact,\\n        e.episodes AS episodes,\\n        e.expired_at AS expired_at,\\n        e.valid_at AS valid_at,\\n        e.invalid_at AS invalid_at,\\n    properties(e) AS attributes\\n            ORDER BY score DESC\\n            LIMIT $limit\\n            '\n",
      "2025-10-19 18:23:51 - neo4j.notifications - WARNING - Received notification from DBMS server: <GqlStatusObject gql_status='01N52', status_description='warn: property key does not exist. The property `episodes` does not exist in database `neo4j`. Verify that the spelling is correct.', position=<SummaryInputPosition line=15, column=11, offset=482>, raw_classification='UNRECOGNIZED', classification=<NotificationClassification.UNRECOGNIZED: 'UNRECOGNIZED'>, raw_severity='WARNING', severity=<NotificationSeverity.WARNING: 'WARNING'>, diagnostic_record={'_classification': 'UNRECOGNIZED', '_severity': 'WARNING', '_position': {'offset': 482, 'line': 15, 'column': 11}, 'OPERATION': '', 'OPERATION_CODE': '0', 'CURRENT_SCHEMA': '/'}> for query: 'CALL db.index.fulltext.queryRelationships(\"edge_name_and_fact\", $query, {limit: $limit})\\n    YIELD relationship AS rel, score\\n    MATCH (n:Entity)-[e:RELATES_TO {uuid: rel.uuid}]->(m:Entity)\\n    \\n            WITH e, score, n, m\\n            RETURN\\n            \\n        e.uuid AS uuid,\\n        n.uuid AS source_node_uuid,\\n        m.uuid AS target_node_uuid,\\n        e.group_id AS group_id,\\n        e.created_at AS created_at,\\n        e.name AS name,\\n        e.fact AS fact,\\n        e.episodes AS episodes,\\n        e.expired_at AS expired_at,\\n        e.valid_at AS valid_at,\\n        e.invalid_at AS invalid_at,\\n    properties(e) AS attributes\\n            ORDER BY score DESC\\n            LIMIT $limit\\n            '\n",
      "2025-10-19 18:23:51 - neo4j.notifications - WARNING - Received notification from DBMS server: <GqlStatusObject gql_status='01N52', status_description='warn: property key does not exist. The property `episodes` does not exist in database `neo4j`. Verify that the spelling is correct.', position=<SummaryInputPosition line=15, column=11, offset=482>, raw_classification='UNRECOGNIZED', classification=<NotificationClassification.UNRECOGNIZED: 'UNRECOGNIZED'>, raw_severity='WARNING', severity=<NotificationSeverity.WARNING: 'WARNING'>, diagnostic_record={'_classification': 'UNRECOGNIZED', '_severity': 'WARNING', '_position': {'offset': 482, 'line': 15, 'column': 11}, 'OPERATION': '', 'OPERATION_CODE': '0', 'CURRENT_SCHEMA': '/'}> for query: 'CALL db.index.fulltext.queryRelationships(\"edge_name_and_fact\", $query, {limit: $limit})\\n    YIELD relationship AS rel, score\\n    MATCH (n:Entity)-[e:RELATES_TO {uuid: rel.uuid}]->(m:Entity)\\n    \\n            WITH e, score, n, m\\n            RETURN\\n            \\n        e.uuid AS uuid,\\n        n.uuid AS source_node_uuid,\\n        m.uuid AS target_node_uuid,\\n        e.group_id AS group_id,\\n        e.created_at AS created_at,\\n        e.name AS name,\\n        e.fact AS fact,\\n        e.episodes AS episodes,\\n        e.expired_at AS expired_at,\\n        e.valid_at AS valid_at,\\n        e.invalid_at AS invalid_at,\\n    properties(e) AS attributes\\n            ORDER BY score DESC\\n            LIMIT $limit\\n            '\n",
      "2025-10-19 18:23:52 - httpx - INFO - HTTP Request: POST https://api.openai.com/v1/embeddings \"HTTP/1.1 200 OK\"\n",
      "2025-10-19 18:23:53 - httpx - INFO - HTTP Request: POST https://api.openai.com/v1/responses \"HTTP/1.1 200 OK\"\n",
      "2025-10-19 18:23:54 - httpx - INFO - HTTP Request: POST https://api.openai.com/v1/responses \"HTTP/1.1 200 OK\"\n",
      "2025-10-19 18:23:54 - httpx - INFO - HTTP Request: POST https://api.openai.com/v1/responses \"HTTP/1.1 200 OK\"\n",
      "2025-10-19 18:23:56 - httpx - INFO - HTTP Request: POST https://api.openai.com/v1/responses \"HTTP/1.1 200 OK\"\n",
      "2025-10-19 18:23:56 - httpx - INFO - HTTP Request: POST https://api.openai.com/v1/embeddings \"HTTP/1.1 200 OK\"\n",
      "2025-10-19 18:24:03 - graphiti_core.graphiti - INFO - Completed add_episode in 41372.0977306366 ms\n",
      "2025-10-19 18:24:05 - httpx - INFO - HTTP Request: POST https://api.openai.com/v1/responses \"HTTP/1.1 200 OK\"\n",
      "2025-10-19 18:24:06 - httpx - INFO - HTTP Request: POST https://api.openai.com/v1/embeddings \"HTTP/1.1 200 OK\"\n",
      "2025-10-19 18:24:06 - httpx - INFO - HTTP Request: POST https://api.openai.com/v1/embeddings \"HTTP/1.1 200 OK\"\n",
      "2025-10-19 18:24:10 - httpx - INFO - HTTP Request: POST https://api.openai.com/v1/responses \"HTTP/1.1 200 OK\"\n",
      "2025-10-19 18:24:13 - httpx - INFO - HTTP Request: POST https://api.openai.com/v1/responses \"HTTP/1.1 200 OK\"\n",
      "2025-10-19 18:24:14 - httpx - INFO - HTTP Request: POST https://api.openai.com/v1/embeddings \"HTTP/1.1 200 OK\"\n",
      "2025-10-19 18:24:15 - httpx - INFO - HTTP Request: POST https://api.openai.com/v1/embeddings \"HTTP/1.1 200 OK\"\n",
      "2025-10-19 18:24:16 - httpx - INFO - HTTP Request: POST https://api.openai.com/v1/embeddings \"HTTP/1.1 200 OK\"\n",
      "2025-10-19 18:24:19 - httpx - INFO - HTTP Request: POST https://api.openai.com/v1/responses \"HTTP/1.1 200 OK\"\n",
      "2025-10-19 18:24:19 - httpx - INFO - HTTP Request: POST https://api.openai.com/v1/embeddings \"HTTP/1.1 200 OK\"\n",
      "2025-10-19 18:24:20 - httpx - INFO - HTTP Request: POST https://api.openai.com/v1/embeddings \"HTTP/1.1 200 OK\"\n",
      "2025-10-19 18:24:22 - httpx - INFO - HTTP Request: POST https://api.openai.com/v1/responses \"HTTP/1.1 200 OK\"\n",
      "2025-10-19 18:24:22 - httpx - INFO - HTTP Request: POST https://api.openai.com/v1/responses \"HTTP/1.1 200 OK\"\n",
      "2025-10-19 18:24:22 - httpx - INFO - HTTP Request: POST https://api.openai.com/v1/embeddings \"HTTP/1.1 200 OK\"\n",
      "2025-10-19 18:24:27 - graphiti_core.graphiti - INFO - Completed add_episode in 23900.662899017334 ms\n"
     ]
    }
   ],
   "source": [
    "# 에피소스 등록하기\n",
    "import json\n",
    "from datetime import datetime, timezone\n",
    "\n",
    "\n",
    "for i, episode in enumerate(episodes):\n",
    "    await graphiti.add_episode(\n",
    "        name=episode['name'],\n",
    "        episode_body=episode['content']\n",
    "        if isinstance(episode['content'], str)\n",
    "        else json.dumps(episode['content']),\n",
    "        source=episode['type'],\n",
    "        source_description=episode['description'],\n",
    "        reference_time=datetime.now(timezone.utc),\n",
    "    )\n",
    "    # print(f'Added episode: {episode[\"name\"]} ({episode[\"type\"].value})')"
   ]
  },
  {
   "cell_type": "markdown",
   "id": "46b3929f",
   "metadata": {},
   "source": []
  }
 ],
 "metadata": {
  "kernelspec": {
   "display_name": ".venv-1 (3.14.0)",
   "language": "python",
   "name": "python3"
  },
  "language_info": {
   "codemirror_mode": {
    "name": "ipython",
    "version": 3
   },
   "file_extension": ".py",
   "mimetype": "text/x-python",
   "name": "python",
   "nbconvert_exporter": "python",
   "pygments_lexer": "ipython3",
   "version": "3.14.0"
  }
 },
 "nbformat": 4,
 "nbformat_minor": 5
}
