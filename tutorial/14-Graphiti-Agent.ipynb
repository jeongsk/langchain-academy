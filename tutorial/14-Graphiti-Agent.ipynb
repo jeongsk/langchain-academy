{
 "cells": [
  {
   "cell_type": "markdown",
   "id": "4e670849",
   "metadata": {},
   "source": [
    "# Graphiti Agent\n",
    "\n",
    "그래피티(Graphiti)는 AI 에이전트를 위해 설계된 시간 인식 지식 그래프 구축을 위한 파이썬 프레임워크입니다. 일괄 재계산 없이 지식 그래프에 대한 실시간 증분 업데이트를 가능하게 하여, 관계와 정보가 시간에 따라 진화하는 동적 환경에 적합합니다.\n",
    "\n",
    "![](https://steemitimages.com/300x0/https://github.com/gongwon-nayeon/graphiti-agent-tutorial/raw/main/graphiti_agent.png)\n",
    "\n",
    "참고: https://github.com/gongwon-nayeon/graphiti-agent-tutorial/blob/main/graphiti_agent.ipynb"
   ]
  },
  {
   "cell_type": "markdown",
   "id": "ab7beba7",
   "metadata": {},
   "source": []
  }
 ],
 "metadata": {
  "language_info": {
   "name": "python"
  }
 },
 "nbformat": 4,
 "nbformat_minor": 5
}
