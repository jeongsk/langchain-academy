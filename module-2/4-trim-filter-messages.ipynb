{
 "cells": [
  {
   "cell_type": "markdown",
   "id": "fb0ebaf1",
   "metadata": {},
   "source": [
    "[![Open in Colab](https://colab.research.google.com/assets/colab-badge.svg)](https://colab.research.google.com/github/langchain-ai/langchain-academy/blob/main/module-2/trim-filter-messages.ipynb) [![Open in LangChain Academy](https://cdn.prod.website-files.com/65b8cd72835ceeacd4449a53/66e9eba12c7b7688aa3dbb5e_LCA-badge-green.svg)](https://academy.langchain.com/courses/take/intro-to-langgraph/lessons/58239435-lesson-4-trim-and-filter-messages)"
   ]
  },
  {
   "cell_type": "markdown",
   "id": "c52ea2f9-03ff-4647-b782-46867ebed04e",
   "metadata": {},
   "source": [
    "# 메시지 필터링 및 트리밍\n",
    "\n",
    "## 복습\n",
    "\n",
    "이제 몇 가지 사항에 대해 더 깊이 이해하게 되었습니다:\n",
    "\n",
    "* 그래프 상태 스키마를 커스터마이징하는 방법\n",
    "* 커스텀 상태 리듀서를 정의하는 방법\n",
    "* 다중 그래프 상태 스키마를 사용하는 방법\n",
    "\n",
    "## 목표\n",
    "\n",
    "이제 LangGraph에서 모델과 함께 이러한 개념들을 사용할 수 있습니다!\n",
    "\n",
    "다음 몇 개 세션에서는 장기 메모리를 가진 챗봇을 구축해 나갈 것입니다.\n",
    "\n",
    "챗봇이 메시지를 사용할 것이므로, 먼저 그래프 상태에서 메시지를 다루는 고급 방법에 대해 조금 더 이야기해보겠습니다."
   ]
  },
  {
   "cell_type": "code",
   "execution_count": 27,
   "id": "d5197aba-5d46-421b-ae3b-4e3034edcfda",
   "metadata": {},
   "outputs": [],
   "source": [
    "%%capture --no-stderr\n",
    "%pip install --quiet -U langchain_core langgraph langchain_openai"
   ]
  },
  {
   "cell_type": "code",
   "execution_count": 28,
   "id": "a7cb0d4b",
   "metadata": {},
   "outputs": [
    {
     "data": {
      "text/plain": [
       "True"
      ]
     },
     "execution_count": 28,
     "metadata": {},
     "output_type": "execute_result"
    }
   ],
   "source": [
    "from dotenv import load_dotenv\n",
    "\n",
    "load_dotenv(\"../.env\", override=True)"
   ]
  },
  {
   "cell_type": "code",
   "execution_count": null,
   "id": "768dc606-d5f2-468d-96ea-910b264e0f8a",
   "metadata": {},
   "outputs": [],
   "source": [
    "import os\n",
    "import getpass\n",
    "\n",
    "\n",
    "def _set_env(var: str):\n",
    "    if not os.environ.get(var):\n",
    "        os.environ[var] = getpass.getpass(f\"{var}: \")\n",
    "\n",
    "\n",
    "_set_env(\"OPENAI_API_KEY\")"
   ]
  },
  {
   "cell_type": "markdown",
   "id": "8b64d8d3-e4ac-4961-bdc0-688825eb5864",
   "metadata": {},
   "source": [
    "추적(tracing)을 위해 [LangSmith](https://docs.smith.langchain.com/)를 사용하겠습니다.\n",
    "\n",
    "`langchain-academy` 프로젝트에 로깅할 것입니다."
   ]
  },
  {
   "cell_type": "code",
   "execution_count": 30,
   "id": "dd020c79",
   "metadata": {},
   "outputs": [],
   "source": [
    "_set_env(\"LANGSMITH_API_KEY\")\n",
    "os.environ[\"LANGSMITH_TRACING\"] = \"true\"\n",
    "os.environ[\"LANGSMITH_PROJECT\"] = \"langchain-academy\""
   ]
  },
  {
   "cell_type": "markdown",
   "id": "72f3fc90-58b6-4f7f-897e-dddf6ae532c7",
   "metadata": {},
   "source": [
    "## 상태로서의 메시지\n",
    "\n",
    "먼저 몇 가지 메시지를 정의해보겠습니다."
   ]
  },
  {
   "cell_type": "code",
   "execution_count": null,
   "id": "cf11a463-e27a-4a05-b41d-64882e38edca",
   "metadata": {},
   "outputs": [
    {
     "name": "stdout",
     "output_type": "stream",
     "text": [
      "==================================\u001b[1m Ai Message \u001b[0m==================================\n",
      "Name: Bot\n",
      "\n",
      "그러니까 해양 포유류를 연구하고 있다고 하셨나요?\n",
      "================================\u001b[1m Human Message \u001b[0m=================================\n",
      "Name: Lance\n",
      "\n",
      "네, 고래에 대해서는 알고 있어요. 그런데 다른 것들은 무엇을 배워야 할까요?\n"
     ]
    }
   ],
   "source": [
    "from langchain_core.messages import AnyMessage, AIMessage, HumanMessage\n",
    "\n",
    "messages: list[AnyMessage] = [\n",
    "    AIMessage(\"그러니까 해양 포유류를 연구하고 있다고 하셨나요?\", name=\"Bot\")\n",
    "]\n",
    "messages.append(\n",
    "    HumanMessage(\n",
    "        \"네, 고래에 대해서는 알고 있어요. 그런데 다른 것들은 무엇을 배워야 할까요?\",\n",
    "        name=\"Lance\",\n",
    "    )\n",
    ")\n",
    "\n",
    "for m in messages:\n",
    "    m.pretty_print()"
   ]
  },
  {
   "cell_type": "markdown",
   "id": "b814adcb-6bf9-4b75-be11-e59f933fbd0c",
   "metadata": {},
   "source": [
    "이들을 채팅 모델에 전달할 수 있다는 것을 기억하세요."
   ]
  },
  {
   "cell_type": "code",
   "execution_count": 32,
   "id": "4712e288-e622-48a2-ad3f-a52f65f3ab08",
   "metadata": {},
   "outputs": [
    {
     "data": {
      "text/plain": [
       "AIMessage(content='해양 포유류에 대해 더 깊이 이해하려면 다양한 주제에 걸쳐 공부하는 것이 좋습니다. 여기 몇 가지 중요한 주제를 소개할게요:\\n\\n1. **고래와 돌고래의 생리학 및 생태학**: 고래, 돌고래, 그리고 작은 고래류의 신체 구조와 생리학적 특성, 그리고 그들의 생태적 역할에 대해 더 많이 알아보세요.\\n\\n2. **바다표범과 해마**: 이들 포유류는 북극과 남극을 포함한 다양한 해양 환경에 서식합니다. 그들의 생활사, 번식, 먹이 습관 등에 대해 배우세요.\\n\\n3. **수달과 같은 반수생 포유류**: 일부 포유류는 완전히 해양 생활을 하진 않지만, 수생 환경에서 상당한 시간을 보냅니다. 수달의 경우 물속에서의 사냥 및 생존 전략에 대해 알아보세요.\\n\\n4. **환경 영향**: 오염, 기후 변화, 해양 쓰레기 등이 해양 포유류에 끼치는 영향을 연구하세요. 이는 보전 노력과 정책 수립에 중요한 요소입니다.\\n\\n5. **고래의 사회적 구조와 의사소통**: 고래는 복잡한 사회 구조를 가질 수 있으며, 특정한 의사소통 방식과 문화를 가지고 있습니다.\\n\\n6. **보존과 법률**: 해양 포유류의 보전을 위한 국제적 협정과 법률에 대해 알아보세요. 예를 들어, 국제 포경 위원회(IWC)의 역할도 포함됩니다.\\n\\n7. **연구 방법론**: 해양 포유류 연구에 사용되는 과학적 방법론 및 기술에 대해 학습하세요. 예를 들어, 음향 추적 기술, 위성 마커, 사진 식별 기술 등이 있습니다.\\n\\n각각의 주제는 매우 광범위하고 중요한 부분들이니, 관심 있는 부분을 깊이 있게 탐구하시길 추천합니다.', additional_kwargs={'refusal': None}, response_metadata={'token_usage': {'completion_tokens': 431, 'prompt_tokens': 53, 'total_tokens': 484, 'completion_tokens_details': {'accepted_prediction_tokens': 0, 'audio_tokens': 0, 'reasoning_tokens': 0, 'rejected_prediction_tokens': 0}, 'prompt_tokens_details': {'audio_tokens': 0, 'cached_tokens': 0}}, 'model_name': 'gpt-4o-2024-08-06', 'system_fingerprint': 'fp_f33640a400', 'id': 'chatcmpl-CLQbcZCC0cR1S8pHM9718dQ4iUR7d', 'service_tier': 'default', 'finish_reason': 'stop', 'logprobs': None}, id='run--76eddfa1-a161-4461-a915-57ca188b74f8-0', usage_metadata={'input_tokens': 53, 'output_tokens': 431, 'total_tokens': 484, 'input_token_details': {'audio': 0, 'cache_read': 0}, 'output_token_details': {'audio': 0, 'reasoning': 0}})"
      ]
     },
     "execution_count": 32,
     "metadata": {},
     "output_type": "execute_result"
    }
   ],
   "source": [
    "from langchain_openai import ChatOpenAI\n",
    "\n",
    "llm = ChatOpenAI(model=\"gpt-4o\")\n",
    "llm.invoke(messages)"
   ]
  },
  {
   "cell_type": "markdown",
   "id": "fbd1dab8-0af8-4621-8264-ce65065f76ec",
   "metadata": {},
   "source": [
    "`MessagesState`를 사용하여 간단한 그래프에서 채팅 모델을 실행할 수 있습니다."
   ]
  },
  {
   "cell_type": "code",
   "execution_count": 33,
   "id": "bbd8c39c-633b-4176-9cc6-8318e42bb5dd",
   "metadata": {},
   "outputs": [],
   "source": [
    "from IPython.display import Image, display\n",
    "from langgraph.graph import MessagesState\n",
    "from langgraph.graph import StateGraph, START, END\n",
    "\n",
    "\n",
    "# Node\n",
    "def chat_model_node(state: MessagesState):\n",
    "    return {\"messages\": llm.invoke(state[\"messages\"])}\n",
    "\n",
    "\n",
    "# Build graph\n",
    "builder = StateGraph(MessagesState)\n",
    "builder.add_node(\"chat_model\", chat_model_node)\n",
    "builder.add_edge(START, \"chat_model\")\n",
    "builder.add_edge(\"chat_model\", END)\n",
    "graph = builder.compile()\n",
    "\n",
    "# View\n",
    "# display(Image(graph.get_graph().draw_mermaid_png()))"
   ]
  },
  {
   "cell_type": "markdown",
   "id": "358edc96",
   "metadata": {},
   "source": [
    "![](https://i.imgur.com/z9mTLC4.png)"
   ]
  },
  {
   "cell_type": "code",
   "execution_count": 34,
   "id": "3a5a3e4a-ccfd-4d14-81f1-f0de6e11a1e4",
   "metadata": {},
   "outputs": [
    {
     "name": "stdout",
     "output_type": "stream",
     "text": [
      "==================================\u001b[1m Ai Message \u001b[0m==================================\n",
      "Name: Bot\n",
      "\n",
      "그러니까 해양 포유류를 연구하고 있다고 하셨나요?\n",
      "================================\u001b[1m Human Message \u001b[0m=================================\n",
      "Name: Lance\n",
      "\n",
      "네, 고래에 대해서는 알고 있어요. 그런데 다른 것들은 무엇을 배워야 할까요?\n",
      "==================================\u001b[1m Ai Message \u001b[0m==================================\n",
      "\n",
      "고래 외에도 다양한 해양 포유류가 있습니다. 연구를 시작하시기 좋은 몇 가지 그룹을 소개해 드릴게요:\n",
      "\n",
      "1. **돌고래와 흰긴수염고래과**: 돌고래는 고래와 가깝지만 더 작은 편이며, 사회적이고 지능이 높은 것으로 알려져 있습니다. 흰긴수염고래과에는 범고래와 같은 포식자도 포함됩니다.\n",
      "\n",
      "2. **기각류 (바다사자, 물개, 바다코끼리 등)**: 물개류와 바다사자류는 물속과 육지를 모두 잘 이용하며, 바다코끼리는 그 중 가장 큰 종입니다.\n",
      "\n",
      "3. **해우류 (매너티와 듀공)**: 이들은 크게 매너티와 듀공으로 나뉩니다. 초식성 동물로 천천히 움직이며, 주로 해초를 먹습니다.\n",
      "\n",
      "4. **수달류**: 주로 민물에서 사는 수달도 있지만, 해달은 해양 환경에 적응하여 살아가는 포유류입니다.\n",
      "\n",
      "각 그룹은 각자의 행동, 생리학, 서식지 등이 독특하므로 연구를 통해 많은 것을 배울 수 있습니다. 해양 포유류가 인간 활동과 환경 변화에 어떻게 영향을 받는지도 중요한 연구 주제입니다. 관심 있는 분야나 종을 좁힌 후, 특정 종에 대해 더 깊이 파악해 나가시면 좋을 것 같습니다.\n"
     ]
    }
   ],
   "source": [
    "output = graph.invoke({\"messages\": messages})\n",
    "for m in output[\"messages\"]:\n",
    "    m.pretty_print()"
   ]
  },
  {
   "cell_type": "markdown",
   "id": "34c33e63-1ef4-412d-bb10-6a1b9e5b35a7",
   "metadata": {},
   "source": [
    "## 리듀서\n",
    "\n",
    "메시지를 다룰 때 실질적인 과제는 장기 실행 대화를 관리하는 것입니다.\n",
    "\n",
    "주의하지 않으면 장기 실행 대화는 모델에 계속 증가하는 메시지 목록을 전달하기 때문에 높은 토큰 사용량과 지연 시간을 초래합니다.\n",
    "\n",
    "이를 해결할 수 있는 몇 가지 방법이 있습니다.\n",
    "\n",
    "먼저 `RemoveMessage`와 `add_messages` 리듀서를 사용하여 본 트릭을 떠올려보세요."
   ]
  },
  {
   "cell_type": "code",
   "execution_count": 35,
   "id": "222c6bc5-bb0e-4a43-80f5-c8ec38d99f3a",
   "metadata": {},
   "outputs": [],
   "source": [
    "from langchain_core.messages import RemoveMessage\n",
    "\n",
    "\n",
    "# Nodes\n",
    "def filter_messages(state: MessagesState):\n",
    "    # 가장 최근의 2개 메시지를 제외한 모든 메시지를 삭제하세요\n",
    "    delete_messages = [RemoveMessage(id=m.id) for m in state[\"messages\"][:-2]]\n",
    "    return {\"messages\": delete_messages}\n",
    "\n",
    "\n",
    "def chat_model_node(state: MessagesState):\n",
    "    return {\"messages\": [llm.invoke(state[\"messages\"])]}\n",
    "\n",
    "\n",
    "# Build graph\n",
    "builder = StateGraph(MessagesState)\n",
    "builder.add_node(\"filter\", filter_messages)\n",
    "builder.add_node(\"chat_model\", chat_model_node)\n",
    "builder.add_edge(START, \"filter\")\n",
    "builder.add_edge(\"filter\", \"chat_model\")\n",
    "builder.add_edge(\"chat_model\", END)\n",
    "graph = builder.compile()\n",
    "\n",
    "# View\n",
    "# display(Image(graph.get_graph().draw_mermaid_png()))"
   ]
  },
  {
   "cell_type": "markdown",
   "id": "55c470a5",
   "metadata": {},
   "source": [
    "![](https://i.imgur.com/EKy8Gj4.png)"
   ]
  },
  {
   "cell_type": "code",
   "execution_count": 36,
   "id": "95a7c2cc-54ce-43e7-9a90-abf37827d709",
   "metadata": {},
   "outputs": [
    {
     "name": "stdout",
     "output_type": "stream",
     "text": [
      "==================================\u001b[1m Ai Message \u001b[0m==================================\n",
      "Name: Bot\n",
      "\n",
      "그러니까 해양 포유류를 연구하고 있다고 하셨나요?\n",
      "================================\u001b[1m Human Message \u001b[0m=================================\n",
      "Name: Lance\n",
      "\n",
      "네, 고래에 대해서는 알고 있어요. 그런데 다른 것들은 무엇을 배워야 할까요?\n",
      "==================================\u001b[1m Ai Message \u001b[0m==================================\n",
      "\n",
      "고래와 함께 해양 포유류에 대해 연구하려면 다양한 종과 그들의 생태에 대해 배울 수 있습니다. 다음은 몇 가지 주요 해양 포유류 그룹과 연구할 수 있는 주제들입니다.\n",
      "\n",
      "1. **돌고래**: 돌고래의 사회적 행동, 의사소통 방식, 지능 수준 등을 연구할 수 있습니다. 돌고래의 음향 신호와 무리 생활의 사회적 구조도 중요한 연구 주제입니다.\n",
      "\n",
      "2. **물범 및 바다사자**: 이들은 기각류( Pinnipedia)에 속하며, 하위 그룹으로 물범(Phocidae), 바다사자(Otariidae) 및 바다코끼리(Odobenidae)가 포함됩니다. 이들의 육상 번식습성, 수영과 잠수 능력, 먹이 습성을 연구할 수 있습니다.\n",
      "\n",
      "3. **바다소 및 듀공**: 이들은 초식성 해양 포유류로, 서식지인 해초밭의 상태를 통해 환경 변화를 감지할 수 있습니다. 이들의 보전 상태와 인간 활동의 영향을 연구하는 것도 중요합니다.\n",
      "\n",
      "4. **바다수달**: 이들은 해양 생태계에서 중요한 역할을 하며, 특히 해양 먹이 사슬과 해초밭의 건강에 큰 영향을 미칩니다. 수달의 먹이 활동과 생태적 중요성을 연구할 수 있습니다.\n",
      "\n",
      "5. **북극곰**: 온도 상승에 민감한 종으로, 기후 변화가 이들이 어떻게 사냥하고 생존하는지에 미치는 영향을 연구할 수 있습니다.\n",
      "\n",
      "각 종의 생리학, 번식, 이동 패턴, 보호 및 보존 상태, 환경 및 인간 활동의 영향을 이해하는 것이 중요합니다. 최신 연구 및 발견을 지속적으로 업데이트하고 해양 포유류 보전을 위한 노력을 기울이는 것이 연구자에게 필수적입니다.\n"
     ]
    }
   ],
   "source": [
    "# Message list with a preamble\n",
    "messages: list[AnyMessage] = [AIMessage(\"안녕하세요.\", name=\"Bot\", id=\"1\")]\n",
    "messages.append(HumanMessage(\"안녕하세요.\", name=\"Lance\", id=\"2\"))\n",
    "messages.append(\n",
    "    AIMessage(\"그러니까 해양 포유류를 연구하고 있다고 하셨나요?\", name=\"Bot\", id=\"3\")\n",
    ")\n",
    "messages.append(\n",
    "    HumanMessage(\n",
    "        \"네, 고래에 대해서는 알고 있어요. 그런데 다른 것들은 무엇을 배워야 할까요?\",\n",
    "        name=\"Lance\",\n",
    "        id=\"4\",\n",
    "    )\n",
    ")\n",
    "\n",
    "# Invoke\n",
    "output = graph.invoke({\"messages\": messages})\n",
    "for m in output[\"messages\"]:\n",
    "    m.pretty_print()"
   ]
  },
  {
   "cell_type": "markdown",
   "id": "f506457d-014b-4fee-a684-e5edfb4b8f0d",
   "metadata": {},
   "source": [
    "## 메시지 필터링\n",
    "\n",
    "그래프 상태를 수정할 필요가 없거나 원하지 않는다면, 채팅 모델에 전달하는 메시지를 필터링하기만 하면 됩니다.\n",
    "\n",
    "예를 들어, 모델에 필터링된 목록을 전달하면 됩니다: `llm.invoke(messages[-1:])`."
   ]
  },
  {
   "cell_type": "code",
   "execution_count": 37,
   "id": "22d0b904-7cd6-486b-8948-105bee3d4683",
   "metadata": {},
   "outputs": [],
   "source": [
    "# Node\n",
    "def chat_model_node(state: MessagesState):\n",
    "    return {\"messages\": [llm.invoke(state[\"messages\"][-1:])]}\n",
    "\n",
    "\n",
    "# Build graph\n",
    "builder = StateGraph(MessagesState)\n",
    "builder.add_node(\"chat_model\", chat_model_node)\n",
    "builder.add_edge(START, \"chat_model\")\n",
    "builder.add_edge(\"chat_model\", END)\n",
    "graph = builder.compile()\n",
    "\n",
    "# View\n",
    "# display(Image(graph.get_graph().draw_mermaid_png()))"
   ]
  },
  {
   "cell_type": "markdown",
   "id": "3374585d",
   "metadata": {},
   "source": [
    "![](https://i.imgur.com/z9mTLC4.png)"
   ]
  },
  {
   "cell_type": "markdown",
   "id": "6f58c6fc-532f-418d-b70a-cfcb3307daf5",
   "metadata": {},
   "source": [
    "기존 메시지 목록을 가져와서 위의 LLM 응답을 추가하고, 후속 질문을 추가해보겠습니다."
   ]
  },
  {
   "cell_type": "code",
   "execution_count": 38,
   "id": "16956015-1dbe-4108-89b5-4209b68b51ca",
   "metadata": {},
   "outputs": [],
   "source": [
    "messages.append(output[\"messages\"][-1])\n",
    "messages.append(HumanMessage(\"일각고래에 대해 더 알려줘!\", name=\"Lance\"))"
   ]
  },
  {
   "cell_type": "code",
   "execution_count": 39,
   "id": "85563415-c085-46a8-a4ac-155df798c54e",
   "metadata": {},
   "outputs": [
    {
     "name": "stdout",
     "output_type": "stream",
     "text": [
      "==================================\u001b[1m Ai Message \u001b[0m==================================\n",
      "Name: Bot\n",
      "\n",
      "안녕하세요.\n",
      "================================\u001b[1m Human Message \u001b[0m=================================\n",
      "Name: Lance\n",
      "\n",
      "안녕하세요.\n",
      "==================================\u001b[1m Ai Message \u001b[0m==================================\n",
      "Name: Bot\n",
      "\n",
      "그러니까 해양 포유류를 연구하고 있다고 하셨나요?\n",
      "================================\u001b[1m Human Message \u001b[0m=================================\n",
      "Name: Lance\n",
      "\n",
      "네, 고래에 대해서는 알고 있어요. 그런데 다른 것들은 무엇을 배워야 할까요?\n",
      "==================================\u001b[1m Ai Message \u001b[0m==================================\n",
      "\n",
      "고래와 함께 해양 포유류에 대해 연구하려면 다양한 종과 그들의 생태에 대해 배울 수 있습니다. 다음은 몇 가지 주요 해양 포유류 그룹과 연구할 수 있는 주제들입니다.\n",
      "\n",
      "1. **돌고래**: 돌고래의 사회적 행동, 의사소통 방식, 지능 수준 등을 연구할 수 있습니다. 돌고래의 음향 신호와 무리 생활의 사회적 구조도 중요한 연구 주제입니다.\n",
      "\n",
      "2. **물범 및 바다사자**: 이들은 기각류( Pinnipedia)에 속하며, 하위 그룹으로 물범(Phocidae), 바다사자(Otariidae) 및 바다코끼리(Odobenidae)가 포함됩니다. 이들의 육상 번식습성, 수영과 잠수 능력, 먹이 습성을 연구할 수 있습니다.\n",
      "\n",
      "3. **바다소 및 듀공**: 이들은 초식성 해양 포유류로, 서식지인 해초밭의 상태를 통해 환경 변화를 감지할 수 있습니다. 이들의 보전 상태와 인간 활동의 영향을 연구하는 것도 중요합니다.\n",
      "\n",
      "4. **바다수달**: 이들은 해양 생태계에서 중요한 역할을 하며, 특히 해양 먹이 사슬과 해초밭의 건강에 큰 영향을 미칩니다. 수달의 먹이 활동과 생태적 중요성을 연구할 수 있습니다.\n",
      "\n",
      "5. **북극곰**: 온도 상승에 민감한 종으로, 기후 변화가 이들이 어떻게 사냥하고 생존하는지에 미치는 영향을 연구할 수 있습니다.\n",
      "\n",
      "각 종의 생리학, 번식, 이동 패턴, 보호 및 보존 상태, 환경 및 인간 활동의 영향을 이해하는 것이 중요합니다. 최신 연구 및 발견을 지속적으로 업데이트하고 해양 포유류 보전을 위한 노력을 기울이는 것이 연구자에게 필수적입니다.\n",
      "================================\u001b[1m Human Message \u001b[0m=================================\n",
      "Name: Lance\n",
      "\n",
      "일각고래에 대해 더 알려줘!\n"
     ]
    }
   ],
   "source": [
    "for m in messages:\n",
    "    m.pretty_print()"
   ]
  },
  {
   "cell_type": "code",
   "execution_count": 40,
   "id": "23349705-a059-47b5-9760-d8f64e687393",
   "metadata": {},
   "outputs": [
    {
     "name": "stdout",
     "output_type": "stream",
     "text": [
      "==================================\u001b[1m Ai Message \u001b[0m==================================\n",
      "Name: Bot\n",
      "\n",
      "안녕하세요.\n",
      "================================\u001b[1m Human Message \u001b[0m=================================\n",
      "Name: Lance\n",
      "\n",
      "안녕하세요.\n",
      "==================================\u001b[1m Ai Message \u001b[0m==================================\n",
      "Name: Bot\n",
      "\n",
      "그러니까 해양 포유류를 연구하고 있다고 하셨나요?\n",
      "================================\u001b[1m Human Message \u001b[0m=================================\n",
      "Name: Lance\n",
      "\n",
      "네, 고래에 대해서는 알고 있어요. 그런데 다른 것들은 무엇을 배워야 할까요?\n",
      "==================================\u001b[1m Ai Message \u001b[0m==================================\n",
      "\n",
      "고래와 함께 해양 포유류에 대해 연구하려면 다양한 종과 그들의 생태에 대해 배울 수 있습니다. 다음은 몇 가지 주요 해양 포유류 그룹과 연구할 수 있는 주제들입니다.\n",
      "\n",
      "1. **돌고래**: 돌고래의 사회적 행동, 의사소통 방식, 지능 수준 등을 연구할 수 있습니다. 돌고래의 음향 신호와 무리 생활의 사회적 구조도 중요한 연구 주제입니다.\n",
      "\n",
      "2. **물범 및 바다사자**: 이들은 기각류( Pinnipedia)에 속하며, 하위 그룹으로 물범(Phocidae), 바다사자(Otariidae) 및 바다코끼리(Odobenidae)가 포함됩니다. 이들의 육상 번식습성, 수영과 잠수 능력, 먹이 습성을 연구할 수 있습니다.\n",
      "\n",
      "3. **바다소 및 듀공**: 이들은 초식성 해양 포유류로, 서식지인 해초밭의 상태를 통해 환경 변화를 감지할 수 있습니다. 이들의 보전 상태와 인간 활동의 영향을 연구하는 것도 중요합니다.\n",
      "\n",
      "4. **바다수달**: 이들은 해양 생태계에서 중요한 역할을 하며, 특히 해양 먹이 사슬과 해초밭의 건강에 큰 영향을 미칩니다. 수달의 먹이 활동과 생태적 중요성을 연구할 수 있습니다.\n",
      "\n",
      "5. **북극곰**: 온도 상승에 민감한 종으로, 기후 변화가 이들이 어떻게 사냥하고 생존하는지에 미치는 영향을 연구할 수 있습니다.\n",
      "\n",
      "각 종의 생리학, 번식, 이동 패턴, 보호 및 보존 상태, 환경 및 인간 활동의 영향을 이해하는 것이 중요합니다. 최신 연구 및 발견을 지속적으로 업데이트하고 해양 포유류 보전을 위한 노력을 기울이는 것이 연구자에게 필수적입니다.\n",
      "================================\u001b[1m Human Message \u001b[0m=================================\n",
      "Name: Lance\n",
      "\n",
      "일각고래에 대해 더 알려줘!\n",
      "==================================\u001b[1m Ai Message \u001b[0m==================================\n",
      "\n",
      "일각고래, 학명으로는 Monodon monoceros,는 북극해와 주변 바다에서 주로 발견되는 고래류입니다. 이들은 이마에서 앞으로 뻗어 있는 긴 나선형 뿔로 유명한데, 사실 이 \"뿔\"은 왼쪽 상악의 이가 매우 길게 자라난 것입니다. 수컷에게서 주로 발견되며, 이는 경쟁과 짝짓기에 중요한 역할을 하는 것으로 추정됩니다.\n",
      "\n",
      "일각고래의 주요 특징과 행동은 다음과 같습니다:\n",
      "\n",
      "1. **긴 뿔**: 보통 수컷에게서 약 1.5~3미터 길이로 자라며, 이는 탐지기와 같은 역할을 하기도 한다고 합니다. 일부 암컷도 뿔을 가질 수 있지만, 그 길이는 훨씬 짧습니다.\n",
      "\n",
      "2. **생태와 서식지**: 일각고래는 보통 대서양 북부와 러시아 주변의 차가운 북극해에서 발견됩니다. 여름에는 얼음이 덜 있는 지역으로 이동하고, 겨울에는 얼음 아래로 잠수해 생활합니다.\n",
      "\n",
      "3. **식습관**: 주로 물고기, 오징어, 새우 등을 먹습니다. 먹이를 찾아 얼음 아래로 수백 미터까지 잠수할 수 있습니다.\n",
      "\n",
      "4. **사회적 행동**: 일각고래는 사회적 동물로, 작은 무리를 지어 다니는 경향이 있습니다. 이들은 특유의 소리로 서로 의사소통하며, 이는 탐색과 사냥에 유용하게 사용됩니다.\n",
      "\n",
      "5. **보전 상태**: 현재 일각고래는 특정한 위협에 직면해 있지 않지만, 기후 변화로 인해 서식지가 변화하고, 사냥과 관련된 위험이 존재합니다. 따라서 적절한 보전 노력이 필요합니다.\n",
      "\n",
      "이들은 독특한 외모와 북극 생태계에 필수적인 존재로, 과학자들에게도 많은 흥미와 연구의 대상이 되고 있습니다.\n"
     ]
    }
   ],
   "source": [
    "# Invoke, using message filtering\n",
    "output = graph.invoke({\"messages\": messages})\n",
    "for m in output[\"messages\"]:\n",
    "    m.pretty_print()"
   ]
  },
  {
   "cell_type": "markdown",
   "id": "42e1d8d2-e297-4d78-b54c-d12b3c866745",
   "metadata": {},
   "source": [
    "상태에는 모든 메시지가 있습니다.\n",
    "\n",
    "하지만 LangSmith 추적을 보면 모델 호출이 마지막 메시지만 사용하는 것을 확인할 수 있습니다:\n",
    "\n",
    "https://smith.langchain.com/public/9a3078a9-2408-4f8e-ab02-dfbfbc760839/r"
   ]
  },
  {
   "cell_type": "markdown",
   "id": "fc40d930-3c1f-47fe-8d2a-ce174873353c",
   "metadata": {},
   "source": [
    "## 메시지 트리밍(Trim messages)\n",
    "\n",
    "또 다른 접근 방식은 설정된 토큰 수를 기반으로 [trim messages](https://python.langchain.com/v0.2/docs/how_to/trim_messages/#getting-the-last-max_tokens-tokens)하는 것입니다.\n",
    "\n",
    "이는 메시지 기록을 지정된 토큰 수로 제한합니다.\n",
    "\n",
    "필터링은 에이전트 간의 메시지 중 사후 부분 집합만 반환하는 반면, 트리밍은 채팅 모델이 응답하는 데 사용할 수 있는 토큰 수를 제한합니다.\n",
    "\n",
    "아래의 `trim_messages`를 참조하세요."
   ]
  },
  {
   "cell_type": "code",
   "execution_count": 41,
   "id": "2ff99b81-cf03-4cc2-b44f-44829a73e1fd",
   "metadata": {},
   "outputs": [],
   "source": [
    "from langchain_core.messages import trim_messages\n",
    "\n",
    "\n",
    "# Node\n",
    "def chat_model_node(state: MessagesState):\n",
    "    messages = trim_messages(\n",
    "        state[\"messages\"],\n",
    "        max_tokens=100,\n",
    "        strategy=\"last\",\n",
    "        token_counter=ChatOpenAI(model=\"gpt-4o\"),\n",
    "        allow_partial=False,\n",
    "    )\n",
    "    return {\"messages\": [llm.invoke(messages)]}\n",
    "\n",
    "\n",
    "# Build graph\n",
    "builder = StateGraph(MessagesState)\n",
    "builder.add_node(\"chat_model\", chat_model_node)\n",
    "builder.add_edge(START, \"chat_model\")\n",
    "builder.add_edge(\"chat_model\", END)\n",
    "graph = builder.compile()\n",
    "\n",
    "# View\n",
    "# display(Image(graph.get_graph().draw_mermaid_png()))"
   ]
  },
  {
   "cell_type": "markdown",
   "id": "8d2dd2f8",
   "metadata": {},
   "source": [
    "![](https://i.imgur.com/z9mTLC4.png)"
   ]
  },
  {
   "cell_type": "code",
   "execution_count": 42,
   "id": "24df63ac-da29-4874-b3df-7e390e97cc8a",
   "metadata": {},
   "outputs": [],
   "source": [
    "messages.append(output[\"messages\"][-1])\n",
    "messages.append(HumanMessage(\"오카스가 어디에 사는지 말해줘!\", name=\"Lance\"))"
   ]
  },
  {
   "cell_type": "code",
   "execution_count": 43,
   "id": "6d9d8971-c75c-43ca-a209-eb1d07b2ead0",
   "metadata": {},
   "outputs": [
    {
     "data": {
      "text/plain": [
       "[HumanMessage(content='오카스가 어디에 사는지 말해줘!', additional_kwargs={}, response_metadata={}, name='Lance')]"
      ]
     },
     "execution_count": 43,
     "metadata": {},
     "output_type": "execute_result"
    }
   ],
   "source": [
    "# Example of trimming messages\n",
    "trim_messages(\n",
    "    messages,\n",
    "    max_tokens=100,\n",
    "    strategy=\"last\",\n",
    "    token_counter=ChatOpenAI(model=\"gpt-4o\"),\n",
    "    allow_partial=False,\n",
    ")"
   ]
  },
  {
   "cell_type": "code",
   "execution_count": 44,
   "id": "ed70a269-a869-4fa0-a1df-29736a432c51",
   "metadata": {},
   "outputs": [],
   "source": [
    "# Invoke, using message trimming in the chat_model_node\n",
    "messages_out_trim = graph.invoke({\"messages\": messages})"
   ]
  },
  {
   "cell_type": "markdown",
   "id": "38b3db67-380e-46b5-9a6a-20100ba52008",
   "metadata": {},
   "source": [
    "LangSmith 추적을 살펴 모델 호출을 확인해 보겠습니다:\n",
    "\n",
    "https://smith.langchain.com/public/84ceedc2-7b5a-45e7-a793-4347eba8a9e3/r"
   ]
  },
  {
   "cell_type": "markdown",
   "id": "cf4f439f",
   "metadata": {},
   "source": []
  }
 ],
 "metadata": {
  "kernelspec": {
   "display_name": ".venv",
   "language": "python",
   "name": "python3"
  },
  "language_info": {
   "codemirror_mode": {
    "name": "ipython",
    "version": 3
   },
   "file_extension": ".py",
   "mimetype": "text/x-python",
   "name": "python",
   "nbconvert_exporter": "python",
   "pygments_lexer": "ipython3",
   "version": "3.12.11"
  }
 },
 "nbformat": 4,
 "nbformat_minor": 5
}
