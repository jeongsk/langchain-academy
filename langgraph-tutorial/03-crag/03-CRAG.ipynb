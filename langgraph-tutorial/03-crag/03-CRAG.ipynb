{
 "cells": [
  {
   "cell_type": "markdown",
   "id": "91ab3d0b",
   "metadata": {},
   "source": [
    "## CRAG(Corrective Retrieval Augmented Generation)\n",
    "\n",
    "CRAG는 RAG의 개선된 버전입니다. **RAG의 한계를 보완**하기 위해 개발된 기술로, 검색된 문서의 품질을 평가하고 필요시 수정하는 메커니즘을 추가했습니다.\n",
    "\n",
    "### 주요 특징\n",
    "\n",
    "**1. 검색 평가자(Retrieval Evaluator)**\n",
    "- 검색된 문서의 관련성과 품질을 평가\n",
    "- 문서가 충분히 정확하고 관련성이 있는지 판단\n",
    "\n",
    "**2. 수정 메커니즘**\n",
    "- 검색 결과가 부정확하거나 불충분할 경우 대응\n",
    "- 추가 검색, 웹 검색, 또는 지식 정제 수행\n",
    "\n",
    "**3. 동적 처리 방식**\n",
    "검색 품질에 따라 세 가지 경로로 분기:\n",
    "- **Correct**: 검색 결과가 좋을 경우 → 그대로 사용\n",
    "- **Incorrect**: 검색 결과가 나쁠 경우 → 웹 검색 등 추가 소스 활용\n",
    "- **Ambiguous**: 애매한 경우 → 지식 정제 후 사용\n",
    "\n",
    "### RAG와의 차이점\n",
    "\n",
    "- **RAG**: 검색된 문서를 무조건 신뢰하고 사용\n",
    "- **CRAG**: 검색 품질을 평가하고, 필요시 보완하거나 다른 소스 활용\n",
    "\n",
    "이를 통해 더 정확하고 신뢰할 수 있는 답변 생성이 가능합니다."
   ]
  },
  {
   "cell_type": "markdown",
   "id": "a8b55e00",
   "metadata": {},
   "source": [
    "- 참고 자료: https://wikidocs.net/270686\n",
    "- 관련 논문: https://arxiv.org/pdf/2401.15884"
   ]
  },
  {
   "cell_type": "markdown",
   "id": "b55637cb",
   "metadata": {},
   "source": [
    "## 환경 변수"
   ]
  },
  {
   "cell_type": "code",
   "execution_count": null,
   "id": "06e82e5c",
   "metadata": {},
   "outputs": [],
   "source": [
    "import os\n",
    "import getpass\n",
    "from dotenv import load_dotenv\n",
    "\n",
    "load_dotenv(\"../.env\", override=True)\n",
    "\n",
    "\n",
    "def _set_env(var: str):\n",
    "    env_value = os.environ.get(var)\n",
    "    if not env_value:\n",
    "        env_value = getpass.getpass(f\"{var}: \")\n",
    "\n",
    "    os.environ[var] = env_value\n",
    "\n",
    "\n",
    "_set_env(\"LANGSMITH_API_KEY\")\n",
    "os.environ[\"LANGSMITH_TRACING\"] = \"true\"\n",
    "os.environ[\"LANGSMITH_PROJECT\"] = \"langchain-academy\"\n",
    "_set_env(\"OPENAI_API_KEY\")"
   ]
  },
  {
   "cell_type": "markdown",
   "id": "f6435439",
   "metadata": {},
   "source": [
    "## 문서 다운로드"
   ]
  },
  {
   "cell_type": "code",
   "execution_count": 8,
   "id": "c871d88b",
   "metadata": {},
   "outputs": [],
   "source": [
    "import os\n",
    "import urllib.request\n",
    "\n",
    "\n",
    "def download_file(url, dir=\"./temp\"):\n",
    "    if not os.path.exists(dir):\n",
    "        os.makedirs(dir)\n",
    "\n",
    "    file_path = os.path.join(dir, \"doc.pdf\")\n",
    "    urllib.request.urlretrieve(url, file_path)\n",
    "\n",
    "    file_size = os.path.getsize(file_path)\n",
    "    print(f\"다운로드 완료! 파일 크기: {file_size:,}\", \"bytes\")\n",
    "\n",
    "    return file_path"
   ]
  },
  {
   "cell_type": "code",
   "execution_count": 9,
   "id": "a80649b7",
   "metadata": {},
   "outputs": [
    {
     "name": "stdout",
     "output_type": "stream",
     "text": [
      "다운로드 완료! 파일 크기: 1,207,479 bytes\n"
     ]
    },
    {
     "data": {
      "text/plain": [
       "'./temp/doc.pdf'"
      ]
     },
     "execution_count": 9,
     "metadata": {},
     "output_type": "execute_result"
    }
   ],
   "source": [
    "# \"소프트웨어정책연구소(SPRi) - 2025년 10월호\" PDF를 다운로드합니다.\n",
    "downloaded_path = download_file(\"https://spri.kr/download/23735\")\n",
    "downloaded_path"
   ]
  },
  {
   "cell_type": "markdown",
   "id": "b5afaafa",
   "metadata": {},
   "source": [
    "## 문서 로더"
   ]
  },
  {
   "cell_type": "code",
   "execution_count": 10,
   "id": "402fccb7",
   "metadata": {},
   "outputs": [
    {
     "name": "stdout",
     "output_type": "stream",
     "text": [
      "총 29 페이지 로드됨\n"
     ]
    }
   ],
   "source": [
    "from langchain_community.document_loaders import PyPDFLoader\n",
    "\n",
    "documents = PyPDFLoader(downloaded_path).load()\n",
    "print(f\"총 {len(documents)} 페이지 로드됨\")"
   ]
  },
  {
   "cell_type": "markdown",
   "id": "24b1853d",
   "metadata": {},
   "source": [
    "## 문서 분할"
   ]
  },
  {
   "cell_type": "code",
   "execution_count": 11,
   "id": "da93a99c",
   "metadata": {},
   "outputs": [
    {
     "name": "stdout",
     "output_type": "stream",
     "text": [
      "총 70개의 청크로 분할됨\n"
     ]
    }
   ],
   "source": [
    "from langchain.text_splitter import RecursiveCharacterTextSplitter\n",
    "\n",
    "text_splitter = RecursiveCharacterTextSplitter(\n",
    "    chunk_size=1000,\n",
    "    chunk_overlap=200,\n",
    ")\n",
    "splits = text_splitter.split_documents(documents)\n",
    "print(f\"총 {len(splits)}개의 청크로 분할됨\")"
   ]
  },
  {
   "cell_type": "markdown",
   "id": "f06031a5",
   "metadata": {},
   "source": [
    "## 문서 임베딩"
   ]
  },
  {
   "cell_type": "code",
   "execution_count": 12,
   "id": "454966dc",
   "metadata": {},
   "outputs": [
    {
     "name": "stderr",
     "output_type": "stream",
     "text": [
      "/Users/anpigon/Workspace/Wantedlab/langchain-academy/venv/lib/python3.12/site-packages/langchain/embeddings/cache.py:58: UserWarning: Using default key encoder: SHA-1 is *not* collision-resistant. While acceptable for most cache scenarios, a motivated attacker can craft two different payloads that map to the same cache key. If that risk matters in your environment, supply a stronger encoder (e.g. SHA-256 or BLAKE2) via the `key_encoder` argument. If you change the key encoder, consider also creating a new cache, to avoid (the potential for) collisions with existing keys.\n",
      "  _warn_about_sha1_encoder()\n"
     ]
    }
   ],
   "source": [
    "from langchain.storage import LocalFileStore\n",
    "from langchain_openai import OpenAIEmbeddings\n",
    "from langchain.embeddings import CacheBackedEmbeddings\n",
    "from langchain_community.vectorstores import FAISS\n",
    "\n",
    "\n",
    "# 임베딩 모델 생성\n",
    "underlying_embeddings = OpenAIEmbeddings(model=\"text-embedding-3-small\")\n",
    "\n",
    "\n",
    "embeddings = CacheBackedEmbeddings.from_bytes_store(\n",
    "    underlying_embeddings,\n",
    "    document_embedding_cache=LocalFileStore(\"./cache\"),\n",
    "    namespace=underlying_embeddings.model,\n",
    "    query_embedding_cache=True,\n",
    ")\n",
    "\n",
    "embeddings = OpenAIEmbeddings(model=\"text-embedding-3-small\")\n",
    "\n",
    "vectorstore = FAISS.from_documents(splits, embeddings)\n"
   ]
  },
  {
   "cell_type": "markdown",
   "id": "2f567dac",
   "metadata": {},
   "source": [
    "## 리트리버 생성"
   ]
  },
  {
   "cell_type": "code",
   "execution_count": 13,
   "id": "9aa6eb04",
   "metadata": {},
   "outputs": [],
   "source": [
    "retriever = vectorstore.as_retriever(\n",
    "    search_type=\"mmr\",\n",
    "    search_kwargs={\"k\": 5, \"fetch_k\": 50},\n",
    ")"
   ]
  },
  {
   "cell_type": "code",
   "execution_count": 14,
   "id": "f589de18",
   "metadata": {},
   "outputs": [
    {
     "data": {
      "text/plain": [
       "[Document(id='625c5d38-8e8f-49b7-9ab2-53cf8cf54534', metadata={'producer': 'Hancom PDF 1.3.0.505', 'creator': 'Hancom PDF 1.3.0.505', 'creationdate': '2025-10-02T12:57:42+09:00', 'author': 'dj', 'moddate': '2025-10-02T12:57:42+09:00', 'pdfversion': '1.4', 'source': './temp/doc.pdf', 'total_pages': 29, 'page': 6, 'page_label': '7'}, page_content='정책･법제기업･산업기술･연구인력･교육\\n5\\n미국 캘리포니아주 의회, 미국 최초로 미성년자 보호를 위한 AI 챗봇 규제 통과n미국 캘리포니아주 의회가 미국 최초로 미성년자와 취약 사용자 보호를 위해 AI 동반자 챗봇을 규제하는 SB-243 법안을 통과시켰으며, 주지사 서명 시 2026년 1월 1일부터 발효 예정n동 법안은 동반자 챗봇 운영 플랫폼을 대상으로 사용자의 자살이나 자해를 방지하기 위한 프로토콜 수립 및 미성년자 보호 조치를 요구하고, 위법으로 인한 피해자에게 민사소송 권리를 부여\\nKEY Contents'),\n",
       " Document(id='5fc0f45e-99cd-4944-a171-e9a7add59965', metadata={'producer': 'Hancom PDF 1.3.0.505', 'creator': 'Hancom PDF 1.3.0.505', 'creationdate': '2025-10-02T12:57:42+09:00', 'author': 'dj', 'moddate': '2025-10-02T12:57:42+09:00', 'pdfversion': '1.4', 'source': './temp/doc.pdf', 'total_pages': 29, 'page': 9, 'page_label': '10'}, page_content='<‘제미나이 2.5 플래시 이미지’의 이미지 합성 예시>\\n출처 | Google, Nano Banana! Image editing in Gemini just got a major upgrade, 2025.08.26.         Google Deepmind, Create and edit images with Gemini'),\n",
       " Document(id='7d087b8f-86fa-4469-ade3-e87911802ea2', metadata={'producer': 'Hancom PDF 1.3.0.505', 'creator': 'Hancom PDF 1.3.0.505', 'creationdate': '2025-10-02T12:57:42+09:00', 'author': 'dj', 'moddate': '2025-10-02T12:57:42+09:00', 'pdfversion': '1.4', 'source': './temp/doc.pdf', 'total_pages': 29, 'page': 2, 'page_label': '3'}, page_content='| 2025년 10월호 |\\n정책･법제'),\n",
       " Document(id='7d834587-4adf-4312-a4a3-c4cd71b8a678', metadata={'producer': 'Hancom PDF 1.3.0.505', 'creator': 'Hancom PDF 1.3.0.505', 'creationdate': '2025-10-02T12:57:42+09:00', 'author': 'dj', 'moddate': '2025-10-02T12:57:42+09:00', 'pdfversion': '1.4', 'source': './temp/doc.pdf', 'total_pages': 29, 'page': 12, 'page_label': '13'}, page_content='£앤스로픽, AI 훈련을 위해 불법 복제한 50만 권의 저작물에 권당 3,000달러 지급 계획n앤스로픽이 불법복제 도서를 이용해 AI 모델을 훈련한 혐의로 제기된 저작권 침해 소송에서 작가들에게 15억 달러를 지급하기로 합의∙작가 3인이 2024년 8월 제기한 저작권 침해 소송에서 원고 측은 앤스로픽이 수백만 권의 불법복제 작품을 사용해 AI 모델을 훈련함으로써 저작권법을 위반했으며 저작권 도용을 은폐하려 했다고 주장∙샌프란시스코 연방법원의 윌리엄 알섭(William Alsup) 판사는 2025년 6월 판결에서 앤스로픽이 작가 3인의 책을 AI 모델 학습에 사용한 행위는 공정이용(Fair Use)*으로 인정* 공정이용(Fair Use): 저작권으로 보호되는 저작물을 저작권자 허락 없이도 일정 범위 내에서 이용할 수 있도록 허용∙그러나 판사는 공정이용 주장이 앤스로픽이 전자책 불법복제 사이트에서 입수한 700만 권 이상의 책에는 적용되지 않는다며, 불법복제 목록에 포함된 작가들을 대신해 작가 3인이 집단소송을 제기할 수 있다고 판결 ∙재판부는 연구 목적이라는 명분이 있더라도 정당한 방식으로 자료를 확보했어야 한다고 강조하며, 공정이용 주장이 성립하려면 초기 복제 단계부터 합법성을 확보해야 한다는 원칙을 명확히 제시∙앤스로픽은 약 50만 건의 저작물 청구에 건당 3,000달러씩 총 15억 달러를 지급하기로 합의했으며, 50만 건을 초과하는 청구에도 건당 3,000달러를 지급하기로 해, 최종 지급액은 청구 건수에 따라 달라질 전망n원고 측 변호인에 따르면 이번 합의금은 미국 저작권 소송 역사상 최대 규모로, 앤스로픽은 합의에 따라 불법적으로 다운로드한 원본 파일과 사본도 폐기 예정∙원고 측은 이번 합의는 과거 행위에 근거한 법적 청구만을 면제하며, 앤스로픽에 향후 AI 훈련에 대한 허가를 부여하거나, 2025년 8월 25일 이후 발생하는 법적 청구도 면제하지 않는다고 부연∙미국출판인협회의 마리아 팔란테(Maria Pallante) 회장은 이번 합의가 불법 복제한'),\n",
       " Document(id='ec36711f-a72b-4eab-bcb1-210d50636f47', metadata={'producer': 'Hancom PDF 1.3.0.505', 'creator': 'Hancom PDF 1.3.0.505', 'creationdate': '2025-10-02T12:57:42+09:00', 'author': 'dj', 'moddate': '2025-10-02T12:57:42+09:00', 'pdfversion': '1.4', 'source': './temp/doc.pdf', 'total_pages': 29, 'page': 27, 'page_label': '28'}, page_content='6월4~5일AI & Big Data Expo North America 2025미국, 산타클라라www.ai-expo.net/northamerica9~13일 WWDC25미국, 쿠퍼티노developer.apple.com11~15일The IEEE / CVF Computer Vision and Pattern Recognition Conference 미국, 네슈빌cvpr.thecvf.com11~12일AI SUMMIT LONDON영국, 런던london.theaisummit.com11~13일(STK 2025) 스마트테크 코리아서울, 강남smarttechkorea.com18~19일AI World Congress 2025영국, 런던aiconference.london18~20일(MVEX 2025) 2025 메타버스 엑스포서울, 강남metavexpo.com7월8~11일AI for Good Global Summit 2025스위스, 제네바aiforgood.itu.int13~19일 ICML 2025캐나다, 밴쿠버icml.cc25~27일IEEE 7th International Conference on AI, CS and IP중국, 항저우www.aicsconf.cn27~1일the Association for Computational Linguistics오스트리아, 빈2025.aclweb.org8월11~13일(Ai4 2025) the Forefront of AI Innovation미국, 라스베이거스ai4.io/vegas16~22일(IJCAI 2025) International Joint Conference on Artificial Intelligence캐나다, 몬트리올2025.ijcai.org9월3~5일 2025 산업AI EXPO서울, 강서industrialaiexpo.or.kr9~11일AI Infra Summit 2025미국, 산타클라라www.ai-infra-summit.com17~18일The AI Conference미국, 샌프란시스코aiconference.com17~18일 Meta')]"
      ]
     },
     "execution_count": 14,
     "metadata": {},
     "output_type": "execute_result"
    }
   ],
   "source": [
    "retriever.invoke(\"미국 캘리포니아주 의회가 발의한 법안은?\")"
   ]
  },
  {
   "cell_type": "markdown",
   "id": "f266b9ab",
   "metadata": {},
   "source": [
    "## 상태"
   ]
  },
  {
   "cell_type": "code",
   "execution_count": 16,
   "id": "9a0114d7",
   "metadata": {},
   "outputs": [],
   "source": [
    "from typing import TypedDict, Annotated\n",
    "from langchain_core.documents import Document\n",
    "\n",
    "\n",
    "class State(TypedDict):\n",
    "    question: Annotated[str, \"사용자 질문\"]\n",
    "    generation: Annotated[str, \"LLM에서 생성된 답변\"]\n",
    "    web_search: Annotated[str, \"웹검색 필요 여부\"]\n",
    "    documents: Annotated[list[Document], \"검색된 문서들\"]"
   ]
  },
  {
   "cell_type": "markdown",
   "id": "03b04fdd",
   "metadata": {},
   "source": [
    "## 문서 검색 노드"
   ]
  },
  {
   "cell_type": "code",
   "execution_count": 17,
   "id": "c1406564",
   "metadata": {},
   "outputs": [],
   "source": [
    "def retrieve_node(state: State):\n",
    "    question = state.get(\"question\")\n",
    "    documents = retriever.invoke(question)\n",
    "    return {\"documents\": documents}"
   ]
  },
  {
   "cell_type": "code",
   "execution_count": 20,
   "id": "df57d7ad",
   "metadata": {},
   "outputs": [
    {
     "data": {
      "text/plain": [
       "{'documents': [Document(id='7625e4ff-c11a-4443-b3e5-384bfc6a1814', metadata={'producer': 'Hancom PDF 1.3.0.505', 'creator': 'Hancom PDF 1.3.0.505', 'creationdate': '2025-10-02T12:57:42+09:00', 'author': 'dj', 'moddate': '2025-10-02T12:57:42+09:00', 'pdfversion': '1.4', 'source': './temp/doc.pdf', 'total_pages': 29, 'page': 9, 'page_label': '10'}, page_content='SPRi AI Brief2025년 10월호\\n8\\n구글, 이미지 편집 모델 ‘제미나이 2.5 플래시 이미지’ 공개n‘나노 바나나’라는 가칭으로 LMArena에서 1위를 차지했던 ‘제미나이 2.5 플래시 이미지’가 제미나이 앱의 이미지 편집 기능에 정식으로 채택 n제미나이 2.5 플래시 이미지는 사람이나 동물과 같은 캐릭터의 일관성에서 뛰어난 품질을 발휘하여, 배경이나 설정을 바꾸거나 여러 장의 사진을 합성해도 동일한 형상을 유지\\nKEY Contents\\n£ ‘나노 바나나’로 사전 공개된 ‘제미나이 2.5 플래시 이미지’, 제미나이 앱에 추가n구글이 제미나이 앱에 새로운 이미지 생성·편집 모델 ‘제미나이 2.5 플래시 이미지(Gemini 2.5 Flash Image)’ 기반의 이미지 편집 기능을 추가 ∙이 모델은 LMArena*에서 ‘나노 바나나(Nano Banana)’라는 가칭으로 공개되어 뛰어난 성능으로 1위를 차지하며 화제를 모았으며, 이번 업데이트로 제미나이 앱에 통합* 인간 선호도를 기반으로 AI 모델을 비교 평가하는 웹 기반 플랫폼∙이번 업데이트는 전 세계 유·무료 사용자에게 모두 제공되며, 제미나이 앱에서 생성되거나 편집된 모든 이미지에는 육안으로 식별되지 않는 워터마크가 포함되어 AI 생성 사실을 확인 가능n구글은 2025년 4월 제미나이 앱에 AI 이미지 편집 기능을 도입한 이래, 캐릭터 일관성에 중점을 두고 기술을 개선해 왔으며, 제미나이 2.5 플래시 이미지는 캐릭터 일관성 유지에서 뛰어난 품질을 달성∙사람이나 동물 사진을 업로드하면 배경이나 설정을 바꾸더라도 모든 이미지에서 동일한 모습을 유지하며, 여러 장의 사진을 업로드하고 합성하여 새로운 장면을 만들어낼 수 있도록 지원∙실내 이미지에서 벽의 색을 바꾸거나 책장, 테이블 등의 가구를 차례로 추가하는 등 여러 차례에 걸쳐 특정 부분을 수정하면서 나머지 부분을 유지하는 것도 가능하며, 한 이미지의 스타일을 다른 이미지에 적용하는 기능도 지원(예시: 나비 날개 패턴을 드레스 디자인에 합성)'),\n",
       "  Document(id='45538ebc-e16f-4dc7-9118-b9cdc5c7b54f', metadata={'producer': 'Hancom PDF 1.3.0.505', 'creator': 'Hancom PDF 1.3.0.505', 'creationdate': '2025-10-02T12:57:42+09:00', 'author': 'dj', 'moddate': '2025-10-02T12:57:42+09:00', 'pdfversion': '1.4', 'source': './temp/doc.pdf', 'total_pages': 29, 'page': 23, 'page_label': '24'}, page_content='| 2025년 10월호 |\\n인력･교육'),\n",
       "  Document(id='f4392638-d762-4a4f-b199-7d85b2ecd7b9', metadata={'producer': 'Hancom PDF 1.3.0.505', 'creator': 'Hancom PDF 1.3.0.505', 'creationdate': '2025-10-02T12:57:42+09:00', 'author': 'dj', 'moddate': '2025-10-02T12:57:42+09:00', 'pdfversion': '1.4', 'source': './temp/doc.pdf', 'total_pages': 29, 'page': 20, 'page_label': '21'}, page_content='<수학 벤치마크 평균 점수 기준 K2-Think와 경쟁 모델 비교>\\n출처 | MBZUAI, MBZUAI and G42 Launch K2 Think: A Leading Open-Source System for Advanced AI Reasoning, 2025.09.09.'),\n",
       "  Document(id='533586b4-c53c-4520-ba49-df1ce11b5e51', metadata={'producer': 'Hancom PDF 1.3.0.505', 'creator': 'Hancom PDF 1.3.0.505', 'creationdate': '2025-10-02T12:57:42+09:00', 'author': 'dj', 'moddate': '2025-10-02T12:57:42+09:00', 'pdfversion': '1.4', 'source': './temp/doc.pdf', 'total_pages': 29, 'page': 28, 'page_label': '29'}, page_content='홈페이지 : https://spri.kr보고서와 관련된 문의는 AI정책연구실(hs.lee@spri.kr, 031-739-7333)로 연락주시기 바랍니다.경기도 성남시 분당구 대왕판교로 712번길 22 글로벌 R&D 연구동(B) 4층22, Daewangpangyo-ro 712beon-gil, Bundang-gu, Seongnam-si, Gyeonggi-do, Republic of Korea, 13488'),\n",
       "  Document(id='5af770c5-c1d2-44bd-ab75-321e283d4c62', metadata={'producer': 'Hancom PDF 1.3.0.505', 'creator': 'Hancom PDF 1.3.0.505', 'creationdate': '2025-10-02T12:57:42+09:00', 'author': 'dj', 'moddate': '2025-10-02T12:57:42+09:00', 'pdfversion': '1.4', 'source': './temp/doc.pdf', 'total_pages': 29, 'page': 15, 'page_label': '16'}, page_content='카트를 제시하면 사용자가 “카트 위임장”으로 승인해 품목과 가격을 확정∙(에이전트 단독 구매) 콘서트 티켓 판매 시작 후 구매와 같이 구매를 위임한 경우, 사용자가 사전에 상세한 구매 조건을 명시한 “의향 위임장”에 서명하여 정확한 조건 충족 시 자동으로 ‘카트 위임장’을 생성∙사용자 실시간 참여 구매 및 에이전트 단독 구매 시나리오 모두 사용자 의향부터 카트, 결제까지 전 과정에서 사용자 승인과 진위 여부를 확정하는 확실한 증거를 생성해 책임 소재를 명확히 제시n구글에 따르면 AP2는 유연한 설계 방식으로 단순한 구매 방식부터 지금까지 없던 완전히 새로운 구매 방식까지 모두 지원할 수 있는 기반을 제공∙일례로 사용자가 원하는 특정 색상의 상품이 없을 때 에이전트에게 최대 20%까지 더 지불할 의향이 있다고 밝히면 가격과 재고 현황을 모니터링해 해당 상품이 발견되면 자동으로 구매를 실행하도록 설정 가능n구글은 코인베이스(Coinbase), 이더리움 재단(Ethereum Foundation) 등과 협력해 암호화폐 기반의 에이전트 결제를 위한 개방형 확장 규격(A2A x402)도 출시해 AP2에서 스테이블코인과 암호화폐 등 다양한 결제 수단을 지원출처 | Google Cloud, Powering AI commerce with the new Agent Payments Protocol (AP2), 2025.09.17.')]}"
      ]
     },
     "execution_count": 20,
     "metadata": {},
     "output_type": "execute_result"
    }
   ],
   "source": [
    "results = retrieve_node({\"question\": \"구글이 공개한 이미지 편집 모델 이름은?\"})\n",
    "results"
   ]
  },
  {
   "cell_type": "markdown",
   "id": "284d666f",
   "metadata": {},
   "source": [
    "## 답변 생성 노드"
   ]
  },
  {
   "cell_type": "code",
   "execution_count": 21,
   "id": "7249d79c",
   "metadata": {},
   "outputs": [],
   "source": [
    "from langchain_openai import ChatOpenAI\n",
    "\n",
    "llm = ChatOpenAI(model=\"gpt-4.1-mini\", temperature=0)\n",
    "\n",
    "\n",
    "def generate_node(state: State):\n",
    "    question = state.get(\"question\")\n",
    "    documents = state.get(\"documents\")\n",
    "    system_prompt = \"\"\"당신은 질문-답변(Question-Answering)을 수행하는 친절한 AI 어시스턴트입니다. 당신의 임무는 주어진 문맥(context) 에서 주어진 질문(question) 에 답하는 것입니다.\n",
    "검색된 다음 문맥(context) 을 사용하여 질문(question) 에 답하세요. 만약, 주어진 문맥(context) 에서 답을 찾을 수 없다면, 답을 모른다면 `주어진 정보에서 질문에 대한 정보를 찾을 수 없습니다` 라고 답하세요.\n",
    "한글로 답변해 주세요. 단, 기술적인 용어나 이름은 번역하지 않고 그대로 사용해 주세요.\"\"\"\n",
    "    prompt_template = \"#Question: {question}\\n\\n #Context: {context}\\n\\n #Answer:\"\n",
    "\n",
    "    response = llm.invoke(\n",
    "        [\n",
    "            (\"system\", system_prompt),\n",
    "            (\n",
    "                \"user\",\n",
    "                prompt_template.format(\n",
    "                    question=question,\n",
    "                    context=documents,\n",
    "                ),\n",
    "            ),\n",
    "        ]\n",
    "    )\n",
    "    return {\"generation\": response.content}"
   ]
  },
  {
   "cell_type": "code",
   "execution_count": 22,
   "id": "2aa92efc",
   "metadata": {},
   "outputs": [
    {
     "data": {
      "text/plain": [
       "{'generation': '구글이 공개한 이미지 편집 모델 이름은 ‘제미나이 2.5 플래시 이미지(Gemini 2.5 Flash Image)’입니다.'}"
      ]
     },
     "execution_count": 22,
     "metadata": {},
     "output_type": "execute_result"
    }
   ],
   "source": [
    "generate_node({**results, \"question\": \"구글이 공개한 이미지 편집 모델 이름은?\"})"
   ]
  },
  {
   "cell_type": "markdown",
   "id": "1a9e3ffd",
   "metadata": {},
   "source": [
    "## 관련성 평가 노드"
   ]
  },
  {
   "cell_type": "code",
   "execution_count": 23,
   "id": "da55fdca",
   "metadata": {},
   "outputs": [],
   "source": [
    "from pydantic import BaseModel, Field\n",
    "\n",
    "\n",
    "class GradeDocuments(BaseModel):\n",
    "    \"\"\"검색된 문서의 관련성을 판단하기 위한 binary score\"\"\"\n",
    "\n",
    "    binary_score: str = Field(\n",
    "        ...,\n",
    "        description=\"검색된 문서가 사용자 질문과 얼마나 관련성이 있는지 평가하는 평가자입니다.\\n\"\n",
    "        \"문서에 질문과 관련된 키워드나 의미론적 내용이 포함되어 있다면, 관련성이 있다고 평가하세요.\\n\"\n",
    "        \"문서가 질문과 관련이 있는지 여부를 나타내기 위해 'yes' 또는 'no'로 응답하세요\",\n",
    "    )\n",
    "\n",
    "\n",
    "def grade_documents_node(state: State):\n",
    "    question = state.get(\"question\")\n",
    "    documents = state.get(\"documents\")\n",
    "\n",
    "    prompt_template = (\n",
    "        \"Retrieved document: \\n\\n {document} \\n\\n User question: {question}\"\n",
    "    )\n",
    "    llm_with_structured_output = llm.with_structured_output(GradeDocuments)\n",
    "\n",
    "    filtered_docs: list[Document] = []\n",
    "    for doc in documents:\n",
    "        response = llm_with_structured_output.invoke(\n",
    "            prompt_template.format(\n",
    "                question=question,\n",
    "                document=doc,\n",
    "            )\n",
    "        )\n",
    "        if response.binary_score == \"yes\":\n",
    "            filtered_docs.append(doc)\n",
    "\n",
    "    return {\n",
    "        \"documents\": filtered_docs,\n",
    "        \"web_search\": \"yes\" if len(filtered_docs) == 0 else \"no\",\n",
    "    }"
   ]
  },
  {
   "cell_type": "markdown",
   "id": "26cd32b7",
   "metadata": {},
   "source": [
    "## 쿼리 재작성 노드"
   ]
  },
  {
   "cell_type": "code",
   "execution_count": 26,
   "id": "d9692f63",
   "metadata": {},
   "outputs": [],
   "source": [
    "def query_rewrite_node(state: State):\n",
    "    question = state.get(\"question\")\n",
    "    system_prompt = \"당신은 질문 재작성 도구입니다.\\n\"\n",
    "    \"제공된 질문을 웹 검색에 최적화된 더 좋은 질문으로 개선합니다.\\n\"\n",
    "    \"기존 질문을 살펴보고 의미적 의도/의미를 추론해 보세요.\\n\"\n",
    "    \"재작성된 질문만 반환하세요.\"\n",
    "    prompt_template = \"기존 질문: {question}\"\n",
    "    response = llm.invoke(\n",
    "        [\n",
    "            (\"system\", system_prompt),\n",
    "            (\n",
    "                \"user\",\n",
    "                prompt_template.format(question=question),\n",
    "            ),\n",
    "        ]\n",
    "    )\n",
    "    return {\"question\": response.content}"
   ]
  },
  {
   "cell_type": "code",
   "execution_count": 27,
   "id": "c94c44f7",
   "metadata": {},
   "outputs": [
    {
     "data": {
      "text/plain": [
       "{'question': '구글이 개발한 이미지 생성 AI 모델에는 어떤 것들이 있나요?'}"
      ]
     },
     "execution_count": 27,
     "metadata": {},
     "output_type": "execute_result"
    }
   ],
   "source": [
    "query_rewrite_node({\"question\": \"구글이 만든 이미지 생성형 AI 모델은?\"})"
   ]
  },
  {
   "cell_type": "markdown",
   "id": "e7c8f8e6",
   "metadata": {},
   "source": [
    "## 웹 검색 노드"
   ]
  },
  {
   "cell_type": "code",
   "execution_count": 39,
   "id": "b99a40b0",
   "metadata": {},
   "outputs": [],
   "source": [
    "from langchain_tavily import TavilySearch\n",
    "\n",
    "web_search_tool = TavilySearch(max_results=3)\n",
    "\n",
    "\n",
    "def web_search_node(state: State):\n",
    "    question = state.get(\"question\")\n",
    "    documents = state.get(\"documents\", [])\n",
    "\n",
    "    results = web_search_tool.invoke({\"query\": question})\n",
    "    for r in results[\"results\"]:\n",
    "        documents.append(\n",
    "            Document(page_content=r[\"content\"], metadata={\"url\": r[\"url\"]})\n",
    "        )\n",
    "\n",
    "    return {\"documents\": documents}\n"
   ]
  },
  {
   "cell_type": "code",
   "execution_count": 40,
   "id": "cbf0b178",
   "metadata": {},
   "outputs": [
    {
     "data": {
      "text/plain": [
       "{'documents': [Document(metadata={'url': 'https://cloud.google.com/vertex-ai/generative-ai/docs/image/overview?hl=ko'}, page_content='Vertex AI 기반 Imagen은 Google의 최첨단 이미지 생성형 AI 특성을 애플리케이션 개발자에게 제공합니다. Vertex AI 기반 Imagen을 사용하면 애플리케이션 개발자는'),\n",
       "  Document(metadata={'url': 'https://marcus-story.tistory.com/65'}, page_content='Imagen-3는 Google DeepMind가 개발한 고급 텍스트-이미지 변환(T2I) 모델입니다. 이 모델은 텍스트 프롬프트로부터 고품질 이미지를 생성하는 잠재 확산'),\n",
       "  Document(metadata={'url': 'https://fundmeter.tistory.com/entry/%EA%B5%AC%EA%B8%80-AI-%EB%AA%A8%EB%8D%B8-%EC%A2%85%EB%A5%98-%EA%B0%81-%EB%AA%A8%EB%8D%B8%EB%B3%84-%ED%8A%B9%EC%A7%95-%EB%B9%84%EA%B5%90-%EB%B6%84%EC%84%9D'}, page_content='CodeGemma는 코딩 작업을 지원하며, PaliGemma는 이미지 및 비디오 관련 작업에 유용합니다. ## 그 외 다양한 Google AI 모델 Google은 Gemini와 Gemma')]}"
      ]
     },
     "execution_count": 40,
     "metadata": {},
     "output_type": "execute_result"
    }
   ],
   "source": [
    "web_search_node(\n",
    "    {\"question\": \"구글이 개발한 이미지 생성 AI 모델에는 어떤 것들이 있나요?\"}\n",
    ")"
   ]
  },
  {
   "cell_type": "markdown",
   "id": "958353a2",
   "metadata": {},
   "source": [
    "## 그래프 작성"
   ]
  },
  {
   "cell_type": "code",
   "execution_count": 41,
   "id": "3ec724dc",
   "metadata": {},
   "outputs": [],
   "source": [
    "from typing import Literal\n",
    "from langgraph.graph import StateGraph\n",
    "\n",
    "\n",
    "def decide_to_generate(state: State) -> Literal[\"query_rewrite\", \"generate\"]:\n",
    "    if state.get(\"web_search\") == \"yes\":\n",
    "        return \"query_rewrite\"\n",
    "    else:\n",
    "        return \"generate\"\n",
    "\n",
    "\n",
    "builder = StateGraph(State)\n",
    "builder.add_node(retrieve_node)\n",
    "builder.add_node(grade_documents_node)\n",
    "builder.add_node(generate_node)\n",
    "builder.add_node(query_rewrite_node)\n",
    "builder.add_node(web_search_node)\n",
    "\n",
    "builder.add_edge(retrieve_node.__name__, grade_documents_node.__name__)\n",
    "builder.add_conditional_edges(\n",
    "    grade_documents_node.__name__,\n",
    "    decide_to_generate,\n",
    "    {\n",
    "        \"query_rewrite\": query_rewrite_node.__name__,\n",
    "        \"generate\": generate_node.__name__,\n",
    "    },\n",
    ")\n",
    "builder.add_edge(query_rewrite_node.__name__, web_search_node.__name__)\n",
    "builder.add_edge(web_search_node.__name__, generate_node.__name__)\n",
    "\n",
    "builder.set_entry_point(retrieve_node.__name__)\n",
    "builder.set_finish_point(generate_node.__name__)\n",
    "\n",
    "graph = builder.compile()"
   ]
  },
  {
   "cell_type": "code",
   "execution_count": 42,
   "id": "a33341f5",
   "metadata": {},
   "outputs": [
    {
     "data": {
      "image/png": "[encoded data removed]",
      "text/plain": [
       "<IPython.core.display.Image object>"
      ]
     },
     "metadata": {},
     "output_type": "display_data"
    }
   ],
   "source": [
    "from IPython.display import display, Image\n",
    "\n",
    "display(Image(graph.get_graph().draw_mermaid_png()))"
   ]
  },
  {
   "cell_type": "markdown",
   "id": "50b043a3",
   "metadata": {},
   "source": [
    "## 그래프 실행"
   ]
  },
  {
   "cell_type": "code",
   "execution_count": 45,
   "id": "2110224b",
   "metadata": {},
   "outputs": [
    {
     "name": "stdout",
     "output_type": "stream",
     "text": [
      "\n",
      "===== RETRIEVE_NODE =====\n",
      "{'documents': [Document(id='682ab2c6-1c69-4aa8-90a0-13499b499fa5', metadata={'producer': 'Hancom PDF 1.3.0.505', 'creator': 'Hancom PDF 1.3.0.505', 'creationdate': '2025-10-02T12:57:42+09:00', 'author': 'dj', 'moddate': '2025-10-02T12:57:42+09:00', 'pdfversion': '1.4', 'source': './temp/doc.pdf', 'total_pages': 29, 'page': 18, 'page_label': '19'}, page_content='정책･법제기업･산업기술･연구인력･교육\\n17\\n세일즈포스, 실제 사용 환경에서 LLM 성능 검증을 위한 벤치마크 개발n세일즈포스가 실제 MCP 서버 기반의 다양한 작업을 통해 실제 사용 환경의 복잡성을 반영해 LLM의 성능을 평가할 수 있는 ‘MCP-Universe’ 벤치마크를 개발nMCP-Universe로 첨단 폐쇄형 및 개방형 AI 모델을 평가한 결과, 최고 점수를 기록한 GPT-5의 작업 성공률도 43.72%에 그쳐 MCP 기반 복잡한 작업 해결에 한계를 노출\\nKEY Contents'), Document(id='45538ebc-e16f-4dc7-9118-b9cdc5c7b54f', metadata={'producer': 'Hancom PDF 1.3.0.505', 'creator': 'Hancom PDF 1.3.0.505', 'creationdate': '2025-10-02T12:57:42+09:00', 'author': 'dj', 'moddate': '2025-10-02T12:57:42+09:00', 'pdfversion': '1.4', 'source': './temp/doc.pdf', 'total_pages': 29, 'page': 23, 'page_label': '24'}, page_content='| 2025년 10월호 |\\n인력･교육'), Document(id='ffc8a5e9-b07f-4731-915a-a7002d6a50b2', metadata={'producer': 'Hancom PDF 1.3.0.505', 'creator': 'Hancom PDF 1.3.0.505', 'creationdate': '2025-10-02T12:57:42+09:00', 'author': 'dj', 'moddate': '2025-10-02T12:57:42+09:00', 'pdfversion': '1.4', 'source': './temp/doc.pdf', 'total_pages': 29, 'page': 21, 'page_label': '22'}, page_content='가중치(Open-Weight) 모델과 비슷한 성능을 달성∙사전훈련 단계에서 일반 지식* 벤치마크 평가 평균 점수는 8B 모델은 65.8점, 70B 모델은 67.5점으로 올모2-7B(64.0점), 라마3.1-8B(65.4점)를 앞섰고, 라마3.1-70B(67.3점), 큐원 2.5-72B(69.8점)와 비슷한 수준을 기록 * ARC, HellaSwag, WinoGrande, XNLI, XCOPA, PIQA∙사후훈련을 통해 지시 이행 능력을 강화한 아페르투스 8B 모델은 지식 회상(Knowledge Recall) 벤치마크* 평가에서 유사 크기 모델 대비 경쟁력 있는 성능을 달성***  학습한 정보를 기억하는 능력: MMLU, Global-MMLU, TruthfulQA, TruthfulQA Multilingual**  평균 점수: 아페르투스-8B(58.8점), 라마-3.1-8B(59.2점), Qwen3-8B(57.8점), 올모2-7B(53.7점)∙그러나 수학과 코딩 벤치마크* 평가에서는 70B와 8B 모델 모두 최고 수준의 완전 개방형 모델 및 개방형 가중치 모델에 미달하는 것으로 확인*  코딩 벤치마크 HumanEval, MBPP 및 수학 벤치마크 GSM8K, MGSM, Hendrycks Math, MathQA**  평균 점수: 아페르투스 70B(54.4점), 아페르투스 8B(44.2점), Qwen3-32B(76.3점), 라마-3.1-8B(60.0점), 올모2-32B(56.7점) 출처 | ETH Zurich, Apertus: a fully open, transparent, multilingual language model, 2025.09.02.Arxiv, K2-Think: A Parameter-Efficient Reasoning System, 2025.09.09.'), Document(id='b8b1163a-fc0c-4215-aa8c-bd5a4bd6aafd', metadata={'producer': 'Hancom PDF 1.3.0.505', 'creator': 'Hancom PDF 1.3.0.505', 'creationdate': '2025-10-02T12:57:42+09:00', 'author': 'dj', 'moddate': '2025-10-02T12:57:42+09:00', 'pdfversion': '1.4', 'source': './temp/doc.pdf', 'total_pages': 29, 'page': 25, 'page_label': '26'}, page_content='SW 개발자, 고객 서비스 담당자)은 노출도가 가장 낮은 직업군(예: 보건의료 보조) 대비 고용이 약 12% 감소해 통계적으로 유의미한 차이를 기록n이러한 결과는 기술 직종이나 원격근무 가능 직종 제외, 시간제와 임시직 근로자 포함 등 대안적 표본 구성에서도 일관되게 나타나, 생성 AI 확산이 경력 초기 근로자에게 불균형적으로 부정적 고용효과를 유발하고 있음을 입증∙AI가 노동시장에 미치는 영향은 임금보다 고용에서 더 뚜렷하게 나타나며, 고용 변화와 대조적으로 연령이나 직종별 AI 노출도에 따른 연봉 차이는 미미한 수준으로, 이는 단기적으로 임금 경직성이 존재하며, 초기에는 AI가 임금보다 고용에 더 큰 영향을 미칠 수 있음을 시사∙한편, AI로 자동화되는 직업에서는 경력 초기 근로자 고용이 감소했으나 AI 사용이 주로 인간 노동을 보완하는 직업에서는 고용이 유지되는 것으로 확인출처 | Stanford University, Canaries in the Coal Mine? Six Facts about the Recent Employment Effects of Artificial Intelligence, 2025.08.26.'), Document(id='7d834587-4adf-4312-a4a3-c4cd71b8a678', metadata={'producer': 'Hancom PDF 1.3.0.505', 'creator': 'Hancom PDF 1.3.0.505', 'creationdate': '2025-10-02T12:57:42+09:00', 'author': 'dj', 'moddate': '2025-10-02T12:57:42+09:00', 'pdfversion': '1.4', 'source': './temp/doc.pdf', 'total_pages': 29, 'page': 12, 'page_label': '13'}, page_content='£앤스로픽, AI 훈련을 위해 불법 복제한 50만 권의 저작물에 권당 3,000달러 지급 계획n앤스로픽이 불법복제 도서를 이용해 AI 모델을 훈련한 혐의로 제기된 저작권 침해 소송에서 작가들에게 15억 달러를 지급하기로 합의∙작가 3인이 2024년 8월 제기한 저작권 침해 소송에서 원고 측은 앤스로픽이 수백만 권의 불법복제 작품을 사용해 AI 모델을 훈련함으로써 저작권법을 위반했으며 저작권 도용을 은폐하려 했다고 주장∙샌프란시스코 연방법원의 윌리엄 알섭(William Alsup) 판사는 2025년 6월 판결에서 앤스로픽이 작가 3인의 책을 AI 모델 학습에 사용한 행위는 공정이용(Fair Use)*으로 인정* 공정이용(Fair Use): 저작권으로 보호되는 저작물을 저작권자 허락 없이도 일정 범위 내에서 이용할 수 있도록 허용∙그러나 판사는 공정이용 주장이 앤스로픽이 전자책 불법복제 사이트에서 입수한 700만 권 이상의 책에는 적용되지 않는다며, 불법복제 목록에 포함된 작가들을 대신해 작가 3인이 집단소송을 제기할 수 있다고 판결 ∙재판부는 연구 목적이라는 명분이 있더라도 정당한 방식으로 자료를 확보했어야 한다고 강조하며, 공정이용 주장이 성립하려면 초기 복제 단계부터 합법성을 확보해야 한다는 원칙을 명확히 제시∙앤스로픽은 약 50만 건의 저작물 청구에 건당 3,000달러씩 총 15억 달러를 지급하기로 합의했으며, 50만 건을 초과하는 청구에도 건당 3,000달러를 지급하기로 해, 최종 지급액은 청구 건수에 따라 달라질 전망n원고 측 변호인에 따르면 이번 합의금은 미국 저작권 소송 역사상 최대 규모로, 앤스로픽은 합의에 따라 불법적으로 다운로드한 원본 파일과 사본도 폐기 예정∙원고 측은 이번 합의는 과거 행위에 근거한 법적 청구만을 면제하며, 앤스로픽에 향후 AI 훈련에 대한 허가를 부여하거나, 2025년 8월 25일 이후 발생하는 법적 청구도 면제하지 않는다고 부연∙미국출판인협회의 마리아 팔란테(Maria Pallante) 회장은 이번 합의가 불법 복제한')]}\n",
      "\n",
      "===== GRADE_DOCUMENTS_NODE =====\n",
      "{'documents': [Document(id='682ab2c6-1c69-4aa8-90a0-13499b499fa5', metadata={'producer': 'Hancom PDF 1.3.0.505', 'creator': 'Hancom PDF 1.3.0.505', 'creationdate': '2025-10-02T12:57:42+09:00', 'author': 'dj', 'moddate': '2025-10-02T12:57:42+09:00', 'pdfversion': '1.4', 'source': './temp/doc.pdf', 'total_pages': 29, 'page': 18, 'page_label': '19'}, page_content='정책･법제기업･산업기술･연구인력･교육\\n17\\n세일즈포스, 실제 사용 환경에서 LLM 성능 검증을 위한 벤치마크 개발n세일즈포스가 실제 MCP 서버 기반의 다양한 작업을 통해 실제 사용 환경의 복잡성을 반영해 LLM의 성능을 평가할 수 있는 ‘MCP-Universe’ 벤치마크를 개발nMCP-Universe로 첨단 폐쇄형 및 개방형 AI 모델을 평가한 결과, 최고 점수를 기록한 GPT-5의 작업 성공률도 43.72%에 그쳐 MCP 기반 복잡한 작업 해결에 한계를 노출\\nKEY Contents')], 'web_search': 'no'}\n",
      "\n",
      "===== GENERATE_NODE =====\n",
      "{'generation': '세일즈포스가 개발한 LLM 성능 평가 지표는 ‘MCP-Universe’ 벤치마크입니다.'}\n"
     ]
    }
   ],
   "source": [
    "for event in graph.stream(\n",
    "    {\"question\": \"세일즈포스가 개발한 LLM 성능 평가 지표는?\"},\n",
    "    stream_mode=\"updates\",\n",
    "):\n",
    "    for key, value in event.items():\n",
    "        print(f\"\\n===== {key.upper()} =====\")\n",
    "        print(value)\n"
   ]
  },
  {
   "cell_type": "code",
   "execution_count": 46,
   "id": "0f0a7b9b",
   "metadata": {},
   "outputs": [
    {
     "name": "stdout",
     "output_type": "stream",
     "text": [
      "\n",
      "===== RETRIEVE_NODE =====\n",
      "{'documents': [Document(id='e6a247a0-91c3-4197-94e3-383cf7deaac1', metadata={'producer': 'Hancom PDF 1.3.0.505', 'creator': 'Hancom PDF 1.3.0.505', 'creationdate': '2025-10-02T12:57:42+09:00', 'author': 'dj', 'moddate': '2025-10-02T12:57:42+09:00', 'pdfversion': '1.4', 'source': './temp/doc.pdf', 'total_pages': 29, 'page': 20, 'page_label': '21'}, page_content='정책･법제기업･산업기술･연구인력･교육\\n19\\nMBZUAI와 G42, 추론 AI 모델 ‘K2 Think’ 오픈소스 공개nUAE의 모하메드 빈 자이드 AI 대학(MBZUAI)과 국영 AI 기업 G42가 혁신적인 사후 학습 기법과 테스트-타임 스케일링을 적용한 매개변수 320억 개의 추론 AI 모델 ‘K2 Think’를 공개nK2 Think는 수학 벤치마크에서 딥시크 V3.1과 오픈AI의 gpt-oss 120B와 같은 훨씬 더 큰 규모의 모델과 비슷한 성능을 기록했으며, 코딩 벤치마크에서는 딥시크 R1을 능가\\nKEY Contents'), Document(id='7625e4ff-c11a-4443-b3e5-384bfc6a1814', metadata={'producer': 'Hancom PDF 1.3.0.505', 'creator': 'Hancom PDF 1.3.0.505', 'creationdate': '2025-10-02T12:57:42+09:00', 'author': 'dj', 'moddate': '2025-10-02T12:57:42+09:00', 'pdfversion': '1.4', 'source': './temp/doc.pdf', 'total_pages': 29, 'page': 9, 'page_label': '10'}, page_content='SPRi AI Brief2025년 10월호\\n8\\n구글, 이미지 편집 모델 ‘제미나이 2.5 플래시 이미지’ 공개n‘나노 바나나’라는 가칭으로 LMArena에서 1위를 차지했던 ‘제미나이 2.5 플래시 이미지’가 제미나이 앱의 이미지 편집 기능에 정식으로 채택 n제미나이 2.5 플래시 이미지는 사람이나 동물과 같은 캐릭터의 일관성에서 뛰어난 품질을 발휘하여, 배경이나 설정을 바꾸거나 여러 장의 사진을 합성해도 동일한 형상을 유지\\nKEY Contents\\n£ ‘나노 바나나’로 사전 공개된 ‘제미나이 2.5 플래시 이미지’, 제미나이 앱에 추가n구글이 제미나이 앱에 새로운 이미지 생성·편집 모델 ‘제미나이 2.5 플래시 이미지(Gemini 2.5 Flash Image)’ 기반의 이미지 편집 기능을 추가 ∙이 모델은 LMArena*에서 ‘나노 바나나(Nano Banana)’라는 가칭으로 공개되어 뛰어난 성능으로 1위를 차지하며 화제를 모았으며, 이번 업데이트로 제미나이 앱에 통합* 인간 선호도를 기반으로 AI 모델을 비교 평가하는 웹 기반 플랫폼∙이번 업데이트는 전 세계 유·무료 사용자에게 모두 제공되며, 제미나이 앱에서 생성되거나 편집된 모든 이미지에는 육안으로 식별되지 않는 워터마크가 포함되어 AI 생성 사실을 확인 가능n구글은 2025년 4월 제미나이 앱에 AI 이미지 편집 기능을 도입한 이래, 캐릭터 일관성에 중점을 두고 기술을 개선해 왔으며, 제미나이 2.5 플래시 이미지는 캐릭터 일관성 유지에서 뛰어난 품질을 달성∙사람이나 동물 사진을 업로드하면 배경이나 설정을 바꾸더라도 모든 이미지에서 동일한 모습을 유지하며, 여러 장의 사진을 업로드하고 합성하여 새로운 장면을 만들어낼 수 있도록 지원∙실내 이미지에서 벽의 색을 바꾸거나 책장, 테이블 등의 가구를 차례로 추가하는 등 여러 차례에 걸쳐 특정 부분을 수정하면서 나머지 부분을 유지하는 것도 가능하며, 한 이미지의 스타일을 다른 이미지에 적용하는 기능도 지원(예시: 나비 날개 패턴을 드레스 디자인에 합성)'), Document(id='f411ae15-335e-4eb8-a920-fc37b919a9b8', metadata={'producer': 'Hancom PDF 1.3.0.505', 'creator': 'Hancom PDF 1.3.0.505', 'creationdate': '2025-10-02T12:57:42+09:00', 'author': 'dj', 'moddate': '2025-10-02T12:57:42+09:00', 'pdfversion': '1.4', 'source': './temp/doc.pdf', 'total_pages': 29, 'page': 11, 'page_label': '12'}, page_content='설계할 계획∙60개국 250명 이상의 의사로 구성된 글로벌 네트워크와 협력해 모델 안전에 관한 의견을 수렴하고, 섭식장애, 약물 사용, 청소년 건강 관련 전문 지식을 갖춘 임상의와 연구자를 네트워크에 추가 확보할 계획n(민감 질문에 대한 추론 모델 활용) 사용자의 정신건강 이상 징후를 반영하는 민감한 대화 시에는 비추론 모델 대비 안전 지침을 더욱 일관되게 적용하는 추론 모델로 전환해 더욱 유용한 답변을 제공할 방침n(청소년 보호 강화) 2025년 10월 내 부모를 위한 자녀 보호 기능을 도입하고, 만 18세 미만 사용자 대상 별도 환경과 규칙을 도입해 어떤 상황에서도 자살이나 자해에 관한 논의에 참여하지 않도록 설정할 계획 ∙13세 이상 자녀 계정과 부모 계정을 연결해 부모가 메모리와 대화 기록 등 특정 기능을 비활성화할 수 있도록 지원하며, 나이에 적합한 모델 행동 규칙을 디폴트로 활성화해 미성년자에게 적절한 응답을 제공 예정 출처 | OpenAI, Building more helpful ChatGPT experiences for everyone, 2025.09.02.         OpenAI, Teen safety, freedom, and privacy, 2025.09.16.         The New York Times, A Teen Was Suicidal. ChatGPT Was the Friend He Confided In, 2025.08.26.'), Document(id='5108ce12-bd20-4280-b591-0d8c9940a0c6', metadata={'producer': 'Hancom PDF 1.3.0.505', 'creator': 'Hancom PDF 1.3.0.505', 'creationdate': '2025-10-02T12:57:42+09:00', 'author': 'dj', 'moddate': '2025-10-02T12:57:42+09:00', 'pdfversion': '1.4', 'source': './temp/doc.pdf', 'total_pages': 29, 'page': 13, 'page_label': '14'}, page_content='SPRi AI Brief2025년 10월호\\n12\\n딥엘, 기업용 AI 에이전트 ‘딥엘 에이전트’ 발표n딥엘이 자연어 지시에 따라 다양한 기업 업무를 자율적으로 처리할 수 있는 범용 AI 에이전트로 설계된 ‘딥엘 에이전트’를 발표하고 베타 테스트를 거쳐 몇 달 안에 출시할 예정n딥엘 에이전트는 단순 업무부터 문서 현지화와 영업용 고객 목록 작성, 마케팅 자료 검토 등 복잡한 업무 흐름까지 자율적으로 처리할 수 있으며, 다단계 보안 장치를 통해 안전성을 향상\\nKEY Contents\\n£딥엘 에이전트, 업무 계획과 문서 번역, 마케팅 자료 검토 등 기업용 활용 사례에 특화n독일의 AI 기반 번역 솔루션 기업 딥엘(DeepL)이 2025년 9월 3일 자연어 지시를 받아 다양한 업무를 자율적으로 처리하는 범용 AI 에이전트 ‘딥엘 에이전트(DeepL Agent)’를 발표∙딥엘은 언어와 관련된 복잡한 과제 해결에서 수년간 축적된 연구와 통찰을 바탕으로 단순한 언어 이해를 넘어 스스로 추론하고 결정을 내리며 작업을 실행할 수 있는 기업용 AI 에이전트를 개발하게 되었다고 설명∙딥엘 에이전트는 자연어로 된 사용자 지시를 바탕으로 가상 키보드, 브라우저, 마우스를 사용해 작업을 수행하며, 사용자는 언제든지 에이전트를 중지하고 인간의 개입이 필요한 동작을 확인해 승인 가능∙개별 사용자뿐 아니라 관리자와 최고 경영진이 에이전트 사용 현황과 결과를 직접 제어할 수 있도록 다단계 보안 장치를 구축하고, 에이전트가 수행하는 모든 작업에 대한 모니터링과 관리 기능을 도입\\n<딥엘 에이전트의 화면>'), Document(id='1b08d163-f41b-4c56-9ca1-82b0cf6fb667', metadata={'producer': 'Hancom PDF 1.3.0.505', 'creator': 'Hancom PDF 1.3.0.505', 'creationdate': '2025-10-02T12:57:42+09:00', 'author': 'dj', 'moddate': '2025-10-02T12:57:42+09:00', 'pdfversion': '1.4', 'source': './temp/doc.pdf', 'total_pages': 29, 'page': 10, 'page_label': '11'}, page_content='KEY Contents\\n£‘그록 코드 패스트 1’, 빠른 응답 속도와 높은 경제성으로 일상 코딩 업무에 최적화nxAI가 에이전트 코딩에 특화된 추론 AI 모델 ‘그록 코드 패스트 1(grok-code-fast-1)’을 출시∙xAI에 따르면 그록 코드 패스트 1은 전체 소프트웨어 개발 스택에 능숙하고, 다양한 프로그래밍 언어*에서 뛰어난 성능을 발휘하며, 처음부터 새로 시작하는 프로젝트 구축부터 코드베이스 질의응답, 오류 수정 등 일반적인 프로그래밍 작업을 최소한의 감독만으로 완료 가능* 타입스크립트(TypeScript), 파이썬(Python), 자바(Java), 러스트(Rust), C++, 고(Go)nxAI는 기존 AI 모델이 강력한 성능에도 추론과 도구 호출 속도가 느려 에이전트 코딩에 부적합하다는 점을 지적하며, 일상 코딩 업무에 최적화된 빠르고 경제적인 모델로 그록 코드 패스트 1을 설계했다고 강조∙사용자가 모델의 사고 과정 첫 단락을 읽기 전에 이미 수십 개 도구 호출을 완료할 만큼 빠른 반응성을 구현하고, 자주 사용되는 요청을 미리 저장하는 캐싱 최적화를 통해 모델의 응답 속도를 개선∙그록 코드 패스트 1의 API 비용은 100만 입력 토큰 당 0.20달러(캐시된 입력은 0.02 달러), 100만 출력 토큰 당 1.50달러로 책정∙모델 성능 평가에서는 공개 벤치마크와 실제 테스트를 병행해 SWE-Bench-Verified* 평가에서 70.8%를 기록했고, 실제 사용자 사이에서도 일상적인 코딩 업무에서 빠르고 안정적이라는 평가를 확보 * 코드 작성, 오류 수정, 코드 검토 등 실제 소프트웨어 엔지니어링 문제를 다루는 벤치마크 \\n <‘그록 코드 패스트 1’과 경쟁 AI 모델의 성능 비교>\\nnxAI는 향후 개발자 커뮤니티의 피드백을 수렴해 신속한 업데이트를 제공할 계획으로, 이미 멀티모달 입력, 병렬 도구 호출, 확장된 컨텍스트 길이를 지원하는 변형 모델을 훈련 중이라고 설명출처 | xAI, Grok Code Fast 1, 2025.08.28.')]}\n",
      "\n",
      "===== GRADE_DOCUMENTS_NODE =====\n",
      "{'documents': [], 'web_search': 'yes'}\n",
      "\n",
      "===== QUERY_REWRITE_NODE =====\n",
      "{'question': 'LG AI Research 팀에서 개발한 AI 모델 이름은 무엇인가요?'}\n",
      "\n",
      "===== WEB_SEARCH_NODE =====\n",
      "{'documents': [Document(metadata={'url': 'https://skywork.ai/skypage/ko/LG-AI%EC%9D%98-%EC%95%BC%EC%8B%AC,-%EC%97%91%EC%82%AC%EC%9B%90(EXAONE)-%EC%99%84%EC%A0%84-%ED%95%B4%EB%B6%80:-%EA%B8%B0%EC%88%A0,-%EC%9D%91%EC%9A%A9,-%EA%B7%B8%EB%A6%AC%EA%B3%A0-%EB%8C%80%ED%95%9C%EB%AF%BC%EA%B5%AD-AI%EC%9D%98-%EB%AF%B8%EB%9E%98/1948587394386034688'}, page_content='엑사원의 진화 과정 (EXAONE 1.0 ~ 3.5 &amp; Deep) 최신 플래그십: 엑사원 4.0의 핵심 기술 (Hybrid AI) 성능 벤치마크: 글로벌 경쟁 모델과의 비교 응용 사례 및 생태계 확장: 엑사원은 어떻게 활용되는가? 기업용 AI 에이전트 솔루션 (Enterprise AI Agent) 특화 전문 분야로의 확장 개방성과 접근성: 개발자 및 파트너 생태계 구축 산업적 영향과 전략적 비전: LG와 한국 AI 산업의 미래 LG의 궁극적 비전: &#39;에이전틱 AI&#39;를 넘어 &#39;피지컬 AI&#39;로 국가적 과제: AI 주권과 자생 생태계 구축 글로벌 AI 전쟁 속 엑사원의 위상 결론: 요약 및 전망 서론: 핵심 바로잡기 - LG &#39;엑사원(EXAONE)&#39; vs. 결론: 요약 및 전망 지금까지 LG의 독자 AI 모델 &#39;엑사원(EXAONE)&#39;의 기술적 깊이, 응용 사례, 그리고 산업적 비전을 다각도로 분석했습니다.'), Document(metadata={'url': 'https://www.msap.ai/blog-home/blog/exaone-lg-llm/'}, page_content='*   MSAP.ai 소개 *   AI *   AI 블로그 MSAP.ai 블로그 Exaone은 LG AI Research에서 개발한 **초거대 멀티모달 언어 모델**(large-scale multimodal language model)로, 텍스트뿐만 아니라 이미지 등 다양한 입력을 동시에 이해하고 처리할 수 있는 모델입니다. 기업이 **EXAONE 3.0을 상업적 서비스에 사용하려면** , 현재의 공개 라이선스 하에서는 **불가능**하며, 반드시 **LG AI Research와 별도의 상업용 라이선스 계약을 체결**해야 합니다. 다시 말해, Exaone은 불특정 다수를 위한 범용 AI 플랫폼이 아니라, 특정 산업 도메인에 최적화된 실용 중심의 AI로서, 명확한 정체성과 방향성을 갖고 있는 모델이라 할 수 있습니다. *   LG AI Research EXAONE 공식 페이지 *   LG AI연구원, 초거대 멀티모달 AI ‘EXAONE’ 공개 By MSAP.aiPublished On: 2025년 04월 04일 Categories: AI Blog, Blog0 Comments on Exaone 은 무엇인가? Image 9: MSAP.ai MSAP.ai AI'), Document(metadata={'url': 'https://www.lgresearch.ai/ourwork/research?tab=PF'}, page_content='LG AI Research LG AI Research 이를 통해 기존의 AI 문제를 푸는 데 언어 모델을 활용하거나, 새로운 영역의 문제를 정의하고 이를 풀고자 하는 시도가 늘어나고 있습니다. EXAONE Lab에서는 언어 모델이 더 많은 정보를 가지고, 더 많은 일을 수행할 수 있도록 초거대 언어 모델 기술을 연구합니다. * 차세대 하이브리드 AI, EXAONE 4.0 공개 * EXAONE 3.5 3개 모델 오픈소스로 공개 - Frontier AI급의 모델, Instruction Following 및 Long Context 최고 수준 성능 달성 * [[ACL 2024] AI-generated Text Detection 최신 연구 동향](javascript:;) * [[NeurIPS 2023] Large Language Model (LLM) 분야 최신 연구 동향](javascript:;) * 생성형 AI 시대: 거대 언어 모델(LLM)의 기술 방향성 * 삶을 이롭게 하는 초거대 AI 기술을 꿈꾸다, EXAONE Lab * LG AI연구원, 서울대와 손잡고 기존의 한계를 뛰어 넘는 ‘초거대 멀티모달 AI’ 개발')]}\n",
      "\n",
      "===== GENERATE_NODE =====\n",
      "{'generation': 'LG AI Research 팀에서 개발한 AI 모델 이름은 \"엑사원(EXAONE)\"입니다.'}\n"
     ]
    }
   ],
   "source": [
    "for event in graph.stream(\n",
    "    {\"question\": \"LG AI Research 팀에서 개발한 AI 모델 이름은?\"},\n",
    "    stream_mode=\"updates\",\n",
    "):\n",
    "    for key, value in event.items():\n",
    "        print(f\"\\n===== {key.upper()} =====\")\n",
    "        print(value)\n"
   ]
  },
  {
   "cell_type": "markdown",
   "id": "5fd10db2",
   "metadata": {},
   "source": []
  }
 ],
 "metadata": {
  "kernelspec": {
   "display_name": "langchain-academy (3.12.11)",
   "language": "python",
   "name": "python3"
  },
  "language_info": {
   "codemirror_mode": {
    "name": "ipython",
    "version": 3
   },
   "file_extension": ".py",
   "mimetype": "text/x-python",
   "name": "python",
   "nbconvert_exporter": "python",
   "pygments_lexer": "ipython3",
   "version": "3.12.11"
  }
 },
 "nbformat": 4,
 "nbformat_minor": 5
}
