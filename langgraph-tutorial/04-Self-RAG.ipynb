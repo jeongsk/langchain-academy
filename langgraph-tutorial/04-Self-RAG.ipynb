{
 "cells": [
  {
   "cell_type": "markdown",
   "id": "37054ef5",
   "metadata": {},
   "source": [
    "# Self-RAG (Self-Reflective Retrieval-Augmented Generation)\n",
    "\n",
    "Self-RAG는 2023년에 제안된 검색 증강 생성(RAG)의 발전된 형태로, 언어 모델이 **스스로 검색의 필요성을 판단**하고 **생성된 답변의 품질을 평가**하는 프레임워크입니다.\n",
    "\n",
    "### 핵심 개념\n",
    "\n",
    "기존 RAG는 항상 외부 문서를 검색하여 답변을 생성하지만, Self-RAG는 언어 모델이 다음을 스스로 결정합니다:\n",
    "\n",
    "1. **검색이 필요한지 여부**\n",
    "2. **검색된 문서가 관련성이 있는지**\n",
    "3. **생성된 답변이 문서에 근거하는지**\n",
    "4. **최종 답변이 유용한지**\n",
    "\n",
    "### 주요 구성 요소\n",
    "\n",
    "#### 1. Reflection Tokens (반성 토큰)\n",
    "Self-RAG는 특수한 토큰들을 사용하여 자기 평가를 수행합니다:\n",
    "\n",
    "- **Retrieve**: 검색이 필요한지 판단\n",
    "- **ISREL** (Is Relevant): 검색된 문서의 관련성 평가\n",
    "- **ISSUP** (Is Supported): 답변이 문서에 근거하는지 평가\n",
    "- **ISUSE** (Is Useful): 최종 답변의 유용성 평가\n",
    "\n",
    "```\n",
    "질문 입력\n",
    "    ↓\n",
    "[Retrieve 판단] \n",
    "    ↓\n",
    "필요시 문서 검색\n",
    "    ↓\n",
    "[ISREL로 문서 평가]\n",
    "    ↓\n",
    "답변 생성\n",
    "    ↓\n",
    "[ISSUP로 근거 확인]\n",
    "    ↓\n",
    "[ISUSE로 품질 평가]\n",
    "    ↓\n",
    "최종 답변 출력\n",
    "```\n",
    "\n",
    "### 장점\n",
    "\n",
    "1. **적응적 검색**: 모든 질문에 검색하지 않고 필요할 때만 검색\n",
    "2. **품질 보장**: 생성된 답변의 신뢰성과 근거를 자체 검증\n",
    "3. **효율성**: 불필요한 검색을 줄여 비용과 지연시간 감소\n",
    "4. **환각 감소**: 문서 근거 여부를 확인하여 잘못된 정보 생성 방지\n",
    "\n",
    "### 기존 RAG와의 차이\n",
    "\n",
    "| 구분 | 기존 RAG | Self-RAG |\n",
    "|------|---------|----------|\n",
    "| 검색 시점 | 항상 검색 | 필요시에만 검색 |\n",
    "| 품질 검증 | 없음 | 자체 평가 메커니즘 |\n",
    "| 유연성 | 고정된 파이프라인 | 동적으로 적응 |\n",
    "\n",
    "### 실제 응용\n",
    "\n",
    "Self-RAG는 다음과 같은 상황에서 특히 유용합니다:\n",
    "\n",
    "- **사실 기반 질문**: \"2024년 올림픽은 어디서 개최되었나요?\" → 검색 필요\n",
    "- **일반 지식**: \"하늘은 왜 파란가요?\" → 검색 불필요\n",
    "- **복잡한 추론**: 여러 문서를 비교하고 평가해야 하는 경우\n",
    "\n",
    "Self-RAG는 언어 모델에 **메타인지(metacognition)** 능력을 부여하여, 더 신뢰할 수 있고 효율적인 RAG 시스템을 구현하는 혁신적인 접근법입니다."
   ]
  },
  {
   "cell_type": "markdown",
   "id": "b9b58d01",
   "metadata": {},
   "source": [
    "Self-RAG는 검색된 문서와 생성 결과에 대한 자기-반성 / 자기-평가를 통합한 RAG 전략입니다.\n",
    "\n",
    "[논문](https://arxiv.org/abs/2310.11511)에서는 몇 가지 의사결정이 이루어집니다:\n",
    "\n",
    "1. 검색기 `R`로부터 검색을 수행해야 하는가?\n",
    "- 입력: `x (질문)` 또는 `x (질문)`, `y (생성 결과)`\n",
    "- `R`로 `D` 청크들을 검색할 시점을 결정\n",
    "- 출력: `yes, no, continue`\n",
    "\n",
    "2. 검색된 문단들 `D`가 질문 `x`와 관련이 있는가?\n",
    "- 입력: `D` 내의 각 `d`에 대해 (`x (질문)`, `d (청크)`)\n",
    "- `d`가 `x`를 해결하는 데 유용한 정보를 제공하는가?\n",
    "- 출력: `relevant, irrelevant`\n",
    "\n",
    "3. `D` 내의 각 청크로부터 생성된 LLM 결과가 해당 청크와 관련이 있는가 (환각 등)?\n",
    "- 입력: `D` 내의 각 `d`에 대해 `x (질문)`, `d (청크)`, `y (생성 결과)`\n",
    "- `y (생성 결과)` 내의 검증 가능한 모든 진술이 `d`에 의해 뒷받침되는가?\n",
    "- 출력: `{fully supported, partially supported, no support}`\n",
    "\n",
    "4. `D` 내의 각 청크로부터 생성된 LLM 결과가 `x (질문)`에 대한 유용한 응답인가?\n",
    "- 입력: `D` 내의 각 `d`에 대해 `x (질문)`, `y (생성 결과)`\n",
    "- `y (생성 결과)`가 `x (질문)`에 대한 유용한 응답인가?\n",
    "- 출력: `{5, 4, 3, 2, 1}`\n",
    "\n",
    "우리는 [LangGraph](https://langchain-ai.github.io/langgraph/)를 사용하여 이러한 아이디어들 중 일부를 처음부터 구현할 것입니다."
   ]
  },
  {
   "cell_type": "markdown",
   "id": "5d5ea997",
   "metadata": {},
   "source": [
    "\n",
    "![](https://i.imgur.com/AWsYXVL.png)\n",
    "\n"
   ]
  },
  {
   "cell_type": "markdown",
   "id": "0a78f208",
   "metadata": {},
   "source": [
    "- 참고 자료: https://wikidocs.net/270687\n",
    "- 관련 논문: https://arxiv.org/abs/2310.11511\n",
    "- 랭그래프 튜토리얼: https://langchain-ai.github.io/langgraph/tutorials/rag/langgraph_self_rag/"
   ]
  },
  {
   "cell_type": "markdown",
   "id": "9ac2d71f",
   "metadata": {},
   "source": [
    "## 환경 설정"
   ]
  },
  {
   "cell_type": "code",
   "execution_count": null,
   "id": "bee7763d",
   "metadata": {},
   "outputs": [],
   "source": [
    "%%capture --no-stderr\n",
    "%pip install -Uq langchain_community tiktoken langchain-openai langchainhub faiss-cpu langchain langgraph"
   ]
  },
  {
   "cell_type": "code",
   "execution_count": 1,
   "id": "216aaed3",
   "metadata": {},
   "outputs": [],
   "source": [
    "import os\n",
    "import getpass\n",
    "from dotenv import load_dotenv\n",
    "\n",
    "load_dotenv(\"../.env\", override=True)\n",
    "\n",
    "\n",
    "def _set_env(var: str):\n",
    "    env_value = os.environ.get(var)\n",
    "    if not env_value:\n",
    "        env_value = getpass.getpass(f\"{var}: \")\n",
    "\n",
    "    os.environ[var] = env_value\n",
    "\n",
    "\n",
    "_set_env(\"LANGSMITH_API_KEY\")\n",
    "os.environ[\"LANGSMITH_TRACING\"] = \"true\"\n",
    "os.environ[\"LANGSMITH_PROJECT\"] = \"langchain-academy\"\n",
    "_set_env(\"OPENAI_API_KEY\")"
   ]
  },
  {
   "cell_type": "markdown",
   "id": "ebef472c",
   "metadata": {},
   "source": [
    "## Retriever\n",
    "블로그 게시물 3개를 임베딩합니다."
   ]
  },
  {
   "cell_type": "code",
   "execution_count": null,
   "id": "c8d038c9",
   "metadata": {},
   "outputs": [],
   "source": [
    "from langchain.text_splitter import RecursiveCharacterTextSplitter\n",
    "from langchain_community.document_loaders import WebBaseLoader\n",
    "from langchain_community.vectorstores import FAISS\n",
    "from langchain_openai import OpenAIEmbeddings\n",
    "\n",
    "# ===== 1. 데이터 수집 =====\n",
    "# 분석할 웹페이지 URL 목록 정의\n",
    "urls = [\n",
    "    \"https://lilianweng.github.io/posts/2023-06-23-agent/\",  # AI 에이전트 관련 포스트\n",
    "    \"https://lilianweng.github.io/posts/2023-03-15-prompt-engineering/\",  # 프롬프트 엔지니어링 관련 포스트\n",
    "    \"https://lilianweng.github.io/posts/2023-10-25-adv-attack-llm/\",  # LLM 공격 기법 관련 포스트\n",
    "]\n",
    "\n",
    "# 각 URL에서 웹 페이지 내용을 로드\n",
    "# WebBaseLoader를 사용하여 HTML 콘텐츠를 다운로드하고 파싱\n",
    "docs = [WebBaseLoader(url).load() for url in urls]\n",
    "\n",
    "# 중첩된 리스트를 평탄화(flatten)하여 단일 리스트로 변환\n",
    "# docs는 [[doc1], [doc2], [doc3]] 형태이므로 [doc1, doc2, doc3]로 변환\n",
    "docs_list = [item for sublist in docs for item in sublist]\n",
    "\n",
    "\n",
    "# ===== 2. 문서 분할 =====\n",
    "# RecursiveCharacterTextSplitter 생성\n",
    "# tiktoken 인코더를 사용하여 토큰 기반으로 문서를 분할\n",
    "text_splitter = RecursiveCharacterTextSplitter.from_tiktoken_encoder(\n",
    "    chunk_size=250,  # 각 청크의 최대 토큰 수 (약 250 토큰)\n",
    "    chunk_overlap=0,  # 청크 간 겹치는 토큰 수 (0이면 겹침 없음)\n",
    ")\n",
    "\n",
    "# 로드된 문서들을 작은 청크로 분할\n",
    "# 큰 문서를 작은 단위로 나누어 임베딩 및 검색 성능 향상\n",
    "doc_splits = text_splitter.split_documents(docs_list)\n",
    "\n",
    "\n",
    "# ===== 3. 벡터 DB 생성 및 검색기 설정 =====\n",
    "# FAISS 벡터 데이터베이스 생성\n",
    "# 분할된 문서들을 임베딩하여 벡터 형태로 저장\n",
    "vectorstore = FAISS.from_documents(\n",
    "    documents=doc_splits,  # 분할된 문서 청크들\n",
    "    embedding=OpenAIEmbeddings(\n",
    "        model=\"text-embedding-3-small\"  # OpenAI의 임베딩 모델 사용\n",
    "    ),\n",
    ")\n",
    "\n",
    "# 벡터스토어를 검색기(retriever)로 변환\n",
    "retriever = vectorstore.as_retriever()"
   ]
  },
  {
   "cell_type": "code",
   "execution_count": null,
   "id": "ed4f6482",
   "metadata": {},
   "outputs": [
    {
     "data": {
      "text/plain": [
       "[Document(id='4d8fcb86-4690-4193-aa0f-e83c87106969', metadata={'source': 'https://lilianweng.github.io/posts/2023-10-25-adv-attack-llm/', 'title': \"Adversarial Attacks on LLMs | Lil'Log\", 'description': 'The use of large language models in the real world has strongly accelerated by the launch of ChatGPT. We (including my team at OpenAI, shoutout to them) have invested a lot of effort to build default safe behavior into the model during the alignment process (e.g. via RLHF). However, adversarial attacks or jailbreak prompts could potentially trigger the model to output something undesired.\\nA large body of ground work on adversarial attacks is on images, and differently it operates in the continuous, high-dimensional space. Attacks for discrete data like text have been considered to be a lot more challenging, due to lack of direct gradient signals. My past post on Controllable Text Generation is quite relevant to this topic, as attacking LLMs is essentially to control the model to output a certain type of (unsafe) content.', 'language': 'en'}, page_content='Why UATs work is an interesting question. Because they are input-agnostic and can transfer between models with different embeddings, tokenization and architecture, UATs probably exploit biases effectively in the training data that gets baked into the global model behavior.\\nOne drawback with UAT (Universal Adversarial Trigger) attacks is that it is easy to detect them because the learned triggers are often nonsensical. Mehrabi et al. (2022) studied two variations of UAT that encourage learned toxic triggers to be imperceptible in the context of multi-turn conversations. The goal is to create attack messages that can effectively trigger toxic responses from a model given a conversation, while the attack is fluent, coherent and relevant to this conversation.\\nThey explored two variations of UAT:'),\n",
       " Document(id='1fd600ae-05af-4008-86ed-ba9cdff31cc3', metadata={'source': 'https://lilianweng.github.io/posts/2023-06-23-agent/', 'title': \"LLM Powered Autonomous Agents | Lil'Log\", 'description': 'Building agents with LLM (large language model) as its core controller is a cool concept. Several proof-of-concepts demos, such as AutoGPT, GPT-Engineer and BabyAGI, serve as inspiring examples. The potentiality of LLM extends beyond generating well-written copies, stories, essays and programs; it can be framed as a powerful general problem solver.\\nAgent System Overview\\nIn a LLM-powered autonomous agent system, LLM functions as the agent’s brain, complemented by several key components:\\n\\nPlanning\\n\\nSubgoal and decomposition: The agent breaks down large tasks into smaller, manageable subgoals, enabling efficient handling of complex tasks.\\nReflection and refinement: The agent can do self-criticism and self-reflection over past actions, learn from mistakes and refine them for future steps, thereby improving the quality of final results.\\n\\n\\nMemory\\n\\nShort-term memory: I would consider all the in-context learning (See Prompt Engineering) as utilizing short-term memory of the model to learn.\\nLong-term memory: This provides the agent with the capability to retain and recall (infinite) information over extended periods, often by leveraging an external vector store and fast retrieval.\\n\\n\\nTool use\\n\\nThe agent learns to call external APIs for extra information that is missing from the model weights (often hard to change after pre-training), including current information, code execution capability, access to proprietary information sources and more.\\n\\n\\n\\n\\n\\t\\n\\tOverview of a LLM-powered autonomous agent system.\\n\\nComponent One: Planning\\nA complicated task usually involves many steps. An agent needs to know what they are and plan ahead.', 'language': 'en'}, page_content='Resources:\\n1. Internet access for searches and information gathering.\\n2. Long Term memory management.\\n3. GPT-3.5 powered Agents for delegation of simple tasks.\\n4. File output.\\n\\nPerformance Evaluation:\\n1. Continuously review and analyze your actions to ensure you are performing to the best of your abilities.\\n2. Constructively self-criticize your big-picture behavior constantly.\\n3. Reflect on past decisions and strategies to refine your approach.\\n4. Every command has a cost, so be smart and efficient. Aim to complete tasks in the least number of steps.'),\n",
       " Document(id='080cfdf0-d4be-4677-aadd-d5504c84b6cf', metadata={'source': 'https://lilianweng.github.io/posts/2023-06-23-agent/', 'title': \"LLM Powered Autonomous Agents | Lil'Log\", 'description': 'Building agents with LLM (large language model) as its core controller is a cool concept. Several proof-of-concepts demos, such as AutoGPT, GPT-Engineer and BabyAGI, serve as inspiring examples. The potentiality of LLM extends beyond generating well-written copies, stories, essays and programs; it can be framed as a powerful general problem solver.\\nAgent System Overview\\nIn a LLM-powered autonomous agent system, LLM functions as the agent’s brain, complemented by several key components:\\n\\nPlanning\\n\\nSubgoal and decomposition: The agent breaks down large tasks into smaller, manageable subgoals, enabling efficient handling of complex tasks.\\nReflection and refinement: The agent can do self-criticism and self-reflection over past actions, learn from mistakes and refine them for future steps, thereby improving the quality of final results.\\n\\n\\nMemory\\n\\nShort-term memory: I would consider all the in-context learning (See Prompt Engineering) as utilizing short-term memory of the model to learn.\\nLong-term memory: This provides the agent with the capability to retain and recall (infinite) information over extended periods, often by leveraging an external vector store and fast retrieval.\\n\\n\\nTool use\\n\\nThe agent learns to call external APIs for extra information that is missing from the model weights (often hard to change after pre-training), including current information, code execution capability, access to proprietary information sources and more.\\n\\n\\n\\n\\n\\t\\n\\tOverview of a LLM-powered autonomous agent system.\\n\\nComponent One: Planning\\nA complicated task usually involves many steps. An agent needs to know what they are and plan ahead.', 'language': 'en'}, page_content='Short-term memory: I would consider all the in-context learning (See Prompt Engineering) as utilizing short-term memory of the model to learn.\\nLong-term memory: This provides the agent with the capability to retain and recall (infinite) information over extended periods, often by leveraging an external vector store and fast retrieval.\\n\\n\\nTool use\\n\\nThe agent learns to call external APIs for extra information that is missing from the model weights (often hard to change after pre-training), including current information, code execution capability, access to proprietary information sources and more.\\n\\n\\n\\n\\n\\nOverview of a LLM-powered autonomous agent system.'),\n",
       " Document(id='f4f94b77-f2cf-4b31-8825-c44c13171cb1', metadata={'source': 'https://lilianweng.github.io/posts/2023-10-25-adv-attack-llm/', 'title': \"Adversarial Attacks on LLMs | Lil'Log\", 'description': 'The use of large language models in the real world has strongly accelerated by the launch of ChatGPT. We (including my team at OpenAI, shoutout to them) have invested a lot of effort to build default safe behavior into the model during the alignment process (e.g. via RLHF). However, adversarial attacks or jailbreak prompts could potentially trigger the model to output something undesired.\\nA large body of ground work on adversarial attacks is on images, and differently it operates in the continuous, high-dimensional space. Attacks for discrete data like text have been considered to be a lot more challenging, due to lack of direct gradient signals. My past post on Controllable Text Generation is quite relevant to this topic, as attacking LLMs is essentially to control the model to output a certain type of (unsafe) content.', 'language': 'en'}, page_content='In comparison, EDA (Easy Data Augmentation; Wei & Zou 2019) defines a set of simple and more general operations to augment text: synonym replacement, random insertion, random swap or random deletion. EDA augmentation is shown to improve the classification accuracy on several benchmarks.\\nTextFooler (Jin et al. 2019) and BERT-Attack (Li et al. 2020) follows the same process of first identifying the most important and vulnerable words that alter the model prediction the most and then replace those words in some way.\\nGiven a classifier $f$ and an input text string $\\\\mathbf{x}$, the importance score of each word can be measured by:')]"
      ]
     },
     "execution_count": 31,
     "metadata": {},
     "output_type": "execute_result"
    }
   ],
   "source": [
    "retriever.invoke(\"AI 에이전트란 무엇인가요?\")"
   ]
  },
  {
   "cell_type": "markdown",
   "id": "7921ce61",
   "metadata": {},
   "source": [
    "## 검색 평가자(Retrieval Grader)"
   ]
  },
  {
   "cell_type": "code",
   "execution_count": 33,
   "id": "ce0a9934",
   "metadata": {},
   "outputs": [
    {
     "name": "stdout",
     "output_type": "stream",
     "text": [
      "binary_score='yes'\n"
     ]
    }
   ],
   "source": [
    "from langchain_core.prompts import ChatPromptTemplate\n",
    "from pydantic import BaseModel, Field\n",
    "from langchain_openai import ChatOpenAI\n",
    "from typing import Annotated\n",
    "\n",
    "\n",
    "# ===== 1. 출력 스키마 정의 =====\n",
    "class GradeDocuments(BaseModel):\n",
    "    \"\"\"검색된 문서가 질문과 관련이 있는지 검증\"\"\"\n",
    "\n",
    "    binary_score: Annotated[str, Field(..., description=\"yes 또는 no\")]\n",
    "\n",
    "\n",
    "# ===== 2. LLM 모델 설정 =====\n",
    "# ChatOpenAI 인스턴스 생성\n",
    "llm = ChatOpenAI(model=\"gpt-4o-mini\", temperature=0)\n",
    "\n",
    "# LLM에 구조화된 출력 형식 적용\n",
    "# GradeDocuments 스키마에 맞춰 응답을 자동으로 파싱\n",
    "structured_llm_grader = llm.with_structured_output(GradeDocuments)\n",
    "\n",
    "\n",
    "# ===== 3. 프롬프트 템플릿 구성 =====\n",
    "# 시스템 메시지: LLM의 역할과 작업 방식을 정의\n",
    "system = \"\"\"당신은 검색된 문서가 사용자 질문과 얼마나 관련성이 있는지 평가하는 채점자입니다. \\n\n",
    "    엄격한 테스트일 필요는 없습니다. 목표는 오류 검색 결과를 걸러내는 것입니다. \\n\n",
    "    문서에 사용자 질문과 관련된 키워드나 의미론적 내용이 포함되어 있다면 관련성이 있다고 평가하십시오. \\n\n",
    "    문서가 질문과 관련이 있는지 여부를 나타내기 위해 'yes' 또는 'no'로 응답하세요.\"\"\"\n",
    "\n",
    "# ChatPromptTemplate 생성\n",
    "grade_prompt = ChatPromptTemplate.from_messages(\n",
    "    [\n",
    "        (\"system\", system),\n",
    "        (\"human\", \"검색된 문서: \\n\\n {document} \\n\\n 사용자 질문: {question}\"),\n",
    "    ]\n",
    ")\n",
    "\n",
    "\n",
    "# ===== 4. 체인 구성 =====\n",
    "retrieval_grader = grade_prompt | structured_llm_grader\n",
    "\n",
    "\n",
    "# ===== 5. 실행 및 테스트 =====\n",
    "question = \"에이전트 메모리\"\n",
    "\n",
    "# retriever를 사용하여 질문과 관련된 문서들을 검색\n",
    "docs = retriever.invoke(question)\n",
    "doc_txt = docs[1].page_content  # 첫번째 문서 선택\n",
    "\n",
    "# retrieval_grader 체인 실행\n",
    "result = retrieval_grader.invoke({\"question\": question, \"document\": doc_txt})\n",
    "print(result)  # 예상 출력 형태: binary_score='yes' 또는 binary_score='no'"
   ]
  },
  {
   "cell_type": "markdown",
   "id": "f8885417",
   "metadata": {},
   "source": [
    "## 답변 생성(Generate)"
   ]
  },
  {
   "cell_type": "code",
   "execution_count": null,
   "id": "e1377c02",
   "metadata": {},
   "outputs": [
    {
     "name": "stdout",
     "output_type": "stream",
     "text": [
      "에이전트 메모리는 크게 단기 메모리와 장기 메모리로 나뉩니다. 단기 메모리는 모델의 인-컨텍스트 학습을 통해 제한된 범위 내에서 정보를 처리하며, 장기 메모리는 외부 벡터 저장소를 활용해 무한에 가까운 정보를 장기간 저장하고 빠르게 검색할 수 있게 합니다. 이를 통해 에이전트는 과거 정보를 기억하고 활용하여 문제 해결 능력을 향상시킵니다.\n"
     ]
    }
   ],
   "source": [
    "from langchain import hub\n",
    "from langchain_core.output_parsers import StrOutputParser\n",
    "\n",
    "prompt = hub.pull(\"rlm/rag-prompt\")\n",
    "\n",
    "llm = ChatOpenAI(model=\"gpt-4.1-mini\", temperature=0)\n",
    "\n",
    "\n",
    "# Post-processing\n",
    "def format_docs(docs):\n",
    "    return \"\\n\\n\".join(doc.page_content for doc in docs)\n",
    "\n",
    "\n",
    "rag_chain = prompt | llm | StrOutputParser()\n",
    "\n",
    "generation = rag_chain.invoke({\"context\": docs, \"question\": question})\n",
    "print(generation)"
   ]
  },
  {
   "cell_type": "markdown",
   "id": "cd459e38",
   "metadata": {},
   "source": [
    "## 환각 평가(Hallucination Grader)"
   ]
  },
  {
   "cell_type": "code",
   "execution_count": 34,
   "id": "2c492537",
   "metadata": {},
   "outputs": [
    {
     "data": {
      "text/plain": [
       "GradeHallucinations(binary_score='yes')"
      ]
     },
     "execution_count": 34,
     "metadata": {},
     "output_type": "execute_result"
    }
   ],
   "source": [
    "class GradeHallucinations(BaseModel):\n",
    "    \"\"\"LLM 답변이 환각이 없는지 여부\"\"\"\n",
    "\n",
    "    binary_score: Annotated[str, Field(..., description=\"yes 또는 no\")]\n",
    "\n",
    "\n",
    "llm = ChatOpenAI(model=\"gpt-4.1-mini\", temperature=0)\n",
    "structured_llm_grader = llm.with_structured_output(GradeHallucinations)\n",
    "\n",
    "system = \"\"\"당신은 LLM 답변이 검색된 사실 자료에 근거하거나 이를 뒷받침하는지 평가하는 채점자입니다. \\n\n",
    "'yes' 또는 'no'로 응답하십시오. 'yes'는 답변이 사실 집합에 근거하거나 이를 뒷받침함을 의미합니다.\"\"\"\n",
    "hallucination_prompt = ChatPromptTemplate.from_messages(\n",
    "    [\n",
    "        (\"system\", system),\n",
    "        (\"human\", \"검색된 사실 자료: \\n\\n {documents} \\n\\n LLM 답변: {generation}\"),\n",
    "    ]\n",
    ")\n",
    "\n",
    "hallucination_grader = hallucination_prompt | structured_llm_grader\n",
    "hallucination_grader.invoke({\"documents\": docs, \"generation\": generation})"
   ]
  },
  {
   "cell_type": "markdown",
   "id": "d9f72b43",
   "metadata": {},
   "source": [
    "## 답안 평가(Answer Grader)"
   ]
  },
  {
   "cell_type": "code",
   "execution_count": 35,
   "id": "8d8fab6a",
   "metadata": {},
   "outputs": [
    {
     "data": {
      "text/plain": [
       "GradeAnswer(binary_score='yes')"
      ]
     },
     "execution_count": 35,
     "metadata": {},
     "output_type": "execute_result"
    }
   ],
   "source": [
    "class GradeAnswer(BaseModel):\n",
    "    \"\"\"질문에 대한 답변을 평가\"\"\"\n",
    "\n",
    "    binary_score: Annotated[str, Field(..., description=\"yes 또는 no\")]\n",
    "\n",
    "\n",
    "llm = ChatOpenAI(model=\"gpt-4.1-mini\", temperature=0)\n",
    "structured_llm_grader = llm.with_structured_output(GradeAnswer)\n",
    "\n",
    "system = \"\"\"당신은 답변이 질문을 잘 해결했는지 평가하는 채점자입니다. \\n\n",
    "    'yes' 또는 'no'로 응답하세요. 'yes'는 답변이 질문을 해결했음을 의미합니다.\"\"\"\n",
    "answer_prompt = ChatPromptTemplate.from_messages(\n",
    "    [\n",
    "        (\"system\", system),\n",
    "        (\"human\", \"사용자 질문: \\n\\n {question} \\n\\n 답변: {generation}\"),\n",
    "    ]\n",
    ")\n",
    "\n",
    "answer_grader = answer_prompt | structured_llm_grader\n",
    "answer_grader.invoke({\"question\": question, \"generation\": generation})"
   ]
  },
  {
   "cell_type": "markdown",
   "id": "592a9385",
   "metadata": {},
   "source": [
    "## 질문 재작성기(Question Re-writer)"
   ]
  },
  {
   "cell_type": "code",
   "execution_count": null,
   "id": "4d5aa15a",
   "metadata": {},
   "outputs": [
    {
     "data": {
      "text/plain": [
       "'에이전트 메모리의 개념과 활용 방법에 대해 설명해 주세요.'"
      ]
     },
     "execution_count": 18,
     "metadata": {},
     "output_type": "execute_result"
    }
   ],
   "source": [
    "llm = ChatOpenAI(model=\"gpt-4.1-mini\", temperature=0)\n",
    "\n",
    "system = \"\"\"당신은 질문 재작성기로서 입력된 질문을 벡터 저장소 검색에 최적화된 개선된 버전으로 변환합니다. \\n\n",
    "입력 내용을 분석하여 근본적인 의미적 의도/의미를 추론해 보세요.\"\"\"\n",
    "re_write_prompt = ChatPromptTemplate.from_messages(\n",
    "    [\n",
    "        (\"system\", system),\n",
    "        (\n",
    "            \"human\",\n",
    "            \"기존 질문: \\n\\n {question} \\n-> 개선된 질문을 작성하십시오.\",\n",
    "        ),\n",
    "    ]\n",
    ")\n",
    "\n",
    "question_rewriter = re_write_prompt | llm | StrOutputParser()\n",
    "question_rewriter.invoke({\"question\": question})"
   ]
  },
  {
   "cell_type": "markdown",
   "id": "7e986c37",
   "metadata": {},
   "source": [
    "## Graph\n",
    "그래프를 작성합니다.\n",
    "\n",
    "### Graph 상태"
   ]
  },
  {
   "cell_type": "code",
   "execution_count": 22,
   "id": "d9c32e0c",
   "metadata": {},
   "outputs": [],
   "source": [
    "from typing import TypedDict, Annotated\n",
    "\n",
    "\n",
    "class State(TypedDict):\n",
    "    question: Annotated[str, \"question\"]\n",
    "    generation: Annotated[str, \"LLM generation\"]\n",
    "    documents: Annotated[list[str], \"list of documents\"]"
   ]
  },
  {
   "cell_type": "markdown",
   "id": "cddf8e4b",
   "metadata": {},
   "source": [
    "### Nodes"
   ]
  },
  {
   "cell_type": "code",
   "execution_count": 36,
   "id": "12b429c8",
   "metadata": {},
   "outputs": [],
   "source": [
    "def retrieve(state: State):\n",
    "    \"\"\"문서를 검색합니다.\"\"\"\n",
    "\n",
    "    print(\"---RETRIEVE---\")\n",
    "    documents = retriever.get_relevant_documents(state[\"question\"])\n",
    "    return {\"documents\": documents}\n",
    "\n",
    "\n",
    "def generate(state: State):\n",
    "    \"\"\"답변을 생성합니다.\"\"\"\n",
    "\n",
    "    print(\"---GENERATE---\")\n",
    "    generation = rag_chain.invoke(\n",
    "        {\n",
    "            \"context\": state[\"documents\"],\n",
    "            \"question\": state[\"question\"],\n",
    "        }\n",
    "    )\n",
    "    return {\"generation\": generation}\n",
    "\n",
    "\n",
    "def grade_documents(state: State):\n",
    "    \"\"\"검색된 문서가 질문과 관련이 있는지 여부를 판단합니다.\"\"\"\n",
    "\n",
    "    print(\"---CHECK DOCUMENT RELEVANCE TO QUESTION---\")\n",
    "\n",
    "    filtered_docs = []\n",
    "    for d in state[\"documents\"]:\n",
    "        score = retrieval_grader.invoke(\n",
    "            {\"question\": state[\"question\"], \"document\": d.page_content}\n",
    "        )\n",
    "        grade = score.binary_score\n",
    "        if grade == \"yes\":\n",
    "            print(\"---GRADE: DOCUMENT RELEVANT---\")\n",
    "            filtered_docs.append(d)\n",
    "        else:\n",
    "            print(\"---GRADE: DOCUMENT NOT RELEVANT---\")\n",
    "            continue\n",
    "    return {\"documents\": filtered_docs}\n",
    "\n",
    "\n",
    "def transform_query(state: State):\n",
    "    \"\"\"질문을 더 개선된 형태로 수정합니다.\"\"\"\n",
    "\n",
    "    print(\"---TRANSFORM QUERY---\")\n",
    "    better_question = question_rewriter.invoke({\"question\": state[\"question\"]})\n",
    "    return {\"question\": better_question}"
   ]
  },
  {
   "cell_type": "markdown",
   "id": "13fe3d32",
   "metadata": {},
   "source": [
    "### Edges"
   ]
  },
  {
   "cell_type": "code",
   "execution_count": null,
   "id": "221cb3fa",
   "metadata": {},
   "outputs": [],
   "source": [
    "def decide_to_generate(state: State):\n",
    "    \"\"\"답변을 생성할지, 아니면 질문을 재작성할지 결정합니다.\"\"\"\n",
    "\n",
    "    print(\"---ASSESS GRADED DOCUMENTS---\")\n",
    "    filtered_documents = state[\"documents\"]\n",
    "\n",
    "    if not filtered_documents or len(filtered_documents) == 0:\n",
    "        # 관련 문서가 없으므로 질문을 재작성하세요.\n",
    "        print(\n",
    "            \"---DECISION: ALL DOCUMENTS ARE NOT RELEVANT TO QUESTION, TRANSFORM QUERY---\"\n",
    "        )\n",
    "        return \"transform_query\"\n",
    "    else:\n",
    "        # 관련 문서가 있으므로 답변을 생성하세요.\n",
    "        print(\"---DECISION: GENERATE---\")\n",
    "        return \"generate\"\n",
    "\n",
    "\n",
    "def grade_generation_v_documents_and_question(state: State):\n",
    "    \"\"\"문서에 근거하여 답변이 잘 생성되었는지 여부를 판단합니다.\"\"\"\n",
    "\n",
    "    print(\"---CHECK HALLUCINATIONS---\")\n",
    "\n",
    "    score = hallucination_grader.invoke(\n",
    "        {\"documents\": state[\"documents\"], \"generation\": state[\"generation\"]}\n",
    "    )\n",
    "\n",
    "    # 환각 확인\n",
    "    if score.binary_score == \"yes\":\n",
    "        print(\"---DECISION: GENERATION IS GROUNDED IN DOCUMENTS---\")\n",
    "\n",
    "        # 질문-답변 확인\n",
    "        print(\"---GRADE GENERATION vs QUESTION---\")\n",
    "        score = answer_grader.invoke(\n",
    "            {\"question\": state[\"question\"], \"generation\": state[\"generation\"]}\n",
    "        )\n",
    "\n",
    "        if score.binary_score == \"yes\":\n",
    "            print(\"---DECISION: GENERATION ADDRESSES QUESTION---\")\n",
    "            return \"useful\"\n",
    "        else:\n",
    "            print(\"---DECISION: GENERATION DOES NOT ADDRESS QUESTION---\")\n",
    "            return \"not useful\"\n",
    "    else:\n",
    "        pprint(\"---DECISION: GENERATION IS NOT GROUNDED IN DOCUMENTS, RE-TRY---\")\n",
    "        return \"not supported\""
   ]
  },
  {
   "cell_type": "markdown",
   "id": "966ad2ec",
   "metadata": {},
   "source": [
    "## Build Graph"
   ]
  },
  {
   "cell_type": "code",
   "execution_count": null,
   "id": "a92e49a7",
   "metadata": {},
   "outputs": [],
   "source": [
    "from langgraph.graph import END, StateGraph, START\n",
    "\n",
    "builder = StateGraph(State)\n",
    "\n",
    "builder.add_node(\"retrieve\", retrieve)\n",
    "builder.add_node(\"grade_documents\", grade_documents)\n",
    "builder.add_node(\"generate\", generate)\n",
    "builder.add_node(\"transform_query\", transform_query)\n",
    "\n",
    "builder.add_edge(START, \"retrieve\")\n",
    "builder.add_edge(\"retrieve\", \"grade_documents\")\n",
    "builder.add_conditional_edges(\n",
    "    \"grade_documents\",\n",
    "    decide_to_generate,\n",
    "    {\n",
    "        \"transform_query\": \"transform_query\",\n",
    "        \"generate\": \"generate\",\n",
    "    },\n",
    ")\n",
    "builder.add_edge(\"transform_query\", \"retrieve\")\n",
    "builder.add_conditional_edges(\n",
    "    \"generate\",\n",
    "    grade_generation_v_documents_and_question,\n",
    "    {\n",
    "        \"not supported\": \"generate\",\n",
    "        \"useful\": END,\n",
    "        \"not useful\": \"transform_query\",\n",
    "    },\n",
    ")\n",
    "\n",
    "graph = builder.compile()"
   ]
  },
  {
   "cell_type": "code",
   "execution_count": 30,
   "id": "85862506",
   "metadata": {},
   "outputs": [
    {
     "data": {
      "image/png": "[encoded data removed]",
      "text/plain": [
       "<IPython.core.display.Image object>"
      ]
     },
     "metadata": {},
     "output_type": "display_data"
    }
   ],
   "source": [
    "from IPython.display import display, Image\n",
    "\n",
    "display(Image(graph.get_graph().draw_mermaid_png()))"
   ]
  },
  {
   "cell_type": "code",
   "execution_count": 38,
   "id": "3d23b4ba",
   "metadata": {},
   "outputs": [
    {
     "name": "stdout",
     "output_type": "stream",
     "text": [
      "---RETRIEVE---\n",
      "\"Node 'retrieve':\"\n",
      "'\\n---\\n'\n",
      "---CHECK DOCUMENT RELEVANCE TO QUESTION---\n",
      "---GRADE: DOCUMENT RELEVANT---\n",
      "---GRADE: DOCUMENT RELEVANT---\n",
      "---GRADE: DOCUMENT RELEVANT---\n",
      "---GRADE: DOCUMENT RELEVANT---\n",
      "---ASSESS GRADED DOCUMENTS---\n",
      "---DECISION: GENERATE---\n",
      "\"Node 'grade_documents':\"\n",
      "'\\n---\\n'\n",
      "---GENERATE---\n",
      "---CHECK HALLUCINATIONS---\n",
      "---DECISION: GENERATION IS GROUNDED IN DOCUMENTS---\n",
      "---GRADE GENERATION vs QUESTION---\n",
      "---DECISION: GENERATION ADDRESSES QUESTION---\n",
      "\"Node 'generate':\"\n",
      "'\\n---\\n'\n",
      "('다양한 유형의 에이전트 기억은 크게 감각 기억, 단기 기억, 장기 기억으로 나뉩니다. 감각 기억은 원시 입력(텍스트, 이미지 등)의 '\n",
      " '임베딩 표현을 학습하며, 단기 기억은 모델의 컨텍스트 창 내에서 정보를 일시적으로 저장하고 활용하는 인-컨텍스트 학습 방식입니다. 장기 '\n",
      " '기억은 외부 벡터 저장소를 활용해 무한에 가까운 정보를 장기간 저장하고 빠르게 검색할 수 있도록 지원합니다.')\n"
     ]
    }
   ],
   "source": [
    "from pprint import pprint\n",
    "\n",
    "inputs = {\"question\": \"다양한 유형의 에이전트 기억이 어떻게 작동하는지 설명하십시오.\"}\n",
    "for output in graph.stream(inputs):\n",
    "    for key, value in output.items():\n",
    "        pprint(f\"Node '{key}':\")\n",
    "    pprint(\"\\n---\\n\")\n",
    "\n",
    "pprint(value[\"generation\"])"
   ]
  },
  {
   "cell_type": "code",
   "execution_count": null,
   "id": "0ea66809",
   "metadata": {},
   "outputs": [
    {
     "name": "stdout",
     "output_type": "stream",
     "text": [
      "---RETRIEVE---\n",
      "\"Node 'retrieve':\"\n",
      "'\\n---\\n'\n",
      "---CHECK DOCUMENT RELEVANCE TO QUESTION---\n",
      "---GRADE: DOCUMENT RELEVANT---\n",
      "---GRADE: DOCUMENT RELEVANT---\n",
      "---GRADE: DOCUMENT NOT RELEVANT---\n",
      "---GRADE: DOCUMENT NOT RELEVANT---\n",
      "---ASSESS GRADED DOCUMENTS---\n",
      "---DECISION: GENERATE---\n",
      "\"Node 'grade_documents':\"\n",
      "'\\n---\\n'\n",
      "---GENERATE---\n",
      "---CHECK HALLUCINATIONS---\n",
      "---DECISION: GENERATION IS GROUNDED IN DOCUMENTS---\n",
      "---GRADE GENERATION vs QUESTION---\n",
      "---DECISION: GENERATION ADDRESSES QUESTION---\n",
      "\"Node 'generate':\"\n",
      "'\\n---\\n'\n",
      "('생각의 사슬(Chain of Thought, CoT) 프롬프트는 모델에게 \"단계별로 생각하라\"는 지시를 통해 복잡한 문제를 여러 작은 '\n",
      " '단계로 나누어 해결하도록 유도합니다. 이를 통해 모델이 문제 해결 과정을 명확히 하고 성능을 향상시킬 수 있습니다. 확장된 방법인 '\n",
      " 'Tree of Thoughts는 각 단계에서 여러 사고 가능성을 탐색하며 트리 구조로 문제를 해결합니다.')\n"
     ]
    }
   ],
   "source": [
    "inputs = {\"question\": \"생각의 사슬 프롬프트가 어떻게 작동하는지 설명해 주세요?\"}\n",
    "for output in app.stream(inputs):\n",
    "    for key, value in output.items():\n",
    "        pprint(f\"Node '{key}':\")\n",
    "    pprint(\"\\n---\\n\")\n",
    "\n",
    "pprint(value[\"generation\"])"
   ]
  },
  {
   "cell_type": "code",
   "execution_count": null,
   "id": "3326e259",
   "metadata": {},
   "outputs": [],
   "source": []
  }
 ],
 "metadata": {
  "kernelspec": {
   "display_name": "foundation-introduction-to-langgraph (3.12.11)",
   "language": "python",
   "name": "python3"
  },
  "language_info": {
   "codemirror_mode": {
    "name": "ipython",
    "version": 3
   },
   "file_extension": ".py",
   "mimetype": "text/x-python",
   "name": "python",
   "nbconvert_exporter": "python",
   "pygments_lexer": "ipython3",
   "version": "3.12.11"
  }
 },
 "nbformat": 4,
 "nbformat_minor": 5
}
