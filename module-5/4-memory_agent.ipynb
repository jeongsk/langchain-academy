{
    "cells": [
        {
            "cell_type": "markdown",
            "metadata": {},
            "source": [
                "# 메모리 에이전트"
            ]
        },
        {
            "cell_type": "markdown",
            "metadata": {},
            "source": [
                "## 복습"
            ]
        },
        {
            "cell_type": "markdown",
            "metadata": {},
            "source": [
                "우리는 단일 [사용자 프로필](https://langchain-ai.github.io/langgraph/concepts/memory/#profile) 또는 [컬렉션](https://langchain-ai.github.io/langgraph/concepts/memory/#collection)에 시맨틱 메모리를 저장하는 챗봇을 만들었습니다."
            ]
        },
        {
            "cell_type": "markdown",
            "metadata": {},
            "source": [
                "두 스키마를 업데이트하는 방법으로 [Trustcall](https://github.com/hinthornw/trustcall)을 도입했습니다."
            ]
        },
        {
            "cell_type": "markdown",
            "metadata": {},
            "source": [
                "## 목표"
            ]
        },
        {
            "cell_type": "markdown",
            "metadata": {},
            "source": [
                "이제, 우리는 장기 기억을 가진 [에이전트](https://langchain-ai.github.io/langgraph/concepts/agentic_concepts/)를 만들기 위해 지금까지 배운 것들을 하나로 모을 것입니다."
            ]
        },
        {
            "cell_type": "markdown",
            "metadata": {},
            "source": [
                "우리의 에이전트 `task_mAIstro`는 ToDo 목록 관리를 도와줄 것입니다!"
            ]
        },
        {
            "cell_type": "markdown",
            "metadata": {},
            "source": [
                "이전에 만든 챗봇은 *항상* 대화를 되돌아보고 메모리를 저장했습니다."
            ]
        },
        {
            "cell_type": "markdown",
            "metadata": {},
            "source": [
                "`task_mAIstro`는 메모리(ToDo 목록의 항목)를 *언제* 저장할지 결정할 것입니다."
            ]
        },
        {
            "cell_type": "markdown",
            "metadata": {},
            "source": [
                "이전에 만든 챗봇은 항상 프로필 또는 컬렉션이라는 한 가지 유형의 메모리만 저장했습니다."
            ]
        },
        {
            "cell_type": "markdown",
            "metadata": {},
            "source": [
                "`task_mAIstro`는 사용자 프로필 또는 ToDo 항목 컬렉션 중 하나에 저장하도록 결정할 수 있습니다."
            ]
        },
        {
            "cell_type": "markdown",
            "metadata": {},
            "source": [
                "시맨틱 메모리 외에도, `task_mAIstro`는 절차적 메모리도 관리할 것입니다."
            ]
        },
        {
            "cell_type": "markdown",
            "metadata": {},
            "source": [
                "이를 통해 사용자는 ToDo 항목 생성에 대한 선호도를 업데이트할 수 있습니다."
            ]
        },
        {
            "cell_type": "code",
            "execution_count": null,
            "metadata": {},
            "outputs": [],
            "source": [
                "%%capture --no-stderr\n",
                "\n",
                "%pip install -U langchain_openai langgraph trustcall langchain_core\n",
                "import os, getpass\n",
                "\n",
                "def _set_env(var: str):\n",
                "    # OS 환경에 변수가 설정되어 있는지 확인합니다.\n",
                "    env_value = os.environ.get(var)\n",
                "    if not env_value:\n",
                "        # 설정되지 않은 경우, 사용자에게 입력을 요청합니다.\n",
                "        env_value = getpass.getpass(f\"{var}: \")\n",
                "\n",
                "    # 현재 프로세스에 대한 환경 변수를 설정합니다.\n",
                "    os.environ[var] = env_value\n",
                "\n",
                "\n",
                "_set_env(\"LANGSMITH_API_KEY\")\n",
                "os.environ[\"LANGSMITH_TRACING\"] = \"true\"\n",
                "os.environ[\"LANGSMITH_PROJECT\"] = \"langchain-academy\"\n",
                "_set_env(\"OPENAI_API_KEY\")"
            ]
        },
        {
            "cell_type": "markdown",
            "metadata": {},
            "source": [
                "## Trustcall 업데이트에 대한 가시성"
            ]
        },
        {
            "cell_type": "markdown",
            "metadata": {},
            "source": [
                "Trustcall은 JSON 스키마를 생성하고 업데이트합니다."
            ]
        },
        {
            "cell_type": "markdown",
            "metadata": {},
            "source": [
                "Trustcall이 만든 *구체적인 변경 사항*에 대한 가시성을 확보하고 싶다면 어떻게 해야 할까요?"
            ]
        },
        {
            "cell_type": "markdown",
            "metadata": {},
            "source": [
                "예를 들어, 이전에 Trustcall에 다음과 같은 자체 도구가 있다는 것을 확인했습니다:\n",
                "\n",
                "* 유효성 검사 실패 시 자체 수정 -- [여기서 트레이스 예시 보기](https://smith.langchain.com/public/5cd23009-3e05-4b00-99f0-c66ee3edd06e/r/9684db76-2003-443b-9aa2-9a9dbc5498b7) \n",
                "* 기존 문서 업데이트 -- [여기서 트레이스 예시 보기](https://smith.langchain.com/public/f45bdaf0-6963-4c19-8ec9-f4b7fe0f68ad/r/760f90e1-a5dc-48f1-8c34-79d6a3414ac3)"
            ]
        },
        {
            "cell_type": "markdown",
            "metadata": {},
            "source": [
                "이러한 도구에 대한 가시성은 우리가 만들 에이전트에 유용할 수 있습니다."
            ]
        },
        {
            "cell_type": "markdown",
            "metadata": {},
            "source": [
                "아래에서 이 작업을 수행하는 방법을 보여드리겠습니다!"
            ]
        },
        {
            "cell_type": "code",
            "execution_count": null,
            "metadata": {},
            "outputs": [],
            "source": [
                "from pydantic import BaseModel, Field\n",
                "\n",
                "class Memory(BaseModel):\n",
                "    content: str = Field(\n",
                "        description=\"메모리의 주요 내용입니다. 예: 사용자가 프랑스어 학습에 관심을 보였습니다.\"\n",
                "    )\n",
                "\n",
                "class MemoryCollection(BaseModel):\n",
                "    memories: list[Memory] = Field(description=\"사용자에 대한 메모리 목록입니다.\")"
            ]
        },
        {
            "cell_type": "markdown",
            "metadata": {},
            "source": [
                "Trustcall 추출기에 [리스너](https://python.langchain.com/docs/how_to/lcel_cheatsheet/#add-lifecycle-listeners)를 추가할 수 있습니다."
            ]
        },
        {
            "cell_type": "markdown",
            "metadata": {},
            "source": [
                "이렇게 하면 추출기 실행에서 발생한 실행(run) 정보가 우리가 정의할 `Spy` 클래스로 전달됩니다."
            ]
        },
        {
            "cell_type": "markdown",
            "metadata": {},
            "source": [
                "우리의 `Spy` 클래스는 Trustcall에 의해 어떤 도구 호출이 이루어졌는지에 대한 정보를 추출할 것입니다."
            ]
        },
        {
            "cell_type": "code",
            "execution_count": null,
            "metadata": {},
            "outputs": [],
            "source": [
                "from trustcall import create_extractor\n",
                "from langchain_openai import ChatOpenAI\n",
                "\n",
                "# Trustcall이 호출한 도구를 검사합니다.\n",
                "class Spy:\n",
                "    def __init__(self):\n",
                "        self.called_tools = []\n",
                "\n",
                "    def __call__(self, run):\n",
                "        # 추출기가 호출한 도구에 대한 정보를 수집합니다.\n",
                "        q = [run]\n",
                "        while q:\n",
                "            r = q.pop()\n",
                "            if r.child_runs:\n",
                "                q.extend(r.child_runs)\n",
                "            if r.run_type == \"chat_model\":\n",
                "                self.called_tools.append(\n",
                "                    r.outputs[\"generations\"][0][0][\"message\"][\"kwargs\"][\"tool_calls\"]\n",
                "                )\n",
                "\n",
                "# 스파이를 초기화합니다.\n",
                "spy = Spy()\n",
                "\n",
                "# 모델을 초기화합니다.\n",
                "model = ChatOpenAI(model=\"gpt-4o\", temperature=0)\n",
                "\n",
                "# 추출기를 생성합니다.\n",
                "trustcall_extractor = create_extractor(\n",
                "    model,\n",
                "    tools=[Memory],\n",
                "    tool_choice=\"Memory\",\n",
                "    enable_inserts=True,\n",
                ")\n",
                "\n",
                "# 스파이를 리스너로 추가합니다.\n",
                "trustcall_extractor_see_all_tool_calls = trustcall_extractor.with_listeners(on_end=spy)"
            ]
        },
        {
            "cell_type": "code",
            "execution_count": null,
            "metadata": {},
            "outputs": [],
            "source": [
                "from langchain_core.messages import HumanMessage, SystemMessage, AIMessage\n",
                "\n",
                "# 지시사항\n",
                "instruction = \"\"\"다음 대화에서 메모리를 추출하세요:\"\"\"\n",
                "\n",
                "# 대화\n",
                "conversation = [\n",
                "    HumanMessage(content=\"안녕하세요, 저는 Lance입니다.\"),\n",
                "    AIMessage(content=\"만나서 반갑습니다, Lance.\"),\n",
                "    HumanMessage(content=\"오늘 아침 샌프란시스코에서 즐거운 자전거 라이딩을 했습니다.\"),\n",
                "]\n",
                "\n",
                "# 추출기 호출\n",
                "result = trustcall_extractor.invoke(\n",
                "    {\"messages\": [SystemMessage(content=instruction)] + conversation}\n",
                ")"
            ]
        },
        {
            "cell_type": "code",
            "execution_count": null,
            "metadata": {},
            "outputs": [],
            "source": [
                "# 메시지에는 도구 호출이 포함됩니다.\n",
                "for m in result[\"messages\"]:\n",
                "    m.pretty_print()"
            ]
        },
        {
            "cell_type": "code",
            "execution_count": null,
            "metadata": {},
            "outputs": [],
            "source": [
                "# 응답에는 스키마를 따르는 메모리가 포함됩니다.\n",
                "for m in result[\"responses\"]:\n",
                "    print(m)"
            ]
        },
        {
            "cell_type": "code",
            "execution_count": null,
            "metadata": {},
            "outputs": [],
            "source": [
                "# 메타데이터에는 도구 호출이 포함됩니다.\n",
                "for m in result[\"response_metadata\"]:\n",
                "    print(m)"
            ]
        },
        {
            "cell_type": "code",
            "execution_count": null,
            "metadata": {},
            "outputs": [],
            "source": [
                "# 대화 업데이트\n",
                "updated_conversation = [\n",
                "    AIMessage(content=\"좋네요, 그 후에는 무엇을 하셨나요?\"),\n",
                "    HumanMessage(content=\"Tartine에 가서 크루아상을 먹었어요.\"),\n",
                "    AIMessage(content=\"또 어떤 생각을 하고 계신가요?\"),\n",
                "    HumanMessage(content=\"일본에 대해 생각하고 있었는데, 이번 겨울에 다시 가고 싶어요!\"),\n",
                "]\n",
                "\n",
                "# 지시사항 업데이트\n",
                "system_msg = \"\"\"다음 대화를 기반으로 기존 메모리를 업데이트하고 새 메모리를 만드세요:\"\"\"\n",
                "\n",
                "# 기존 메모리를 저장하고 ID, 키(도구 이름), 값을 부여합니다.\n",
                "tool_name = \"Memory\"\n",
                "existing_memories = (\n",
                "    [\n",
                "        (str(i), tool_name, memory.model_dump())\n",
                "        for i, memory in enumerate(result[\"responses\"])\n",
                "    ]\n",
                "    if result[\"responses\"]\n",
                "    else None\n",
                ")\n",
                "existing_memories"
            ]
        },
        {
            "cell_type": "code",
            "execution_count": null,
            "metadata": {},
            "outputs": [],
            "source": [
                "# 업데이트된 대화와 기존 메모리로 추출기를 호출합니다.\n",
                "result = trustcall_extractor_see_all_tool_calls.invoke(\n",
                "    {\"messages\": updated_conversation, \"existing\": existing_memories}\n",
                ")"
            ]
        },
        {
            "cell_type": "code",
            "execution_count": null,
            "metadata": {},
            "outputs": [],
            "source": [
                "# 메타데이터에는 도구 호출이 포함됩니다.\n",
                "for m in result[\"response_metadata\"]:\n",
                "    print(m)"
            ]
        },
        {
            "cell_type": "code",
            "execution_count": null,
            "metadata": {},
            "outputs": [],
            "source": [
                "# 메시지에는 도구 호출이 포함됩니다.\n",
                "for m in result[\"messages\"]:\n",
                "    m.pretty_print()"
            ]
        },
        {
            "cell_type": "code",
            "execution_count": null,
            "metadata": {},
            "outputs": [],
            "source": [
                "# 파싱된 응답\n",
                "for m in result[\"responses\"]:\n",
                "    print(m)"
            ]
        },
        {
            "cell_type": "code",
            "execution_count": null,
            "metadata": {},
            "outputs": [],
            "source": [
                "# Trustcall이 호출한 도구를 검사합니다.\n",
                "spy.called_tools"
            ]
        },
        {
            "cell_type": "code",
            "execution_count": null,
            "metadata": {},
            "outputs": [],
            "source": [
                "def extract_tool_info(tool_calls, schema_name=\"Memory\"):\n",
                "    \"\"\"패치와 새 메모리 모두에 대한 도구 호출에서 정보를 추출합니다.\n",
                "\n",
                "    Args:\n",
                "        tool_calls: 모델의 도구 호출 목록\n",
                "        schema_name: 스키마 도구의 이름 (예: \"Memory\", \"ToDo\", \"Profile\")\n",
                "    \"\"\"\n",
                "\n",
                "    # 변경 사항 목록 초기화\n",
                "    changes = []\n",
                "\n",
                "    for call_group in tool_calls:\n",
                "        for call in call_group:\n",
                "            if call[\"name\"] == \"PatchDoc\":\n",
                "                changes.append(\n",
                "                    {\n",
                "                        \"type\": \"update\",\n",
                "                        \"doc_id\": call[\"args\"][\"json_doc_id\"],\n",
                "                        \"planned_edits\": call[\"args\"][\"planned_edits\"],\n",
                "                        \"value\": call[\"args\"][\"patches\"][0][\"value\"],\n",
                "                    }\n",
                "                )\n",
                "            elif call[\"name\"] == schema_name:\n",
                "                changes.append({\"type\": \"new\", \"value\": call[\"args\"]})\n",
                "\n",
                "    # 결과를 단일 문자열로 포맷팅\n",
                "    result_parts = []\n",
                "    for change in changes:\n",
                "        if change[\"type\"] == \"update\":\n",
                "            result_parts.append(\n",
                "                f\"문서 {change['doc_id']} 업데이트됨:\\n\"\n",
                "                f\"계획: {change['planned_edits']}\\n\"\n",
                "                f\"추가된 내용: {change['value']}\"\n",
                "            )\n",
                "        else:\n",
                "            result_parts.append(\n",
                "                f\"새 {schema_name} 생성됨:\\n내용: {change['value']}\"\n",
                "            )\n",
                "\n",
                "    return \"\\n\\n\".join(result_parts)"
            ]
        },
        {
            "cell_type": "code",
            "execution_count": null,
            "metadata": {},
            "outputs": [],
            "source": [
                "# spy.called_tools를 검사하여 추출 중에 정확히 무슨 일이 일어났는지 확인합니다.\n",
                "schema_name = \"Memory\"\n",
                "changes = extract_tool_info(spy.called_tools, schema_name)\n",
                "print(changes)"
            ]
        },
        {
            "cell_type": "markdown",
            "metadata": {},
            "source": [
                "## 에이전트 생성"
            ]
        },
        {
            "cell_type": "markdown",
            "metadata": {},
            "source": [
                "선택할 수 있는 다양한 [에이전트](https://langchain-ai.github.io/langgraph/concepts/high_level/) 아키텍처가 많이 있습니다."
            ]
        },
        {
            "cell_type": "markdown",
            "metadata": {},
            "source": [
                "여기서는 간단한 [ReAct](https://langchain-ai.github.io/langgraph/concepts/agentic_concepts/#react-implementation) 에이전트를 구현해 보겠습니다."
            ]
        },
        {
            "cell_type": "markdown",
            "metadata": {},
            "source": [
                "이 에이전트는 ToDo 목록을 생성하고 관리하는 데 도움이 되는 동반자가 될 것입니다."
            ]
        },
        {
            "cell_type": "markdown",
            "metadata": {},
            "source": [
                "이 에이전트는 세 가지 유형의 장기 기억을 업데이트하기로 결정할 수 있습니다: \n",
                "\n",
                "(a) 일반적인 사용자 정보로 사용자 `프로필` 생성 또는 업데이트 \n",
                "\n",
                "(b) ToDo 목록 `컬렉션`에 항목 추가 또는 업데이트\n",
                "\n",
                "(c) ToDo 목록에 항목을 업데이트하는 방법에 대한 자체 `지침` 업데이트"
            ]
        },
        {
            "cell_type": "code",
            "execution_count": null,
            "metadata": {},
            "outputs": [],
            "source": [
                "from typing import TypedDict, Literal\n",
                "\n",
                "# 메모리 업데이트 도구\n",
                "class UpdateMemory(TypedDict):\n",
                "    \"\"\"어떤 메모리 유형을 업데이트할지에 대한 결정\"\"\"\n",
                "\n",
                "    update_type: Literal[\"user\", \"todo\", \"instructions\"]"
            ]
        },
        {
            "cell_type": "code",
            "execution_count": null,
            "metadata": {},
            "outputs": [],
            "source": [
                "_set_env(\"OPENAI_API_KEY\")"
            ]
        },
        {
            "cell_type": "markdown",
            "metadata": {},
            "source": [
                "## 그래프 정의"
            ]
        },
        {
            "cell_type": "markdown",
            "metadata": {},
            "source": [
                "메모리를 저장할지 여부를 이진 결정하는 간단한 라우터 `route_message`를 추가합니다."
            ]
        },
        {
            "cell_type": "markdown",
            "metadata": {},
            "source": [
                "메모리 컬렉션 업데이트는 이전과 같이 `write_memory` 노드에서 `Trustcall`에 의해 처리됩니다!"
            ]
        },
        {
            "cell_type": "code",
            "execution_count": null,
            "metadata": {},
            "outputs": [],
            "source": [
                "import uuid\n",
                "from IPython.display import Image, display\n",
                "from datetime import datetime\n",
                "from trustcall import create_extractor\n",
                "from typing import Optional\n",
                "from pydantic import BaseModel, Field\n",
                "from langchain_core.runnables import RunnableConfig\n",
                "from langchain_core.messages import merge_message_runs, HumanMessage, SystemMessage\n",
                "from langgraph.checkpoint.memory import MemorySaver\n",
                "from langgraph.graph import StateGraph, MessagesState, END, START\n",
                "from langgraph.store.base import BaseStore\n",
                "from langgraph.store.memory import InMemoryStore\n",
                "from langchain_openai import ChatOpenAI\n",
                "\n",
                "# 모델 초기화\n",
                "model = ChatOpenAI(model=\"gpt-4o\", temperature=0)\n",
                "\n",
                "# 사용자 프로필 스키마\n",
                "class Profile(BaseModel):\n",
                "    \"\"\"채팅 중인 사용자의 프로필입니다.\"\"\"\n",
                "\n",
                "    name: Optional[str] = Field(description=\"사용자의 이름\", default=None)\n",
                "    location: Optional[str] = Field(description=\"사용자의 위치\", default=None)\n",
                "    job: Optional[str] = Field(description=\"사용자의 직업\", default=None)\n",
                "    connections: list[str] = Field(\n",
                "        description=\"가족, 친구, 동료 등 사용자의 개인적인 관계\",\n",
                "        default_factory=list,\n",
                "    )\n",
                "    interests: list[str] = Field(\n",
                "        description=\"사용자의 관심사\", default_factory=list\n",
                "    )\n",
                "\n",
                "# ToDo 스키마\n",
                "class ToDo(BaseModel):\n",
                "    task: str = Field(description=\"완료해야 할 작업입니다.\")\n",
                "    time_to_complete: Optional[int] = Field(\n",
                "        description=\"작업을 완료하는 데 예상되는 시간(분)입니다.\"\n",
                "    )\n",
                "    deadline: Optional[datetime] = Field(\n",
                "        description=\"작업을 완료해야 하는 시점(해당하는 경우)\",\n",
                "        default=None,\n",
                "    )\n",
                "    solutions: list[str] = Field(\n",
                "        description=\"구체적이고 실행 가능한 해결책 목록(예: 특정 아이디어, 서비스 제공업체 또는 작업 완료와 관련된 구체적인 옵션)\",\n",
                "        min_items=1,\n",
                "        default_factory=list,\n",
                "    )\n",
                "    status: Literal[\"not started\", \"in progress\", \"done\", \"archived\"] = Field(\n",
                "        description=\"작업의 현재 상태\", default=\"not started\"\n",
                "    )\n",
                "\n",
                "# 사용자 프로필 업데이트를 위한 Trustcall 추출기 생성\n",
                "profile_extractor = create_extractor(\n",
                "    model,\n",
                "    tools=[Profile],\n",
                "    tool_choice=\"Profile\",\n",
                ")\n",
                "\n",
                "# 무엇을 업데이트하고 어떤 도구를 호출할지 선택하기 위한 챗봇 지침\n",
                "MODEL_SYSTEM_MESSAGE = \"\"\"당신은 도움이 되는 챗봇입니다.\n",
                "\n",
                "당신은 사용자의 동반자가 되어 그들이 ToDo 목록을 추적할 수 있도록 돕기 위해 설계되었습니다.\n",
                "\n",
                "당신은 세 가지를 추적하는 장기 기억을 가지고 있습니다:\n",
                "1. 사용자의 프로필 (그들에 대한 일반 정보)\n",
                "2. 사용자의 ToDo 목록\n",
                "3. ToDo 목록 업데이트를 위한 일반 지침\n",
                "\n",
                "현재 사용자 프로필은 다음과 같습니다 (아직 수집된 정보가 없으면 비어 있을 수 있습니다):\n",
                "<user_profile>\n",
                "{user_profile}\n",
                "</user_profile>\n",
                "\n",
                "현재 ToDo 목록은 다음과 같습니다 (아직 추가된 작업이 없으면 비어 있을 수 있습니다):\n",
                "<todo>\n",
                "{todo}\n",
                "</todo>\n",
                "\n",
                "ToDo 목록 업데이트에 대한 현재 사용자 지정 기본 설정은 다음과 같습니다 (아직 지정된 기본 설정이 없으면 비어 있을 수 있습니다):\n",
                "<instructions>\n",
                "{instructions}\n",
                "</instructions>\n",
                "\n",
                "사용자 메시지에 대해 추론하기 위한 지침은 다음과 같습니다:\n",
                "\n",
                "1. 아래에 제시된 사용자 메시지에 대해 신중하게 추론하십시오.\n",
                "\n",
                "2. 장기 기억 중 어느 것이든 업데이트해야 하는지 결정하십시오:\n",
                "- 사용자에 대한 개인 정보가 제공된 경우, `user` 유형으로 UpdateMemory 도구를 호출하여 사용자 프로필을 업데이트하십시오.\n",
                "- 작업이 언급된 경우, `todo` 유형으로 UpdateMemory 도구를 호출하여 ToDo 목록을 업데이트하십시오.\n",
                "- 사용자가 ToDo 목록 업데이트 방법에 대한 기본 설정을 지정한 경우, `instructions` 유형으로 UpdateMemory 도구를 호출하여 지침을 업데이트하십시오.\n",
                "\n",
                "3. 적절한 경우, 기억을 업데이트했다고 사용자에게 알리십시오:\n",
                "- 사용자 프로필을 업데이트했다고 사용자에게 알리지 마십시오.\n",
                "- ToDo 목록을 업데이트할 때 사용자에게 알리십시오.\n",
                "- 지침을 업데이트했다고 사용자에게 알리지 마십시오.\n",
                "\n",
                "4. ToDo 목록을 업데이트하는 쪽으로 하십시오. 명시적인 허가를 요청할 필요가 없습니다.\n",
                "\n",
                "5. 메모리를 저장하기 위해 도구 호출이 이루어졌거나 도구 호출이 이루어지지 않은 경우, 사용자에게 자연스럽게 응답하십시오.\"\"\"\n",
                "\n",
                "# Trustcall 지침\n",
                "TRUSTCALL_INSTRUCTION = \"\"\"다음 상호 작용을 되돌아보십시오.\n",
                "\n",
                "제공된 도구를 사용하여 사용자에 대한 필요한 모든 기억을 유지하십시오.\n",
                "\n",
                "병렬 도구 호출을 사용하여 업데이트와 삽입을 동시에 처리하십시오.\n",
                "\n",
                "시스템 시간: {time}\"\"\"\n",
                "\n",
                "# ToDo 목록 업데이트 지침\n",
                "CREATE_INSTRUCTIONS = \"\"\"다음 상호 작용을 되돌아보십시오.\n",
                "\n",
                "이 상호 작용을 기반으로 ToDo 목록 항목을 업데이트하는 방법에 대한 지침을 업데이트하십시오.\n",
                "\n",
                "사용자의 피드백을 사용하여 항목 추가 방식 등을 업데이트하십시오.\n",
                "\n",
                "현재 지침은 다음과 같습니다:\n",
                "\n",
                "<current_instructions>\n",
                "{current_instructions}\n",
                "</current_instructions>\"\"\"\n",
                "\n",
                "# 노드 정의\n",
                "def task_mAIstro(state: MessagesState, config: RunnableConfig, store: BaseStore):\n",
                "    \"\"\"저장소에서 메모리를 로드하고 이를 사용하여 챗봇의 응답을 개인화합니다.\"\"\"\n",
                "\n",
                "    # config에서 사용자 ID 가져오기\n",
                "    user_id = config[\"configurable\"][\"user_id\"]\n",
                "\n",
                "    # 저장소에서 프로필 메모리 검색\n",
                "    namespace = (\"profile\", user_id)\n",
                "    memories = store.search(namespace)\n",
                "    if memories:\n",
                "        user_profile = memories[0].value\n",
                "    else:\n",
                "        user_profile = None\n",
                "\n",
                "    # 저장소에서 작업 메모리 검색\n",
                "    namespace = (\"todo\", user_id)\n",
                "    memories = store.search(namespace)\n",
                "    todo = \"\\n\".join(f\"{mem.value}\" for mem in memories)\n",
                "\n",
                "    # 사용자 지정 지침 검색\n",
                "    namespace = (\"instructions\", user_id)\n",
                "    memories = store.search(namespace)\n",
                "    if memories:\n",
                "        instructions = memories[0].value\n",
                "    else:\n",
                "        instructions = \"\"\n",
                "\n",
                "    system_msg = MODEL_SYSTEM_MESSAGE.format(\n",
                "        user_profile=user_profile, todo=todo, instructions=instructions\n",
                "    )\n",
                "\n",
                "    # 메모리와 채팅 기록을 사용하여 응답\n",
                "    response = model.bind_tools([UpdateMemory], parallel_tool_calls=False).invoke(\n",
                "        [SystemMessage(content=system_msg)] + state[\"messages\"]\n",
                "    )\n",
                "\n",
                "    return {\"messages\": [response]}\n",
                "\n",
                "def update_profile(state: MessagesState, config: RunnableConfig, store: BaseStore):\n",
                "    \"\"\"채팅 기록을 되돌아보고 메모리 컬렉션을 업데이트합니다.\"\"\"\n",
                "\n",
                "    # config에서 사용자 ID 가져오기\n",
                "    user_id = config[\"configurable\"][\"user_id\"]\n",
                "\n",
                "    # 메모리의 네임스페이스 정의\n",
                "    namespace = (\"profile\", user_id)\n",
                "\n",
                "    # 컨텍스트를 위해 가장 최근 메모리 검색\n",
                "    existing_items = store.search(namespace)\n",
                "\n",
                "    # Trustcall 추출기를 위해 기존 메모리 포맷팅\n",
                "    tool_name = \"Profile\"\n",
                "    existing_memories = (\n",
                "        [\n",
                "            (existing_item.key, tool_name, existing_item.value)\n",
                "            for existing_item in existing_items\n",
                "        ]\n",
                "        if existing_items\n",
                "        else None\n",
                "    )\n",
                "\n",
                "    # 채팅 기록과 지침 병합\n",
                "    TRUSTCALL_INSTRUCTION_FORMATTED = TRUSTCALL_INSTRUCTION.format(\n",
                "        time=datetime.now().isoformat()\n",
                "    )\n",
                "    updated_messages = list(\n",
                "        merge_message_runs(\n",
                "            messages=[SystemMessage(content=TRUSTCALL_INSTRUCTION_FORMATTED)]\n",
                "            + state[\"messages\"][:-1]\n",
                "        )\n",
                "    )\n",
                "\n",
                "    # 추출기 호출\n",
                "    result = profile_extractor.invoke(\n",
                "        {\"messages\": updated_messages, \"existing\": existing_memories}\n",
                "    )\n",
                "\n",
                "    # Trustcall의 메모리를 저장소에 저장\n",
                "    for r, rmeta in zip(result[\"responses\"], result[\"response_metadata\"]):\n",
                "        store.put(\n",
                "            namespace,\n",
                "            rmeta.get(\"json_doc_id\", str(uuid.uuid4())),\n",
                "            r.model_dump(mode=\"json\"),\n",
                "        )\n",
                "    tool_calls = state[\"messages\"][-1].tool_calls\n",
                "    return {\n",
                "        \"messages\": [\n",
                "            {\n",
                "                \"role\": \"tool\",\n",
                "                \"content\": \"updated profile\",\n",
                "                \"tool_call_id\": tool_calls[0][\"id\"],\n",
                "            }\n",
                "        ]\n",
                "    }\n",
                "\n",
                "def update_todos(state: MessagesState, config: RunnableConfig, store: BaseStore):\n",
                "    \"\"\"채팅 기록을 되돌아보고 메모리 컬렉션을 업데이트합니다.\"\"\"\n",
                "\n",
                "    # config에서 사용자 ID 가져오기\n",
                "    user_id = config[\"configurable\"][\"user_id\"]\n",
                "\n",
                "    # 메모리의 네임스페이스 정의\n",
                "    namespace = (\"todo\", user_id)\n",
                "\n",
                "    # 컨텍스트를 위해 가장 최근 메모리 검색\n",
                "    existing_items = store.search(namespace)\n",
                "\n",
                "    # Trustcall 추출기를 위해 기존 메모리 포맷팅\n",
                "    tool_name = \"ToDo\"\n",
                "    existing_memories = (\n",
                "        [\n",
                "            (existing_item.key, tool_name, existing_item.value)\n",
                "            for existing_item in existing_items\n",
                "        ]\n",
                "        if existing_items\n",
                "        else None\n",
                "    )\n",
                "\n",
                "    # 채팅 기록과 지침 병합\n",
                "    TRUSTCALL_INSTRUCTION_FORMATTED = TRUSTCALL_INSTRUCTION.format(\n",
                "        time=datetime.now().isoformat()\n",
                "    )\n",
                "    updated_messages = list(\n",
                "        merge_message_runs(\n",
                "            messages=[SystemMessage(content=TRUSTCALL_INSTRUCTION_FORMATTED)]\n",
                "            + state[\"messages\"][:-1]\n",
                "        )\n",
                "    )\n",
                "\n",
                "    # Trustcall이 호출한 도구에 대한 가시성을 위해 스파이 초기화\n",
                "    spy = Spy()\n",
                "\n",
                "    # ToDo 목록 업데이트를 위한 Trustcall 추출기 생성\n",
                "    todo_extractor = create_extractor(\n",
                "        model, tools=[ToDo], tool_choice=tool_name, enable_inserts=True\n",
                "    ).with_listeners(on_end=spy)\n",
                "\n",
                "    # 추출기 호출\n",
                "    result = todo_extractor.invoke(\n",
                "        {\"messages\": updated_messages, \"existing\": existing_memories}\n",
                "    )\n",
                "\n",
                "    # Trustcall의 메모리를 저장소에 저장\n",
                "    for r, rmeta in zip(result[\"responses\"], result[\"response_metadata\"]):\n",
                "        store.put(\n",
                "            namespace,\n",
                "            rmeta.get(\"json_doc_id\", str(uuid.uuid4())),\n",
                "            r.model_dump(mode=\"json\"),\n",
                "        )\n",
                "\n",
                "    # task_mAIstro에서 이루어진 도구 호출에 응답하여 업데이트 확인\n",
                "    tool_calls = state[\"messages\"][-1].tool_calls\n",
                "\n",
                "    # Trustcall이 만든 변경 사항을 추출하고 task_mAIstro로 반환된 ToolMessage에 추가\n",
                "    todo_update_msg = extract_tool_info(spy.called_tools, tool_name)\n",
                "    return {\n",
                "        \"messages\": [\n",
                "            {\n",
                "                \"role\": \"tool\",\n",
                "                \"content\": todo_update_msg,\n",
                "                \"tool_call_id\": tool_calls[0][\"id\"],\n",
                "            }\n",
                "        ]\n",
                "    }\n",
                "\n",
                "def update_instructions(state: MessagesState, config: RunnableConfig, store: BaseStore):\n",
                "    \"\"\"채팅 기록을 되돌아보고 메모리 컬렉션을 업데이트합니다.\"\"\"\n",
                "\n",
                "    # config에서 사용자 ID 가져오기\n",
                "    user_id = config[\"configurable\"][\"user_id\"]\n",
                "\n",
                "    namespace = (\"instructions\", user_id)\n",
                "\n",
                "    existing_memory = store.get(namespace, \"user_instructions\")\n",
                "\n",
                "    # 시스템 프롬프트에서 메모리 포맷팅\n",
                "    system_msg = CREATE_INSTRUCTIONS.format(\n",
                "        current_instructions=existing_memory.value if existing_memory else None\n",
                "    )\n",
                "    new_memory = model.invoke(\n",
                "        [SystemMessage(content=system_msg)]\n",
                "        + state[\"messages\"][:-1]\n",
                "        + [\n",
                "            HumanMessage(\n",
                "                content=\"대화를 기반으로 지침을 업데이트해 주세요.\"\n",
                "            )\n",
                "        ]\n",
                "    )\n",
                "\n",
                "    # 저장소의 기존 메모리를 덮어쓰기\n",
                "    key = \"user_instructions\"\n",
                "    store.put(namespace, key, {\"memory\": new_memory.content})\n",
                "    tool_calls = state[\"messages\"][-1].tool_calls\n",
                "    return {\n",
                "        \"messages\": [\n",
                "            {\n",
                "                \"role\": \"tool\",\n",
                "                \"content\": \"updated instructions\",\n",
                "                \"tool_call_id\": tool_calls[0][\"id\"],\n",
                "            }\n",
                "        ]\n",
                "    }\n",
                "\n",
                "# 조건부 엣지\n",
                "def route_message(\n",
                "    state: MessagesState, config: RunnableConfig, store: BaseStore\n",
                ") -> Literal[END, \"update_todos\", \"update_instructions\", \"update_profile\"]:\n",
                "    \"\"\"메모리와 채팅 기록을 되돌아보고 메모리 컬렉션을 업데이트할지 여부를 결정합니다.\"\"\"\n",
                "    message = state[\"messages\"][-1]\n",
                "    if len(message.tool_calls) == 0:\n",
                "        return END\n",
                "    else:\n",
                "        tool_call = message.tool_calls[0]\n",
                "        if tool_call[\"args\"][\"update_type\"] == \"user\":\n",
                "            return \"update_profile\"\n",
                "        elif tool_call[\"args\"][\"update_type\"] == \"todo\":\n",
                "            return \"update_todos\"\n",
                "        elif tool_call[\"args\"][\"update_type\"] == \"instructions\":\n",
                "            return \"update_instructions\"\n",
                "        else:\n",
                "            raise ValueError\n",
                "\n",
                "# 그래프 + 모든 노드 생성\n",
                "builder = StateGraph(MessagesState)\n",
                "\n",
                "# 메모리 추출 프로세스의 흐름 정의\n",
                "builder.add_node(task_mAIstro)\n",
                "builder.add_node(update_todos)\n",
                "builder.add_node(update_profile)\n",
                "builder.add_node(update_instructions)\n",
                "builder.add_edge(START, \"task_mAIstro\")\n",
                "builder.add_conditional_edges(\"task_mAIstro\", route_message)\n",
                "builder.add_edge(\"update_todos\", \"task_mAIstro\")\n",
                "builder.add_edge(\"update_profile\", \"task_mAIstro\")\n",
                "builder.add_edge(\"update_instructions\", \"task_mAIstro\")\n",
                "\n",
                "# 장기(스레드 간) 메모리 저장소\n",
                "across_thread_memory = InMemoryStore()\n",
                "\n",
                "# 단기(스레드 내) 메모리 체크포인터\n",
                "within_thread_memory = MemorySaver()\n",
                "\n",
                "# 체크포인터와 저장소로 그래프 컴파일\n",
                "graph = builder.compile(checkpointer=within_thread_memory, store=across_thread_memory)\n",
                "\n",
                "# 보기\n",
                "display(Image(graph.get_graph(xray=1).draw_mermaid_png()))"
            ]
        },
        {
            "cell_type": "code",
            "execution_count": null,
            "metadata": {},
            "outputs": [],
            "source": [
                "# 단기(스레드 내) 메모리를 위해 스레드 ID 제공\n",
                "# 장기(스레드 간) 메모리를 위해 사용자 ID 제공\n",
                "config = {\"configurable\": {\"thread_id\": \"1\", \"user_id\": \"Lance\"}}\n",
                "\n",
                "# 프로필 메모리 생성을 위한 사용자 입력\n",
                "input_messages = [\n",
                "    HumanMessage(\n",
                "        content=\"제 이름은 Lance입니다. 저는 아내와 함께 SF에 살고 있습니다. 1살 된 딸이 있습니다.\"\n",
                "    )\n",
                "]\n",
                "\n",
                "# 그래프 실행\n",
                "for chunk in graph.stream({\"messages\": input_messages}, config, stream_mode=\"values\"):\n",
                "    chunk[\"messages\"][-1].pretty_print()"
            ]
        },
        {
            "cell_type": "code",
            "execution_count": null,
            "metadata": {},
            "outputs": [],
            "source": [
                "# ToDo에 대한 사용자 입력\n",
                "input_messages = [\n",
                "    HumanMessage(content=\"아내가 아기 수영 강습을 예약해달라고 했어요.\")\n",
                "]\n",
                "\n",
                "# 그래프 실행\n",
                "for chunk in graph.stream({\"messages\": input_messages}, config, stream_mode=\"values\"):\n",
                "    chunk[\"messages\"][-1].pretty_print()"
            ]
        },
        {
            "cell_type": "code",
            "execution_count": null,
            "metadata": {},
            "outputs": [],
            "source": [
                "# ToDo 생성을 위한 지침 업데이트를 위한 사용자 입력\n",
                "input_messages = [\n",
                "    HumanMessage(\n",
                "        content=\"ToDo 항목을 생성하거나 업데이트할 때, 특정 지역 업체/공급업체를 포함해 주세요.\"\n",
                "    )\n",
                "]\n",
                "\n",
                "# 그래프 실행\n",
                "for chunk in graph.stream({\"messages\": input_messages}, config, stream_mode=\"values\"):\n",
                "    chunk[\"messages\"][-1].pretty_print()"
            ]
        },
        {
            "cell_type": "code",
            "execution_count": null,
            "metadata": {},
            "outputs": [],
            "source": [
                "# 업데이트된 지침 확인\n",
                "user_id = \"Lance\"\n",
                "\n",
                "# 검색\n",
                "for memory in across_thread_memory.search((\"instructions\", user_id)):\n",
                "    print(memory.value)"
            ]
        },
        {
            "cell_type": "code",
            "execution_count": null,
            "metadata": {},
            "outputs": [],
            "source": [
                "# ToDo에 대한 사용자 입력\n",
                "input_messages = [\n",
                "    HumanMessage(content=\"문에 걸린 예일 전동 잠금장치를 고쳐야 해요.\")\n",
                "]\n",
                "\n",
                "# 그래프 실행\n",
                "for chunk in graph.stream({\"messages\": input_messages}, config, stream_mode=\"values\"):\n",
                "    chunk[\"messages\"][-1].pretty_print()"
            ]
        },
        {
            "cell_type": "code",
            "execution_count": null,
            "metadata": {},
            "outputs": [],
            "source": [
                "# 저장할 메모리의 네임스페이스\n",
                "user_id = \"Lance\"\n",
                "\n",
                "# 검색\n",
                "for memory in across_thread_memory.search((\"todo\", user_id)):\n",
                "    print(memory.value)"
            ]
        },
        {
            "cell_type": "code",
            "execution_count": null,
            "metadata": {},
            "outputs": [],
            "source": [
                "# 기존 ToDo 업데이트를 위한 사용자 입력\n",
                "input_messages = [\n",
                "    HumanMessage(\n",
                "        content=\"수영 강습은 11월 말까지 끝내야 해요.\"\n",
                "    )\n",
                "]\n",
                "\n",
                "# 그래프 실행\n",
                "for chunk in graph.stream({\"messages\": input_messages}, config, stream_mode=\"values\"):\n",
                "    chunk[\"messages\"][-1].pretty_print()"
            ]
        },
        {
            "cell_type": "markdown",
            "metadata": {},
            "source": [
                "Trustcall이 기존 메모리의 패치를 수행하는 것을 볼 수 있습니다:\n",
                "\n",
                "https://smith.langchain.com/public/4ad3a8af-3b1e-493d-b163-3111aa3d575a/r"
            ]
        },
        {
            "cell_type": "code",
            "execution_count": null,
            "metadata": {},
            "outputs": [],
            "source": [
                "# ToDo에 대한 사용자 입력\n",
                "input_messages = [\n",
                "    HumanMessage(content=\"City Toyota에 다시 전화해서 차량 서비스를 예약해야 해요.\")\n",
                "]\n",
                "\n",
                "# 그래프 실행\n",
                "for chunk in graph.stream({\"messages\": input_messages}, config, stream_mode=\"values\"):\n",
                "    chunk[\"messages\"][-1].pretty_print()"
            ]
        },
        {
            "cell_type": "code",
            "execution_count": null,
            "metadata": {},
            "outputs": [],
            "source": [
                "# 저장할 메모리의 네임스페이스\n",
                "user_id = \"Lance\"\n",
                "\n",
                "# 검색\n",
                "for memory in across_thread_memory.search((\"todo\", user_id)):\n",
                "    print(memory.value)"
            ]
        },
        {
            "cell_type": "markdown",
            "metadata": {},
            "source": [
                "이제 새 스레드를 만들 수 있습니다.\n",
                "\n",
                "이렇게 하면 새 세션이 생성됩니다.\n",
                "\n",
                "장기 기억에 저장된 프로필, ToDo 및 지침에 액세스합니다."
            ]
        },
        {
            "cell_type": "code",
            "execution_count": null,
            "metadata": {},
            "outputs": [],
            "source": [
                "# 단기(스레드 내) 메모리를 위해 스레드 ID 제공\n",
                "# 장기(스레드 간) 메모리를 위해 사용자 ID 제공\n",
                "config = {\"configurable\": {\"thread_id\": \"2\", \"user_id\": \"Lance\"}}\n",
                "\n",
                "# 챗봇과 채팅\n",
                "input_messages = [HumanMessage(content=\"30분 시간이 있는데, 어떤 작업을 할 수 있을까요?\")]\n",
                "\n",
                "# 그래프 실행\n",
                "for chunk in graph.stream({\"messages\": input_messages}, config, stream_mode=\"values\"):\n",
                "    chunk[\"messages\"][-1].pretty_print()"
            ]
        },
        {
            "cell_type": "code",
            "execution_count": null,
            "metadata": {},
            "outputs": [],
            "source": [
                "# 챗봇과 채팅\n",
                "input_messages = [\n",
                "    HumanMessage(content=\"네, 수영 강습을 위해 전화할 만한 곳 몇 군데 알려주세요.\")\n",
                "]\n",
                "\n",
                "# 그래프 실행\n",
                "for chunk in graph.stream({\"messages\": input_messages}, config, stream_mode=\"values\"):\n",
                "    chunk[\"messages\"][-1].pretty_print()"
            ]
        },
        {
            "cell_type": "markdown",
            "metadata": {},
            "source": [
                "트레이스:\n",
                "\n",
                "https://smith.langchain.com/public/84768705-be91-43e4-8a6f-f9d3cee93782/r"
            ]
        },
        {
            "cell_type": "markdown",
            "metadata": {},
            "source": [
                "## 스튜디오\n",
                "\n",
                "![Screenshot 2024-11-04 at 1.00.19 PM.png](https://cdn.prod.website-files.com/65b8cd72835ceeacd4449a53/6732cfb05d9709862eba4e6c_Screenshot%202024-11-11%20at%207.46.40%E2%80%AFPM.png)"
            ]
        }
    ],
    "metadata": {
        "kernelspec": {
            "display_name": "Python 3",
            "language": "python",
            "name": "python3"
        },
        "language_info": {
            "codemirror_mode": {
                "name": "ipython",
                "version": 3
            },
            "file_extension": ".py",
            "mimetype": "text/x-python",
            "name": "python",
            "nbconvert_exporter": "python",
            "pygments_lexer": "ipython3",
            "version": "3.10.9"
        }
    },
    "nbformat": 4,
    "nbformat_minor": 4
}